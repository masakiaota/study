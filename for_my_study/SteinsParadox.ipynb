{
 "cells": [
  {
   "cell_type": "markdown",
   "metadata": {},
   "source": [
    "### Stein's Paradoxを実装する\n",
    "Stein's Paradox...不偏推定量じゃない推定量で平均二乗誤差がより小さい推定量が存在する。"
   ]
  },
  {
   "cell_type": "markdown",
   "metadata": {},
   "source": [
    "まずは適当に実装"
   ]
  },
  {
   "cell_type": "code",
   "execution_count": null,
   "metadata": {},
   "outputs": [],
   "source": [
    "import numpy as np\n",
    "from tqdm import tqdm as t"
   ]
  },
  {
   "cell_type": "code",
   "execution_count": null,
   "metadata": {},
   "outputs": [],
   "source": [
    "def sample(n_trial,y_true):\n",
    "    '''\n",
    "    sample generator\n",
    "    '''\n",
    "    col1=np.random.normal(loc=y_true[0,0],size=(n_trial,1))\n",
    "    col2=np.random.normal(loc=y_true[0,1],size=(n_trial,1))\n",
    "    col3=np.random.normal(loc=y_true[0,2],size=(n_trial,1))\n",
    "    return np.hstack([col1,col2,col3])\n",
    "\n",
    "def james_stein(X):\n",
    "    '''\n",
    "    parameters\n",
    "    ----------\n",
    "    X : np.ndarray. X.shape is (n_trial, 3).\n",
    "    \n",
    "    returns\n",
    "    ----------\n",
    "    theta_js : np.ndarray. james stein estimates. shape is (n_trial, 3)\n",
    "    \n",
    "    '''\n",
    "    return (1-(1/(X**2).sum(axis=1,keepdims=True)))*X\n",
    "\n",
    "def mse(y_true, y_pred):\n",
    "    '''\n",
    "    parameters\n",
    "    ----------\n",
    "    y_true : np.ndarray. shape is (1,3)\n",
    "    y_pred : np.ndarray. shape is (n_trial,3)\n",
    "    \n",
    "    returns\n",
    "    ----------\n",
    "    mean squared error of each dimension\n",
    "    (1次元目のmse, 2次元目の平均mse, 3次元目のmse)\n",
    "    '''\n",
    "    return ((y_true - y_pred)**2).mean(axis=0)\n",
    "    \n",
    "#     return ((y_true - y_pred)**2).sum(axis=1).mean()"
   ]
  },
  {
   "cell_type": "code",
   "execution_count": null,
   "metadata": {},
   "outputs": [],
   "source": [
    "def js_mse(n_trial, true):\n",
    "    X=sample(n_trial,true) #10*7程度が手元の計算機のメモリの限界\n",
    "    js=james_stein(X)\n",
    "    return mse(true,js)\n",
    "\n",
    "def ub_mse(n_trual, true):\n",
    "    X=sample(n_trual,true) #10*7程度が手元の計算機のメモリの限界\n",
    "    return mse(true,X)"
   ]
  },
  {
   "cell_type": "code",
   "execution_count": null,
   "metadata": {},
   "outputs": [],
   "source": [
    "def get_result(n_trial):\n",
    "    '''\n",
    "    return\n",
    "    ----------\n",
    "    mu1 ... [-20,31)まで一つずつ\n",
    "    result_ub ... unbaised の mu1に対応する各次元の平均二乗誤差\n",
    "    result_js ... james stein の mu1に対応する各次元の平均二乗誤差\n",
    "    '''\n",
    "    mu1,mu2,mu3=np.arange(-20,31),3,7\n",
    "    result_ub=[]\n",
    "    result_js=[]\n",
    "    for m1 in t(mu1):\n",
    "        true=np.array([[m1,mu2,mu3]])\n",
    "        result_js.append(js_mse(n_trial,true))\n",
    "        result_ub.append(ub_mse(n_trial,true))\n",
    "        \n",
    "    return mu1, np.array(result_ub), np.array(result_js)"
   ]
  },
  {
   "cell_type": "code",
   "execution_count": null,
   "metadata": {},
   "outputs": [],
   "source": [
    "mu1, result_ub, result_js=get_result(10**6)"
   ]
  },
  {
   "cell_type": "code",
   "execution_count": null,
   "metadata": {},
   "outputs": [],
   "source": [
    "import matplotlib.pyplot as plt\n",
    "%matplotlib inline\n",
    "\n",
    "#あとでretina\n",
    "import seaborn as sns\n",
    "sns.set()"
   ]
  },
  {
   "cell_type": "code",
   "execution_count": null,
   "metadata": {},
   "outputs": [],
   "source": [
    "plt.plot(mu1,result_js.sum(axis=1),marker='.',linestyle='None',label='James-Stein')\n",
    "plt.plot(mu1,result_ub.sum(axis=1),marker='.',linestyle='None',label='Unbiased')\n",
    "plt.legend();"
   ]
  },
  {
   "cell_type": "code",
   "execution_count": null,
   "metadata": {},
   "outputs": [],
   "source": [
    "plt.plot(mu1,result_js[:,0],marker='.',linestyle='None',label='mu_1')\n",
    "plt.plot(mu1,result_js[:,1],marker='.',linestyle='None',label='mu_2')\n",
    "plt.plot(mu1,result_js[:,2],marker='.',linestyle='None',label='mu_3')\n",
    "plt.legend();"
   ]
  }
 ],
 "metadata": {
  "kernelspec": {
   "display_name": "Python 3",
   "language": "python",
   "name": "python3"
  },
  "language_info": {
   "codemirror_mode": {
    "name": "ipython",
    "version": 3
   },
   "file_extension": ".py",
   "mimetype": "text/x-python",
   "name": "python",
   "nbconvert_exporter": "python",
   "pygments_lexer": "ipython3",
   "version": "3.6.7"
  }
 },
 "nbformat": 4,
 "nbformat_minor": 2
}
