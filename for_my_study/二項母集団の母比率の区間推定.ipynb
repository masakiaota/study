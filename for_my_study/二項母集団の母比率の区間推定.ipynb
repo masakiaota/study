{
 "cells": [
  {
   "cell_type": "markdown",
   "metadata": {},
   "source": [
    "$$X_1, ... ,X_n  \\sim^{i.i.d.} Be(p)$$\n",
    "$$S_n=\\sum_{i}^{n} X_i (\\sim \\mathcal{B}(n,p))$$\n",
    "$S_n$の実現値を$s$とするとき、\n",
    "ベルヌーイ分布のパラメーター推定値$\\hat{p}$の信頼区間の下限を求める。\n",
    "\n",
    "**データ**:\n",
    "n回施行して、s回成功した。\n",
    "\n",
    "**求めたいもの**:\n",
    "推定された成功確率$\\hat{p}$の信頼区間の下限 (信頼係数1-ε)"
   ]
  },
  {
   "cell_type": "code",
   "execution_count": 1,
   "metadata": {},
   "outputs": [],
   "source": [
    "from scipy.stats import f as F\n",
    "import numpy as np\n",
    "from typing import Union"
   ]
  },
  {
   "cell_type": "code",
   "execution_count": 2,
   "metadata": {},
   "outputs": [],
   "source": [
    "def confidence_interval_left(n:Union[int,np.ndarray], #サンプル数\n",
    "                             s:Union[int,np.ndarray], #成功回数\n",
    "                             eps=0.1)->Union[int,np.ndarray]: #両側棄却域の大きさ\n",
    "    assert type(n)==type(s)\n",
    "    if not isinstance(n,int):\n",
    "        acceptable = [np.int8,np.int16,np.int32,np.int64,np.uint8,np.uint16,np.uint32,np.uint64]\n",
    "        assert n.dtype in acceptable and s.dtype in acceptable\n",
    "\n",
    "    denominator=s+(n-s+1)*F.ppf(1-eps/2,dfn=2*(n-s+1), dfd=2*s)\n",
    "    numerator=s\n",
    "    return numerator/denominator"
   ]
  },
  {
   "cell_type": "code",
   "execution_count": 3,
   "metadata": {},
   "outputs": [],
   "source": [
    "def p_hat(n:Union[int,np.ndarray],\n",
    "          s:Union[int,np.ndarray]):\n",
    "    return s/n"
   ]
  },
  {
   "cell_type": "code",
   "execution_count": 4,
   "metadata": {},
   "outputs": [],
   "source": [
    "n=np.array([35,35,35])\n",
    "s=np.array([6,1,34])"
   ]
  },
  {
   "cell_type": "code",
   "execution_count": 5,
   "metadata": {},
   "outputs": [
    {
     "data": {
      "text/plain": [
       "dtype('int64')"
      ]
     },
     "execution_count": 5,
     "metadata": {},
     "output_type": "execute_result"
    }
   ],
   "source": [
    "n.dtype"
   ]
  },
  {
   "cell_type": "code",
   "execution_count": 6,
   "metadata": {},
   "outputs": [
    {
     "data": {
      "text/plain": [
       "array([0.17142857, 0.02857143, 0.97142857])"
      ]
     },
     "execution_count": 6,
     "metadata": {},
     "output_type": "execute_result"
    }
   ],
   "source": [
    "p_hat(n,s) #ok"
   ]
  },
  {
   "cell_type": "code",
   "execution_count": 7,
   "metadata": {},
   "outputs": [
    {
     "data": {
      "text/plain": [
       "array([0.07739442, 0.00146445, 0.87149896])"
      ]
     },
     "execution_count": 7,
     "metadata": {},
     "output_type": "execute_result"
    }
   ],
   "source": [
    "confidence_interval_left(n,s) #ok"
   ]
  },
  {
   "cell_type": "code",
   "execution_count": null,
   "metadata": {},
   "outputs": [],
   "source": []
  },
  {
   "cell_type": "markdown",
   "metadata": {},
   "source": [
    "上限も求める"
   ]
  },
  {
   "cell_type": "code",
   "execution_count": 8,
   "metadata": {},
   "outputs": [],
   "source": [
    "def confidence_interval_right(n:Union[int,np.ndarray], #サンプル数\n",
    "                             s:Union[int,np.ndarray], #成功回数\n",
    "                             eps=0.1)->Union[int,np.ndarray]: #両側棄却域の大きさ\n",
    "    assert type(n)==type(s)\n",
    "    if not isinstance(n,int):\n",
    "        acceptable = [np.int8,np.int16,np.int32,np.int64,np.uint8,np.uint16,np.uint32,np.uint64]\n",
    "        assert n.dtype in acceptable and s.dtype in acceptable\n",
    "\n",
    "    denominator=n-s+(s+1)*F.ppf(1-eps/2, dfn=2*(s+1), dfd=2*(n-s))\n",
    "    numerator=(s+1)*F.ppf(1-eps/2,dfn=2*(s+1), dfd=2*(n-s))\n",
    "    return numerator/denominator"
   ]
  },
  {
   "cell_type": "code",
   "execution_count": 9,
   "metadata": {},
   "outputs": [
    {
     "data": {
      "text/plain": [
       "array([0.31056417, 0.12850104, 0.99853555])"
      ]
     },
     "execution_count": 9,
     "metadata": {},
     "output_type": "execute_result"
    }
   ],
   "source": [
    "confidence_interval_right(n,s) #okそう"
   ]
  },
  {
   "cell_type": "code",
   "execution_count": null,
   "metadata": {},
   "outputs": [],
   "source": []
  },
  {
   "cell_type": "code",
   "execution_count": 10,
   "metadata": {},
   "outputs": [],
   "source": [
    "import matplotlib.pyplot as plt"
   ]
  },
  {
   "cell_type": "code",
   "execution_count": 11,
   "metadata": {},
   "outputs": [
    {
     "data": {
      "text/plain": [
       "<ErrorbarContainer object of 3 artists>"
      ]
     },
     "execution_count": 11,
     "metadata": {},
     "output_type": "execute_result"
    },
    {
     "data": {
      "image/png": "[encoded data removed]",
      "text/plain": [
       "<Figure size 432x288 with 1 Axes>"
      ]
     },
     "metadata": {
      "needs_background": "light"
     },
     "output_type": "display_data"
    }
   ],
   "source": [
    "CTR=p_hat(n,s)\n",
    "upperto=confidence_interval_right(n,s)-CTR\n",
    "bottomto=CTR-confidence_interval_left(n,s)\n",
    "\n",
    "plt.bar(list(range(3)),CTR,color='C7')\n",
    "plt.errorbar(list(range(3)), \n",
    "             CTR, \n",
    "             yerr=np.vstack([bottomto,upperto]),fmt='o')"
   ]
  },
  {
   "cell_type": "markdown",
   "metadata": {},
   "source": [
    "青い線は90%信頼区間の範囲"
   ]
  },
  {
   "cell_type": "code",
   "execution_count": null,
   "metadata": {},
   "outputs": [],
   "source": []
  }
 ],
 "metadata": {
  "kernelspec": {
   "display_name": "Python 3",
   "language": "python",
   "name": "python3"
  },
  "language_info": {
   "codemirror_mode": {
    "name": "ipython",
    "version": 3
   },
   "file_extension": ".py",
   "mimetype": "text/x-python",
   "name": "python",
   "nbconvert_exporter": "python",
   "pygments_lexer": "ipython3",
   "version": "3.8.8"
  }
 },
 "nbformat": 4,
 "nbformat_minor": 4
}
