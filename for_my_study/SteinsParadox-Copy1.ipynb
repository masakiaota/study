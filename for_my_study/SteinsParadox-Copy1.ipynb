{
 "cells": [
  {
   "cell_type": "markdown",
   "metadata": {},
   "source": [
    "### Stein's Paradoxを実装する\n",
    "Stein's Paradox...不偏推定量じゃない推定量で平均二乗誤差がより小さい推定量が存在する。"
   ]
  },
  {
   "cell_type": "code",
   "execution_count": 1,
   "metadata": {},
   "outputs": [],
   "source": [
    "import numpy as np; from tqdm import trange; import matplotlib.pyplot as plt\n",
    "%matplotlib inline\n",
    "import seaborn as sns; sns.set()\n",
    "from multiprocessing import Pool;import multiprocessing as multi\n",
    "import os; os.environ[\"OMP_NUM_THREADS\"] = \"1\""
   ]
  },
  {
   "cell_type": "code",
   "execution_count": 2,
   "metadata": {},
   "outputs": [],
   "source": [
    "def james_stein(X):\n",
    "    '''\n",
    "    parameters\n",
    "    ----------\n",
    "    X : np.ndarray. X.shape is (n_trial, 3).\n",
    "    \n",
    "    returns\n",
    "    ----------\n",
    "    theta_js : np.ndarray. james stein estimates. shape is (n_trial, 3)\n",
    "    \n",
    "    '''\n",
    "    return (1-(1/(X**2).sum(axis=1,keepdims=True)))*X\n",
    "\n",
    "def mse(y_true, y_pred):\n",
    "    '''\n",
    "    parameters\n",
    "    ----------\n",
    "    y_true : np.ndarray. shape is (1,3)\n",
    "    y_pred : np.ndarray. shape is (n_trial,3)\n",
    "    \n",
    "    returns\n",
    "    ----------\n",
    "    mean squared error of each dimension\n",
    "    (1次元目のmse, 2次元目の平均mse, 3次元目のmse)\n",
    "    '''\n",
    "    return ((y_true - y_pred)**2).mean(axis=0)"
   ]
  },
  {
   "cell_type": "code",
   "execution_count": 3,
   "metadata": {},
   "outputs": [],
   "source": [
    "mu1=[i for i in range(-20,31)]\n",
    "def _temp_for_multiprocess(arg):\n",
    "    mu1,n_trial=arg\n",
    "    np.random.seed(mu1+10000+np.random.randint(0,10000))\n",
    "    true=np.array([[mu1,3,7]])\n",
    "    X=np.random.standard_normal(size=(n_trial,3)) + true[0]\n",
    "    return mse(true,james_stein(X)), mse(true,X)\n",
    "\n",
    "def get_result(n_trial):\n",
    "    '''\n",
    "    return\n",
    "    ----------\n",
    "    result_ub ... unbaised の mu1に対応する各次元の平均二乗誤差\n",
    "    result_js ... james stein の mu1に対応する各次元の平均二乗誤差\n",
    "    '''\n",
    "    result_ub,result_js=[],[]\n",
    "    args=[(i,n_trial) for i in mu1]\n",
    "    #並列処理\n",
    "    p = Pool(multi.cpu_count()//2)\n",
    "    result=p.map(_temp_for_multiprocess, args)\n",
    "    p.close()\n",
    "    \n",
    "    result_ub=np.array([x[1] for x in result])\n",
    "    result_js=np.array([x[0] for x in result])\n",
    "    \n",
    "    return result_ub, result_js"
   ]
  },
  {
   "cell_type": "markdown",
   "metadata": {},
   "source": [
    "### n_trialを更にforで回し回数を稼ぐ"
   ]
  },
  {
   "cell_type": "code",
   "execution_count": 4,
   "metadata": {},
   "outputs": [
    {
     "name": "stderr",
     "output_type": "stream",
     "text": [
      "100%|██████████| 300/300 [7:36:00<00:00, 91.25s/it]\n"
     ]
    }
   ],
   "source": [
    "result_ub,result_js=[],[]\n",
    "for i in trange(300):\n",
    "    tmp_ub, tmp_js=get_result(5*10**7) #ギリギリメモリに乗る\n",
    "    result_ub.append(tmp_ub)\n",
    "    result_js.append(tmp_js)\n",
    "result_js=np.array(result_js).mean(axis=0)\n",
    "result_ub=np.array(result_ub).mean(axis=0)"
   ]
  },
  {
   "cell_type": "markdown",
   "metadata": {},
   "source": [
    "### 結果の描画"
   ]
  },
  {
   "cell_type": "code",
   "execution_count": 5,
   "metadata": {},
   "outputs": [
    {
     "data": {
      "image/png": "[encoded data removed]",
      "text/plain": [
       "<Figure size 432x288 with 1 Axes>"
      ]
     },
     "metadata": {
      "needs_background": "light"
     },
     "output_type": "display_data"
    }
   ],
   "source": [
    "plt.plot(mu1,result_js.sum(axis=1),marker='.',linestyle='None',label='James-Stein')\n",
    "plt.plot(mu1,result_ub.sum(axis=1),marker='.',linestyle='None',label='Unbiased')\n",
    "plt.ylim(2.94,3.04)\n",
    "plt.legend();"
   ]
  },
  {
   "cell_type": "code",
   "execution_count": 6,
   "metadata": {},
   "outputs": [
    {
     "data": {
      "image/png": "[encoded data removed]",
      "text/plain": [
       "<Figure size 432x288 with 1 Axes>"
      ]
     },
     "metadata": {
      "needs_background": "light"
     },
     "output_type": "display_data"
    }
   ],
   "source": [
    "plt.plot(mu1,result_js[:,0],marker='.',linestyle='None',label='$\\mu_1$')\n",
    "plt.plot(mu1,result_js[:,1],marker='.',linestyle='None',label='$\\mu_2$')\n",
    "plt.plot(mu1,result_js[:,2],marker='.',linestyle='None',label='$\\mu_3$')\n",
    "plt.ylim(0.96,1.06)\n",
    "plt.legend();"
   ]
  },
  {
   "cell_type": "code",
   "execution_count": null,
   "metadata": {},
   "outputs": [],
   "source": []
  }
 ],
 "metadata": {
  "kernelspec": {
   "display_name": "Python 3",
   "language": "python",
   "name": "python3"
  },
  "language_info": {
   "codemirror_mode": {
    "name": "ipython",
    "version": 3
   },
   "file_extension": ".py",
   "mimetype": "text/x-python",
   "name": "python",
   "nbconvert_exporter": "python",
   "pygments_lexer": "ipython3",
   "version": "3.6.8"
  }
 },
 "nbformat": 4,
 "nbformat_minor": 2
}
