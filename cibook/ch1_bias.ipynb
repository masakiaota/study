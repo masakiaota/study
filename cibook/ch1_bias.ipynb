{
 "cells": [
  {
   "cell_type": "code",
   "execution_count": 1,
   "id": "stylish-palestinian",
   "metadata": {},
   "outputs": [
    {
     "name": "stderr",
     "output_type": "stream",
     "text": [
      "Updating HTML index of packages in '.Library'\n",
      "\n",
      "Making 'packages.html' ...\n",
      " done\n",
      "\n",
      "── \u001b[1mAttaching packages\u001b[22m ───────────────────────────────────────────────────────────────────────────────────────────────────────────────────────────────────────────────────────────────────────────────────── tidyverse 1.3.1 ──\n",
      "\n",
      "\u001b[32m✔\u001b[39m \u001b[34mggplot2\u001b[39m 3.3.3     \u001b[32m✔\u001b[39m \u001b[34mpurrr  \u001b[39m 0.3.4\n",
      "\u001b[32m✔\u001b[39m \u001b[34mtibble \u001b[39m 3.1.2     \u001b[32m✔\u001b[39m \u001b[34mdplyr  \u001b[39m 1.0.7\n",
      "\u001b[32m✔\u001b[39m \u001b[34mtidyr  \u001b[39m 1.1.3     \u001b[32m✔\u001b[39m \u001b[34mstringr\u001b[39m 1.4.0\n",
      "\u001b[32m✔\u001b[39m \u001b[34mreadr  \u001b[39m 1.4.0     \u001b[32m✔\u001b[39m \u001b[34mforcats\u001b[39m 0.5.1\n",
      "\n",
      "── \u001b[1mConflicts\u001b[22m ──────────────────────────────────────────────────────────────────────────────────────────────────────────────────────────────────────────────────────────────────────────────────────── tidyverse_conflicts() ──\n",
      "\u001b[31m✖\u001b[39m \u001b[34mdplyr\u001b[39m::\u001b[32mfilter()\u001b[39m masks \u001b[34mstats\u001b[39m::filter()\n",
      "\u001b[31m✖\u001b[39m \u001b[34mdplyr\u001b[39m::\u001b[32mlag()\u001b[39m    masks \u001b[34mstats\u001b[39m::lag()\n",
      "\n"
     ]
    }
   ],
   "source": [
    "# (1) パッケージをインストールする（初回のみ）\n",
    "install.packages(\"tidyverse\")\n",
    "\n",
    "# (2) ライブラリの読み出し\n",
    "library(\"tidyverse\")\n"
   ]
  },
  {
   "cell_type": "code",
   "execution_count": 2,
   "id": "worth-equity",
   "metadata": {},
   "outputs": [
    {
     "name": "stderr",
     "output_type": "stream",
     "text": [
      "\n",
      "\u001b[36m──\u001b[39m \u001b[1m\u001b[1mColumn specification\u001b[1m\u001b[22m \u001b[36m──────────────────────────────────────────────────────────────────────────────────────────────────────────────────────────────────────────────────────────────────────────────────────────────────────\u001b[39m\n",
      "cols(\n",
      "  recency = \u001b[32mcol_double()\u001b[39m,\n",
      "  history_segment = \u001b[31mcol_character()\u001b[39m,\n",
      "  history = \u001b[32mcol_double()\u001b[39m,\n",
      "  mens = \u001b[32mcol_double()\u001b[39m,\n",
      "  womens = \u001b[32mcol_double()\u001b[39m,\n",
      "  zip_code = \u001b[31mcol_character()\u001b[39m,\n",
      "  newbie = \u001b[32mcol_double()\u001b[39m,\n",
      "  channel = \u001b[31mcol_character()\u001b[39m,\n",
      "  segment = \u001b[31mcol_character()\u001b[39m,\n",
      "  visit = \u001b[32mcol_double()\u001b[39m,\n",
      "  conversion = \u001b[32mcol_double()\u001b[39m,\n",
      "  spend = \u001b[32mcol_double()\u001b[39m\n",
      ")\n",
      "\n",
      "\n"
     ]
    },
    {
     "data": {
      "text/html": [
       "<table class=\"dataframe\">\n",
       "<caption>A tibble: 6 × 12</caption>\n",
       "<thead>\n",
       "\t<tr><th scope=col>recency</th><th scope=col>history_segment</th><th scope=col>history</th><th scope=col>mens</th><th scope=col>womens</th><th scope=col>zip_code</th><th scope=col>newbie</th><th scope=col>channel</th><th scope=col>segment</th><th scope=col>visit</th><th scope=col>conversion</th><th scope=col>spend</th></tr>\n",
       "\t<tr><th scope=col>&lt;dbl&gt;</th><th scope=col>&lt;chr&gt;</th><th scope=col>&lt;dbl&gt;</th><th scope=col>&lt;dbl&gt;</th><th scope=col>&lt;dbl&gt;</th><th scope=col>&lt;chr&gt;</th><th scope=col>&lt;dbl&gt;</th><th scope=col>&lt;chr&gt;</th><th scope=col>&lt;chr&gt;</th><th scope=col>&lt;dbl&gt;</th><th scope=col>&lt;dbl&gt;</th><th scope=col>&lt;dbl&gt;</th></tr>\n",
       "</thead>\n",
       "<tbody>\n",
       "\t<tr><td>10</td><td>2) $100 - $200</td><td>142.44</td><td>1</td><td>0</td><td>Surburban</td><td>0</td><td>Phone</td><td>Womens E-Mail</td><td>0</td><td>0</td><td>0</td></tr>\n",
       "\t<tr><td> 6</td><td>3) $200 - $350</td><td>329.08</td><td>1</td><td>1</td><td>Rural    </td><td>1</td><td>Web  </td><td>No E-Mail    </td><td>0</td><td>0</td><td>0</td></tr>\n",
       "\t<tr><td> 7</td><td>2) $100 - $200</td><td>180.65</td><td>0</td><td>1</td><td>Surburban</td><td>1</td><td>Web  </td><td>Womens E-Mail</td><td>0</td><td>0</td><td>0</td></tr>\n",
       "\t<tr><td> 9</td><td>5) $500 - $750</td><td>675.83</td><td>1</td><td>0</td><td>Rural    </td><td>1</td><td>Web  </td><td>Mens E-Mail  </td><td>0</td><td>0</td><td>0</td></tr>\n",
       "\t<tr><td> 2</td><td>1) $0 - $100  </td><td> 45.34</td><td>1</td><td>0</td><td>Urban    </td><td>0</td><td>Web  </td><td>Womens E-Mail</td><td>0</td><td>0</td><td>0</td></tr>\n",
       "\t<tr><td> 6</td><td>2) $100 - $200</td><td>134.83</td><td>0</td><td>1</td><td>Surburban</td><td>0</td><td>Phone</td><td>Womens E-Mail</td><td>1</td><td>0</td><td>0</td></tr>\n",
       "</tbody>\n",
       "</table>\n"
      ],
      "text/latex": [
       "A tibble: 6 × 12\n",
       "\\begin{tabular}{llllllllllll}\n",
       " recency & history\\_segment & history & mens & womens & zip\\_code & newbie & channel & segment & visit & conversion & spend\\\\\n",
       " <dbl> & <chr> & <dbl> & <dbl> & <dbl> & <chr> & <dbl> & <chr> & <chr> & <dbl> & <dbl> & <dbl>\\\\\n",
       "\\hline\n",
       "\t 10 & 2) \\$100 - \\$200 & 142.44 & 1 & 0 & Surburban & 0 & Phone & Womens E-Mail & 0 & 0 & 0\\\\\n",
       "\t  6 & 3) \\$200 - \\$350 & 329.08 & 1 & 1 & Rural     & 1 & Web   & No E-Mail     & 0 & 0 & 0\\\\\n",
       "\t  7 & 2) \\$100 - \\$200 & 180.65 & 0 & 1 & Surburban & 1 & Web   & Womens E-Mail & 0 & 0 & 0\\\\\n",
       "\t  9 & 5) \\$500 - \\$750 & 675.83 & 1 & 0 & Rural     & 1 & Web   & Mens E-Mail   & 0 & 0 & 0\\\\\n",
       "\t  2 & 1) \\$0 - \\$100   &  45.34 & 1 & 0 & Urban     & 0 & Web   & Womens E-Mail & 0 & 0 & 0\\\\\n",
       "\t  6 & 2) \\$100 - \\$200 & 134.83 & 0 & 1 & Surburban & 0 & Phone & Womens E-Mail & 1 & 0 & 0\\\\\n",
       "\\end{tabular}\n"
      ],
      "text/markdown": [
       "\n",
       "A tibble: 6 × 12\n",
       "\n",
       "| recency &lt;dbl&gt; | history_segment &lt;chr&gt; | history &lt;dbl&gt; | mens &lt;dbl&gt; | womens &lt;dbl&gt; | zip_code &lt;chr&gt; | newbie &lt;dbl&gt; | channel &lt;chr&gt; | segment &lt;chr&gt; | visit &lt;dbl&gt; | conversion &lt;dbl&gt; | spend &lt;dbl&gt; |\n",
       "|---|---|---|---|---|---|---|---|---|---|---|---|\n",
       "| 10 | 2) $100 - $200 | 142.44 | 1 | 0 | Surburban | 0 | Phone | Womens E-Mail | 0 | 0 | 0 |\n",
       "|  6 | 3) $200 - $350 | 329.08 | 1 | 1 | Rural     | 1 | Web   | No E-Mail     | 0 | 0 | 0 |\n",
       "|  7 | 2) $100 - $200 | 180.65 | 0 | 1 | Surburban | 1 | Web   | Womens E-Mail | 0 | 0 | 0 |\n",
       "|  9 | 5) $500 - $750 | 675.83 | 1 | 0 | Rural     | 1 | Web   | Mens E-Mail   | 0 | 0 | 0 |\n",
       "|  2 | 1) $0 - $100   |  45.34 | 1 | 0 | Urban     | 0 | Web   | Womens E-Mail | 0 | 0 | 0 |\n",
       "|  6 | 2) $100 - $200 | 134.83 | 0 | 1 | Surburban | 0 | Phone | Womens E-Mail | 1 | 0 | 0 |\n",
       "\n"
      ],
      "text/plain": [
       "  recency history_segment history mens womens zip_code  newbie channel\n",
       "1 10      2) $100 - $200  142.44  1    0      Surburban 0      Phone  \n",
       "2  6      3) $200 - $350  329.08  1    1      Rural     1      Web    \n",
       "3  7      2) $100 - $200  180.65  0    1      Surburban 1      Web    \n",
       "4  9      5) $500 - $750  675.83  1    0      Rural     1      Web    \n",
       "5  2      1) $0 - $100     45.34  1    0      Urban     0      Web    \n",
       "6  6      2) $100 - $200  134.83  0    1      Surburban 0      Phone  \n",
       "  segment       visit conversion spend\n",
       "1 Womens E-Mail 0     0          0    \n",
       "2 No E-Mail     0     0          0    \n",
       "3 Womens E-Mail 0     0          0    \n",
       "4 Mens E-Mail   0     0          0    \n",
       "5 Womens E-Mail 0     0          0    \n",
       "6 Womens E-Mail 1     0          0    "
      ]
     },
     "metadata": {},
     "output_type": "display_data"
    }
   ],
   "source": [
    "# (3) データの読み込み\n",
    "email_data <- read_csv(\"http://www.minethatdata.com/Kevin_Hillstrom_MineThatData_E-MailAnalytics_DataMiningChallenge_2008.03.20.csv\")\n",
    "head(email_data)"
   ]
  },
  {
   "cell_type": "code",
   "execution_count": 3,
   "id": "floating-mistake",
   "metadata": {},
   "outputs": [],
   "source": [
    "# (4) データの準備\n",
    "## 女性向けメールが配信されたデータを削除したデータを作成\n",
    "male_df <- email_data %>%\n",
    "  filter(segment != \"Womens E-Mail\") %>% # 女性向けメールが配信されたデータを削除\n",
    "  mutate(treatment = ifelse(segment == \"Mens E-Mail\", 1, 0)) #介入を表すtreatment変数を追加"
   ]
  },
  {
   "cell_type": "code",
   "execution_count": 4,
   "id": "sweet-burlington",
   "metadata": {},
   "outputs": [
    {
     "data": {
      "text/html": [
       "<table class=\"dataframe\">\n",
       "<caption>A tibble: 6 × 13</caption>\n",
       "<thead>\n",
       "\t<tr><th scope=col>recency</th><th scope=col>history_segment</th><th scope=col>history</th><th scope=col>mens</th><th scope=col>womens</th><th scope=col>zip_code</th><th scope=col>newbie</th><th scope=col>channel</th><th scope=col>segment</th><th scope=col>visit</th><th scope=col>conversion</th><th scope=col>spend</th><th scope=col>treatment</th></tr>\n",
       "\t<tr><th scope=col>&lt;dbl&gt;</th><th scope=col>&lt;chr&gt;</th><th scope=col>&lt;dbl&gt;</th><th scope=col>&lt;dbl&gt;</th><th scope=col>&lt;dbl&gt;</th><th scope=col>&lt;chr&gt;</th><th scope=col>&lt;dbl&gt;</th><th scope=col>&lt;chr&gt;</th><th scope=col>&lt;chr&gt;</th><th scope=col>&lt;dbl&gt;</th><th scope=col>&lt;dbl&gt;</th><th scope=col>&lt;dbl&gt;</th><th scope=col>&lt;dbl&gt;</th></tr>\n",
       "</thead>\n",
       "<tbody>\n",
       "\t<tr><td>6</td><td>3) $200 - $350</td><td>329.08</td><td>1</td><td>1</td><td>Rural</td><td>1</td><td>Web         </td><td>No E-Mail  </td><td>0</td><td>0</td><td>0</td><td>0</td></tr>\n",
       "\t<tr><td>9</td><td>5) $500 - $750</td><td>675.83</td><td>1</td><td>0</td><td>Rural</td><td>1</td><td>Web         </td><td>Mens E-Mail</td><td>0</td><td>0</td><td>0</td><td>1</td></tr>\n",
       "\t<tr><td>9</td><td>5) $500 - $750</td><td>675.07</td><td>1</td><td>1</td><td>Rural</td><td>1</td><td>Phone       </td><td>Mens E-Mail</td><td>0</td><td>0</td><td>0</td><td>1</td></tr>\n",
       "\t<tr><td>2</td><td>2) $100 - $200</td><td>101.64</td><td>0</td><td>1</td><td>Urban</td><td>0</td><td>Web         </td><td>Mens E-Mail</td><td>1</td><td>0</td><td>0</td><td>1</td></tr>\n",
       "\t<tr><td>4</td><td>3) $200 - $350</td><td>241.42</td><td>0</td><td>1</td><td>Rural</td><td>1</td><td>Multichannel</td><td>No E-Mail  </td><td>0</td><td>0</td><td>0</td><td>0</td></tr>\n",
       "\t<tr><td>3</td><td>1) $0 - $100  </td><td> 58.13</td><td>1</td><td>0</td><td>Urban</td><td>1</td><td>Web         </td><td>No E-Mail  </td><td>1</td><td>0</td><td>0</td><td>0</td></tr>\n",
       "</tbody>\n",
       "</table>\n"
      ],
      "text/latex": [
       "A tibble: 6 × 13\n",
       "\\begin{tabular}{lllllllllllll}\n",
       " recency & history\\_segment & history & mens & womens & zip\\_code & newbie & channel & segment & visit & conversion & spend & treatment\\\\\n",
       " <dbl> & <chr> & <dbl> & <dbl> & <dbl> & <chr> & <dbl> & <chr> & <chr> & <dbl> & <dbl> & <dbl> & <dbl>\\\\\n",
       "\\hline\n",
       "\t 6 & 3) \\$200 - \\$350 & 329.08 & 1 & 1 & Rural & 1 & Web          & No E-Mail   & 0 & 0 & 0 & 0\\\\\n",
       "\t 9 & 5) \\$500 - \\$750 & 675.83 & 1 & 0 & Rural & 1 & Web          & Mens E-Mail & 0 & 0 & 0 & 1\\\\\n",
       "\t 9 & 5) \\$500 - \\$750 & 675.07 & 1 & 1 & Rural & 1 & Phone        & Mens E-Mail & 0 & 0 & 0 & 1\\\\\n",
       "\t 2 & 2) \\$100 - \\$200 & 101.64 & 0 & 1 & Urban & 0 & Web          & Mens E-Mail & 1 & 0 & 0 & 1\\\\\n",
       "\t 4 & 3) \\$200 - \\$350 & 241.42 & 0 & 1 & Rural & 1 & Multichannel & No E-Mail   & 0 & 0 & 0 & 0\\\\\n",
       "\t 3 & 1) \\$0 - \\$100   &  58.13 & 1 & 0 & Urban & 1 & Web          & No E-Mail   & 1 & 0 & 0 & 0\\\\\n",
       "\\end{tabular}\n"
      ],
      "text/markdown": [
       "\n",
       "A tibble: 6 × 13\n",
       "\n",
       "| recency &lt;dbl&gt; | history_segment &lt;chr&gt; | history &lt;dbl&gt; | mens &lt;dbl&gt; | womens &lt;dbl&gt; | zip_code &lt;chr&gt; | newbie &lt;dbl&gt; | channel &lt;chr&gt; | segment &lt;chr&gt; | visit &lt;dbl&gt; | conversion &lt;dbl&gt; | spend &lt;dbl&gt; | treatment &lt;dbl&gt; |\n",
       "|---|---|---|---|---|---|---|---|---|---|---|---|---|\n",
       "| 6 | 3) $200 - $350 | 329.08 | 1 | 1 | Rural | 1 | Web          | No E-Mail   | 0 | 0 | 0 | 0 |\n",
       "| 9 | 5) $500 - $750 | 675.83 | 1 | 0 | Rural | 1 | Web          | Mens E-Mail | 0 | 0 | 0 | 1 |\n",
       "| 9 | 5) $500 - $750 | 675.07 | 1 | 1 | Rural | 1 | Phone        | Mens E-Mail | 0 | 0 | 0 | 1 |\n",
       "| 2 | 2) $100 - $200 | 101.64 | 0 | 1 | Urban | 0 | Web          | Mens E-Mail | 1 | 0 | 0 | 1 |\n",
       "| 4 | 3) $200 - $350 | 241.42 | 0 | 1 | Rural | 1 | Multichannel | No E-Mail   | 0 | 0 | 0 | 0 |\n",
       "| 3 | 1) $0 - $100   |  58.13 | 1 | 0 | Urban | 1 | Web          | No E-Mail   | 1 | 0 | 0 | 0 |\n",
       "\n"
      ],
      "text/plain": [
       "  recency history_segment history mens womens zip_code newbie channel     \n",
       "1 6       3) $200 - $350  329.08  1    1      Rural    1      Web         \n",
       "2 9       5) $500 - $750  675.83  1    0      Rural    1      Web         \n",
       "3 9       5) $500 - $750  675.07  1    1      Rural    1      Phone       \n",
       "4 2       2) $100 - $200  101.64  0    1      Urban    0      Web         \n",
       "5 4       3) $200 - $350  241.42  0    1      Rural    1      Multichannel\n",
       "6 3       1) $0 - $100     58.13  1    0      Urban    1      Web         \n",
       "  segment     visit conversion spend treatment\n",
       "1 No E-Mail   0     0          0     0        \n",
       "2 Mens E-Mail 0     0          0     1        \n",
       "3 Mens E-Mail 0     0          0     1        \n",
       "4 Mens E-Mail 1     0          0     1        \n",
       "5 No E-Mail   0     0          0     0        \n",
       "6 No E-Mail   1     0          0     0        "
      ]
     },
     "metadata": {},
     "output_type": "display_data"
    }
   ],
   "source": [
    "head(male_df)"
   ]
  },
  {
   "cell_type": "code",
   "execution_count": 5,
   "id": "caring-announcement",
   "metadata": {},
   "outputs": [],
   "source": [
    "# (5) 集計による比較\n",
    "## group_byとsummairseを使って集計\n",
    "summary_by_segment <- male_df %>%\n",
    "  group_by(treatment) %>% # データのグループ化\n",
    "  summarise(conversion_rate = mean(conversion), # グループごとのconversionの平均\n",
    "            spend_mean = mean(spend), # グループごとのspendの平均\n",
    "            count = n()) # グループごとのデータ数\n"
   ]
  },
  {
   "cell_type": "code",
   "execution_count": 6,
   "id": "varied-madonna",
   "metadata": {},
   "outputs": [
    {
     "data": {
      "text/html": [
       "<table class=\"dataframe\">\n",
       "<caption>A tibble: 2 × 4</caption>\n",
       "<thead>\n",
       "\t<tr><th scope=col>treatment</th><th scope=col>conversion_rate</th><th scope=col>spend_mean</th><th scope=col>count</th></tr>\n",
       "\t<tr><th scope=col>&lt;dbl&gt;</th><th scope=col>&lt;dbl&gt;</th><th scope=col>&lt;dbl&gt;</th><th scope=col>&lt;int&gt;</th></tr>\n",
       "</thead>\n",
       "<tbody>\n",
       "\t<tr><td>0</td><td>0.005726087</td><td>0.6527894</td><td>21306</td></tr>\n",
       "\t<tr><td>1</td><td>0.012531093</td><td>1.4226165</td><td>21307</td></tr>\n",
       "</tbody>\n",
       "</table>\n"
      ],
      "text/latex": [
       "A tibble: 2 × 4\n",
       "\\begin{tabular}{llll}\n",
       " treatment & conversion\\_rate & spend\\_mean & count\\\\\n",
       " <dbl> & <dbl> & <dbl> & <int>\\\\\n",
       "\\hline\n",
       "\t 0 & 0.005726087 & 0.6527894 & 21306\\\\\n",
       "\t 1 & 0.012531093 & 1.4226165 & 21307\\\\\n",
       "\\end{tabular}\n"
      ],
      "text/markdown": [
       "\n",
       "A tibble: 2 × 4\n",
       "\n",
       "| treatment &lt;dbl&gt; | conversion_rate &lt;dbl&gt; | spend_mean &lt;dbl&gt; | count &lt;int&gt; |\n",
       "|---|---|---|---|\n",
       "| 0 | 0.005726087 | 0.6527894 | 21306 |\n",
       "| 1 | 0.012531093 | 1.4226165 | 21307 |\n",
       "\n"
      ],
      "text/plain": [
       "  treatment conversion_rate spend_mean count\n",
       "1 0         0.005726087     0.6527894  21306\n",
       "2 1         0.012531093     1.4226165  21307"
      ]
     },
     "metadata": {},
     "output_type": "display_data"
    }
   ],
   "source": [
    "summary_by_segment\n",
    "# メールでconversion_rateや利用金額が向上していることがわかる"
   ]
  },
  {
   "cell_type": "code",
   "execution_count": 7,
   "id": "republican-mirror",
   "metadata": {},
   "outputs": [],
   "source": [
    "# (6) t検定を行う\n",
    "## (a)男性向けメールが配信されたグループの購買データを得る\n",
    "mens_mail <- male_df %>%\n",
    "  filter(treatment == 1) %>%\n",
    "  pull(spend) #特定の列をベクトルにするらしい\n",
    "\n",
    "## (b)メールが配信されなかったグループの購買データを得る\n",
    "no_mail <- male_df %>%\n",
    "  filter(treatment == 0) %>%\n",
    "  pull(spend)"
   ]
  },
  {
   "cell_type": "code",
   "execution_count": 8,
   "id": "through-prophet",
   "metadata": {},
   "outputs": [],
   "source": [
    "## (a)(b)の平均の差に対して有意差検定を実行する\n",
    "rct_ttest <- t.test(mens_mail, no_mail, var.equal = T)"
   ]
  },
  {
   "cell_type": "code",
   "execution_count": 9,
   "id": "instant-gibson",
   "metadata": {},
   "outputs": [
    {
     "data": {
      "text/plain": [
       "\n",
       "\tTwo Sample t-test\n",
       "\n",
       "data:  mens_mail and no_mail\n",
       "t = 5.3001, df = 42611, p-value = 1.163e-07\n",
       "alternative hypothesis: true difference in means is not equal to 0\n",
       "95 percent confidence interval:\n",
       " 0.4851384 1.0545160\n",
       "sample estimates:\n",
       "mean of x mean of y \n",
       "1.4226165 0.6527894 \n"
      ]
     },
     "metadata": {},
     "output_type": "display_data"
    }
   ],
   "source": [
    "rct_ttest"
   ]
  },
  {
   "cell_type": "code",
   "execution_count": null,
   "id": "harmful-lyric",
   "metadata": {},
   "outputs": [],
   "source": []
  },
  {
   "cell_type": "code",
   "execution_count": 10,
   "id": "greek-paintball",
   "metadata": {},
   "outputs": [],
   "source": [
    "# (7) セレクションバイアスのあるデータの作成\n",
    "## seedを固定する\n",
    "set.seed(1)\n",
    "\n",
    "## 条件に反応するサンプルの量を半分にする\n",
    "obs_rate_c <- 0.5\n",
    "obs_rate_t <- 0.5\n",
    "\n",
    "## バイアスのあるデータの作成\n",
    "biased_data <- male_df %>%\n",
    "  mutate(obs_rate_c =\n",
    "           ifelse( (history > 300) | (recency < 6) |\n",
    "                     (channel == \"Multichannel\"), obs_rate_c, 1),\n",
    "         obs_rate_t =\n",
    "           ifelse( (history > 300) | (recency < 6) |\n",
    "                     (channel == \"Multichannel\"), 1, obs_rate_t),\n",
    "         random_number = runif(n = NROW(male_df))) %>% #runifは乱数的なやつらしい、ベクトルを返す\n",
    "  filter( (treatment == 0 & random_number < obs_rate_c ) |\n",
    "            (treatment == 1 & random_number < obs_rate_t) )"
   ]
  },
  {
   "cell_type": "code",
   "execution_count": 11,
   "id": "antique-documentation",
   "metadata": {},
   "outputs": [
    {
     "data": {
      "text/html": [
       "<table class=\"dataframe\">\n",
       "<caption>A tibble: 6 × 16</caption>\n",
       "<thead>\n",
       "\t<tr><th scope=col>recency</th><th scope=col>history_segment</th><th scope=col>history</th><th scope=col>mens</th><th scope=col>womens</th><th scope=col>zip_code</th><th scope=col>newbie</th><th scope=col>channel</th><th scope=col>segment</th><th scope=col>visit</th><th scope=col>conversion</th><th scope=col>spend</th><th scope=col>treatment</th><th scope=col>obs_rate_c</th><th scope=col>obs_rate_t</th><th scope=col>random_number</th></tr>\n",
       "\t<tr><th scope=col>&lt;dbl&gt;</th><th scope=col>&lt;chr&gt;</th><th scope=col>&lt;dbl&gt;</th><th scope=col>&lt;dbl&gt;</th><th scope=col>&lt;dbl&gt;</th><th scope=col>&lt;chr&gt;</th><th scope=col>&lt;dbl&gt;</th><th scope=col>&lt;chr&gt;</th><th scope=col>&lt;chr&gt;</th><th scope=col>&lt;dbl&gt;</th><th scope=col>&lt;dbl&gt;</th><th scope=col>&lt;dbl&gt;</th><th scope=col>&lt;dbl&gt;</th><th scope=col>&lt;dbl&gt;</th><th scope=col>&lt;dbl&gt;</th><th scope=col>&lt;dbl&gt;</th></tr>\n",
       "</thead>\n",
       "<tbody>\n",
       "\t<tr><td>6</td><td>3) $200 - $350</td><td>329.08</td><td>1</td><td>1</td><td>Rural    </td><td>1</td><td>Web         </td><td>No E-Mail  </td><td>0</td><td>0</td><td>0</td><td>0</td><td>0.5</td><td>1</td><td>0.2655087</td></tr>\n",
       "\t<tr><td>9</td><td>5) $500 - $750</td><td>675.83</td><td>1</td><td>0</td><td>Rural    </td><td>1</td><td>Web         </td><td>Mens E-Mail</td><td>0</td><td>0</td><td>0</td><td>1</td><td>0.5</td><td>1</td><td>0.3721239</td></tr>\n",
       "\t<tr><td>9</td><td>5) $500 - $750</td><td>675.07</td><td>1</td><td>1</td><td>Rural    </td><td>1</td><td>Phone       </td><td>Mens E-Mail</td><td>0</td><td>0</td><td>0</td><td>1</td><td>0.5</td><td>1</td><td>0.5728534</td></tr>\n",
       "\t<tr><td>2</td><td>2) $100 - $200</td><td>101.64</td><td>0</td><td>1</td><td>Urban    </td><td>0</td><td>Web         </td><td>Mens E-Mail</td><td>1</td><td>0</td><td>0</td><td>1</td><td>0.5</td><td>1</td><td>0.9082078</td></tr>\n",
       "\t<tr><td>4</td><td>3) $200 - $350</td><td>241.42</td><td>0</td><td>1</td><td>Rural    </td><td>1</td><td>Multichannel</td><td>No E-Mail  </td><td>0</td><td>0</td><td>0</td><td>0</td><td>0.5</td><td>1</td><td>0.2016819</td></tr>\n",
       "\t<tr><td>5</td><td>1) $0 - $100  </td><td> 29.99</td><td>1</td><td>0</td><td>Surburban</td><td>0</td><td>Phone       </td><td>Mens E-Mail</td><td>0</td><td>0</td><td>0</td><td>1</td><td>0.5</td><td>1</td><td>0.9446753</td></tr>\n",
       "</tbody>\n",
       "</table>\n"
      ],
      "text/latex": [
       "A tibble: 6 × 16\n",
       "\\begin{tabular}{llllllllllllllll}\n",
       " recency & history\\_segment & history & mens & womens & zip\\_code & newbie & channel & segment & visit & conversion & spend & treatment & obs\\_rate\\_c & obs\\_rate\\_t & random\\_number\\\\\n",
       " <dbl> & <chr> & <dbl> & <dbl> & <dbl> & <chr> & <dbl> & <chr> & <chr> & <dbl> & <dbl> & <dbl> & <dbl> & <dbl> & <dbl> & <dbl>\\\\\n",
       "\\hline\n",
       "\t 6 & 3) \\$200 - \\$350 & 329.08 & 1 & 1 & Rural     & 1 & Web          & No E-Mail   & 0 & 0 & 0 & 0 & 0.5 & 1 & 0.2655087\\\\\n",
       "\t 9 & 5) \\$500 - \\$750 & 675.83 & 1 & 0 & Rural     & 1 & Web          & Mens E-Mail & 0 & 0 & 0 & 1 & 0.5 & 1 & 0.3721239\\\\\n",
       "\t 9 & 5) \\$500 - \\$750 & 675.07 & 1 & 1 & Rural     & 1 & Phone        & Mens E-Mail & 0 & 0 & 0 & 1 & 0.5 & 1 & 0.5728534\\\\\n",
       "\t 2 & 2) \\$100 - \\$200 & 101.64 & 0 & 1 & Urban     & 0 & Web          & Mens E-Mail & 1 & 0 & 0 & 1 & 0.5 & 1 & 0.9082078\\\\\n",
       "\t 4 & 3) \\$200 - \\$350 & 241.42 & 0 & 1 & Rural     & 1 & Multichannel & No E-Mail   & 0 & 0 & 0 & 0 & 0.5 & 1 & 0.2016819\\\\\n",
       "\t 5 & 1) \\$0 - \\$100   &  29.99 & 1 & 0 & Surburban & 0 & Phone        & Mens E-Mail & 0 & 0 & 0 & 1 & 0.5 & 1 & 0.9446753\\\\\n",
       "\\end{tabular}\n"
      ],
      "text/markdown": [
       "\n",
       "A tibble: 6 × 16\n",
       "\n",
       "| recency &lt;dbl&gt; | history_segment &lt;chr&gt; | history &lt;dbl&gt; | mens &lt;dbl&gt; | womens &lt;dbl&gt; | zip_code &lt;chr&gt; | newbie &lt;dbl&gt; | channel &lt;chr&gt; | segment &lt;chr&gt; | visit &lt;dbl&gt; | conversion &lt;dbl&gt; | spend &lt;dbl&gt; | treatment &lt;dbl&gt; | obs_rate_c &lt;dbl&gt; | obs_rate_t &lt;dbl&gt; | random_number &lt;dbl&gt; |\n",
       "|---|---|---|---|---|---|---|---|---|---|---|---|---|---|---|---|\n",
       "| 6 | 3) $200 - $350 | 329.08 | 1 | 1 | Rural     | 1 | Web          | No E-Mail   | 0 | 0 | 0 | 0 | 0.5 | 1 | 0.2655087 |\n",
       "| 9 | 5) $500 - $750 | 675.83 | 1 | 0 | Rural     | 1 | Web          | Mens E-Mail | 0 | 0 | 0 | 1 | 0.5 | 1 | 0.3721239 |\n",
       "| 9 | 5) $500 - $750 | 675.07 | 1 | 1 | Rural     | 1 | Phone        | Mens E-Mail | 0 | 0 | 0 | 1 | 0.5 | 1 | 0.5728534 |\n",
       "| 2 | 2) $100 - $200 | 101.64 | 0 | 1 | Urban     | 0 | Web          | Mens E-Mail | 1 | 0 | 0 | 1 | 0.5 | 1 | 0.9082078 |\n",
       "| 4 | 3) $200 - $350 | 241.42 | 0 | 1 | Rural     | 1 | Multichannel | No E-Mail   | 0 | 0 | 0 | 0 | 0.5 | 1 | 0.2016819 |\n",
       "| 5 | 1) $0 - $100   |  29.99 | 1 | 0 | Surburban | 0 | Phone        | Mens E-Mail | 0 | 0 | 0 | 1 | 0.5 | 1 | 0.9446753 |\n",
       "\n"
      ],
      "text/plain": [
       "  recency history_segment history mens womens zip_code  newbie channel     \n",
       "1 6       3) $200 - $350  329.08  1    1      Rural     1      Web         \n",
       "2 9       5) $500 - $750  675.83  1    0      Rural     1      Web         \n",
       "3 9       5) $500 - $750  675.07  1    1      Rural     1      Phone       \n",
       "4 2       2) $100 - $200  101.64  0    1      Urban     0      Web         \n",
       "5 4       3) $200 - $350  241.42  0    1      Rural     1      Multichannel\n",
       "6 5       1) $0 - $100     29.99  1    0      Surburban 0      Phone       \n",
       "  segment     visit conversion spend treatment obs_rate_c obs_rate_t\n",
       "1 No E-Mail   0     0          0     0         0.5        1         \n",
       "2 Mens E-Mail 0     0          0     1         0.5        1         \n",
       "3 Mens E-Mail 0     0          0     1         0.5        1         \n",
       "4 Mens E-Mail 1     0          0     1         0.5        1         \n",
       "5 No E-Mail   0     0          0     0         0.5        1         \n",
       "6 Mens E-Mail 0     0          0     1         0.5        1         \n",
       "  random_number\n",
       "1 0.2655087    \n",
       "2 0.3721239    \n",
       "3 0.5728534    \n",
       "4 0.9082078    \n",
       "5 0.2016819    \n",
       "6 0.9446753    "
      ]
     },
     "metadata": {},
     "output_type": "display_data"
    }
   ],
   "source": [
    "head(biased_data)"
   ]
  },
  {
   "cell_type": "code",
   "execution_count": 12,
   "id": "unavailable-moment",
   "metadata": {},
   "outputs": [
    {
     "data": {
      "text/html": [
       "<table class=\"dataframe\">\n",
       "<caption>A tibble: 2 × 4</caption>\n",
       "<thead>\n",
       "\t<tr><th scope=col>treatment</th><th scope=col>conversion_rate</th><th scope=col>spend_mean</th><th scope=col>count</th></tr>\n",
       "\t<tr><th scope=col>&lt;dbl&gt;</th><th scope=col>&lt;dbl&gt;</th><th scope=col>&lt;dbl&gt;</th><th scope=col>&lt;int&gt;</th></tr>\n",
       "</thead>\n",
       "<tbody>\n",
       "\t<tr><td>0</td><td>0.004977838</td><td>0.5483062</td><td>14665</td></tr>\n",
       "\t<tr><td>1</td><td>0.013431794</td><td>1.5277526</td><td>17198</td></tr>\n",
       "</tbody>\n",
       "</table>\n"
      ],
      "text/latex": [
       "A tibble: 2 × 4\n",
       "\\begin{tabular}{llll}\n",
       " treatment & conversion\\_rate & spend\\_mean & count\\\\\n",
       " <dbl> & <dbl> & <dbl> & <int>\\\\\n",
       "\\hline\n",
       "\t 0 & 0.004977838 & 0.5483062 & 14665\\\\\n",
       "\t 1 & 0.013431794 & 1.5277526 & 17198\\\\\n",
       "\\end{tabular}\n"
      ],
      "text/markdown": [
       "\n",
       "A tibble: 2 × 4\n",
       "\n",
       "| treatment &lt;dbl&gt; | conversion_rate &lt;dbl&gt; | spend_mean &lt;dbl&gt; | count &lt;int&gt; |\n",
       "|---|---|---|---|\n",
       "| 0 | 0.004977838 | 0.5483062 | 14665 |\n",
       "| 1 | 0.013431794 | 1.5277526 | 17198 |\n",
       "\n"
      ],
      "text/plain": [
       "  treatment conversion_rate spend_mean count\n",
       "1 0         0.004977838     0.5483062  14665\n",
       "2 1         0.013431794     1.5277526  17198"
      ]
     },
     "metadata": {},
     "output_type": "display_data"
    }
   ],
   "source": [
    "# (8) セレクションバイアスのあるデータで平均を比較\n",
    "## group_byとsummairseを使って集計(Biased)\n",
    "summary_by_segment_biased <- biased_data %>%\n",
    "  group_by(treatment) %>%\n",
    "  summarise(conversion_rate = mean(conversion),\n",
    "            spend_mean = mean(spend),\n",
    "            count = n())\n",
    "\n",
    "head(summary_by_segment_biased)"
   ]
  },
  {
   "cell_type": "code",
   "execution_count": 13,
   "id": "round-tournament",
   "metadata": {},
   "outputs": [],
   "source": [
    "# (9) Rの関数であるt.testを使ってt検定を行う(Biased)\n",
    "## (a)男性向けメールが配信されたグループの購買データを得る\n",
    "mens_mail_biased <- biased_data %>%\n",
    "  filter(treatment == 1) %>%\n",
    "  pull(spend)\n",
    "\n",
    "## (b)メールが配信されなかったグループの購買データを得る\n",
    "no_mail_biased <- biased_data %>%\n",
    "  filter(treatment == 0) %>%\n",
    "  pull(spend)\n",
    "\n",
    "## (a)(b)の平均の差に対して有意差検定を実行\n",
    "rct_ttest_biased <- t.test(mens_mail_biased, no_mail_biased, var.equal = T)"
   ]
  },
  {
   "cell_type": "code",
   "execution_count": 14,
   "id": "copyrighted-outline",
   "metadata": {},
   "outputs": [
    {
     "data": {
      "text/plain": [
       "\n",
       "\tTwo Sample t-test\n",
       "\n",
       "data:  mens_mail_biased and no_mail_biased\n",
       "t = 5.6708, df = 31861, p-value = 1.433e-08\n",
       "alternative hypothesis: true difference in means is not equal to 0\n",
       "95 percent confidence interval:\n",
       " 0.6409145 1.3179784\n",
       "sample estimates:\n",
       "mean of x mean of y \n",
       "1.5277526 0.5483062 \n"
      ]
     },
     "metadata": {},
     "output_type": "display_data"
    }
   ],
   "source": [
    "rct_ttest_biased"
   ]
  },
  {
   "cell_type": "code",
   "execution_count": null,
   "id": "piano-strengthening",
   "metadata": {},
   "outputs": [],
   "source": []
  }
 ],
 "metadata": {
  "kernelspec": {
   "display_name": "R",
   "language": "R",
   "name": "ir"
  },
  "language_info": {
   "codemirror_mode": "r",
   "file_extension": ".r",
   "mimetype": "text/x-r-source",
   "name": "R",
   "pygments_lexer": "r",
   "version": "4.1.0"
  }
 },
 "nbformat": 4,
 "nbformat_minor": 5
}
