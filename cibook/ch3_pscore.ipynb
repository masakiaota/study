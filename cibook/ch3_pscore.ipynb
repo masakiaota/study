{
 "cells": [
  {
   "cell_type": "code",
   "execution_count": 1,
   "id": "19618a56-0cae-4ed7-90ff-a2d5066eaf26",
   "metadata": {},
   "outputs": [
    {
     "name": "stderr",
     "output_type": "stream",
     "text": [
      "── \u001b[1mAttaching packages\u001b[22m ───────────────────────────────────────────────────────────────────────────────────────────────────────────────────────────────────────────────────────────────────────────────────────────────────────────────────────────────────────────────────────────────────────────────────────────────────────────────────────────────────────────────────────────────────────────────────────── tidyverse 1.3.1 ──\n",
      "\n",
      "\u001b[32m✔\u001b[39m \u001b[34mggplot2\u001b[39m 3.3.5     \u001b[32m✔\u001b[39m \u001b[34mpurrr  \u001b[39m 0.3.4\n",
      "\u001b[32m✔\u001b[39m \u001b[34mtibble \u001b[39m 3.1.2     \u001b[32m✔\u001b[39m \u001b[34mdplyr  \u001b[39m 1.0.7\n",
      "\u001b[32m✔\u001b[39m \u001b[34mtidyr  \u001b[39m 1.1.3     \u001b[32m✔\u001b[39m \u001b[34mstringr\u001b[39m 1.4.0\n",
      "\u001b[32m✔\u001b[39m \u001b[34mreadr  \u001b[39m 1.4.0     \u001b[32m✔\u001b[39m \u001b[34mforcats\u001b[39m 0.5.1\n",
      "\n",
      "── \u001b[1mConflicts\u001b[22m ──────────────────────────────────────────────────────────────────────────────────────────────────────────────────────────────────────────────────────────────────────────────────────────────────────────────────────────────────────────────────────────────────────────────────────────────────────────────────────────────────────────────────────────────────────────────────────────── tidyverse_conflicts() ──\n",
      "\u001b[31m✖\u001b[39m \u001b[34mdplyr\u001b[39m::\u001b[32mfilter()\u001b[39m masks \u001b[34mstats\u001b[39m::filter()\n",
      "\u001b[31m✖\u001b[39m \u001b[34mdplyr\u001b[39m::\u001b[32mlag()\u001b[39m    masks \u001b[34mstats\u001b[39m::lag()\n",
      "\n"
     ]
    }
   ],
   "source": [
    "# (2) tidyverseの読み出し\n",
    "library(\"tidyverse\")\n",
    "library(\"broom\")"
   ]
  },
  {
   "cell_type": "code",
   "execution_count": 2,
   "id": "0e4a32af-bf34-474c-b20d-6015bd495ccc",
   "metadata": {},
   "outputs": [
    {
     "name": "stderr",
     "output_type": "stream",
     "text": [
      "\n",
      "\u001b[36m──\u001b[39m \u001b[1m\u001b[1mColumn specification\u001b[1m\u001b[22m \u001b[36m──────────────────────────────────────────────────────────────────────────────────────────────────────────────────────────────────────────────────────────────────────────────────────────────────────────────────────────────────────────────────────────────────────────────────────────────────────────────────────────────────────────────────────────────────────────────────────────────────────────\u001b[39m\n",
      "cols(\n",
      "  recency = \u001b[32mcol_double()\u001b[39m,\n",
      "  history_segment = \u001b[31mcol_character()\u001b[39m,\n",
      "  history = \u001b[32mcol_double()\u001b[39m,\n",
      "  mens = \u001b[32mcol_double()\u001b[39m,\n",
      "  womens = \u001b[32mcol_double()\u001b[39m,\n",
      "  zip_code = \u001b[31mcol_character()\u001b[39m,\n",
      "  newbie = \u001b[32mcol_double()\u001b[39m,\n",
      "  channel = \u001b[31mcol_character()\u001b[39m,\n",
      "  segment = \u001b[31mcol_character()\u001b[39m,\n",
      "  visit = \u001b[32mcol_double()\u001b[39m,\n",
      "  conversion = \u001b[32mcol_double()\u001b[39m,\n",
      "  spend = \u001b[32mcol_double()\u001b[39m\n",
      ")\n",
      "\n",
      "\n"
     ]
    },
    {
     "data": {
      "text/html": [
       "<table class=\"dataframe\">\n",
       "<caption>A tibble: 6 × 13</caption>\n",
       "<thead>\n",
       "\t<tr><th scope=col>recency</th><th scope=col>history_segment</th><th scope=col>history</th><th scope=col>mens</th><th scope=col>womens</th><th scope=col>zip_code</th><th scope=col>newbie</th><th scope=col>channel</th><th scope=col>segment</th><th scope=col>visit</th><th scope=col>conversion</th><th scope=col>spend</th><th scope=col>treatment</th></tr>\n",
       "\t<tr><th scope=col>&lt;dbl&gt;</th><th scope=col>&lt;chr&gt;</th><th scope=col>&lt;dbl&gt;</th><th scope=col>&lt;dbl&gt;</th><th scope=col>&lt;dbl&gt;</th><th scope=col>&lt;chr&gt;</th><th scope=col>&lt;dbl&gt;</th><th scope=col>&lt;chr&gt;</th><th scope=col>&lt;chr&gt;</th><th scope=col>&lt;dbl&gt;</th><th scope=col>&lt;dbl&gt;</th><th scope=col>&lt;dbl&gt;</th><th scope=col>&lt;dbl&gt;</th></tr>\n",
       "</thead>\n",
       "<tbody>\n",
       "\t<tr><td>6</td><td>3) $200 - $350</td><td>329.08</td><td>1</td><td>1</td><td>Rural</td><td>1</td><td>Web         </td><td>No E-Mail  </td><td>0</td><td>0</td><td>0</td><td>0</td></tr>\n",
       "\t<tr><td>9</td><td>5) $500 - $750</td><td>675.83</td><td>1</td><td>0</td><td>Rural</td><td>1</td><td>Web         </td><td>Mens E-Mail</td><td>0</td><td>0</td><td>0</td><td>1</td></tr>\n",
       "\t<tr><td>9</td><td>5) $500 - $750</td><td>675.07</td><td>1</td><td>1</td><td>Rural</td><td>1</td><td>Phone       </td><td>Mens E-Mail</td><td>0</td><td>0</td><td>0</td><td>1</td></tr>\n",
       "\t<tr><td>2</td><td>2) $100 - $200</td><td>101.64</td><td>0</td><td>1</td><td>Urban</td><td>0</td><td>Web         </td><td>Mens E-Mail</td><td>1</td><td>0</td><td>0</td><td>1</td></tr>\n",
       "\t<tr><td>4</td><td>3) $200 - $350</td><td>241.42</td><td>0</td><td>1</td><td>Rural</td><td>1</td><td>Multichannel</td><td>No E-Mail  </td><td>0</td><td>0</td><td>0</td><td>0</td></tr>\n",
       "\t<tr><td>3</td><td>1) $0 - $100  </td><td> 58.13</td><td>1</td><td>0</td><td>Urban</td><td>1</td><td>Web         </td><td>No E-Mail  </td><td>1</td><td>0</td><td>0</td><td>0</td></tr>\n",
       "</tbody>\n",
       "</table>\n"
      ],
      "text/latex": [
       "A tibble: 6 × 13\n",
       "\\begin{tabular}{lllllllllllll}\n",
       " recency & history\\_segment & history & mens & womens & zip\\_code & newbie & channel & segment & visit & conversion & spend & treatment\\\\\n",
       " <dbl> & <chr> & <dbl> & <dbl> & <dbl> & <chr> & <dbl> & <chr> & <chr> & <dbl> & <dbl> & <dbl> & <dbl>\\\\\n",
       "\\hline\n",
       "\t 6 & 3) \\$200 - \\$350 & 329.08 & 1 & 1 & Rural & 1 & Web          & No E-Mail   & 0 & 0 & 0 & 0\\\\\n",
       "\t 9 & 5) \\$500 - \\$750 & 675.83 & 1 & 0 & Rural & 1 & Web          & Mens E-Mail & 0 & 0 & 0 & 1\\\\\n",
       "\t 9 & 5) \\$500 - \\$750 & 675.07 & 1 & 1 & Rural & 1 & Phone        & Mens E-Mail & 0 & 0 & 0 & 1\\\\\n",
       "\t 2 & 2) \\$100 - \\$200 & 101.64 & 0 & 1 & Urban & 0 & Web          & Mens E-Mail & 1 & 0 & 0 & 1\\\\\n",
       "\t 4 & 3) \\$200 - \\$350 & 241.42 & 0 & 1 & Rural & 1 & Multichannel & No E-Mail   & 0 & 0 & 0 & 0\\\\\n",
       "\t 3 & 1) \\$0 - \\$100   &  58.13 & 1 & 0 & Urban & 1 & Web          & No E-Mail   & 1 & 0 & 0 & 0\\\\\n",
       "\\end{tabular}\n"
      ],
      "text/markdown": [
       "\n",
       "A tibble: 6 × 13\n",
       "\n",
       "| recency &lt;dbl&gt; | history_segment &lt;chr&gt; | history &lt;dbl&gt; | mens &lt;dbl&gt; | womens &lt;dbl&gt; | zip_code &lt;chr&gt; | newbie &lt;dbl&gt; | channel &lt;chr&gt; | segment &lt;chr&gt; | visit &lt;dbl&gt; | conversion &lt;dbl&gt; | spend &lt;dbl&gt; | treatment &lt;dbl&gt; |\n",
       "|---|---|---|---|---|---|---|---|---|---|---|---|---|\n",
       "| 6 | 3) $200 - $350 | 329.08 | 1 | 1 | Rural | 1 | Web          | No E-Mail   | 0 | 0 | 0 | 0 |\n",
       "| 9 | 5) $500 - $750 | 675.83 | 1 | 0 | Rural | 1 | Web          | Mens E-Mail | 0 | 0 | 0 | 1 |\n",
       "| 9 | 5) $500 - $750 | 675.07 | 1 | 1 | Rural | 1 | Phone        | Mens E-Mail | 0 | 0 | 0 | 1 |\n",
       "| 2 | 2) $100 - $200 | 101.64 | 0 | 1 | Urban | 0 | Web          | Mens E-Mail | 1 | 0 | 0 | 1 |\n",
       "| 4 | 3) $200 - $350 | 241.42 | 0 | 1 | Rural | 1 | Multichannel | No E-Mail   | 0 | 0 | 0 | 0 |\n",
       "| 3 | 1) $0 - $100   |  58.13 | 1 | 0 | Urban | 1 | Web          | No E-Mail   | 1 | 0 | 0 | 0 |\n",
       "\n"
      ],
      "text/plain": [
       "  recency history_segment history mens womens zip_code newbie channel     \n",
       "1 6       3) $200 - $350  329.08  1    1      Rural    1      Web         \n",
       "2 9       5) $500 - $750  675.83  1    0      Rural    1      Web         \n",
       "3 9       5) $500 - $750  675.07  1    1      Rural    1      Phone       \n",
       "4 2       2) $100 - $200  101.64  0    1      Urban    0      Web         \n",
       "5 4       3) $200 - $350  241.42  0    1      Rural    1      Multichannel\n",
       "6 3       1) $0 - $100     58.13  1    0      Urban    1      Web         \n",
       "  segment     visit conversion spend treatment\n",
       "1 No E-Mail   0     0          0     0        \n",
       "2 Mens E-Mail 0     0          0     1        \n",
       "3 Mens E-Mail 0     0          0     1        \n",
       "4 Mens E-Mail 1     0          0     1        \n",
       "5 No E-Mail   0     0          0     0        \n",
       "6 No E-Mail   1     0          0     0        "
      ]
     },
     "metadata": {},
     "output_type": "display_data"
    }
   ],
   "source": [
    "# (3) データの読み込み\n",
    "email_data <- read_csv(\"http://www.minethatdata.com/Kevin_Hillstrom_MineThatData_E-MailAnalytics_DataMiningChallenge_2008.03.20.csv\")\n",
    "# (4) 女性向けメールが配信されたデータを削除したデータを作成\n",
    "male_df <- email_data %>%\n",
    "  filter(segment != \"Womens E-Mail\") %>% # 女性向けメールが配信されたデータを削除\n",
    "  mutate(treatment = ifelse(segment == \"Mens E-Mail\", 1, 0)) # 介入を表すtreatment変数を追加\n",
    "male_df |> head()"
   ]
  },
  {
   "cell_type": "code",
   "execution_count": 3,
   "id": "ffdb8857-7fcb-4c12-bc99-5e439e2faac6",
   "metadata": {},
   "outputs": [],
   "source": [
    "# (5) セレクションバイアスのあるデータを作成 #前と同じ\n",
    "## seedを固定する\n",
    "set.seed(1)\n",
    "\n",
    "## 条件に反応するサンプルの量を半分にする\n",
    "obs_rate_c <- 0.5\n",
    "obs_rate_t <- 0.5\n",
    "\n",
    "## バイアスのあるデータを作成\n",
    "biased_data <- male_df %>%\n",
    "  mutate(obs_rate_c = ifelse( (history > 300) | (recency < 6) | (channel == \"Multichannel\"), obs_rate_c, 1),\n",
    "         obs_rate_t = ifelse( (history > 300) | (recency < 6) | (channel == \"Multichannel\"), 1, obs_rate_t),\n",
    "         random_number = runif(n = NROW(male_df))) %>%\n",
    "  filter( (treatment == 0 & random_number < obs_rate_c ) |\n",
    "            (treatment == 1 & random_number < obs_rate_t) )"
   ]
  },
  {
   "cell_type": "code",
   "execution_count": 4,
   "id": "974971b5-240a-4105-95b2-52e1b53187f5",
   "metadata": {},
   "outputs": [
    {
     "data": {
      "text/html": [
       "<table class=\"dataframe\">\n",
       "<caption>A tibble: 5 × 5</caption>\n",
       "<thead>\n",
       "\t<tr><th scope=col>term</th><th scope=col>estimate</th><th scope=col>std.error</th><th scope=col>statistic</th><th scope=col>p.value</th></tr>\n",
       "\t<tr><th scope=col>&lt;chr&gt;</th><th scope=col>&lt;dbl&gt;</th><th scope=col>&lt;dbl&gt;</th><th scope=col>&lt;dbl&gt;</th><th scope=col>&lt;dbl&gt;</th></tr>\n",
       "</thead>\n",
       "<tbody>\n",
       "\t<tr><td>(Intercept) </td><td> 1.057584623</td><td>4.996185e-02</td><td> 21.167845</td><td> 1.890031e-99</td></tr>\n",
       "\t<tr><td>recency     </td><td>-0.126978534</td><td>3.448643e-03</td><td>-36.819855</td><td>8.884703e-297</td></tr>\n",
       "\t<tr><td>history     </td><td> 0.000569505</td><td>5.450656e-05</td><td> 10.448375</td><td> 1.490577e-25</td></tr>\n",
       "\t<tr><td>channelPhone</td><td>-0.343353320</td><td>4.247060e-02</td><td> -8.084494</td><td> 6.242263e-16</td></tr>\n",
       "\t<tr><td>channelWeb  </td><td>-0.317944195</td><td>4.241573e-02</td><td> -7.495903</td><td> 6.584333e-14</td></tr>\n",
       "</tbody>\n",
       "</table>\n"
      ],
      "text/latex": [
       "A tibble: 5 × 5\n",
       "\\begin{tabular}{lllll}\n",
       " term & estimate & std.error & statistic & p.value\\\\\n",
       " <chr> & <dbl> & <dbl> & <dbl> & <dbl>\\\\\n",
       "\\hline\n",
       "\t (Intercept)  &  1.057584623 & 4.996185e-02 &  21.167845 &  1.890031e-99\\\\\n",
       "\t recency      & -0.126978534 & 3.448643e-03 & -36.819855 & 8.884703e-297\\\\\n",
       "\t history      &  0.000569505 & 5.450656e-05 &  10.448375 &  1.490577e-25\\\\\n",
       "\t channelPhone & -0.343353320 & 4.247060e-02 &  -8.084494 &  6.242263e-16\\\\\n",
       "\t channelWeb   & -0.317944195 & 4.241573e-02 &  -7.495903 &  6.584333e-14\\\\\n",
       "\\end{tabular}\n"
      ],
      "text/markdown": [
       "\n",
       "A tibble: 5 × 5\n",
       "\n",
       "| term &lt;chr&gt; | estimate &lt;dbl&gt; | std.error &lt;dbl&gt; | statistic &lt;dbl&gt; | p.value &lt;dbl&gt; |\n",
       "|---|---|---|---|---|\n",
       "| (Intercept)  |  1.057584623 | 4.996185e-02 |  21.167845 |  1.890031e-99 |\n",
       "| recency      | -0.126978534 | 3.448643e-03 | -36.819855 | 8.884703e-297 |\n",
       "| history      |  0.000569505 | 5.450656e-05 |  10.448375 |  1.490577e-25 |\n",
       "| channelPhone | -0.343353320 | 4.247060e-02 |  -8.084494 |  6.242263e-16 |\n",
       "| channelWeb   | -0.317944195 | 4.241573e-02 |  -7.495903 |  6.584333e-14 |\n",
       "\n"
      ],
      "text/plain": [
       "  term         estimate     std.error    statistic  p.value      \n",
       "1 (Intercept)   1.057584623 4.996185e-02  21.167845  1.890031e-99\n",
       "2 recency      -0.126978534 3.448643e-03 -36.819855 8.884703e-297\n",
       "3 history       0.000569505 5.450656e-05  10.448375  1.490577e-25\n",
       "4 channelPhone -0.343353320 4.247060e-02  -8.084494  6.242263e-16\n",
       "5 channelWeb   -0.317944195 4.241573e-02  -7.495903  6.584333e-14"
      ]
     },
     "metadata": {},
     "output_type": "display_data"
    }
   ],
   "source": [
    "# (6) 傾向スコアの推定\n",
    "ps_model <- glm(data = biased_data,\n",
    "                formula = treatment ~ recency + history + channel,\n",
    "                family = binomial)\n",
    "ps_model |> tidy() #モデルの中身 特に意味はない"
   ]
  },
  {
   "cell_type": "code",
   "execution_count": 5,
   "id": "ae4caa1f-c078-4c0f-ba15-b140bf453562",
   "metadata": {},
   "outputs": [],
   "source": [
    "# (7) 傾向スコアマッチング\n",
    "## ライブラリの読み込み\n",
    "library(\"MatchIt\")\n",
    "\n",
    "## 傾向スコアを利用したマッチング\n",
    "# matchitの中で傾向スコアも計算してくれるのかな...\n",
    "# distance = \"glm\",という引数があったのでそうっぽい\n",
    "m_near <- matchit(formula = treatment ~ recency + history + channel,\n",
    "                  data = biased_data,\n",
    "                  method = \"nearest\",\n",
    "                  replace = TRUE)\n"
   ]
  },
  {
   "cell_type": "code",
   "execution_count": 6,
   "id": "34793f28-ccb4-4338-be9e-04b79e68def5",
   "metadata": {},
   "outputs": [
    {
     "data": {
      "text/html": [
       "<style>\n",
       ".list-inline {list-style: none; margin:0; padding: 0}\n",
       ".list-inline>li {display: inline-block}\n",
       ".list-inline>li:not(:last-child)::after {content: \"\\00b7\"; padding: 0 .5ex}\n",
       "</style>\n",
       "<ol class=list-inline><li>31863</li><li>16</li></ol>\n"
      ],
      "text/latex": [
       "\\begin{enumerate*}\n",
       "\\item 31863\n",
       "\\item 16\n",
       "\\end{enumerate*}\n"
      ],
      "text/markdown": [
       "1. 31863\n",
       "2. 16\n",
       "\n",
       "\n"
      ],
      "text/plain": [
       "[1] 31863    16"
      ]
     },
     "metadata": {},
     "output_type": "display_data"
    },
    {
     "data": {
      "text/html": [
       "<style>\n",
       ".list-inline {list-style: none; margin:0; padding: 0}\n",
       ".list-inline>li {display: inline-block}\n",
       ".list-inline>li:not(:last-child)::after {content: \"\\00b7\"; padding: 0 .5ex}\n",
       "</style>\n",
       "<ol class=list-inline><li>24222</li><li>18</li></ol>\n"
      ],
      "text/latex": [
       "\\begin{enumerate*}\n",
       "\\item 24222\n",
       "\\item 18\n",
       "\\end{enumerate*}\n"
      ],
      "text/markdown": [
       "1. 24222\n",
       "2. 18\n",
       "\n",
       "\n"
      ],
      "text/plain": [
       "[1] 24222    18"
      ]
     },
     "metadata": {},
     "output_type": "display_data"
    }
   ],
   "source": [
    "## マッチング後のデータを作成\n",
    "matched_data <- match.data(m_near)\n",
    "dim(biased_data)\n",
    "dim(matched_data) #マッチングで近い傾向スコアのサンプルを持ってきただけか"
   ]
  },
  {
   "cell_type": "code",
   "execution_count": 7,
   "id": "641c328d-4306-4330-80fc-ad6ba2693537",
   "metadata": {},
   "outputs": [
    {
     "data": {
      "text/html": [
       "<table class=\"dataframe\">\n",
       "<caption>A tibble: 2 × 5</caption>\n",
       "<thead>\n",
       "\t<tr><th scope=col>term</th><th scope=col>estimate</th><th scope=col>std.error</th><th scope=col>statistic</th><th scope=col>p.value</th></tr>\n",
       "\t<tr><th scope=col>&lt;chr&gt;</th><th scope=col>&lt;dbl&gt;</th><th scope=col>&lt;dbl&gt;</th><th scope=col>&lt;dbl&gt;</th><th scope=col>&lt;dbl&gt;</th></tr>\n",
       "</thead>\n",
       "<tbody>\n",
       "\t<tr><td>(Intercept)</td><td>0.6201651</td><td>0.1987379</td><td>3.120517</td><td>0.0018074588</td></tr>\n",
       "\t<tr><td>treatment  </td><td>0.9075875</td><td>0.2358559</td><td>3.848059</td><td>0.0001193629</td></tr>\n",
       "</tbody>\n",
       "</table>\n"
      ],
      "text/latex": [
       "A tibble: 2 × 5\n",
       "\\begin{tabular}{lllll}\n",
       " term & estimate & std.error & statistic & p.value\\\\\n",
       " <chr> & <dbl> & <dbl> & <dbl> & <dbl>\\\\\n",
       "\\hline\n",
       "\t (Intercept) & 0.6201651 & 0.1987379 & 3.120517 & 0.0018074588\\\\\n",
       "\t treatment   & 0.9075875 & 0.2358559 & 3.848059 & 0.0001193629\\\\\n",
       "\\end{tabular}\n"
      ],
      "text/markdown": [
       "\n",
       "A tibble: 2 × 5\n",
       "\n",
       "| term &lt;chr&gt; | estimate &lt;dbl&gt; | std.error &lt;dbl&gt; | statistic &lt;dbl&gt; | p.value &lt;dbl&gt; |\n",
       "|---|---|---|---|---|\n",
       "| (Intercept) | 0.6201651 | 0.1987379 | 3.120517 | 0.0018074588 |\n",
       "| treatment   | 0.9075875 | 0.2358559 | 3.848059 | 0.0001193629 |\n",
       "\n"
      ],
      "text/plain": [
       "  term        estimate  std.error statistic p.value     \n",
       "1 (Intercept) 0.6201651 0.1987379 3.120517  0.0018074588\n",
       "2 treatment   0.9075875 0.2358559 3.848059  0.0001193629"
      ]
     },
     "metadata": {},
     "output_type": "display_data"
    }
   ],
   "source": [
    "## マッチング後のデータで効果の推定\n",
    "PSM_result <- lm(data = matched_data,\n",
    "                 formula = spend ~ treatment) %>%\n",
    "  tidy()\n",
    "PSM_result #効果量は0.9程度という結果に #真の効果量が0.77程度なのでバイアスがかかっているように見えるが、この手法は |z=1の効果量を求めていることに注意"
   ]
  },
  {
   "cell_type": "code",
   "execution_count": 8,
   "id": "c44fa11a-6928-4028-98c5-e9e98895068e",
   "metadata": {},
   "outputs": [],
   "source": [
    "# (8) 逆確率重み付き推定（IPW）\n",
    "## ライブラリの読み込み\n",
    "library(\"WeightIt\")\n",
    "\n",
    "## 重みの推定\n",
    "# これも勝手に傾向スコアの計算はしてくれるのかな... ドキュメントに見つからないけど\n",
    "# method=\"ps\" が propensity score weighting (傾向スコア重み付け)を表してた\n",
    "weighting <- weightit(treatment ~ recency + history + channel,\n",
    "              data = biased_data,\n",
    "              method = \"ps\",\n",
    "              estimand = \"ATE\")"
   ]
  },
  {
   "cell_type": "code",
   "execution_count": 9,
   "id": "218c9534-dbdb-4078-a34f-654b34f12834",
   "metadata": {},
   "outputs": [
    {
     "data": {
      "text/html": [
       "<table class=\"dataframe\">\n",
       "<caption>A tibble: 2 × 5</caption>\n",
       "<thead>\n",
       "\t<tr><th scope=col>term</th><th scope=col>estimate</th><th scope=col>std.error</th><th scope=col>statistic</th><th scope=col>p.value</th></tr>\n",
       "\t<tr><th scope=col>&lt;chr&gt;</th><th scope=col>&lt;dbl&gt;</th><th scope=col>&lt;dbl&gt;</th><th scope=col>&lt;dbl&gt;</th><th scope=col>&lt;dbl&gt;</th></tr>\n",
       "</thead>\n",
       "<tbody>\n",
       "\t<tr><td>(Intercept)</td><td>0.5804785</td><td>0.1162855</td><td>4.991840</td><td>6.012178e-07</td></tr>\n",
       "\t<tr><td>treatment  </td><td>0.8697003</td><td>0.1649628</td><td>5.272099</td><td>1.357499e-07</td></tr>\n",
       "</tbody>\n",
       "</table>\n"
      ],
      "text/latex": [
       "A tibble: 2 × 5\n",
       "\\begin{tabular}{lllll}\n",
       " term & estimate & std.error & statistic & p.value\\\\\n",
       " <chr> & <dbl> & <dbl> & <dbl> & <dbl>\\\\\n",
       "\\hline\n",
       "\t (Intercept) & 0.5804785 & 0.1162855 & 4.991840 & 6.012178e-07\\\\\n",
       "\t treatment   & 0.8697003 & 0.1649628 & 5.272099 & 1.357499e-07\\\\\n",
       "\\end{tabular}\n"
      ],
      "text/markdown": [
       "\n",
       "A tibble: 2 × 5\n",
       "\n",
       "| term &lt;chr&gt; | estimate &lt;dbl&gt; | std.error &lt;dbl&gt; | statistic &lt;dbl&gt; | p.value &lt;dbl&gt; |\n",
       "|---|---|---|---|---|\n",
       "| (Intercept) | 0.5804785 | 0.1162855 | 4.991840 | 6.012178e-07 |\n",
       "| treatment   | 0.8697003 | 0.1649628 | 5.272099 | 1.357499e-07 |\n",
       "\n"
      ],
      "text/plain": [
       "  term        estimate  std.error statistic p.value     \n",
       "1 (Intercept) 0.5804785 0.1162855 4.991840  6.012178e-07\n",
       "2 treatment   0.8697003 0.1649628 5.272099  1.357499e-07"
      ]
     },
     "metadata": {},
     "output_type": "display_data"
    }
   ],
   "source": [
    "## 重み付きデータでの効果の推定\n",
    "IPW_result <- lm(data = biased_data,\n",
    "                 formula = spend ~ treatment,\n",
    "                 weights = weighting$weights) %>% #ここで重み付けをやってる\n",
    "  tidy()\n",
    "IPW_result #真の効果量が0.77程度なのでちょっとミスってる..."
   ]
  },
  {
   "cell_type": "code",
   "execution_count": null,
   "id": "49e14c61-20df-4e63-8fca-0611f1807111",
   "metadata": {},
   "outputs": [],
   "source": []
  },
  {
   "cell_type": "markdown",
   "id": "5a13cbc5-b3b7-4f33-97bc-c345afed6d0a",
   "metadata": {},
   "source": [
    "傾向スコアの良さは共変量のバランスを見ることでわかる"
   ]
  },
  {
   "cell_type": "code",
   "execution_count": 10,
   "id": "dded8a56-5339-4946-8f5b-0cdd2608b5c0",
   "metadata": {},
   "outputs": [
    {
     "name": "stderr",
     "output_type": "stream",
     "text": [
      " cobalt (Version 4.3.1, Build Date: 2021-03-30 09:50:18 UTC)\n",
      "\n",
      "\n",
      "Attaching package: ‘cobalt’\n",
      "\n",
      "\n",
      "The following object is masked from ‘package:MatchIt’:\n",
      "\n",
      "    lalonde\n",
      "\n",
      "\n"
     ]
    }
   ],
   "source": [
    "# (9) 共変量のバランスを確認\n",
    "##ライブラリの読み込み\n",
    "library(\"cobalt\")"
   ]
  },
  {
   "cell_type": "code",
   "execution_count": 11,
   "id": "5ec674c6-a0af-4e86-adea-dc420aa3600a",
   "metadata": {},
   "outputs": [
    {
     "name": "stderr",
     "output_type": "stream",
     "text": [
      "Warning message:\n",
      "“Standardized mean differences and raw mean differences are present in the same plot. \n",
      "Use the 'stars' argument to distinguish between them and appropriately label the x-axis.”\n"
     ]
    },
    {
     "data": {
      "image/png": "[encoded data removed]",
      "text/plain": [
       "plot without title"
      ]
     },
     "metadata": {
      "image/png": {
       "height": 420,
       "width": 420
      }
     },
     "output_type": "display_data"
    }
   ],
   "source": [
    "## マッチングしたデータでの共変量のバランス\n",
    "love.plot(m_near, # このobjectを投げるだけで書ける...\n",
    "          abs=TRUE,\n",
    "          threshold = .1)\n",
    "# 各特徴量の平均に対して、2群間で差を求め絶対値で示している。点が0に近いほど2群間の差が小さい。\n",
    "# 傾向スコアで調整したほうが2群間でバランスが取れていることが確認できる。"
   ]
  },
  {
   "cell_type": "code",
   "execution_count": 12,
   "id": "913a5e58-a344-405c-b1c7-e27c9267b679",
   "metadata": {},
   "outputs": [
    {
     "name": "stderr",
     "output_type": "stream",
     "text": [
      "Warning message:\n",
      "“Standardized mean differences and raw mean differences are present in the same plot. \n",
      "Use the 'stars' argument to distinguish between them and appropriately label the x-axis.”\n"
     ]
    },
    {
     "data": {
      "image/png": "[encoded data removed]",
      "text/plain": [
       "plot without title"
      ]
     },
     "metadata": {
      "image/png": {
       "height": 420,
       "width": 420
      }
     },
     "output_type": "display_data"
    }
   ],
   "source": [
    "## 重み付きデータでの共変量のバランス\n",
    "love.plot(weighting,\n",
    "          abs=TRUE,\n",
    "          threshold = .1)"
   ]
  },
  {
   "cell_type": "code",
   "execution_count": null,
   "id": "d9a1e463-1bc3-4241-93b1-a968498a6500",
   "metadata": {},
   "outputs": [],
   "source": []
  },
  {
   "cell_type": "markdown",
   "id": "fa1263a6-4baf-40a0-9645-ad07ffc5c834",
   "metadata": {},
   "source": [
    "機械学習を利用したメールマーケティグ施策の効果測定"
   ]
  },
  {
   "cell_type": "code",
   "execution_count": 13,
   "id": "a644825b-4f95-4943-9179-91cf7236b316",
   "metadata": {},
   "outputs": [],
   "source": [
    "# (10) 統計モデルを用いたメールの配信のログを分析\n",
    "## まずはデータの作成\n",
    "## 学習データと配信ログを作るデータに分割\n",
    "set.seed(1)\n",
    "\n",
    "train_flag <- sample(NROW(male_df), NROW(male_df)/2, replace = FALSE) #半分をtrainにする\n",
    "\n",
    "# 機械学習のいつものようにtrainとtestに分割\n",
    "male_df_train <- male_df[train_flag,] %>%\n",
    "  filter(treatment == 0) #なんでtreatmentを0に限定してるんだろう... 学習できなくね？\n",
    "# →これでいい。treatmentがない場合に売上が発生する確率を知りたい。すべては偏ったデータを作るため\n",
    "\n",
    "male_df_test <- male_df[-train_flag,]"
   ]
  },
  {
   "cell_type": "code",
   "execution_count": 14,
   "id": "912ed02b-3d06-418f-8666-fdefb62c011a",
   "metadata": {},
   "outputs": [],
   "source": [
    "## 売上が発生する確率を予測するモデルを作成\n",
    "predict_model <- glm(data = male_df_train,\n",
    "                     formula = conversion ~ recency + history_segment +\n",
    "                       channel + zip_code,\n",
    "                     family = binomial)"
   ]
  },
  {
   "cell_type": "code",
   "execution_count": 15,
   "id": "32421a5a-b857-4803-ad66-4d7ff3ac40a3",
   "metadata": {},
   "outputs": [
    {
     "name": "stderr",
     "output_type": "stream",
     "text": [
      "Warning message:\n",
      "“'tidy.numeric' is deprecated.\n",
      "See help(\"Deprecated\")”\n",
      "Warning message:\n",
      "“`data_frame()` was deprecated in tibble 1.1.0.\n",
      "Please use `tibble()` instead.\n",
      "\u001b[90mThis warning is displayed once every 8 hours.\u001b[39m\n",
      "\u001b[90mCall `lifecycle::last_warnings()` to see where this warning was generated.\u001b[39m”\n"
     ]
    },
    {
     "data": {
      "text/html": [
       "<table class=\"dataframe\">\n",
       "<caption>A tibble: 6 × 3</caption>\n",
       "<thead>\n",
       "\t<tr><th scope=col>names</th><th scope=col>pred_cv</th><th scope=col>pred_cv_rank</th></tr>\n",
       "\t<tr><th scope=col>&lt;chr&gt;</th><th scope=col>&lt;dbl&gt;</th><th scope=col>&lt;dbl&gt;</th></tr>\n",
       "</thead>\n",
       "<tbody>\n",
       "\t<tr><td>1</td><td>0.006670530</td><td>0.7060452</td></tr>\n",
       "\t<tr><td>2</td><td>0.002842313</td><td>0.3430489</td></tr>\n",
       "\t<tr><td>3</td><td>0.001973488</td><td>0.2200319</td></tr>\n",
       "\t<tr><td>4</td><td>0.001583054</td><td>0.1377546</td></tr>\n",
       "\t<tr><td>5</td><td>0.006850794</td><td>0.7201727</td></tr>\n",
       "\t<tr><td>6</td><td>0.005237747</td><td>0.6050408</td></tr>\n",
       "</tbody>\n",
       "</table>\n"
      ],
      "text/latex": [
       "A tibble: 6 × 3\n",
       "\\begin{tabular}{lll}\n",
       " names & pred\\_cv & pred\\_cv\\_rank\\\\\n",
       " <chr> & <dbl> & <dbl>\\\\\n",
       "\\hline\n",
       "\t 1 & 0.006670530 & 0.7060452\\\\\n",
       "\t 2 & 0.002842313 & 0.3430489\\\\\n",
       "\t 3 & 0.001973488 & 0.2200319\\\\\n",
       "\t 4 & 0.001583054 & 0.1377546\\\\\n",
       "\t 5 & 0.006850794 & 0.7201727\\\\\n",
       "\t 6 & 0.005237747 & 0.6050408\\\\\n",
       "\\end{tabular}\n"
      ],
      "text/markdown": [
       "\n",
       "A tibble: 6 × 3\n",
       "\n",
       "| names &lt;chr&gt; | pred_cv &lt;dbl&gt; | pred_cv_rank &lt;dbl&gt; |\n",
       "|---|---|---|\n",
       "| 1 | 0.006670530 | 0.7060452 |\n",
       "| 2 | 0.002842313 | 0.3430489 |\n",
       "| 3 | 0.001973488 | 0.2200319 |\n",
       "| 4 | 0.001583054 | 0.1377546 |\n",
       "| 5 | 0.006850794 | 0.7201727 |\n",
       "| 6 | 0.005237747 | 0.6050408 |\n",
       "\n"
      ],
      "text/plain": [
       "  names pred_cv     pred_cv_rank\n",
       "1 1     0.006670530 0.7060452   \n",
       "2 2     0.002842313 0.3430489   \n",
       "3 3     0.001973488 0.2200319   \n",
       "4 4     0.001583054 0.1377546   \n",
       "5 5     0.006850794 0.7201727   \n",
       "6 6     0.005237747 0.6050408   "
      ]
     },
     "metadata": {},
     "output_type": "display_data"
    }
   ],
   "source": [
    "## 売上の発生確率からメールの配信確率を決める\n",
    "pred_cv <- predict(predict_model,\n",
    "                   newdata = male_df_test,\n",
    "                   type = \"response\")\n",
    "pred_cv_rank <- percent_rank(pred_cv)\n",
    "\n",
    "\n",
    "pred_cv |> \n",
    "    tidy() |>\n",
    "    mutate(pred_cv_rank) |>\n",
    "    mutate(pred_cv) |>\n",
    "    select(names, pred_cv, pred_cv_rank) |>\n",
    "    head()\n",
    "\n",
    "# 配信確率とquantile"
   ]
  },
  {
   "cell_type": "code",
   "execution_count": 16,
   "id": "ad3b18e1-4432-425a-a0f2-79e33adc7334",
   "metadata": {},
   "outputs": [
    {
     "data": {
      "text/html": [
       "<table class=\"dataframe\">\n",
       "<caption>A tibble: 6 × 15</caption>\n",
       "<thead>\n",
       "\t<tr><th scope=col>recency</th><th scope=col>history_segment</th><th scope=col>history</th><th scope=col>mens</th><th scope=col>womens</th><th scope=col>zip_code</th><th scope=col>newbie</th><th scope=col>channel</th><th scope=col>segment</th><th scope=col>visit</th><th scope=col>conversion</th><th scope=col>spend</th><th scope=col>treatment</th><th scope=col>mail_assign</th><th scope=col>ps</th></tr>\n",
       "\t<tr><th scope=col>&lt;dbl&gt;</th><th scope=col>&lt;chr&gt;</th><th scope=col>&lt;dbl&gt;</th><th scope=col>&lt;dbl&gt;</th><th scope=col>&lt;dbl&gt;</th><th scope=col>&lt;chr&gt;</th><th scope=col>&lt;dbl&gt;</th><th scope=col>&lt;chr&gt;</th><th scope=col>&lt;chr&gt;</th><th scope=col>&lt;dbl&gt;</th><th scope=col>&lt;dbl&gt;</th><th scope=col>&lt;dbl&gt;</th><th scope=col>&lt;dbl&gt;</th><th scope=col>&lt;int&gt;</th><th scope=col>&lt;dbl&gt;</th></tr>\n",
       "</thead>\n",
       "<tbody>\n",
       "\t<tr><td> 2</td><td>2) $100 - $200</td><td>101.64</td><td>0</td><td>1</td><td>Urban    </td><td>0</td><td>Web  </td><td>Mens E-Mail</td><td>1</td><td>0</td><td>0</td><td>1</td><td>1</td><td>0.70604525</td></tr>\n",
       "\t<tr><td> 2</td><td>2) $100 - $200</td><td>118.40</td><td>1</td><td>0</td><td>Surburban</td><td>0</td><td>Web  </td><td>Mens E-Mail</td><td>1</td><td>0</td><td>0</td><td>1</td><td>1</td><td>0.72017272</td></tr>\n",
       "\t<tr><td> 2</td><td>1) $0 - $100  </td><td> 29.99</td><td>0</td><td>1</td><td>Urban    </td><td>1</td><td>Phone</td><td>No E-Mail  </td><td>0</td><td>0</td><td>0</td><td>0</td><td>0</td><td>0.60504083</td></tr>\n",
       "\t<tr><td> 9</td><td>3) $200 - $350</td><td>334.24</td><td>1</td><td>0</td><td>Urban    </td><td>0</td><td>Web  </td><td>Mens E-Mail</td><td>0</td><td>0</td><td>0</td><td>1</td><td>1</td><td>0.61198723</td></tr>\n",
       "\t<tr><td> 3</td><td>1) $0 - $100  </td><td> 99.23</td><td>1</td><td>0</td><td>Rural    </td><td>0</td><td>Web  </td><td>Mens E-Mail</td><td>1</td><td>0</td><td>0</td><td>1</td><td>1</td><td>0.80423355</td></tr>\n",
       "\t<tr><td>11</td><td>1) $0 - $100  </td><td> 53.81</td><td>1</td><td>0</td><td>Urban    </td><td>1</td><td>Phone</td><td>No E-Mail  </td><td>0</td><td>0</td><td>0</td><td>0</td><td>0</td><td>0.03323008</td></tr>\n",
       "</tbody>\n",
       "</table>\n"
      ],
      "text/latex": [
       "A tibble: 6 × 15\n",
       "\\begin{tabular}{lllllllllllllll}\n",
       " recency & history\\_segment & history & mens & womens & zip\\_code & newbie & channel & segment & visit & conversion & spend & treatment & mail\\_assign & ps\\\\\n",
       " <dbl> & <chr> & <dbl> & <dbl> & <dbl> & <chr> & <dbl> & <chr> & <chr> & <dbl> & <dbl> & <dbl> & <dbl> & <int> & <dbl>\\\\\n",
       "\\hline\n",
       "\t  2 & 2) \\$100 - \\$200 & 101.64 & 0 & 1 & Urban     & 0 & Web   & Mens E-Mail & 1 & 0 & 0 & 1 & 1 & 0.70604525\\\\\n",
       "\t  2 & 2) \\$100 - \\$200 & 118.40 & 1 & 0 & Surburban & 0 & Web   & Mens E-Mail & 1 & 0 & 0 & 1 & 1 & 0.72017272\\\\\n",
       "\t  2 & 1) \\$0 - \\$100   &  29.99 & 0 & 1 & Urban     & 1 & Phone & No E-Mail   & 0 & 0 & 0 & 0 & 0 & 0.60504083\\\\\n",
       "\t  9 & 3) \\$200 - \\$350 & 334.24 & 1 & 0 & Urban     & 0 & Web   & Mens E-Mail & 0 & 0 & 0 & 1 & 1 & 0.61198723\\\\\n",
       "\t  3 & 1) \\$0 - \\$100   &  99.23 & 1 & 0 & Rural     & 0 & Web   & Mens E-Mail & 1 & 0 & 0 & 1 & 1 & 0.80423355\\\\\n",
       "\t 11 & 1) \\$0 - \\$100   &  53.81 & 1 & 0 & Urban     & 1 & Phone & No E-Mail   & 0 & 0 & 0 & 0 & 0 & 0.03323008\\\\\n",
       "\\end{tabular}\n"
      ],
      "text/markdown": [
       "\n",
       "A tibble: 6 × 15\n",
       "\n",
       "| recency &lt;dbl&gt; | history_segment &lt;chr&gt; | history &lt;dbl&gt; | mens &lt;dbl&gt; | womens &lt;dbl&gt; | zip_code &lt;chr&gt; | newbie &lt;dbl&gt; | channel &lt;chr&gt; | segment &lt;chr&gt; | visit &lt;dbl&gt; | conversion &lt;dbl&gt; | spend &lt;dbl&gt; | treatment &lt;dbl&gt; | mail_assign &lt;int&gt; | ps &lt;dbl&gt; |\n",
       "|---|---|---|---|---|---|---|---|---|---|---|---|---|---|---|\n",
       "|  2 | 2) $100 - $200 | 101.64 | 0 | 1 | Urban     | 0 | Web   | Mens E-Mail | 1 | 0 | 0 | 1 | 1 | 0.70604525 |\n",
       "|  2 | 2) $100 - $200 | 118.40 | 1 | 0 | Surburban | 0 | Web   | Mens E-Mail | 1 | 0 | 0 | 1 | 1 | 0.72017272 |\n",
       "|  2 | 1) $0 - $100   |  29.99 | 0 | 1 | Urban     | 1 | Phone | No E-Mail   | 0 | 0 | 0 | 0 | 0 | 0.60504083 |\n",
       "|  9 | 3) $200 - $350 | 334.24 | 1 | 0 | Urban     | 0 | Web   | Mens E-Mail | 0 | 0 | 0 | 1 | 1 | 0.61198723 |\n",
       "|  3 | 1) $0 - $100   |  99.23 | 1 | 0 | Rural     | 0 | Web   | Mens E-Mail | 1 | 0 | 0 | 1 | 1 | 0.80423355 |\n",
       "| 11 | 1) $0 - $100   |  53.81 | 1 | 0 | Urban     | 1 | Phone | No E-Mail   | 0 | 0 | 0 | 0 | 0 | 0.03323008 |\n",
       "\n"
      ],
      "text/plain": [
       "  recency history_segment history mens womens zip_code  newbie channel\n",
       "1  2      2) $100 - $200  101.64  0    1      Urban     0      Web    \n",
       "2  2      2) $100 - $200  118.40  1    0      Surburban 0      Web    \n",
       "3  2      1) $0 - $100     29.99  0    1      Urban     1      Phone  \n",
       "4  9      3) $200 - $350  334.24  1    0      Urban     0      Web    \n",
       "5  3      1) $0 - $100     99.23  1    0      Rural     0      Web    \n",
       "6 11      1) $0 - $100     53.81  1    0      Urban     1      Phone  \n",
       "  segment     visit conversion spend treatment mail_assign ps        \n",
       "1 Mens E-Mail 1     0          0     1         1           0.70604525\n",
       "2 Mens E-Mail 1     0          0     1         1           0.72017272\n",
       "3 No E-Mail   0     0          0     0         0           0.60504083\n",
       "4 Mens E-Mail 0     0          0     1         1           0.61198723\n",
       "5 Mens E-Mail 1     0          0     1         1           0.80423355\n",
       "6 No E-Mail   0     0          0     0         0           0.03323008"
      ]
     },
     "metadata": {},
     "output_type": "display_data"
    }
   ],
   "source": [
    "## 配信確率を元にメールの配信を決める\n",
    "set.seed(1)\n",
    "mail_assign <- sapply(pred_cv_rank, rbinom, n = 1, size = 1) #forの記述を省略してる感じ\n",
    "\n",
    "## 配信ログを作成\n",
    "ml_male_df <- male_df_test %>%\n",
    "  mutate(mail_assign = mail_assign, #mail_assign 列を作る\n",
    "         ps = pred_cv_rank) %>%\n",
    "  filter( (treatment == 1 & mail_assign == 1) |\n",
    "            (treatment == 0 & mail_assign == 0)) #辻褄が悪いデータは消す\n",
    "\n",
    "ml_male_df |> head()"
   ]
  },
  {
   "cell_type": "code",
   "execution_count": 17,
   "id": "415baf23-4782-4a5a-83c4-e75519201183",
   "metadata": {},
   "outputs": [
    {
     "data": {
      "text/html": [
       "<table class=\"dataframe\">\n",
       "<caption>A tibble: 2 × 5</caption>\n",
       "<thead>\n",
       "\t<tr><th scope=col>term</th><th scope=col>estimate</th><th scope=col>std.error</th><th scope=col>statistic</th><th scope=col>p.value</th></tr>\n",
       "\t<tr><th scope=col>&lt;chr&gt;</th><th scope=col>&lt;dbl&gt;</th><th scope=col>&lt;dbl&gt;</th><th scope=col>&lt;dbl&gt;</th><th scope=col>&lt;dbl&gt;</th></tr>\n",
       "</thead>\n",
       "<tbody>\n",
       "\t<tr><td>(Intercept)</td><td>0.6417370</td><td>0.1465706</td><td>4.378347</td><td>1.201525e-05</td></tr>\n",
       "\t<tr><td>treatment  </td><td>0.7636348</td><td>0.2074234</td><td>3.681527</td><td>2.324132e-04</td></tr>\n",
       "</tbody>\n",
       "</table>\n"
      ],
      "text/latex": [
       "A tibble: 2 × 5\n",
       "\\begin{tabular}{lllll}\n",
       " term & estimate & std.error & statistic & p.value\\\\\n",
       " <chr> & <dbl> & <dbl> & <dbl> & <dbl>\\\\\n",
       "\\hline\n",
       "\t (Intercept) & 0.6417370 & 0.1465706 & 4.378347 & 1.201525e-05\\\\\n",
       "\t treatment   & 0.7636348 & 0.2074234 & 3.681527 & 2.324132e-04\\\\\n",
       "\\end{tabular}\n"
      ],
      "text/markdown": [
       "\n",
       "A tibble: 2 × 5\n",
       "\n",
       "| term &lt;chr&gt; | estimate &lt;dbl&gt; | std.error &lt;dbl&gt; | statistic &lt;dbl&gt; | p.value &lt;dbl&gt; |\n",
       "|---|---|---|---|---|\n",
       "| (Intercept) | 0.6417370 | 0.1465706 | 4.378347 | 1.201525e-05 |\n",
       "| treatment   | 0.7636348 | 0.2074234 | 3.681527 | 2.324132e-04 |\n",
       "\n"
      ],
      "text/plain": [
       "  term        estimate  std.error statistic p.value     \n",
       "1 (Intercept) 0.6417370 0.1465706 4.378347  1.201525e-05\n",
       "2 treatment   0.7636348 0.2074234 3.681527  2.324132e-04"
      ]
     },
     "metadata": {},
     "output_type": "display_data"
    },
    {
     "data": {
      "text/html": [
       "<table class=\"dataframe\">\n",
       "<caption>A tibble: 2 × 5</caption>\n",
       "<thead>\n",
       "\t<tr><th scope=col>term</th><th scope=col>estimate</th><th scope=col>std.error</th><th scope=col>statistic</th><th scope=col>p.value</th></tr>\n",
       "\t<tr><th scope=col>&lt;chr&gt;</th><th scope=col>&lt;dbl&gt;</th><th scope=col>&lt;dbl&gt;</th><th scope=col>&lt;dbl&gt;</th><th scope=col>&lt;dbl&gt;</th></tr>\n",
       "</thead>\n",
       "<tbody>\n",
       "\t<tr><td>(Intercept)</td><td>0.6345635</td><td>0.2320336</td><td>2.734792</td><td>0.0062522270</td></tr>\n",
       "\t<tr><td>treatment  </td><td>1.1759645</td><td>0.3305735</td><td>3.557347</td><td>0.0003762366</td></tr>\n",
       "</tbody>\n",
       "</table>\n"
      ],
      "text/latex": [
       "A tibble: 2 × 5\n",
       "\\begin{tabular}{lllll}\n",
       " term & estimate & std.error & statistic & p.value\\\\\n",
       " <chr> & <dbl> & <dbl> & <dbl> & <dbl>\\\\\n",
       "\\hline\n",
       "\t (Intercept) & 0.6345635 & 0.2320336 & 2.734792 & 0.0062522270\\\\\n",
       "\t treatment   & 1.1759645 & 0.3305735 & 3.557347 & 0.0003762366\\\\\n",
       "\\end{tabular}\n"
      ],
      "text/markdown": [
       "\n",
       "A tibble: 2 × 5\n",
       "\n",
       "| term &lt;chr&gt; | estimate &lt;dbl&gt; | std.error &lt;dbl&gt; | statistic &lt;dbl&gt; | p.value &lt;dbl&gt; |\n",
       "|---|---|---|---|---|\n",
       "| (Intercept) | 0.6345635 | 0.2320336 | 2.734792 | 0.0062522270 |\n",
       "| treatment   | 1.1759645 | 0.3305735 | 3.557347 | 0.0003762366 |\n",
       "\n"
      ],
      "text/plain": [
       "  term        estimate  std.error statistic p.value     \n",
       "1 (Intercept) 0.6345635 0.2320336 2.734792  0.0062522270\n",
       "2 treatment   1.1759645 0.3305735 3.557347  0.0003762366"
      ]
     },
     "metadata": {},
     "output_type": "display_data"
    }
   ],
   "source": [
    "## RCTで実験をしていた場合の平均の差を確認\n",
    "rct_male_lm <- lm(data = male_df_test, formula = spend ~ treatment) %>%\n",
    "  tidy()\n",
    "\n",
    "## 平均の比較\n",
    "ml_male_lm <- lm(data = ml_male_df, formula = spend ~ treatment) %>%\n",
    "  tidy()\n",
    "\n",
    "rct_male_lm #真の結果\n",
    "ml_male_lm #バイアスありの結果\n",
    "# バイアスのせいで効果量が大きく見積もられている"
   ]
  },
  {
   "cell_type": "code",
   "execution_count": 18,
   "id": "1c2953ec-78e6-4ce7-9555-561f741914c0",
   "metadata": {},
   "outputs": [
    {
     "name": "stderr",
     "output_type": "stream",
     "text": [
      "Loading required package: MASS\n",
      "\n",
      "\n",
      "Attaching package: ‘MASS’\n",
      "\n",
      "\n",
      "The following object is masked from ‘package:dplyr’:\n",
      "\n",
      "    select\n",
      "\n",
      "\n",
      "## \n",
      "##  Matching (Version 4.9-9, Build Date: 2021-03-15)\n",
      "##  See http://sekhon.berkeley.edu/matching for additional documentation.\n",
      "##  Please cite software as:\n",
      "##   Jasjeet S. Sekhon. 2011. ``Multivariate and Propensity Score Matching\n",
      "##   Software with Automated Balance Optimization: The Matching package for R.''\n",
      "##   Journal of Statistical Software, 42(7): 1-52. \n",
      "##\n",
      "\n",
      "\n"
     ]
    },
    {
     "name": "stdout",
     "output_type": "stream",
     "text": [
      "\n",
      "Estimate...  1.3685 \n",
      "AI SE......  0.87834 \n",
      "T-stat.....  1.558 \n",
      "p.val......  0.11922 \n",
      "\n",
      "Original number of observations..............  10725 \n",
      "Original number of treated obs...............  5284 \n",
      "Matched number of observations...............  5284 \n",
      "Matched number of observations  (unweighted).  89145 \n",
      "\n"
     ]
    }
   ],
   "source": [
    "## 傾向スコアマッチングの推定(TPS)\n",
    "library(Matching)\n",
    "PSM_result <- Match(Y = ml_male_df$spend,\n",
    "                    Tr = ml_male_df$treatment,\n",
    "                    X = ml_male_df$ps, #すでにある傾向スコアを用いている\n",
    "                    estimand = \"ATT\")\n",
    "\n",
    "## 推定結果の表示\n",
    "summary(PSM_result)\n",
    "# 効果量は1.3程度で有意とは言えない結果と推定されている"
   ]
  },
  {
   "cell_type": "code",
   "execution_count": 19,
   "id": "84ca6a35-db16-4d65-ad32-025d1597a4f0",
   "metadata": {},
   "outputs": [
    {
     "data": {
      "text/html": [
       "<table class=\"dataframe\">\n",
       "<caption>A tibble: 2 × 5</caption>\n",
       "<thead>\n",
       "\t<tr><th scope=col>term</th><th scope=col>estimate</th><th scope=col>std.error</th><th scope=col>statistic</th><th scope=col>p.value</th></tr>\n",
       "\t<tr><th scope=col>&lt;chr&gt;</th><th scope=col>&lt;dbl&gt;</th><th scope=col>&lt;dbl&gt;</th><th scope=col>&lt;dbl&gt;</th><th scope=col>&lt;dbl&gt;</th></tr>\n",
       "</thead>\n",
       "<tbody>\n",
       "\t<tr><td>(Intercept)</td><td>0.5840008</td><td>0.2251939</td><td>2.593325</td><td>0.009518215</td></tr>\n",
       "\t<tr><td>treatment  </td><td>0.9142939</td><td>0.3195299</td><td>2.861372</td><td>0.004226274</td></tr>\n",
       "</tbody>\n",
       "</table>\n"
      ],
      "text/latex": [
       "A tibble: 2 × 5\n",
       "\\begin{tabular}{lllll}\n",
       " term & estimate & std.error & statistic & p.value\\\\\n",
       " <chr> & <dbl> & <dbl> & <dbl> & <dbl>\\\\\n",
       "\\hline\n",
       "\t (Intercept) & 0.5840008 & 0.2251939 & 2.593325 & 0.009518215\\\\\n",
       "\t treatment   & 0.9142939 & 0.3195299 & 2.861372 & 0.004226274\\\\\n",
       "\\end{tabular}\n"
      ],
      "text/markdown": [
       "\n",
       "A tibble: 2 × 5\n",
       "\n",
       "| term &lt;chr&gt; | estimate &lt;dbl&gt; | std.error &lt;dbl&gt; | statistic &lt;dbl&gt; | p.value &lt;dbl&gt; |\n",
       "|---|---|---|---|---|\n",
       "| (Intercept) | 0.5840008 | 0.2251939 | 2.593325 | 0.009518215 |\n",
       "| treatment   | 0.9142939 | 0.3195299 | 2.861372 | 0.004226274 |\n",
       "\n"
      ],
      "text/plain": [
       "  term        estimate  std.error statistic p.value    \n",
       "1 (Intercept) 0.5840008 0.2251939 2.593325  0.009518215\n",
       "2 treatment   0.9142939 0.3195299 2.861372  0.004226274"
      ]
     },
     "metadata": {},
     "output_type": "display_data"
    }
   ],
   "source": [
    "## IPWの推定\n",
    "W.out <- weightit(treatment ~ recency + history_segment +\n",
    "                    channel + zip_code,\n",
    "                  data = ml_male_df,\n",
    "                  ps = ml_male_df$ps,\n",
    "                  method = \"ps\",\n",
    "                  estimand = \"ATE\")\n",
    "\n",
    "## 重みづけしたデータでの効果の分析\n",
    "IPW_result <- ml_male_df %>%\n",
    "  lm(data = .,\n",
    "     spend ~ treatment,\n",
    "     weights = W.out$weights) %>%\n",
    "  tidy()\n",
    "\n",
    "IPW_result #効果料は0.9程度と推定されている #p値も有意とのこと"
   ]
  },
  {
   "cell_type": "code",
   "execution_count": 20,
   "id": "21946575-2c9f-4dad-8cdc-ef6fc35e7564",
   "metadata": {},
   "outputs": [
    {
     "name": "stderr",
     "output_type": "stream",
     "text": [
      "Warning message:\n",
      "“Standardized mean differences and raw mean differences are present in the same plot. \n",
      "Use the 'stars' argument to distinguish between them and appropriately label the x-axis.”\n"
     ]
    },
    {
     "data": {
      "image/png": "[encoded data removed]",
      "text/plain": [
       "plot without title"
      ]
     },
     "metadata": {
      "image/png": {
       "height": 420,
       "width": 420
      }
     },
     "output_type": "display_data"
    }
   ],
   "source": [
    "## 重み付けしたデータでの共変量のバランスを確認\n",
    "love.plot(W.out,\n",
    "          threshold = .1)\n",
    "# バランスはある程度良くなっていることが確認できる"
   ]
  },
  {
   "cell_type": "code",
   "execution_count": null,
   "id": "d3f109a0-9730-4b9e-a869-58cd425d1702",
   "metadata": {},
   "outputs": [],
   "source": []
  },
  {
   "cell_type": "code",
   "execution_count": null,
   "id": "5facdd46-2c46-4529-969c-6845fbf626c2",
   "metadata": {},
   "outputs": [],
   "source": []
  }
 ],
 "metadata": {
  "kernelspec": {
   "display_name": "R",
   "language": "R",
   "name": "ir"
  },
  "language_info": {
   "codemirror_mode": "r",
   "file_extension": ".r",
   "mimetype": "text/x-r-source",
   "name": "R",
   "pygments_lexer": "r",
   "version": "4.1.0"
  }
 },
 "nbformat": 4,
 "nbformat_minor": 5
}
