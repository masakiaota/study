{
 "cells": [
  {
   "cell_type": "code",
   "execution_count": 1,
   "id": "legitimate-malpractice",
   "metadata": {},
   "outputs": [
    {
     "name": "stderr",
     "output_type": "stream",
     "text": [
      "Updating HTML index of packages in '.Library'\n",
      "\n",
      "Making 'packages.html' ...\n",
      " done\n",
      "\n"
     ]
    }
   ],
   "source": [
    "# (1) パッケージをインストールする（初回のみ）\n",
    "install.packages(\"broom\")"
   ]
  },
  {
   "cell_type": "code",
   "execution_count": 2,
   "id": "parental-storage",
   "metadata": {},
   "outputs": [
    {
     "name": "stderr",
     "output_type": "stream",
     "text": [
      "── \u001b[1mAttaching packages\u001b[22m ───────────────────────────────────────────────────────────────────────────────────────────────────────────────────────────────────────────────────────────────────────────────────── tidyverse 1.3.1 ──\n",
      "\n",
      "\u001b[32m✔\u001b[39m \u001b[34mggplot2\u001b[39m 3.3.3     \u001b[32m✔\u001b[39m \u001b[34mpurrr  \u001b[39m 0.3.4\n",
      "\u001b[32m✔\u001b[39m \u001b[34mtibble \u001b[39m 3.1.2     \u001b[32m✔\u001b[39m \u001b[34mdplyr  \u001b[39m 1.0.7\n",
      "\u001b[32m✔\u001b[39m \u001b[34mtidyr  \u001b[39m 1.1.3     \u001b[32m✔\u001b[39m \u001b[34mstringr\u001b[39m 1.4.0\n",
      "\u001b[32m✔\u001b[39m \u001b[34mreadr  \u001b[39m 1.4.0     \u001b[32m✔\u001b[39m \u001b[34mforcats\u001b[39m 0.5.1\n",
      "\n",
      "── \u001b[1mConflicts\u001b[22m ──────────────────────────────────────────────────────────────────────────────────────────────────────────────────────────────────────────────────────────────────────────────────────── tidyverse_conflicts() ──\n",
      "\u001b[31m✖\u001b[39m \u001b[34mdplyr\u001b[39m::\u001b[32mfilter()\u001b[39m masks \u001b[34mstats\u001b[39m::filter()\n",
      "\u001b[31m✖\u001b[39m \u001b[34mdplyr\u001b[39m::\u001b[32mlag()\u001b[39m    masks \u001b[34mstats\u001b[39m::lag()\n",
      "\n"
     ]
    }
   ],
   "source": [
    "# (2) ライブラリの読み出し\n",
    "library(\"tidyverse\")\n",
    "library(\"broom\")"
   ]
  },
  {
   "cell_type": "code",
   "execution_count": 3,
   "id": "anticipated-aurora",
   "metadata": {},
   "outputs": [
    {
     "name": "stderr",
     "output_type": "stream",
     "text": [
      "\n",
      "\u001b[36m──\u001b[39m \u001b[1m\u001b[1mColumn specification\u001b[1m\u001b[22m \u001b[36m──────────────────────────────────────────────────────────────────────────────────────────────────────────────────────────────────────────────────────────────────────────────────────────────────────\u001b[39m\n",
      "cols(\n",
      "  recency = \u001b[32mcol_double()\u001b[39m,\n",
      "  history_segment = \u001b[31mcol_character()\u001b[39m,\n",
      "  history = \u001b[32mcol_double()\u001b[39m,\n",
      "  mens = \u001b[32mcol_double()\u001b[39m,\n",
      "  womens = \u001b[32mcol_double()\u001b[39m,\n",
      "  zip_code = \u001b[31mcol_character()\u001b[39m,\n",
      "  newbie = \u001b[32mcol_double()\u001b[39m,\n",
      "  channel = \u001b[31mcol_character()\u001b[39m,\n",
      "  segment = \u001b[31mcol_character()\u001b[39m,\n",
      "  visit = \u001b[32mcol_double()\u001b[39m,\n",
      "  conversion = \u001b[32mcol_double()\u001b[39m,\n",
      "  spend = \u001b[32mcol_double()\u001b[39m\n",
      ")\n",
      "\n",
      "\n"
     ]
    },
    {
     "data": {
      "text/html": [
       "<table class=\"dataframe\">\n",
       "<caption>A tibble: 6 × 12</caption>\n",
       "<thead>\n",
       "\t<tr><th scope=col>recency</th><th scope=col>history_segment</th><th scope=col>history</th><th scope=col>mens</th><th scope=col>womens</th><th scope=col>zip_code</th><th scope=col>newbie</th><th scope=col>channel</th><th scope=col>segment</th><th scope=col>visit</th><th scope=col>conversion</th><th scope=col>spend</th></tr>\n",
       "\t<tr><th scope=col>&lt;dbl&gt;</th><th scope=col>&lt;chr&gt;</th><th scope=col>&lt;dbl&gt;</th><th scope=col>&lt;dbl&gt;</th><th scope=col>&lt;dbl&gt;</th><th scope=col>&lt;chr&gt;</th><th scope=col>&lt;dbl&gt;</th><th scope=col>&lt;chr&gt;</th><th scope=col>&lt;chr&gt;</th><th scope=col>&lt;dbl&gt;</th><th scope=col>&lt;dbl&gt;</th><th scope=col>&lt;dbl&gt;</th></tr>\n",
       "</thead>\n",
       "<tbody>\n",
       "\t<tr><td>10</td><td>2) $100 - $200</td><td>142.44</td><td>1</td><td>0</td><td>Surburban</td><td>0</td><td>Phone</td><td>Womens E-Mail</td><td>0</td><td>0</td><td>0</td></tr>\n",
       "\t<tr><td> 6</td><td>3) $200 - $350</td><td>329.08</td><td>1</td><td>1</td><td>Rural    </td><td>1</td><td>Web  </td><td>No E-Mail    </td><td>0</td><td>0</td><td>0</td></tr>\n",
       "\t<tr><td> 7</td><td>2) $100 - $200</td><td>180.65</td><td>0</td><td>1</td><td>Surburban</td><td>1</td><td>Web  </td><td>Womens E-Mail</td><td>0</td><td>0</td><td>0</td></tr>\n",
       "\t<tr><td> 9</td><td>5) $500 - $750</td><td>675.83</td><td>1</td><td>0</td><td>Rural    </td><td>1</td><td>Web  </td><td>Mens E-Mail  </td><td>0</td><td>0</td><td>0</td></tr>\n",
       "\t<tr><td> 2</td><td>1) $0 - $100  </td><td> 45.34</td><td>1</td><td>0</td><td>Urban    </td><td>0</td><td>Web  </td><td>Womens E-Mail</td><td>0</td><td>0</td><td>0</td></tr>\n",
       "\t<tr><td> 6</td><td>2) $100 - $200</td><td>134.83</td><td>0</td><td>1</td><td>Surburban</td><td>0</td><td>Phone</td><td>Womens E-Mail</td><td>1</td><td>0</td><td>0</td></tr>\n",
       "</tbody>\n",
       "</table>\n"
      ],
      "text/latex": [
       "A tibble: 6 × 12\n",
       "\\begin{tabular}{llllllllllll}\n",
       " recency & history\\_segment & history & mens & womens & zip\\_code & newbie & channel & segment & visit & conversion & spend\\\\\n",
       " <dbl> & <chr> & <dbl> & <dbl> & <dbl> & <chr> & <dbl> & <chr> & <chr> & <dbl> & <dbl> & <dbl>\\\\\n",
       "\\hline\n",
       "\t 10 & 2) \\$100 - \\$200 & 142.44 & 1 & 0 & Surburban & 0 & Phone & Womens E-Mail & 0 & 0 & 0\\\\\n",
       "\t  6 & 3) \\$200 - \\$350 & 329.08 & 1 & 1 & Rural     & 1 & Web   & No E-Mail     & 0 & 0 & 0\\\\\n",
       "\t  7 & 2) \\$100 - \\$200 & 180.65 & 0 & 1 & Surburban & 1 & Web   & Womens E-Mail & 0 & 0 & 0\\\\\n",
       "\t  9 & 5) \\$500 - \\$750 & 675.83 & 1 & 0 & Rural     & 1 & Web   & Mens E-Mail   & 0 & 0 & 0\\\\\n",
       "\t  2 & 1) \\$0 - \\$100   &  45.34 & 1 & 0 & Urban     & 0 & Web   & Womens E-Mail & 0 & 0 & 0\\\\\n",
       "\t  6 & 2) \\$100 - \\$200 & 134.83 & 0 & 1 & Surburban & 0 & Phone & Womens E-Mail & 1 & 0 & 0\\\\\n",
       "\\end{tabular}\n"
      ],
      "text/markdown": [
       "\n",
       "A tibble: 6 × 12\n",
       "\n",
       "| recency &lt;dbl&gt; | history_segment &lt;chr&gt; | history &lt;dbl&gt; | mens &lt;dbl&gt; | womens &lt;dbl&gt; | zip_code &lt;chr&gt; | newbie &lt;dbl&gt; | channel &lt;chr&gt; | segment &lt;chr&gt; | visit &lt;dbl&gt; | conversion &lt;dbl&gt; | spend &lt;dbl&gt; |\n",
       "|---|---|---|---|---|---|---|---|---|---|---|---|\n",
       "| 10 | 2) $100 - $200 | 142.44 | 1 | 0 | Surburban | 0 | Phone | Womens E-Mail | 0 | 0 | 0 |\n",
       "|  6 | 3) $200 - $350 | 329.08 | 1 | 1 | Rural     | 1 | Web   | No E-Mail     | 0 | 0 | 0 |\n",
       "|  7 | 2) $100 - $200 | 180.65 | 0 | 1 | Surburban | 1 | Web   | Womens E-Mail | 0 | 0 | 0 |\n",
       "|  9 | 5) $500 - $750 | 675.83 | 1 | 0 | Rural     | 1 | Web   | Mens E-Mail   | 0 | 0 | 0 |\n",
       "|  2 | 1) $0 - $100   |  45.34 | 1 | 0 | Urban     | 0 | Web   | Womens E-Mail | 0 | 0 | 0 |\n",
       "|  6 | 2) $100 - $200 | 134.83 | 0 | 1 | Surburban | 0 | Phone | Womens E-Mail | 1 | 0 | 0 |\n",
       "\n"
      ],
      "text/plain": [
       "  recency history_segment history mens womens zip_code  newbie channel\n",
       "1 10      2) $100 - $200  142.44  1    0      Surburban 0      Phone  \n",
       "2  6      3) $200 - $350  329.08  1    1      Rural     1      Web    \n",
       "3  7      2) $100 - $200  180.65  0    1      Surburban 1      Web    \n",
       "4  9      5) $500 - $750  675.83  1    0      Rural     1      Web    \n",
       "5  2      1) $0 - $100     45.34  1    0      Urban     0      Web    \n",
       "6  6      2) $100 - $200  134.83  0    1      Surburban 0      Phone  \n",
       "  segment       visit conversion spend\n",
       "1 Womens E-Mail 0     0          0    \n",
       "2 No E-Mail     0     0          0    \n",
       "3 Womens E-Mail 0     0          0    \n",
       "4 Mens E-Mail   0     0          0    \n",
       "5 Womens E-Mail 0     0          0    \n",
       "6 Womens E-Mail 1     0          0    "
      ]
     },
     "metadata": {},
     "output_type": "display_data"
    }
   ],
   "source": [
    "# (3) データの読み込み\n",
    "email_data <- read_csv(\"http://www.minethatdata.com/Kevin_Hillstrom_MineThatData_E-MailAnalytics_DataMiningChallenge_2008.03.20.csv\")\n",
    "\n",
    "# (4) 女性向けメールが配信されたデータを削除したデータを作成\n",
    "male_df <- email_data %>%\n",
    "  filter(segment != \"Womens E-Mail\") %>% # 女性向けメールが配信されたデータを削除\n",
    "  mutate(treatment = ifelse(segment == \"Mens E-Mail\", 1, 0)) # 介入を表すtreatment変数を追加\n",
    "\n",
    "# (5) セレクションバイアスのあるデータを作成\n",
    "## seedを固定\n",
    "set.seed(1)\n",
    "\n",
    "## 条件に反応するサンプルの量を半分にする\n",
    "obs_rate_c <- 0.5\n",
    "obs_rate_t <- 0.5\n",
    "\n",
    "## バイアスのあるデータを作成\n",
    "biased_data <- male_df %>%\n",
    "  mutate(obs_rate_c =\n",
    "           ifelse( (history > 300) | (recency < 6) |\n",
    "                     (channel == \"Multichannel\"), obs_rate_c, 1),\n",
    "         obs_rate_t =\n",
    "           ifelse( (history > 300) | (recency < 6) |\n",
    "                     (channel == \"Multichannel\"), 1, obs_rate_t),\n",
    "         random_number = runif(n = NROW(male_df))) %>%\n",
    "  filter( (treatment == 0 & random_number < obs_rate_c ) |\n",
    "            (treatment == 1 & random_number < obs_rate_t) )\n",
    "\n",
    "head(email_data)"
   ]
  },
  {
   "cell_type": "markdown",
   "id": "promotional-vision",
   "metadata": {},
   "source": [
    "バイアスのあるマーケティングデータで分析してみる\n",
    "\n",
    "モデルは、\n",
    "$$ spend_i = \\beta_0 + \\beta_{treatment} treatment_i + \\beta_{history} history_i $$"
   ]
  },
  {
   "cell_type": "code",
   "execution_count": 4,
   "id": "mental-selling",
   "metadata": {},
   "outputs": [
    {
     "data": {
      "text/plain": [
       "\n",
       "Call:\n",
       "lm(formula = spend ~ treatment + history, data = biased_data)\n",
       "\n",
       "Residuals:\n",
       "   Min     1Q Median     3Q    Max \n",
       " -4.74  -1.46  -1.26  -0.48 497.74 \n",
       "\n",
       "Coefficients:\n",
       "             Estimate Std. Error t value Pr(>|t|)    \n",
       "(Intercept) 0.3241996  0.1444390   2.245  0.02480 *  \n",
       "treatment   0.9026109  0.1743057   5.178 2.25e-07 ***\n",
       "history     0.0010927  0.0003366   3.246  0.00117 ** \n",
       "---\n",
       "Signif. codes:  0 ‘***’ 0.001 ‘**’ 0.01 ‘*’ 0.05 ‘.’ 0.1 ‘ ’ 1\n",
       "\n",
       "Residual standard error: 15.36 on 31860 degrees of freedom\n",
       "Multiple R-squared:  0.001339,\tAdjusted R-squared:  0.001276 \n",
       "F-statistic: 21.35 on 2 and 31860 DF,  p-value: 5.406e-10\n"
      ]
     },
     "metadata": {},
     "output_type": "display_data"
    }
   ],
   "source": [
    "# (6) バイアスのあるデータでの回帰分析\n",
    "## 回帰分析の実行\n",
    "biased_reg <- lm(data = biased_data, formula = spend ~ treatment + history)\n",
    "\n",
    "## 分析結果のレポート\n",
    "summary(biased_reg)"
   ]
  },
  {
   "cell_type": "code",
   "execution_count": 5,
   "id": "pointed-seeking",
   "metadata": {},
   "outputs": [
    {
     "data": {
      "text/html": [
       "<table class=\"dataframe\">\n",
       "<caption>A tibble: 3 × 5</caption>\n",
       "<thead>\n",
       "\t<tr><th scope=col>term</th><th scope=col>estimate</th><th scope=col>std.error</th><th scope=col>statistic</th><th scope=col>p.value</th></tr>\n",
       "\t<tr><th scope=col>&lt;chr&gt;</th><th scope=col>&lt;dbl&gt;</th><th scope=col>&lt;dbl&gt;</th><th scope=col>&lt;dbl&gt;</th><th scope=col>&lt;dbl&gt;</th></tr>\n",
       "</thead>\n",
       "<tbody>\n",
       "\t<tr><td>(Intercept)</td><td>0.324199564</td><td>0.144438990</td><td>2.244543</td><td>2.480430e-02</td></tr>\n",
       "\t<tr><td>treatment  </td><td>0.902610917</td><td>0.174305713</td><td>5.178321</td><td>2.252514e-07</td></tr>\n",
       "\t<tr><td>history    </td><td>0.001092682</td><td>0.000336606</td><td>3.246176</td><td>1.170872e-03</td></tr>\n",
       "</tbody>\n",
       "</table>\n"
      ],
      "text/latex": [
       "A tibble: 3 × 5\n",
       "\\begin{tabular}{lllll}\n",
       " term & estimate & std.error & statistic & p.value\\\\\n",
       " <chr> & <dbl> & <dbl> & <dbl> & <dbl>\\\\\n",
       "\\hline\n",
       "\t (Intercept) & 0.324199564 & 0.144438990 & 2.244543 & 2.480430e-02\\\\\n",
       "\t treatment   & 0.902610917 & 0.174305713 & 5.178321 & 2.252514e-07\\\\\n",
       "\t history     & 0.001092682 & 0.000336606 & 3.246176 & 1.170872e-03\\\\\n",
       "\\end{tabular}\n"
      ],
      "text/markdown": [
       "\n",
       "A tibble: 3 × 5\n",
       "\n",
       "| term &lt;chr&gt; | estimate &lt;dbl&gt; | std.error &lt;dbl&gt; | statistic &lt;dbl&gt; | p.value &lt;dbl&gt; |\n",
       "|---|---|---|---|---|\n",
       "| (Intercept) | 0.324199564 | 0.144438990 | 2.244543 | 2.480430e-02 |\n",
       "| treatment   | 0.902610917 | 0.174305713 | 5.178321 | 2.252514e-07 |\n",
       "| history     | 0.001092682 | 0.000336606 | 3.246176 | 1.170872e-03 |\n",
       "\n"
      ],
      "text/plain": [
       "  term        estimate    std.error   statistic p.value     \n",
       "1 (Intercept) 0.324199564 0.144438990 2.244543  2.480430e-02\n",
       "2 treatment   0.902610917 0.174305713 5.178321  2.252514e-07\n",
       "3 history     0.001092682 0.000336606 3.246176  1.170872e-03"
      ]
     },
     "metadata": {},
     "output_type": "display_data"
    }
   ],
   "source": [
    "## 推定されたパラメーターの取り出し\n",
    "biased_reg_coef <- tidy(biased_reg)\n",
    "biased_reg_coef"
   ]
  },
  {
   "cell_type": "markdown",
   "id": "false-charter",
   "metadata": {},
   "source": [
    "施策による効果量は0.9026109とある。しかし、ch1で見たように真の効果量は0.77程度なので、バイアスが生じていることがわかる。\n",
    "\n",
    "実際にRCTの場合の回帰分析結果と比較してみよう。"
   ]
  },
  {
   "cell_type": "code",
   "execution_count": 6,
   "id": "subjective-navigator",
   "metadata": {},
   "outputs": [],
   "source": [
    "# (7) RCTデータでの回帰分析とバイアスのあるデータでの回帰分析の比較\n",
    "## RCTデータでの単回帰\n",
    "rct_reg <- lm(data = male_df, formula = spend ~ treatment)\n",
    "rct_reg_coef <- tidy(rct_reg)\n",
    "\n",
    "## バイアスのあるデータでの単回帰\n",
    "nonrct_reg <- lm(data = biased_data, formula = spend ~ treatment)\n",
    "nonrct_reg_coef <- tidy(nonrct_reg)"
   ]
  },
  {
   "cell_type": "code",
   "execution_count": 7,
   "id": "handy-northeast",
   "metadata": {},
   "outputs": [
    {
     "data": {
      "text/html": [
       "<table class=\"dataframe\">\n",
       "<caption>A tibble: 2 × 5</caption>\n",
       "<thead>\n",
       "\t<tr><th scope=col>term</th><th scope=col>estimate</th><th scope=col>std.error</th><th scope=col>statistic</th><th scope=col>p.value</th></tr>\n",
       "\t<tr><th scope=col>&lt;chr&gt;</th><th scope=col>&lt;dbl&gt;</th><th scope=col>&lt;dbl&gt;</th><th scope=col>&lt;dbl&gt;</th><th scope=col>&lt;dbl&gt;</th></tr>\n",
       "</thead>\n",
       "<tbody>\n",
       "\t<tr><td>(Intercept)</td><td>0.6527894</td><td>0.1027070</td><td>6.355841</td><td>2.093808e-10</td></tr>\n",
       "\t<tr><td>treatment  </td><td>0.7698272</td><td>0.1452479</td><td>5.300090</td><td>1.163201e-07</td></tr>\n",
       "</tbody>\n",
       "</table>\n"
      ],
      "text/latex": [
       "A tibble: 2 × 5\n",
       "\\begin{tabular}{lllll}\n",
       " term & estimate & std.error & statistic & p.value\\\\\n",
       " <chr> & <dbl> & <dbl> & <dbl> & <dbl>\\\\\n",
       "\\hline\n",
       "\t (Intercept) & 0.6527894 & 0.1027070 & 6.355841 & 2.093808e-10\\\\\n",
       "\t treatment   & 0.7698272 & 0.1452479 & 5.300090 & 1.163201e-07\\\\\n",
       "\\end{tabular}\n"
      ],
      "text/markdown": [
       "\n",
       "A tibble: 2 × 5\n",
       "\n",
       "| term &lt;chr&gt; | estimate &lt;dbl&gt; | std.error &lt;dbl&gt; | statistic &lt;dbl&gt; | p.value &lt;dbl&gt; |\n",
       "|---|---|---|---|---|\n",
       "| (Intercept) | 0.6527894 | 0.1027070 | 6.355841 | 2.093808e-10 |\n",
       "| treatment   | 0.7698272 | 0.1452479 | 5.300090 | 1.163201e-07 |\n",
       "\n"
      ],
      "text/plain": [
       "  term        estimate  std.error statistic p.value     \n",
       "1 (Intercept) 0.6527894 0.1027070 6.355841  2.093808e-10\n",
       "2 treatment   0.7698272 0.1452479 5.300090  1.163201e-07"
      ]
     },
     "metadata": {},
     "output_type": "display_data"
    },
    {
     "data": {
      "text/html": [
       "<table class=\"dataframe\">\n",
       "<caption>A tibble: 2 × 5</caption>\n",
       "<thead>\n",
       "\t<tr><th scope=col>term</th><th scope=col>estimate</th><th scope=col>std.error</th><th scope=col>statistic</th><th scope=col>p.value</th></tr>\n",
       "\t<tr><th scope=col>&lt;chr&gt;</th><th scope=col>&lt;dbl&gt;</th><th scope=col>&lt;dbl&gt;</th><th scope=col>&lt;dbl&gt;</th><th scope=col>&lt;dbl&gt;</th></tr>\n",
       "</thead>\n",
       "<tbody>\n",
       "\t<tr><td>(Intercept)</td><td>0.5483062</td><td>0.126891</td><td>4.321081</td><td>1.557365e-05</td></tr>\n",
       "\t<tr><td>treatment  </td><td>0.9794465</td><td>0.172717</td><td>5.670817</td><td>1.433467e-08</td></tr>\n",
       "</tbody>\n",
       "</table>\n"
      ],
      "text/latex": [
       "A tibble: 2 × 5\n",
       "\\begin{tabular}{lllll}\n",
       " term & estimate & std.error & statistic & p.value\\\\\n",
       " <chr> & <dbl> & <dbl> & <dbl> & <dbl>\\\\\n",
       "\\hline\n",
       "\t (Intercept) & 0.5483062 & 0.126891 & 4.321081 & 1.557365e-05\\\\\n",
       "\t treatment   & 0.9794465 & 0.172717 & 5.670817 & 1.433467e-08\\\\\n",
       "\\end{tabular}\n"
      ],
      "text/markdown": [
       "\n",
       "A tibble: 2 × 5\n",
       "\n",
       "| term &lt;chr&gt; | estimate &lt;dbl&gt; | std.error &lt;dbl&gt; | statistic &lt;dbl&gt; | p.value &lt;dbl&gt; |\n",
       "|---|---|---|---|---|\n",
       "| (Intercept) | 0.5483062 | 0.126891 | 4.321081 | 1.557365e-05 |\n",
       "| treatment   | 0.9794465 | 0.172717 | 5.670817 | 1.433467e-08 |\n",
       "\n"
      ],
      "text/plain": [
       "  term        estimate  std.error statistic p.value     \n",
       "1 (Intercept) 0.5483062 0.126891  4.321081  1.557365e-05\n",
       "2 treatment   0.9794465 0.172717  5.670817  1.433467e-08"
      ]
     },
     "metadata": {},
     "output_type": "display_data"
    }
   ],
   "source": [
    "rct_reg_coef\n",
    "nonrct_reg_coef #treatmentだけ使って回帰分析(施策ごとに売上の平均をとっているのと同じ)しているともっとバイアスが大きいことがわかる"
   ]
  },
  {
   "cell_type": "markdown",
   "id": "regular-mileage",
   "metadata": {},
   "source": [
    "では次に、共変量Xを追加して分析するとどうなるか？\n",
    "$$ spend_i = \\beta_0 + \\beta_{treatment} treatment_i + \\beta_{recency}recency_i + \\beta_{channel}channel_i +\\beta_{history} history_i $$"
   ]
  },
  {
   "cell_type": "code",
   "execution_count": 8,
   "id": "dried-albany",
   "metadata": {},
   "outputs": [],
   "source": [
    "## バイアスのあるデータでの重回帰\n",
    "nonrct_mreg <- lm(data = biased_data,\n",
    "                  formula = spend ~ treatment + recency + channel + history)\n",
    "nonrct_mreg_coef <- tidy(nonrct_mreg)"
   ]
  },
  {
   "cell_type": "code",
   "execution_count": 9,
   "id": "comparable-particular",
   "metadata": {},
   "outputs": [
    {
     "data": {
      "text/html": [
       "<table class=\"dataframe\">\n",
       "<caption>A tibble: 3 × 5</caption>\n",
       "<thead>\n",
       "\t<tr><th scope=col>term</th><th scope=col>estimate</th><th scope=col>std.error</th><th scope=col>statistic</th><th scope=col>p.value</th></tr>\n",
       "\t<tr><th scope=col>&lt;chr&gt;</th><th scope=col>&lt;dbl&gt;</th><th scope=col>&lt;dbl&gt;</th><th scope=col>&lt;dbl&gt;</th><th scope=col>&lt;dbl&gt;</th></tr>\n",
       "</thead>\n",
       "<tbody>\n",
       "\t<tr><td>(Intercept)</td><td>0.324199564</td><td>0.144438990</td><td>2.244543</td><td>2.480430e-02</td></tr>\n",
       "\t<tr><td>treatment  </td><td>0.902610917</td><td>0.174305713</td><td>5.178321</td><td>2.252514e-07</td></tr>\n",
       "\t<tr><td>history    </td><td>0.001092682</td><td>0.000336606</td><td>3.246176</td><td>1.170872e-03</td></tr>\n",
       "</tbody>\n",
       "</table>\n"
      ],
      "text/latex": [
       "A tibble: 3 × 5\n",
       "\\begin{tabular}{lllll}\n",
       " term & estimate & std.error & statistic & p.value\\\\\n",
       " <chr> & <dbl> & <dbl> & <dbl> & <dbl>\\\\\n",
       "\\hline\n",
       "\t (Intercept) & 0.324199564 & 0.144438990 & 2.244543 & 2.480430e-02\\\\\n",
       "\t treatment   & 0.902610917 & 0.174305713 & 5.178321 & 2.252514e-07\\\\\n",
       "\t history     & 0.001092682 & 0.000336606 & 3.246176 & 1.170872e-03\\\\\n",
       "\\end{tabular}\n"
      ],
      "text/markdown": [
       "\n",
       "A tibble: 3 × 5\n",
       "\n",
       "| term &lt;chr&gt; | estimate &lt;dbl&gt; | std.error &lt;dbl&gt; | statistic &lt;dbl&gt; | p.value &lt;dbl&gt; |\n",
       "|---|---|---|---|---|\n",
       "| (Intercept) | 0.324199564 | 0.144438990 | 2.244543 | 2.480430e-02 |\n",
       "| treatment   | 0.902610917 | 0.174305713 | 5.178321 | 2.252514e-07 |\n",
       "| history     | 0.001092682 | 0.000336606 | 3.246176 | 1.170872e-03 |\n",
       "\n"
      ],
      "text/plain": [
       "  term        estimate    std.error   statistic p.value     \n",
       "1 (Intercept) 0.324199564 0.144438990 2.244543  2.480430e-02\n",
       "2 treatment   0.902610917 0.174305713 5.178321  2.252514e-07\n",
       "3 history     0.001092682 0.000336606 3.246176  1.170872e-03"
      ]
     },
     "metadata": {},
     "output_type": "display_data"
    },
    {
     "data": {
      "text/html": [
       "<table class=\"dataframe\">\n",
       "<caption>A tibble: 6 × 5</caption>\n",
       "<thead>\n",
       "\t<tr><th scope=col>term</th><th scope=col>estimate</th><th scope=col>std.error</th><th scope=col>statistic</th><th scope=col>p.value</th></tr>\n",
       "\t<tr><th scope=col>&lt;chr&gt;</th><th scope=col>&lt;dbl&gt;</th><th scope=col>&lt;dbl&gt;</th><th scope=col>&lt;dbl&gt;</th><th scope=col>&lt;dbl&gt;</th></tr>\n",
       "</thead>\n",
       "<tbody>\n",
       "\t<tr><td>(Intercept) </td><td> 0.502412896</td><td>0.3793847254</td><td> 1.32428341</td><td>1.854184e-01</td></tr>\n",
       "\t<tr><td>treatment   </td><td> 0.846575728</td><td>0.1784759605</td><td> 4.74335998</td><td>2.111119e-06</td></tr>\n",
       "\t<tr><td>recency     </td><td>-0.040266556</td><td>0.0259469894</td><td>-1.55187775</td><td>1.207014e-01</td></tr>\n",
       "\t<tr><td>channelPhone</td><td>-0.001778911</td><td>0.3040193436</td><td>-0.00585131</td><td>9.953314e-01</td></tr>\n",
       "\t<tr><td>channelWeb  </td><td> 0.226159585</td><td>0.3034664353</td><td> 0.74525403</td><td>4.561237e-01</td></tr>\n",
       "\t<tr><td>history     </td><td> 0.001029897</td><td>0.0003753754</td><td> 2.74364500</td><td>6.079519e-03</td></tr>\n",
       "</tbody>\n",
       "</table>\n"
      ],
      "text/latex": [
       "A tibble: 6 × 5\n",
       "\\begin{tabular}{lllll}\n",
       " term & estimate & std.error & statistic & p.value\\\\\n",
       " <chr> & <dbl> & <dbl> & <dbl> & <dbl>\\\\\n",
       "\\hline\n",
       "\t (Intercept)  &  0.502412896 & 0.3793847254 &  1.32428341 & 1.854184e-01\\\\\n",
       "\t treatment    &  0.846575728 & 0.1784759605 &  4.74335998 & 2.111119e-06\\\\\n",
       "\t recency      & -0.040266556 & 0.0259469894 & -1.55187775 & 1.207014e-01\\\\\n",
       "\t channelPhone & -0.001778911 & 0.3040193436 & -0.00585131 & 9.953314e-01\\\\\n",
       "\t channelWeb   &  0.226159585 & 0.3034664353 &  0.74525403 & 4.561237e-01\\\\\n",
       "\t history      &  0.001029897 & 0.0003753754 &  2.74364500 & 6.079519e-03\\\\\n",
       "\\end{tabular}\n"
      ],
      "text/markdown": [
       "\n",
       "A tibble: 6 × 5\n",
       "\n",
       "| term &lt;chr&gt; | estimate &lt;dbl&gt; | std.error &lt;dbl&gt; | statistic &lt;dbl&gt; | p.value &lt;dbl&gt; |\n",
       "|---|---|---|---|---|\n",
       "| (Intercept)  |  0.502412896 | 0.3793847254 |  1.32428341 | 1.854184e-01 |\n",
       "| treatment    |  0.846575728 | 0.1784759605 |  4.74335998 | 2.111119e-06 |\n",
       "| recency      | -0.040266556 | 0.0259469894 | -1.55187775 | 1.207014e-01 |\n",
       "| channelPhone | -0.001778911 | 0.3040193436 | -0.00585131 | 9.953314e-01 |\n",
       "| channelWeb   |  0.226159585 | 0.3034664353 |  0.74525403 | 4.561237e-01 |\n",
       "| history      |  0.001029897 | 0.0003753754 |  2.74364500 | 6.079519e-03 |\n",
       "\n"
      ],
      "text/plain": [
       "  term         estimate     std.error    statistic   p.value     \n",
       "1 (Intercept)   0.502412896 0.3793847254  1.32428341 1.854184e-01\n",
       "2 treatment     0.846575728 0.1784759605  4.74335998 2.111119e-06\n",
       "3 recency      -0.040266556 0.0259469894 -1.55187775 1.207014e-01\n",
       "4 channelPhone -0.001778911 0.3040193436 -0.00585131 9.953314e-01\n",
       "5 channelWeb    0.226159585 0.3034664353  0.74525403 4.561237e-01\n",
       "6 history       0.001029897 0.0003753754  2.74364500 6.079519e-03"
      ]
     },
     "metadata": {},
     "output_type": "display_data"
    }
   ],
   "source": [
    "biased_reg_coef\n",
    "nonrct_mreg_coef"
   ]
  },
  {
   "cell_type": "markdown",
   "id": "swedish-orientation",
   "metadata": {},
   "source": [
    "どちらもバイアスのあるデータからの係数だが、重回帰の変数が多いほうがtreatmentの効果量が真の値に近づいている。"
   ]
  },
  {
   "cell_type": "code",
   "execution_count": null,
   "id": "blocked-orbit",
   "metadata": {},
   "outputs": [],
   "source": []
  },
  {
   "cell_type": "markdown",
   "id": "corresponding-contemporary",
   "metadata": {},
   "source": [
    "### 脱落変数バイアスの確認"
   ]
  },
  {
   "cell_type": "code",
   "execution_count": 10,
   "id": "environmental-passage",
   "metadata": {},
   "outputs": [
    {
     "data": {
      "text/html": [
       "<table class=\"dataframe\">\n",
       "<caption>A tibble: 5 × 5</caption>\n",
       "<thead>\n",
       "\t<tr><th scope=col>term</th><th scope=col>estimate</th><th scope=col>std.error</th><th scope=col>statistic</th><th scope=col>p.value</th></tr>\n",
       "\t<tr><th scope=col>&lt;chr&gt;</th><th scope=col>&lt;dbl&gt;</th><th scope=col>&lt;dbl&gt;</th><th scope=col>&lt;dbl&gt;</th><th scope=col>&lt;dbl&gt;</th></tr>\n",
       "</thead>\n",
       "<tbody>\n",
       "\t<tr><td>(Intercept) </td><td> 1.09687653</td><td>0.31145956</td><td> 3.5217302</td><td>4.293395e-04</td></tr>\n",
       "\t<tr><td>treatment   </td><td> 0.87462971</td><td>0.17820107</td><td> 4.9081058</td><td>9.241414e-07</td></tr>\n",
       "\t<tr><td>recency     </td><td>-0.05516998</td><td>0.02537463</td><td>-2.1742180</td><td>2.969610e-02</td></tr>\n",
       "\t<tr><td>channelPhone</td><td>-0.31248934</td><td>0.28216860</td><td>-1.1074561</td><td>2.681051e-01</td></tr>\n",
       "\t<tr><td>channelWeb  </td><td>-0.08467985</td><td>0.28155374</td><td>-0.3007591</td><td>7.636002e-01</td></tr>\n",
       "</tbody>\n",
       "</table>\n"
      ],
      "text/latex": [
       "A tibble: 5 × 5\n",
       "\\begin{tabular}{lllll}\n",
       " term & estimate & std.error & statistic & p.value\\\\\n",
       " <chr> & <dbl> & <dbl> & <dbl> & <dbl>\\\\\n",
       "\\hline\n",
       "\t (Intercept)  &  1.09687653 & 0.31145956 &  3.5217302 & 4.293395e-04\\\\\n",
       "\t treatment    &  0.87462971 & 0.17820107 &  4.9081058 & 9.241414e-07\\\\\n",
       "\t recency      & -0.05516998 & 0.02537463 & -2.1742180 & 2.969610e-02\\\\\n",
       "\t channelPhone & -0.31248934 & 0.28216860 & -1.1074561 & 2.681051e-01\\\\\n",
       "\t channelWeb   & -0.08467985 & 0.28155374 & -0.3007591 & 7.636002e-01\\\\\n",
       "\\end{tabular}\n"
      ],
      "text/markdown": [
       "\n",
       "A tibble: 5 × 5\n",
       "\n",
       "| term &lt;chr&gt; | estimate &lt;dbl&gt; | std.error &lt;dbl&gt; | statistic &lt;dbl&gt; | p.value &lt;dbl&gt; |\n",
       "|---|---|---|---|---|\n",
       "| (Intercept)  |  1.09687653 | 0.31145956 |  3.5217302 | 4.293395e-04 |\n",
       "| treatment    |  0.87462971 | 0.17820107 |  4.9081058 | 9.241414e-07 |\n",
       "| recency      | -0.05516998 | 0.02537463 | -2.1742180 | 2.969610e-02 |\n",
       "| channelPhone | -0.31248934 | 0.28216860 | -1.1074561 | 2.681051e-01 |\n",
       "| channelWeb   | -0.08467985 | 0.28155374 | -0.3007591 | 7.636002e-01 |\n",
       "\n"
      ],
      "text/plain": [
       "  term         estimate    std.error  statistic  p.value     \n",
       "1 (Intercept)   1.09687653 0.31145956  3.5217302 4.293395e-04\n",
       "2 treatment     0.87462971 0.17820107  4.9081058 9.241414e-07\n",
       "3 recency      -0.05516998 0.02537463 -2.1742180 2.969610e-02\n",
       "4 channelPhone -0.31248934 0.28216860 -1.1074561 2.681051e-01\n",
       "5 channelWeb   -0.08467985 0.28155374 -0.3007591 7.636002e-01"
      ]
     },
     "metadata": {},
     "output_type": "display_data"
    }
   ],
   "source": [
    "# (8) OVBの確認\n",
    "## (a) history抜きの回帰分析とパラメーターの取り出し\n",
    "short_coef <- biased_data %>%\n",
    "  lm(data = .,\n",
    "     formula = spend ~ treatment + recency + channel) %>% #histroy抜きでOVBを作り出す\n",
    "   tidy()\n",
    "short_coef"
   ]
  },
  {
   "cell_type": "code",
   "execution_count": 11,
   "id": "downtown-contents",
   "metadata": {},
   "outputs": [
    {
     "data": {
      "text/html": [
       "0.874629708514415"
      ],
      "text/latex": [
       "0.874629708514415"
      ],
      "text/markdown": [
       "0.874629708514415"
      ],
      "text/plain": [
       "[1] 0.8746297"
      ]
     },
     "metadata": {},
     "output_type": "display_data"
    }
   ],
   "source": [
    "## aの結果から介入効果に関するパラメーターのみを取り出す\n",
    "alpha_1 <- short_coef %>%\n",
    "  filter(term == \"treatment\") %>%\n",
    "  pull(estimate)\n",
    "alpha_1 #P54モデルAの効果量"
   ]
  },
  {
   "cell_type": "code",
   "execution_count": 12,
   "id": "associate-pillow",
   "metadata": {},
   "outputs": [
    {
     "data": {
      "text/html": [
       "0.846575727930548"
      ],
      "text/latex": [
       "0.846575727930548"
      ],
      "text/markdown": [
       "0.846575727930548"
      ],
      "text/plain": [
       "[1] 0.8465757"
      ]
     },
     "metadata": {},
     "output_type": "display_data"
    },
    {
     "data": {
      "text/html": [
       "0.00102989695461476"
      ],
      "text/latex": [
       "0.00102989695461476"
      ],
      "text/markdown": [
       "0.00102989695461476"
      ],
      "text/plain": [
       "[1] 0.001029897"
      ]
     },
     "metadata": {},
     "output_type": "display_data"
    }
   ],
   "source": [
    "## (b) historyを追加した回帰分析とパラメーターの取り出し\n",
    "long_coef <- biased_data %>%\n",
    "  lm(data = .,\n",
    "     formula = spend ~ treatment + recency + channel + history) %>% #historyも含めた回帰分析\n",
    "  tidy()\n",
    "\n",
    "## bの結果から介入とhistoryに関するパラメーターを取り出す\n",
    "beta_1 <- long_coef %>% filter(term == \"treatment\") %>% pull(estimate)\n",
    "beta_2 <- long_coef %>% filter(term == \"history\") %>% pull(estimate)\n",
    "beta_1 #P54モデルBにおける効果量\n",
    "beta_2"
   ]
  },
  {
   "cell_type": "code",
   "execution_count": 13,
   "id": "published-elements",
   "metadata": {},
   "outputs": [
    {
     "data": {
      "text/html": [
       "27.2395995134878"
      ],
      "text/latex": [
       "27.2395995134878"
      ],
      "text/markdown": [
       "27.2395995134878"
      ],
      "text/plain": [
       "[1] 27.2396"
      ]
     },
     "metadata": {},
     "output_type": "display_data"
    }
   ],
   "source": [
    "## (c) 脱落した変数と介入変数での回帰分析\n",
    "omitted_coef <- biased_data %>%\n",
    "  lm(data = ., formula = history ~ treatment + channel + recency) %>% #γを求める\n",
    "  tidy()\n",
    "## cの結果から介入変数に関するパラメーターを取り出す\n",
    "gamma_1 <- omitted_coef %>% filter(term == \"treatment\") %>% pull(estimate)\n",
    "gamma_1"
   ]
  },
  {
   "cell_type": "code",
   "execution_count": 14,
   "id": "prompt-machinery",
   "metadata": {},
   "outputs": [
    {
     "data": {
      "text/html": [
       "0.0280539805838669"
      ],
      "text/latex": [
       "0.0280539805838669"
      ],
      "text/markdown": [
       "0.0280539805838669"
      ],
      "text/plain": [
       "[1] 0.02805398"
      ]
     },
     "metadata": {},
     "output_type": "display_data"
    },
    {
     "data": {
      "text/html": [
       "0.028053980583867"
      ],
      "text/latex": [
       "0.028053980583867"
      ],
      "text/markdown": [
       "0.028053980583867"
      ],
      "text/plain": [
       "[1] 0.02805398"
      ]
     },
     "metadata": {},
     "output_type": "display_data"
    }
   ],
   "source": [
    "## OVBの確認\n",
    "beta_2*gamma_1\n",
    "alpha_1 - beta_1\n",
    "\n",
    "#こんなに近くなるの不思議すぎる #でも関係式はそうなってる。これによってhistoryがないことで効果量が0.028だけ多く推定されていることがわかる\n"
   ]
  },
  {
   "cell_type": "markdown",
   "id": "roman-twins",
   "metadata": {},
   "source": [
    "以下練習のためにbroomを利用した場合"
   ]
  },
  {
   "cell_type": "code",
   "execution_count": 15,
   "id": "major-category",
   "metadata": {},
   "outputs": [],
   "source": [
    "# (9) OVBの確認(broomを利用した場合)\n",
    "## broomの読み出し\n",
    "library(broom)\n",
    "\n",
    "## モデル式のベクトルを用意\n",
    "formula_vec <- c(spend ~ treatment + recency + channel, # モデルA\n",
    "               spend ~ treatment + recency + channel + history, # モデルB\n",
    "               history ~ treatment + channel + recency) # モデルC"
   ]
  },
  {
   "cell_type": "code",
   "execution_count": 16,
   "id": "victorian-heavy",
   "metadata": {},
   "outputs": [],
   "source": [
    "## formulaに名前を付ける\n",
    "names(formula_vec) <- paste(\"reg\", LETTERS[1:3], sep =\"_\")"
   ]
  },
  {
   "cell_type": "code",
   "execution_count": 17,
   "id": "occupational-camcorder",
   "metadata": {},
   "outputs": [
    {
     "data": {
      "text/plain": [
       "$reg_A\n",
       "spend ~ treatment + recency + channel\n",
       "\n",
       "$reg_B\n",
       "spend ~ treatment + recency + channel + history\n",
       "\n",
       "$reg_C\n",
       "history ~ treatment + channel + recency\n"
      ]
     },
     "metadata": {},
     "output_type": "display_data"
    }
   ],
   "source": [
    "formula_vec"
   ]
  },
  {
   "cell_type": "code",
   "execution_count": 18,
   "id": "alternate-cover",
   "metadata": {},
   "outputs": [
    {
     "data": {
      "text/html": [
       "<style>\n",
       ".list-inline {list-style: none; margin:0; padding: 0}\n",
       ".list-inline>li {display: inline-block}\n",
       ".list-inline>li:not(:last-child)::after {content: \"\\00b7\"; padding: 0 .5ex}\n",
       "</style>\n",
       "<ol class=list-inline><li>'reg_A'</li><li>'reg_B'</li><li>'reg_C'</li></ol>\n"
      ],
      "text/latex": [
       "\\begin{enumerate*}\n",
       "\\item 'reg\\_A'\n",
       "\\item 'reg\\_B'\n",
       "\\item 'reg\\_C'\n",
       "\\end{enumerate*}\n"
      ],
      "text/markdown": [
       "1. 'reg_A'\n",
       "2. 'reg_B'\n",
       "3. 'reg_C'\n",
       "\n",
       "\n"
      ],
      "text/plain": [
       "[1] \"reg_A\" \"reg_B\" \"reg_C\""
      ]
     },
     "metadata": {},
     "output_type": "display_data"
    }
   ],
   "source": [
    "paste(\"reg\", LETTERS[1:3], sep =\"_\") #suffixをつけるみたいなもんか"
   ]
  },
  {
   "cell_type": "code",
   "execution_count": 19,
   "id": "frozen-triumph",
   "metadata": {},
   "outputs": [
    {
     "data": {
      "text/html": [
       "<style>\n",
       ".list-inline {list-style: none; margin:0; padding: 0}\n",
       ".list-inline>li {display: inline-block}\n",
       ".list-inline>li:not(:last-child)::after {content: \"\\00b7\"; padding: 0 .5ex}\n",
       "</style>\n",
       "<ol class=list-inline><li>'A'</li><li>'B'</li><li>'C'</li><li>'D'</li><li>'E'</li><li>'F'</li><li>'G'</li><li>'H'</li><li>'I'</li><li>'J'</li><li>'K'</li><li>'L'</li><li>'M'</li><li>'N'</li><li>'O'</li><li>'P'</li><li>'Q'</li><li>'R'</li><li>'S'</li><li>'T'</li><li>'U'</li><li>'V'</li><li>'W'</li><li>'X'</li><li>'Y'</li><li>'Z'</li></ol>\n"
      ],
      "text/latex": [
       "\\begin{enumerate*}\n",
       "\\item 'A'\n",
       "\\item 'B'\n",
       "\\item 'C'\n",
       "\\item 'D'\n",
       "\\item 'E'\n",
       "\\item 'F'\n",
       "\\item 'G'\n",
       "\\item 'H'\n",
       "\\item 'I'\n",
       "\\item 'J'\n",
       "\\item 'K'\n",
       "\\item 'L'\n",
       "\\item 'M'\n",
       "\\item 'N'\n",
       "\\item 'O'\n",
       "\\item 'P'\n",
       "\\item 'Q'\n",
       "\\item 'R'\n",
       "\\item 'S'\n",
       "\\item 'T'\n",
       "\\item 'U'\n",
       "\\item 'V'\n",
       "\\item 'W'\n",
       "\\item 'X'\n",
       "\\item 'Y'\n",
       "\\item 'Z'\n",
       "\\end{enumerate*}\n"
      ],
      "text/markdown": [
       "1. 'A'\n",
       "2. 'B'\n",
       "3. 'C'\n",
       "4. 'D'\n",
       "5. 'E'\n",
       "6. 'F'\n",
       "7. 'G'\n",
       "8. 'H'\n",
       "9. 'I'\n",
       "10. 'J'\n",
       "11. 'K'\n",
       "12. 'L'\n",
       "13. 'M'\n",
       "14. 'N'\n",
       "15. 'O'\n",
       "16. 'P'\n",
       "17. 'Q'\n",
       "18. 'R'\n",
       "19. 'S'\n",
       "20. 'T'\n",
       "21. 'U'\n",
       "22. 'V'\n",
       "23. 'W'\n",
       "24. 'X'\n",
       "25. 'Y'\n",
       "26. 'Z'\n",
       "\n",
       "\n"
      ],
      "text/plain": [
       " [1] \"A\" \"B\" \"C\" \"D\" \"E\" \"F\" \"G\" \"H\" \"I\" \"J\" \"K\" \"L\" \"M\" \"N\" \"O\" \"P\" \"Q\" \"R\" \"S\"\n",
       "[20] \"T\" \"U\" \"V\" \"W\" \"X\" \"Y\" \"Z\""
      ]
     },
     "metadata": {},
     "output_type": "display_data"
    }
   ],
   "source": [
    "LETTERS"
   ]
  },
  {
   "cell_type": "code",
   "execution_count": 20,
   "id": "understood-browse",
   "metadata": {},
   "outputs": [
    {
     "data": {
      "text/html": [
       "<table class=\"dataframe\">\n",
       "<caption>A tibble: 3 × 2</caption>\n",
       "<thead>\n",
       "\t<tr><th scope=col>model_index</th><th scope=col>formula</th></tr>\n",
       "\t<tr><th scope=col>&lt;chr&gt;</th><th scope=col>&lt;list&gt;</th></tr>\n",
       "</thead>\n",
       "<tbody>\n",
       "\t<tr><td>reg_A</td><td>spend ~ treatment + recency + channel</td></tr>\n",
       "\t<tr><td>reg_B</td><td>spend ~ treatment + recency + channel + history</td></tr>\n",
       "\t<tr><td>reg_C</td><td>history ~ treatment + channel + recency</td></tr>\n",
       "</tbody>\n",
       "</table>\n"
      ],
      "text/latex": [
       "A tibble: 3 × 2\n",
       "\\begin{tabular}{ll}\n",
       " model\\_index & formula\\\\\n",
       " <chr> & <list>\\\\\n",
       "\\hline\n",
       "\t reg\\_A & spend \\textasciitilde{} treatment + recency + channel\\\\\n",
       "\t reg\\_B & spend \\textasciitilde{} treatment + recency + channel + history\\\\\n",
       "\t reg\\_C & history \\textasciitilde{} treatment + channel + recency\\\\\n",
       "\\end{tabular}\n"
      ],
      "text/markdown": [
       "\n",
       "A tibble: 3 × 2\n",
       "\n",
       "| model_index &lt;chr&gt; | formula &lt;list&gt; |\n",
       "|---|---|\n",
       "| reg_A | spend ~ treatment + recency + channel |\n",
       "| reg_B | spend ~ treatment + recency + channel + history |\n",
       "| reg_C | history ~ treatment + channel + recency |\n",
       "\n"
      ],
      "text/plain": [
       "  model_index formula                                        \n",
       "1 reg_A       spend ~ treatment + recency + channel          \n",
       "2 reg_B       spend ~ treatment + recency + channel + history\n",
       "3 reg_C       history ~ treatment + channel + recency        "
      ]
     },
     "metadata": {},
     "output_type": "display_data"
    }
   ],
   "source": [
    "## モデル式のデータフレーム化\n",
    "models = formula_vec %>%\n",
    "  enframe(name = \"model_index\", value = \"formula\")\n",
    "models"
   ]
  },
  {
   "cell_type": "code",
   "execution_count": 21,
   "id": "sticky-survivor",
   "metadata": {},
   "outputs": [],
   "source": [
    "## まとめて回帰分析を実行\n",
    "df_models <- models %>% \n",
    "    mutate(model = map(.x = formula, .f = lm, data = biased_data)) %>% #回帰分析を施した\n",
    "    mutate(lm_result = map(.x = model, .f = tidy))"
   ]
  },
  {
   "cell_type": "code",
   "execution_count": 22,
   "id": "secondary-resident",
   "metadata": {},
   "outputs": [],
   "source": [
    "tmp <- models %>% mutate(model=map(.x = formula, .f = lm, data = biased_data))"
   ]
  },
  {
   "cell_type": "code",
   "execution_count": 23,
   "id": "appreciated-europe",
   "metadata": {},
   "outputs": [
    {
     "data": {
      "text/html": [
       "<table class=\"dataframe\">\n",
       "<caption>A tibble: 3 × 3</caption>\n",
       "<thead>\n",
       "\t<tr><th scope=col>model_index</th><th scope=col>formula</th><th scope=col>unko</th></tr>\n",
       "\t<tr><th scope=col>&lt;chr&gt;</th><th scope=col>&lt;list&gt;</th><th scope=col>&lt;dbl&gt;</th></tr>\n",
       "</thead>\n",
       "<tbody>\n",
       "\t<tr><td>reg_A</td><td>spend ~ treatment + recency + channel</td><td>1</td></tr>\n",
       "\t<tr><td>reg_B</td><td>spend ~ treatment + recency + channel + history</td><td>2</td></tr>\n",
       "\t<tr><td>reg_C</td><td>history ~ treatment + channel + recency</td><td>3</td></tr>\n",
       "</tbody>\n",
       "</table>\n"
      ],
      "text/latex": [
       "A tibble: 3 × 3\n",
       "\\begin{tabular}{lll}\n",
       " model\\_index & formula & unko\\\\\n",
       " <chr> & <list> & <dbl>\\\\\n",
       "\\hline\n",
       "\t reg\\_A & spend \\textasciitilde{} treatment + recency + channel & 1\\\\\n",
       "\t reg\\_B & spend \\textasciitilde{} treatment + recency + channel + history & 2\\\\\n",
       "\t reg\\_C & history \\textasciitilde{} treatment + channel + recency & 3\\\\\n",
       "\\end{tabular}\n"
      ],
      "text/markdown": [
       "\n",
       "A tibble: 3 × 3\n",
       "\n",
       "| model_index &lt;chr&gt; | formula &lt;list&gt; | unko &lt;dbl&gt; |\n",
       "|---|---|---|\n",
       "| reg_A | spend ~ treatment + recency + channel | 1 |\n",
       "| reg_B | spend ~ treatment + recency + channel + history | 2 |\n",
       "| reg_C | history ~ treatment + channel + recency | 3 |\n",
       "\n"
      ],
      "text/plain": [
       "  model_index formula                                         unko\n",
       "1 reg_A       spend ~ treatment + recency + channel           1   \n",
       "2 reg_B       spend ~ treatment + recency + channel + history 2   \n",
       "3 reg_C       history ~ treatment + channel + recency         3   "
      ]
     },
     "metadata": {},
     "output_type": "display_data"
    }
   ],
   "source": [
    "models %>% mutate(unko=c(1,2,3))"
   ]
  },
  {
   "cell_type": "code",
   "execution_count": 24,
   "id": "major-dispute",
   "metadata": {},
   "outputs": [
    {
     "data": {
      "text/html": [
       "<ol>\n",
       "\t<li><table class=\"dataframe\">\n",
       "<caption>A tibble: 5 × 5</caption>\n",
       "<thead>\n",
       "\t<tr><th scope=col>term</th><th scope=col>estimate</th><th scope=col>std.error</th><th scope=col>statistic</th><th scope=col>p.value</th></tr>\n",
       "\t<tr><th scope=col>&lt;chr&gt;</th><th scope=col>&lt;dbl&gt;</th><th scope=col>&lt;dbl&gt;</th><th scope=col>&lt;dbl&gt;</th><th scope=col>&lt;dbl&gt;</th></tr>\n",
       "</thead>\n",
       "<tbody>\n",
       "\t<tr><td>(Intercept) </td><td> 1.09687653</td><td>0.31145956</td><td> 3.5217302</td><td>4.293395e-04</td></tr>\n",
       "\t<tr><td>treatment   </td><td> 0.87462971</td><td>0.17820107</td><td> 4.9081058</td><td>9.241414e-07</td></tr>\n",
       "\t<tr><td>recency     </td><td>-0.05516998</td><td>0.02537463</td><td>-2.1742180</td><td>2.969610e-02</td></tr>\n",
       "\t<tr><td>channelPhone</td><td>-0.31248934</td><td>0.28216860</td><td>-1.1074561</td><td>2.681051e-01</td></tr>\n",
       "\t<tr><td>channelWeb  </td><td>-0.08467985</td><td>0.28155374</td><td>-0.3007591</td><td>7.636002e-01</td></tr>\n",
       "</tbody>\n",
       "</table>\n",
       "</li>\n",
       "\t<li><table class=\"dataframe\">\n",
       "<caption>A tibble: 6 × 5</caption>\n",
       "<thead>\n",
       "\t<tr><th scope=col>term</th><th scope=col>estimate</th><th scope=col>std.error</th><th scope=col>statistic</th><th scope=col>p.value</th></tr>\n",
       "\t<tr><th scope=col>&lt;chr&gt;</th><th scope=col>&lt;dbl&gt;</th><th scope=col>&lt;dbl&gt;</th><th scope=col>&lt;dbl&gt;</th><th scope=col>&lt;dbl&gt;</th></tr>\n",
       "</thead>\n",
       "<tbody>\n",
       "\t<tr><td>(Intercept) </td><td> 0.502412896</td><td>0.3793847254</td><td> 1.32428341</td><td>1.854184e-01</td></tr>\n",
       "\t<tr><td>treatment   </td><td> 0.846575728</td><td>0.1784759605</td><td> 4.74335998</td><td>2.111119e-06</td></tr>\n",
       "\t<tr><td>recency     </td><td>-0.040266556</td><td>0.0259469894</td><td>-1.55187775</td><td>1.207014e-01</td></tr>\n",
       "\t<tr><td>channelPhone</td><td>-0.001778911</td><td>0.3040193436</td><td>-0.00585131</td><td>9.953314e-01</td></tr>\n",
       "\t<tr><td>channelWeb  </td><td> 0.226159585</td><td>0.3034664353</td><td> 0.74525403</td><td>4.561237e-01</td></tr>\n",
       "\t<tr><td>history     </td><td> 0.001029897</td><td>0.0003753754</td><td> 2.74364500</td><td>6.079519e-03</td></tr>\n",
       "</tbody>\n",
       "</table>\n",
       "</li>\n",
       "\t<li><table class=\"dataframe\">\n",
       "<caption>A tibble: 5 × 5</caption>\n",
       "<thead>\n",
       "\t<tr><th scope=col>term</th><th scope=col>estimate</th><th scope=col>std.error</th><th scope=col>statistic</th><th scope=col>p.value</th></tr>\n",
       "\t<tr><th scope=col>&lt;chr&gt;</th><th scope=col>&lt;dbl&gt;</th><th scope=col>&lt;dbl&gt;</th><th scope=col>&lt;dbl&gt;</th><th scope=col>&lt;dbl&gt;</th></tr>\n",
       "</thead>\n",
       "<tbody>\n",
       "\t<tr><td>(Intercept) </td><td> 577.20691</td><td>4.6481707</td><td>124.17937</td><td> 0.000000e+00</td></tr>\n",
       "\t<tr><td>treatment   </td><td>  27.23960</td><td>2.6594431</td><td> 10.24260</td><td> 1.394896e-24</td></tr>\n",
       "\t<tr><td>channelPhone</td><td>-301.69079</td><td>4.2110372</td><td>-71.64287</td><td> 0.000000e+00</td></tr>\n",
       "\t<tr><td>channelWeb  </td><td>-301.81606</td><td>4.2018612</td><td>-71.82913</td><td> 0.000000e+00</td></tr>\n",
       "\t<tr><td>recency     </td><td> -14.47079</td><td>0.3786867</td><td>-38.21308</td><td>1.969894e-312</td></tr>\n",
       "</tbody>\n",
       "</table>\n",
       "</li>\n",
       "</ol>\n"
      ],
      "text/latex": [
       "\\begin{enumerate}\n",
       "\\item A tibble: 5 × 5\n",
       "\\begin{tabular}{lllll}\n",
       " term & estimate & std.error & statistic & p.value\\\\\n",
       " <chr> & <dbl> & <dbl> & <dbl> & <dbl>\\\\\n",
       "\\hline\n",
       "\t (Intercept)  &  1.09687653 & 0.31145956 &  3.5217302 & 4.293395e-04\\\\\n",
       "\t treatment    &  0.87462971 & 0.17820107 &  4.9081058 & 9.241414e-07\\\\\n",
       "\t recency      & -0.05516998 & 0.02537463 & -2.1742180 & 2.969610e-02\\\\\n",
       "\t channelPhone & -0.31248934 & 0.28216860 & -1.1074561 & 2.681051e-01\\\\\n",
       "\t channelWeb   & -0.08467985 & 0.28155374 & -0.3007591 & 7.636002e-01\\\\\n",
       "\\end{tabular}\n",
       "\n",
       "\\item A tibble: 6 × 5\n",
       "\\begin{tabular}{lllll}\n",
       " term & estimate & std.error & statistic & p.value\\\\\n",
       " <chr> & <dbl> & <dbl> & <dbl> & <dbl>\\\\\n",
       "\\hline\n",
       "\t (Intercept)  &  0.502412896 & 0.3793847254 &  1.32428341 & 1.854184e-01\\\\\n",
       "\t treatment    &  0.846575728 & 0.1784759605 &  4.74335998 & 2.111119e-06\\\\\n",
       "\t recency      & -0.040266556 & 0.0259469894 & -1.55187775 & 1.207014e-01\\\\\n",
       "\t channelPhone & -0.001778911 & 0.3040193436 & -0.00585131 & 9.953314e-01\\\\\n",
       "\t channelWeb   &  0.226159585 & 0.3034664353 &  0.74525403 & 4.561237e-01\\\\\n",
       "\t history      &  0.001029897 & 0.0003753754 &  2.74364500 & 6.079519e-03\\\\\n",
       "\\end{tabular}\n",
       "\n",
       "\\item A tibble: 5 × 5\n",
       "\\begin{tabular}{lllll}\n",
       " term & estimate & std.error & statistic & p.value\\\\\n",
       " <chr> & <dbl> & <dbl> & <dbl> & <dbl>\\\\\n",
       "\\hline\n",
       "\t (Intercept)  &  577.20691 & 4.6481707 & 124.17937 &  0.000000e+00\\\\\n",
       "\t treatment    &   27.23960 & 2.6594431 &  10.24260 &  1.394896e-24\\\\\n",
       "\t channelPhone & -301.69079 & 4.2110372 & -71.64287 &  0.000000e+00\\\\\n",
       "\t channelWeb   & -301.81606 & 4.2018612 & -71.82913 &  0.000000e+00\\\\\n",
       "\t recency      &  -14.47079 & 0.3786867 & -38.21308 & 1.969894e-312\\\\\n",
       "\\end{tabular}\n",
       "\n",
       "\\end{enumerate}\n"
      ],
      "text/markdown": [
       "1. \n",
       "A tibble: 5 × 5\n",
       "\n",
       "| term &lt;chr&gt; | estimate &lt;dbl&gt; | std.error &lt;dbl&gt; | statistic &lt;dbl&gt; | p.value &lt;dbl&gt; |\n",
       "|---|---|---|---|---|\n",
       "| (Intercept)  |  1.09687653 | 0.31145956 |  3.5217302 | 4.293395e-04 |\n",
       "| treatment    |  0.87462971 | 0.17820107 |  4.9081058 | 9.241414e-07 |\n",
       "| recency      | -0.05516998 | 0.02537463 | -2.1742180 | 2.969610e-02 |\n",
       "| channelPhone | -0.31248934 | 0.28216860 | -1.1074561 | 2.681051e-01 |\n",
       "| channelWeb   | -0.08467985 | 0.28155374 | -0.3007591 | 7.636002e-01 |\n",
       "\n",
       "\n",
       "2. \n",
       "A tibble: 6 × 5\n",
       "\n",
       "| term &lt;chr&gt; | estimate &lt;dbl&gt; | std.error &lt;dbl&gt; | statistic &lt;dbl&gt; | p.value &lt;dbl&gt; |\n",
       "|---|---|---|---|---|\n",
       "| (Intercept)  |  0.502412896 | 0.3793847254 |  1.32428341 | 1.854184e-01 |\n",
       "| treatment    |  0.846575728 | 0.1784759605 |  4.74335998 | 2.111119e-06 |\n",
       "| recency      | -0.040266556 | 0.0259469894 | -1.55187775 | 1.207014e-01 |\n",
       "| channelPhone | -0.001778911 | 0.3040193436 | -0.00585131 | 9.953314e-01 |\n",
       "| channelWeb   |  0.226159585 | 0.3034664353 |  0.74525403 | 4.561237e-01 |\n",
       "| history      |  0.001029897 | 0.0003753754 |  2.74364500 | 6.079519e-03 |\n",
       "\n",
       "\n",
       "3. \n",
       "A tibble: 5 × 5\n",
       "\n",
       "| term &lt;chr&gt; | estimate &lt;dbl&gt; | std.error &lt;dbl&gt; | statistic &lt;dbl&gt; | p.value &lt;dbl&gt; |\n",
       "|---|---|---|---|---|\n",
       "| (Intercept)  |  577.20691 | 4.6481707 | 124.17937 |  0.000000e+00 |\n",
       "| treatment    |   27.23960 | 2.6594431 |  10.24260 |  1.394896e-24 |\n",
       "| channelPhone | -301.69079 | 4.2110372 | -71.64287 |  0.000000e+00 |\n",
       "| channelWeb   | -301.81606 | 4.2018612 | -71.82913 |  0.000000e+00 |\n",
       "| recency      |  -14.47079 | 0.3786867 | -38.21308 | 1.969894e-312 |\n",
       "\n",
       "\n",
       "\n",
       "\n"
      ],
      "text/plain": [
       "[[1]]\n",
       "\u001b[90m# A tibble: 5 x 5\u001b[39m\n",
       "  term         estimate std.error statistic     p.value\n",
       "  \u001b[3m\u001b[90m<chr>\u001b[39m\u001b[23m           \u001b[3m\u001b[90m<dbl>\u001b[39m\u001b[23m     \u001b[3m\u001b[90m<dbl>\u001b[39m\u001b[23m     \u001b[3m\u001b[90m<dbl>\u001b[39m\u001b[23m       \u001b[3m\u001b[90m<dbl>\u001b[39m\u001b[23m\n",
       "\u001b[90m1\u001b[39m (Intercept)    1.10      0.311      3.52  0.000\u001b[4m4\u001b[24m\u001b[4m2\u001b[24m\u001b[4m9\u001b[24m   \n",
       "\u001b[90m2\u001b[39m treatment      0.875     0.178      4.91  0.000\u001b[4m0\u001b[24m\u001b[4m0\u001b[24m\u001b[4m0\u001b[24m924\n",
       "\u001b[90m3\u001b[39m recency       -\u001b[31m0\u001b[39m\u001b[31m.\u001b[39m\u001b[31m0\u001b[39m\u001b[31m55\u001b[4m2\u001b[24m\u001b[39m    0.025\u001b[4m4\u001b[24m    -\u001b[31m2\u001b[39m\u001b[31m.\u001b[39m\u001b[31m17\u001b[39m  0.029\u001b[4m7\u001b[24m     \n",
       "\u001b[90m4\u001b[39m channelPhone  -\u001b[31m0\u001b[39m\u001b[31m.\u001b[39m\u001b[31m312\u001b[39m     0.282     -\u001b[31m1\u001b[39m\u001b[31m.\u001b[39m\u001b[31m11\u001b[39m  0.268      \n",
       "\u001b[90m5\u001b[39m channelWeb    -\u001b[31m0\u001b[39m\u001b[31m.\u001b[39m\u001b[31m0\u001b[39m\u001b[31m84\u001b[4m7\u001b[24m\u001b[39m    0.282     -\u001b[31m0\u001b[39m\u001b[31m.\u001b[39m\u001b[31m301\u001b[39m 0.764      \n",
       "\n",
       "[[2]]\n",
       "\u001b[90m# A tibble: 6 x 5\u001b[39m\n",
       "  term         estimate std.error statistic    p.value\n",
       "  \u001b[3m\u001b[90m<chr>\u001b[39m\u001b[23m           \u001b[3m\u001b[90m<dbl>\u001b[39m\u001b[23m     \u001b[3m\u001b[90m<dbl>\u001b[39m\u001b[23m     \u001b[3m\u001b[90m<dbl>\u001b[39m\u001b[23m      \u001b[3m\u001b[90m<dbl>\u001b[39m\u001b[23m\n",
       "\u001b[90m1\u001b[39m (Intercept)   0.502    0.379      1.32    0.185     \n",
       "\u001b[90m2\u001b[39m treatment     0.847    0.178      4.74    0.000\u001b[4m0\u001b[24m\u001b[4m0\u001b[24m\u001b[4m2\u001b[24m11\n",
       "\u001b[90m3\u001b[39m recency      -\u001b[31m0\u001b[39m\u001b[31m.\u001b[39m\u001b[31m0\u001b[39m\u001b[31m40\u001b[4m3\u001b[24m\u001b[39m   0.025\u001b[4m9\u001b[24m    -\u001b[31m1\u001b[39m\u001b[31m.\u001b[39m\u001b[31m55\u001b[39m    0.121     \n",
       "\u001b[90m4\u001b[39m channelPhone -\u001b[31m0\u001b[39m\u001b[31m.\u001b[39m\u001b[31m00\u001b[39m\u001b[31m1\u001b[4m7\u001b[24m\u001b[4m8\u001b[24m\u001b[39m  0.304     -\u001b[31m0\u001b[39m\u001b[31m.\u001b[39m\u001b[31m00\u001b[39m\u001b[31m5\u001b[4m8\u001b[24m\u001b[4m5\u001b[24m\u001b[39m 0.995     \n",
       "\u001b[90m5\u001b[39m channelWeb    0.226    0.303      0.745   0.456     \n",
       "\u001b[90m6\u001b[39m history       0.001\u001b[4m0\u001b[24m\u001b[4m3\u001b[24m  0.000\u001b[4m3\u001b[24m\u001b[4m7\u001b[24m\u001b[4m5\u001b[24m   2.74    0.006\u001b[4m0\u001b[24m\u001b[4m8\u001b[24m   \n",
       "\n",
       "[[3]]\n",
       "\u001b[90m# A tibble: 5 x 5\u001b[39m\n",
       "  term         estimate std.error statistic   p.value\n",
       "  \u001b[3m\u001b[90m<chr>\u001b[39m\u001b[23m           \u001b[3m\u001b[90m<dbl>\u001b[39m\u001b[23m     \u001b[3m\u001b[90m<dbl>\u001b[39m\u001b[23m     \u001b[3m\u001b[90m<dbl>\u001b[39m\u001b[23m     \u001b[3m\u001b[90m<dbl>\u001b[39m\u001b[23m\n",
       "\u001b[90m1\u001b[39m (Intercept)     577.      4.65      124.  0   \u001b[90m \u001b[39m    \n",
       "\u001b[90m2\u001b[39m treatment        27.2     2.66       10.2 1.39\u001b[90me\u001b[39m\u001b[31m- 24\u001b[39m\n",
       "\u001b[90m3\u001b[39m channelPhone   -\u001b[31m302\u001b[39m\u001b[31m.\u001b[39m      4.21      -\u001b[31m71\u001b[39m\u001b[31m.\u001b[39m\u001b[31m6\u001b[39m 0   \u001b[90m \u001b[39m    \n",
       "\u001b[90m4\u001b[39m channelWeb     -\u001b[31m302\u001b[39m\u001b[31m.\u001b[39m      4.20      -\u001b[31m71\u001b[39m\u001b[31m.\u001b[39m\u001b[31m8\u001b[39m 0   \u001b[90m \u001b[39m    \n",
       "\u001b[90m5\u001b[39m recency         -\u001b[31m14\u001b[39m\u001b[31m.\u001b[39m\u001b[31m5\u001b[39m     0.379     -\u001b[31m38\u001b[39m\u001b[31m.\u001b[39m\u001b[31m2\u001b[39m 1.97\u001b[90me\u001b[39m\u001b[31m-312\u001b[39m\n"
      ]
     },
     "metadata": {},
     "output_type": "display_data"
    }
   ],
   "source": [
    "df_models$lm_result"
   ]
  },
  {
   "cell_type": "code",
   "execution_count": 25,
   "id": "frank-genesis",
   "metadata": {},
   "outputs": [
    {
     "data": {
      "text/html": [
       "<table class=\"dataframe\">\n",
       "<caption>A tibble: 3 × 3</caption>\n",
       "<thead>\n",
       "\t<tr><th scope=col>formula</th><th scope=col>model_index</th><th scope=col>lm_result</th></tr>\n",
       "\t<tr><th scope=col>&lt;list&gt;</th><th scope=col>&lt;chr&gt;</th><th scope=col>&lt;list&gt;</th></tr>\n",
       "</thead>\n",
       "<tbody>\n",
       "\t<tr><td>spend ~ treatment + recency + channel</td><td>reg_A</td><td>(Intercept)         , treatment           , recency             , channelPhone        , channelWeb          , 1.09687653201018    , 0.874629708514415   , -0.0551699754020017 , -0.312489342000167  , -0.0846798533712658 , 0.311459559910636   , 0.178201070638352   , 0.0253746285630198  , 0.28216859696893    , 0.281553742724906   , 3.52173018007506    , 4.90810580083114    , -2.17421804874829   , -1.10745612855911   , -0.30075911103765   , 0.000429339535974373, 9.24141369112181e-07, 0.0296960988421261  , 0.268105131511276   , 0.763600152861394   </td></tr>\n",
       "\t<tr><td>spend ~ treatment + recency + channel + history</td><td>reg_B</td><td>(Intercept)         , treatment           , recency             , channelPhone        , channelWeb          , history             , 0.502412896129599   , 0.846575727930548   , -0.0402665557122618 , -0.00177891134775736, 0.226159585212085   , 0.00102989695461476 , 0.379384725430789   , 0.17847596054522    , 0.0259469894483822  , 0.304019343563046   , 0.303466435250855   , 0.000375375442382237, 1.32428340534562    , 4.7433599760123     , -1.55187775415588   , -0.00585130974532369, 0.745254034519943   , 2.74364499733587    , 0.1854184404305     , 2.11111876155193e-06, 0.120701410394414   , 0.995331393572634   , 0.456123661045614   , 0.00607951929013898 </td></tr>\n",
       "\t<tr><td>history ~ treatment + channel + recency</td><td>reg_C</td><td>(Intercept)          , treatment            , channelPhone         , channelWeb           , recency              , 577.206907173491     , 27.2395995134878     , -301.690794656861    , -301.816057607065    , -14.4707872209552    , 4.64817067580048     , 2.65944314303628     , 4.21103721600024     , 4.20186123351383     , 0.378686736826441    , 124.179370215163     , 10.2425951781727     , -71.6428706710447    , -71.8291349556706    , -38.2130817208615    , 0                    , 1.39489647897936e-24 , 0                    , 0                    , 1.96989350543756e-312</td></tr>\n",
       "</tbody>\n",
       "</table>\n"
      ],
      "text/latex": [
       "A tibble: 3 × 3\n",
       "\\begin{tabular}{lll}\n",
       " formula & model\\_index & lm\\_result\\\\\n",
       " <list> & <chr> & <list>\\\\\n",
       "\\hline\n",
       "\t spend \\textasciitilde{} treatment + recency + channel & reg\\_A & (Intercept)         , treatment           , recency             , channelPhone        , channelWeb          , 1.09687653201018    , 0.874629708514415   , -0.0551699754020017 , -0.312489342000167  , -0.0846798533712658 , 0.311459559910636   , 0.178201070638352   , 0.0253746285630198  , 0.28216859696893    , 0.281553742724906   , 3.52173018007506    , 4.90810580083114    , -2.17421804874829   , -1.10745612855911   , -0.30075911103765   , 0.000429339535974373, 9.24141369112181e-07, 0.0296960988421261  , 0.268105131511276   , 0.763600152861394   \\\\\n",
       "\t spend \\textasciitilde{} treatment + recency + channel + history & reg\\_B & (Intercept)         , treatment           , recency             , channelPhone        , channelWeb          , history             , 0.502412896129599   , 0.846575727930548   , -0.0402665557122618 , -0.00177891134775736, 0.226159585212085   , 0.00102989695461476 , 0.379384725430789   , 0.17847596054522    , 0.0259469894483822  , 0.304019343563046   , 0.303466435250855   , 0.000375375442382237, 1.32428340534562    , 4.7433599760123     , -1.55187775415588   , -0.00585130974532369, 0.745254034519943   , 2.74364499733587    , 0.1854184404305     , 2.11111876155193e-06, 0.120701410394414   , 0.995331393572634   , 0.456123661045614   , 0.00607951929013898 \\\\\n",
       "\t history \\textasciitilde{} treatment + channel + recency & reg\\_C & (Intercept)          , treatment            , channelPhone         , channelWeb           , recency              , 577.206907173491     , 27.2395995134878     , -301.690794656861    , -301.816057607065    , -14.4707872209552    , 4.64817067580048     , 2.65944314303628     , 4.21103721600024     , 4.20186123351383     , 0.378686736826441    , 124.179370215163     , 10.2425951781727     , -71.6428706710447    , -71.8291349556706    , -38.2130817208615    , 0                    , 1.39489647897936e-24 , 0                    , 0                    , 1.96989350543756e-312\\\\\n",
       "\\end{tabular}\n"
      ],
      "text/markdown": [
       "\n",
       "A tibble: 3 × 3\n",
       "\n",
       "| formula &lt;list&gt; | model_index &lt;chr&gt; | lm_result &lt;list&gt; |\n",
       "|---|---|---|\n",
       "| spend ~ treatment + recency + channel | reg_A | (Intercept)         , treatment           , recency             , channelPhone        , channelWeb          , 1.09687653201018    , 0.874629708514415   , -0.0551699754020017 , -0.312489342000167  , -0.0846798533712658 , 0.311459559910636   , 0.178201070638352   , 0.0253746285630198  , 0.28216859696893    , 0.281553742724906   , 3.52173018007506    , 4.90810580083114    , -2.17421804874829   , -1.10745612855911   , -0.30075911103765   , 0.000429339535974373, 9.24141369112181e-07, 0.0296960988421261  , 0.268105131511276   , 0.763600152861394    |\n",
       "| spend ~ treatment + recency + channel + history | reg_B | (Intercept)         , treatment           , recency             , channelPhone        , channelWeb          , history             , 0.502412896129599   , 0.846575727930548   , -0.0402665557122618 , -0.00177891134775736, 0.226159585212085   , 0.00102989695461476 , 0.379384725430789   , 0.17847596054522    , 0.0259469894483822  , 0.304019343563046   , 0.303466435250855   , 0.000375375442382237, 1.32428340534562    , 4.7433599760123     , -1.55187775415588   , -0.00585130974532369, 0.745254034519943   , 2.74364499733587    , 0.1854184404305     , 2.11111876155193e-06, 0.120701410394414   , 0.995331393572634   , 0.456123661045614   , 0.00607951929013898  |\n",
       "| history ~ treatment + channel + recency | reg_C | (Intercept)          , treatment            , channelPhone         , channelWeb           , recency              , 577.206907173491     , 27.2395995134878     , -301.690794656861    , -301.816057607065    , -14.4707872209552    , 4.64817067580048     , 2.65944314303628     , 4.21103721600024     , 4.20186123351383     , 0.378686736826441    , 124.179370215163     , 10.2425951781727     , -71.6428706710447    , -71.8291349556706    , -38.2130817208615    , 0                    , 1.39489647897936e-24 , 0                    , 0                    , 1.96989350543756e-312 |\n",
       "\n"
      ],
      "text/plain": [
       "  formula                                         model_index\n",
       "1 spend ~ treatment + recency + channel           reg_A      \n",
       "2 spend ~ treatment + recency + channel + history reg_B      \n",
       "3 history ~ treatment + channel + recency         reg_C      \n",
       "  lm_result                                                                                                                                                                                                                                                                                                                                                                                                                                                                                                                                                                                                                                                                         \n",
       "1 (Intercept)         , treatment           , recency             , channelPhone        , channelWeb          , 1.09687653201018    , 0.874629708514415   , -0.0551699754020017 , -0.312489342000167  , -0.0846798533712658 , 0.311459559910636   , 0.178201070638352   , 0.0253746285630198  , 0.28216859696893    , 0.281553742724906   , 3.52173018007506    , 4.90810580083114    , -2.17421804874829   , -1.10745612855911   , -0.30075911103765   , 0.000429339535974373, 9.24141369112181e-07, 0.0296960988421261  , 0.268105131511276   , 0.763600152861394                                                                                                                 \n",
       "2 (Intercept)         , treatment           , recency             , channelPhone        , channelWeb          , history             , 0.502412896129599   , 0.846575727930548   , -0.0402665557122618 , -0.00177891134775736, 0.226159585212085   , 0.00102989695461476 , 0.379384725430789   , 0.17847596054522    , 0.0259469894483822  , 0.304019343563046   , 0.303466435250855   , 0.000375375442382237, 1.32428340534562    , 4.7433599760123     , -1.55187775415588   , -0.00585130974532369, 0.745254034519943   , 2.74364499733587    , 0.1854184404305     , 2.11111876155193e-06, 0.120701410394414   , 0.995331393572634   , 0.456123661045614   , 0.00607951929013898 \n",
       "3 (Intercept)          , treatment            , channelPhone         , channelWeb           , recency              , 577.206907173491     , 27.2395995134878     , -301.690794656861    , -301.816057607065    , -14.4707872209552    , 4.64817067580048     , 2.65944314303628     , 4.21103721600024     , 4.20186123351383     , 0.378686736826441    , 124.179370215163     , 10.2425951781727     , -71.6428706710447    , -71.8291349556706    , -38.2130817208615    , 0                    , 1.39489647897936e-24 , 0                    , 0                    , 1.96989350543756e-312                                                                                     "
      ]
     },
     "metadata": {},
     "output_type": "display_data"
    }
   ],
   "source": [
    "df_models %>%\n",
    "  select(formula, model_index, lm_result)"
   ]
  },
  {
   "cell_type": "code",
   "execution_count": 26,
   "id": "compound-opera",
   "metadata": {},
   "outputs": [
    {
     "data": {
      "text/html": [
       "<table class=\"dataframe\">\n",
       "<caption>A tibble: 16 × 7</caption>\n",
       "<thead>\n",
       "\t<tr><th scope=col>formula</th><th scope=col>model_index</th><th scope=col>term</th><th scope=col>estimate</th><th scope=col>std.error</th><th scope=col>statistic</th><th scope=col>p.value</th></tr>\n",
       "\t<tr><th scope=col>&lt;chr&gt;</th><th scope=col>&lt;chr&gt;</th><th scope=col>&lt;chr&gt;</th><th scope=col>&lt;dbl&gt;</th><th scope=col>&lt;dbl&gt;</th><th scope=col>&lt;dbl&gt;</th><th scope=col>&lt;dbl&gt;</th></tr>\n",
       "</thead>\n",
       "<tbody>\n",
       "\t<tr><td>spend ~ treatment + recency + channel          </td><td>reg_A</td><td>(Intercept) </td><td> 1.096877e+00</td><td>0.3114595599</td><td>  3.52173018</td><td> 4.293395e-04</td></tr>\n",
       "\t<tr><td>spend ~ treatment + recency + channel          </td><td>reg_A</td><td>treatment   </td><td> 8.746297e-01</td><td>0.1782010706</td><td>  4.90810580</td><td> 9.241414e-07</td></tr>\n",
       "\t<tr><td>spend ~ treatment + recency + channel          </td><td>reg_A</td><td>recency     </td><td>-5.516998e-02</td><td>0.0253746286</td><td> -2.17421805</td><td> 2.969610e-02</td></tr>\n",
       "\t<tr><td>spend ~ treatment + recency + channel          </td><td>reg_A</td><td>channelPhone</td><td>-3.124893e-01</td><td>0.2821685970</td><td> -1.10745613</td><td> 2.681051e-01</td></tr>\n",
       "\t<tr><td>spend ~ treatment + recency + channel          </td><td>reg_A</td><td>channelWeb  </td><td>-8.467985e-02</td><td>0.2815537427</td><td> -0.30075911</td><td> 7.636002e-01</td></tr>\n",
       "\t<tr><td>spend ~ treatment + recency + channel + history</td><td>reg_B</td><td>(Intercept) </td><td> 5.024129e-01</td><td>0.3793847254</td><td>  1.32428341</td><td> 1.854184e-01</td></tr>\n",
       "\t<tr><td>spend ~ treatment + recency + channel + history</td><td>reg_B</td><td>treatment   </td><td> 8.465757e-01</td><td>0.1784759605</td><td>  4.74335998</td><td> 2.111119e-06</td></tr>\n",
       "\t<tr><td>spend ~ treatment + recency + channel + history</td><td>reg_B</td><td>recency     </td><td>-4.026656e-02</td><td>0.0259469894</td><td> -1.55187775</td><td> 1.207014e-01</td></tr>\n",
       "\t<tr><td>spend ~ treatment + recency + channel + history</td><td>reg_B</td><td>channelPhone</td><td>-1.778911e-03</td><td>0.3040193436</td><td> -0.00585131</td><td> 9.953314e-01</td></tr>\n",
       "\t<tr><td>spend ~ treatment + recency + channel + history</td><td>reg_B</td><td>channelWeb  </td><td> 2.261596e-01</td><td>0.3034664353</td><td>  0.74525403</td><td> 4.561237e-01</td></tr>\n",
       "\t<tr><td>spend ~ treatment + recency + channel + history</td><td>reg_B</td><td>history     </td><td> 1.029897e-03</td><td>0.0003753754</td><td>  2.74364500</td><td> 6.079519e-03</td></tr>\n",
       "\t<tr><td>history ~ treatment + channel + recency        </td><td>reg_C</td><td>(Intercept) </td><td> 5.772069e+02</td><td>4.6481706758</td><td>124.17937022</td><td> 0.000000e+00</td></tr>\n",
       "\t<tr><td>history ~ treatment + channel + recency        </td><td>reg_C</td><td>treatment   </td><td> 2.723960e+01</td><td>2.6594431430</td><td> 10.24259518</td><td> 1.394896e-24</td></tr>\n",
       "\t<tr><td>history ~ treatment + channel + recency        </td><td>reg_C</td><td>channelPhone</td><td>-3.016908e+02</td><td>4.2110372160</td><td>-71.64287067</td><td> 0.000000e+00</td></tr>\n",
       "\t<tr><td>history ~ treatment + channel + recency        </td><td>reg_C</td><td>channelWeb  </td><td>-3.018161e+02</td><td>4.2018612335</td><td>-71.82913496</td><td> 0.000000e+00</td></tr>\n",
       "\t<tr><td>history ~ treatment + channel + recency        </td><td>reg_C</td><td>recency     </td><td>-1.447079e+01</td><td>0.3786867368</td><td>-38.21308172</td><td>1.969894e-312</td></tr>\n",
       "</tbody>\n",
       "</table>\n"
      ],
      "text/latex": [
       "A tibble: 16 × 7\n",
       "\\begin{tabular}{lllllll}\n",
       " formula & model\\_index & term & estimate & std.error & statistic & p.value\\\\\n",
       " <chr> & <chr> & <chr> & <dbl> & <dbl> & <dbl> & <dbl>\\\\\n",
       "\\hline\n",
       "\t spend \\textasciitilde{} treatment + recency + channel           & reg\\_A & (Intercept)  &  1.096877e+00 & 0.3114595599 &   3.52173018 &  4.293395e-04\\\\\n",
       "\t spend \\textasciitilde{} treatment + recency + channel           & reg\\_A & treatment    &  8.746297e-01 & 0.1782010706 &   4.90810580 &  9.241414e-07\\\\\n",
       "\t spend \\textasciitilde{} treatment + recency + channel           & reg\\_A & recency      & -5.516998e-02 & 0.0253746286 &  -2.17421805 &  2.969610e-02\\\\\n",
       "\t spend \\textasciitilde{} treatment + recency + channel           & reg\\_A & channelPhone & -3.124893e-01 & 0.2821685970 &  -1.10745613 &  2.681051e-01\\\\\n",
       "\t spend \\textasciitilde{} treatment + recency + channel           & reg\\_A & channelWeb   & -8.467985e-02 & 0.2815537427 &  -0.30075911 &  7.636002e-01\\\\\n",
       "\t spend \\textasciitilde{} treatment + recency + channel + history & reg\\_B & (Intercept)  &  5.024129e-01 & 0.3793847254 &   1.32428341 &  1.854184e-01\\\\\n",
       "\t spend \\textasciitilde{} treatment + recency + channel + history & reg\\_B & treatment    &  8.465757e-01 & 0.1784759605 &   4.74335998 &  2.111119e-06\\\\\n",
       "\t spend \\textasciitilde{} treatment + recency + channel + history & reg\\_B & recency      & -4.026656e-02 & 0.0259469894 &  -1.55187775 &  1.207014e-01\\\\\n",
       "\t spend \\textasciitilde{} treatment + recency + channel + history & reg\\_B & channelPhone & -1.778911e-03 & 0.3040193436 &  -0.00585131 &  9.953314e-01\\\\\n",
       "\t spend \\textasciitilde{} treatment + recency + channel + history & reg\\_B & channelWeb   &  2.261596e-01 & 0.3034664353 &   0.74525403 &  4.561237e-01\\\\\n",
       "\t spend \\textasciitilde{} treatment + recency + channel + history & reg\\_B & history      &  1.029897e-03 & 0.0003753754 &   2.74364500 &  6.079519e-03\\\\\n",
       "\t history \\textasciitilde{} treatment + channel + recency         & reg\\_C & (Intercept)  &  5.772069e+02 & 4.6481706758 & 124.17937022 &  0.000000e+00\\\\\n",
       "\t history \\textasciitilde{} treatment + channel + recency         & reg\\_C & treatment    &  2.723960e+01 & 2.6594431430 &  10.24259518 &  1.394896e-24\\\\\n",
       "\t history \\textasciitilde{} treatment + channel + recency         & reg\\_C & channelPhone & -3.016908e+02 & 4.2110372160 & -71.64287067 &  0.000000e+00\\\\\n",
       "\t history \\textasciitilde{} treatment + channel + recency         & reg\\_C & channelWeb   & -3.018161e+02 & 4.2018612335 & -71.82913496 &  0.000000e+00\\\\\n",
       "\t history \\textasciitilde{} treatment + channel + recency         & reg\\_C & recency      & -1.447079e+01 & 0.3786867368 & -38.21308172 & 1.969894e-312\\\\\n",
       "\\end{tabular}\n"
      ],
      "text/markdown": [
       "\n",
       "A tibble: 16 × 7\n",
       "\n",
       "| formula &lt;chr&gt; | model_index &lt;chr&gt; | term &lt;chr&gt; | estimate &lt;dbl&gt; | std.error &lt;dbl&gt; | statistic &lt;dbl&gt; | p.value &lt;dbl&gt; |\n",
       "|---|---|---|---|---|---|---|\n",
       "| spend ~ treatment + recency + channel           | reg_A | (Intercept)  |  1.096877e+00 | 0.3114595599 |   3.52173018 |  4.293395e-04 |\n",
       "| spend ~ treatment + recency + channel           | reg_A | treatment    |  8.746297e-01 | 0.1782010706 |   4.90810580 |  9.241414e-07 |\n",
       "| spend ~ treatment + recency + channel           | reg_A | recency      | -5.516998e-02 | 0.0253746286 |  -2.17421805 |  2.969610e-02 |\n",
       "| spend ~ treatment + recency + channel           | reg_A | channelPhone | -3.124893e-01 | 0.2821685970 |  -1.10745613 |  2.681051e-01 |\n",
       "| spend ~ treatment + recency + channel           | reg_A | channelWeb   | -8.467985e-02 | 0.2815537427 |  -0.30075911 |  7.636002e-01 |\n",
       "| spend ~ treatment + recency + channel + history | reg_B | (Intercept)  |  5.024129e-01 | 0.3793847254 |   1.32428341 |  1.854184e-01 |\n",
       "| spend ~ treatment + recency + channel + history | reg_B | treatment    |  8.465757e-01 | 0.1784759605 |   4.74335998 |  2.111119e-06 |\n",
       "| spend ~ treatment + recency + channel + history | reg_B | recency      | -4.026656e-02 | 0.0259469894 |  -1.55187775 |  1.207014e-01 |\n",
       "| spend ~ treatment + recency + channel + history | reg_B | channelPhone | -1.778911e-03 | 0.3040193436 |  -0.00585131 |  9.953314e-01 |\n",
       "| spend ~ treatment + recency + channel + history | reg_B | channelWeb   |  2.261596e-01 | 0.3034664353 |   0.74525403 |  4.561237e-01 |\n",
       "| spend ~ treatment + recency + channel + history | reg_B | history      |  1.029897e-03 | 0.0003753754 |   2.74364500 |  6.079519e-03 |\n",
       "| history ~ treatment + channel + recency         | reg_C | (Intercept)  |  5.772069e+02 | 4.6481706758 | 124.17937022 |  0.000000e+00 |\n",
       "| history ~ treatment + channel + recency         | reg_C | treatment    |  2.723960e+01 | 2.6594431430 |  10.24259518 |  1.394896e-24 |\n",
       "| history ~ treatment + channel + recency         | reg_C | channelPhone | -3.016908e+02 | 4.2110372160 | -71.64287067 |  0.000000e+00 |\n",
       "| history ~ treatment + channel + recency         | reg_C | channelWeb   | -3.018161e+02 | 4.2018612335 | -71.82913496 |  0.000000e+00 |\n",
       "| history ~ treatment + channel + recency         | reg_C | recency      | -1.447079e+01 | 0.3786867368 | -38.21308172 | 1.969894e-312 |\n",
       "\n"
      ],
      "text/plain": [
       "   formula                                         model_index term        \n",
       "1  spend ~ treatment + recency + channel           reg_A       (Intercept) \n",
       "2  spend ~ treatment + recency + channel           reg_A       treatment   \n",
       "3  spend ~ treatment + recency + channel           reg_A       recency     \n",
       "4  spend ~ treatment + recency + channel           reg_A       channelPhone\n",
       "5  spend ~ treatment + recency + channel           reg_A       channelWeb  \n",
       "6  spend ~ treatment + recency + channel + history reg_B       (Intercept) \n",
       "7  spend ~ treatment + recency + channel + history reg_B       treatment   \n",
       "8  spend ~ treatment + recency + channel + history reg_B       recency     \n",
       "9  spend ~ treatment + recency + channel + history reg_B       channelPhone\n",
       "10 spend ~ treatment + recency + channel + history reg_B       channelWeb  \n",
       "11 spend ~ treatment + recency + channel + history reg_B       history     \n",
       "12 history ~ treatment + channel + recency         reg_C       (Intercept) \n",
       "13 history ~ treatment + channel + recency         reg_C       treatment   \n",
       "14 history ~ treatment + channel + recency         reg_C       channelPhone\n",
       "15 history ~ treatment + channel + recency         reg_C       channelWeb  \n",
       "16 history ~ treatment + channel + recency         reg_C       recency     \n",
       "   estimate      std.error    statistic    p.value      \n",
       "1   1.096877e+00 0.3114595599   3.52173018  4.293395e-04\n",
       "2   8.746297e-01 0.1782010706   4.90810580  9.241414e-07\n",
       "3  -5.516998e-02 0.0253746286  -2.17421805  2.969610e-02\n",
       "4  -3.124893e-01 0.2821685970  -1.10745613  2.681051e-01\n",
       "5  -8.467985e-02 0.2815537427  -0.30075911  7.636002e-01\n",
       "6   5.024129e-01 0.3793847254   1.32428341  1.854184e-01\n",
       "7   8.465757e-01 0.1784759605   4.74335998  2.111119e-06\n",
       "8  -4.026656e-02 0.0259469894  -1.55187775  1.207014e-01\n",
       "9  -1.778911e-03 0.3040193436  -0.00585131  9.953314e-01\n",
       "10  2.261596e-01 0.3034664353   0.74525403  4.561237e-01\n",
       "11  1.029897e-03 0.0003753754   2.74364500  6.079519e-03\n",
       "12  5.772069e+02 4.6481706758 124.17937022  0.000000e+00\n",
       "13  2.723960e+01 2.6594431430  10.24259518  1.394896e-24\n",
       "14 -3.016908e+02 4.2110372160 -71.64287067  0.000000e+00\n",
       "15 -3.018161e+02 4.2018612335 -71.82913496  0.000000e+00\n",
       "16 -1.447079e+01 0.3786867368 -38.21308172 1.969894e-312"
      ]
     },
     "metadata": {},
     "output_type": "display_data"
    }
   ],
   "source": [
    "## モデルの結果を整形\n",
    "df_results <- df_models %>%\n",
    "  mutate(formula = as.character(formula)) %>%\n",
    "  select(formula, model_index, lm_result) %>%\n",
    "  unnest(cols = lm_result)\n",
    "df_results"
   ]
  },
  {
   "cell_type": "code",
   "execution_count": 27,
   "id": "inappropriate-athens",
   "metadata": {},
   "outputs": [
    {
     "data": {
      "text/html": [
       "<style>\n",
       ".list-inline {list-style: none; margin:0; padding: 0}\n",
       ".list-inline>li {display: inline-block}\n",
       ".list-inline>li:not(:last-child)::after {content: \"\\00b7\"; padding: 0 .5ex}\n",
       "</style>\n",
       "<ol class=list-inline><li>0.874629708514415</li><li>0.846575727930548</li><li>27.2395995134878</li></ol>\n"
      ],
      "text/latex": [
       "\\begin{enumerate*}\n",
       "\\item 0.874629708514415\n",
       "\\item 0.846575727930548\n",
       "\\item 27.2395995134878\n",
       "\\end{enumerate*}\n"
      ],
      "text/markdown": [
       "1. 0.874629708514415\n",
       "2. 0.846575727930548\n",
       "3. 27.2395995134878\n",
       "\n",
       "\n"
      ],
      "text/plain": [
       "[1]  0.8746297  0.8465757 27.2395995"
      ]
     },
     "metadata": {},
     "output_type": "display_data"
    }
   ],
   "source": [
    "## モデルA,B,Cでのtreatmentのパラメータを抜き出す\n",
    "treatment_coef <- df_results %>%\n",
    "  filter(term == \"treatment\") %>%\n",
    "  pull(estimate)\n",
    "treatment_coef"
   ]
  },
  {
   "cell_type": "code",
   "execution_count": 28,
   "id": "stopped-japanese",
   "metadata": {},
   "outputs": [
    {
     "data": {
      "text/html": [
       "0.00102989695461476"
      ],
      "text/latex": [
       "0.00102989695461476"
      ],
      "text/markdown": [
       "0.00102989695461476"
      ],
      "text/plain": [
       "[1] 0.001029897"
      ]
     },
     "metadata": {},
     "output_type": "display_data"
    }
   ],
   "source": [
    "## モデルBからhistoryのパラメータを抜き出す\n",
    "history_coef <- df_results %>%\n",
    "  filter(model_index == \"reg_B\",\n",
    "         term == \"history\") %>%\n",
    "  pull(estimate)\n",
    "history_coef"
   ]
  },
  {
   "cell_type": "code",
   "execution_count": 29,
   "id": "public-confirmation",
   "metadata": {},
   "outputs": [
    {
     "data": {
      "text/html": [
       "0.0280539805838669"
      ],
      "text/latex": [
       "0.0280539805838669"
      ],
      "text/markdown": [
       "0.0280539805838669"
      ],
      "text/plain": [
       "[1] 0.02805398"
      ]
     },
     "metadata": {},
     "output_type": "display_data"
    },
    {
     "data": {
      "text/html": [
       "0.028053980583867"
      ],
      "text/latex": [
       "0.028053980583867"
      ],
      "text/markdown": [
       "0.028053980583867"
      ],
      "text/plain": [
       "[1] 0.02805398"
      ]
     },
     "metadata": {},
     "output_type": "display_data"
    }
   ],
   "source": [
    "## OVBの確認\n",
    "OVB <- history_coef*treatment_coef[3]\n",
    "coef_gap <- treatment_coef[1] - treatment_coef[2]\n",
    "OVB # beta_2*gamma_1\n",
    "coef_gap # alpha_1 - beta_1"
   ]
  },
  {
   "cell_type": "markdown",
   "id": "worse-sweet",
   "metadata": {},
   "source": [
    "以上、実装の理解のほうが難しいR独特の書き方編でした。"
   ]
  },
  {
   "cell_type": "markdown",
   "id": "annoying-residence",
   "metadata": {},
   "source": [
    "最後に入れてはいけない変数を入れてみる(Post treatment bias)"
   ]
  },
  {
   "cell_type": "code",
   "execution_count": 30,
   "id": "excited-debut",
   "metadata": {},
   "outputs": [
    {
     "data": {
      "text/html": [
       "<table class=\"dataframe\">\n",
       "<caption>A tibble: 1 × 2</caption>\n",
       "<thead>\n",
       "\t<tr><th scope=col>term</th><th scope=col>estimate</th></tr>\n",
       "\t<tr><th scope=col>&lt;chr&gt;</th><th scope=col>&lt;dbl&gt;</th></tr>\n",
       "</thead>\n",
       "<tbody>\n",
       "\t<tr><td>visit</td><td>0.1439984</td></tr>\n",
       "</tbody>\n",
       "</table>\n"
      ],
      "text/latex": [
       "A tibble: 1 × 2\n",
       "\\begin{tabular}{ll}\n",
       " term & estimate\\\\\n",
       " <chr> & <dbl>\\\\\n",
       "\\hline\n",
       "\t visit & 0.1439984\\\\\n",
       "\\end{tabular}\n"
      ],
      "text/markdown": [
       "\n",
       "A tibble: 1 × 2\n",
       "\n",
       "| term &lt;chr&gt; | estimate &lt;dbl&gt; |\n",
       "|---|---|\n",
       "| visit | 0.1439984 |\n",
       "\n"
      ],
      "text/plain": [
       "  term  estimate \n",
       "1 visit 0.1439984"
      ]
     },
     "metadata": {},
     "output_type": "display_data"
    },
    {
     "data": {
      "text/html": [
       "<table class=\"dataframe\">\n",
       "<caption>A tibble: 2 × 2</caption>\n",
       "<thead>\n",
       "\t<tr><th scope=col>term</th><th scope=col>estimate</th></tr>\n",
       "\t<tr><th scope=col>&lt;chr&gt;</th><th scope=col>&lt;dbl&gt;</th></tr>\n",
       "</thead>\n",
       "<tbody>\n",
       "\t<tr><td>treatment</td><td>0.2939911</td></tr>\n",
       "\t<tr><td>visit    </td><td>7.1640215</td></tr>\n",
       "</tbody>\n",
       "</table>\n"
      ],
      "text/latex": [
       "A tibble: 2 × 2\n",
       "\\begin{tabular}{ll}\n",
       " term & estimate\\\\\n",
       " <chr> & <dbl>\\\\\n",
       "\\hline\n",
       "\t treatment & 0.2939911\\\\\n",
       "\t visit     & 7.1640215\\\\\n",
       "\\end{tabular}\n"
      ],
      "text/markdown": [
       "\n",
       "A tibble: 2 × 2\n",
       "\n",
       "| term &lt;chr&gt; | estimate &lt;dbl&gt; |\n",
       "|---|---|\n",
       "| treatment | 0.2939911 |\n",
       "| visit     | 7.1640215 |\n",
       "\n"
      ],
      "text/plain": [
       "  term      estimate \n",
       "1 treatment 0.2939911\n",
       "2 visit     7.1640215"
      ]
     },
     "metadata": {},
     "output_type": "display_data"
    }
   ],
   "source": [
    "# (10) 入れてはいけない変数を入れてみる\n",
    "#visitとtreatmentとの相関\n",
    "cor_visit_treatment <- lm(data = biased_data,\n",
    "                          formula = treatment ~ visit + channel + recency + history) %>%\n",
    "  tidy()\n",
    "\n",
    "# visitを入れた回帰分析を実行\n",
    "bad_control_reg <- lm(data = biased_data,\n",
    "                      formula = spend ~ treatment + channel + recency + history + visit) %>%\n",
    "  tidy()\n",
    "\n",
    "cor_visit_treatment %>% \n",
    "    filter(term==\"visit\") %>%\n",
    "    select(term,estimate) #visitの係数 treatmentに相関が強いから分析に入れたくなるが...?\n",
    "\n",
    "bad_control_reg %>%\n",
    "    filter(term %in% c('treatment', 'visit')) %>%\n",
    "    select(term,estimate) #treatmentの効果料が大幅に少なく見積もられる結果に！"
   ]
  },
  {
   "cell_type": "code",
   "execution_count": null,
   "id": "daily-lancaster",
   "metadata": {},
   "outputs": [],
   "source": []
  },
  {
   "cell_type": "code",
   "execution_count": null,
   "id": "nearby-supplement",
   "metadata": {},
   "outputs": [],
   "source": []
  }
 ],
 "metadata": {
  "kernelspec": {
   "display_name": "R",
   "language": "R",
   "name": "ir"
  },
  "language_info": {
   "codemirror_mode": "r",
   "file_extension": ".r",
   "mimetype": "text/x-r-source",
   "name": "R",
   "pygments_lexer": "r",
   "version": "4.1.0"
  }
 },
 "nbformat": 4,
 "nbformat_minor": 5
}
