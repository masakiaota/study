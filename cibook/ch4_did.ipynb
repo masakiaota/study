{
 "cells": [
  {
   "cell_type": "markdown",
   "id": "79bcb947-dca6-4f01-b124-c0e743a9a536",
   "metadata": {},
   "source": [
    "### DIDしてみる"
   ]
  },
  {
   "cell_type": "code",
   "execution_count": 1,
   "id": "3b4b3eb1-8e14-4a7a-b48c-ca3ff0164393",
   "metadata": {},
   "outputs": [
    {
     "name": "stderr",
     "output_type": "stream",
     "text": [
      "── \u001b[1mAttaching packages\u001b[22m ───────────────────────────────────────────────────────────────────────────────────────────────────────────────────────────────────────────────────────────────────────────────────── tidyverse 1.3.1 ──\n",
      "\n",
      "\u001b[32m✔\u001b[39m \u001b[34mggplot2\u001b[39m 3.3.5     \u001b[32m✔\u001b[39m \u001b[34mpurrr  \u001b[39m 0.3.4\n",
      "\u001b[32m✔\u001b[39m \u001b[34mtibble \u001b[39m 3.1.3     \u001b[32m✔\u001b[39m \u001b[34mdplyr  \u001b[39m 1.0.7\n",
      "\u001b[32m✔\u001b[39m \u001b[34mtidyr  \u001b[39m 1.1.3     \u001b[32m✔\u001b[39m \u001b[34mstringr\u001b[39m 1.4.0\n",
      "\u001b[32m✔\u001b[39m \u001b[34mreadr  \u001b[39m 1.4.0     \u001b[32m✔\u001b[39m \u001b[34mforcats\u001b[39m 0.5.1\n",
      "\n",
      "── \u001b[1mConflicts\u001b[22m ──────────────────────────────────────────────────────────────────────────────────────────────────────────────────────────────────────────────────────────────────────────────────────── tidyverse_conflicts() ──\n",
      "\u001b[31m✖\u001b[39m \u001b[34mdplyr\u001b[39m::\u001b[32mfilter()\u001b[39m masks \u001b[34mstats\u001b[39m::filter()\n",
      "\u001b[31m✖\u001b[39m \u001b[34mdplyr\u001b[39m::\u001b[32mlag()\u001b[39m    masks \u001b[34mstats\u001b[39m::lag()\n",
      "\n"
     ]
    }
   ],
   "source": [
    "# (1) tidyverseとbroomの読み込み\n",
    "library(\"tidyverse\")\n",
    "library(\"broom\")"
   ]
  },
  {
   "cell_type": "code",
   "execution_count": 2,
   "id": "b7630089-4d40-426e-88f8-cfe98e6a1563",
   "metadata": {},
   "outputs": [
    {
     "name": "stderr",
     "output_type": "stream",
     "text": [
      "`summarise()` has grouped output by 'company', 'LSV'. You can override using the `.groups` argument.\n",
      "\n"
     ]
    }
   ],
   "source": [
    "# (2) John Snowデータの読み込み\n",
    "## Data from Table.12 in Snow(1855)\n",
    "## http://www.ph.ucla.edu/epi/snow/table12a.html\n",
    "\n",
    "## 1849年におけるエリア毎のコレラによる死者数\n",
    "### Southwark and Vauxhall Company\n",
    "sv1849 <- c(283,157,192,249,259,226,352,97,111,8,235,92)\n",
    "\n",
    "### Lambeth Company & Southwark and Vauxhall Company\n",
    "lsv1849 <- c(256,267,312,257,318,446,143,193,243,215,544,187,153,81,113,176)\n",
    "\n",
    "## 1849年におけるエリア毎のコレラによる死者数\n",
    "### Southwark and Vauxhall Company\n",
    "sv1854 <- c(371, 161, 148, 362, 244, 237, 282, 59, 171, 9, 240, 174)\n",
    "\n",
    "### Lambeth Company & Southwark and Vauxhall Company\n",
    "lsv1854 <- c(113,174,270,93,210,388,92,58,117,49,193,303,142,48,165,132)\n",
    "\n",
    "## コレラの死者数を会社ごとにまとめる\n",
    "sv_death <- c(sv1849, sv1854)\n",
    "lsv_death <- c(lsv1849, lsv1854)\n",
    "\n",
    "## どのデータがどのエリアのものか\n",
    "sv_area <- paste0(\"sv_\",c(1:length(sv1849), 1:length(sv1854)))\n",
    "lsv_area <- paste0(\"lsv_\", c(1:length(lsv1849), 1:length(lsv1854)))\n",
    "\n",
    "## どのデータがどの年のものか\n",
    "sv_year <- c(rep(\"1849\",length(sv1849)), rep(\"1854\", length(sv1854)))\n",
    "lsv_year <- c(rep(\"1849\",length(lsv1849)), rep(\"1854\", length(lsv1854)))\n",
    "\n",
    "## Southwark & Vauxhallのデータフレームを作成\n",
    "sv <- data.frame(area = sv_area,\n",
    "                 year = sv_year,\n",
    "                 death = sv_death,\n",
    "                 LSV = \"0\",\n",
    "                 company = \"Southwark and Vauxhall\")\n",
    "\n",
    "## Lambeth & Southwark and Vauxhallのデータフレームを作成\n",
    "lsv <- data.frame(area = lsv_area,\n",
    "                  year = lsv_year,\n",
    "                  death = lsv_death,\n",
    "                  LSV = \"1\",\n",
    "                  company = \"Lambeth & Southwark and Vauxhall\")\n",
    "\n",
    "## 地域・年別のデータセットの作成\n",
    "JS_df <- rbind(sv, lsv) %>%\n",
    "  mutate(LSV =\n",
    "           if_else(company == \"Lambeth & Southwark and Vauxhall\", 1, 0))\n",
    "\n",
    "## 会社別のデータセットを作成\n",
    "JS_sum <- JS_df %>%\n",
    "  group_by(company, LSV, year) %>%\n",
    "  summarise(death = sum(death))"
   ]
  },
  {
   "cell_type": "code",
   "execution_count": 3,
   "id": "f94b9bdd-c7f2-45ec-b82d-53613cb012cf",
   "metadata": {},
   "outputs": [
    {
     "data": {
      "text/html": [
       "<table class=\"dataframe\">\n",
       "<caption>A grouped_df: 4 × 4</caption>\n",
       "<thead>\n",
       "\t<tr><th scope=col>company</th><th scope=col>LSV</th><th scope=col>year</th><th scope=col>death</th></tr>\n",
       "\t<tr><th scope=col>&lt;chr&gt;</th><th scope=col>&lt;dbl&gt;</th><th scope=col>&lt;chr&gt;</th><th scope=col>&lt;dbl&gt;</th></tr>\n",
       "</thead>\n",
       "<tbody>\n",
       "\t<tr><td>Lambeth &amp; Southwark and Vauxhall</td><td>1</td><td>1849</td><td>3904</td></tr>\n",
       "\t<tr><td>Lambeth &amp; Southwark and Vauxhall</td><td>1</td><td>1854</td><td>2547</td></tr>\n",
       "\t<tr><td>Southwark and Vauxhall          </td><td>0</td><td>1849</td><td>2261</td></tr>\n",
       "\t<tr><td>Southwark and Vauxhall          </td><td>0</td><td>1854</td><td>2458</td></tr>\n",
       "</tbody>\n",
       "</table>\n"
      ],
      "text/latex": [
       "A grouped\\_df: 4 × 4\n",
       "\\begin{tabular}{llll}\n",
       " company & LSV & year & death\\\\\n",
       " <chr> & <dbl> & <chr> & <dbl>\\\\\n",
       "\\hline\n",
       "\t Lambeth \\& Southwark and Vauxhall & 1 & 1849 & 3904\\\\\n",
       "\t Lambeth \\& Southwark and Vauxhall & 1 & 1854 & 2547\\\\\n",
       "\t Southwark and Vauxhall           & 0 & 1849 & 2261\\\\\n",
       "\t Southwark and Vauxhall           & 0 & 1854 & 2458\\\\\n",
       "\\end{tabular}\n"
      ],
      "text/markdown": [
       "\n",
       "A grouped_df: 4 × 4\n",
       "\n",
       "| company &lt;chr&gt; | LSV &lt;dbl&gt; | year &lt;chr&gt; | death &lt;dbl&gt; |\n",
       "|---|---|---|---|\n",
       "| Lambeth &amp; Southwark and Vauxhall | 1 | 1849 | 3904 |\n",
       "| Lambeth &amp; Southwark and Vauxhall | 1 | 1854 | 2547 |\n",
       "| Southwark and Vauxhall           | 0 | 1849 | 2261 |\n",
       "| Southwark and Vauxhall           | 0 | 1854 | 2458 |\n",
       "\n"
      ],
      "text/plain": [
       "  company                          LSV year death\n",
       "1 Lambeth & Southwark and Vauxhall 1   1849 3904 \n",
       "2 Lambeth & Southwark and Vauxhall 1   1854 2547 \n",
       "3 Southwark and Vauxhall           0   1849 2261 \n",
       "4 Southwark and Vauxhall           0   1854 2458 "
      ]
     },
     "metadata": {},
     "output_type": "display_data"
    }
   ],
   "source": [
    "JS_sum #今回使うデータ"
   ]
  },
  {
   "cell_type": "code",
   "execution_count": 4,
   "id": "a76ad6cc-d2b0-4f6e-af19-7814a31422aa",
   "metadata": {},
   "outputs": [
    {
     "data": {
      "text/html": [
       "<table class=\"dataframe\">\n",
       "<caption>A grouped_df: 2 × 6</caption>\n",
       "<thead>\n",
       "\t<tr><th scope=col>company</th><th scope=col>LSV</th><th scope=col>year_1849</th><th scope=col>year_1854</th><th scope=col>gap</th><th scope=col>gap_rate</th></tr>\n",
       "\t<tr><th scope=col>&lt;chr&gt;</th><th scope=col>&lt;dbl&gt;</th><th scope=col>&lt;dbl&gt;</th><th scope=col>&lt;dbl&gt;</th><th scope=col>&lt;dbl&gt;</th><th scope=col>&lt;dbl&gt;</th></tr>\n",
       "</thead>\n",
       "<tbody>\n",
       "\t<tr><td>Lambeth &amp; Southwark and Vauxhall</td><td>1</td><td>3904</td><td>2547</td><td>-1357</td><td>-0.34759221</td></tr>\n",
       "\t<tr><td>Southwark and Vauxhall          </td><td>0</td><td>2261</td><td>2458</td><td>  197</td><td> 0.08712959</td></tr>\n",
       "</tbody>\n",
       "</table>\n"
      ],
      "text/latex": [
       "A grouped\\_df: 2 × 6\n",
       "\\begin{tabular}{llllll}\n",
       " company & LSV & year\\_1849 & year\\_1854 & gap & gap\\_rate\\\\\n",
       " <chr> & <dbl> & <dbl> & <dbl> & <dbl> & <dbl>\\\\\n",
       "\\hline\n",
       "\t Lambeth \\& Southwark and Vauxhall & 1 & 3904 & 2547 & -1357 & -0.34759221\\\\\n",
       "\t Southwark and Vauxhall           & 0 & 2261 & 2458 &   197 &  0.08712959\\\\\n",
       "\\end{tabular}\n"
      ],
      "text/markdown": [
       "\n",
       "A grouped_df: 2 × 6\n",
       "\n",
       "| company &lt;chr&gt; | LSV &lt;dbl&gt; | year_1849 &lt;dbl&gt; | year_1854 &lt;dbl&gt; | gap &lt;dbl&gt; | gap_rate &lt;dbl&gt; |\n",
       "|---|---|---|---|---|---|\n",
       "| Lambeth &amp; Southwark and Vauxhall | 1 | 3904 | 2547 | -1357 | -0.34759221 |\n",
       "| Southwark and Vauxhall           | 0 | 2261 | 2458 |   197 |  0.08712959 |\n",
       "\n"
      ],
      "text/plain": [
       "  company                          LSV year_1849 year_1854 gap   gap_rate   \n",
       "1 Lambeth & Southwark and Vauxhall 1   3904      2547      -1357 -0.34759221\n",
       "2 Southwark and Vauxhall           0   2261      2458        197  0.08712959"
      ]
     },
     "metadata": {},
     "output_type": "display_data"
    }
   ],
   "source": [
    "# (3) 集計と可視化による分析\n",
    "## 集計による推定\n",
    "JS_grp_summary <- JS_sum %>%\n",
    "  mutate(year = paste(\"year\", year, sep = \"_\")) %>%\n",
    "  spread(year, death) %>%\n",
    "  mutate(gap = year_1854 - year_1849,\n",
    "         gap_rate = year_1854/year_1849 - 1)\n",
    "JS_grp_summary"
   ]
  },
  {
   "cell_type": "markdown",
   "id": "3ce22719-cf0b-4cdf-91a2-046338a6a8b5",
   "metadata": {},
   "source": [
    "`gap`のgapを取ると、-1554となり、Lambeth & Southwark and Vauxhallの水源の改善により1544人感染者が減ったことがわかる。"
   ]
  },
  {
   "cell_type": "code",
   "execution_count": 5,
   "id": "affbaedd-4770-440a-8192-1609e2c451f7",
   "metadata": {},
   "outputs": [
    {
     "data": {
      "image/png": "[encoded data removed]",
      "text/plain": [
       "plot without title"
      ]
     },
     "metadata": {
      "image/png": {
       "height": 420,
       "width": 420
      }
     },
     "output_type": "display_data"
    }
   ],
   "source": [
    "## ggplotによる可視化\n",
    "did_plot <- JS_sum %>%\n",
    "  ggplot(aes(y = death, x = year, shape = company)) +\n",
    "  geom_point(size = 2) +\n",
    "  geom_line(aes(group = company), linetype = 1) +\n",
    "  ylim(2000, 4250) +\n",
    "  theme_bw() +\n",
    "  theme(plot.title = element_text(hjust = 0.5),\n",
    "        legend.position = \"bottom\",\n",
    "        plot.margin = margin(1,1,1,1, \"cm\"))\n",
    "\n",
    "## ggplotによる可視化(アノテーションを追加)\n",
    "did_plot +\n",
    "  annotate(\"text\", x = 2.2, y = 2400, label = \"(1)\") +\n",
    "  annotate(\"text\", x = 2.2, y = 3904 + 197*0.6, label = \"(2)\") +\n",
    "  annotate(\"text\", x = 2.2, y = 3300, label = \"(3)\") +\n",
    "  annotate(\"segment\", # for common trend in treatment group\n",
    "           x = 1, xend = 2,\n",
    "           y = 3904, yend = 3904 + 197,\n",
    "           arrow = arrow(length = unit(.2,\"cm\")),\n",
    "           size = 0.1,\n",
    "           linetype = 2) +\n",
    "  annotate(\"segment\", # for parallel trend\n",
    "           x = 1, xend = 2,\n",
    "           y = 2261, yend = 2261,\n",
    "           size = 0.1,\n",
    "           linetype = 2) +\n",
    "  annotate(\"segment\", # for parallel trend\n",
    "           x = 1, xend = 2,\n",
    "           y = 3904, yend = 3904,\n",
    "           size = 0.1,\n",
    "           linetype = 2) +\n",
    "  annotate(\"segment\", # for (1)\n",
    "           x = 2.07, xend = 2.07,\n",
    "           y = 2261, yend = 2458,\n",
    "           arrow = arrow(ends = \"both\",\n",
    "                         length = unit(.1,\"cm\"),angle = 90)) +\n",
    "  annotate(\"segment\", # for (2)\n",
    "           x = 2.07, xend = 2.07,\n",
    "           y = 3904, yend = 3904 + 197,\n",
    "           arrow = arrow(ends = \"both\",\n",
    "                         length = unit(.1,\"cm\"),angle = 90)) +\n",
    "  annotate(\"segment\", # for (3)\n",
    "           x = 2.07, xend = 2.07,\n",
    "           y = 3904, yend = 2547,\n",
    "           arrow = arrow(ends = \"both\",\n",
    "                         length = unit(.1,\"cm\"),angle = 90))"
   ]
  },
  {
   "cell_type": "code",
   "execution_count": 6,
   "id": "e6ce9e19-d984-4ab9-a3f5-c544a283926a",
   "metadata": {},
   "outputs": [
    {
     "data": {
      "text/html": [
       "<table class=\"dataframe\">\n",
       "<caption>A grouped_df: 2 × 5</caption>\n",
       "<thead>\n",
       "\t<tr><th scope=col>company</th><th scope=col>LSV</th><th scope=col>year_1849</th><th scope=col>year_1854</th><th scope=col>gap</th></tr>\n",
       "\t<tr><th scope=col>&lt;chr&gt;</th><th scope=col>&lt;dbl&gt;</th><th scope=col>&lt;dbl&gt;</th><th scope=col>&lt;dbl&gt;</th><th scope=col>&lt;dbl&gt;</th></tr>\n",
       "</thead>\n",
       "<tbody>\n",
       "\t<tr><td>Lambeth &amp; Southwark and Vauxhall</td><td>1</td><td>8.269757</td><td>7.842671</td><td>-0.42708547</td></tr>\n",
       "\t<tr><td>Southwark and Vauxhall          </td><td>0</td><td>7.723562</td><td>7.807103</td><td> 0.08354082</td></tr>\n",
       "</tbody>\n",
       "</table>\n"
      ],
      "text/latex": [
       "A grouped\\_df: 2 × 5\n",
       "\\begin{tabular}{lllll}\n",
       " company & LSV & year\\_1849 & year\\_1854 & gap\\\\\n",
       " <chr> & <dbl> & <dbl> & <dbl> & <dbl>\\\\\n",
       "\\hline\n",
       "\t Lambeth \\& Southwark and Vauxhall & 1 & 8.269757 & 7.842671 & -0.42708547\\\\\n",
       "\t Southwark and Vauxhall           & 0 & 7.723562 & 7.807103 &  0.08354082\\\\\n",
       "\\end{tabular}\n"
      ],
      "text/markdown": [
       "\n",
       "A grouped_df: 2 × 5\n",
       "\n",
       "| company &lt;chr&gt; | LSV &lt;dbl&gt; | year_1849 &lt;dbl&gt; | year_1854 &lt;dbl&gt; | gap &lt;dbl&gt; |\n",
       "|---|---|---|---|---|\n",
       "| Lambeth &amp; Southwark and Vauxhall | 1 | 8.269757 | 7.842671 | -0.42708547 |\n",
       "| Southwark and Vauxhall           | 0 | 7.723562 | 7.807103 |  0.08354082 |\n",
       "\n"
      ],
      "text/plain": [
       "  company                          LSV year_1849 year_1854 gap        \n",
       "1 Lambeth & Southwark and Vauxhall 1   8.269757  7.842671  -0.42708547\n",
       "2 Southwark and Vauxhall           0   7.723562  7.807103   0.08354082"
      ]
     },
     "metadata": {},
     "output_type": "display_data"
    }
   ],
   "source": [
    "## 集計による推定(log)\n",
    "JS_grp_summary_ln <- JS_sum %>%\n",
    "  mutate(year = paste(\"year\", year, sep = \"_\"),\n",
    "         death = log(death)) %>%\n",
    "  spread(year, death) %>%\n",
    "  mutate(gap = year_1854 - year_1849)\n",
    "JS_grp_summary_ln\n",
    "# 背景にある再生産数的なものを抽出したいのかな？\n",
    "# logを取ったあとの差分だから比率的なものが計算されるのか"
   ]
  },
  {
   "cell_type": "markdown",
   "id": "3c6a1c73-c848-455b-adbf-e664283de7f3",
   "metadata": {},
   "source": [
    "回帰分析を応用してDIDを行う"
   ]
  },
  {
   "cell_type": "code",
   "execution_count": 7,
   "id": "5fcec5b3-5079-4ed3-b987-1e7ba7a0791e",
   "metadata": {},
   "outputs": [
    {
     "data": {
      "text/html": [
       "<table class=\"dataframe\">\n",
       "<caption>A grouped_df: 4 × 5</caption>\n",
       "<thead>\n",
       "\t<tr><th scope=col>company</th><th scope=col>LSV</th><th scope=col>year</th><th scope=col>death</th><th scope=col>D1854</th></tr>\n",
       "\t<tr><th scope=col>&lt;chr&gt;</th><th scope=col>&lt;dbl&gt;</th><th scope=col>&lt;chr&gt;</th><th scope=col>&lt;dbl&gt;</th><th scope=col>&lt;dbl&gt;</th></tr>\n",
       "</thead>\n",
       "<tbody>\n",
       "\t<tr><td>Lambeth &amp; Southwark and Vauxhall</td><td>1</td><td>1849</td><td>3904</td><td>0</td></tr>\n",
       "\t<tr><td>Lambeth &amp; Southwark and Vauxhall</td><td>1</td><td>1854</td><td>2547</td><td>1</td></tr>\n",
       "\t<tr><td>Southwark and Vauxhall          </td><td>0</td><td>1849</td><td>2261</td><td>0</td></tr>\n",
       "\t<tr><td>Southwark and Vauxhall          </td><td>0</td><td>1854</td><td>2458</td><td>1</td></tr>\n",
       "</tbody>\n",
       "</table>\n"
      ],
      "text/latex": [
       "A grouped\\_df: 4 × 5\n",
       "\\begin{tabular}{lllll}\n",
       " company & LSV & year & death & D1854\\\\\n",
       " <chr> & <dbl> & <chr> & <dbl> & <dbl>\\\\\n",
       "\\hline\n",
       "\t Lambeth \\& Southwark and Vauxhall & 1 & 1849 & 3904 & 0\\\\\n",
       "\t Lambeth \\& Southwark and Vauxhall & 1 & 1854 & 2547 & 1\\\\\n",
       "\t Southwark and Vauxhall           & 0 & 1849 & 2261 & 0\\\\\n",
       "\t Southwark and Vauxhall           & 0 & 1854 & 2458 & 1\\\\\n",
       "\\end{tabular}\n"
      ],
      "text/markdown": [
       "\n",
       "A grouped_df: 4 × 5\n",
       "\n",
       "| company &lt;chr&gt; | LSV &lt;dbl&gt; | year &lt;chr&gt; | death &lt;dbl&gt; | D1854 &lt;dbl&gt; |\n",
       "|---|---|---|---|---|\n",
       "| Lambeth &amp; Southwark and Vauxhall | 1 | 1849 | 3904 | 0 |\n",
       "| Lambeth &amp; Southwark and Vauxhall | 1 | 1854 | 2547 | 1 |\n",
       "| Southwark and Vauxhall           | 0 | 1849 | 2261 | 0 |\n",
       "| Southwark and Vauxhall           | 0 | 1854 | 2458 | 1 |\n",
       "\n"
      ],
      "text/plain": [
       "  company                          LSV year death D1854\n",
       "1 Lambeth & Southwark and Vauxhall 1   1849 3904  0    \n",
       "2 Lambeth & Southwark and Vauxhall 1   1854 2547  1    \n",
       "3 Southwark and Vauxhall           0   1849 2261  0    \n",
       "4 Southwark and Vauxhall           0   1854 2458  1    "
      ]
     },
     "metadata": {},
     "output_type": "display_data"
    }
   ],
   "source": [
    "JS_sum %>%\n",
    "  mutate(D1854 = if_else(year == 1854, 1, 0))\n",
    "# この4サンプルを回帰することでdidみたいなことを行うことができる"
   ]
  },
  {
   "cell_type": "markdown",
   "id": "4817d6e5-d202-4ef0-be45-a18e03e663fd",
   "metadata": {},
   "source": [
    "$$death =  \\beta_0 + \\beta_1 LSV +  \\beta_2 D1854 +  \\beta_3 D1854 * LSV$$\n",
    "で4サンプルを表現できる。\n",
    "\n",
    "* $\\beta_0$にはすべてが0の場合、つまりSouthwark and Vauxhall社かつ、1849年のときの感染者数が現れる。\n",
    "* $\\beta_1$には、1849年における、Lambeth & Southwark and Vauxhall社とSouthwark and Vauxhall社の差が現れる。\n",
    "* $\\beta_2$には、Southwark and Vauxhall社における、1845→1854年の感染者数の変化が現れる。\n",
    "* $\\beta_3$には、DIDによってもとめた、Lambeth & Southwark and Vauxhall社の感染者数の減り方(？)と同じ物が出てくる\n",
    "\n",
    "3次元に平行四辺形を張るイメージ"
   ]
  },
  {
   "cell_type": "code",
   "execution_count": 8,
   "id": "791f3ce0-9db0-4e90-86cd-cc3fe7863fa2",
   "metadata": {},
   "outputs": [
    {
     "data": {
      "text/html": [
       "<table class=\"dataframe\">\n",
       "<caption>A tibble: 4 × 5</caption>\n",
       "<thead>\n",
       "\t<tr><th scope=col>term</th><th scope=col>estimate</th><th scope=col>std.error</th><th scope=col>statistic</th><th scope=col>p.value</th></tr>\n",
       "\t<tr><th scope=col>&lt;chr&gt;</th><th scope=col>&lt;dbl&gt;</th><th scope=col>&lt;dbl&gt;</th><th scope=col>&lt;dbl&gt;</th><th scope=col>&lt;dbl&gt;</th></tr>\n",
       "</thead>\n",
       "<tbody>\n",
       "\t<tr><td>(Intercept)</td><td> 2261</td><td>NaN</td><td>NaN</td><td>NaN</td></tr>\n",
       "\t<tr><td>LSV        </td><td> 1643</td><td>NaN</td><td>NaN</td><td>NaN</td></tr>\n",
       "\t<tr><td>D1854      </td><td>  197</td><td>NaN</td><td>NaN</td><td>NaN</td></tr>\n",
       "\t<tr><td>LSV:D1854  </td><td>-1554</td><td>NaN</td><td>NaN</td><td>NaN</td></tr>\n",
       "</tbody>\n",
       "</table>\n"
      ],
      "text/latex": [
       "A tibble: 4 × 5\n",
       "\\begin{tabular}{lllll}\n",
       " term & estimate & std.error & statistic & p.value\\\\\n",
       " <chr> & <dbl> & <dbl> & <dbl> & <dbl>\\\\\n",
       "\\hline\n",
       "\t (Intercept) &  2261 & NaN & NaN & NaN\\\\\n",
       "\t LSV         &  1643 & NaN & NaN & NaN\\\\\n",
       "\t D1854       &   197 & NaN & NaN & NaN\\\\\n",
       "\t LSV:D1854   & -1554 & NaN & NaN & NaN\\\\\n",
       "\\end{tabular}\n"
      ],
      "text/markdown": [
       "\n",
       "A tibble: 4 × 5\n",
       "\n",
       "| term &lt;chr&gt; | estimate &lt;dbl&gt; | std.error &lt;dbl&gt; | statistic &lt;dbl&gt; | p.value &lt;dbl&gt; |\n",
       "|---|---|---|---|---|\n",
       "| (Intercept) |  2261 | NaN | NaN | NaN |\n",
       "| LSV         |  1643 | NaN | NaN | NaN |\n",
       "| D1854       |   197 | NaN | NaN | NaN |\n",
       "| LSV:D1854   | -1554 | NaN | NaN | NaN |\n",
       "\n"
      ],
      "text/plain": [
       "  term        estimate std.error statistic p.value\n",
       "1 (Intercept)  2261    NaN       NaN       NaN    \n",
       "2 LSV          1643    NaN       NaN       NaN    \n",
       "3 D1854         197    NaN       NaN       NaN    \n",
       "4 LSV:D1854   -1554    NaN       NaN       NaN    "
      ]
     },
     "metadata": {},
     "output_type": "display_data"
    }
   ],
   "source": [
    "# (4) 回帰分析を用いたDID\n",
    "## Difference in Difference\n",
    "JS_did <- JS_sum %>%\n",
    "  mutate(D1854 = if_else(year == 1854, 1, 0)) %>%\n",
    "  lm(data = ., death ~ LSV + D1854 + D1854:LSV) %>%\n",
    "  tidy()\n",
    "JS_did\n",
    "# これでDIDを行えるのは楽！"
   ]
  },
  {
   "cell_type": "code",
   "execution_count": null,
   "id": "c8202368-6481-4967-a9be-f0908288e225",
   "metadata": {},
   "outputs": [],
   "source": []
  },
  {
   "cell_type": "code",
   "execution_count": 9,
   "id": "4ce74a2f-21e8-4532-9598-d9f5e58537ee",
   "metadata": {},
   "outputs": [
    {
     "data": {
      "text/html": [
       "<table class=\"dataframe\">\n",
       "<caption>A tibble: 4 × 5</caption>\n",
       "<thead>\n",
       "\t<tr><th scope=col>term</th><th scope=col>estimate</th><th scope=col>std.error</th><th scope=col>statistic</th><th scope=col>p.value</th></tr>\n",
       "\t<tr><th scope=col>&lt;chr&gt;</th><th scope=col>&lt;dbl&gt;</th><th scope=col>&lt;dbl&gt;</th><th scope=col>&lt;dbl&gt;</th><th scope=col>&lt;dbl&gt;</th></tr>\n",
       "</thead>\n",
       "<tbody>\n",
       "\t<tr><td>(Intercept)</td><td> 7.72356247</td><td>NaN</td><td>NaN</td><td>NaN</td></tr>\n",
       "\t<tr><td>LSV        </td><td> 0.54619448</td><td>NaN</td><td>NaN</td><td>NaN</td></tr>\n",
       "\t<tr><td>D1854      </td><td> 0.08354082</td><td>NaN</td><td>NaN</td><td>NaN</td></tr>\n",
       "\t<tr><td>LSV:D1854  </td><td>-0.51062629</td><td>NaN</td><td>NaN</td><td>NaN</td></tr>\n",
       "</tbody>\n",
       "</table>\n"
      ],
      "text/latex": [
       "A tibble: 4 × 5\n",
       "\\begin{tabular}{lllll}\n",
       " term & estimate & std.error & statistic & p.value\\\\\n",
       " <chr> & <dbl> & <dbl> & <dbl> & <dbl>\\\\\n",
       "\\hline\n",
       "\t (Intercept) &  7.72356247 & NaN & NaN & NaN\\\\\n",
       "\t LSV         &  0.54619448 & NaN & NaN & NaN\\\\\n",
       "\t D1854       &  0.08354082 & NaN & NaN & NaN\\\\\n",
       "\t LSV:D1854   & -0.51062629 & NaN & NaN & NaN\\\\\n",
       "\\end{tabular}\n"
      ],
      "text/markdown": [
       "\n",
       "A tibble: 4 × 5\n",
       "\n",
       "| term &lt;chr&gt; | estimate &lt;dbl&gt; | std.error &lt;dbl&gt; | statistic &lt;dbl&gt; | p.value &lt;dbl&gt; |\n",
       "|---|---|---|---|---|\n",
       "| (Intercept) |  7.72356247 | NaN | NaN | NaN |\n",
       "| LSV         |  0.54619448 | NaN | NaN | NaN |\n",
       "| D1854       |  0.08354082 | NaN | NaN | NaN |\n",
       "| LSV:D1854   | -0.51062629 | NaN | NaN | NaN |\n",
       "\n"
      ],
      "text/plain": [
       "  term        estimate    std.error statistic p.value\n",
       "1 (Intercept)  7.72356247 NaN       NaN       NaN    \n",
       "2 LSV          0.54619448 NaN       NaN       NaN    \n",
       "3 D1854        0.08354082 NaN       NaN       NaN    \n",
       "4 LSV:D1854   -0.51062629 NaN       NaN       NaN    "
      ]
     },
     "metadata": {},
     "output_type": "display_data"
    }
   ],
   "source": [
    "## 時間による効果は比率として表したほうが妥当であるという議論があったので、目的変数に対数をとって比率の場合の効果量を求める\n",
    "## Difference in Difference(log)\n",
    "JS_did_log <- JS_sum %>%\n",
    "  mutate(D1854 = if_else(year == 1854, 1, 0)) %>%\n",
    "  lm(data = ., log(death) ~ LSV + D1854 + D1854:LSV) %>%\n",
    "  tidy()\n",
    "JS_did_log"
   ]
  },
  {
   "cell_type": "code",
   "execution_count": 10,
   "id": "66c1eeeb-73f4-49ea-b0de-d4810712de62",
   "metadata": {},
   "outputs": [
    {
     "data": {
      "text/html": [
       "<table class=\"dataframe\">\n",
       "<caption>A tibble: 4 × 5</caption>\n",
       "<thead>\n",
       "\t<tr><th scope=col>term</th><th scope=col>estimate</th><th scope=col>std.error</th><th scope=col>statistic</th><th scope=col>p.value</th></tr>\n",
       "\t<tr><th scope=col>&lt;chr&gt;</th><th scope=col>&lt;dbl&gt;</th><th scope=col>&lt;dbl&gt;</th><th scope=col>&lt;dbl&gt;</th><th scope=col>&lt;dbl&gt;</th></tr>\n",
       "</thead>\n",
       "<tbody>\n",
       "\t<tr><td>(Intercept)</td><td> 132.79167</td><td>45.72692</td><td> 2.9040148</td><td>0.007420253</td></tr>\n",
       "\t<tr><td>LSV        </td><td>  94.11458</td><td>64.35598</td><td> 1.4624061</td><td>0.155613541</td></tr>\n",
       "\t<tr><td>D1854      </td><td>  16.41667</td><td>25.36473</td><td> 0.6472241</td><td>0.523160787</td></tr>\n",
       "\t<tr><td>LSV:D1854  </td><td>-101.22917</td><td>33.55439</td><td>-3.0168681</td><td>0.005649081</td></tr>\n",
       "</tbody>\n",
       "</table>\n"
      ],
      "text/latex": [
       "A tibble: 4 × 5\n",
       "\\begin{tabular}{lllll}\n",
       " term & estimate & std.error & statistic & p.value\\\\\n",
       " <chr> & <dbl> & <dbl> & <dbl> & <dbl>\\\\\n",
       "\\hline\n",
       "\t (Intercept) &  132.79167 & 45.72692 &  2.9040148 & 0.007420253\\\\\n",
       "\t LSV         &   94.11458 & 64.35598 &  1.4624061 & 0.155613541\\\\\n",
       "\t D1854       &   16.41667 & 25.36473 &  0.6472241 & 0.523160787\\\\\n",
       "\t LSV:D1854   & -101.22917 & 33.55439 & -3.0168681 & 0.005649081\\\\\n",
       "\\end{tabular}\n"
      ],
      "text/markdown": [
       "\n",
       "A tibble: 4 × 5\n",
       "\n",
       "| term &lt;chr&gt; | estimate &lt;dbl&gt; | std.error &lt;dbl&gt; | statistic &lt;dbl&gt; | p.value &lt;dbl&gt; |\n",
       "|---|---|---|---|---|\n",
       "| (Intercept) |  132.79167 | 45.72692 |  2.9040148 | 0.007420253 |\n",
       "| LSV         |   94.11458 | 64.35598 |  1.4624061 | 0.155613541 |\n",
       "| D1854       |   16.41667 | 25.36473 |  0.6472241 | 0.523160787 |\n",
       "| LSV:D1854   | -101.22917 | 33.55439 | -3.0168681 | 0.005649081 |\n",
       "\n"
      ],
      "text/plain": [
       "  term        estimate   std.error statistic  p.value    \n",
       "1 (Intercept)  132.79167 45.72692   2.9040148 0.007420253\n",
       "2 LSV           94.11458 64.35598   1.4624061 0.155613541\n",
       "3 D1854         16.41667 25.36473   0.6472241 0.523160787\n",
       "4 LSV:D1854   -101.22917 33.55439  -3.0168681 0.005649081"
      ]
     },
     "metadata": {},
     "output_type": "display_data"
    },
    {
     "data": {
      "text/html": [
       "<table class=\"dataframe\">\n",
       "<caption>A tibble: 4 × 5</caption>\n",
       "<thead>\n",
       "\t<tr><th scope=col>term</th><th scope=col>estimate</th><th scope=col>std.error</th><th scope=col>statistic</th><th scope=col>p.value</th></tr>\n",
       "\t<tr><th scope=col>&lt;chr&gt;</th><th scope=col>&lt;dbl&gt;</th><th scope=col>&lt;dbl&gt;</th><th scope=col>&lt;dbl&gt;</th><th scope=col>&lt;dbl&gt;</th></tr>\n",
       "</thead>\n",
       "<tbody>\n",
       "\t<tr><td>(Intercept)</td><td> 4.88863746</td><td>0.2398049</td><td>20.3858917</td><td>1.629158e-17</td></tr>\n",
       "\t<tr><td>LSV        </td><td> 0.49373658</td><td>0.3375010</td><td> 1.4629189</td><td>1.554742e-01</td></tr>\n",
       "\t<tr><td>D1854      </td><td> 0.07391884</td><td>0.1330198</td><td> 0.5556979</td><td>5.831681e-01</td></tr>\n",
       "\t<tr><td>LSV:D1854  </td><td>-0.56610166</td><td>0.1759687</td><td>-3.2170585</td><td>3.453469e-03</td></tr>\n",
       "</tbody>\n",
       "</table>\n"
      ],
      "text/latex": [
       "A tibble: 4 × 5\n",
       "\\begin{tabular}{lllll}\n",
       " term & estimate & std.error & statistic & p.value\\\\\n",
       " <chr> & <dbl> & <dbl> & <dbl> & <dbl>\\\\\n",
       "\\hline\n",
       "\t (Intercept) &  4.88863746 & 0.2398049 & 20.3858917 & 1.629158e-17\\\\\n",
       "\t LSV         &  0.49373658 & 0.3375010 &  1.4629189 & 1.554742e-01\\\\\n",
       "\t D1854       &  0.07391884 & 0.1330198 &  0.5556979 & 5.831681e-01\\\\\n",
       "\t LSV:D1854   & -0.56610166 & 0.1759687 & -3.2170585 & 3.453469e-03\\\\\n",
       "\\end{tabular}\n"
      ],
      "text/markdown": [
       "\n",
       "A tibble: 4 × 5\n",
       "\n",
       "| term &lt;chr&gt; | estimate &lt;dbl&gt; | std.error &lt;dbl&gt; | statistic &lt;dbl&gt; | p.value &lt;dbl&gt; |\n",
       "|---|---|---|---|---|\n",
       "| (Intercept) |  4.88863746 | 0.2398049 | 20.3858917 | 1.629158e-17 |\n",
       "| LSV         |  0.49373658 | 0.3375010 |  1.4629189 | 1.554742e-01 |\n",
       "| D1854       |  0.07391884 | 0.1330198 |  0.5556979 | 5.831681e-01 |\n",
       "| LSV:D1854   | -0.56610166 | 0.1759687 | -3.2170585 | 3.453469e-03 |\n",
       "\n"
      ],
      "text/plain": [
       "  term        estimate    std.error statistic  p.value     \n",
       "1 (Intercept)  4.88863746 0.2398049 20.3858917 1.629158e-17\n",
       "2 LSV          0.49373658 0.3375010  1.4629189 1.554742e-01\n",
       "3 D1854        0.07391884 0.1330198  0.5556979 5.831681e-01\n",
       "4 LSV:D1854   -0.56610166 0.1759687 -3.2170585 3.453469e-03"
      ]
     },
     "metadata": {},
     "output_type": "display_data"
    }
   ],
   "source": [
    "# エリアも説明変数に加えてみよう\n",
    "## Difference in Difference(エリア単位)\n",
    "JS_did_area <- JS_df %>%\n",
    "  mutate(D1854 = if_else(year == 1854, 1, 0)) %>%\n",
    "  lm(data = ., death ~ LSV + area + D1854 + D1854:LSV) %>%\n",
    "  tidy() %>%\n",
    "  filter(!str_detect(term, \"area\"))\n",
    "\n",
    "## Difference in Difference(州単位、log)\n",
    "JS_did_area_log <- JS_df %>%\n",
    "  mutate(D1854 = if_else(year == 1854, 1, 0)) %>%\n",
    "  lm(data = ., log(death) ~ LSV + area + D1854 + D1854:LSV) %>%\n",
    "  tidy() %>%\n",
    "  filter(!str_detect(term, \"area\"))\n",
    "\n",
    "JS_did_area #各エリアで平均して100人程度感染者数が減っている となった (地域を集約していたのバイアスが除かれたイメージ)\n",
    "\n",
    "JS_did_area_log # 率としては半分ぐらい.すごい！"
   ]
  },
  {
   "cell_type": "code",
   "execution_count": null,
   "id": "d8ed062d-167e-4e80-aa8c-e9ec769e46ca",
   "metadata": {},
   "outputs": [],
   "source": []
  },
  {
   "cell_type": "markdown",
   "id": "6e05cf69-c14d-4339-bcc1-b5e57d0e57ae",
   "metadata": {},
   "source": [
    "DIDにおける標準偏差とかの話は難しくてよくわからなかった"
   ]
  },
  {
   "cell_type": "markdown",
   "id": "db621483-fabf-4041-8a76-f33a5def4414",
   "metadata": {},
   "source": [
    "### 大規模禁煙キャンペーンがもたらすタバコの売上への影響"
   ]
  },
  {
   "cell_type": "code",
   "execution_count": 11,
   "id": "c39fc060-a387-4390-a251-0aff0ed2dfc6",
   "metadata": {},
   "outputs": [
    {
     "name": "stderr",
     "output_type": "stream",
     "text": [
      "Loading required package: Ecfun\n",
      "\n",
      "\n",
      "Attaching package: ‘Ecfun’\n",
      "\n",
      "\n",
      "The following object is masked from ‘package:base’:\n",
      "\n",
      "    sign\n",
      "\n",
      "\n",
      "\n",
      "Attaching package: ‘Ecdat’\n",
      "\n",
      "\n",
      "The following object is masked from ‘package:datasets’:\n",
      "\n",
      "    Orange\n",
      "\n",
      "\n"
     ]
    },
    {
     "data": {
      "text/html": [
       "<table class=\"dataframe\">\n",
       "<caption>A data.frame: 851 × 10</caption>\n",
       "<thead>\n",
       "\t<tr><th></th><th scope=col>state</th><th scope=col>year</th><th scope=col>price</th><th scope=col>pop</th><th scope=col>pop16</th><th scope=col>cpi</th><th scope=col>ndi</th><th scope=col>sales</th><th scope=col>pimin</th><th scope=col>area</th></tr>\n",
       "\t<tr><th></th><th scope=col>&lt;int&gt;</th><th scope=col>&lt;int&gt;</th><th scope=col>&lt;dbl&gt;</th><th scope=col>&lt;dbl&gt;</th><th scope=col>&lt;dbl&gt;</th><th scope=col>&lt;dbl&gt;</th><th scope=col>&lt;dbl&gt;</th><th scope=col>&lt;dbl&gt;</th><th scope=col>&lt;dbl&gt;</th><th scope=col>&lt;chr&gt;</th></tr>\n",
       "</thead>\n",
       "<tbody>\n",
       "\t<tr><th scope=row>8</th><td>1</td><td>70</td><td> 39.6</td><td>3444.0</td><td>2394.6</td><td> 38.8</td><td> 2591.039</td><td> 89.8</td><td> 34.3</td><td>Rest of US</td></tr>\n",
       "\t<tr><th scope=row>9</th><td>1</td><td>71</td><td> 42.7</td><td>3481.0</td><td>2443.5</td><td> 40.5</td><td> 2785.316</td><td> 95.4</td><td> 35.8</td><td>Rest of US</td></tr>\n",
       "\t<tr><th scope=row>10</th><td>1</td><td>72</td><td> 42.3</td><td>3511.0</td><td>2484.7</td><td> 41.8</td><td> 3034.808</td><td>101.1</td><td> 37.4</td><td>Rest of US</td></tr>\n",
       "\t<tr><th scope=row>11</th><td>1</td><td>73</td><td> 42.1</td><td>3540.0</td><td>2526.0</td><td> 44.4</td><td> 3387.574</td><td>102.9</td><td> 37.3</td><td>Rest of US</td></tr>\n",
       "\t<tr><th scope=row>12</th><td>1</td><td>74</td><td> 43.1</td><td>3574.0</td><td>2573.9</td><td> 49.3</td><td> 3718.867</td><td>108.2</td><td> 41.4</td><td>Rest of US</td></tr>\n",
       "\t<tr><th scope=row>13</th><td>1</td><td>75</td><td> 46.6</td><td>3614.0</td><td>2623.7</td><td> 53.8</td><td> 4087.993</td><td>111.7</td><td> 43.0</td><td>Rest of US</td></tr>\n",
       "\t<tr><th scope=row>14</th><td>1</td><td>76</td><td> 50.4</td><td>3657.0</td><td>2677.4</td><td> 56.9</td><td> 4486.772</td><td>116.2</td><td> 46.4</td><td>Rest of US</td></tr>\n",
       "\t<tr><th scope=row>15</th><td>1</td><td>77</td><td> 50.1</td><td>3690.0</td><td>2719.6</td><td> 60.6</td><td> 4899.866</td><td>117.1</td><td> 48.8</td><td>Rest of US</td></tr>\n",
       "\t<tr><th scope=row>16</th><td>1</td><td>78</td><td> 55.1</td><td>3728.0</td><td>2764.6</td><td> 65.2</td><td> 5450.998</td><td>123.0</td><td> 53.6</td><td>Rest of US</td></tr>\n",
       "\t<tr><th scope=row>17</th><td>1</td><td>79</td><td> 56.8</td><td>3769.0</td><td>2810.7</td><td> 72.6</td><td> 5957.141</td><td>121.4</td><td> 56.5</td><td>Rest of US</td></tr>\n",
       "\t<tr><th scope=row>18</th><td>1</td><td>80</td><td> 60.6</td><td>3894.0</td><td>2898.9</td><td> 82.4</td><td> 6466.350</td><td>123.2</td><td> 59.3</td><td>Rest of US</td></tr>\n",
       "\t<tr><th scope=row>19</th><td>1</td><td>81</td><td> 68.8</td><td>3917.0</td><td>2924.7</td><td> 90.9</td><td> 7042.023</td><td>119.6</td><td> 62.6</td><td>Rest of US</td></tr>\n",
       "\t<tr><th scope=row>20</th><td>1</td><td>82</td><td> 73.1</td><td>3943.0</td><td>2953.5</td><td> 96.5</td><td> 7505.220</td><td>119.1</td><td> 67.8</td><td>Rest of US</td></tr>\n",
       "\t<tr><th scope=row>21</th><td>1</td><td>83</td><td> 84.4</td><td>3959.0</td><td>2977.5</td><td> 99.6</td><td> 7974.552</td><td>116.3</td><td> 78.6</td><td>Rest of US</td></tr>\n",
       "\t<tr><th scope=row>22</th><td>1</td><td>84</td><td> 90.8</td><td>3990.0</td><td>3009.1</td><td>103.9</td><td> 8693.376</td><td>113.0</td><td> 86.8</td><td>Rest of US</td></tr>\n",
       "\t<tr><th scope=row>23</th><td>1</td><td>85</td><td> 99.0</td><td>4020.0</td><td>3039.8</td><td>107.6</td><td> 9059.434</td><td>114.5</td><td> 90.7</td><td>Rest of US</td></tr>\n",
       "\t<tr><th scope=row>24</th><td>1</td><td>86</td><td>103.0</td><td>4050.0</td><td>3072.4</td><td>109.6</td><td> 9674.985</td><td>116.3</td><td> 98.8</td><td>Rest of US</td></tr>\n",
       "\t<tr><th scope=row>25</th><td>1</td><td>87</td><td>110.0</td><td>4083.0</td><td>3104.0</td><td>113.6</td><td>10213.848</td><td>114.0</td><td>103.5</td><td>Rest of US</td></tr>\n",
       "\t<tr><th scope=row>26</th><td>1</td><td>88</td><td>114.4</td><td>4102.0</td><td>3124.0</td><td>118.3</td><td>10993.000</td><td>112.1</td><td>109.2</td><td>Rest of US</td></tr>\n",
       "\t<tr><th scope=row>27</th><td>1</td><td>89</td><td>122.3</td><td>4118.0</td><td>3140.0</td><td>124.0</td><td>11634.000</td><td>105.6</td><td>121.5</td><td>Rest of US</td></tr>\n",
       "\t<tr><th scope=row>28</th><td>1</td><td>90</td><td>139.1</td><td>4129.2</td><td>3148.6</td><td>130.7</td><td>12806.000</td><td>108.6</td><td>132.3</td><td>Rest of US</td></tr>\n",
       "\t<tr><th scope=row>29</th><td>1</td><td>91</td><td>144.4</td><td>4178.3</td><td>3185.1</td><td>136.2</td><td>13360.000</td><td>107.9</td><td>137.4</td><td>Rest of US</td></tr>\n",
       "\t<tr><th scope=row>30</th><td>1</td><td>92</td><td>172.2</td><td>4226.3</td><td>3226.7</td><td>140.3</td><td>14533.000</td><td>109.1</td><td>159.5</td><td>Rest of US</td></tr>\n",
       "\t<tr><th scope=row>68</th><td>4</td><td>70</td><td> 36.7</td><td>1923.0</td><td>1366.9</td><td> 38.8</td><td> 2493.785</td><td>100.3</td><td> 34.3</td><td>Rest of US</td></tr>\n",
       "\t<tr><th scope=row>69</th><td>4</td><td>71</td><td> 38.8</td><td>1961.0</td><td>1405.4</td><td> 40.5</td><td> 2710.369</td><td>104.1</td><td> 36.8</td><td>Rest of US</td></tr>\n",
       "\t<tr><th scope=row>70</th><td>4</td><td>72</td><td> 44.1</td><td>1999.0</td><td>1442.9</td><td> 41.8</td><td> 2950.451</td><td>103.9</td><td> 37.4</td><td>Rest of US</td></tr>\n",
       "\t<tr><th scope=row>71</th><td>4</td><td>73</td><td> 45.1</td><td>2030.0</td><td>1474.6</td><td> 44.4</td><td> 3410.182</td><td>108.0</td><td> 37.3</td><td>Rest of US</td></tr>\n",
       "\t<tr><th scope=row>72</th><td>4</td><td>74</td><td> 45.5</td><td>2063.0</td><td>1508.3</td><td> 49.3</td><td> 3807.593</td><td>109.7</td><td> 38.0</td><td>Rest of US</td></tr>\n",
       "\t<tr><th scope=row>73</th><td>4</td><td>75</td><td> 48.6</td><td>2112.0</td><td>1552.5</td><td> 53.8</td><td> 4057.891</td><td>114.8</td><td> 43.0</td><td>Rest of US</td></tr>\n",
       "\t<tr><th scope=row>74</th><td>4</td><td>76</td><td> 50.9</td><td>2113.0</td><td>1565.1</td><td> 56.9</td><td> 4362.335</td><td>119.1</td><td> 44.7</td><td>Rest of US</td></tr>\n",
       "\t<tr><th scope=row>⋮</th><td>⋮</td><td>⋮</td><td>⋮</td><td>⋮</td><td>⋮</td><td>⋮</td><td>⋮</td><td>⋮</td><td>⋮</td><td>⋮</td></tr>\n",
       "\t<tr><th scope=row>1344</th><td>50</td><td>86</td><td>110.8</td><td>4783.0</td><td>3670.8</td><td>109.6</td><td>11763.752</td><td>105.4</td><td>104.8</td><td>Rest of US</td></tr>\n",
       "\t<tr><th scope=row>1345</th><td>50</td><td>87</td><td>116.3</td><td>4807.0</td><td>3690.0</td><td>113.6</td><td>12336.444</td><td>106.0</td><td>116.2</td><td>Rest of US</td></tr>\n",
       "\t<tr><th scope=row>1346</th><td>50</td><td>88</td><td>128.6</td><td>4855.0</td><td>3728.0</td><td>118.3</td><td>13129.000</td><td>102.6</td><td>124.1</td><td>Rest of US</td></tr>\n",
       "\t<tr><th scope=row>1347</th><td>50</td><td>89</td><td>138.3</td><td>4867.0</td><td>3745.0</td><td>124.0</td><td>13933.000</td><td>100.3</td><td>132.7</td><td>Rest of US</td></tr>\n",
       "\t<tr><th scope=row>1348</th><td>50</td><td>90</td><td>151.1</td><td>4902.1</td><td>3772.0</td><td>130.7</td><td>14958.000</td><td> 94.1</td><td>147.3</td><td>Rest of US</td></tr>\n",
       "\t<tr><th scope=row>1349</th><td>50</td><td>91</td><td>158.6</td><td>4965.2</td><td>3817.4</td><td>136.2</td><td>15438.000</td><td> 95.5</td><td>154.4</td><td>Rest of US</td></tr>\n",
       "\t<tr><th scope=row>1350</th><td>50</td><td>92</td><td>176.5</td><td>5017.3</td><td>3853.8</td><td>140.3</td><td>16351.000</td><td> 96.2</td><td>178.5</td><td>Rest of US</td></tr>\n",
       "\t<tr><th scope=row>1358</th><td>51</td><td>70</td><td> 34.1</td><td> 332.0</td><td> 231.6</td><td> 38.8</td><td> 3269.715</td><td>132.2</td><td> 33.8</td><td>Rest of US</td></tr>\n",
       "\t<tr><th scope=row>1359</th><td>51</td><td>71</td><td> 34.4</td><td> 339.0</td><td> 240.3</td><td> 40.5</td><td> 3514.556</td><td>131.7</td><td> 33.6</td><td>Rest of US</td></tr>\n",
       "\t<tr><th scope=row>1360</th><td>51</td><td>72</td><td> 34.4</td><td> 345.0</td><td> 247.0</td><td> 41.8</td><td> 3975.312</td><td>140.0</td><td> 33.7</td><td>Rest of US</td></tr>\n",
       "\t<tr><th scope=row>1361</th><td>51</td><td>73</td><td> 34.4</td><td> 351.0</td><td> 253.8</td><td> 44.4</td><td> 4505.285</td><td>141.2</td><td> 36.3</td><td>Rest of US</td></tr>\n",
       "\t<tr><th scope=row>1362</th><td>51</td><td>74</td><td> 35.8</td><td> 362.0</td><td> 263.4</td><td> 49.3</td><td> 4980.504</td><td>145.8</td><td> 37.8</td><td>Rest of US</td></tr>\n",
       "\t<tr><th scope=row>1363</th><td>51</td><td>75</td><td> 38.6</td><td> 377.0</td><td> 276.0</td><td> 53.8</td><td> 5455.724</td><td>160.7</td><td> 40.3</td><td>Rest of US</td></tr>\n",
       "\t<tr><th scope=row>1364</th><td>51</td><td>76</td><td> 42.6</td><td> 392.0</td><td> 288.5</td><td> 56.9</td><td> 5985.696</td><td>161.5</td><td> 42.5</td><td>Rest of US</td></tr>\n",
       "\t<tr><th scope=row>1365</th><td>51</td><td>77</td><td> 43.4</td><td> 407.0</td><td> 300.1</td><td> 60.6</td><td> 6640.673</td><td>160.4</td><td> 44.7</td><td>Rest of US</td></tr>\n",
       "\t<tr><th scope=row>1366</th><td>51</td><td>78</td><td> 49.8</td><td> 425.0</td><td> 314.5</td><td> 65.2</td><td> 7609.707</td><td>160.3</td><td> 49.5</td><td>Rest of US</td></tr>\n",
       "\t<tr><th scope=row>1367</th><td>51</td><td>79</td><td> 51.7</td><td> 450.0</td><td> 332.9</td><td> 72.6</td><td> 8482.664</td><td>168.6</td><td> 53.7</td><td>Rest of US</td></tr>\n",
       "\t<tr><th scope=row>1368</th><td>51</td><td>80</td><td> 55.3</td><td> 470.0</td><td> 343.5</td><td> 82.4</td><td> 9402.110</td><td>158.1</td><td> 56.4</td><td>Rest of US</td></tr>\n",
       "\t<tr><th scope=row>1369</th><td>51</td><td>81</td><td> 55.9</td><td> 492.0</td><td> 358.0</td><td> 90.9</td><td>10046.755</td><td>163.1</td><td> 59.2</td><td>Rest of US</td></tr>\n",
       "\t<tr><th scope=row>1370</th><td>51</td><td>82</td><td> 64.3</td><td> 502.0</td><td> 364.7</td><td> 96.5</td><td>10180.023</td><td>157.7</td><td> 65.7</td><td>Rest of US</td></tr>\n",
       "\t<tr><th scope=row>1371</th><td>51</td><td>83</td><td> 71.0</td><td> 514.0</td><td> 371.5</td><td> 99.6</td><td> 9855.634</td><td>141.2</td><td> 76.5</td><td>Rest of US</td></tr>\n",
       "\t<tr><th scope=row>1372</th><td>51</td><td>84</td><td> 81.7</td><td> 511.0</td><td> 370.5</td><td>103.9</td><td>10382.508</td><td>128.9</td><td> 88.5</td><td>Rest of US</td></tr>\n",
       "\t<tr><th scope=row>1373</th><td>51</td><td>85</td><td> 87.4</td><td> 510.0</td><td> 369.5</td><td>107.6</td><td>10839.131</td><td>125.7</td><td> 92.3</td><td>Rest of US</td></tr>\n",
       "\t<tr><th scope=row>1374</th><td>51</td><td>86</td><td> 97.8</td><td> 507.0</td><td> 368.6</td><td>109.6</td><td>11089.138</td><td>124.8</td><td> 99.9</td><td>Rest of US</td></tr>\n",
       "\t<tr><th scope=row>1375</th><td>51</td><td>87</td><td>102.7</td><td> 490.0</td><td> 357.0</td><td>113.6</td><td>11113.932</td><td>110.4</td><td>106.2</td><td>Rest of US</td></tr>\n",
       "\t<tr><th scope=row>1376</th><td>51</td><td>88</td><td>112.9</td><td> 479.0</td><td> 353.0</td><td>118.3</td><td>11803.000</td><td>114.3</td><td>115.3</td><td>Rest of US</td></tr>\n",
       "\t<tr><th scope=row>1377</th><td>51</td><td>89</td><td>118.6</td><td> 475.0</td><td> 352.0</td><td>124.0</td><td>12399.000</td><td>111.4</td><td>123.0</td><td>Rest of US</td></tr>\n",
       "\t<tr><th scope=row>1378</th><td>51</td><td>90</td><td>129.5</td><td> 470.9</td><td> 348.9</td><td>130.7</td><td>13871.000</td><td> 96.9</td><td>138.9</td><td>Rest of US</td></tr>\n",
       "\t<tr><th scope=row>1379</th><td>51</td><td>91</td><td>127.0</td><td> 477.1</td><td> 355.2</td><td>136.2</td><td>14675.000</td><td>109.1</td><td>143.6</td><td>Rest of US</td></tr>\n",
       "\t<tr><th scope=row>1380</th><td>51</td><td>92</td><td>155.1</td><td> 483.3</td><td> 360.5</td><td>140.3</td><td>15607.000</td><td>110.8</td><td>160.0</td><td>Rest of US</td></tr>\n",
       "</tbody>\n",
       "</table>\n"
      ],
      "text/latex": [
       "A data.frame: 851 × 10\n",
       "\\begin{tabular}{r|llllllllll}\n",
       "  & state & year & price & pop & pop16 & cpi & ndi & sales & pimin & area\\\\\n",
       "  & <int> & <int> & <dbl> & <dbl> & <dbl> & <dbl> & <dbl> & <dbl> & <dbl> & <chr>\\\\\n",
       "\\hline\n",
       "\t8 & 1 & 70 &  39.6 & 3444.0 & 2394.6 &  38.8 &  2591.039 &  89.8 &  34.3 & Rest of US\\\\\n",
       "\t9 & 1 & 71 &  42.7 & 3481.0 & 2443.5 &  40.5 &  2785.316 &  95.4 &  35.8 & Rest of US\\\\\n",
       "\t10 & 1 & 72 &  42.3 & 3511.0 & 2484.7 &  41.8 &  3034.808 & 101.1 &  37.4 & Rest of US\\\\\n",
       "\t11 & 1 & 73 &  42.1 & 3540.0 & 2526.0 &  44.4 &  3387.574 & 102.9 &  37.3 & Rest of US\\\\\n",
       "\t12 & 1 & 74 &  43.1 & 3574.0 & 2573.9 &  49.3 &  3718.867 & 108.2 &  41.4 & Rest of US\\\\\n",
       "\t13 & 1 & 75 &  46.6 & 3614.0 & 2623.7 &  53.8 &  4087.993 & 111.7 &  43.0 & Rest of US\\\\\n",
       "\t14 & 1 & 76 &  50.4 & 3657.0 & 2677.4 &  56.9 &  4486.772 & 116.2 &  46.4 & Rest of US\\\\\n",
       "\t15 & 1 & 77 &  50.1 & 3690.0 & 2719.6 &  60.6 &  4899.866 & 117.1 &  48.8 & Rest of US\\\\\n",
       "\t16 & 1 & 78 &  55.1 & 3728.0 & 2764.6 &  65.2 &  5450.998 & 123.0 &  53.6 & Rest of US\\\\\n",
       "\t17 & 1 & 79 &  56.8 & 3769.0 & 2810.7 &  72.6 &  5957.141 & 121.4 &  56.5 & Rest of US\\\\\n",
       "\t18 & 1 & 80 &  60.6 & 3894.0 & 2898.9 &  82.4 &  6466.350 & 123.2 &  59.3 & Rest of US\\\\\n",
       "\t19 & 1 & 81 &  68.8 & 3917.0 & 2924.7 &  90.9 &  7042.023 & 119.6 &  62.6 & Rest of US\\\\\n",
       "\t20 & 1 & 82 &  73.1 & 3943.0 & 2953.5 &  96.5 &  7505.220 & 119.1 &  67.8 & Rest of US\\\\\n",
       "\t21 & 1 & 83 &  84.4 & 3959.0 & 2977.5 &  99.6 &  7974.552 & 116.3 &  78.6 & Rest of US\\\\\n",
       "\t22 & 1 & 84 &  90.8 & 3990.0 & 3009.1 & 103.9 &  8693.376 & 113.0 &  86.8 & Rest of US\\\\\n",
       "\t23 & 1 & 85 &  99.0 & 4020.0 & 3039.8 & 107.6 &  9059.434 & 114.5 &  90.7 & Rest of US\\\\\n",
       "\t24 & 1 & 86 & 103.0 & 4050.0 & 3072.4 & 109.6 &  9674.985 & 116.3 &  98.8 & Rest of US\\\\\n",
       "\t25 & 1 & 87 & 110.0 & 4083.0 & 3104.0 & 113.6 & 10213.848 & 114.0 & 103.5 & Rest of US\\\\\n",
       "\t26 & 1 & 88 & 114.4 & 4102.0 & 3124.0 & 118.3 & 10993.000 & 112.1 & 109.2 & Rest of US\\\\\n",
       "\t27 & 1 & 89 & 122.3 & 4118.0 & 3140.0 & 124.0 & 11634.000 & 105.6 & 121.5 & Rest of US\\\\\n",
       "\t28 & 1 & 90 & 139.1 & 4129.2 & 3148.6 & 130.7 & 12806.000 & 108.6 & 132.3 & Rest of US\\\\\n",
       "\t29 & 1 & 91 & 144.4 & 4178.3 & 3185.1 & 136.2 & 13360.000 & 107.9 & 137.4 & Rest of US\\\\\n",
       "\t30 & 1 & 92 & 172.2 & 4226.3 & 3226.7 & 140.3 & 14533.000 & 109.1 & 159.5 & Rest of US\\\\\n",
       "\t68 & 4 & 70 &  36.7 & 1923.0 & 1366.9 &  38.8 &  2493.785 & 100.3 &  34.3 & Rest of US\\\\\n",
       "\t69 & 4 & 71 &  38.8 & 1961.0 & 1405.4 &  40.5 &  2710.369 & 104.1 &  36.8 & Rest of US\\\\\n",
       "\t70 & 4 & 72 &  44.1 & 1999.0 & 1442.9 &  41.8 &  2950.451 & 103.9 &  37.4 & Rest of US\\\\\n",
       "\t71 & 4 & 73 &  45.1 & 2030.0 & 1474.6 &  44.4 &  3410.182 & 108.0 &  37.3 & Rest of US\\\\\n",
       "\t72 & 4 & 74 &  45.5 & 2063.0 & 1508.3 &  49.3 &  3807.593 & 109.7 &  38.0 & Rest of US\\\\\n",
       "\t73 & 4 & 75 &  48.6 & 2112.0 & 1552.5 &  53.8 &  4057.891 & 114.8 &  43.0 & Rest of US\\\\\n",
       "\t74 & 4 & 76 &  50.9 & 2113.0 & 1565.1 &  56.9 &  4362.335 & 119.1 &  44.7 & Rest of US\\\\\n",
       "\t⋮ & ⋮ & ⋮ & ⋮ & ⋮ & ⋮ & ⋮ & ⋮ & ⋮ & ⋮ & ⋮\\\\\n",
       "\t1344 & 50 & 86 & 110.8 & 4783.0 & 3670.8 & 109.6 & 11763.752 & 105.4 & 104.8 & Rest of US\\\\\n",
       "\t1345 & 50 & 87 & 116.3 & 4807.0 & 3690.0 & 113.6 & 12336.444 & 106.0 & 116.2 & Rest of US\\\\\n",
       "\t1346 & 50 & 88 & 128.6 & 4855.0 & 3728.0 & 118.3 & 13129.000 & 102.6 & 124.1 & Rest of US\\\\\n",
       "\t1347 & 50 & 89 & 138.3 & 4867.0 & 3745.0 & 124.0 & 13933.000 & 100.3 & 132.7 & Rest of US\\\\\n",
       "\t1348 & 50 & 90 & 151.1 & 4902.1 & 3772.0 & 130.7 & 14958.000 &  94.1 & 147.3 & Rest of US\\\\\n",
       "\t1349 & 50 & 91 & 158.6 & 4965.2 & 3817.4 & 136.2 & 15438.000 &  95.5 & 154.4 & Rest of US\\\\\n",
       "\t1350 & 50 & 92 & 176.5 & 5017.3 & 3853.8 & 140.3 & 16351.000 &  96.2 & 178.5 & Rest of US\\\\\n",
       "\t1358 & 51 & 70 &  34.1 &  332.0 &  231.6 &  38.8 &  3269.715 & 132.2 &  33.8 & Rest of US\\\\\n",
       "\t1359 & 51 & 71 &  34.4 &  339.0 &  240.3 &  40.5 &  3514.556 & 131.7 &  33.6 & Rest of US\\\\\n",
       "\t1360 & 51 & 72 &  34.4 &  345.0 &  247.0 &  41.8 &  3975.312 & 140.0 &  33.7 & Rest of US\\\\\n",
       "\t1361 & 51 & 73 &  34.4 &  351.0 &  253.8 &  44.4 &  4505.285 & 141.2 &  36.3 & Rest of US\\\\\n",
       "\t1362 & 51 & 74 &  35.8 &  362.0 &  263.4 &  49.3 &  4980.504 & 145.8 &  37.8 & Rest of US\\\\\n",
       "\t1363 & 51 & 75 &  38.6 &  377.0 &  276.0 &  53.8 &  5455.724 & 160.7 &  40.3 & Rest of US\\\\\n",
       "\t1364 & 51 & 76 &  42.6 &  392.0 &  288.5 &  56.9 &  5985.696 & 161.5 &  42.5 & Rest of US\\\\\n",
       "\t1365 & 51 & 77 &  43.4 &  407.0 &  300.1 &  60.6 &  6640.673 & 160.4 &  44.7 & Rest of US\\\\\n",
       "\t1366 & 51 & 78 &  49.8 &  425.0 &  314.5 &  65.2 &  7609.707 & 160.3 &  49.5 & Rest of US\\\\\n",
       "\t1367 & 51 & 79 &  51.7 &  450.0 &  332.9 &  72.6 &  8482.664 & 168.6 &  53.7 & Rest of US\\\\\n",
       "\t1368 & 51 & 80 &  55.3 &  470.0 &  343.5 &  82.4 &  9402.110 & 158.1 &  56.4 & Rest of US\\\\\n",
       "\t1369 & 51 & 81 &  55.9 &  492.0 &  358.0 &  90.9 & 10046.755 & 163.1 &  59.2 & Rest of US\\\\\n",
       "\t1370 & 51 & 82 &  64.3 &  502.0 &  364.7 &  96.5 & 10180.023 & 157.7 &  65.7 & Rest of US\\\\\n",
       "\t1371 & 51 & 83 &  71.0 &  514.0 &  371.5 &  99.6 &  9855.634 & 141.2 &  76.5 & Rest of US\\\\\n",
       "\t1372 & 51 & 84 &  81.7 &  511.0 &  370.5 & 103.9 & 10382.508 & 128.9 &  88.5 & Rest of US\\\\\n",
       "\t1373 & 51 & 85 &  87.4 &  510.0 &  369.5 & 107.6 & 10839.131 & 125.7 &  92.3 & Rest of US\\\\\n",
       "\t1374 & 51 & 86 &  97.8 &  507.0 &  368.6 & 109.6 & 11089.138 & 124.8 &  99.9 & Rest of US\\\\\n",
       "\t1375 & 51 & 87 & 102.7 &  490.0 &  357.0 & 113.6 & 11113.932 & 110.4 & 106.2 & Rest of US\\\\\n",
       "\t1376 & 51 & 88 & 112.9 &  479.0 &  353.0 & 118.3 & 11803.000 & 114.3 & 115.3 & Rest of US\\\\\n",
       "\t1377 & 51 & 89 & 118.6 &  475.0 &  352.0 & 124.0 & 12399.000 & 111.4 & 123.0 & Rest of US\\\\\n",
       "\t1378 & 51 & 90 & 129.5 &  470.9 &  348.9 & 130.7 & 13871.000 &  96.9 & 138.9 & Rest of US\\\\\n",
       "\t1379 & 51 & 91 & 127.0 &  477.1 &  355.2 & 136.2 & 14675.000 & 109.1 & 143.6 & Rest of US\\\\\n",
       "\t1380 & 51 & 92 & 155.1 &  483.3 &  360.5 & 140.3 & 15607.000 & 110.8 & 160.0 & Rest of US\\\\\n",
       "\\end{tabular}\n"
      ],
      "text/markdown": [
       "\n",
       "A data.frame: 851 × 10\n",
       "\n",
       "| <!--/--> | state &lt;int&gt; | year &lt;int&gt; | price &lt;dbl&gt; | pop &lt;dbl&gt; | pop16 &lt;dbl&gt; | cpi &lt;dbl&gt; | ndi &lt;dbl&gt; | sales &lt;dbl&gt; | pimin &lt;dbl&gt; | area &lt;chr&gt; |\n",
       "|---|---|---|---|---|---|---|---|---|---|---|\n",
       "| 8 | 1 | 70 |  39.6 | 3444.0 | 2394.6 |  38.8 |  2591.039 |  89.8 |  34.3 | Rest of US |\n",
       "| 9 | 1 | 71 |  42.7 | 3481.0 | 2443.5 |  40.5 |  2785.316 |  95.4 |  35.8 | Rest of US |\n",
       "| 10 | 1 | 72 |  42.3 | 3511.0 | 2484.7 |  41.8 |  3034.808 | 101.1 |  37.4 | Rest of US |\n",
       "| 11 | 1 | 73 |  42.1 | 3540.0 | 2526.0 |  44.4 |  3387.574 | 102.9 |  37.3 | Rest of US |\n",
       "| 12 | 1 | 74 |  43.1 | 3574.0 | 2573.9 |  49.3 |  3718.867 | 108.2 |  41.4 | Rest of US |\n",
       "| 13 | 1 | 75 |  46.6 | 3614.0 | 2623.7 |  53.8 |  4087.993 | 111.7 |  43.0 | Rest of US |\n",
       "| 14 | 1 | 76 |  50.4 | 3657.0 | 2677.4 |  56.9 |  4486.772 | 116.2 |  46.4 | Rest of US |\n",
       "| 15 | 1 | 77 |  50.1 | 3690.0 | 2719.6 |  60.6 |  4899.866 | 117.1 |  48.8 | Rest of US |\n",
       "| 16 | 1 | 78 |  55.1 | 3728.0 | 2764.6 |  65.2 |  5450.998 | 123.0 |  53.6 | Rest of US |\n",
       "| 17 | 1 | 79 |  56.8 | 3769.0 | 2810.7 |  72.6 |  5957.141 | 121.4 |  56.5 | Rest of US |\n",
       "| 18 | 1 | 80 |  60.6 | 3894.0 | 2898.9 |  82.4 |  6466.350 | 123.2 |  59.3 | Rest of US |\n",
       "| 19 | 1 | 81 |  68.8 | 3917.0 | 2924.7 |  90.9 |  7042.023 | 119.6 |  62.6 | Rest of US |\n",
       "| 20 | 1 | 82 |  73.1 | 3943.0 | 2953.5 |  96.5 |  7505.220 | 119.1 |  67.8 | Rest of US |\n",
       "| 21 | 1 | 83 |  84.4 | 3959.0 | 2977.5 |  99.6 |  7974.552 | 116.3 |  78.6 | Rest of US |\n",
       "| 22 | 1 | 84 |  90.8 | 3990.0 | 3009.1 | 103.9 |  8693.376 | 113.0 |  86.8 | Rest of US |\n",
       "| 23 | 1 | 85 |  99.0 | 4020.0 | 3039.8 | 107.6 |  9059.434 | 114.5 |  90.7 | Rest of US |\n",
       "| 24 | 1 | 86 | 103.0 | 4050.0 | 3072.4 | 109.6 |  9674.985 | 116.3 |  98.8 | Rest of US |\n",
       "| 25 | 1 | 87 | 110.0 | 4083.0 | 3104.0 | 113.6 | 10213.848 | 114.0 | 103.5 | Rest of US |\n",
       "| 26 | 1 | 88 | 114.4 | 4102.0 | 3124.0 | 118.3 | 10993.000 | 112.1 | 109.2 | Rest of US |\n",
       "| 27 | 1 | 89 | 122.3 | 4118.0 | 3140.0 | 124.0 | 11634.000 | 105.6 | 121.5 | Rest of US |\n",
       "| 28 | 1 | 90 | 139.1 | 4129.2 | 3148.6 | 130.7 | 12806.000 | 108.6 | 132.3 | Rest of US |\n",
       "| 29 | 1 | 91 | 144.4 | 4178.3 | 3185.1 | 136.2 | 13360.000 | 107.9 | 137.4 | Rest of US |\n",
       "| 30 | 1 | 92 | 172.2 | 4226.3 | 3226.7 | 140.3 | 14533.000 | 109.1 | 159.5 | Rest of US |\n",
       "| 68 | 4 | 70 |  36.7 | 1923.0 | 1366.9 |  38.8 |  2493.785 | 100.3 |  34.3 | Rest of US |\n",
       "| 69 | 4 | 71 |  38.8 | 1961.0 | 1405.4 |  40.5 |  2710.369 | 104.1 |  36.8 | Rest of US |\n",
       "| 70 | 4 | 72 |  44.1 | 1999.0 | 1442.9 |  41.8 |  2950.451 | 103.9 |  37.4 | Rest of US |\n",
       "| 71 | 4 | 73 |  45.1 | 2030.0 | 1474.6 |  44.4 |  3410.182 | 108.0 |  37.3 | Rest of US |\n",
       "| 72 | 4 | 74 |  45.5 | 2063.0 | 1508.3 |  49.3 |  3807.593 | 109.7 |  38.0 | Rest of US |\n",
       "| 73 | 4 | 75 |  48.6 | 2112.0 | 1552.5 |  53.8 |  4057.891 | 114.8 |  43.0 | Rest of US |\n",
       "| 74 | 4 | 76 |  50.9 | 2113.0 | 1565.1 |  56.9 |  4362.335 | 119.1 |  44.7 | Rest of US |\n",
       "| ⋮ | ⋮ | ⋮ | ⋮ | ⋮ | ⋮ | ⋮ | ⋮ | ⋮ | ⋮ | ⋮ |\n",
       "| 1344 | 50 | 86 | 110.8 | 4783.0 | 3670.8 | 109.6 | 11763.752 | 105.4 | 104.8 | Rest of US |\n",
       "| 1345 | 50 | 87 | 116.3 | 4807.0 | 3690.0 | 113.6 | 12336.444 | 106.0 | 116.2 | Rest of US |\n",
       "| 1346 | 50 | 88 | 128.6 | 4855.0 | 3728.0 | 118.3 | 13129.000 | 102.6 | 124.1 | Rest of US |\n",
       "| 1347 | 50 | 89 | 138.3 | 4867.0 | 3745.0 | 124.0 | 13933.000 | 100.3 | 132.7 | Rest of US |\n",
       "| 1348 | 50 | 90 | 151.1 | 4902.1 | 3772.0 | 130.7 | 14958.000 |  94.1 | 147.3 | Rest of US |\n",
       "| 1349 | 50 | 91 | 158.6 | 4965.2 | 3817.4 | 136.2 | 15438.000 |  95.5 | 154.4 | Rest of US |\n",
       "| 1350 | 50 | 92 | 176.5 | 5017.3 | 3853.8 | 140.3 | 16351.000 |  96.2 | 178.5 | Rest of US |\n",
       "| 1358 | 51 | 70 |  34.1 |  332.0 |  231.6 |  38.8 |  3269.715 | 132.2 |  33.8 | Rest of US |\n",
       "| 1359 | 51 | 71 |  34.4 |  339.0 |  240.3 |  40.5 |  3514.556 | 131.7 |  33.6 | Rest of US |\n",
       "| 1360 | 51 | 72 |  34.4 |  345.0 |  247.0 |  41.8 |  3975.312 | 140.0 |  33.7 | Rest of US |\n",
       "| 1361 | 51 | 73 |  34.4 |  351.0 |  253.8 |  44.4 |  4505.285 | 141.2 |  36.3 | Rest of US |\n",
       "| 1362 | 51 | 74 |  35.8 |  362.0 |  263.4 |  49.3 |  4980.504 | 145.8 |  37.8 | Rest of US |\n",
       "| 1363 | 51 | 75 |  38.6 |  377.0 |  276.0 |  53.8 |  5455.724 | 160.7 |  40.3 | Rest of US |\n",
       "| 1364 | 51 | 76 |  42.6 |  392.0 |  288.5 |  56.9 |  5985.696 | 161.5 |  42.5 | Rest of US |\n",
       "| 1365 | 51 | 77 |  43.4 |  407.0 |  300.1 |  60.6 |  6640.673 | 160.4 |  44.7 | Rest of US |\n",
       "| 1366 | 51 | 78 |  49.8 |  425.0 |  314.5 |  65.2 |  7609.707 | 160.3 |  49.5 | Rest of US |\n",
       "| 1367 | 51 | 79 |  51.7 |  450.0 |  332.9 |  72.6 |  8482.664 | 168.6 |  53.7 | Rest of US |\n",
       "| 1368 | 51 | 80 |  55.3 |  470.0 |  343.5 |  82.4 |  9402.110 | 158.1 |  56.4 | Rest of US |\n",
       "| 1369 | 51 | 81 |  55.9 |  492.0 |  358.0 |  90.9 | 10046.755 | 163.1 |  59.2 | Rest of US |\n",
       "| 1370 | 51 | 82 |  64.3 |  502.0 |  364.7 |  96.5 | 10180.023 | 157.7 |  65.7 | Rest of US |\n",
       "| 1371 | 51 | 83 |  71.0 |  514.0 |  371.5 |  99.6 |  9855.634 | 141.2 |  76.5 | Rest of US |\n",
       "| 1372 | 51 | 84 |  81.7 |  511.0 |  370.5 | 103.9 | 10382.508 | 128.9 |  88.5 | Rest of US |\n",
       "| 1373 | 51 | 85 |  87.4 |  510.0 |  369.5 | 107.6 | 10839.131 | 125.7 |  92.3 | Rest of US |\n",
       "| 1374 | 51 | 86 |  97.8 |  507.0 |  368.6 | 109.6 | 11089.138 | 124.8 |  99.9 | Rest of US |\n",
       "| 1375 | 51 | 87 | 102.7 |  490.0 |  357.0 | 113.6 | 11113.932 | 110.4 | 106.2 | Rest of US |\n",
       "| 1376 | 51 | 88 | 112.9 |  479.0 |  353.0 | 118.3 | 11803.000 | 114.3 | 115.3 | Rest of US |\n",
       "| 1377 | 51 | 89 | 118.6 |  475.0 |  352.0 | 124.0 | 12399.000 | 111.4 | 123.0 | Rest of US |\n",
       "| 1378 | 51 | 90 | 129.5 |  470.9 |  348.9 | 130.7 | 13871.000 |  96.9 | 138.9 | Rest of US |\n",
       "| 1379 | 51 | 91 | 127.0 |  477.1 |  355.2 | 136.2 | 14675.000 | 109.1 | 143.6 | Rest of US |\n",
       "| 1380 | 51 | 92 | 155.1 |  483.3 |  360.5 | 140.3 | 15607.000 | 110.8 | 160.0 | Rest of US |\n",
       "\n"
      ],
      "text/plain": [
       "     state year price pop    pop16  cpi   ndi       sales pimin area      \n",
       "8    1     70    39.6 3444.0 2394.6  38.8  2591.039  89.8  34.3 Rest of US\n",
       "9    1     71    42.7 3481.0 2443.5  40.5  2785.316  95.4  35.8 Rest of US\n",
       "10   1     72    42.3 3511.0 2484.7  41.8  3034.808 101.1  37.4 Rest of US\n",
       "11   1     73    42.1 3540.0 2526.0  44.4  3387.574 102.9  37.3 Rest of US\n",
       "12   1     74    43.1 3574.0 2573.9  49.3  3718.867 108.2  41.4 Rest of US\n",
       "13   1     75    46.6 3614.0 2623.7  53.8  4087.993 111.7  43.0 Rest of US\n",
       "14   1     76    50.4 3657.0 2677.4  56.9  4486.772 116.2  46.4 Rest of US\n",
       "15   1     77    50.1 3690.0 2719.6  60.6  4899.866 117.1  48.8 Rest of US\n",
       "16   1     78    55.1 3728.0 2764.6  65.2  5450.998 123.0  53.6 Rest of US\n",
       "17   1     79    56.8 3769.0 2810.7  72.6  5957.141 121.4  56.5 Rest of US\n",
       "18   1     80    60.6 3894.0 2898.9  82.4  6466.350 123.2  59.3 Rest of US\n",
       "19   1     81    68.8 3917.0 2924.7  90.9  7042.023 119.6  62.6 Rest of US\n",
       "20   1     82    73.1 3943.0 2953.5  96.5  7505.220 119.1  67.8 Rest of US\n",
       "21   1     83    84.4 3959.0 2977.5  99.6  7974.552 116.3  78.6 Rest of US\n",
       "22   1     84    90.8 3990.0 3009.1 103.9  8693.376 113.0  86.8 Rest of US\n",
       "23   1     85    99.0 4020.0 3039.8 107.6  9059.434 114.5  90.7 Rest of US\n",
       "24   1     86   103.0 4050.0 3072.4 109.6  9674.985 116.3  98.8 Rest of US\n",
       "25   1     87   110.0 4083.0 3104.0 113.6 10213.848 114.0 103.5 Rest of US\n",
       "26   1     88   114.4 4102.0 3124.0 118.3 10993.000 112.1 109.2 Rest of US\n",
       "27   1     89   122.3 4118.0 3140.0 124.0 11634.000 105.6 121.5 Rest of US\n",
       "28   1     90   139.1 4129.2 3148.6 130.7 12806.000 108.6 132.3 Rest of US\n",
       "29   1     91   144.4 4178.3 3185.1 136.2 13360.000 107.9 137.4 Rest of US\n",
       "30   1     92   172.2 4226.3 3226.7 140.3 14533.000 109.1 159.5 Rest of US\n",
       "68   4     70    36.7 1923.0 1366.9  38.8  2493.785 100.3  34.3 Rest of US\n",
       "69   4     71    38.8 1961.0 1405.4  40.5  2710.369 104.1  36.8 Rest of US\n",
       "70   4     72    44.1 1999.0 1442.9  41.8  2950.451 103.9  37.4 Rest of US\n",
       "71   4     73    45.1 2030.0 1474.6  44.4  3410.182 108.0  37.3 Rest of US\n",
       "72   4     74    45.5 2063.0 1508.3  49.3  3807.593 109.7  38.0 Rest of US\n",
       "73   4     75    48.6 2112.0 1552.5  53.8  4057.891 114.8  43.0 Rest of US\n",
       "74   4     76    50.9 2113.0 1565.1  56.9  4362.335 119.1  44.7 Rest of US\n",
       "⋮    ⋮     ⋮    ⋮     ⋮      ⋮      ⋮     ⋮         ⋮     ⋮     ⋮         \n",
       "1344 50    86   110.8 4783.0 3670.8 109.6 11763.752 105.4 104.8 Rest of US\n",
       "1345 50    87   116.3 4807.0 3690.0 113.6 12336.444 106.0 116.2 Rest of US\n",
       "1346 50    88   128.6 4855.0 3728.0 118.3 13129.000 102.6 124.1 Rest of US\n",
       "1347 50    89   138.3 4867.0 3745.0 124.0 13933.000 100.3 132.7 Rest of US\n",
       "1348 50    90   151.1 4902.1 3772.0 130.7 14958.000  94.1 147.3 Rest of US\n",
       "1349 50    91   158.6 4965.2 3817.4 136.2 15438.000  95.5 154.4 Rest of US\n",
       "1350 50    92   176.5 5017.3 3853.8 140.3 16351.000  96.2 178.5 Rest of US\n",
       "1358 51    70    34.1  332.0  231.6  38.8  3269.715 132.2  33.8 Rest of US\n",
       "1359 51    71    34.4  339.0  240.3  40.5  3514.556 131.7  33.6 Rest of US\n",
       "1360 51    72    34.4  345.0  247.0  41.8  3975.312 140.0  33.7 Rest of US\n",
       "1361 51    73    34.4  351.0  253.8  44.4  4505.285 141.2  36.3 Rest of US\n",
       "1362 51    74    35.8  362.0  263.4  49.3  4980.504 145.8  37.8 Rest of US\n",
       "1363 51    75    38.6  377.0  276.0  53.8  5455.724 160.7  40.3 Rest of US\n",
       "1364 51    76    42.6  392.0  288.5  56.9  5985.696 161.5  42.5 Rest of US\n",
       "1365 51    77    43.4  407.0  300.1  60.6  6640.673 160.4  44.7 Rest of US\n",
       "1366 51    78    49.8  425.0  314.5  65.2  7609.707 160.3  49.5 Rest of US\n",
       "1367 51    79    51.7  450.0  332.9  72.6  8482.664 168.6  53.7 Rest of US\n",
       "1368 51    80    55.3  470.0  343.5  82.4  9402.110 158.1  56.4 Rest of US\n",
       "1369 51    81    55.9  492.0  358.0  90.9 10046.755 163.1  59.2 Rest of US\n",
       "1370 51    82    64.3  502.0  364.7  96.5 10180.023 157.7  65.7 Rest of US\n",
       "1371 51    83    71.0  514.0  371.5  99.6  9855.634 141.2  76.5 Rest of US\n",
       "1372 51    84    81.7  511.0  370.5 103.9 10382.508 128.9  88.5 Rest of US\n",
       "1373 51    85    87.4  510.0  369.5 107.6 10839.131 125.7  92.3 Rest of US\n",
       "1374 51    86    97.8  507.0  368.6 109.6 11089.138 124.8  99.9 Rest of US\n",
       "1375 51    87   102.7  490.0  357.0 113.6 11113.932 110.4 106.2 Rest of US\n",
       "1376 51    88   112.9  479.0  353.0 118.3 11803.000 114.3 115.3 Rest of US\n",
       "1377 51    89   118.6  475.0  352.0 124.0 12399.000 111.4 123.0 Rest of US\n",
       "1378 51    90   129.5  470.9  348.9 130.7 13871.000  96.9 138.9 Rest of US\n",
       "1379 51    91   127.0  477.1  355.2 136.2 14675.000 109.1 143.6 Rest of US\n",
       "1380 51    92   155.1  483.3  360.5 140.3 15607.000 110.8 160.0 Rest of US"
      ]
     },
     "metadata": {},
     "output_type": "display_data"
    }
   ],
   "source": [
    "# (6) ライブラリの読み込み\n",
    "library(\"Ecdat\")\n",
    "\n",
    "# (7) Proposition99の分析：集計による分析\n",
    "## データの準備\n",
    "\n",
    "### Common Trend Assumptionの為に分析から特定の州を外す\n",
    "### タバコの税金が1988年以降50セント以上上がった州のリスト\n",
    "### Alaska, Hawaii, Maryland, Michigan, New Jersey, New York, Washington\n",
    "skip_state <- c(3,9,10,22,21,23,31,33,48)\n",
    "\n",
    "### Cigarデータセットの読み込み\n",
    "### skip_stateに含まれる州のデータを削除\n",
    "Cigar <- Cigar %>%\n",
    "  filter(!state %in% skip_state,\n",
    "         year >= 70) %>%\n",
    "  mutate(area = if_else(state == 5, \"CA\", \"Rest of US\"))\n",
    "\n",
    "Cigar"
   ]
  },
  {
   "cell_type": "code",
   "execution_count": 12,
   "id": "df90a469-72ff-4904-8868-7541ae7176b1",
   "metadata": {},
   "outputs": [
    {
     "name": "stderr",
     "output_type": "stream",
     "text": [
      "`summarise()` has grouped output by 'period'. You can override using the `.groups` argument.\n",
      "\n"
     ]
    },
    {
     "data": {
      "text/html": [
       "<table class=\"dataframe\">\n",
       "<caption>A grouped_df: 2 × 3</caption>\n",
       "<thead>\n",
       "\t<tr><th scope=col>period</th><th scope=col>CA</th><th scope=col>Rest of US</th></tr>\n",
       "\t<tr><th scope=col>&lt;chr&gt;</th><th scope=col>&lt;dbl&gt;</th><th scope=col>&lt;dbl&gt;</th></tr>\n",
       "</thead>\n",
       "<tbody>\n",
       "\t<tr><td>after </td><td> 77.1250</td><td>106.8877</td></tr>\n",
       "\t<tr><td>before</td><td>116.6576</td><td>126.8421</td></tr>\n",
       "</tbody>\n",
       "</table>\n"
      ],
      "text/latex": [
       "A grouped\\_df: 2 × 3\n",
       "\\begin{tabular}{lll}\n",
       " period & CA & Rest of US\\\\\n",
       " <chr> & <dbl> & <dbl>\\\\\n",
       "\\hline\n",
       "\t after  &  77.1250 & 106.8877\\\\\n",
       "\t before & 116.6576 & 126.8421\\\\\n",
       "\\end{tabular}\n"
      ],
      "text/markdown": [
       "\n",
       "A grouped_df: 2 × 3\n",
       "\n",
       "| period &lt;chr&gt; | CA &lt;dbl&gt; | Rest of US &lt;dbl&gt; |\n",
       "|---|---|---|\n",
       "| after  |  77.1250 | 106.8877 |\n",
       "| before | 116.6576 | 126.8421 |\n",
       "\n"
      ],
      "text/plain": [
       "  period CA       Rest of US\n",
       "1 after   77.1250 106.8877  \n",
       "2 before 116.6576 126.8421  "
      ]
     },
     "metadata": {},
     "output_type": "display_data"
    }
   ],
   "source": [
    "## 前後比較による分析\n",
    "Cigar %>%\n",
    "  mutate(period = if_else(year > 87, \"after\", \"before\"),\n",
    "         state = if_else(state == 5, \"CA\", \"Rest of US\")) %>%\n",
    "  group_by(period, state) %>%\n",
    "  summarise(sales = sum(sales*pop16)/sum(pop16)) %>%\n",
    "  spread(state, sales)"
   ]
  },
  {
   "cell_type": "markdown",
   "id": "d0dd7c35-85c6-442a-af41-8563676738ec",
   "metadata": {},
   "source": [
    "Rest of USでは20箱の減少傾向なので、並行トレンド仮定をするとCAでは25箱程度の売上の減少が生じた"
   ]
  },
  {
   "cell_type": "code",
   "execution_count": 13,
   "id": "21e10877-4ef6-4902-817b-6bcb59366ba3",
   "metadata": {},
   "outputs": [
    {
     "name": "stderr",
     "output_type": "stream",
     "text": [
      "`summarise()` has grouped output by 'period'. You can override using the `.groups` argument.\n",
      "\n"
     ]
    },
    {
     "data": {
      "image/png": "[encoded data removed]",
      "text/plain": [
       "plot without title"
      ]
     },
     "metadata": {
      "image/png": {
       "height": 420,
       "width": 420
      }
     },
     "output_type": "display_data"
    }
   ],
   "source": [
    "## 前後比較のプロット\n",
    "Cigar %>%\n",
    "  mutate(period = if_else(year > 87, \"after\", \"before\"),\n",
    "         state = if_else(state == 5, \"CA\", \"Rest of US\")) %>%\n",
    "  group_by(period, state) %>%\n",
    "  summarise(sales = sum(sales*pop16)/sum(pop16)) %>%\n",
    "  ggplot(aes(y = sales,\n",
    "             x = period,\n",
    "             shape = state,\n",
    "             linetype = state)) +\n",
    "  geom_point(size = 2) +\n",
    "  geom_line(aes(group = state)) +\n",
    "  ylim(0, NA) +\n",
    "  theme_bw() +\n",
    "  theme(plot.title = element_text(hjust = 0.5),\n",
    "        legend.position = \"bottom\",\n",
    "        plot.margin = margin(1,1,1,1, \"cm\")) +\n",
    "  scale_x_discrete(name =\"Period\",limits=c(\"before\",\"after\"))"
   ]
  },
  {
   "cell_type": "code",
   "execution_count": null,
   "id": "ed2a969b-1f0d-43b5-b2d7-c24a31a765be",
   "metadata": {},
   "outputs": [],
   "source": []
  },
  {
   "cell_type": "markdown",
   "id": "73841c68-ab25-49ff-b5b7-a0273dd3315d",
   "metadata": {},
   "source": [
    "回帰分析で、各年における平均的な効果量 や 各州における平均的な効果量 を見てみる"
   ]
  },
  {
   "cell_type": "code",
   "execution_count": 14,
   "id": "cbb97e44-6be3-422d-8738-86ecde33f562",
   "metadata": {},
   "outputs": [
    {
     "name": "stderr",
     "output_type": "stream",
     "text": [
      "`summarise()` has grouped output by 'post', 'year', 'year_dummy'. You can override using the `.groups` argument.\n",
      "\n",
      "`summarise()` has grouped output by 'post', 'ca', 'year', 'year_dummy'. You can override using the `.groups` argument.\n",
      "\n"
     ]
    },
    {
     "data": {
      "text/html": [
       "<table class=\"dataframe\">\n",
       "<caption>A grouped_df: 6 × 5</caption>\n",
       "<thead>\n",
       "\t<tr><th scope=col>post</th><th scope=col>year</th><th scope=col>year_dummy</th><th scope=col>ca</th><th scope=col>sales</th></tr>\n",
       "\t<tr><th scope=col>&lt;dbl&gt;</th><th scope=col>&lt;int&gt;</th><th scope=col>&lt;chr&gt;</th><th scope=col>&lt;dbl&gt;</th><th scope=col>&lt;dbl&gt;</th></tr>\n",
       "</thead>\n",
       "<tbody>\n",
       "\t<tr><td>0</td><td>70</td><td>D_70</td><td>0</td><td>115.0333</td></tr>\n",
       "\t<tr><td>0</td><td>70</td><td>D_70</td><td>1</td><td>123.0000</td></tr>\n",
       "\t<tr><td>0</td><td>71</td><td>D_71</td><td>0</td><td>118.1176</td></tr>\n",
       "\t<tr><td>0</td><td>71</td><td>D_71</td><td>1</td><td>121.0000</td></tr>\n",
       "\t<tr><td>0</td><td>72</td><td>D_72</td><td>0</td><td>120.8572</td></tr>\n",
       "\t<tr><td>0</td><td>72</td><td>D_72</td><td>1</td><td>123.5000</td></tr>\n",
       "</tbody>\n",
       "</table>\n"
      ],
      "text/latex": [
       "A grouped\\_df: 6 × 5\n",
       "\\begin{tabular}{lllll}\n",
       " post & year & year\\_dummy & ca & sales\\\\\n",
       " <dbl> & <int> & <chr> & <dbl> & <dbl>\\\\\n",
       "\\hline\n",
       "\t 0 & 70 & D\\_70 & 0 & 115.0333\\\\\n",
       "\t 0 & 70 & D\\_70 & 1 & 123.0000\\\\\n",
       "\t 0 & 71 & D\\_71 & 0 & 118.1176\\\\\n",
       "\t 0 & 71 & D\\_71 & 1 & 121.0000\\\\\n",
       "\t 0 & 72 & D\\_72 & 0 & 120.8572\\\\\n",
       "\t 0 & 72 & D\\_72 & 1 & 123.5000\\\\\n",
       "\\end{tabular}\n"
      ],
      "text/markdown": [
       "\n",
       "A grouped_df: 6 × 5\n",
       "\n",
       "| post &lt;dbl&gt; | year &lt;int&gt; | year_dummy &lt;chr&gt; | ca &lt;dbl&gt; | sales &lt;dbl&gt; |\n",
       "|---|---|---|---|---|\n",
       "| 0 | 70 | D_70 | 0 | 115.0333 |\n",
       "| 0 | 70 | D_70 | 1 | 123.0000 |\n",
       "| 0 | 71 | D_71 | 0 | 118.1176 |\n",
       "| 0 | 71 | D_71 | 1 | 121.0000 |\n",
       "| 0 | 72 | D_72 | 0 | 120.8572 |\n",
       "| 0 | 72 | D_72 | 1 | 123.5000 |\n",
       "\n"
      ],
      "text/plain": [
       "  post year year_dummy ca sales   \n",
       "1 0    70   D_70       0  115.0333\n",
       "2 0    70   D_70       1  123.0000\n",
       "3 0    71   D_71       0  118.1176\n",
       "4 0    71   D_71       1  121.0000\n",
       "5 0    72   D_72       0  120.8572\n",
       "6 0    72   D_72       1  123.5000"
      ]
     },
     "metadata": {},
     "output_type": "display_data"
    },
    {
     "data": {
      "text/html": [
       "<table class=\"dataframe\">\n",
       "<caption>A grouped_df: 6 × 6</caption>\n",
       "<thead>\n",
       "\t<tr><th scope=col>post</th><th scope=col>ca</th><th scope=col>year</th><th scope=col>year_dummy</th><th scope=col>state</th><th scope=col>sales</th></tr>\n",
       "\t<tr><th scope=col>&lt;dbl&gt;</th><th scope=col>&lt;dbl&gt;</th><th scope=col>&lt;int&gt;</th><th scope=col>&lt;chr&gt;</th><th scope=col>&lt;fct&gt;</th><th scope=col>&lt;dbl&gt;</th></tr>\n",
       "</thead>\n",
       "<tbody>\n",
       "\t<tr><td>0</td><td>0</td><td>70</td><td>D_70</td><td>1 </td><td> 89.8</td></tr>\n",
       "\t<tr><td>0</td><td>0</td><td>70</td><td>D_70</td><td>4 </td><td>100.3</td></tr>\n",
       "\t<tr><td>0</td><td>0</td><td>70</td><td>D_70</td><td>7 </td><td>120.0</td></tr>\n",
       "\t<tr><td>0</td><td>0</td><td>70</td><td>D_70</td><td>8 </td><td>155.0</td></tr>\n",
       "\t<tr><td>0</td><td>0</td><td>70</td><td>D_70</td><td>11</td><td>109.9</td></tr>\n",
       "\t<tr><td>0</td><td>0</td><td>70</td><td>D_70</td><td>13</td><td>102.4</td></tr>\n",
       "</tbody>\n",
       "</table>\n"
      ],
      "text/latex": [
       "A grouped\\_df: 6 × 6\n",
       "\\begin{tabular}{llllll}\n",
       " post & ca & year & year\\_dummy & state & sales\\\\\n",
       " <dbl> & <dbl> & <int> & <chr> & <fct> & <dbl>\\\\\n",
       "\\hline\n",
       "\t 0 & 0 & 70 & D\\_70 & 1  &  89.8\\\\\n",
       "\t 0 & 0 & 70 & D\\_70 & 4  & 100.3\\\\\n",
       "\t 0 & 0 & 70 & D\\_70 & 7  & 120.0\\\\\n",
       "\t 0 & 0 & 70 & D\\_70 & 8  & 155.0\\\\\n",
       "\t 0 & 0 & 70 & D\\_70 & 11 & 109.9\\\\\n",
       "\t 0 & 0 & 70 & D\\_70 & 13 & 102.4\\\\\n",
       "\\end{tabular}\n"
      ],
      "text/markdown": [
       "\n",
       "A grouped_df: 6 × 6\n",
       "\n",
       "| post &lt;dbl&gt; | ca &lt;dbl&gt; | year &lt;int&gt; | year_dummy &lt;chr&gt; | state &lt;fct&gt; | sales &lt;dbl&gt; |\n",
       "|---|---|---|---|---|---|\n",
       "| 0 | 0 | 70 | D_70 | 1  |  89.8 |\n",
       "| 0 | 0 | 70 | D_70 | 4  | 100.3 |\n",
       "| 0 | 0 | 70 | D_70 | 7  | 120.0 |\n",
       "| 0 | 0 | 70 | D_70 | 8  | 155.0 |\n",
       "| 0 | 0 | 70 | D_70 | 11 | 109.9 |\n",
       "| 0 | 0 | 70 | D_70 | 13 | 102.4 |\n",
       "\n"
      ],
      "text/plain": [
       "  post ca year year_dummy state sales\n",
       "1 0    0  70   D_70       1      89.8\n",
       "2 0    0  70   D_70       4     100.3\n",
       "3 0    0  70   D_70       7     120.0\n",
       "4 0    0  70   D_70       8     155.0\n",
       "5 0    0  70   D_70       11    109.9\n",
       "6 0    0  70   D_70       13    102.4"
      ]
     },
     "metadata": {},
     "output_type": "display_data"
    }
   ],
   "source": [
    "# (8) DIDのためのデータを準備\n",
    "## カリフォルニア州とその他という2グループのデータ\n",
    "Cigar_did_sum <- Cigar %>%\n",
    "  mutate(post = if_else(year > 87, 1, 0),\n",
    "         ca = if_else(state == 5, 1, 0),\n",
    "         state = factor(state),\n",
    "         year_dummy = paste(\"D\", year, sep = \"_\")) %>%\n",
    "  group_by(post, year, year_dummy, ca) %>%\n",
    "  summarise(sales = sum(sales*pop16)/sum(pop16))\n",
    "\n",
    "## カリフォルニア州とその他の州という州ごとでのデータ\n",
    "Cigar_did_data <- Cigar %>%\n",
    "  mutate(post = if_else(year > 87, 1, 0),\n",
    "         ca = if_else(state == 5, 1, 0),\n",
    "         state = factor(state),\n",
    "         year_dummy = paste(\"D\", year, sep = \"_\")) %>%\n",
    "  group_by(post, ca, year, year_dummy, state) %>%\n",
    "  summarise(sales = sum(sales*pop16)/sum(pop16))\n",
    "Cigar_did_sum |> head()\n",
    "Cigar_did_data |> head()"
   ]
  },
  {
   "cell_type": "code",
   "execution_count": 15,
   "id": "4e23e158-5ab9-4d74-8dc4-57816c8fe85b",
   "metadata": {},
   "outputs": [
    {
     "data": {
      "text/html": [
       "<table class=\"dataframe\">\n",
       "<caption>A tibble: 4 × 5</caption>\n",
       "<thead>\n",
       "\t<tr><th scope=col>term</th><th scope=col>estimate</th><th scope=col>std.error</th><th scope=col>statistic</th><th scope=col>p.value</th></tr>\n",
       "\t<tr><th scope=col>&lt;chr&gt;</th><th scope=col>&lt;dbl&gt;</th><th scope=col>&lt;dbl&gt;</th><th scope=col>&lt;dbl&gt;</th><th scope=col>&lt;dbl&gt;</th></tr>\n",
       "</thead>\n",
       "<tbody>\n",
       "\t<tr><td>(Intercept)</td><td>123.561534</td><td>4.519375</td><td>27.340401</td><td>6.686611e-18</td></tr>\n",
       "\t<tr><td>ca         </td><td> -9.089784</td><td>2.073632</td><td>-4.383510</td><td>2.597039e-04</td></tr>\n",
       "\t<tr><td>post       </td><td>-23.797791</td><td>6.606396</td><td>-3.602235</td><td>1.674671e-03</td></tr>\n",
       "\t<tr><td>ca:post    </td><td>-20.543519</td><td>4.447444</td><td>-4.619174</td><td>1.479716e-04</td></tr>\n",
       "</tbody>\n",
       "</table>\n"
      ],
      "text/latex": [
       "A tibble: 4 × 5\n",
       "\\begin{tabular}{lllll}\n",
       " term & estimate & std.error & statistic & p.value\\\\\n",
       " <chr> & <dbl> & <dbl> & <dbl> & <dbl>\\\\\n",
       "\\hline\n",
       "\t (Intercept) & 123.561534 & 4.519375 & 27.340401 & 6.686611e-18\\\\\n",
       "\t ca          &  -9.089784 & 2.073632 & -4.383510 & 2.597039e-04\\\\\n",
       "\t post        & -23.797791 & 6.606396 & -3.602235 & 1.674671e-03\\\\\n",
       "\t ca:post     & -20.543519 & 4.447444 & -4.619174 & 1.479716e-04\\\\\n",
       "\\end{tabular}\n"
      ],
      "text/markdown": [
       "\n",
       "A tibble: 4 × 5\n",
       "\n",
       "| term &lt;chr&gt; | estimate &lt;dbl&gt; | std.error &lt;dbl&gt; | statistic &lt;dbl&gt; | p.value &lt;dbl&gt; |\n",
       "|---|---|---|---|---|\n",
       "| (Intercept) | 123.561534 | 4.519375 | 27.340401 | 6.686611e-18 |\n",
       "| ca          |  -9.089784 | 2.073632 | -4.383510 | 2.597039e-04 |\n",
       "| post        | -23.797791 | 6.606396 | -3.602235 | 1.674671e-03 |\n",
       "| ca:post     | -20.543519 | 4.447444 | -4.619174 | 1.479716e-04 |\n",
       "\n"
      ],
      "text/plain": [
       "  term        estimate   std.error statistic p.value     \n",
       "1 (Intercept) 123.561534 4.519375  27.340401 6.686611e-18\n",
       "2 ca           -9.089784 2.073632  -4.383510 2.597039e-04\n",
       "3 post        -23.797791 6.606396  -3.602235 1.674671e-03\n",
       "4 ca:post     -20.543519 4.447444  -4.619174 1.479716e-04"
      ]
     },
     "metadata": {},
     "output_type": "display_data"
    }
   ],
   "source": [
    "# (9) カリフォルニア州とその他というグループでの分析\n",
    "## 2グループでのデータでの分析\n",
    "Cigar_did_sum_reg <- Cigar_did_sum %>%\n",
    "  lm(data = ., sales ~ ca + post + ca:post + year_dummy) %>%\n",
    "  tidy() %>%\n",
    "  filter(!str_detect(term, \"state\"),\n",
    "         !str_detect(term, \"year\"))\n",
    "Cigar_did_sum_reg"
   ]
  },
  {
   "cell_type": "markdown",
   "id": "e5e7ece5-0bf8-4f1a-965a-8423a0ab9be6",
   "metadata": {},
   "source": [
    "一人あたりタバコの売上を20箱程度減少させている"
   ]
  },
  {
   "cell_type": "code",
   "execution_count": 16,
   "id": "bb1c33ef-7a3c-43de-af75-e861f40f2139",
   "metadata": {},
   "outputs": [
    {
     "data": {
      "text/html": [
       "<table class=\"dataframe\">\n",
       "<caption>A tibble: 4 × 5</caption>\n",
       "<thead>\n",
       "\t<tr><th scope=col>term</th><th scope=col>estimate</th><th scope=col>std.error</th><th scope=col>statistic</th><th scope=col>p.value</th></tr>\n",
       "\t<tr><th scope=col>&lt;chr&gt;</th><th scope=col>&lt;dbl&gt;</th><th scope=col>&lt;dbl&gt;</th><th scope=col>&lt;dbl&gt;</th><th scope=col>&lt;dbl&gt;</th></tr>\n",
       "</thead>\n",
       "<tbody>\n",
       "\t<tr><td>(Intercept)</td><td> 4.81705754</td><td>0.04212091</td><td>114.362628</td><td>7.726809e-31</td></tr>\n",
       "\t<tr><td>ca         </td><td>-0.07670921</td><td>0.01932640</td><td> -3.969142</td><td>6.994158e-04</td></tr>\n",
       "\t<tr><td>post       </td><td>-0.23170193</td><td>0.06157209</td><td> -3.763100</td><td>1.143104e-03</td></tr>\n",
       "\t<tr><td>ca:post    </td><td>-0.25304451</td><td>0.04145050</td><td> -6.104739</td><td>4.665575e-06</td></tr>\n",
       "</tbody>\n",
       "</table>\n"
      ],
      "text/latex": [
       "A tibble: 4 × 5\n",
       "\\begin{tabular}{lllll}\n",
       " term & estimate & std.error & statistic & p.value\\\\\n",
       " <chr> & <dbl> & <dbl> & <dbl> & <dbl>\\\\\n",
       "\\hline\n",
       "\t (Intercept) &  4.81705754 & 0.04212091 & 114.362628 & 7.726809e-31\\\\\n",
       "\t ca          & -0.07670921 & 0.01932640 &  -3.969142 & 6.994158e-04\\\\\n",
       "\t post        & -0.23170193 & 0.06157209 &  -3.763100 & 1.143104e-03\\\\\n",
       "\t ca:post     & -0.25304451 & 0.04145050 &  -6.104739 & 4.665575e-06\\\\\n",
       "\\end{tabular}\n"
      ],
      "text/markdown": [
       "\n",
       "A tibble: 4 × 5\n",
       "\n",
       "| term &lt;chr&gt; | estimate &lt;dbl&gt; | std.error &lt;dbl&gt; | statistic &lt;dbl&gt; | p.value &lt;dbl&gt; |\n",
       "|---|---|---|---|---|\n",
       "| (Intercept) |  4.81705754 | 0.04212091 | 114.362628 | 7.726809e-31 |\n",
       "| ca          | -0.07670921 | 0.01932640 |  -3.969142 | 6.994158e-04 |\n",
       "| post        | -0.23170193 | 0.06157209 |  -3.763100 | 1.143104e-03 |\n",
       "| ca:post     | -0.25304451 | 0.04145050 |  -6.104739 | 4.665575e-06 |\n",
       "\n"
      ],
      "text/plain": [
       "  term        estimate    std.error  statistic  p.value     \n",
       "1 (Intercept)  4.81705754 0.04212091 114.362628 7.726809e-31\n",
       "2 ca          -0.07670921 0.01932640  -3.969142 6.994158e-04\n",
       "3 post        -0.23170193 0.06157209  -3.763100 1.143104e-03\n",
       "4 ca:post     -0.25304451 0.04145050  -6.104739 4.665575e-06"
      ]
     },
     "metadata": {},
     "output_type": "display_data"
    }
   ],
   "source": [
    "## 2グループでのデータでの分析(log)\n",
    "Cigar_did_sum_logreg <- Cigar_did_sum %>%\n",
    "  lm(data = ., log(sales) ~ ca + post + ca:post + year_dummy) %>%\n",
    "  tidy() %>%\n",
    "  filter(!str_detect(term, \"state\"),\n",
    "         !str_detect(term, \"year\"))\n",
    "Cigar_did_sum_logreg"
   ]
  },
  {
   "cell_type": "markdown",
   "id": "88607116-835a-4cf7-8b4a-57bd4eb877f4",
   "metadata": {},
   "source": [
    "効果料を割合だと解釈すると25%の減少効果！"
   ]
  },
  {
   "cell_type": "code",
   "execution_count": null,
   "id": "963ade1d-30e6-4c14-9322-d51c94f1cf79",
   "metadata": {},
   "outputs": [],
   "source": []
  },
  {
   "cell_type": "code",
   "execution_count": 17,
   "id": "dbee555f-9176-4e05-a7fa-7940a26443fd",
   "metadata": {},
   "outputs": [
    {
     "name": "stderr",
     "output_type": "stream",
     "text": [
      "`summarise()` has grouped output by 'year'. You can override using the `.groups` argument.\n",
      "\n"
     ]
    },
    {
     "data": {
      "image/png": "[encoded data removed]",
      "text/plain": [
       "plot without title"
      ]
     },
     "metadata": {
      "image/png": {
       "height": 420,
       "width": 420
      }
     },
     "output_type": "display_data"
    }
   ],
   "source": [
    "## タバコの売上のトレンドを示すプロット\n",
    "Cigar %>%\n",
    "  mutate(state = if_else(state == 5, \"CA\", \"Rest of US\")) %>%\n",
    "  group_by(year,state) %>%\n",
    "  summarise(sales = sum(sales*pop16)/sum(pop16)) %>%\n",
    "  ggplot(aes(y = sales,\n",
    "             x = year,\n",
    "             shape = state,\n",
    "             linetype = state)) +\n",
    "  geom_line() +\n",
    "  geom_point(size = 2) +\n",
    "  geom_vline(xintercept = 88, linetype = 4) +\n",
    "  theme_bw() +\n",
    "  theme(plot.title = element_text(hjust = 0.5),\n",
    "        legend.position = \"bottom\",\n",
    "        plot.margin = margin(1,1,1,1, \"cm\"))"
   ]
  },
  {
   "cell_type": "markdown",
   "id": "cd2c3072-f3e2-4377-90f3-07505ad64527",
   "metadata": {},
   "source": [
    "ただし、図より並行トレンド仮定は正しくなさそうである。88年までの振る舞いが並行的でない。とくに75年辺り"
   ]
  },
  {
   "cell_type": "code",
   "execution_count": 18,
   "id": "8d4b7ab1-c045-41c3-b6fe-4554dbdca2e7",
   "metadata": {},
   "outputs": [
    {
     "ename": "ERROR",
     "evalue": "Error in loadNamespace(x): there is no package called ‘miceadds’\n",
     "output_type": "error",
     "traceback": [
      "Error in loadNamespace(x): there is no package called ‘miceadds’\nTraceback:\n",
      "1. Cigar_did_data %>% miceadds::lm.cluster(data = ., sales ~ ca + \n .     state + post + ca:post + year_dummy, cluster = \"state\") %>% \n .     summary()",
      "2. summary(.)",
      "3. loadNamespace(x)",
      "4. withRestarts(stop(cond), retry_loadNamespace = function() NULL)",
      "5. withOneRestart(expr, restarts[[1L]])",
      "6. doWithOneRestart(return(expr), restart)"
     ]
    }
   ],
   "source": [
    "#おまけ\n",
    "## 州ごとのデータでの分析\n",
    "Cigar_did_data_cluster <- Cigar_did_data %>%\n",
    "  miceadds::lm.cluster(data = .,\n",
    "                       sales ~ ca + state + post + ca:post + year_dummy,\n",
    "             cluster = \"state\") %>%\n",
    "  summary()\n",
    "\n",
    "## 結果の抽出\n",
    "did_cluster_result <- Cigar_did_data_cluster[row.names(Cigar_did_data_cluster) == \"ca:post\",]\n",
    "did_cluster_result\n"
   ]
  },
  {
   "cell_type": "code",
   "execution_count": null,
   "id": "0d5d73d5-b76e-4625-8f08-3d64b9ccfe2e",
   "metadata": {},
   "outputs": [],
   "source": []
  },
  {
   "cell_type": "markdown",
   "id": "da183822-805c-49fe-ab6e-a8b3f1e65da9",
   "metadata": {},
   "source": [
    "### CausalImpactを試してみる"
   ]
  },
  {
   "cell_type": "code",
   "execution_count": 19,
   "id": "21ae873e-1a0d-4969-8e43-05dd73e53cbf",
   "metadata": {},
   "outputs": [
    {
     "data": {
      "text/html": [
       "<table class=\"dataframe\">\n",
       "<caption>A data.frame: 6 × 37</caption>\n",
       "<thead>\n",
       "\t<tr><th></th><th scope=col>year</th><th scope=col>1</th><th scope=col>4</th><th scope=col>7</th><th scope=col>8</th><th scope=col>11</th><th scope=col>13</th><th scope=col>14</th><th scope=col>15</th><th scope=col>16</th><th scope=col>⋯</th><th scope=col>41</th><th scope=col>42</th><th scope=col>43</th><th scope=col>44</th><th scope=col>45</th><th scope=col>46</th><th scope=col>47</th><th scope=col>49</th><th scope=col>50</th><th scope=col>51</th></tr>\n",
       "\t<tr><th></th><th scope=col>&lt;int&gt;</th><th scope=col>&lt;dbl&gt;</th><th scope=col>&lt;dbl&gt;</th><th scope=col>&lt;dbl&gt;</th><th scope=col>&lt;dbl&gt;</th><th scope=col>&lt;dbl&gt;</th><th scope=col>&lt;dbl&gt;</th><th scope=col>&lt;dbl&gt;</th><th scope=col>&lt;dbl&gt;</th><th scope=col>&lt;dbl&gt;</th><th scope=col>⋯</th><th scope=col>&lt;dbl&gt;</th><th scope=col>&lt;dbl&gt;</th><th scope=col>&lt;dbl&gt;</th><th scope=col>&lt;dbl&gt;</th><th scope=col>&lt;dbl&gt;</th><th scope=col>&lt;dbl&gt;</th><th scope=col>&lt;dbl&gt;</th><th scope=col>&lt;dbl&gt;</th><th scope=col>&lt;dbl&gt;</th><th scope=col>&lt;dbl&gt;</th></tr>\n",
       "</thead>\n",
       "<tbody>\n",
       "\t<tr><th scope=row>1</th><td>70</td><td> 89.8</td><td>100.3</td><td>120.0</td><td>155.0</td><td>109.9</td><td>102.4</td><td>124.8</td><td>134.6</td><td>108.5</td><td>⋯</td><td>103.6</td><td> 92.7</td><td> 99.8</td><td>106.4</td><td>65.5</td><td>122.6</td><td>124.3</td><td>114.5</td><td>106.4</td><td>132.2</td></tr>\n",
       "\t<tr><th scope=row>2</th><td>71</td><td> 95.4</td><td>104.1</td><td>117.6</td><td>161.1</td><td>115.7</td><td>108.5</td><td>125.6</td><td>139.3</td><td>108.4</td><td>⋯</td><td>115.0</td><td> 96.7</td><td>106.3</td><td>108.9</td><td>67.7</td><td>124.4</td><td>128.4</td><td>111.5</td><td>105.4</td><td>131.7</td></tr>\n",
       "\t<tr><th scope=row>3</th><td>72</td><td>101.1</td><td>103.9</td><td>110.8</td><td>156.3</td><td>117.0</td><td>126.1</td><td>126.6</td><td>149.2</td><td>109.4</td><td>⋯</td><td>118.7</td><td>103.0</td><td>111.5</td><td>108.6</td><td>71.3</td><td>138.0</td><td>137.0</td><td>117.5</td><td>108.8</td><td>140.0</td></tr>\n",
       "\t<tr><th scope=row>4</th><td>73</td><td>102.9</td><td>108.0</td><td>109.3</td><td>154.7</td><td>119.8</td><td>121.8</td><td>124.4</td><td>156.0</td><td>110.6</td><td>⋯</td><td>125.5</td><td>103.5</td><td>109.7</td><td>110.4</td><td>72.7</td><td>146.8</td><td>143.1</td><td>116.6</td><td>109.5</td><td>141.2</td></tr>\n",
       "\t<tr><th scope=row>5</th><td>74</td><td>108.2</td><td>109.7</td><td>112.4</td><td>151.3</td><td>123.7</td><td>125.6</td><td>131.9</td><td>159.6</td><td>116.1</td><td>⋯</td><td>129.7</td><td>108.4</td><td>114.8</td><td>114.7</td><td>75.6</td><td>151.8</td><td>149.6</td><td>119.9</td><td>111.8</td><td>145.8</td></tr>\n",
       "\t<tr><th scope=row>6</th><td>75</td><td>111.7</td><td>114.8</td><td>110.2</td><td>147.6</td><td>122.9</td><td>123.3</td><td>131.8</td><td>162.4</td><td>120.5</td><td>⋯</td><td>130.5</td><td>113.5</td><td>117.4</td><td>116.0</td><td>75.8</td><td>155.5</td><td>152.7</td><td>123.2</td><td>113.5</td><td>160.7</td></tr>\n",
       "</tbody>\n",
       "</table>\n"
      ],
      "text/latex": [
       "A data.frame: 6 × 37\n",
       "\\begin{tabular}{r|lllllllllllllllllllll}\n",
       "  & year & 1 & 4 & 7 & 8 & 11 & 13 & 14 & 15 & 16 & ⋯ & 41 & 42 & 43 & 44 & 45 & 46 & 47 & 49 & 50 & 51\\\\\n",
       "  & <int> & <dbl> & <dbl> & <dbl> & <dbl> & <dbl> & <dbl> & <dbl> & <dbl> & <dbl> & ⋯ & <dbl> & <dbl> & <dbl> & <dbl> & <dbl> & <dbl> & <dbl> & <dbl> & <dbl> & <dbl>\\\\\n",
       "\\hline\n",
       "\t1 & 70 &  89.8 & 100.3 & 120.0 & 155.0 & 109.9 & 102.4 & 124.8 & 134.6 & 108.5 & ⋯ & 103.6 &  92.7 &  99.8 & 106.4 & 65.5 & 122.6 & 124.3 & 114.5 & 106.4 & 132.2\\\\\n",
       "\t2 & 71 &  95.4 & 104.1 & 117.6 & 161.1 & 115.7 & 108.5 & 125.6 & 139.3 & 108.4 & ⋯ & 115.0 &  96.7 & 106.3 & 108.9 & 67.7 & 124.4 & 128.4 & 111.5 & 105.4 & 131.7\\\\\n",
       "\t3 & 72 & 101.1 & 103.9 & 110.8 & 156.3 & 117.0 & 126.1 & 126.6 & 149.2 & 109.4 & ⋯ & 118.7 & 103.0 & 111.5 & 108.6 & 71.3 & 138.0 & 137.0 & 117.5 & 108.8 & 140.0\\\\\n",
       "\t4 & 73 & 102.9 & 108.0 & 109.3 & 154.7 & 119.8 & 121.8 & 124.4 & 156.0 & 110.6 & ⋯ & 125.5 & 103.5 & 109.7 & 110.4 & 72.7 & 146.8 & 143.1 & 116.6 & 109.5 & 141.2\\\\\n",
       "\t5 & 74 & 108.2 & 109.7 & 112.4 & 151.3 & 123.7 & 125.6 & 131.9 & 159.6 & 116.1 & ⋯ & 129.7 & 108.4 & 114.8 & 114.7 & 75.6 & 151.8 & 149.6 & 119.9 & 111.8 & 145.8\\\\\n",
       "\t6 & 75 & 111.7 & 114.8 & 110.2 & 147.6 & 122.9 & 123.3 & 131.8 & 162.4 & 120.5 & ⋯ & 130.5 & 113.5 & 117.4 & 116.0 & 75.8 & 155.5 & 152.7 & 123.2 & 113.5 & 160.7\\\\\n",
       "\\end{tabular}\n"
      ],
      "text/markdown": [
       "\n",
       "A data.frame: 6 × 37\n",
       "\n",
       "| <!--/--> | year &lt;int&gt; | 1 &lt;dbl&gt; | 4 &lt;dbl&gt; | 7 &lt;dbl&gt; | 8 &lt;dbl&gt; | 11 &lt;dbl&gt; | 13 &lt;dbl&gt; | 14 &lt;dbl&gt; | 15 &lt;dbl&gt; | 16 &lt;dbl&gt; | ⋯ ⋯ | 41 &lt;dbl&gt; | 42 &lt;dbl&gt; | 43 &lt;dbl&gt; | 44 &lt;dbl&gt; | 45 &lt;dbl&gt; | 46 &lt;dbl&gt; | 47 &lt;dbl&gt; | 49 &lt;dbl&gt; | 50 &lt;dbl&gt; | 51 &lt;dbl&gt; |\n",
       "|---|---|---|---|---|---|---|---|---|---|---|---|---|---|---|---|---|---|---|---|---|---|\n",
       "| 1 | 70 |  89.8 | 100.3 | 120.0 | 155.0 | 109.9 | 102.4 | 124.8 | 134.6 | 108.5 | ⋯ | 103.6 |  92.7 |  99.8 | 106.4 | 65.5 | 122.6 | 124.3 | 114.5 | 106.4 | 132.2 |\n",
       "| 2 | 71 |  95.4 | 104.1 | 117.6 | 161.1 | 115.7 | 108.5 | 125.6 | 139.3 | 108.4 | ⋯ | 115.0 |  96.7 | 106.3 | 108.9 | 67.7 | 124.4 | 128.4 | 111.5 | 105.4 | 131.7 |\n",
       "| 3 | 72 | 101.1 | 103.9 | 110.8 | 156.3 | 117.0 | 126.1 | 126.6 | 149.2 | 109.4 | ⋯ | 118.7 | 103.0 | 111.5 | 108.6 | 71.3 | 138.0 | 137.0 | 117.5 | 108.8 | 140.0 |\n",
       "| 4 | 73 | 102.9 | 108.0 | 109.3 | 154.7 | 119.8 | 121.8 | 124.4 | 156.0 | 110.6 | ⋯ | 125.5 | 103.5 | 109.7 | 110.4 | 72.7 | 146.8 | 143.1 | 116.6 | 109.5 | 141.2 |\n",
       "| 5 | 74 | 108.2 | 109.7 | 112.4 | 151.3 | 123.7 | 125.6 | 131.9 | 159.6 | 116.1 | ⋯ | 129.7 | 108.4 | 114.8 | 114.7 | 75.6 | 151.8 | 149.6 | 119.9 | 111.8 | 145.8 |\n",
       "| 6 | 75 | 111.7 | 114.8 | 110.2 | 147.6 | 122.9 | 123.3 | 131.8 | 162.4 | 120.5 | ⋯ | 130.5 | 113.5 | 117.4 | 116.0 | 75.8 | 155.5 | 152.7 | 123.2 | 113.5 | 160.7 |\n",
       "\n"
      ],
      "text/plain": [
       "  year 1     4     7     8     11    13    14    15    16    ⋯ 41    42   \n",
       "1 70    89.8 100.3 120.0 155.0 109.9 102.4 124.8 134.6 108.5 ⋯ 103.6  92.7\n",
       "2 71    95.4 104.1 117.6 161.1 115.7 108.5 125.6 139.3 108.4 ⋯ 115.0  96.7\n",
       "3 72   101.1 103.9 110.8 156.3 117.0 126.1 126.6 149.2 109.4 ⋯ 118.7 103.0\n",
       "4 73   102.9 108.0 109.3 154.7 119.8 121.8 124.4 156.0 110.6 ⋯ 125.5 103.5\n",
       "5 74   108.2 109.7 112.4 151.3 123.7 125.6 131.9 159.6 116.1 ⋯ 129.7 108.4\n",
       "6 75   111.7 114.8 110.2 147.6 122.9 123.3 131.8 162.4 120.5 ⋯ 130.5 113.5\n",
       "  43    44    45   46    47    49    50    51   \n",
       "1  99.8 106.4 65.5 122.6 124.3 114.5 106.4 132.2\n",
       "2 106.3 108.9 67.7 124.4 128.4 111.5 105.4 131.7\n",
       "3 111.5 108.6 71.3 138.0 137.0 117.5 108.8 140.0\n",
       "4 109.7 110.4 72.7 146.8 143.1 116.6 109.5 141.2\n",
       "5 114.8 114.7 75.6 151.8 149.6 119.9 111.8 145.8\n",
       "6 117.4 116.0 75.8 155.5 152.7 123.2 113.5 160.7"
      ]
     },
     "metadata": {},
     "output_type": "display_data"
    }
   ],
   "source": [
    "# (11) CausalImpactを利用した分析\n",
    "\n",
    "## CigarデータをCausalImpact用に整形\n",
    "### 目的変数としてカリフォルニア州の売上 だけ抜き出す\n",
    "Y <- Cigar %>% filter(state == 5) %>% pull(sales)\n",
    "\n",
    "### 共変量として他の州の売上を抜き出し整形\n",
    "X_sales <- Cigar %>%\n",
    "  filter(state != 5) %>% #カリフォルニアだけ除く\n",
    "  select(state, sales, year) %>% # 州、売上、年を考慮\n",
    "  spread(state,sales) # 横にstateを展開する。値はsales\n",
    "X_sales |> head()"
   ]
  },
  {
   "cell_type": "code",
   "execution_count": 20,
   "id": "e63feb61-1d33-4943-9fc1-9765529d270b",
   "metadata": {},
   "outputs": [
    {
     "data": {
      "text/html": [
       "<table class=\"dataframe\">\n",
       "<caption>A data.frame: 6 × 37</caption>\n",
       "<thead>\n",
       "\t<tr><th></th><th scope=col>Y</th><th scope=col>1</th><th scope=col>4</th><th scope=col>7</th><th scope=col>8</th><th scope=col>11</th><th scope=col>13</th><th scope=col>14</th><th scope=col>15</th><th scope=col>16</th><th scope=col>⋯</th><th scope=col>41</th><th scope=col>42</th><th scope=col>43</th><th scope=col>44</th><th scope=col>45</th><th scope=col>46</th><th scope=col>47</th><th scope=col>49</th><th scope=col>50</th><th scope=col>51</th></tr>\n",
       "\t<tr><th></th><th scope=col>&lt;dbl&gt;</th><th scope=col>&lt;dbl&gt;</th><th scope=col>&lt;dbl&gt;</th><th scope=col>&lt;dbl&gt;</th><th scope=col>&lt;dbl&gt;</th><th scope=col>&lt;dbl&gt;</th><th scope=col>&lt;dbl&gt;</th><th scope=col>&lt;dbl&gt;</th><th scope=col>&lt;dbl&gt;</th><th scope=col>&lt;dbl&gt;</th><th scope=col>⋯</th><th scope=col>&lt;dbl&gt;</th><th scope=col>&lt;dbl&gt;</th><th scope=col>&lt;dbl&gt;</th><th scope=col>&lt;dbl&gt;</th><th scope=col>&lt;dbl&gt;</th><th scope=col>&lt;dbl&gt;</th><th scope=col>&lt;dbl&gt;</th><th scope=col>&lt;dbl&gt;</th><th scope=col>&lt;dbl&gt;</th><th scope=col>&lt;dbl&gt;</th></tr>\n",
       "</thead>\n",
       "<tbody>\n",
       "\t<tr><th scope=row>1</th><td>123.0</td><td> 89.8</td><td>100.3</td><td>120.0</td><td>155.0</td><td>109.9</td><td>102.4</td><td>124.8</td><td>134.6</td><td>108.5</td><td>⋯</td><td>103.6</td><td> 92.7</td><td> 99.8</td><td>106.4</td><td>65.5</td><td>122.6</td><td>124.3</td><td>114.5</td><td>106.4</td><td>132.2</td></tr>\n",
       "\t<tr><th scope=row>2</th><td>121.0</td><td> 95.4</td><td>104.1</td><td>117.6</td><td>161.1</td><td>115.7</td><td>108.5</td><td>125.6</td><td>139.3</td><td>108.4</td><td>⋯</td><td>115.0</td><td> 96.7</td><td>106.3</td><td>108.9</td><td>67.7</td><td>124.4</td><td>128.4</td><td>111.5</td><td>105.4</td><td>131.7</td></tr>\n",
       "\t<tr><th scope=row>3</th><td>123.5</td><td>101.1</td><td>103.9</td><td>110.8</td><td>156.3</td><td>117.0</td><td>126.1</td><td>126.6</td><td>149.2</td><td>109.4</td><td>⋯</td><td>118.7</td><td>103.0</td><td>111.5</td><td>108.6</td><td>71.3</td><td>138.0</td><td>137.0</td><td>117.5</td><td>108.8</td><td>140.0</td></tr>\n",
       "\t<tr><th scope=row>4</th><td>124.4</td><td>102.9</td><td>108.0</td><td>109.3</td><td>154.7</td><td>119.8</td><td>121.8</td><td>124.4</td><td>156.0</td><td>110.6</td><td>⋯</td><td>125.5</td><td>103.5</td><td>109.7</td><td>110.4</td><td>72.7</td><td>146.8</td><td>143.1</td><td>116.6</td><td>109.5</td><td>141.2</td></tr>\n",
       "\t<tr><th scope=row>5</th><td>126.7</td><td>108.2</td><td>109.7</td><td>112.4</td><td>151.3</td><td>123.7</td><td>125.6</td><td>131.9</td><td>159.6</td><td>116.1</td><td>⋯</td><td>129.7</td><td>108.4</td><td>114.8</td><td>114.7</td><td>75.6</td><td>151.8</td><td>149.6</td><td>119.9</td><td>111.8</td><td>145.8</td></tr>\n",
       "\t<tr><th scope=row>6</th><td>127.1</td><td>111.7</td><td>114.8</td><td>110.2</td><td>147.6</td><td>122.9</td><td>123.3</td><td>131.8</td><td>162.4</td><td>120.5</td><td>⋯</td><td>130.5</td><td>113.5</td><td>117.4</td><td>116.0</td><td>75.8</td><td>155.5</td><td>152.7</td><td>123.2</td><td>113.5</td><td>160.7</td></tr>\n",
       "</tbody>\n",
       "</table>\n"
      ],
      "text/latex": [
       "A data.frame: 6 × 37\n",
       "\\begin{tabular}{r|lllllllllllllllllllll}\n",
       "  & Y & 1 & 4 & 7 & 8 & 11 & 13 & 14 & 15 & 16 & ⋯ & 41 & 42 & 43 & 44 & 45 & 46 & 47 & 49 & 50 & 51\\\\\n",
       "  & <dbl> & <dbl> & <dbl> & <dbl> & <dbl> & <dbl> & <dbl> & <dbl> & <dbl> & <dbl> & ⋯ & <dbl> & <dbl> & <dbl> & <dbl> & <dbl> & <dbl> & <dbl> & <dbl> & <dbl> & <dbl>\\\\\n",
       "\\hline\n",
       "\t1 & 123.0 &  89.8 & 100.3 & 120.0 & 155.0 & 109.9 & 102.4 & 124.8 & 134.6 & 108.5 & ⋯ & 103.6 &  92.7 &  99.8 & 106.4 & 65.5 & 122.6 & 124.3 & 114.5 & 106.4 & 132.2\\\\\n",
       "\t2 & 121.0 &  95.4 & 104.1 & 117.6 & 161.1 & 115.7 & 108.5 & 125.6 & 139.3 & 108.4 & ⋯ & 115.0 &  96.7 & 106.3 & 108.9 & 67.7 & 124.4 & 128.4 & 111.5 & 105.4 & 131.7\\\\\n",
       "\t3 & 123.5 & 101.1 & 103.9 & 110.8 & 156.3 & 117.0 & 126.1 & 126.6 & 149.2 & 109.4 & ⋯ & 118.7 & 103.0 & 111.5 & 108.6 & 71.3 & 138.0 & 137.0 & 117.5 & 108.8 & 140.0\\\\\n",
       "\t4 & 124.4 & 102.9 & 108.0 & 109.3 & 154.7 & 119.8 & 121.8 & 124.4 & 156.0 & 110.6 & ⋯ & 125.5 & 103.5 & 109.7 & 110.4 & 72.7 & 146.8 & 143.1 & 116.6 & 109.5 & 141.2\\\\\n",
       "\t5 & 126.7 & 108.2 & 109.7 & 112.4 & 151.3 & 123.7 & 125.6 & 131.9 & 159.6 & 116.1 & ⋯ & 129.7 & 108.4 & 114.8 & 114.7 & 75.6 & 151.8 & 149.6 & 119.9 & 111.8 & 145.8\\\\\n",
       "\t6 & 127.1 & 111.7 & 114.8 & 110.2 & 147.6 & 122.9 & 123.3 & 131.8 & 162.4 & 120.5 & ⋯ & 130.5 & 113.5 & 117.4 & 116.0 & 75.8 & 155.5 & 152.7 & 123.2 & 113.5 & 160.7\\\\\n",
       "\\end{tabular}\n"
      ],
      "text/markdown": [
       "\n",
       "A data.frame: 6 × 37\n",
       "\n",
       "| <!--/--> | Y &lt;dbl&gt; | 1 &lt;dbl&gt; | 4 &lt;dbl&gt; | 7 &lt;dbl&gt; | 8 &lt;dbl&gt; | 11 &lt;dbl&gt; | 13 &lt;dbl&gt; | 14 &lt;dbl&gt; | 15 &lt;dbl&gt; | 16 &lt;dbl&gt; | ⋯ ⋯ | 41 &lt;dbl&gt; | 42 &lt;dbl&gt; | 43 &lt;dbl&gt; | 44 &lt;dbl&gt; | 45 &lt;dbl&gt; | 46 &lt;dbl&gt; | 47 &lt;dbl&gt; | 49 &lt;dbl&gt; | 50 &lt;dbl&gt; | 51 &lt;dbl&gt; |\n",
       "|---|---|---|---|---|---|---|---|---|---|---|---|---|---|---|---|---|---|---|---|---|---|\n",
       "| 1 | 123.0 |  89.8 | 100.3 | 120.0 | 155.0 | 109.9 | 102.4 | 124.8 | 134.6 | 108.5 | ⋯ | 103.6 |  92.7 |  99.8 | 106.4 | 65.5 | 122.6 | 124.3 | 114.5 | 106.4 | 132.2 |\n",
       "| 2 | 121.0 |  95.4 | 104.1 | 117.6 | 161.1 | 115.7 | 108.5 | 125.6 | 139.3 | 108.4 | ⋯ | 115.0 |  96.7 | 106.3 | 108.9 | 67.7 | 124.4 | 128.4 | 111.5 | 105.4 | 131.7 |\n",
       "| 3 | 123.5 | 101.1 | 103.9 | 110.8 | 156.3 | 117.0 | 126.1 | 126.6 | 149.2 | 109.4 | ⋯ | 118.7 | 103.0 | 111.5 | 108.6 | 71.3 | 138.0 | 137.0 | 117.5 | 108.8 | 140.0 |\n",
       "| 4 | 124.4 | 102.9 | 108.0 | 109.3 | 154.7 | 119.8 | 121.8 | 124.4 | 156.0 | 110.6 | ⋯ | 125.5 | 103.5 | 109.7 | 110.4 | 72.7 | 146.8 | 143.1 | 116.6 | 109.5 | 141.2 |\n",
       "| 5 | 126.7 | 108.2 | 109.7 | 112.4 | 151.3 | 123.7 | 125.6 | 131.9 | 159.6 | 116.1 | ⋯ | 129.7 | 108.4 | 114.8 | 114.7 | 75.6 | 151.8 | 149.6 | 119.9 | 111.8 | 145.8 |\n",
       "| 6 | 127.1 | 111.7 | 114.8 | 110.2 | 147.6 | 122.9 | 123.3 | 131.8 | 162.4 | 120.5 | ⋯ | 130.5 | 113.5 | 117.4 | 116.0 | 75.8 | 155.5 | 152.7 | 123.2 | 113.5 | 160.7 |\n",
       "\n"
      ],
      "text/plain": [
       "  Y     1     4     7     8     11    13    14    15    16    ⋯ 41    42   \n",
       "1 123.0  89.8 100.3 120.0 155.0 109.9 102.4 124.8 134.6 108.5 ⋯ 103.6  92.7\n",
       "2 121.0  95.4 104.1 117.6 161.1 115.7 108.5 125.6 139.3 108.4 ⋯ 115.0  96.7\n",
       "3 123.5 101.1 103.9 110.8 156.3 117.0 126.1 126.6 149.2 109.4 ⋯ 118.7 103.0\n",
       "4 124.4 102.9 108.0 109.3 154.7 119.8 121.8 124.4 156.0 110.6 ⋯ 125.5 103.5\n",
       "5 126.7 108.2 109.7 112.4 151.3 123.7 125.6 131.9 159.6 116.1 ⋯ 129.7 108.4\n",
       "6 127.1 111.7 114.8 110.2 147.6 122.9 123.3 131.8 162.4 120.5 ⋯ 130.5 113.5\n",
       "  43    44    45   46    47    49    50    51   \n",
       "1  99.8 106.4 65.5 122.6 124.3 114.5 106.4 132.2\n",
       "2 106.3 108.9 67.7 124.4 128.4 111.5 105.4 131.7\n",
       "3 111.5 108.6 71.3 138.0 137.0 117.5 108.8 140.0\n",
       "4 109.7 110.4 72.7 146.8 143.1 116.6 109.5 141.2\n",
       "5 114.8 114.7 75.6 151.8 149.6 119.9 111.8 145.8\n",
       "6 117.4 116.0 75.8 155.5 152.7 123.2 113.5 160.7"
      ]
     },
     "metadata": {},
     "output_type": "display_data"
    }
   ],
   "source": [
    "### 介入が行われるデータを示す\n",
    "pre_period <- c(1:NROW(X_sales))[X_sales$year < 88]\n",
    "post_period <- c(1:NROW(X_sales))[X_sales$year >= 88]\n",
    "### 目的変数と共変量をバインドする\n",
    "CI_data <- cbind(Y,X_sales) %>% select(-year)\n",
    "CI_data |> head()"
   ]
  },
  {
   "cell_type": "code",
   "execution_count": 21,
   "id": "b07352e0-771f-4586-88a5-c93f1e1a3f8f",
   "metadata": {},
   "outputs": [
    {
     "ename": "ERROR",
     "evalue": "Error in loadNamespace(x): there is no package called ‘CausalImpact’\n",
     "output_type": "error",
     "traceback": [
      "Error in loadNamespace(x): there is no package called ‘CausalImpact’\nTraceback:\n",
      "1. loadNamespace(x)",
      "2. withRestarts(stop(cond), retry_loadNamespace = function() NULL)",
      "3. withOneRestart(expr, restarts[[1L]])",
      "4. doWithOneRestart(return(expr), restart)"
     ]
    }
   ],
   "source": [
    "## CausalImpactによる分析\n",
    "impact <- CausalImpact::CausalImpact(CI_data,\n",
    "                       pre.period = c(min(pre_period), max(pre_period)),\n",
    "                       post.period = c(min(post_period), max(post_period)))\n",
    "## 結果のplot\n",
    "plot(impact)"
   ]
  },
  {
   "cell_type": "code",
   "execution_count": 22,
   "id": "5d6fc407-a2b0-4c7f-bd41-5e6293b97835",
   "metadata": {},
   "outputs": [
    {
     "ename": "ERROR",
     "evalue": "Error in eval(expr, envir, enclos): object 'impact' not found\n",
     "output_type": "error",
     "traceback": [
      "Error in eval(expr, envir, enclos): object 'impact' not found\nTraceback:\n"
     ]
    }
   ],
   "source": [
    "impact"
   ]
  },
  {
   "cell_type": "code",
   "execution_count": null,
   "id": "9b1b7573-f04f-4d31-bfea-269d09f848d5",
   "metadata": {},
   "outputs": [],
   "source": []
  }
 ],
 "metadata": {
  "kernelspec": {
   "display_name": "R",
   "language": "R",
   "name": "ir"
  },
  "language_info": {
   "codemirror_mode": "r",
   "file_extension": ".r",
   "mimetype": "text/x-r-source",
   "name": "R",
   "pygments_lexer": "r",
   "version": "4.1.0"
  }
 },
 "nbformat": 4,
 "nbformat_minor": 5
}
