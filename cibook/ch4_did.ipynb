{
 "cells": [
  {
   "cell_type": "markdown",
   "id": "79bcb947-dca6-4f01-b124-c0e743a9a536",
   "metadata": {},
   "source": [
    "### DIDしてみる"
   ]
  },
  {
   "cell_type": "code",
   "execution_count": 1,
   "id": "3b4b3eb1-8e14-4a7a-b48c-ca3ff0164393",
   "metadata": {},
   "outputs": [
    {
     "name": "stderr",
     "output_type": "stream",
     "text": [
      "── \u001b[1mAttaching packages\u001b[22m ───────────────────────────────────────────────────────────────────────────────────────────────────────────────────────────────────────────────────────────────────────────────────── tidyverse 1.3.1 ──\n",
      "\n",
      "\u001b[32m✔\u001b[39m \u001b[34mggplot2\u001b[39m 3.3.5     \u001b[32m✔\u001b[39m \u001b[34mpurrr  \u001b[39m 0.3.4\n",
      "\u001b[32m✔\u001b[39m \u001b[34mtibble \u001b[39m 3.1.2     \u001b[32m✔\u001b[39m \u001b[34mdplyr  \u001b[39m 1.0.7\n",
      "\u001b[32m✔\u001b[39m \u001b[34mtidyr  \u001b[39m 1.1.3     \u001b[32m✔\u001b[39m \u001b[34mstringr\u001b[39m 1.4.0\n",
      "\u001b[32m✔\u001b[39m \u001b[34mreadr  \u001b[39m 1.4.0     \u001b[32m✔\u001b[39m \u001b[34mforcats\u001b[39m 0.5.1\n",
      "\n",
      "── \u001b[1mConflicts\u001b[22m ──────────────────────────────────────────────────────────────────────────────────────────────────────────────────────────────────────────────────────────────────────────────────────── tidyverse_conflicts() ──\n",
      "\u001b[31m✖\u001b[39m \u001b[34mdplyr\u001b[39m::\u001b[32mfilter()\u001b[39m masks \u001b[34mstats\u001b[39m::filter()\n",
      "\u001b[31m✖\u001b[39m \u001b[34mdplyr\u001b[39m::\u001b[32mlag()\u001b[39m    masks \u001b[34mstats\u001b[39m::lag()\n",
      "\n"
     ]
    }
   ],
   "source": [
    "# (1) tidyverseとbroomの読み込み\n",
    "library(\"tidyverse\")\n",
    "library(\"broom\")"
   ]
  },
  {
   "cell_type": "code",
   "execution_count": 2,
   "id": "b7630089-4d40-426e-88f8-cfe98e6a1563",
   "metadata": {},
   "outputs": [
    {
     "name": "stderr",
     "output_type": "stream",
     "text": [
      "`summarise()` has grouped output by 'company', 'LSV'. You can override using the `.groups` argument.\n",
      "\n"
     ]
    }
   ],
   "source": [
    "# (2) John Snowデータの読み込み\n",
    "## Data from Table.12 in Snow(1855)\n",
    "## http://www.ph.ucla.edu/epi/snow/table12a.html\n",
    "\n",
    "## 1849年におけるエリア毎のコレラによる死者数\n",
    "### Southwark and Vauxhall Company\n",
    "sv1849 <- c(283,157,192,249,259,226,352,97,111,8,235,92)\n",
    "\n",
    "### Lambeth Company & Southwark and Vauxhall Company\n",
    "lsv1849 <- c(256,267,312,257,318,446,143,193,243,215,544,187,153,81,113,176)\n",
    "\n",
    "## 1849年におけるエリア毎のコレラによる死者数\n",
    "### Southwark and Vauxhall Company\n",
    "sv1854 <- c(371, 161, 148, 362, 244, 237, 282, 59, 171, 9, 240, 174)\n",
    "\n",
    "### Lambeth Company & Southwark and Vauxhall Company\n",
    "lsv1854 <- c(113,174,270,93,210,388,92,58,117,49,193,303,142,48,165,132)\n",
    "\n",
    "## コレラの死者数を会社ごとにまとめる\n",
    "sv_death <- c(sv1849, sv1854)\n",
    "lsv_death <- c(lsv1849, lsv1854)\n",
    "\n",
    "## どのデータがどのエリアのものか\n",
    "sv_area <- paste0(\"sv_\",c(1:length(sv1849), 1:length(sv1854)))\n",
    "lsv_area <- paste0(\"lsv_\", c(1:length(lsv1849), 1:length(lsv1854)))\n",
    "\n",
    "## どのデータがどの年のものか\n",
    "sv_year <- c(rep(\"1849\",length(sv1849)), rep(\"1854\", length(sv1854)))\n",
    "lsv_year <- c(rep(\"1849\",length(lsv1849)), rep(\"1854\", length(lsv1854)))\n",
    "\n",
    "## Southwark & Vauxhallのデータフレームを作成\n",
    "sv <- data.frame(area = sv_area,\n",
    "                 year = sv_year,\n",
    "                 death = sv_death,\n",
    "                 LSV = \"0\",\n",
    "                 company = \"Southwark and Vauxhall\")\n",
    "\n",
    "## Lambeth & Southwark and Vauxhallのデータフレームを作成\n",
    "lsv <- data.frame(area = lsv_area,\n",
    "                  year = lsv_year,\n",
    "                  death = lsv_death,\n",
    "                  LSV = \"1\",\n",
    "                  company = \"Lambeth & Southwark and Vauxhall\")\n",
    "\n",
    "## 地域・年別のデータセットの作成\n",
    "JS_df <- rbind(sv, lsv) %>%\n",
    "  mutate(LSV =\n",
    "           if_else(company == \"Lambeth & Southwark and Vauxhall\", 1, 0))\n",
    "\n",
    "## 会社別のデータセットを作成\n",
    "JS_sum <- JS_df %>%\n",
    "  group_by(company, LSV, year) %>%\n",
    "  summarise(death = sum(death))"
   ]
  },
  {
   "cell_type": "code",
   "execution_count": 3,
   "id": "f94b9bdd-c7f2-45ec-b82d-53613cb012cf",
   "metadata": {},
   "outputs": [
    {
     "data": {
      "text/html": [
       "<table class=\"dataframe\">\n",
       "<caption>A grouped_df: 4 × 4</caption>\n",
       "<thead>\n",
       "\t<tr><th scope=col>company</th><th scope=col>LSV</th><th scope=col>year</th><th scope=col>death</th></tr>\n",
       "\t<tr><th scope=col>&lt;chr&gt;</th><th scope=col>&lt;dbl&gt;</th><th scope=col>&lt;chr&gt;</th><th scope=col>&lt;dbl&gt;</th></tr>\n",
       "</thead>\n",
       "<tbody>\n",
       "\t<tr><td>Lambeth &amp; Southwark and Vauxhall</td><td>1</td><td>1849</td><td>3904</td></tr>\n",
       "\t<tr><td>Lambeth &amp; Southwark and Vauxhall</td><td>1</td><td>1854</td><td>2547</td></tr>\n",
       "\t<tr><td>Southwark and Vauxhall          </td><td>0</td><td>1849</td><td>2261</td></tr>\n",
       "\t<tr><td>Southwark and Vauxhall          </td><td>0</td><td>1854</td><td>2458</td></tr>\n",
       "</tbody>\n",
       "</table>\n"
      ],
      "text/latex": [
       "A grouped\\_df: 4 × 4\n",
       "\\begin{tabular}{llll}\n",
       " company & LSV & year & death\\\\\n",
       " <chr> & <dbl> & <chr> & <dbl>\\\\\n",
       "\\hline\n",
       "\t Lambeth \\& Southwark and Vauxhall & 1 & 1849 & 3904\\\\\n",
       "\t Lambeth \\& Southwark and Vauxhall & 1 & 1854 & 2547\\\\\n",
       "\t Southwark and Vauxhall           & 0 & 1849 & 2261\\\\\n",
       "\t Southwark and Vauxhall           & 0 & 1854 & 2458\\\\\n",
       "\\end{tabular}\n"
      ],
      "text/markdown": [
       "\n",
       "A grouped_df: 4 × 4\n",
       "\n",
       "| company &lt;chr&gt; | LSV &lt;dbl&gt; | year &lt;chr&gt; | death &lt;dbl&gt; |\n",
       "|---|---|---|---|\n",
       "| Lambeth &amp; Southwark and Vauxhall | 1 | 1849 | 3904 |\n",
       "| Lambeth &amp; Southwark and Vauxhall | 1 | 1854 | 2547 |\n",
       "| Southwark and Vauxhall           | 0 | 1849 | 2261 |\n",
       "| Southwark and Vauxhall           | 0 | 1854 | 2458 |\n",
       "\n"
      ],
      "text/plain": [
       "  company                          LSV year death\n",
       "1 Lambeth & Southwark and Vauxhall 1   1849 3904 \n",
       "2 Lambeth & Southwark and Vauxhall 1   1854 2547 \n",
       "3 Southwark and Vauxhall           0   1849 2261 \n",
       "4 Southwark and Vauxhall           0   1854 2458 "
      ]
     },
     "metadata": {},
     "output_type": "display_data"
    }
   ],
   "source": [
    "JS_sum #今回使うデータ"
   ]
  },
  {
   "cell_type": "code",
   "execution_count": 4,
   "id": "a76ad6cc-d2b0-4f6e-af19-7814a31422aa",
   "metadata": {},
   "outputs": [
    {
     "data": {
      "text/html": [
       "<table class=\"dataframe\">\n",
       "<caption>A grouped_df: 2 × 6</caption>\n",
       "<thead>\n",
       "\t<tr><th scope=col>company</th><th scope=col>LSV</th><th scope=col>year_1849</th><th scope=col>year_1854</th><th scope=col>gap</th><th scope=col>gap_rate</th></tr>\n",
       "\t<tr><th scope=col>&lt;chr&gt;</th><th scope=col>&lt;dbl&gt;</th><th scope=col>&lt;dbl&gt;</th><th scope=col>&lt;dbl&gt;</th><th scope=col>&lt;dbl&gt;</th><th scope=col>&lt;dbl&gt;</th></tr>\n",
       "</thead>\n",
       "<tbody>\n",
       "\t<tr><td>Lambeth &amp; Southwark and Vauxhall</td><td>1</td><td>3904</td><td>2547</td><td>-1357</td><td>-0.34759221</td></tr>\n",
       "\t<tr><td>Southwark and Vauxhall          </td><td>0</td><td>2261</td><td>2458</td><td>  197</td><td> 0.08712959</td></tr>\n",
       "</tbody>\n",
       "</table>\n"
      ],
      "text/latex": [
       "A grouped\\_df: 2 × 6\n",
       "\\begin{tabular}{llllll}\n",
       " company & LSV & year\\_1849 & year\\_1854 & gap & gap\\_rate\\\\\n",
       " <chr> & <dbl> & <dbl> & <dbl> & <dbl> & <dbl>\\\\\n",
       "\\hline\n",
       "\t Lambeth \\& Southwark and Vauxhall & 1 & 3904 & 2547 & -1357 & -0.34759221\\\\\n",
       "\t Southwark and Vauxhall           & 0 & 2261 & 2458 &   197 &  0.08712959\\\\\n",
       "\\end{tabular}\n"
      ],
      "text/markdown": [
       "\n",
       "A grouped_df: 2 × 6\n",
       "\n",
       "| company &lt;chr&gt; | LSV &lt;dbl&gt; | year_1849 &lt;dbl&gt; | year_1854 &lt;dbl&gt; | gap &lt;dbl&gt; | gap_rate &lt;dbl&gt; |\n",
       "|---|---|---|---|---|---|\n",
       "| Lambeth &amp; Southwark and Vauxhall | 1 | 3904 | 2547 | -1357 | -0.34759221 |\n",
       "| Southwark and Vauxhall           | 0 | 2261 | 2458 |   197 |  0.08712959 |\n",
       "\n"
      ],
      "text/plain": [
       "  company                          LSV year_1849 year_1854 gap   gap_rate   \n",
       "1 Lambeth & Southwark and Vauxhall 1   3904      2547      -1357 -0.34759221\n",
       "2 Southwark and Vauxhall           0   2261      2458        197  0.08712959"
      ]
     },
     "metadata": {},
     "output_type": "display_data"
    }
   ],
   "source": [
    "# (3) 集計と可視化による分析\n",
    "## 集計による推定\n",
    "JS_grp_summary <- JS_sum %>%\n",
    "  mutate(year = paste(\"year\", year, sep = \"_\")) %>%\n",
    "  spread(year, death) %>%\n",
    "  mutate(gap = year_1854 - year_1849,\n",
    "         gap_rate = year_1854/year_1849 - 1)\n",
    "JS_grp_summary"
   ]
  },
  {
   "cell_type": "markdown",
   "id": "3ce22719-cf0b-4cdf-91a2-046338a6a8b5",
   "metadata": {},
   "source": [
    "`gap`のgapを取ると、-1554となり、Lambeth & Southwark and Vauxhallの水源の改善により1544人感染者が減ったことがわかる。"
   ]
  },
  {
   "cell_type": "code",
   "execution_count": 5,
   "id": "affbaedd-4770-440a-8192-1609e2c451f7",
   "metadata": {},
   "outputs": [
    {
     "data": {
      "image/png": "[encoded data removed]",
      "text/plain": [
       "plot without title"
      ]
     },
     "metadata": {
      "image/png": {
       "height": 420,
       "width": 420
      }
     },
     "output_type": "display_data"
    }
   ],
   "source": [
    "## ggplotによる可視化\n",
    "did_plot <- JS_sum %>%\n",
    "  ggplot(aes(y = death, x = year, shape = company)) +\n",
    "  geom_point(size = 2) +\n",
    "  geom_line(aes(group = company), linetype = 1) +\n",
    "  ylim(2000, 4250) +\n",
    "  theme_bw() +\n",
    "  theme(plot.title = element_text(hjust = 0.5),\n",
    "        legend.position = \"bottom\",\n",
    "        plot.margin = margin(1,1,1,1, \"cm\"))\n",
    "\n",
    "## ggplotによる可視化(アノテーションを追加)\n",
    "did_plot +\n",
    "  annotate(\"text\", x = 2.2, y = 2400, label = \"(1)\") +\n",
    "  annotate(\"text\", x = 2.2, y = 3904 + 197*0.6, label = \"(2)\") +\n",
    "  annotate(\"text\", x = 2.2, y = 3300, label = \"(3)\") +\n",
    "  annotate(\"segment\", # for common trend in treatment group\n",
    "           x = 1, xend = 2,\n",
    "           y = 3904, yend = 3904 + 197,\n",
    "           arrow = arrow(length = unit(.2,\"cm\")),\n",
    "           size = 0.1,\n",
    "           linetype = 2) +\n",
    "  annotate(\"segment\", # for parallel trend\n",
    "           x = 1, xend = 2,\n",
    "           y = 2261, yend = 2261,\n",
    "           size = 0.1,\n",
    "           linetype = 2) +\n",
    "  annotate(\"segment\", # for parallel trend\n",
    "           x = 1, xend = 2,\n",
    "           y = 3904, yend = 3904,\n",
    "           size = 0.1,\n",
    "           linetype = 2) +\n",
    "  annotate(\"segment\", # for (1)\n",
    "           x = 2.07, xend = 2.07,\n",
    "           y = 2261, yend = 2458,\n",
    "           arrow = arrow(ends = \"both\",\n",
    "                         length = unit(.1,\"cm\"),angle = 90)) +\n",
    "  annotate(\"segment\", # for (2)\n",
    "           x = 2.07, xend = 2.07,\n",
    "           y = 3904, yend = 3904 + 197,\n",
    "           arrow = arrow(ends = \"both\",\n",
    "                         length = unit(.1,\"cm\"),angle = 90)) +\n",
    "  annotate(\"segment\", # for (3)\n",
    "           x = 2.07, xend = 2.07,\n",
    "           y = 3904, yend = 2547,\n",
    "           arrow = arrow(ends = \"both\",\n",
    "                         length = unit(.1,\"cm\"),angle = 90))"
   ]
  },
  {
   "cell_type": "code",
   "execution_count": 6,
   "id": "e6ce9e19-d984-4ab9-a3f5-c544a283926a",
   "metadata": {},
   "outputs": [
    {
     "data": {
      "text/html": [
       "<table class=\"dataframe\">\n",
       "<caption>A grouped_df: 2 × 5</caption>\n",
       "<thead>\n",
       "\t<tr><th scope=col>company</th><th scope=col>LSV</th><th scope=col>year_1849</th><th scope=col>year_1854</th><th scope=col>gap</th></tr>\n",
       "\t<tr><th scope=col>&lt;chr&gt;</th><th scope=col>&lt;dbl&gt;</th><th scope=col>&lt;dbl&gt;</th><th scope=col>&lt;dbl&gt;</th><th scope=col>&lt;dbl&gt;</th></tr>\n",
       "</thead>\n",
       "<tbody>\n",
       "\t<tr><td>Lambeth &amp; Southwark and Vauxhall</td><td>1</td><td>8.269757</td><td>7.842671</td><td>-0.42708547</td></tr>\n",
       "\t<tr><td>Southwark and Vauxhall          </td><td>0</td><td>7.723562</td><td>7.807103</td><td> 0.08354082</td></tr>\n",
       "</tbody>\n",
       "</table>\n"
      ],
      "text/latex": [
       "A grouped\\_df: 2 × 5\n",
       "\\begin{tabular}{lllll}\n",
       " company & LSV & year\\_1849 & year\\_1854 & gap\\\\\n",
       " <chr> & <dbl> & <dbl> & <dbl> & <dbl>\\\\\n",
       "\\hline\n",
       "\t Lambeth \\& Southwark and Vauxhall & 1 & 8.269757 & 7.842671 & -0.42708547\\\\\n",
       "\t Southwark and Vauxhall           & 0 & 7.723562 & 7.807103 &  0.08354082\\\\\n",
       "\\end{tabular}\n"
      ],
      "text/markdown": [
       "\n",
       "A grouped_df: 2 × 5\n",
       "\n",
       "| company &lt;chr&gt; | LSV &lt;dbl&gt; | year_1849 &lt;dbl&gt; | year_1854 &lt;dbl&gt; | gap &lt;dbl&gt; |\n",
       "|---|---|---|---|---|\n",
       "| Lambeth &amp; Southwark and Vauxhall | 1 | 8.269757 | 7.842671 | -0.42708547 |\n",
       "| Southwark and Vauxhall           | 0 | 7.723562 | 7.807103 |  0.08354082 |\n",
       "\n"
      ],
      "text/plain": [
       "  company                          LSV year_1849 year_1854 gap        \n",
       "1 Lambeth & Southwark and Vauxhall 1   8.269757  7.842671  -0.42708547\n",
       "2 Southwark and Vauxhall           0   7.723562  7.807103   0.08354082"
      ]
     },
     "metadata": {},
     "output_type": "display_data"
    }
   ],
   "source": [
    "## 集計による推定(log)\n",
    "JS_grp_summary_ln <- JS_sum %>%\n",
    "  mutate(year = paste(\"year\", year, sep = \"_\"),\n",
    "         death = log(death)) %>%\n",
    "  spread(year, death) %>%\n",
    "  mutate(gap = year_1854 - year_1849)\n",
    "JS_grp_summary_ln\n",
    "# 背景にある再生産数的なものを抽出したいのかな？\n",
    "# logを取ったあとの差分だから比率的なものが計算されるのか"
   ]
  },
  {
   "cell_type": "markdown",
   "id": "3c6a1c73-c848-455b-adbf-e664283de7f3",
   "metadata": {},
   "source": [
    "回帰分析を応用してDIDを行う"
   ]
  },
  {
   "cell_type": "code",
   "execution_count": 7,
   "id": "5fcec5b3-5079-4ed3-b987-1e7ba7a0791e",
   "metadata": {},
   "outputs": [
    {
     "data": {
      "text/html": [
       "<table class=\"dataframe\">\n",
       "<caption>A grouped_df: 4 × 5</caption>\n",
       "<thead>\n",
       "\t<tr><th scope=col>company</th><th scope=col>LSV</th><th scope=col>year</th><th scope=col>death</th><th scope=col>D1854</th></tr>\n",
       "\t<tr><th scope=col>&lt;chr&gt;</th><th scope=col>&lt;dbl&gt;</th><th scope=col>&lt;chr&gt;</th><th scope=col>&lt;dbl&gt;</th><th scope=col>&lt;dbl&gt;</th></tr>\n",
       "</thead>\n",
       "<tbody>\n",
       "\t<tr><td>Lambeth &amp; Southwark and Vauxhall</td><td>1</td><td>1849</td><td>3904</td><td>0</td></tr>\n",
       "\t<tr><td>Lambeth &amp; Southwark and Vauxhall</td><td>1</td><td>1854</td><td>2547</td><td>1</td></tr>\n",
       "\t<tr><td>Southwark and Vauxhall          </td><td>0</td><td>1849</td><td>2261</td><td>0</td></tr>\n",
       "\t<tr><td>Southwark and Vauxhall          </td><td>0</td><td>1854</td><td>2458</td><td>1</td></tr>\n",
       "</tbody>\n",
       "</table>\n"
      ],
      "text/latex": [
       "A grouped\\_df: 4 × 5\n",
       "\\begin{tabular}{lllll}\n",
       " company & LSV & year & death & D1854\\\\\n",
       " <chr> & <dbl> & <chr> & <dbl> & <dbl>\\\\\n",
       "\\hline\n",
       "\t Lambeth \\& Southwark and Vauxhall & 1 & 1849 & 3904 & 0\\\\\n",
       "\t Lambeth \\& Southwark and Vauxhall & 1 & 1854 & 2547 & 1\\\\\n",
       "\t Southwark and Vauxhall           & 0 & 1849 & 2261 & 0\\\\\n",
       "\t Southwark and Vauxhall           & 0 & 1854 & 2458 & 1\\\\\n",
       "\\end{tabular}\n"
      ],
      "text/markdown": [
       "\n",
       "A grouped_df: 4 × 5\n",
       "\n",
       "| company &lt;chr&gt; | LSV &lt;dbl&gt; | year &lt;chr&gt; | death &lt;dbl&gt; | D1854 &lt;dbl&gt; |\n",
       "|---|---|---|---|---|\n",
       "| Lambeth &amp; Southwark and Vauxhall | 1 | 1849 | 3904 | 0 |\n",
       "| Lambeth &amp; Southwark and Vauxhall | 1 | 1854 | 2547 | 1 |\n",
       "| Southwark and Vauxhall           | 0 | 1849 | 2261 | 0 |\n",
       "| Southwark and Vauxhall           | 0 | 1854 | 2458 | 1 |\n",
       "\n"
      ],
      "text/plain": [
       "  company                          LSV year death D1854\n",
       "1 Lambeth & Southwark and Vauxhall 1   1849 3904  0    \n",
       "2 Lambeth & Southwark and Vauxhall 1   1854 2547  1    \n",
       "3 Southwark and Vauxhall           0   1849 2261  0    \n",
       "4 Southwark and Vauxhall           0   1854 2458  1    "
      ]
     },
     "metadata": {},
     "output_type": "display_data"
    }
   ],
   "source": [
    "JS_sum %>%\n",
    "  mutate(D1854 = if_else(year == 1854, 1, 0))\n",
    "# この4サンプルを回帰することでdidみたいなことを行うことができる"
   ]
  },
  {
   "cell_type": "markdown",
   "id": "4817d6e5-d202-4ef0-be45-a18e03e663fd",
   "metadata": {},
   "source": [
    "$$death =  \\beta_0 + \\beta_1 LSV +  \\beta_2 D1854 +  \\beta_3 D1854 * LSV$$\n",
    "で4サンプルを表現できる。\n",
    "\n",
    "* $\\beta_0$にはすべてが0の場合、つまりSouthwark and Vauxhall社かつ、1849年のときの感染者数が現れる。\n",
    "* $\\beta_1$には、1849年における、Lambeth & Southwark and Vauxhall社とSouthwark and Vauxhall社の差が現れる。\n",
    "* $\\beta_2$には、Southwark and Vauxhall社における、1845→1854年の感染者数の変化が現れる。\n",
    "* $\\beta_3$には、DIDによってもとめた、Lambeth & Southwark and Vauxhall社の感染者数の減り方(？)と同じ物が出てくる\n",
    "\n",
    "3次元に平行四辺形を張るイメージ"
   ]
  },
  {
   "cell_type": "code",
   "execution_count": 8,
   "id": "791f3ce0-9db0-4e90-86cd-cc3fe7863fa2",
   "metadata": {},
   "outputs": [
    {
     "data": {
      "text/html": [
       "<table class=\"dataframe\">\n",
       "<caption>A tibble: 4 × 5</caption>\n",
       "<thead>\n",
       "\t<tr><th scope=col>term</th><th scope=col>estimate</th><th scope=col>std.error</th><th scope=col>statistic</th><th scope=col>p.value</th></tr>\n",
       "\t<tr><th scope=col>&lt;chr&gt;</th><th scope=col>&lt;dbl&gt;</th><th scope=col>&lt;dbl&gt;</th><th scope=col>&lt;dbl&gt;</th><th scope=col>&lt;dbl&gt;</th></tr>\n",
       "</thead>\n",
       "<tbody>\n",
       "\t<tr><td>(Intercept)</td><td> 2261</td><td>NaN</td><td>NaN</td><td>NaN</td></tr>\n",
       "\t<tr><td>LSV        </td><td> 1643</td><td>NaN</td><td>NaN</td><td>NaN</td></tr>\n",
       "\t<tr><td>D1854      </td><td>  197</td><td>NaN</td><td>NaN</td><td>NaN</td></tr>\n",
       "\t<tr><td>LSV:D1854  </td><td>-1554</td><td>NaN</td><td>NaN</td><td>NaN</td></tr>\n",
       "</tbody>\n",
       "</table>\n"
      ],
      "text/latex": [
       "A tibble: 4 × 5\n",
       "\\begin{tabular}{lllll}\n",
       " term & estimate & std.error & statistic & p.value\\\\\n",
       " <chr> & <dbl> & <dbl> & <dbl> & <dbl>\\\\\n",
       "\\hline\n",
       "\t (Intercept) &  2261 & NaN & NaN & NaN\\\\\n",
       "\t LSV         &  1643 & NaN & NaN & NaN\\\\\n",
       "\t D1854       &   197 & NaN & NaN & NaN\\\\\n",
       "\t LSV:D1854   & -1554 & NaN & NaN & NaN\\\\\n",
       "\\end{tabular}\n"
      ],
      "text/markdown": [
       "\n",
       "A tibble: 4 × 5\n",
       "\n",
       "| term &lt;chr&gt; | estimate &lt;dbl&gt; | std.error &lt;dbl&gt; | statistic &lt;dbl&gt; | p.value &lt;dbl&gt; |\n",
       "|---|---|---|---|---|\n",
       "| (Intercept) |  2261 | NaN | NaN | NaN |\n",
       "| LSV         |  1643 | NaN | NaN | NaN |\n",
       "| D1854       |   197 | NaN | NaN | NaN |\n",
       "| LSV:D1854   | -1554 | NaN | NaN | NaN |\n",
       "\n"
      ],
      "text/plain": [
       "  term        estimate std.error statistic p.value\n",
       "1 (Intercept)  2261    NaN       NaN       NaN    \n",
       "2 LSV          1643    NaN       NaN       NaN    \n",
       "3 D1854         197    NaN       NaN       NaN    \n",
       "4 LSV:D1854   -1554    NaN       NaN       NaN    "
      ]
     },
     "metadata": {},
     "output_type": "display_data"
    }
   ],
   "source": [
    "# (4) 回帰分析を用いたDID\n",
    "## Difference in Difference\n",
    "JS_did <- JS_sum %>%\n",
    "  mutate(D1854 = if_else(year == 1854, 1, 0)) %>%\n",
    "  lm(data = ., death ~ LSV + D1854 + D1854:LSV) %>%\n",
    "  tidy()\n",
    "JS_did\n",
    "# これでDIDを行えるのは楽！"
   ]
  },
  {
   "cell_type": "code",
   "execution_count": null,
   "id": "c8202368-6481-4967-a9be-f0908288e225",
   "metadata": {},
   "outputs": [],
   "source": []
  },
  {
   "cell_type": "code",
   "execution_count": 9,
   "id": "4ce74a2f-21e8-4532-9598-d9f5e58537ee",
   "metadata": {},
   "outputs": [
    {
     "data": {
      "text/html": [
       "<table class=\"dataframe\">\n",
       "<caption>A tibble: 4 × 5</caption>\n",
       "<thead>\n",
       "\t<tr><th scope=col>term</th><th scope=col>estimate</th><th scope=col>std.error</th><th scope=col>statistic</th><th scope=col>p.value</th></tr>\n",
       "\t<tr><th scope=col>&lt;chr&gt;</th><th scope=col>&lt;dbl&gt;</th><th scope=col>&lt;dbl&gt;</th><th scope=col>&lt;dbl&gt;</th><th scope=col>&lt;dbl&gt;</th></tr>\n",
       "</thead>\n",
       "<tbody>\n",
       "\t<tr><td>(Intercept)</td><td> 7.72356247</td><td>NaN</td><td>NaN</td><td>NaN</td></tr>\n",
       "\t<tr><td>LSV        </td><td> 0.54619448</td><td>NaN</td><td>NaN</td><td>NaN</td></tr>\n",
       "\t<tr><td>D1854      </td><td> 0.08354082</td><td>NaN</td><td>NaN</td><td>NaN</td></tr>\n",
       "\t<tr><td>LSV:D1854  </td><td>-0.51062629</td><td>NaN</td><td>NaN</td><td>NaN</td></tr>\n",
       "</tbody>\n",
       "</table>\n"
      ],
      "text/latex": [
       "A tibble: 4 × 5\n",
       "\\begin{tabular}{lllll}\n",
       " term & estimate & std.error & statistic & p.value\\\\\n",
       " <chr> & <dbl> & <dbl> & <dbl> & <dbl>\\\\\n",
       "\\hline\n",
       "\t (Intercept) &  7.72356247 & NaN & NaN & NaN\\\\\n",
       "\t LSV         &  0.54619448 & NaN & NaN & NaN\\\\\n",
       "\t D1854       &  0.08354082 & NaN & NaN & NaN\\\\\n",
       "\t LSV:D1854   & -0.51062629 & NaN & NaN & NaN\\\\\n",
       "\\end{tabular}\n"
      ],
      "text/markdown": [
       "\n",
       "A tibble: 4 × 5\n",
       "\n",
       "| term &lt;chr&gt; | estimate &lt;dbl&gt; | std.error &lt;dbl&gt; | statistic &lt;dbl&gt; | p.value &lt;dbl&gt; |\n",
       "|---|---|---|---|---|\n",
       "| (Intercept) |  7.72356247 | NaN | NaN | NaN |\n",
       "| LSV         |  0.54619448 | NaN | NaN | NaN |\n",
       "| D1854       |  0.08354082 | NaN | NaN | NaN |\n",
       "| LSV:D1854   | -0.51062629 | NaN | NaN | NaN |\n",
       "\n"
      ],
      "text/plain": [
       "  term        estimate    std.error statistic p.value\n",
       "1 (Intercept)  7.72356247 NaN       NaN       NaN    \n",
       "2 LSV          0.54619448 NaN       NaN       NaN    \n",
       "3 D1854        0.08354082 NaN       NaN       NaN    \n",
       "4 LSV:D1854   -0.51062629 NaN       NaN       NaN    "
      ]
     },
     "metadata": {},
     "output_type": "display_data"
    }
   ],
   "source": [
    "## 時間による効果は比率として表したほうが妥当であるという議論があったので、目的変数に対数をとって比率の場合の効果量を求める\n",
    "## Difference in Difference(log)\n",
    "JS_did_log <- JS_sum %>%\n",
    "  mutate(D1854 = if_else(year == 1854, 1, 0)) %>%\n",
    "  lm(data = ., log(death) ~ LSV + D1854 + D1854:LSV) %>%\n",
    "  tidy()\n",
    "JS_did_log"
   ]
  },
  {
   "cell_type": "code",
   "execution_count": 10,
   "id": "66c1eeeb-73f4-49ea-b0de-d4810712de62",
   "metadata": {},
   "outputs": [
    {
     "data": {
      "text/html": [
       "<table class=\"dataframe\">\n",
       "<caption>A tibble: 4 × 5</caption>\n",
       "<thead>\n",
       "\t<tr><th scope=col>term</th><th scope=col>estimate</th><th scope=col>std.error</th><th scope=col>statistic</th><th scope=col>p.value</th></tr>\n",
       "\t<tr><th scope=col>&lt;chr&gt;</th><th scope=col>&lt;dbl&gt;</th><th scope=col>&lt;dbl&gt;</th><th scope=col>&lt;dbl&gt;</th><th scope=col>&lt;dbl&gt;</th></tr>\n",
       "</thead>\n",
       "<tbody>\n",
       "\t<tr><td>(Intercept)</td><td> 132.79167</td><td>45.72692</td><td> 2.9040148</td><td>0.007420253</td></tr>\n",
       "\t<tr><td>LSV        </td><td>  94.11458</td><td>64.35598</td><td> 1.4624061</td><td>0.155613541</td></tr>\n",
       "\t<tr><td>D1854      </td><td>  16.41667</td><td>25.36473</td><td> 0.6472241</td><td>0.523160787</td></tr>\n",
       "\t<tr><td>LSV:D1854  </td><td>-101.22917</td><td>33.55439</td><td>-3.0168681</td><td>0.005649081</td></tr>\n",
       "</tbody>\n",
       "</table>\n"
      ],
      "text/latex": [
       "A tibble: 4 × 5\n",
       "\\begin{tabular}{lllll}\n",
       " term & estimate & std.error & statistic & p.value\\\\\n",
       " <chr> & <dbl> & <dbl> & <dbl> & <dbl>\\\\\n",
       "\\hline\n",
       "\t (Intercept) &  132.79167 & 45.72692 &  2.9040148 & 0.007420253\\\\\n",
       "\t LSV         &   94.11458 & 64.35598 &  1.4624061 & 0.155613541\\\\\n",
       "\t D1854       &   16.41667 & 25.36473 &  0.6472241 & 0.523160787\\\\\n",
       "\t LSV:D1854   & -101.22917 & 33.55439 & -3.0168681 & 0.005649081\\\\\n",
       "\\end{tabular}\n"
      ],
      "text/markdown": [
       "\n",
       "A tibble: 4 × 5\n",
       "\n",
       "| term &lt;chr&gt; | estimate &lt;dbl&gt; | std.error &lt;dbl&gt; | statistic &lt;dbl&gt; | p.value &lt;dbl&gt; |\n",
       "|---|---|---|---|---|\n",
       "| (Intercept) |  132.79167 | 45.72692 |  2.9040148 | 0.007420253 |\n",
       "| LSV         |   94.11458 | 64.35598 |  1.4624061 | 0.155613541 |\n",
       "| D1854       |   16.41667 | 25.36473 |  0.6472241 | 0.523160787 |\n",
       "| LSV:D1854   | -101.22917 | 33.55439 | -3.0168681 | 0.005649081 |\n",
       "\n"
      ],
      "text/plain": [
       "  term        estimate   std.error statistic  p.value    \n",
       "1 (Intercept)  132.79167 45.72692   2.9040148 0.007420253\n",
       "2 LSV           94.11458 64.35598   1.4624061 0.155613541\n",
       "3 D1854         16.41667 25.36473   0.6472241 0.523160787\n",
       "4 LSV:D1854   -101.22917 33.55439  -3.0168681 0.005649081"
      ]
     },
     "metadata": {},
     "output_type": "display_data"
    },
    {
     "data": {
      "text/html": [
       "<table class=\"dataframe\">\n",
       "<caption>A tibble: 4 × 5</caption>\n",
       "<thead>\n",
       "\t<tr><th scope=col>term</th><th scope=col>estimate</th><th scope=col>std.error</th><th scope=col>statistic</th><th scope=col>p.value</th></tr>\n",
       "\t<tr><th scope=col>&lt;chr&gt;</th><th scope=col>&lt;dbl&gt;</th><th scope=col>&lt;dbl&gt;</th><th scope=col>&lt;dbl&gt;</th><th scope=col>&lt;dbl&gt;</th></tr>\n",
       "</thead>\n",
       "<tbody>\n",
       "\t<tr><td>(Intercept)</td><td> 4.88863746</td><td>0.2398049</td><td>20.3858917</td><td>1.629158e-17</td></tr>\n",
       "\t<tr><td>LSV        </td><td> 0.49373658</td><td>0.3375010</td><td> 1.4629189</td><td>1.554742e-01</td></tr>\n",
       "\t<tr><td>D1854      </td><td> 0.07391884</td><td>0.1330198</td><td> 0.5556979</td><td>5.831681e-01</td></tr>\n",
       "\t<tr><td>LSV:D1854  </td><td>-0.56610166</td><td>0.1759687</td><td>-3.2170585</td><td>3.453469e-03</td></tr>\n",
       "</tbody>\n",
       "</table>\n"
      ],
      "text/latex": [
       "A tibble: 4 × 5\n",
       "\\begin{tabular}{lllll}\n",
       " term & estimate & std.error & statistic & p.value\\\\\n",
       " <chr> & <dbl> & <dbl> & <dbl> & <dbl>\\\\\n",
       "\\hline\n",
       "\t (Intercept) &  4.88863746 & 0.2398049 & 20.3858917 & 1.629158e-17\\\\\n",
       "\t LSV         &  0.49373658 & 0.3375010 &  1.4629189 & 1.554742e-01\\\\\n",
       "\t D1854       &  0.07391884 & 0.1330198 &  0.5556979 & 5.831681e-01\\\\\n",
       "\t LSV:D1854   & -0.56610166 & 0.1759687 & -3.2170585 & 3.453469e-03\\\\\n",
       "\\end{tabular}\n"
      ],
      "text/markdown": [
       "\n",
       "A tibble: 4 × 5\n",
       "\n",
       "| term &lt;chr&gt; | estimate &lt;dbl&gt; | std.error &lt;dbl&gt; | statistic &lt;dbl&gt; | p.value &lt;dbl&gt; |\n",
       "|---|---|---|---|---|\n",
       "| (Intercept) |  4.88863746 | 0.2398049 | 20.3858917 | 1.629158e-17 |\n",
       "| LSV         |  0.49373658 | 0.3375010 |  1.4629189 | 1.554742e-01 |\n",
       "| D1854       |  0.07391884 | 0.1330198 |  0.5556979 | 5.831681e-01 |\n",
       "| LSV:D1854   | -0.56610166 | 0.1759687 | -3.2170585 | 3.453469e-03 |\n",
       "\n"
      ],
      "text/plain": [
       "  term        estimate    std.error statistic  p.value     \n",
       "1 (Intercept)  4.88863746 0.2398049 20.3858917 1.629158e-17\n",
       "2 LSV          0.49373658 0.3375010  1.4629189 1.554742e-01\n",
       "3 D1854        0.07391884 0.1330198  0.5556979 5.831681e-01\n",
       "4 LSV:D1854   -0.56610166 0.1759687 -3.2170585 3.453469e-03"
      ]
     },
     "metadata": {},
     "output_type": "display_data"
    }
   ],
   "source": [
    "# エリアも説明変数に加えてみよう\n",
    "## Difference in Difference(エリア単位)\n",
    "JS_did_area <- JS_df %>%\n",
    "  mutate(D1854 = if_else(year == 1854, 1, 0)) %>%\n",
    "  lm(data = ., death ~ LSV + area + D1854 + D1854:LSV) %>%\n",
    "  tidy() %>%\n",
    "  filter(!str_detect(term, \"area\"))\n",
    "\n",
    "## Difference in Difference(州単位、log)\n",
    "JS_did_area_log <- JS_df %>%\n",
    "  mutate(D1854 = if_else(year == 1854, 1, 0)) %>%\n",
    "  lm(data = ., log(death) ~ LSV + area + D1854 + D1854:LSV) %>%\n",
    "  tidy() %>%\n",
    "  filter(!str_detect(term, \"area\"))\n",
    "\n",
    "JS_did_area #各エリアで平均して100人程度感染者数が減っている となった (地域を集約していたのバイアスが除かれたイメージ)\n",
    "\n",
    "JS_did_area_log # 率としては半分ぐらい.すごい！"
   ]
  },
  {
   "cell_type": "code",
   "execution_count": null,
   "id": "d8ed062d-167e-4e80-aa8c-e9ec769e46ca",
   "metadata": {},
   "outputs": [],
   "source": []
  },
  {
   "cell_type": "markdown",
   "id": "6e05cf69-c14d-4339-bcc1-b5e57d0e57ae",
   "metadata": {},
   "source": [
    "DIDにおける標準偏差とかの話は難しくてよくわからなかった"
   ]
  },
  {
   "cell_type": "markdown",
   "id": "db621483-fabf-4041-8a76-f33a5def4414",
   "metadata": {},
   "source": [
    "### 大規模禁煙キャンペーンがもたらすタバコの売上への影響"
   ]
  },
  {
   "cell_type": "code",
   "execution_count": null,
   "id": "c39fc060-a387-4390-a251-0aff0ed2dfc6",
   "metadata": {},
   "outputs": [],
   "source": []
  }
 ],
 "metadata": {
  "kernelspec": {
   "display_name": "R",
   "language": "R",
   "name": "ir"
  },
  "language_info": {
   "codemirror_mode": "r",
   "file_extension": ".r",
   "mimetype": "text/x-r-source",
   "name": "R",
   "pygments_lexer": "r",
   "version": "4.1.0"
  }
 },
 "nbformat": 4,
 "nbformat_minor": 5
}
