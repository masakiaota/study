{
 "cells": [
  {
   "cell_type": "code",
   "execution_count": 1,
   "id": "727ed56c-8be0-4f17-a9f2-446062d9499d",
   "metadata": {},
   "outputs": [
    {
     "name": "stderr",
     "output_type": "stream",
     "text": [
      "── \u001b[1mAttaching packages\u001b[22m ───────────────────────────────────────────────────────────────────────────────────────────────────────────────────────────────────────────────────────────────────────────────────── tidyverse 1.3.1 ──\n",
      "\n",
      "\u001b[32m✔\u001b[39m \u001b[34mggplot2\u001b[39m 3.3.5     \u001b[32m✔\u001b[39m \u001b[34mpurrr  \u001b[39m 0.3.4\n",
      "\u001b[32m✔\u001b[39m \u001b[34mtibble \u001b[39m 3.1.3     \u001b[32m✔\u001b[39m \u001b[34mdplyr  \u001b[39m 1.0.7\n",
      "\u001b[32m✔\u001b[39m \u001b[34mtidyr  \u001b[39m 1.1.3     \u001b[32m✔\u001b[39m \u001b[34mstringr\u001b[39m 1.4.0\n",
      "\u001b[32m✔\u001b[39m \u001b[34mreadr  \u001b[39m 2.0.0     \u001b[32m✔\u001b[39m \u001b[34mforcats\u001b[39m 0.5.1\n",
      "\n",
      "── \u001b[1mConflicts\u001b[22m ──────────────────────────────────────────────────────────────────────────────────────────────────────────────────────────────────────────────────────────────────────────────────────── tidyverse_conflicts() ──\n",
      "\u001b[31m✖\u001b[39m \u001b[34mdplyr\u001b[39m::\u001b[32mfilter()\u001b[39m masks \u001b[34mstats\u001b[39m::filter()\n",
      "\u001b[31m✖\u001b[39m \u001b[34mdplyr\u001b[39m::\u001b[32mlag()\u001b[39m    masks \u001b[34mstats\u001b[39m::lag()\n",
      "\n"
     ]
    }
   ],
   "source": [
    "# (1) ライブラリの読み出し\n",
    "library(\"tidyverse\")\n",
    "library(\"broom\")"
   ]
  },
  {
   "cell_type": "code",
   "execution_count": 2,
   "id": "33ded4e6-e78a-4efb-a405-95520f406642",
   "metadata": {},
   "outputs": [
    {
     "name": "stderr",
     "output_type": "stream",
     "text": [
      "\u001b[1m\u001b[1mRows: \u001b[1m\u001b[22m\u001b[34m\u001b[34m64000\u001b[34m\u001b[39m \u001b[1m\u001b[1mColumns: \u001b[1m\u001b[22m\u001b[34m\u001b[34m12\u001b[34m\u001b[39m\n",
      "\n",
      "\u001b[36m──\u001b[39m \u001b[1m\u001b[1mColumn specification\u001b[1m\u001b[22m \u001b[36m──────────────────────────────────────────────────────────────────────────────────────────────────────────────────────────────────────────────────────────────────────────────────────────────────────\u001b[39m\n",
      "\u001b[1mDelimiter:\u001b[22m \",\"\n",
      "\u001b[31mchr\u001b[39m (4): history_segment, zip_code, channel, segment\n",
      "\u001b[32mdbl\u001b[39m (8): recency, history, mens, womens, newbie, visit, conversion, spend\n",
      "\n",
      "\n",
      "\u001b[36mℹ\u001b[39m Use \u001b[30m\u001b[47m\u001b[30m\u001b[47m`spec()`\u001b[47m\u001b[30m\u001b[49m\u001b[39m to retrieve the full column specification for this data.\n",
      "\u001b[36mℹ\u001b[39m Specify the column types or set \u001b[30m\u001b[47m\u001b[30m\u001b[47m`show_col_types = FALSE`\u001b[47m\u001b[30m\u001b[49m\u001b[39m to quiet this message.\n",
      "\n"
     ]
    },
    {
     "data": {
      "text/html": [
       "<table class=\"dataframe\">\n",
       "<caption>A tibble: 6 × 14</caption>\n",
       "<thead>\n",
       "\t<tr><th scope=col>recency</th><th scope=col>history_segment</th><th scope=col>history</th><th scope=col>mens</th><th scope=col>womens</th><th scope=col>zip_code</th><th scope=col>newbie</th><th scope=col>channel</th><th scope=col>segment</th><th scope=col>visit</th><th scope=col>conversion</th><th scope=col>spend</th><th scope=col>treatment</th><th scope=col>history_log</th></tr>\n",
       "\t<tr><th scope=col>&lt;dbl&gt;</th><th scope=col>&lt;chr&gt;</th><th scope=col>&lt;dbl&gt;</th><th scope=col>&lt;dbl&gt;</th><th scope=col>&lt;dbl&gt;</th><th scope=col>&lt;chr&gt;</th><th scope=col>&lt;dbl&gt;</th><th scope=col>&lt;chr&gt;</th><th scope=col>&lt;chr&gt;</th><th scope=col>&lt;dbl&gt;</th><th scope=col>&lt;dbl&gt;</th><th scope=col>&lt;dbl&gt;</th><th scope=col>&lt;dbl&gt;</th><th scope=col>&lt;dbl&gt;</th></tr>\n",
       "</thead>\n",
       "<tbody>\n",
       "\t<tr><td>6</td><td>3) $200 - $350</td><td>329.08</td><td>1</td><td>1</td><td>Rural</td><td>1</td><td>Web         </td><td>No E-Mail  </td><td>0</td><td>0</td><td>0</td><td>0</td><td>5.796301</td></tr>\n",
       "\t<tr><td>9</td><td>5) $500 - $750</td><td>675.83</td><td>1</td><td>0</td><td>Rural</td><td>1</td><td>Web         </td><td>Mens E-Mail</td><td>0</td><td>0</td><td>0</td><td>1</td><td>6.515942</td></tr>\n",
       "\t<tr><td>9</td><td>5) $500 - $750</td><td>675.07</td><td>1</td><td>1</td><td>Rural</td><td>1</td><td>Phone       </td><td>Mens E-Mail</td><td>0</td><td>0</td><td>0</td><td>1</td><td>6.514816</td></tr>\n",
       "\t<tr><td>2</td><td>2) $100 - $200</td><td>101.64</td><td>0</td><td>1</td><td>Urban</td><td>0</td><td>Web         </td><td>Mens E-Mail</td><td>1</td><td>0</td><td>0</td><td>1</td><td>4.621437</td></tr>\n",
       "\t<tr><td>4</td><td>3) $200 - $350</td><td>241.42</td><td>0</td><td>1</td><td>Rural</td><td>1</td><td>Multichannel</td><td>No E-Mail  </td><td>0</td><td>0</td><td>0</td><td>0</td><td>5.486538</td></tr>\n",
       "\t<tr><td>3</td><td>1) $0 - $100  </td><td> 58.13</td><td>1</td><td>0</td><td>Urban</td><td>1</td><td>Web         </td><td>No E-Mail  </td><td>1</td><td>0</td><td>0</td><td>0</td><td>4.062682</td></tr>\n",
       "</tbody>\n",
       "</table>\n"
      ],
      "text/latex": [
       "A tibble: 6 × 14\n",
       "\\begin{tabular}{llllllllllllll}\n",
       " recency & history\\_segment & history & mens & womens & zip\\_code & newbie & channel & segment & visit & conversion & spend & treatment & history\\_log\\\\\n",
       " <dbl> & <chr> & <dbl> & <dbl> & <dbl> & <chr> & <dbl> & <chr> & <chr> & <dbl> & <dbl> & <dbl> & <dbl> & <dbl>\\\\\n",
       "\\hline\n",
       "\t 6 & 3) \\$200 - \\$350 & 329.08 & 1 & 1 & Rural & 1 & Web          & No E-Mail   & 0 & 0 & 0 & 0 & 5.796301\\\\\n",
       "\t 9 & 5) \\$500 - \\$750 & 675.83 & 1 & 0 & Rural & 1 & Web          & Mens E-Mail & 0 & 0 & 0 & 1 & 6.515942\\\\\n",
       "\t 9 & 5) \\$500 - \\$750 & 675.07 & 1 & 1 & Rural & 1 & Phone        & Mens E-Mail & 0 & 0 & 0 & 1 & 6.514816\\\\\n",
       "\t 2 & 2) \\$100 - \\$200 & 101.64 & 0 & 1 & Urban & 0 & Web          & Mens E-Mail & 1 & 0 & 0 & 1 & 4.621437\\\\\n",
       "\t 4 & 3) \\$200 - \\$350 & 241.42 & 0 & 1 & Rural & 1 & Multichannel & No E-Mail   & 0 & 0 & 0 & 0 & 5.486538\\\\\n",
       "\t 3 & 1) \\$0 - \\$100   &  58.13 & 1 & 0 & Urban & 1 & Web          & No E-Mail   & 1 & 0 & 0 & 0 & 4.062682\\\\\n",
       "\\end{tabular}\n"
      ],
      "text/markdown": [
       "\n",
       "A tibble: 6 × 14\n",
       "\n",
       "| recency &lt;dbl&gt; | history_segment &lt;chr&gt; | history &lt;dbl&gt; | mens &lt;dbl&gt; | womens &lt;dbl&gt; | zip_code &lt;chr&gt; | newbie &lt;dbl&gt; | channel &lt;chr&gt; | segment &lt;chr&gt; | visit &lt;dbl&gt; | conversion &lt;dbl&gt; | spend &lt;dbl&gt; | treatment &lt;dbl&gt; | history_log &lt;dbl&gt; |\n",
       "|---|---|---|---|---|---|---|---|---|---|---|---|---|---|\n",
       "| 6 | 3) $200 - $350 | 329.08 | 1 | 1 | Rural | 1 | Web          | No E-Mail   | 0 | 0 | 0 | 0 | 5.796301 |\n",
       "| 9 | 5) $500 - $750 | 675.83 | 1 | 0 | Rural | 1 | Web          | Mens E-Mail | 0 | 0 | 0 | 1 | 6.515942 |\n",
       "| 9 | 5) $500 - $750 | 675.07 | 1 | 1 | Rural | 1 | Phone        | Mens E-Mail | 0 | 0 | 0 | 1 | 6.514816 |\n",
       "| 2 | 2) $100 - $200 | 101.64 | 0 | 1 | Urban | 0 | Web          | Mens E-Mail | 1 | 0 | 0 | 1 | 4.621437 |\n",
       "| 4 | 3) $200 - $350 | 241.42 | 0 | 1 | Rural | 1 | Multichannel | No E-Mail   | 0 | 0 | 0 | 0 | 5.486538 |\n",
       "| 3 | 1) $0 - $100   |  58.13 | 1 | 0 | Urban | 1 | Web          | No E-Mail   | 1 | 0 | 0 | 0 | 4.062682 |\n",
       "\n"
      ],
      "text/plain": [
       "  recency history_segment history mens womens zip_code newbie channel     \n",
       "1 6       3) $200 - $350  329.08  1    1      Rural    1      Web         \n",
       "2 9       5) $500 - $750  675.83  1    0      Rural    1      Web         \n",
       "3 9       5) $500 - $750  675.07  1    1      Rural    1      Phone       \n",
       "4 2       2) $100 - $200  101.64  0    1      Urban    0      Web         \n",
       "5 4       3) $200 - $350  241.42  0    1      Rural    1      Multichannel\n",
       "6 3       1) $0 - $100     58.13  1    0      Urban    1      Web         \n",
       "  segment     visit conversion spend treatment history_log\n",
       "1 No E-Mail   0     0          0     0         5.796301   \n",
       "2 Mens E-Mail 0     0          0     1         6.515942   \n",
       "3 Mens E-Mail 0     0          0     1         6.514816   \n",
       "4 Mens E-Mail 1     0          0     1         4.621437   \n",
       "5 No E-Mail   0     0          0     0         5.486538   \n",
       "6 No E-Mail   1     0          0     0         4.062682   "
      ]
     },
     "metadata": {},
     "output_type": "display_data"
    }
   ],
   "source": [
    "# (2) データの読み込み\n",
    "email_data <- read_csv(\"http://www.minethatdata.com/Kevin_Hillstrom_MineThatData_E-MailAnalytics_DataMiningChallenge_2008.03.20.csv\")\n",
    "\n",
    "# (3) ルールによるメールの配信を行ったログを作成\n",
    "## データの整形とrunning variableの追加\n",
    "male_data <- email_data %>%\n",
    "  filter(segment %in% c(\"Mens E-Mail\",\"No E-Mail\")) %>%\n",
    "  mutate(treatment = ifelse(segment == \"Mens E-Mail\", 1, 0),\n",
    "         history_log = log(history))\n",
    "\n",
    "male_data |> head()"
   ]
  },
  {
   "cell_type": "code",
   "execution_count": 3,
   "id": "f26a49ce-80a1-42fd-9e9a-7258208a5014",
   "metadata": {},
   "outputs": [
    {
     "data": {
      "text/html": [
       "<table class=\"dataframe\">\n",
       "<caption>A tibble: 6 × 15</caption>\n",
       "<thead>\n",
       "\t<tr><th scope=col>recency</th><th scope=col>history_segment</th><th scope=col>history</th><th scope=col>mens</th><th scope=col>womens</th><th scope=col>zip_code</th><th scope=col>newbie</th><th scope=col>channel</th><th scope=col>segment</th><th scope=col>visit</th><th scope=col>conversion</th><th scope=col>spend</th><th scope=col>treatment</th><th scope=col>history_log</th><th scope=col>history_log_grp</th></tr>\n",
       "\t<tr><th scope=col>&lt;dbl&gt;</th><th scope=col>&lt;chr&gt;</th><th scope=col>&lt;dbl&gt;</th><th scope=col>&lt;dbl&gt;</th><th scope=col>&lt;dbl&gt;</th><th scope=col>&lt;chr&gt;</th><th scope=col>&lt;dbl&gt;</th><th scope=col>&lt;chr&gt;</th><th scope=col>&lt;chr&gt;</th><th scope=col>&lt;dbl&gt;</th><th scope=col>&lt;dbl&gt;</th><th scope=col>&lt;dbl&gt;</th><th scope=col>&lt;dbl&gt;</th><th scope=col>&lt;dbl&gt;</th><th scope=col>&lt;dbl&gt;</th></tr>\n",
       "</thead>\n",
       "<tbody>\n",
       "\t<tr><td>9</td><td>5) $500 - $750  </td><td>675.83</td><td>1</td><td>0</td><td>Rural    </td><td>1</td><td>Web         </td><td>Mens E-Mail</td><td>0</td><td>0</td><td>0</td><td>1</td><td>6.515942</td><td>6.5</td></tr>\n",
       "\t<tr><td>9</td><td>5) $500 - $750  </td><td>675.07</td><td>1</td><td>1</td><td>Rural    </td><td>1</td><td>Phone       </td><td>Mens E-Mail</td><td>0</td><td>0</td><td>0</td><td>1</td><td>6.514816</td><td>6.5</td></tr>\n",
       "\t<tr><td>4</td><td>3) $200 - $350  </td><td>241.42</td><td>0</td><td>1</td><td>Rural    </td><td>1</td><td>Multichannel</td><td>No E-Mail  </td><td>0</td><td>0</td><td>0</td><td>0</td><td>5.486538</td><td>5.5</td></tr>\n",
       "\t<tr><td>3</td><td>1) $0 - $100    </td><td> 58.13</td><td>1</td><td>0</td><td>Urban    </td><td>1</td><td>Web         </td><td>No E-Mail  </td><td>1</td><td>0</td><td>0</td><td>0</td><td>4.062682</td><td>4.1</td></tr>\n",
       "\t<tr><td>5</td><td>6) $750 - $1,000</td><td>828.42</td><td>1</td><td>0</td><td>Surburban</td><td>1</td><td>Multichannel</td><td>Mens E-Mail</td><td>0</td><td>0</td><td>0</td><td>1</td><td>6.719520</td><td>6.7</td></tr>\n",
       "\t<tr><td>9</td><td>1) $0 - $100    </td><td> 29.99</td><td>0</td><td>1</td><td>Surburban</td><td>1</td><td>Phone       </td><td>No E-Mail  </td><td>0</td><td>0</td><td>0</td><td>0</td><td>3.400864</td><td>3.4</td></tr>\n",
       "</tbody>\n",
       "</table>\n"
      ],
      "text/latex": [
       "A tibble: 6 × 15\n",
       "\\begin{tabular}{lllllllllllllll}\n",
       " recency & history\\_segment & history & mens & womens & zip\\_code & newbie & channel & segment & visit & conversion & spend & treatment & history\\_log & history\\_log\\_grp\\\\\n",
       " <dbl> & <chr> & <dbl> & <dbl> & <dbl> & <chr> & <dbl> & <chr> & <chr> & <dbl> & <dbl> & <dbl> & <dbl> & <dbl> & <dbl>\\\\\n",
       "\\hline\n",
       "\t 9 & 5) \\$500 - \\$750   & 675.83 & 1 & 0 & Rural     & 1 & Web          & Mens E-Mail & 0 & 0 & 0 & 1 & 6.515942 & 6.5\\\\\n",
       "\t 9 & 5) \\$500 - \\$750   & 675.07 & 1 & 1 & Rural     & 1 & Phone        & Mens E-Mail & 0 & 0 & 0 & 1 & 6.514816 & 6.5\\\\\n",
       "\t 4 & 3) \\$200 - \\$350   & 241.42 & 0 & 1 & Rural     & 1 & Multichannel & No E-Mail   & 0 & 0 & 0 & 0 & 5.486538 & 5.5\\\\\n",
       "\t 3 & 1) \\$0 - \\$100     &  58.13 & 1 & 0 & Urban     & 1 & Web          & No E-Mail   & 1 & 0 & 0 & 0 & 4.062682 & 4.1\\\\\n",
       "\t 5 & 6) \\$750 - \\$1,000 & 828.42 & 1 & 0 & Surburban & 1 & Multichannel & Mens E-Mail & 0 & 0 & 0 & 1 & 6.719520 & 6.7\\\\\n",
       "\t 9 & 1) \\$0 - \\$100     &  29.99 & 0 & 1 & Surburban & 1 & Phone        & No E-Mail   & 0 & 0 & 0 & 0 & 3.400864 & 3.4\\\\\n",
       "\\end{tabular}\n"
      ],
      "text/markdown": [
       "\n",
       "A tibble: 6 × 15\n",
       "\n",
       "| recency &lt;dbl&gt; | history_segment &lt;chr&gt; | history &lt;dbl&gt; | mens &lt;dbl&gt; | womens &lt;dbl&gt; | zip_code &lt;chr&gt; | newbie &lt;dbl&gt; | channel &lt;chr&gt; | segment &lt;chr&gt; | visit &lt;dbl&gt; | conversion &lt;dbl&gt; | spend &lt;dbl&gt; | treatment &lt;dbl&gt; | history_log &lt;dbl&gt; | history_log_grp &lt;dbl&gt; |\n",
       "|---|---|---|---|---|---|---|---|---|---|---|---|---|---|---|\n",
       "| 9 | 5) $500 - $750   | 675.83 | 1 | 0 | Rural     | 1 | Web          | Mens E-Mail | 0 | 0 | 0 | 1 | 6.515942 | 6.5 |\n",
       "| 9 | 5) $500 - $750   | 675.07 | 1 | 1 | Rural     | 1 | Phone        | Mens E-Mail | 0 | 0 | 0 | 1 | 6.514816 | 6.5 |\n",
       "| 4 | 3) $200 - $350   | 241.42 | 0 | 1 | Rural     | 1 | Multichannel | No E-Mail   | 0 | 0 | 0 | 0 | 5.486538 | 5.5 |\n",
       "| 3 | 1) $0 - $100     |  58.13 | 1 | 0 | Urban     | 1 | Web          | No E-Mail   | 1 | 0 | 0 | 0 | 4.062682 | 4.1 |\n",
       "| 5 | 6) $750 - $1,000 | 828.42 | 1 | 0 | Surburban | 1 | Multichannel | Mens E-Mail | 0 | 0 | 0 | 1 | 6.719520 | 6.7 |\n",
       "| 9 | 1) $0 - $100     |  29.99 | 0 | 1 | Surburban | 1 | Phone        | No E-Mail   | 0 | 0 | 0 | 0 | 3.400864 | 3.4 |\n",
       "\n"
      ],
      "text/plain": [
       "  recency history_segment  history mens womens zip_code  newbie channel     \n",
       "1 9       5) $500 - $750   675.83  1    0      Rural     1      Web         \n",
       "2 9       5) $500 - $750   675.07  1    1      Rural     1      Phone       \n",
       "3 4       3) $200 - $350   241.42  0    1      Rural     1      Multichannel\n",
       "4 3       1) $0 - $100      58.13  1    0      Urban     1      Web         \n",
       "5 5       6) $750 - $1,000 828.42  1    0      Surburban 1      Multichannel\n",
       "6 9       1) $0 - $100      29.99  0    1      Surburban 1      Phone       \n",
       "  segment     visit conversion spend treatment history_log history_log_grp\n",
       "1 Mens E-Mail 0     0          0     1         6.515942    6.5            \n",
       "2 Mens E-Mail 0     0          0     1         6.514816    6.5            \n",
       "3 No E-Mail   0     0          0     0         5.486538    5.5            \n",
       "4 No E-Mail   1     0          0     0         4.062682    4.1            \n",
       "5 Mens E-Mail 0     0          0     1         6.719520    6.7            \n",
       "6 No E-Mail   0     0          0     0         3.400864    3.4            "
      ]
     },
     "metadata": {},
     "output_type": "display_data"
    }
   ],
   "source": [
    "## cut-off の値を指定\n",
    "threshold_value <- 5.5\n",
    "\n",
    "## ルールによる介入を再現したデータを作成\n",
    "## cut-offよりrunning variableが大きければが配信されたデータのみ残す\n",
    "## 逆の場合には配信されなかったデータのみ残す\n",
    "## running variableを0.1単位で区切ったグループわけの変数も追加しておく\n",
    "rdd_data <- male_data %>%\n",
    "  mutate(history_log_grp = round(history_log/0.1,0)*0.1) %>%\n",
    "  filter(((history_log > threshold_value) &\n",
    "            (segment == \"Mens E-Mail\")) |\n",
    "           (history_log <= threshold_value) &\n",
    "           (segment == \"No E-Mail\"))\n",
    "\n",
    "rdd_data |> head()"
   ]
  },
  {
   "cell_type": "code",
   "execution_count": 4,
   "id": "f070a30b-73b4-42a8-954e-f00c70a15b0a",
   "metadata": {},
   "outputs": [
    {
     "name": "stderr",
     "output_type": "stream",
     "text": [
      "`summarise()` has grouped output by 'history_log_grp'. You can override using the `.groups` argument.\n",
      "\n"
     ]
    },
    {
     "data": {
      "image/png": "[encoded data removed]",
      "text/plain": [
       "plot without title"
      ]
     },
     "metadata": {
      "image/png": {
       "height": 420,
       "width": 420
      }
     },
     "output_type": "display_data"
    }
   ],
   "source": [
    "# (4) RCTデータとRDDデータの傾向の比較\n",
    "## running variableとサイト来訪率のプロット(RCTデータ)\n",
    "male_data %>%\n",
    "  mutate(history_log_grp = round(history_log/0.1,0)*0.1) %>%\n",
    "  group_by(history_log_grp, segment) %>%\n",
    "  summarise(visit = mean(visit),\n",
    "            N = n()) %>%\n",
    "  filter(N > 10) %>%\n",
    "  ggplot(aes(y = visit,\n",
    "             x = history_log_grp,\n",
    "             shape = segment,\n",
    "             size = N)) +\n",
    "  geom_point() +\n",
    "  ylim(0,NA) +\n",
    "  theme_bw() +\n",
    "  xlab(\"log(history)\") +\n",
    "  theme(plot.title = element_text(hjust = 0.5),\n",
    "        legend.position = \"bottom\",\n",
    "        plot.margin = margin(1,2,1,1, \"cm\"))"
   ]
  },
  {
   "cell_type": "code",
   "execution_count": 5,
   "id": "6a47892e-5c57-44dd-9ddf-ae5d293c7bf6",
   "metadata": {},
   "outputs": [
    {
     "name": "stderr",
     "output_type": "stream",
     "text": [
      "`summarise()` has grouped output by 'history_log_grp'. You can override using the `.groups` argument.\n",
      "\n"
     ]
    },
    {
     "data": {
      "image/png": "[encoded data removed]",
      "text/plain": [
       "plot without title"
      ]
     },
     "metadata": {
      "image/png": {
       "height": 420,
       "width": 420
      }
     },
     "output_type": "display_data"
    }
   ],
   "source": [
    "## running variableとサイト来訪率のプロット(RDDデータ)\n",
    "rdd_data %>%\n",
    "  group_by(history_log_grp, segment) %>%\n",
    "  summarise(visit = mean(visit),\n",
    "            N = n()) %>%\n",
    "  filter(N > 10) %>%\n",
    "  ggplot(aes(y = visit,\n",
    "             x = history_log_grp,\n",
    "             shape = segment,\n",
    "             size = N)) +\n",
    "  geom_point() +\n",
    "  geom_vline(xintercept = 5.5, linetype = 2) +\n",
    "  ylim(0,NA) +\n",
    "  theme_bw() +\n",
    "  xlab(\"log(history)\") +\n",
    "  theme(plot.title = element_text(hjust = 0.5),\n",
    "        legend.position = \"bottom\",\n",
    "        plot.margin = margin(1,2,1,1, \"cm\"))"
   ]
  },
  {
   "cell_type": "code",
   "execution_count": 6,
   "id": "ddfb187d-5ae2-4b1a-a907-3a8a9be26650",
   "metadata": {},
   "outputs": [
    {
     "data": {
      "text/html": [
       "<table class=\"dataframe\">\n",
       "<caption>A tibble: 2 × 3</caption>\n",
       "<thead>\n",
       "\t<tr><th scope=col>treatment</th><th scope=col>count</th><th scope=col>visit</th></tr>\n",
       "\t<tr><th scope=col>&lt;dbl&gt;</th><th scope=col>&lt;int&gt;</th><th scope=col>&lt;dbl&gt;</th></tr>\n",
       "</thead>\n",
       "<tbody>\n",
       "\t<tr><td>0</td><td>7167</td><td>0.1212502</td></tr>\n",
       "\t<tr><td>1</td><td>7135</td><td>0.2004205</td></tr>\n",
       "</tbody>\n",
       "</table>\n"
      ],
      "text/latex": [
       "A tibble: 2 × 3\n",
       "\\begin{tabular}{lll}\n",
       " treatment & count & visit\\\\\n",
       " <dbl> & <int> & <dbl>\\\\\n",
       "\\hline\n",
       "\t 0 & 7167 & 0.1212502\\\\\n",
       "\t 1 & 7135 & 0.2004205\\\\\n",
       "\\end{tabular}\n"
      ],
      "text/markdown": [
       "\n",
       "A tibble: 2 × 3\n",
       "\n",
       "| treatment &lt;dbl&gt; | count &lt;int&gt; | visit &lt;dbl&gt; |\n",
       "|---|---|---|\n",
       "| 0 | 7167 | 0.1212502 |\n",
       "| 1 | 7135 | 0.2004205 |\n",
       "\n"
      ],
      "text/plain": [
       "  treatment count visit    \n",
       "1 0         7167  0.1212502\n",
       "2 1         7135  0.2004205"
      ]
     },
     "metadata": {},
     "output_type": "display_data"
    },
    {
     "data": {
      "text/html": [
       "<table class=\"dataframe\">\n",
       "<caption>A tibble: 2 × 3</caption>\n",
       "<thead>\n",
       "\t<tr><th scope=col>treatment</th><th scope=col>count</th><th scope=col>visit_rate</th></tr>\n",
       "\t<tr><th scope=col>&lt;dbl&gt;</th><th scope=col>&lt;int&gt;</th><th scope=col>&lt;dbl&gt;</th></tr>\n",
       "</thead>\n",
       "<tbody>\n",
       "\t<tr><td>0</td><td>13926</td><td>0.09069367</td></tr>\n",
       "\t<tr><td>1</td><td> 7366</td><td>0.22400217</td></tr>\n",
       "</tbody>\n",
       "</table>\n"
      ],
      "text/latex": [
       "A tibble: 2 × 3\n",
       "\\begin{tabular}{lll}\n",
       " treatment & count & visit\\_rate\\\\\n",
       " <dbl> & <int> & <dbl>\\\\\n",
       "\\hline\n",
       "\t 0 & 13926 & 0.09069367\\\\\n",
       "\t 1 &  7366 & 0.22400217\\\\\n",
       "\\end{tabular}\n"
      ],
      "text/markdown": [
       "\n",
       "A tibble: 2 × 3\n",
       "\n",
       "| treatment &lt;dbl&gt; | count &lt;int&gt; | visit_rate &lt;dbl&gt; |\n",
       "|---|---|---|\n",
       "| 0 | 13926 | 0.09069367 |\n",
       "| 1 |  7366 | 0.22400217 |\n",
       "\n"
      ],
      "text/plain": [
       "  treatment count visit_rate\n",
       "1 0         13926 0.09069367\n",
       "2 1          7366 0.22400217"
      ]
     },
     "metadata": {},
     "output_type": "display_data"
    }
   ],
   "source": [
    "# (5) 集計による分析\n",
    "## RCTデータでの比較\n",
    "rct_data_table <- male_data %>%\n",
    "  filter(history_log > 5, history_log < 6) %>%\n",
    "  group_by(treatment) %>%\n",
    "  summarise(count = n(),\n",
    "            visit = mean(visit))\n",
    "## RDDデータでの比較\n",
    "rdd_data_table <- rdd_data %>%\n",
    "  group_by(treatment) %>%\n",
    "  summarise(count = n(),\n",
    "            visit_rate = mean(visit))\n",
    "\n",
    "rct_data_table |> head()\n",
    "rdd_data_table |> head()\n",
    "# RCTによると介入の効果は0.8程度のはずだが、\n",
    "# そうでないデータは1.3程度になってしまっている"
   ]
  },
  {
   "cell_type": "code",
   "execution_count": 7,
   "id": "5efab1b7-08d8-4c46-9522-e8f1fd5601ff",
   "metadata": {},
   "outputs": [
    {
     "data": {
      "text/html": [
       "<table class=\"dataframe\">\n",
       "<caption>A tibble: 1 × 5</caption>\n",
       "<thead>\n",
       "\t<tr><th scope=col>term</th><th scope=col>estimate</th><th scope=col>std.error</th><th scope=col>statistic</th><th scope=col>p.value</th></tr>\n",
       "\t<tr><th scope=col>&lt;chr&gt;</th><th scope=col>&lt;dbl&gt;</th><th scope=col>&lt;dbl&gt;</th><th scope=col>&lt;dbl&gt;</th><th scope=col>&lt;dbl&gt;</th></tr>\n",
       "</thead>\n",
       "<tbody>\n",
       "\t<tr><td>treatment</td><td>0.113672</td><td>0.007982594</td><td>14.23998</td><td>8.400022e-46</td></tr>\n",
       "</tbody>\n",
       "</table>\n"
      ],
      "text/latex": [
       "A tibble: 1 × 5\n",
       "\\begin{tabular}{lllll}\n",
       " term & estimate & std.error & statistic & p.value\\\\\n",
       " <chr> & <dbl> & <dbl> & <dbl> & <dbl>\\\\\n",
       "\\hline\n",
       "\t treatment & 0.113672 & 0.007982594 & 14.23998 & 8.400022e-46\\\\\n",
       "\\end{tabular}\n"
      ],
      "text/markdown": [
       "\n",
       "A tibble: 1 × 5\n",
       "\n",
       "| term &lt;chr&gt; | estimate &lt;dbl&gt; | std.error &lt;dbl&gt; | statistic &lt;dbl&gt; | p.value &lt;dbl&gt; |\n",
       "|---|---|---|---|---|\n",
       "| treatment | 0.113672 | 0.007982594 | 14.23998 | 8.400022e-46 |\n",
       "\n"
      ],
      "text/plain": [
       "  term      estimate std.error   statistic p.value     \n",
       "1 treatment 0.113672 0.007982594 14.23998  8.400022e-46"
      ]
     },
     "metadata": {},
     "output_type": "display_data"
    }
   ],
   "source": [
    "# (6) 回帰分析による分析\n",
    "## 線形回帰による分析\n",
    "rdd_lm_reg <- rdd_data %>%\n",
    "  mutate(treatment = ifelse(segment == \"Mens E-Mail\", 1, 0)) %>%\n",
    "  lm(data = ., formula = visit ~ treatment + history_log) %>%\n",
    "  summary() %>%\n",
    "  tidy() %>%\n",
    "  filter(term == \"treatment\")\n",
    "\n",
    "rdd_lm_reg\n",
    "# 回帰分析を用いると不連続点周辺をある程度重要視して効果を推定してくれる\n",
    "# それでもバイアスがある"
   ]
  },
  {
   "cell_type": "code",
   "execution_count": null,
   "id": "0dc7e7e7-42b8-450b-b75a-5f114d5a6b06",
   "metadata": {},
   "outputs": [],
   "source": []
  },
  {
   "cell_type": "code",
   "execution_count": 8,
   "id": "a69db29a-f932-4a4a-8feb-285c2df83fcc",
   "metadata": {},
   "outputs": [
    {
     "ename": "ERROR",
     "evalue": "Error in library(\"rddtools\"): there is no package called ‘rddtools’\n",
     "output_type": "error",
     "traceback": [
      "Error in library(\"rddtools\"): there is no package called ‘rddtools’\nTraceback:\n",
      "1. library(\"rddtools\")"
     ]
    }
   ],
   "source": [
    "## 非線形回帰による分析\n",
    "library(\"rddtools\")\n",
    "# rddtoolsがinstallできねぇ...どうなってるんだ\n",
    "nonlinear_rdd_data <- rdd_data(y = rdd_data$visit,\n",
    "                               x = rdd_data$history_log,\n",
    "                               cutpoint = 5.5)\n",
    "\n",
    "nonlinear_rdd_ord4 <- rdd_reg_lm(rdd_object=nonlinear_rdd_data, order=4)\n",
    "nonlinear_rdd_ord4\n",
    "plot(nonlinear_rdd_ord4)"
   ]
  },
  {
   "cell_type": "code",
   "execution_count": null,
   "id": "d0678d1e-cb3b-4829-80c6-294d40cf91dc",
   "metadata": {},
   "outputs": [],
   "source": []
  },
  {
   "cell_type": "code",
   "execution_count": 9,
   "id": "a22d0f93-9cae-43ba-8266-68b84626cd31",
   "metadata": {},
   "outputs": [
    {
     "data": {
      "image/png": "[encoded data removed]",
      "text/plain": [
       "plot without title"
      ]
     },
     "metadata": {
      "image/png": {
       "height": 420,
       "width": 420
      }
     },
     "output_type": "display_data"
    }
   ],
   "source": [
    "# (7) 分析に使うデータの幅と分析結果のプロット\n",
    "bound_list <- 2:100/100\n",
    "result_data <- data.frame()\n",
    "for(bound in bound_list){\n",
    "  out_data <- rdd_data %>%\n",
    "    filter(between(history_log, 5.5 - bound, 5.5 + bound)) %>%\n",
    "    group_by(treatment) %>%\n",
    "    summarise(count = n(),\n",
    "              visit_rate = mean(visit),\n",
    "              sd = sd(visit))\n",
    "\n",
    "  late <- out_data$visit_rate[2] - out_data$visit_rate[1]\n",
    "  N <- sum(out_data$count)\n",
    "  se <- sqrt(sum(out_data$visit_rate^2))/sqrt(N)\n",
    "  result_data <- rbind(result_data, data.frame(late, bound, N, se))\n",
    "}\n",
    "\n",
    "result_data %>%\n",
    "  ggplot(aes(y = late,\n",
    "             x = bound)) +\n",
    "  geom_ribbon(aes(ymax = late + 1.96*se,\n",
    "                  ymin = late - 1.96*se), fill = \"grey70\") +\n",
    "  geom_line() +\n",
    "  theme_bw()"
   ]
  },
  {
   "cell_type": "code",
   "execution_count": null,
   "id": "ebcdb631-99ef-439f-960b-42f576204be4",
   "metadata": {},
   "outputs": [],
   "source": []
  },
  {
   "cell_type": "code",
   "execution_count": 10,
   "id": "3f7ad3f3-913f-4a3c-9684-49bd37fef83a",
   "metadata": {},
   "outputs": [
    {
     "ename": "ERROR",
     "evalue": "Error in library(\"rdd\"): there is no package called ‘rdd’\n",
     "output_type": "error",
     "traceback": [
      "Error in library(\"rdd\"): there is no package called ‘rdd’\nTraceback:\n",
      "1. library(\"rdd\")"
     ]
    }
   ],
   "source": [
    "# (8) nonparametric RDD\n",
    "## ライブラリの読み込み\n",
    "library(\"rdd\")\n",
    "# これもなぜかインストールできませんわね\n",
    "\n",
    "## non-parametric RDDの実行\n",
    "rdd_result <- RDestimate(data = rdd_data,\n",
    "                         formula = visit ~ history_log,\n",
    "                         cutpoint = 5.5)\n",
    "\n",
    "## 結果のレポート\n",
    "summary(rdd_result)\n",
    "\n",
    "## 結果のプロット\n",
    "plot(rdd_result)\n",
    "\n",
    "## manipulat\n",
    "DCdensity(runvar = rdd_data %>% pull(history_log),\n",
    "          cutpoint = 5.5,\n",
    "          plot = FALSE)\n"
   ]
  },
  {
   "cell_type": "code",
   "execution_count": null,
   "id": "9368b8db-1c4b-4f85-b451-b761ed193806",
   "metadata": {},
   "outputs": [],
   "source": []
  }
 ],
 "metadata": {
  "kernelspec": {
   "display_name": "R",
   "language": "R",
   "name": "ir"
  },
  "language_info": {
   "codemirror_mode": "r",
   "file_extension": ".r",
   "mimetype": "text/x-r-source",
   "name": "R",
   "pygments_lexer": "r",
   "version": "4.1.0"
  }
 },
 "nbformat": 4,
 "nbformat_minor": 5
}
