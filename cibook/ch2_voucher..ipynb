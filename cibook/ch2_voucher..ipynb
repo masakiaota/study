{
 "cells": [
  {
   "cell_type": "markdown",
   "id": "necessary-millennium",
   "metadata": {},
   "source": [
    "P.67 私立学校の学費の割引に関する分析の追体験\n",
    "\n",
    "このデータの特徴\n",
    "* 介入自体はランダムだが、回答が任意であるためバイアスが入る余地がある(所得が低いと回答したくなくなる)\n"
   ]
  },
  {
   "cell_type": "raw",
   "id": "champion-milwaukee",
   "metadata": {},
   "source": [
    "# (1) 利用するデータを持つライブラリのインストール（初回のみ）\n",
    "# インストール済みなので飛ばす\n",
    "install.packages(\"devtools\")\n",
    "devtools::install_github(\"itamarcaspi/experimentdatar\")"
   ]
  },
  {
   "cell_type": "code",
   "execution_count": 1,
   "id": "instant-documentation",
   "metadata": {},
   "outputs": [
    {
     "name": "stderr",
     "output_type": "stream",
     "text": [
      "── \u001b[1mAttaching packages\u001b[22m ───────────────────────────────────────────────────────────────────────────────────────────────────────────────────────────────────────────────────────────────────────────────────── tidyverse 1.3.1 ──\n",
      "\n",
      "\u001b[32m✔\u001b[39m \u001b[34mggplot2\u001b[39m 3.3.3     \u001b[32m✔\u001b[39m \u001b[34mpurrr  \u001b[39m 0.3.4\n",
      "\u001b[32m✔\u001b[39m \u001b[34mtibble \u001b[39m 3.1.2     \u001b[32m✔\u001b[39m \u001b[34mdplyr  \u001b[39m 1.0.7\n",
      "\u001b[32m✔\u001b[39m \u001b[34mtidyr  \u001b[39m 1.1.3     \u001b[32m✔\u001b[39m \u001b[34mstringr\u001b[39m 1.4.0\n",
      "\u001b[32m✔\u001b[39m \u001b[34mreadr  \u001b[39m 1.4.0     \u001b[32m✔\u001b[39m \u001b[34mforcats\u001b[39m 0.5.1\n",
      "\n",
      "── \u001b[1mConflicts\u001b[22m ──────────────────────────────────────────────────────────────────────────────────────────────────────────────────────────────────────────────────────────────────────────────────────── tidyverse_conflicts() ──\n",
      "\u001b[31m✖\u001b[39m \u001b[34mdplyr\u001b[39m::\u001b[32mfilter()\u001b[39m masks \u001b[34mstats\u001b[39m::filter()\n",
      "\u001b[31m✖\u001b[39m \u001b[34mdplyr\u001b[39m::\u001b[32mlag()\u001b[39m    masks \u001b[34mstats\u001b[39m::lag()\n",
      "\n"
     ]
    }
   ],
   "source": [
    "# (2) ライブラリとデータの読み込み\n",
    "library(\"experimentdatar\")\n",
    "library(\"broom\")\n",
    "library(\"tidyverse\")"
   ]
  },
  {
   "cell_type": "code",
   "execution_count": 2,
   "id": "expired-judge",
   "metadata": {},
   "outputs": [
    {
     "data": {
      "text/html": [
       "<table class=\"dataframe\">\n",
       "<caption>A tibble: 6 × 89</caption>\n",
       "<thead>\n",
       "\t<tr><th scope=col>ID</th><th scope=col>BOG95SMP</th><th scope=col>BOG97SMP</th><th scope=col>JAM93SMP</th><th scope=col>SEX</th><th scope=col>AGE</th><th scope=col>AGE2</th><th scope=col>HSVISIT</th><th scope=col>SCYFNSH</th><th scope=col>INSCHL</th><th scope=col>⋯</th><th scope=col>REPT</th><th scope=col>NREPT</th><th scope=col>FINISH6</th><th scope=col>FINISH7</th><th scope=col>FINISH8</th><th scope=col>SEX_MISS</th><th scope=col>USNGSCH</th><th scope=col>HOURSUM</th><th scope=col>TAB3SMPL</th><th scope=col>WORKING3</th></tr>\n",
       "\t<tr><th scope=col>&lt;dbl&gt;</th><th scope=col>&lt;dbl&gt;</th><th scope=col>&lt;dbl&gt;</th><th scope=col>&lt;dbl&gt;</th><th scope=col>&lt;dbl&gt;</th><th scope=col>&lt;dbl&gt;</th><th scope=col>&lt;dbl&gt;</th><th scope=col>&lt;dbl&gt;</th><th scope=col>&lt;dbl&gt;</th><th scope=col>&lt;dbl&gt;</th><th scope=col>⋯</th><th scope=col>&lt;dbl&gt;</th><th scope=col>&lt;dbl&gt;</th><th scope=col>&lt;dbl&gt;</th><th scope=col>&lt;dbl&gt;</th><th scope=col>&lt;dbl&gt;</th><th scope=col>&lt;dbl&gt;</th><th scope=col>&lt;dbl&gt;</th><th scope=col>&lt;dbl&gt;</th><th scope=col>&lt;dbl&gt;</th><th scope=col>&lt;dbl&gt;</th></tr>\n",
       "</thead>\n",
       "<tbody>\n",
       "\t<tr><td>NA</td><td>0</td><td>0</td><td>0</td><td>NA</td><td>NA</td><td>NA</td><td>NA</td><td>5</td><td>NA</td><td>⋯</td><td>NA</td><td>NA</td><td>NA</td><td>NA</td><td>NA</td><td>NA</td><td>NA</td><td>NA</td><td>NA</td><td>NA</td></tr>\n",
       "\t<tr><td> 1</td><td>0</td><td>0</td><td>0</td><td> 1</td><td>NA</td><td>12</td><td>NA</td><td>5</td><td>NA</td><td>⋯</td><td>NA</td><td>NA</td><td>NA</td><td>NA</td><td>NA</td><td>NA</td><td>NA</td><td>NA</td><td>NA</td><td>NA</td></tr>\n",
       "\t<tr><td> 2</td><td>0</td><td>0</td><td>0</td><td> 0</td><td>NA</td><td>13</td><td>NA</td><td>5</td><td>NA</td><td>⋯</td><td>NA</td><td>NA</td><td>NA</td><td>NA</td><td>NA</td><td>NA</td><td>NA</td><td>NA</td><td>NA</td><td>NA</td></tr>\n",
       "\t<tr><td> 3</td><td>1</td><td>0</td><td>0</td><td> 0</td><td>14</td><td>12</td><td> 0</td><td>8</td><td> 1</td><td>⋯</td><td> 0</td><td> 0</td><td> 1</td><td> 1</td><td> 1</td><td> 0</td><td> 1</td><td> 0</td><td> 1</td><td> 0</td></tr>\n",
       "\t<tr><td> 4</td><td>1</td><td>0</td><td>0</td><td> 1</td><td>14</td><td>12</td><td> 0</td><td>8</td><td> 1</td><td>⋯</td><td> 0</td><td> 0</td><td> 1</td><td> 1</td><td> 1</td><td> 0</td><td> 1</td><td> 0</td><td> 1</td><td> 0</td></tr>\n",
       "\t<tr><td> 5</td><td>1</td><td>0</td><td>0</td><td> 0</td><td>14</td><td>12</td><td> 0</td><td>8</td><td> 1</td><td>⋯</td><td> 0</td><td> 0</td><td> 1</td><td> 1</td><td> 1</td><td> 0</td><td> 0</td><td> 0</td><td> 1</td><td> 0</td></tr>\n",
       "</tbody>\n",
       "</table>\n"
      ],
      "text/latex": [
       "A tibble: 6 × 89\n",
       "\\begin{tabular}{lllllllllllllllllllll}\n",
       " ID & BOG95SMP & BOG97SMP & JAM93SMP & SEX & AGE & AGE2 & HSVISIT & SCYFNSH & INSCHL & ⋯ & REPT & NREPT & FINISH6 & FINISH7 & FINISH8 & SEX\\_MISS & USNGSCH & HOURSUM & TAB3SMPL & WORKING3\\\\\n",
       " <dbl> & <dbl> & <dbl> & <dbl> & <dbl> & <dbl> & <dbl> & <dbl> & <dbl> & <dbl> & ⋯ & <dbl> & <dbl> & <dbl> & <dbl> & <dbl> & <dbl> & <dbl> & <dbl> & <dbl> & <dbl>\\\\\n",
       "\\hline\n",
       "\t NA & 0 & 0 & 0 & NA & NA & NA & NA & 5 & NA & ⋯ & NA & NA & NA & NA & NA & NA & NA & NA & NA & NA\\\\\n",
       "\t  1 & 0 & 0 & 0 &  1 & NA & 12 & NA & 5 & NA & ⋯ & NA & NA & NA & NA & NA & NA & NA & NA & NA & NA\\\\\n",
       "\t  2 & 0 & 0 & 0 &  0 & NA & 13 & NA & 5 & NA & ⋯ & NA & NA & NA & NA & NA & NA & NA & NA & NA & NA\\\\\n",
       "\t  3 & 1 & 0 & 0 &  0 & 14 & 12 &  0 & 8 &  1 & ⋯ &  0 &  0 &  1 &  1 &  1 &  0 &  1 &  0 &  1 &  0\\\\\n",
       "\t  4 & 1 & 0 & 0 &  1 & 14 & 12 &  0 & 8 &  1 & ⋯ &  0 &  0 &  1 &  1 &  1 &  0 &  1 &  0 &  1 &  0\\\\\n",
       "\t  5 & 1 & 0 & 0 &  0 & 14 & 12 &  0 & 8 &  1 & ⋯ &  0 &  0 &  1 &  1 &  1 &  0 &  0 &  0 &  1 &  0\\\\\n",
       "\\end{tabular}\n"
      ],
      "text/markdown": [
       "\n",
       "A tibble: 6 × 89\n",
       "\n",
       "| ID &lt;dbl&gt; | BOG95SMP &lt;dbl&gt; | BOG97SMP &lt;dbl&gt; | JAM93SMP &lt;dbl&gt; | SEX &lt;dbl&gt; | AGE &lt;dbl&gt; | AGE2 &lt;dbl&gt; | HSVISIT &lt;dbl&gt; | SCYFNSH &lt;dbl&gt; | INSCHL &lt;dbl&gt; | ⋯ ⋯ | REPT &lt;dbl&gt; | NREPT &lt;dbl&gt; | FINISH6 &lt;dbl&gt; | FINISH7 &lt;dbl&gt; | FINISH8 &lt;dbl&gt; | SEX_MISS &lt;dbl&gt; | USNGSCH &lt;dbl&gt; | HOURSUM &lt;dbl&gt; | TAB3SMPL &lt;dbl&gt; | WORKING3 &lt;dbl&gt; |\n",
       "|---|---|---|---|---|---|---|---|---|---|---|---|---|---|---|---|---|---|---|---|---|\n",
       "| NA | 0 | 0 | 0 | NA | NA | NA | NA | 5 | NA | ⋯ | NA | NA | NA | NA | NA | NA | NA | NA | NA | NA |\n",
       "|  1 | 0 | 0 | 0 |  1 | NA | 12 | NA | 5 | NA | ⋯ | NA | NA | NA | NA | NA | NA | NA | NA | NA | NA |\n",
       "|  2 | 0 | 0 | 0 |  0 | NA | 13 | NA | 5 | NA | ⋯ | NA | NA | NA | NA | NA | NA | NA | NA | NA | NA |\n",
       "|  3 | 1 | 0 | 0 |  0 | 14 | 12 |  0 | 8 |  1 | ⋯ |  0 |  0 |  1 |  1 |  1 |  0 |  1 |  0 |  1 |  0 |\n",
       "|  4 | 1 | 0 | 0 |  1 | 14 | 12 |  0 | 8 |  1 | ⋯ |  0 |  0 |  1 |  1 |  1 |  0 |  1 |  0 |  1 |  0 |\n",
       "|  5 | 1 | 0 | 0 |  0 | 14 | 12 |  0 | 8 |  1 | ⋯ |  0 |  0 |  1 |  1 |  1 |  0 |  0 |  0 |  1 |  0 |\n",
       "\n"
      ],
      "text/plain": [
       "  ID BOG95SMP BOG97SMP JAM93SMP SEX AGE AGE2 HSVISIT SCYFNSH INSCHL ⋯ REPT\n",
       "1 NA 0        0        0        NA  NA  NA   NA      5       NA     ⋯ NA  \n",
       "2  1 0        0        0         1  NA  12   NA      5       NA     ⋯ NA  \n",
       "3  2 0        0        0         0  NA  13   NA      5       NA     ⋯ NA  \n",
       "4  3 1        0        0         0  14  12    0      8        1     ⋯  0  \n",
       "5  4 1        0        0         1  14  12    0      8        1     ⋯  0  \n",
       "6  5 1        0        0         0  14  12    0      8        1     ⋯  0  \n",
       "  NREPT FINISH6 FINISH7 FINISH8 SEX_MISS USNGSCH HOURSUM TAB3SMPL WORKING3\n",
       "1 NA    NA      NA      NA      NA       NA      NA      NA       NA      \n",
       "2 NA    NA      NA      NA      NA       NA      NA      NA       NA      \n",
       "3 NA    NA      NA      NA      NA       NA      NA      NA       NA      \n",
       "4  0     1       1       1       0        1       0       1        0      \n",
       "5  0     1       1       1       0        1       0       1        0      \n",
       "6  0     1       1       1       0        0       0       1        0      "
      ]
     },
     "metadata": {},
     "output_type": "display_data"
    }
   ],
   "source": [
    "head(vouchers)"
   ]
  },
  {
   "cell_type": "code",
   "execution_count": 3,
   "id": "cutting-thesaurus",
   "metadata": {},
   "outputs": [
    {
     "data": {
      "text/html": [
       "<style>\n",
       ".list-inline {list-style: none; margin:0; padding: 0}\n",
       ".list-inline>li {display: inline-block}\n",
       ".list-inline>li:not(:last-child)::after {content: \"\\00b7\"; padding: 0 .5ex}\n",
       "</style>\n",
       "<ol class=list-inline><li>'ID'</li><li>'BOG95SMP'</li><li>'BOG97SMP'</li><li>'JAM93SMP'</li><li>'SEX'</li><li>'AGE'</li><li>'AGE2'</li><li>'HSVISIT'</li><li>'SCYFNSH'</li><li>'INSCHL'</li><li>'PRSCH_C'</li><li>'PRSCHA_1'</li><li>'PRSCHA_2'</li><li>'VOUCH0'</li><li>'BOG95ASD'</li><li>'BOG97ASD'</li><li>'JAM93ASD'</li><li>'DBOGOTA'</li><li>'DJAMUNDI'</li><li>'D1995'</li><li>'D1997'</li><li>'RESPONSE'</li><li>'TEST_TAK'</li><li>'SEX_NAME'</li><li>'SVY'</li><li>'D1993'</li><li>'PHONE'</li><li>'DAREA1'</li><li>'DAREA2'</li><li>'DAREA3'</li><li>'DAREA4'</li><li>'DAREA5'</li><li>'DAREA6'</li><li>'DAREA7'</li><li>'DAREA8'</li><li>'DAREA9'</li><li>'DAREA10'</li><li>'DAREA11'</li><li>'DAREA12'</li><li>'DAREA13'</li><li>'DAREA14'</li><li>'DAREA15'</li><li>'DAREA16'</li><li>'DAREA17'</li><li>'DAREA18'</li><li>'DAREA19'</li><li>'DMONTH1'</li><li>'DMONTH2'</li><li>'DMONTH3'</li><li>'DMONTH4'</li><li>'DMONTH5'</li><li>'DMONTH6'</li><li>'DMONTH7'</li><li>'DMONTH8'</li><li>'DMONTH9'</li><li>'DMONTH10'</li><li>'DMONTH11'</li><li>'DMONTH12'</li><li>'BOG95'</li><li>'BOG97'</li><li>'MOM_SCH'</li><li>'MOM_AGE'</li><li>'MOM_MW'</li><li>'DAD_SCH'</li><li>'DAD_AGE'</li><li>'DAD_MW'</li><li>'SEX2'</li><li>'STRATA1'</li><li>'STRATA2'</li><li>'STRATA3'</li><li>'STRATA4'</li><li>'STRATA5'</li><li>'STRATA6'</li><li>'STRATAMS'</li><li>'REPT6'</li><li>'TOTSCYRS'</li><li>'HASCHILD'</li><li>'MARRIED'</li><li>'WORKING'</li><li>'REPT'</li><li>'NREPT'</li><li>'FINISH6'</li><li>'FINISH7'</li><li>'FINISH8'</li><li>'SEX_MISS'</li><li>'USNGSCH'</li><li>'HOURSUM'</li><li>'TAB3SMPL'</li><li>'WORKING3'</li></ol>\n"
      ],
      "text/latex": [
       "\\begin{enumerate*}\n",
       "\\item 'ID'\n",
       "\\item 'BOG95SMP'\n",
       "\\item 'BOG97SMP'\n",
       "\\item 'JAM93SMP'\n",
       "\\item 'SEX'\n",
       "\\item 'AGE'\n",
       "\\item 'AGE2'\n",
       "\\item 'HSVISIT'\n",
       "\\item 'SCYFNSH'\n",
       "\\item 'INSCHL'\n",
       "\\item 'PRSCH\\_C'\n",
       "\\item 'PRSCHA\\_1'\n",
       "\\item 'PRSCHA\\_2'\n",
       "\\item 'VOUCH0'\n",
       "\\item 'BOG95ASD'\n",
       "\\item 'BOG97ASD'\n",
       "\\item 'JAM93ASD'\n",
       "\\item 'DBOGOTA'\n",
       "\\item 'DJAMUNDI'\n",
       "\\item 'D1995'\n",
       "\\item 'D1997'\n",
       "\\item 'RESPONSE'\n",
       "\\item 'TEST\\_TAK'\n",
       "\\item 'SEX\\_NAME'\n",
       "\\item 'SVY'\n",
       "\\item 'D1993'\n",
       "\\item 'PHONE'\n",
       "\\item 'DAREA1'\n",
       "\\item 'DAREA2'\n",
       "\\item 'DAREA3'\n",
       "\\item 'DAREA4'\n",
       "\\item 'DAREA5'\n",
       "\\item 'DAREA6'\n",
       "\\item 'DAREA7'\n",
       "\\item 'DAREA8'\n",
       "\\item 'DAREA9'\n",
       "\\item 'DAREA10'\n",
       "\\item 'DAREA11'\n",
       "\\item 'DAREA12'\n",
       "\\item 'DAREA13'\n",
       "\\item 'DAREA14'\n",
       "\\item 'DAREA15'\n",
       "\\item 'DAREA16'\n",
       "\\item 'DAREA17'\n",
       "\\item 'DAREA18'\n",
       "\\item 'DAREA19'\n",
       "\\item 'DMONTH1'\n",
       "\\item 'DMONTH2'\n",
       "\\item 'DMONTH3'\n",
       "\\item 'DMONTH4'\n",
       "\\item 'DMONTH5'\n",
       "\\item 'DMONTH6'\n",
       "\\item 'DMONTH7'\n",
       "\\item 'DMONTH8'\n",
       "\\item 'DMONTH9'\n",
       "\\item 'DMONTH10'\n",
       "\\item 'DMONTH11'\n",
       "\\item 'DMONTH12'\n",
       "\\item 'BOG95'\n",
       "\\item 'BOG97'\n",
       "\\item 'MOM\\_SCH'\n",
       "\\item 'MOM\\_AGE'\n",
       "\\item 'MOM\\_MW'\n",
       "\\item 'DAD\\_SCH'\n",
       "\\item 'DAD\\_AGE'\n",
       "\\item 'DAD\\_MW'\n",
       "\\item 'SEX2'\n",
       "\\item 'STRATA1'\n",
       "\\item 'STRATA2'\n",
       "\\item 'STRATA3'\n",
       "\\item 'STRATA4'\n",
       "\\item 'STRATA5'\n",
       "\\item 'STRATA6'\n",
       "\\item 'STRATAMS'\n",
       "\\item 'REPT6'\n",
       "\\item 'TOTSCYRS'\n",
       "\\item 'HASCHILD'\n",
       "\\item 'MARRIED'\n",
       "\\item 'WORKING'\n",
       "\\item 'REPT'\n",
       "\\item 'NREPT'\n",
       "\\item 'FINISH6'\n",
       "\\item 'FINISH7'\n",
       "\\item 'FINISH8'\n",
       "\\item 'SEX\\_MISS'\n",
       "\\item 'USNGSCH'\n",
       "\\item 'HOURSUM'\n",
       "\\item 'TAB3SMPL'\n",
       "\\item 'WORKING3'\n",
       "\\end{enumerate*}\n"
      ],
      "text/markdown": [
       "1. 'ID'\n",
       "2. 'BOG95SMP'\n",
       "3. 'BOG97SMP'\n",
       "4. 'JAM93SMP'\n",
       "5. 'SEX'\n",
       "6. 'AGE'\n",
       "7. 'AGE2'\n",
       "8. 'HSVISIT'\n",
       "9. 'SCYFNSH'\n",
       "10. 'INSCHL'\n",
       "11. 'PRSCH_C'\n",
       "12. 'PRSCHA_1'\n",
       "13. 'PRSCHA_2'\n",
       "14. 'VOUCH0'\n",
       "15. 'BOG95ASD'\n",
       "16. 'BOG97ASD'\n",
       "17. 'JAM93ASD'\n",
       "18. 'DBOGOTA'\n",
       "19. 'DJAMUNDI'\n",
       "20. 'D1995'\n",
       "21. 'D1997'\n",
       "22. 'RESPONSE'\n",
       "23. 'TEST_TAK'\n",
       "24. 'SEX_NAME'\n",
       "25. 'SVY'\n",
       "26. 'D1993'\n",
       "27. 'PHONE'\n",
       "28. 'DAREA1'\n",
       "29. 'DAREA2'\n",
       "30. 'DAREA3'\n",
       "31. 'DAREA4'\n",
       "32. 'DAREA5'\n",
       "33. 'DAREA6'\n",
       "34. 'DAREA7'\n",
       "35. 'DAREA8'\n",
       "36. 'DAREA9'\n",
       "37. 'DAREA10'\n",
       "38. 'DAREA11'\n",
       "39. 'DAREA12'\n",
       "40. 'DAREA13'\n",
       "41. 'DAREA14'\n",
       "42. 'DAREA15'\n",
       "43. 'DAREA16'\n",
       "44. 'DAREA17'\n",
       "45. 'DAREA18'\n",
       "46. 'DAREA19'\n",
       "47. 'DMONTH1'\n",
       "48. 'DMONTH2'\n",
       "49. 'DMONTH3'\n",
       "50. 'DMONTH4'\n",
       "51. 'DMONTH5'\n",
       "52. 'DMONTH6'\n",
       "53. 'DMONTH7'\n",
       "54. 'DMONTH8'\n",
       "55. 'DMONTH9'\n",
       "56. 'DMONTH10'\n",
       "57. 'DMONTH11'\n",
       "58. 'DMONTH12'\n",
       "59. 'BOG95'\n",
       "60. 'BOG97'\n",
       "61. 'MOM_SCH'\n",
       "62. 'MOM_AGE'\n",
       "63. 'MOM_MW'\n",
       "64. 'DAD_SCH'\n",
       "65. 'DAD_AGE'\n",
       "66. 'DAD_MW'\n",
       "67. 'SEX2'\n",
       "68. 'STRATA1'\n",
       "69. 'STRATA2'\n",
       "70. 'STRATA3'\n",
       "71. 'STRATA4'\n",
       "72. 'STRATA5'\n",
       "73. 'STRATA6'\n",
       "74. 'STRATAMS'\n",
       "75. 'REPT6'\n",
       "76. 'TOTSCYRS'\n",
       "77. 'HASCHILD'\n",
       "78. 'MARRIED'\n",
       "79. 'WORKING'\n",
       "80. 'REPT'\n",
       "81. 'NREPT'\n",
       "82. 'FINISH6'\n",
       "83. 'FINISH7'\n",
       "84. 'FINISH8'\n",
       "85. 'SEX_MISS'\n",
       "86. 'USNGSCH'\n",
       "87. 'HOURSUM'\n",
       "88. 'TAB3SMPL'\n",
       "89. 'WORKING3'\n",
       "\n",
       "\n"
      ],
      "text/plain": [
       " [1] \"ID\"       \"BOG95SMP\" \"BOG97SMP\" \"JAM93SMP\" \"SEX\"      \"AGE\"     \n",
       " [7] \"AGE2\"     \"HSVISIT\"  \"SCYFNSH\"  \"INSCHL\"   \"PRSCH_C\"  \"PRSCHA_1\"\n",
       "[13] \"PRSCHA_2\" \"VOUCH0\"   \"BOG95ASD\" \"BOG97ASD\" \"JAM93ASD\" \"DBOGOTA\" \n",
       "[19] \"DJAMUNDI\" \"D1995\"    \"D1997\"    \"RESPONSE\" \"TEST_TAK\" \"SEX_NAME\"\n",
       "[25] \"SVY\"      \"D1993\"    \"PHONE\"    \"DAREA1\"   \"DAREA2\"   \"DAREA3\"  \n",
       "[31] \"DAREA4\"   \"DAREA5\"   \"DAREA6\"   \"DAREA7\"   \"DAREA8\"   \"DAREA9\"  \n",
       "[37] \"DAREA10\"  \"DAREA11\"  \"DAREA12\"  \"DAREA13\"  \"DAREA14\"  \"DAREA15\" \n",
       "[43] \"DAREA16\"  \"DAREA17\"  \"DAREA18\"  \"DAREA19\"  \"DMONTH1\"  \"DMONTH2\" \n",
       "[49] \"DMONTH3\"  \"DMONTH4\"  \"DMONTH5\"  \"DMONTH6\"  \"DMONTH7\"  \"DMONTH8\" \n",
       "[55] \"DMONTH9\"  \"DMONTH10\" \"DMONTH11\" \"DMONTH12\" \"BOG95\"    \"BOG97\"   \n",
       "[61] \"MOM_SCH\"  \"MOM_AGE\"  \"MOM_MW\"   \"DAD_SCH\"  \"DAD_AGE\"  \"DAD_MW\"  \n",
       "[67] \"SEX2\"     \"STRATA1\"  \"STRATA2\"  \"STRATA3\"  \"STRATA4\"  \"STRATA5\" \n",
       "[73] \"STRATA6\"  \"STRATAMS\" \"REPT6\"    \"TOTSCYRS\" \"HASCHILD\" \"MARRIED\" \n",
       "[79] \"WORKING\"  \"REPT\"     \"NREPT\"    \"FINISH6\"  \"FINISH7\"  \"FINISH8\" \n",
       "[85] \"SEX_MISS\" \"USNGSCH\"  \"HOURSUM\"  \"TAB3SMPL\" \"WORKING3\""
      ]
     },
     "metadata": {},
     "output_type": "display_data"
    }
   ],
   "source": [
    "names(vouchers) #データの列名"
   ]
  },
  {
   "cell_type": "code",
   "execution_count": 4,
   "id": "complex-robinson",
   "metadata": {},
   "outputs": [],
   "source": [
    "# (3) Angrist(2002)のTable 3. bogota 1995の再現\n",
    "## 回帰式の準備\n",
    "### 回帰式で使う文字列の準備\n",
    "formula_x_base <- \"VOUCH0\"\n",
    "formula_x_covariate <- \"SVY + HSVISIT + AGE + STRATA1 + STRATA2 + STRATA3 + STRATA4 + STRATA5 + STRATA6 + STRATAMS + D1993 + D1995 + D1997 + DMONTH1 + DMONTH2 + DMONTH3 + DMONTH4 + DMONTH5 + DMONTH6 + DMONTH7 + DMONTH8 + DMONTH9 + DMONTH10 + DMONTH11 + DMONTH12 + SEX2\"\n",
    "# 様々な結果に対しての効果を見たい\n",
    "formula_y <- c(\"TOTSCYRS\",\"INSCHL\",\"PRSCH_C\",\"USNGSCH\",\"PRSCHA_1\",\"FINISH6\",\"FINISH7\",\"FINISH8\",\"REPT6\",\"REPT\",\"NREPT\",\n",
    "               \"MARRIED\",\"HASCHILD\",\"HOURSUM\",\"WORKING3\")"
   ]
  },
  {
   "cell_type": "code",
   "execution_count": 5,
   "id": "cloudy-parallel",
   "metadata": {},
   "outputs": [],
   "source": [
    "### formula_yの各要素に対して共変量を含まない回帰式を作成\n",
    "base_reg_formula <- paste(formula_y, \"~\", formula_x_base)\n",
    "names(base_reg_formula) <- paste(formula_y, \"base\", sep = \"_\")\n",
    "\n",
    "### formula_yの各要素に対して共変量を含む回帰式を作成\n",
    "covariate_reg_formula <-\n",
    "  paste(formula_y, \"~\", formula_x_base, \"+\", formula_x_covariate)\n",
    "names(covariate_reg_formula) <-\n",
    "  paste(formula_y, \"covariate\", sep = \"_\")\n",
    "\n",
    "### モデル式のベクトルを作成\n",
    "table3_fomula <- c(base_reg_formula, covariate_reg_formula)\n",
    " \n",
    "### モデル式のベクトルをデータフレーム化する\n",
    "models <- table3_fomula %>%\n",
    "  enframe(name = \"model_index\", value = \"formula\")"
   ]
  },
  {
   "cell_type": "code",
   "execution_count": 6,
   "id": "choice-heater",
   "metadata": {},
   "outputs": [
    {
     "data": {
      "text/html": [
       "<table class=\"dataframe\">\n",
       "<caption>A tibble: 4 × 2</caption>\n",
       "<thead>\n",
       "\t<tr><th scope=col>model_index</th><th scope=col>formula</th></tr>\n",
       "\t<tr><th scope=col>&lt;chr&gt;</th><th scope=col>&lt;chr&gt;</th></tr>\n",
       "</thead>\n",
       "<tbody>\n",
       "\t<tr><td>TOTSCYRS_base     </td><td>TOTSCYRS ~ VOUCH0                                                                                                                                                                                                                                                       </td></tr>\n",
       "\t<tr><td>INSCHL_base       </td><td>INSCHL ~ VOUCH0                                                                                                                                                                                                                                                         </td></tr>\n",
       "\t<tr><td>HOURSUM_covariate </td><td>HOURSUM ~ VOUCH0 + SVY + HSVISIT + AGE + STRATA1 + STRATA2 + STRATA3 + STRATA4 + STRATA5 + STRATA6 + STRATAMS + D1993 + D1995 + D1997 + DMONTH1 + DMONTH2 + DMONTH3 + DMONTH4 + DMONTH5 + DMONTH6 + DMONTH7 + DMONTH8 + DMONTH9 + DMONTH10 + DMONTH11 + DMONTH12 + SEX2 </td></tr>\n",
       "\t<tr><td>WORKING3_covariate</td><td>WORKING3 ~ VOUCH0 + SVY + HSVISIT + AGE + STRATA1 + STRATA2 + STRATA3 + STRATA4 + STRATA5 + STRATA6 + STRATAMS + D1993 + D1995 + D1997 + DMONTH1 + DMONTH2 + DMONTH3 + DMONTH4 + DMONTH5 + DMONTH6 + DMONTH7 + DMONTH8 + DMONTH9 + DMONTH10 + DMONTH11 + DMONTH12 + SEX2</td></tr>\n",
       "</tbody>\n",
       "</table>\n"
      ],
      "text/latex": [
       "A tibble: 4 × 2\n",
       "\\begin{tabular}{ll}\n",
       " model\\_index & formula\\\\\n",
       " <chr> & <chr>\\\\\n",
       "\\hline\n",
       "\t TOTSCYRS\\_base      & TOTSCYRS \\textasciitilde{} VOUCH0                                                                                                                                                                                                                                                       \\\\\n",
       "\t INSCHL\\_base        & INSCHL \\textasciitilde{} VOUCH0                                                                                                                                                                                                                                                         \\\\\n",
       "\t HOURSUM\\_covariate  & HOURSUM \\textasciitilde{} VOUCH0 + SVY + HSVISIT + AGE + STRATA1 + STRATA2 + STRATA3 + STRATA4 + STRATA5 + STRATA6 + STRATAMS + D1993 + D1995 + D1997 + DMONTH1 + DMONTH2 + DMONTH3 + DMONTH4 + DMONTH5 + DMONTH6 + DMONTH7 + DMONTH8 + DMONTH9 + DMONTH10 + DMONTH11 + DMONTH12 + SEX2 \\\\\n",
       "\t WORKING3\\_covariate & WORKING3 \\textasciitilde{} VOUCH0 + SVY + HSVISIT + AGE + STRATA1 + STRATA2 + STRATA3 + STRATA4 + STRATA5 + STRATA6 + STRATAMS + D1993 + D1995 + D1997 + DMONTH1 + DMONTH2 + DMONTH3 + DMONTH4 + DMONTH5 + DMONTH6 + DMONTH7 + DMONTH8 + DMONTH9 + DMONTH10 + DMONTH11 + DMONTH12 + SEX2\\\\\n",
       "\\end{tabular}\n"
      ],
      "text/markdown": [
       "\n",
       "A tibble: 4 × 2\n",
       "\n",
       "| model_index &lt;chr&gt; | formula &lt;chr&gt; |\n",
       "|---|---|\n",
       "| TOTSCYRS_base      | TOTSCYRS ~ VOUCH0                                                                                                                                                                                                                                                        |\n",
       "| INSCHL_base        | INSCHL ~ VOUCH0                                                                                                                                                                                                                                                          |\n",
       "| HOURSUM_covariate  | HOURSUM ~ VOUCH0 + SVY + HSVISIT + AGE + STRATA1 + STRATA2 + STRATA3 + STRATA4 + STRATA5 + STRATA6 + STRATAMS + D1993 + D1995 + D1997 + DMONTH1 + DMONTH2 + DMONTH3 + DMONTH4 + DMONTH5 + DMONTH6 + DMONTH7 + DMONTH8 + DMONTH9 + DMONTH10 + DMONTH11 + DMONTH12 + SEX2  |\n",
       "| WORKING3_covariate | WORKING3 ~ VOUCH0 + SVY + HSVISIT + AGE + STRATA1 + STRATA2 + STRATA3 + STRATA4 + STRATA5 + STRATA6 + STRATAMS + D1993 + D1995 + D1997 + DMONTH1 + DMONTH2 + DMONTH3 + DMONTH4 + DMONTH5 + DMONTH6 + DMONTH7 + DMONTH8 + DMONTH9 + DMONTH10 + DMONTH11 + DMONTH12 + SEX2 |\n",
       "\n"
      ],
      "text/plain": [
       "  model_index       \n",
       "1 TOTSCYRS_base     \n",
       "2 INSCHL_base       \n",
       "3 HOURSUM_covariate \n",
       "4 WORKING3_covariate\n",
       "  formula                                                                                                                                                                                                                                                                 \n",
       "1 TOTSCYRS ~ VOUCH0                                                                                                                                                                                                                                                       \n",
       "2 INSCHL ~ VOUCH0                                                                                                                                                                                                                                                         \n",
       "3 HOURSUM ~ VOUCH0 + SVY + HSVISIT + AGE + STRATA1 + STRATA2 + STRATA3 + STRATA4 + STRATA5 + STRATA6 + STRATAMS + D1993 + D1995 + D1997 + DMONTH1 + DMONTH2 + DMONTH3 + DMONTH4 + DMONTH5 + DMONTH6 + DMONTH7 + DMONTH8 + DMONTH9 + DMONTH10 + DMONTH11 + DMONTH12 + SEX2 \n",
       "4 WORKING3 ~ VOUCH0 + SVY + HSVISIT + AGE + STRATA1 + STRATA2 + STRATA3 + STRATA4 + STRATA5 + STRATA6 + STRATAMS + D1993 + D1995 + D1997 + DMONTH1 + DMONTH2 + DMONTH3 + DMONTH4 + DMONTH5 + DMONTH6 + DMONTH7 + DMONTH8 + DMONTH9 + DMONTH10 + DMONTH11 + DMONTH12 + SEX2"
      ]
     },
     "metadata": {},
     "output_type": "display_data"
    }
   ],
   "source": [
    "union(models %>% head(n=2), models %>% tail(n=2))"
   ]
  },
  {
   "cell_type": "code",
   "execution_count": 7,
   "id": "broad-truck",
   "metadata": {},
   "outputs": [],
   "source": [
    "## 回帰分析を実行\n",
    "### bogota 1995のデータを抽出する\n",
    "regression_data <- vouchers %>% filter(TAB3SMPL == 1, BOG95SMP == 1)\n",
    "\n",
    "### まとめて回帰分析を実行\n",
    "df_models <- models %>%\n",
    "  mutate(model = map(.x = formula,\n",
    "                     .f = lm,\n",
    "                     data = regression_data)) %>%\n",
    "  mutate(lm_result = map(.x = model, .f = tidy))\n",
    "\n",
    "### モデルの結果を整形\n",
    "df_results <- df_models %>%\n",
    "  mutate(formula = as.character(formula)) %>%\n",
    "  select(formula, model_index, lm_result) %>%\n",
    "  unnest(cols = c(lm_result))"
   ]
  },
  {
   "cell_type": "code",
   "execution_count": 8,
   "id": "thorough-gibraltar",
   "metadata": {},
   "outputs": [
    {
     "data": {
      "text/html": [
       "<table class=\"dataframe\">\n",
       "<caption>A tibble: 6 × 7</caption>\n",
       "<thead>\n",
       "\t<tr><th scope=col>formula</th><th scope=col>model_index</th><th scope=col>term</th><th scope=col>estimate</th><th scope=col>std.error</th><th scope=col>statistic</th><th scope=col>p.value</th></tr>\n",
       "\t<tr><th scope=col>&lt;chr&gt;</th><th scope=col>&lt;chr&gt;</th><th scope=col>&lt;chr&gt;</th><th scope=col>&lt;dbl&gt;</th><th scope=col>&lt;dbl&gt;</th><th scope=col>&lt;dbl&gt;</th><th scope=col>&lt;dbl&gt;</th></tr>\n",
       "</thead>\n",
       "<tbody>\n",
       "\t<tr><td>TOTSCYRS ~ VOUCH0</td><td>TOTSCYRS_base</td><td>(Intercept)</td><td>3.6530249</td><td>0.03738815</td><td>97.7054285</td><td> 0.000000e+00</td></tr>\n",
       "\t<tr><td>TOTSCYRS ~ VOUCH0</td><td>TOTSCYRS_base</td><td>VOUCH0     </td><td>0.0580862</td><td>0.05235254</td><td> 1.1095203</td><td> 2.674388e-01</td></tr>\n",
       "\t<tr><td>INSCHL ~ VOUCH0  </td><td>INSCHL_base  </td><td>(Intercept)</td><td>0.8309609</td><td>0.01545508</td><td>53.7661998</td><td>1.644038e-315</td></tr>\n",
       "\t<tr><td>INSCHL ~ VOUCH0  </td><td>INSCHL_base  </td><td>VOUCH0     </td><td>0.0186118</td><td>0.02164088</td><td> 0.8600293</td><td> 3.899529e-01</td></tr>\n",
       "\t<tr><td>PRSCH_C ~ VOUCH0 </td><td>PRSCH_C_base </td><td>(Intercept)</td><td>0.5391459</td><td>0.02020457</td><td>26.6843604</td><td>2.207709e-122</td></tr>\n",
       "\t<tr><td>PRSCH_C ~ VOUCH0 </td><td>PRSCH_C_base </td><td>VOUCH0     </td><td>0.1599994</td><td>0.02829133</td><td> 5.6554223</td><td> 1.962310e-08</td></tr>\n",
       "</tbody>\n",
       "</table>\n"
      ],
      "text/latex": [
       "A tibble: 6 × 7\n",
       "\\begin{tabular}{lllllll}\n",
       " formula & model\\_index & term & estimate & std.error & statistic & p.value\\\\\n",
       " <chr> & <chr> & <chr> & <dbl> & <dbl> & <dbl> & <dbl>\\\\\n",
       "\\hline\n",
       "\t TOTSCYRS \\textasciitilde{} VOUCH0 & TOTSCYRS\\_base & (Intercept) & 3.6530249 & 0.03738815 & 97.7054285 &  0.000000e+00\\\\\n",
       "\t TOTSCYRS \\textasciitilde{} VOUCH0 & TOTSCYRS\\_base & VOUCH0      & 0.0580862 & 0.05235254 &  1.1095203 &  2.674388e-01\\\\\n",
       "\t INSCHL \\textasciitilde{} VOUCH0   & INSCHL\\_base   & (Intercept) & 0.8309609 & 0.01545508 & 53.7661998 & 1.644038e-315\\\\\n",
       "\t INSCHL \\textasciitilde{} VOUCH0   & INSCHL\\_base   & VOUCH0      & 0.0186118 & 0.02164088 &  0.8600293 &  3.899529e-01\\\\\n",
       "\t PRSCH\\_C \\textasciitilde{} VOUCH0  & PRSCH\\_C\\_base  & (Intercept) & 0.5391459 & 0.02020457 & 26.6843604 & 2.207709e-122\\\\\n",
       "\t PRSCH\\_C \\textasciitilde{} VOUCH0  & PRSCH\\_C\\_base  & VOUCH0      & 0.1599994 & 0.02829133 &  5.6554223 &  1.962310e-08\\\\\n",
       "\\end{tabular}\n"
      ],
      "text/markdown": [
       "\n",
       "A tibble: 6 × 7\n",
       "\n",
       "| formula &lt;chr&gt; | model_index &lt;chr&gt; | term &lt;chr&gt; | estimate &lt;dbl&gt; | std.error &lt;dbl&gt; | statistic &lt;dbl&gt; | p.value &lt;dbl&gt; |\n",
       "|---|---|---|---|---|---|---|\n",
       "| TOTSCYRS ~ VOUCH0 | TOTSCYRS_base | (Intercept) | 3.6530249 | 0.03738815 | 97.7054285 |  0.000000e+00 |\n",
       "| TOTSCYRS ~ VOUCH0 | TOTSCYRS_base | VOUCH0      | 0.0580862 | 0.05235254 |  1.1095203 |  2.674388e-01 |\n",
       "| INSCHL ~ VOUCH0   | INSCHL_base   | (Intercept) | 0.8309609 | 0.01545508 | 53.7661998 | 1.644038e-315 |\n",
       "| INSCHL ~ VOUCH0   | INSCHL_base   | VOUCH0      | 0.0186118 | 0.02164088 |  0.8600293 |  3.899529e-01 |\n",
       "| PRSCH_C ~ VOUCH0  | PRSCH_C_base  | (Intercept) | 0.5391459 | 0.02020457 | 26.6843604 | 2.207709e-122 |\n",
       "| PRSCH_C ~ VOUCH0  | PRSCH_C_base  | VOUCH0      | 0.1599994 | 0.02829133 |  5.6554223 |  1.962310e-08 |\n",
       "\n"
      ],
      "text/plain": [
       "  formula           model_index   term        estimate  std.error  statistic \n",
       "1 TOTSCYRS ~ VOUCH0 TOTSCYRS_base (Intercept) 3.6530249 0.03738815 97.7054285\n",
       "2 TOTSCYRS ~ VOUCH0 TOTSCYRS_base VOUCH0      0.0580862 0.05235254  1.1095203\n",
       "3 INSCHL ~ VOUCH0   INSCHL_base   (Intercept) 0.8309609 0.01545508 53.7661998\n",
       "4 INSCHL ~ VOUCH0   INSCHL_base   VOUCH0      0.0186118 0.02164088  0.8600293\n",
       "5 PRSCH_C ~ VOUCH0  PRSCH_C_base  (Intercept) 0.5391459 0.02020457 26.6843604\n",
       "6 PRSCH_C ~ VOUCH0  PRSCH_C_base  VOUCH0      0.1599994 0.02829133  5.6554223\n",
       "  p.value      \n",
       "1  0.000000e+00\n",
       "2  2.674388e-01\n",
       "3 1.644038e-315\n",
       "4  3.899529e-01\n",
       "5 2.207709e-122\n",
       "6  1.962310e-08"
      ]
     },
     "metadata": {},
     "output_type": "display_data"
    }
   ],
   "source": [
    "df_results %>% head()"
   ]
  },
  {
   "cell_type": "markdown",
   "id": "extreme-ensemble",
   "metadata": {},
   "source": [
    "6年制開始時に私立学校に在籍していたかを示すPRSCHA_1と、奨学金を使ったかを示すUSNGSCHの結果を見る。"
   ]
  },
  {
   "cell_type": "code",
   "execution_count": 9,
   "id": "accredited-geneva",
   "metadata": {},
   "outputs": [
    {
     "data": {
      "text/html": [
       "<table class=\"dataframe\">\n",
       "<caption>A tibble: 8 × 5</caption>\n",
       "<thead>\n",
       "\t<tr><th scope=col>model_index</th><th scope=col>term</th><th scope=col>estimate</th><th scope=col>std.error</th><th scope=col>p.value</th></tr>\n",
       "\t<tr><th scope=col>&lt;chr&gt;</th><th scope=col>&lt;chr&gt;</th><th scope=col>&lt;dbl&gt;</th><th scope=col>&lt;dbl&gt;</th><th scope=col>&lt;dbl&gt;</th></tr>\n",
       "</thead>\n",
       "<tbody>\n",
       "\t<tr><td>PRSCHA_1_base     </td><td>(Intercept)</td><td>0.87722420</td><td>0.01204988</td><td>0.000000e+00</td></tr>\n",
       "\t<tr><td>PRSCHA_1_base     </td><td>VOUCH0     </td><td>0.06294674</td><td>0.01687277</td><td>2.003331e-04</td></tr>\n",
       "\t<tr><td>PRSCHA_1_covariate</td><td>(Intercept)</td><td>0.79769069</td><td>0.15971707</td><td>6.836911e-07</td></tr>\n",
       "\t<tr><td>PRSCHA_1_covariate</td><td>VOUCH0     </td><td>0.05743072</td><td>0.01696526</td><td>7.358180e-04</td></tr>\n",
       "\t<tr><td>USNGSCH_base      </td><td>(Intercept)</td><td>0.05693950</td><td>0.01643886</td><td>5.524633e-04</td></tr>\n",
       "\t<tr><td>USNGSCH_base      </td><td>VOUCH0     </td><td>0.50887246</td><td>0.02301841</td><td>1.796250e-90</td></tr>\n",
       "\t<tr><td>USNGSCH_covariate </td><td>(Intercept)</td><td>0.61606698</td><td>0.21567229</td><td>4.362266e-03</td></tr>\n",
       "\t<tr><td>USNGSCH_covariate </td><td>VOUCH0     </td><td>0.50415996</td><td>0.02290886</td><td>1.491107e-89</td></tr>\n",
       "</tbody>\n",
       "</table>\n"
      ],
      "text/latex": [
       "A tibble: 8 × 5\n",
       "\\begin{tabular}{lllll}\n",
       " model\\_index & term & estimate & std.error & p.value\\\\\n",
       " <chr> & <chr> & <dbl> & <dbl> & <dbl>\\\\\n",
       "\\hline\n",
       "\t PRSCHA\\_1\\_base      & (Intercept) & 0.87722420 & 0.01204988 & 0.000000e+00\\\\\n",
       "\t PRSCHA\\_1\\_base      & VOUCH0      & 0.06294674 & 0.01687277 & 2.003331e-04\\\\\n",
       "\t PRSCHA\\_1\\_covariate & (Intercept) & 0.79769069 & 0.15971707 & 6.836911e-07\\\\\n",
       "\t PRSCHA\\_1\\_covariate & VOUCH0      & 0.05743072 & 0.01696526 & 7.358180e-04\\\\\n",
       "\t USNGSCH\\_base       & (Intercept) & 0.05693950 & 0.01643886 & 5.524633e-04\\\\\n",
       "\t USNGSCH\\_base       & VOUCH0      & 0.50887246 & 0.02301841 & 1.796250e-90\\\\\n",
       "\t USNGSCH\\_covariate  & (Intercept) & 0.61606698 & 0.21567229 & 4.362266e-03\\\\\n",
       "\t USNGSCH\\_covariate  & VOUCH0      & 0.50415996 & 0.02290886 & 1.491107e-89\\\\\n",
       "\\end{tabular}\n"
      ],
      "text/markdown": [
       "\n",
       "A tibble: 8 × 5\n",
       "\n",
       "| model_index &lt;chr&gt; | term &lt;chr&gt; | estimate &lt;dbl&gt; | std.error &lt;dbl&gt; | p.value &lt;dbl&gt; |\n",
       "|---|---|---|---|---|\n",
       "| PRSCHA_1_base      | (Intercept) | 0.87722420 | 0.01204988 | 0.000000e+00 |\n",
       "| PRSCHA_1_base      | VOUCH0      | 0.06294674 | 0.01687277 | 2.003331e-04 |\n",
       "| PRSCHA_1_covariate | (Intercept) | 0.79769069 | 0.15971707 | 6.836911e-07 |\n",
       "| PRSCHA_1_covariate | VOUCH0      | 0.05743072 | 0.01696526 | 7.358180e-04 |\n",
       "| USNGSCH_base       | (Intercept) | 0.05693950 | 0.01643886 | 5.524633e-04 |\n",
       "| USNGSCH_base       | VOUCH0      | 0.50887246 | 0.02301841 | 1.796250e-90 |\n",
       "| USNGSCH_covariate  | (Intercept) | 0.61606698 | 0.21567229 | 4.362266e-03 |\n",
       "| USNGSCH_covariate  | VOUCH0      | 0.50415996 | 0.02290886 | 1.491107e-89 |\n",
       "\n"
      ],
      "text/plain": [
       "  model_index        term        estimate   std.error  p.value     \n",
       "1 PRSCHA_1_base      (Intercept) 0.87722420 0.01204988 0.000000e+00\n",
       "2 PRSCHA_1_base      VOUCH0      0.06294674 0.01687277 2.003331e-04\n",
       "3 PRSCHA_1_covariate (Intercept) 0.79769069 0.15971707 6.836911e-07\n",
       "4 PRSCHA_1_covariate VOUCH0      0.05743072 0.01696526 7.358180e-04\n",
       "5 USNGSCH_base       (Intercept) 0.05693950 0.01643886 5.524633e-04\n",
       "6 USNGSCH_base       VOUCH0      0.50887246 0.02301841 1.796250e-90\n",
       "7 USNGSCH_covariate  (Intercept) 0.61606698 0.21567229 4.362266e-03\n",
       "8 USNGSCH_covariate  VOUCH0      0.50415996 0.02290886 1.491107e-89"
      ]
     },
     "metadata": {},
     "output_type": "display_data"
    }
   ],
   "source": [
    "## 通学率と奨学金の利用傾向の可視化(ch2_plot2.png)\n",
    "### PRSCHA_1, USNGSCHに対するVOUCH0の効果を取り出す\n",
    "using_voucher_results <- df_results %>%\n",
    "  filter(term %in% c(\"VOUCH0\",\"(Intercept)\"), \n",
    "         str_detect(model_index, \"PRSCHA_1|USNGSCH\")) %>%\n",
    "  select(model_index, term, estimate, std.error, p.value) %>%\n",
    "  arrange(model_index)\n",
    "using_voucher_results"
   ]
  },
  {
   "cell_type": "code",
   "execution_count": 10,
   "id": "early-saudi",
   "metadata": {},
   "outputs": [
    {
     "data": {
      "image/png": "[encoded data removed]",
      "text/plain": [
       "plot without title"
      ]
     },
     "metadata": {
      "image/png": {
       "height": 420,
       "width": 420
      }
     },
     "output_type": "display_data"
    }
   ],
   "source": [
    "### 取り出した効果をggplotで可視化\n",
    "df_results %>%\n",
    "  filter(term %in% c(\"VOUCH0\"), \n",
    "         str_detect(model_index, \"PRSCHA_1|USNGSCH\")) %>%\n",
    "  select(model_index, term, estimate, std.error, p.value) %>%\n",
    "  arrange(model_index) %>%\n",
    "      ggplot(aes(y = estimate, x = model_index)) +\n",
    "      geom_point() +\n",
    "      geom_errorbar(aes(ymax = estimate + std.error*1.96,\n",
    "                        ymin = estimate - std.error*1.96,\n",
    "                        width = 0.1)) +\n",
    "      theme(axis.text.x = element_text(angle = 45, hjust = 1),\n",
    "            plot.title = element_text(hjust = 0.5),\n",
    "            legend.position = \"bottom\",\n",
    "            plot.margin = margin(0.5,1,0.5,1, \"cm\"))"
   ]
  },
  {
   "cell_type": "markdown",
   "id": "trained-disorder",
   "metadata": {},
   "source": [
    "PRSCHA_1_covariateの係数を見ると奨学金は6%も私立学校への在籍に寄与してない。\n",
    "∵くじに外れても私立学校に通う生徒が多かった。PRSCHA_1_baseの切片から、奨学金がなくても87%以上の人が私立学校に通うことが読み取れる。奨学金の条件に私立学校の入学許可が必要だったから。\n",
    "\n",
    "USNGSCH_covariateの係数から奨学金をもらうとちゃんと50%の人が使うことがわかる。\n",
    "\n",
    "結論→この奨学金によって「私立に通わせる」効果は軽微(6%未満)。"
   ]
  },
  {
   "cell_type": "markdown",
   "id": "incorporated-copper",
   "metadata": {},
   "source": [
    "次に、割引券は留年を減らしているか？を見る"
   ]
  },
  {
   "cell_type": "code",
   "execution_count": 11,
   "id": "industrial-hormone",
   "metadata": {},
   "outputs": [
    {
     "data": {
      "text/html": [
       "<table class=\"dataframe\">\n",
       "<caption>A tibble: 8 × 5</caption>\n",
       "<thead>\n",
       "\t<tr><th scope=col>model_index</th><th scope=col>term</th><th scope=col>estimate</th><th scope=col>std.error</th><th scope=col>p.value</th></tr>\n",
       "\t<tr><th scope=col>&lt;chr&gt;</th><th scope=col>&lt;chr&gt;</th><th scope=col>&lt;dbl&gt;</th><th scope=col>&lt;dbl&gt;</th><th scope=col>&lt;dbl&gt;</th></tr>\n",
       "</thead>\n",
       "<tbody>\n",
       "\t<tr><td>FINISH6_covariate</td><td>VOUCH0</td><td> 0.022945968</td><td>0.01201536</td><td>5.642340e-02</td></tr>\n",
       "\t<tr><td>FINISH7_covariate</td><td>VOUCH0</td><td> 0.030748345</td><td>0.01975385</td><td>1.198528e-01</td></tr>\n",
       "\t<tr><td>FINISH8_covariate</td><td>VOUCH0</td><td> 0.100204092</td><td>0.02697318</td><td>2.132230e-04</td></tr>\n",
       "\t<tr><td>INSCHL_covariate </td><td>VOUCH0</td><td> 0.006903514</td><td>0.02028772</td><td>7.337089e-01</td></tr>\n",
       "\t<tr><td>NREPT_covariate  </td><td>VOUCH0</td><td>-0.066675419</td><td>0.02794356</td><td>1.719389e-02</td></tr>\n",
       "\t<tr><td>PRSCH_C_covariate</td><td>VOUCH0</td><td> 0.153330010</td><td>0.02777540</td><td>4.198494e-08</td></tr>\n",
       "\t<tr><td>REPT_covariate   </td><td>VOUCH0</td><td>-0.054760318</td><td>0.02351785</td><td>2.006429e-02</td></tr>\n",
       "\t<tr><td>REPT6_covariate  </td><td>VOUCH0</td><td>-0.059368630</td><td>0.02456444</td><td>1.581364e-02</td></tr>\n",
       "</tbody>\n",
       "</table>\n"
      ],
      "text/latex": [
       "A tibble: 8 × 5\n",
       "\\begin{tabular}{lllll}\n",
       " model\\_index & term & estimate & std.error & p.value\\\\\n",
       " <chr> & <chr> & <dbl> & <dbl> & <dbl>\\\\\n",
       "\\hline\n",
       "\t FINISH6\\_covariate & VOUCH0 &  0.022945968 & 0.01201536 & 5.642340e-02\\\\\n",
       "\t FINISH7\\_covariate & VOUCH0 &  0.030748345 & 0.01975385 & 1.198528e-01\\\\\n",
       "\t FINISH8\\_covariate & VOUCH0 &  0.100204092 & 0.02697318 & 2.132230e-04\\\\\n",
       "\t INSCHL\\_covariate  & VOUCH0 &  0.006903514 & 0.02028772 & 7.337089e-01\\\\\n",
       "\t NREPT\\_covariate   & VOUCH0 & -0.066675419 & 0.02794356 & 1.719389e-02\\\\\n",
       "\t PRSCH\\_C\\_covariate & VOUCH0 &  0.153330010 & 0.02777540 & 4.198494e-08\\\\\n",
       "\t REPT\\_covariate    & VOUCH0 & -0.054760318 & 0.02351785 & 2.006429e-02\\\\\n",
       "\t REPT6\\_covariate   & VOUCH0 & -0.059368630 & 0.02456444 & 1.581364e-02\\\\\n",
       "\\end{tabular}\n"
      ],
      "text/markdown": [
       "\n",
       "A tibble: 8 × 5\n",
       "\n",
       "| model_index &lt;chr&gt; | term &lt;chr&gt; | estimate &lt;dbl&gt; | std.error &lt;dbl&gt; | p.value &lt;dbl&gt; |\n",
       "|---|---|---|---|---|\n",
       "| FINISH6_covariate | VOUCH0 |  0.022945968 | 0.01201536 | 5.642340e-02 |\n",
       "| FINISH7_covariate | VOUCH0 |  0.030748345 | 0.01975385 | 1.198528e-01 |\n",
       "| FINISH8_covariate | VOUCH0 |  0.100204092 | 0.02697318 | 2.132230e-04 |\n",
       "| INSCHL_covariate  | VOUCH0 |  0.006903514 | 0.02028772 | 7.337089e-01 |\n",
       "| NREPT_covariate   | VOUCH0 | -0.066675419 | 0.02794356 | 1.719389e-02 |\n",
       "| PRSCH_C_covariate | VOUCH0 |  0.153330010 | 0.02777540 | 4.198494e-08 |\n",
       "| REPT_covariate    | VOUCH0 | -0.054760318 | 0.02351785 | 2.006429e-02 |\n",
       "| REPT6_covariate   | VOUCH0 | -0.059368630 | 0.02456444 | 1.581364e-02 |\n",
       "\n"
      ],
      "text/plain": [
       "  model_index       term   estimate     std.error  p.value     \n",
       "1 FINISH6_covariate VOUCH0  0.022945968 0.01201536 5.642340e-02\n",
       "2 FINISH7_covariate VOUCH0  0.030748345 0.01975385 1.198528e-01\n",
       "3 FINISH8_covariate VOUCH0  0.100204092 0.02697318 2.132230e-04\n",
       "4 INSCHL_covariate  VOUCH0  0.006903514 0.02028772 7.337089e-01\n",
       "5 NREPT_covariate   VOUCH0 -0.066675419 0.02794356 1.719389e-02\n",
       "6 PRSCH_C_covariate VOUCH0  0.153330010 0.02777540 4.198494e-08\n",
       "7 REPT_covariate    VOUCH0 -0.054760318 0.02351785 2.006429e-02\n",
       "8 REPT6_covariate   VOUCH0 -0.059368630 0.02456444 1.581364e-02"
      ]
     },
     "metadata": {},
     "output_type": "display_data"
    }
   ],
   "source": [
    "## 留年の傾向を可視化\n",
    "### PRSCH_C,INSCHL,FINISH6-8,REPTに対するVOUCH0の効果を取り出す\n",
    "going_private_results <- df_results %>%\n",
    "  filter(term == \"VOUCH0\",\n",
    "         str_detect(model_index, \"PRSCH_C|INSCHL|FINISH|REPT\")) %>%\n",
    "  select(model_index, term, estimate, std.error, p.value) %>%\n",
    "  arrange(model_index)\n",
    "going_private_results %>% filter(str_detect(model_index, \"covariate\"))"
   ]
  },
  {
   "cell_type": "code",
   "execution_count": 12,
   "id": "threaded-ending",
   "metadata": {},
   "outputs": [
    {
     "data": {
      "image/png": "[encoded data removed]",
      "text/plain": [
       "plot without title"
      ]
     },
     "metadata": {
      "image/png": {
       "height": 420,
       "width": 420
      }
     },
     "output_type": "display_data"
    }
   ],
   "source": [
    "### 取り出した効果をggplotで可視化\n",
    "going_private_results %>%\n",
    "  filter(str_detect(model_index, \"covariate\")) %>%\n",
    "  ggplot(aes(y = estimate, x = model_index)) +\n",
    "  geom_point() +\n",
    "  geom_errorbar(aes(ymax = estimate + std.error*1.96,\n",
    "                    ymin = estimate - std.error*1.96,\n",
    "                    width = 0.1)) +\n",
    "  geom_hline(yintercept = 0, linetype = 2) +\n",
    "  theme(axis.text.x = element_text(angle = 45, hjust = 1),\n",
    "        plot.title = element_text(hjust = 0.5),\n",
    "        legend.position = \"bottom\",\n",
    "        plot.margin = margin(0.5,1,0.5,1, \"cm\"))"
   ]
  },
  {
   "cell_type": "markdown",
   "id": "lyric-consultancy",
   "metadata": {},
   "source": [
    "* `PRSCH_C`によると、奨学金によって3年通い続けるひとが15%ほど増えた。\n",
    "* `REPT6`によると6年生を再度行った(留年した)学生は、奨学金によって6%減。同じようなことは`NREPT`や`REPT`からも確認可能。\n",
    "\n",
    "\n",
    "結論→奨学金によって、**通い続ける効果**や**留年を阻止する効果**はあった。"
   ]
  },
  {
   "cell_type": "markdown",
   "id": "documented-conversion",
   "metadata": {},
   "source": [
    "性別による効果差は？"
   ]
  },
  {
   "cell_type": "code",
   "execution_count": 13,
   "id": "classified-organic",
   "metadata": {},
   "outputs": [
    {
     "data": {
      "text/html": [
       "<table class=\"dataframe\">\n",
       "<caption>A tibble: 6 × 46</caption>\n",
       "<thead>\n",
       "\t<tr><th scope=col>VOUCH0</th><th scope=col>SVY</th><th scope=col>HSVISIT</th><th scope=col>DJAMUNDI</th><th scope=col>PHONE</th><th scope=col>AGE</th><th scope=col>STRATA1</th><th scope=col>STRATA2</th><th scope=col>STRATA3</th><th scope=col>STRATA4</th><th scope=col>⋯</th><th scope=col>SEX2</th><th scope=col>TOTSCYRS</th><th scope=col>MARRIED</th><th scope=col>HASCHILD</th><th scope=col>HOURSUM</th><th scope=col>WORKING3</th><th scope=col>INSCHL</th><th scope=col>PRSCH_C</th><th scope=col>USNGSCH</th><th scope=col>PRSCHA_1</th></tr>\n",
       "\t<tr><th scope=col>&lt;dbl&gt;</th><th scope=col>&lt;dbl&gt;</th><th scope=col>&lt;dbl&gt;</th><th scope=col>&lt;dbl&gt;</th><th scope=col>&lt;dbl&gt;</th><th scope=col>&lt;dbl&gt;</th><th scope=col>&lt;dbl&gt;</th><th scope=col>&lt;dbl&gt;</th><th scope=col>&lt;dbl&gt;</th><th scope=col>&lt;dbl&gt;</th><th scope=col>⋯</th><th scope=col>&lt;dbl&gt;</th><th scope=col>&lt;dbl&gt;</th><th scope=col>&lt;dbl&gt;</th><th scope=col>&lt;dbl&gt;</th><th scope=col>&lt;dbl&gt;</th><th scope=col>&lt;dbl&gt;</th><th scope=col>&lt;dbl&gt;</th><th scope=col>&lt;dbl&gt;</th><th scope=col>&lt;dbl&gt;</th><th scope=col>&lt;dbl&gt;</th></tr>\n",
       "</thead>\n",
       "<tbody>\n",
       "\t<tr><td>1</td><td>0</td><td>0</td><td>0</td><td>1</td><td>14</td><td>0</td><td>1</td><td>0</td><td>0</td><td>⋯</td><td>0</td><td>4</td><td>0</td><td>0</td><td> 0</td><td>0</td><td>1</td><td>1</td><td>1</td><td>1</td></tr>\n",
       "\t<tr><td>0</td><td>0</td><td>0</td><td>0</td><td>1</td><td>14</td><td>0</td><td>1</td><td>0</td><td>0</td><td>⋯</td><td>1</td><td>4</td><td>0</td><td>0</td><td> 0</td><td>0</td><td>1</td><td>1</td><td>1</td><td>1</td></tr>\n",
       "\t<tr><td>0</td><td>0</td><td>0</td><td>0</td><td>1</td><td>14</td><td>1</td><td>0</td><td>0</td><td>0</td><td>⋯</td><td>1</td><td>4</td><td>0</td><td>0</td><td> 0</td><td>0</td><td>1</td><td>0</td><td>0</td><td>1</td></tr>\n",
       "\t<tr><td>0</td><td>0</td><td>0</td><td>0</td><td>1</td><td>12</td><td>0</td><td>1</td><td>0</td><td>0</td><td>⋯</td><td>0</td><td>4</td><td>0</td><td>0</td><td> 0</td><td>0</td><td>1</td><td>0</td><td>0</td><td>1</td></tr>\n",
       "\t<tr><td>1</td><td>0</td><td>0</td><td>0</td><td>1</td><td>14</td><td>0</td><td>1</td><td>0</td><td>0</td><td>⋯</td><td>1</td><td>4</td><td>0</td><td>0</td><td> 0</td><td>0</td><td>1</td><td>0</td><td>1</td><td>0</td></tr>\n",
       "\t<tr><td>1</td><td>0</td><td>0</td><td>0</td><td>1</td><td>14</td><td>0</td><td>0</td><td>1</td><td>0</td><td>⋯</td><td>0</td><td>4</td><td>0</td><td>0</td><td>28</td><td>1</td><td>1</td><td>0</td><td>0</td><td>0</td></tr>\n",
       "</tbody>\n",
       "</table>\n"
      ],
      "text/latex": [
       "A tibble: 6 × 46\n",
       "\\begin{tabular}{lllllllllllllllllllll}\n",
       " VOUCH0 & SVY & HSVISIT & DJAMUNDI & PHONE & AGE & STRATA1 & STRATA2 & STRATA3 & STRATA4 & ⋯ & SEX2 & TOTSCYRS & MARRIED & HASCHILD & HOURSUM & WORKING3 & INSCHL & PRSCH\\_C & USNGSCH & PRSCHA\\_1\\\\\n",
       " <dbl> & <dbl> & <dbl> & <dbl> & <dbl> & <dbl> & <dbl> & <dbl> & <dbl> & <dbl> & ⋯ & <dbl> & <dbl> & <dbl> & <dbl> & <dbl> & <dbl> & <dbl> & <dbl> & <dbl> & <dbl>\\\\\n",
       "\\hline\n",
       "\t 1 & 0 & 0 & 0 & 1 & 14 & 0 & 1 & 0 & 0 & ⋯ & 0 & 4 & 0 & 0 &  0 & 0 & 1 & 1 & 1 & 1\\\\\n",
       "\t 0 & 0 & 0 & 0 & 1 & 14 & 0 & 1 & 0 & 0 & ⋯ & 1 & 4 & 0 & 0 &  0 & 0 & 1 & 1 & 1 & 1\\\\\n",
       "\t 0 & 0 & 0 & 0 & 1 & 14 & 1 & 0 & 0 & 0 & ⋯ & 1 & 4 & 0 & 0 &  0 & 0 & 1 & 0 & 0 & 1\\\\\n",
       "\t 0 & 0 & 0 & 0 & 1 & 12 & 0 & 1 & 0 & 0 & ⋯ & 0 & 4 & 0 & 0 &  0 & 0 & 1 & 0 & 0 & 1\\\\\n",
       "\t 1 & 0 & 0 & 0 & 1 & 14 & 0 & 1 & 0 & 0 & ⋯ & 1 & 4 & 0 & 0 &  0 & 0 & 1 & 0 & 1 & 0\\\\\n",
       "\t 1 & 0 & 0 & 0 & 1 & 14 & 0 & 0 & 1 & 0 & ⋯ & 0 & 4 & 0 & 0 & 28 & 1 & 1 & 0 & 0 & 0\\\\\n",
       "\\end{tabular}\n"
      ],
      "text/markdown": [
       "\n",
       "A tibble: 6 × 46\n",
       "\n",
       "| VOUCH0 &lt;dbl&gt; | SVY &lt;dbl&gt; | HSVISIT &lt;dbl&gt; | DJAMUNDI &lt;dbl&gt; | PHONE &lt;dbl&gt; | AGE &lt;dbl&gt; | STRATA1 &lt;dbl&gt; | STRATA2 &lt;dbl&gt; | STRATA3 &lt;dbl&gt; | STRATA4 &lt;dbl&gt; | ⋯ ⋯ | SEX2 &lt;dbl&gt; | TOTSCYRS &lt;dbl&gt; | MARRIED &lt;dbl&gt; | HASCHILD &lt;dbl&gt; | HOURSUM &lt;dbl&gt; | WORKING3 &lt;dbl&gt; | INSCHL &lt;dbl&gt; | PRSCH_C &lt;dbl&gt; | USNGSCH &lt;dbl&gt; | PRSCHA_1 &lt;dbl&gt; |\n",
       "|---|---|---|---|---|---|---|---|---|---|---|---|---|---|---|---|---|---|---|---|---|\n",
       "| 1 | 0 | 0 | 0 | 1 | 14 | 0 | 1 | 0 | 0 | ⋯ | 0 | 4 | 0 | 0 |  0 | 0 | 1 | 1 | 1 | 1 |\n",
       "| 0 | 0 | 0 | 0 | 1 | 14 | 0 | 1 | 0 | 0 | ⋯ | 1 | 4 | 0 | 0 |  0 | 0 | 1 | 1 | 1 | 1 |\n",
       "| 0 | 0 | 0 | 0 | 1 | 14 | 1 | 0 | 0 | 0 | ⋯ | 1 | 4 | 0 | 0 |  0 | 0 | 1 | 0 | 0 | 1 |\n",
       "| 0 | 0 | 0 | 0 | 1 | 12 | 0 | 1 | 0 | 0 | ⋯ | 0 | 4 | 0 | 0 |  0 | 0 | 1 | 0 | 0 | 1 |\n",
       "| 1 | 0 | 0 | 0 | 1 | 14 | 0 | 1 | 0 | 0 | ⋯ | 1 | 4 | 0 | 0 |  0 | 0 | 1 | 0 | 1 | 0 |\n",
       "| 1 | 0 | 0 | 0 | 1 | 14 | 0 | 0 | 1 | 0 | ⋯ | 0 | 4 | 0 | 0 | 28 | 1 | 1 | 0 | 0 | 0 |\n",
       "\n"
      ],
      "text/plain": [
       "  VOUCH0 SVY HSVISIT DJAMUNDI PHONE AGE STRATA1 STRATA2 STRATA3 STRATA4 ⋯ SEX2\n",
       "1 1      0   0       0        1     14  0       1       0       0       ⋯ 0   \n",
       "2 0      0   0       0        1     14  0       1       0       0       ⋯ 1   \n",
       "3 0      0   0       0        1     14  1       0       0       0       ⋯ 1   \n",
       "4 0      0   0       0        1     12  0       1       0       0       ⋯ 0   \n",
       "5 1      0   0       0        1     14  0       1       0       0       ⋯ 1   \n",
       "6 1      0   0       0        1     14  0       0       1       0       ⋯ 0   \n",
       "  TOTSCYRS MARRIED HASCHILD HOURSUM WORKING3 INSCHL PRSCH_C USNGSCH PRSCHA_1\n",
       "1 4        0       0         0      0        1      1       1       1       \n",
       "2 4        0       0         0      0        1      1       1       1       \n",
       "3 4        0       0         0      0        1      0       0       1       \n",
       "4 4        0       0         0      0        1      0       0       1       \n",
       "5 4        0       0         0      0        1      0       1       0       \n",
       "6 4        0       0        28      1        1      0       0       0       "
      ]
     },
     "metadata": {},
     "output_type": "display_data"
    }
   ],
   "source": [
    "# (4) Angrist(2002)のTable.4 & 6 bogota 1995の再現\n",
    "## table4に使うデータを抜き出す\n",
    "data_tbl4_bog95 <- vouchers %>%\n",
    "  filter(BOG95SMP == 1, TAB3SMPL == 1,\n",
    "         !is.na(SCYFNSH), !is.na(FINISH6), !is.na(PRSCHA_1),\n",
    "         !is.na(REPT6), !is.na(NREPT), !is.na(INSCHL),\n",
    "         !is.na(FINISH7),\n",
    "         !is.na(PRSCH_C), !is.na(FINISH8), !is.na(PRSCHA_2),\n",
    "         !is.na(TOTSCYRS), !is.na(REPT)\n",
    "  ) %>%\n",
    "  select(VOUCH0, SVY, HSVISIT, DJAMUNDI, PHONE, AGE,\n",
    "         STRATA1:STRATA6, STRATAMS, DBOGOTA, D1993, D1995, D1997,\n",
    "         DMONTH1:DMONTH12, SEX_MISS, FINISH6, FINISH7, FINISH8,\n",
    "         REPT6, REPT, NREPT, SEX2, TOTSCYRS, MARRIED, HASCHILD,\n",
    "         HOURSUM,WORKING3, INSCHL,PRSCH_C,USNGSCH,PRSCHA_1)\n",
    "\n",
    "data_tbl4_bog95 %>% head()"
   ]
  },
  {
   "cell_type": "code",
   "execution_count": 14,
   "id": "female-alaska",
   "metadata": {},
   "outputs": [],
   "source": [
    "## 女子生徒のみのデータでの回帰分析\n",
    "### 女子生徒のデータだけ取り出す\n",
    "regression_data <- data_tbl4_bog95 %>% filter(SEX2 == 0)\n",
    "\n",
    "### まとめて回帰分析を実行\n",
    "df_models <- models %>%\n",
    "  mutate(model = map(.x = formula, .f = lm, data = regression_data)) %>%\n",
    "  mutate(lm_result = map(.x = model, .f = tidy))\n",
    "\n",
    "### モデルの結果を整形\n",
    "df_results_female <- df_models %>%\n",
    "  mutate(formula = as.character(formula),\n",
    "         gender = \"female\") %>%\n",
    "  select(formula, model_index, lm_result, gender) %>%\n",
    "  unnest(cols = c(lm_result))\n",
    "\n",
    "## 男子生徒のみのデータでの回帰分析\n",
    "regression_data <- data_tbl4_bog95 %>% filter(SEX2 == 1)\n",
    "\n",
    "### まとめて回帰分析を実行\n",
    "df_models <- models %>%\n",
    "  mutate(model = map(.x = formula, .f = lm, data = regression_data)) %>%\n",
    "  mutate(lm_result = map(.x = model, .f = tidy))\n",
    "\n",
    "### モデルの結果を整形\n",
    "df_results_male <- df_models %>%\n",
    "  mutate(formula = as.character(formula),\n",
    "         gender = \"male\") %>%\n",
    "  select(formula, model_index, lm_result, gender) %>%\n",
    "  unnest(cols = c(lm_result))"
   ]
  },
  {
   "cell_type": "code",
   "execution_count": 15,
   "id": "french-tuner",
   "metadata": {},
   "outputs": [
    {
     "data": {
      "text/html": [
       "<table class=\"dataframe\">\n",
       "<caption>A tibble: 4 × 6</caption>\n",
       "<thead>\n",
       "\t<tr><th scope=col>gender</th><th scope=col>model_index</th><th scope=col>term</th><th scope=col>estimate</th><th scope=col>std.error</th><th scope=col>p.value</th></tr>\n",
       "\t<tr><th scope=col>&lt;chr&gt;</th><th scope=col>&lt;chr&gt;</th><th scope=col>&lt;chr&gt;</th><th scope=col>&lt;dbl&gt;</th><th scope=col>&lt;dbl&gt;</th><th scope=col>&lt;dbl&gt;</th></tr>\n",
       "</thead>\n",
       "<tbody>\n",
       "\t<tr><td>female</td><td>PRSCHA_1_covariate</td><td>VOUCH0</td><td>0.02285852</td><td>0.02259932</td><td>3.122342e-01</td></tr>\n",
       "\t<tr><td>female</td><td>USNGSCH_covariate </td><td>VOUCH0</td><td>0.54359975</td><td>0.03199187</td><td>2.068478e-52</td></tr>\n",
       "\t<tr><td>male  </td><td>PRSCHA_1_covariate</td><td>VOUCH0</td><td>0.09017185</td><td>0.02536332</td><td>4.099666e-04</td></tr>\n",
       "\t<tr><td>male  </td><td>USNGSCH_covariate </td><td>VOUCH0</td><td>0.46767291</td><td>0.03302948</td><td>4.557167e-39</td></tr>\n",
       "</tbody>\n",
       "</table>\n"
      ],
      "text/latex": [
       "A tibble: 4 × 6\n",
       "\\begin{tabular}{llllll}\n",
       " gender & model\\_index & term & estimate & std.error & p.value\\\\\n",
       " <chr> & <chr> & <chr> & <dbl> & <dbl> & <dbl>\\\\\n",
       "\\hline\n",
       "\t female & PRSCHA\\_1\\_covariate & VOUCH0 & 0.02285852 & 0.02259932 & 3.122342e-01\\\\\n",
       "\t female & USNGSCH\\_covariate  & VOUCH0 & 0.54359975 & 0.03199187 & 2.068478e-52\\\\\n",
       "\t male   & PRSCHA\\_1\\_covariate & VOUCH0 & 0.09017185 & 0.02536332 & 4.099666e-04\\\\\n",
       "\t male   & USNGSCH\\_covariate  & VOUCH0 & 0.46767291 & 0.03302948 & 4.557167e-39\\\\\n",
       "\\end{tabular}\n"
      ],
      "text/markdown": [
       "\n",
       "A tibble: 4 × 6\n",
       "\n",
       "| gender &lt;chr&gt; | model_index &lt;chr&gt; | term &lt;chr&gt; | estimate &lt;dbl&gt; | std.error &lt;dbl&gt; | p.value &lt;dbl&gt; |\n",
       "|---|---|---|---|---|---|\n",
       "| female | PRSCHA_1_covariate | VOUCH0 | 0.02285852 | 0.02259932 | 3.122342e-01 |\n",
       "| female | USNGSCH_covariate  | VOUCH0 | 0.54359975 | 0.03199187 | 2.068478e-52 |\n",
       "| male   | PRSCHA_1_covariate | VOUCH0 | 0.09017185 | 0.02536332 | 4.099666e-04 |\n",
       "| male   | USNGSCH_covariate  | VOUCH0 | 0.46767291 | 0.03302948 | 4.557167e-39 |\n",
       "\n"
      ],
      "text/plain": [
       "  gender model_index        term   estimate   std.error  p.value     \n",
       "1 female PRSCHA_1_covariate VOUCH0 0.02285852 0.02259932 3.122342e-01\n",
       "2 female USNGSCH_covariate  VOUCH0 0.54359975 0.03199187 2.068478e-52\n",
       "3 male   PRSCHA_1_covariate VOUCH0 0.09017185 0.02536332 4.099666e-04\n",
       "4 male   USNGSCH_covariate  VOUCH0 0.46767291 0.03302948 4.557167e-39"
      ]
     },
     "metadata": {},
     "output_type": "display_data"
    },
    {
     "data": {
      "image/png": "[encoded data removed]",
      "text/plain": [
       "plot without title"
      ]
     },
     "metadata": {
      "image/png": {
       "height": 420,
       "width": 420
      }
     },
     "output_type": "display_data"
    }
   ],
   "source": [
    "## 通学傾向への分析結果の可視化(ch2_plot3.png)\n",
    "### PRSCHA_1,USNGSCHに対する分析結果を抜き出す\n",
    "using_voucher_results_gender <- rbind(df_results_male, df_results_female) %>%\n",
    "  filter(term == \"VOUCH0\", str_detect(model_index, \"PRSCHA_1|USNGSCH\")) %>%\n",
    "  select(gender, model_index, term, estimate, std.error, p.value) %>%\n",
    "  arrange(gender, model_index) %>%\n",
    "  filter(str_detect(model_index, \"covariate\"))\n",
    "\n",
    "using_voucher_results_gender\n",
    "\n",
    "### ggplotによる可視化\n",
    "using_voucher_results_gender %>%\n",
    "  filter(str_detect(model_index, \"covariate\")) %>%\n",
    "  ggplot(aes(y = estimate, x = gender)) +\n",
    "  geom_point() +\n",
    "  geom_errorbar(aes(ymax = estimate + std.error*1.96,\n",
    "                    ymin = estimate - std.error*1.96,\n",
    "                    width = 0.1)) +\n",
    "  geom_hline(yintercept = 0, linetype = 2) +\n",
    "  theme(axis.text.x = element_text(angle = 45, hjust = 1),\n",
    "        plot.title = element_text(hjust = 0.5),\n",
    "        legend.position = \"bottom\",\n",
    "        plot.margin = margin(0.5,1,0.5,1, \"cm\")) +\n",
    "  facet_grid(cols = vars(model_index)) #上下に2つに分ける"
   ]
  },
  {
   "cell_type": "markdown",
   "id": "suited-champion",
   "metadata": {},
   "source": [
    "* `PRSCHA`によると、奨学金は女性を私立学校へ通わせる効果がないかもしれない\n",
    "* `USNGSH`によると、奨学金をもらった女性の方が積極的に利用する"
   ]
  },
  {
   "cell_type": "markdown",
   "id": "statewide-liberty",
   "metadata": {},
   "source": [
    "次に私立の学校で留年せずに進学し続ける効果は？"
   ]
  },
  {
   "cell_type": "code",
   "execution_count": 16,
   "id": "greater-illinois",
   "metadata": {},
   "outputs": [
    {
     "data": {
      "text/html": [
       "<table class=\"dataframe\">\n",
       "<caption>A tibble: 6 × 6</caption>\n",
       "<thead>\n",
       "\t<tr><th scope=col>gender</th><th scope=col>model_index</th><th scope=col>term</th><th scope=col>estimate</th><th scope=col>std.error</th><th scope=col>p.value</th></tr>\n",
       "\t<tr><th scope=col>&lt;chr&gt;</th><th scope=col>&lt;chr&gt;</th><th scope=col>&lt;chr&gt;</th><th scope=col>&lt;dbl&gt;</th><th scope=col>&lt;dbl&gt;</th><th scope=col>&lt;dbl&gt;</th></tr>\n",
       "</thead>\n",
       "<tbody>\n",
       "\t<tr><td>male  </td><td>FINISH6_base     </td><td>VOUCH0</td><td>0.01700969</td><td>0.01970101</td><td>0.388283421</td></tr>\n",
       "\t<tr><td>female</td><td>FINISH6_base     </td><td>VOUCH0</td><td>0.03575446</td><td>0.01373312</td><td>0.009467571</td></tr>\n",
       "\t<tr><td>male  </td><td>FINISH6_covariate</td><td>VOUCH0</td><td>0.01444925</td><td>0.01967974</td><td>0.463125618</td></tr>\n",
       "\t<tr><td>female</td><td>FINISH6_covariate</td><td>VOUCH0</td><td>0.03174638</td><td>0.01391696</td><td>0.022920247</td></tr>\n",
       "\t<tr><td>male  </td><td>FINISH7_base     </td><td>VOUCH0</td><td>0.02584746</td><td>0.03075602</td><td>0.401032927</td></tr>\n",
       "\t<tr><td>female</td><td>FINISH7_base     </td><td>VOUCH0</td><td>0.05534360</td><td>0.02537577</td><td>0.029594186</td></tr>\n",
       "</tbody>\n",
       "</table>\n"
      ],
      "text/latex": [
       "A tibble: 6 × 6\n",
       "\\begin{tabular}{llllll}\n",
       " gender & model\\_index & term & estimate & std.error & p.value\\\\\n",
       " <chr> & <chr> & <chr> & <dbl> & <dbl> & <dbl>\\\\\n",
       "\\hline\n",
       "\t male   & FINISH6\\_base      & VOUCH0 & 0.01700969 & 0.01970101 & 0.388283421\\\\\n",
       "\t female & FINISH6\\_base      & VOUCH0 & 0.03575446 & 0.01373312 & 0.009467571\\\\\n",
       "\t male   & FINISH6\\_covariate & VOUCH0 & 0.01444925 & 0.01967974 & 0.463125618\\\\\n",
       "\t female & FINISH6\\_covariate & VOUCH0 & 0.03174638 & 0.01391696 & 0.022920247\\\\\n",
       "\t male   & FINISH7\\_base      & VOUCH0 & 0.02584746 & 0.03075602 & 0.401032927\\\\\n",
       "\t female & FINISH7\\_base      & VOUCH0 & 0.05534360 & 0.02537577 & 0.029594186\\\\\n",
       "\\end{tabular}\n"
      ],
      "text/markdown": [
       "\n",
       "A tibble: 6 × 6\n",
       "\n",
       "| gender &lt;chr&gt; | model_index &lt;chr&gt; | term &lt;chr&gt; | estimate &lt;dbl&gt; | std.error &lt;dbl&gt; | p.value &lt;dbl&gt; |\n",
       "|---|---|---|---|---|---|\n",
       "| male   | FINISH6_base      | VOUCH0 | 0.01700969 | 0.01970101 | 0.388283421 |\n",
       "| female | FINISH6_base      | VOUCH0 | 0.03575446 | 0.01373312 | 0.009467571 |\n",
       "| male   | FINISH6_covariate | VOUCH0 | 0.01444925 | 0.01967974 | 0.463125618 |\n",
       "| female | FINISH6_covariate | VOUCH0 | 0.03174638 | 0.01391696 | 0.022920247 |\n",
       "| male   | FINISH7_base      | VOUCH0 | 0.02584746 | 0.03075602 | 0.401032927 |\n",
       "| female | FINISH7_base      | VOUCH0 | 0.05534360 | 0.02537577 | 0.029594186 |\n",
       "\n"
      ],
      "text/plain": [
       "  gender model_index       term   estimate   std.error  p.value    \n",
       "1 male   FINISH6_base      VOUCH0 0.01700969 0.01970101 0.388283421\n",
       "2 female FINISH6_base      VOUCH0 0.03575446 0.01373312 0.009467571\n",
       "3 male   FINISH6_covariate VOUCH0 0.01444925 0.01967974 0.463125618\n",
       "4 female FINISH6_covariate VOUCH0 0.03174638 0.01391696 0.022920247\n",
       "5 male   FINISH7_base      VOUCH0 0.02584746 0.03075602 0.401032927\n",
       "6 female FINISH7_base      VOUCH0 0.05534360 0.02537577 0.029594186"
      ]
     },
     "metadata": {},
     "output_type": "display_data"
    },
    {
     "data": {
      "image/png": "[encoded data removed]",
      "text/plain": [
       "plot without title"
      ]
     },
     "metadata": {
      "image/png": {
       "height": 240,
       "width": 720
      }
     },
     "output_type": "display_data"
    }
   ],
   "source": [
    "## 留年と通学年数への分析結果の可視化(ch2_plot4.png)\n",
    "### PRSCH_C,INSCHL,REPT,TOTSCYRS,FINISHに対する分析結果を抜き出す\n",
    "going_private_results_gender <- rbind(df_results_male, df_results_female) %>%\n",
    "  filter(term == \"VOUCH0\",\n",
    "         str_detect(model_index, \"PRSCH_C|INSCHL|REPT|TOTSCYRS|FINISH\")) %>%\n",
    "  select(gender, model_index, term, estimate, std.error, p.value) %>%\n",
    "  arrange(model_index)\n",
    "\n",
    "going_private_results_gender %>% head()\n",
    "\n",
    "### ggplotによる可視化\n",
    "options(repr.plot.width = 12, repr.plot.height = 4)\n",
    "going_private_results_gender %>%\n",
    "  filter(str_detect(model_index, \"covariate\")) %>%\n",
    "  ggplot(aes(y = estimate, x = gender)) +\n",
    "  geom_point() +\n",
    "  geom_errorbar(aes(ymax = estimate + std.error*1.96,\n",
    "                    ymin = estimate - std.error*1.96,\n",
    "                    width = 0.1)) +\n",
    "  geom_hline(yintercept = 0, linetype = 2) +\n",
    "  theme(axis.text.x = element_text(angle = 45, hjust = 1),\n",
    "        plot.title = element_text(hjust = 0.5),\n",
    "        legend.position = \"bottom\",\n",
    "        plot.margin = margin(0.5,1,0.5,1, \"cm\")) +\n",
    "  facet_grid(cols=vars(model_index))\n"
   ]
  },
  {
   "cell_type": "markdown",
   "id": "basic-yield",
   "metadata": {},
   "source": [
    "* `PRSCH_C`によると、女性の方が通学を継続する効果が高い (`INSCHL`でも女性の方が多く見えるが優位な差はない)\n",
    "* `REPT6`によると、男性と違い女性では、奨学金によって留年の割合が減少することはないかもしれない"
   ]
  },
  {
   "cell_type": "markdown",
   "id": "enormous-conviction",
   "metadata": {},
   "source": [
    "では奨学金による労働時間への影響は？"
   ]
  },
  {
   "cell_type": "code",
   "execution_count": 17,
   "id": "olive-purchase",
   "metadata": {},
   "outputs": [
    {
     "data": {
      "text/html": [
       "<table class=\"dataframe\">\n",
       "<caption>A tibble: 4 × 6</caption>\n",
       "<thead>\n",
       "\t<tr><th scope=col>gender</th><th scope=col>model_index</th><th scope=col>term</th><th scope=col>estimate</th><th scope=col>std.error</th><th scope=col>p.value</th></tr>\n",
       "\t<tr><th scope=col>&lt;chr&gt;</th><th scope=col>&lt;chr&gt;</th><th scope=col>&lt;chr&gt;</th><th scope=col>&lt;dbl&gt;</th><th scope=col>&lt;dbl&gt;</th><th scope=col>&lt;dbl&gt;</th></tr>\n",
       "</thead>\n",
       "<tbody>\n",
       "\t<tr><td>female</td><td>HOURSUM_base     </td><td>VOUCH0</td><td>-2.3820983</td><td>0.6801634</td><td>0.0004975077</td></tr>\n",
       "\t<tr><td>female</td><td>HOURSUM_covariate</td><td>VOUCH0</td><td>-2.1157834</td><td>0.6850077</td><td>0.0021112894</td></tr>\n",
       "\t<tr><td>male  </td><td>HOURSUM_base     </td><td>VOUCH0</td><td>-0.5095642</td><td>1.1154836</td><td>0.6479806571</td></tr>\n",
       "\t<tr><td>male  </td><td>HOURSUM_covariate</td><td>VOUCH0</td><td>-0.6376087</td><td>1.0683685</td><td>0.5508807000</td></tr>\n",
       "</tbody>\n",
       "</table>\n"
      ],
      "text/latex": [
       "A tibble: 4 × 6\n",
       "\\begin{tabular}{llllll}\n",
       " gender & model\\_index & term & estimate & std.error & p.value\\\\\n",
       " <chr> & <chr> & <chr> & <dbl> & <dbl> & <dbl>\\\\\n",
       "\\hline\n",
       "\t female & HOURSUM\\_base      & VOUCH0 & -2.3820983 & 0.6801634 & 0.0004975077\\\\\n",
       "\t female & HOURSUM\\_covariate & VOUCH0 & -2.1157834 & 0.6850077 & 0.0021112894\\\\\n",
       "\t male   & HOURSUM\\_base      & VOUCH0 & -0.5095642 & 1.1154836 & 0.6479806571\\\\\n",
       "\t male   & HOURSUM\\_covariate & VOUCH0 & -0.6376087 & 1.0683685 & 0.5508807000\\\\\n",
       "\\end{tabular}\n"
      ],
      "text/markdown": [
       "\n",
       "A tibble: 4 × 6\n",
       "\n",
       "| gender &lt;chr&gt; | model_index &lt;chr&gt; | term &lt;chr&gt; | estimate &lt;dbl&gt; | std.error &lt;dbl&gt; | p.value &lt;dbl&gt; |\n",
       "|---|---|---|---|---|---|\n",
       "| female | HOURSUM_base      | VOUCH0 | -2.3820983 | 0.6801634 | 0.0004975077 |\n",
       "| female | HOURSUM_covariate | VOUCH0 | -2.1157834 | 0.6850077 | 0.0021112894 |\n",
       "| male   | HOURSUM_base      | VOUCH0 | -0.5095642 | 1.1154836 | 0.6479806571 |\n",
       "| male   | HOURSUM_covariate | VOUCH0 | -0.6376087 | 1.0683685 | 0.5508807000 |\n",
       "\n"
      ],
      "text/plain": [
       "  gender model_index       term   estimate   std.error p.value     \n",
       "1 female HOURSUM_base      VOUCH0 -2.3820983 0.6801634 0.0004975077\n",
       "2 female HOURSUM_covariate VOUCH0 -2.1157834 0.6850077 0.0021112894\n",
       "3 male   HOURSUM_base      VOUCH0 -0.5095642 1.1154836 0.6479806571\n",
       "4 male   HOURSUM_covariate VOUCH0 -0.6376087 1.0683685 0.5508807000"
      ]
     },
     "metadata": {},
     "output_type": "display_data"
    },
    {
     "data": {
      "image/png": "[encoded data removed]",
      "text/plain": [
       "plot without title"
      ]
     },
     "metadata": {
      "image/png": {
       "height": 240,
       "width": 360
      }
     },
     "output_type": "display_data"
    }
   ],
   "source": [
    "## 労働時間に対する分析結果の可視化(ch2_plot5.png)\n",
    "### HOURに対する分析結果を抜き出す\n",
    "working_hour_results_gender <- rbind(df_results_male, df_results_female) %>%\n",
    "  filter(term == \"VOUCH0\", str_detect(model_index, \"HOUR\")) %>%\n",
    "  select(gender, model_index, term, estimate, std.error, p.value) %>%\n",
    "  arrange(gender, model_index)\n",
    "\n",
    "working_hour_results_gender \n",
    "\n",
    "### ggplotによる可視化\n",
    "options(repr.plot.width = 6, repr.plot.height = 4)\n",
    "working_hour_results_gender %>%\n",
    "  filter(str_detect(model_index, \"covariate\")) %>%\n",
    "  ggplot(aes(y = estimate, x = model_index)) +\n",
    "  geom_point() +\n",
    "  geom_errorbar(aes(ymax = estimate + std.error*1.96,\n",
    "                    ymin = estimate - std.error*1.96,\n",
    "                    width = 0.1)) +\n",
    "  geom_hline(yintercept = 0, linetype = 2) +\n",
    "  theme(axis.text.x = element_text(angle = 45, hjust = 1),\n",
    "        plot.title = element_text(hjust = 0.5),\n",
    "        legend.position = \"bottom\",\n",
    "        plot.margin = margin(0.5,1,0.5,1, \"cm\")) +\n",
    "  facet_grid(. ~ gender)"
   ]
  },
  {
   "cell_type": "markdown",
   "id": "loaded-information",
   "metadata": {},
   "source": [
    "* 男性では労働時間への影響は有意ではない\n",
    "* 女性は労働時間が減少している"
   ]
  },
  {
   "cell_type": "code",
   "execution_count": null,
   "id": "understanding-comment",
   "metadata": {},
   "outputs": [],
   "source": []
  },
  {
   "cell_type": "code",
   "execution_count": null,
   "id": "mounted-dictionary",
   "metadata": {},
   "outputs": [],
   "source": []
  }
 ],
 "metadata": {
  "kernelspec": {
   "display_name": "R",
   "language": "R",
   "name": "ir"
  },
  "language_info": {
   "codemirror_mode": "r",
   "file_extension": ".r",
   "mimetype": "text/x-r-source",
   "name": "R",
   "pygments_lexer": "r",
   "version": "4.0.3"
  }
 },
 "nbformat": 4,
 "nbformat_minor": 5
}
