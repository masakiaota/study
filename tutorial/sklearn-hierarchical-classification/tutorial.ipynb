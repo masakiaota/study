{
 "cells": [
  {
   "cell_type": "markdown",
   "metadata": {},
   "source": [
    "こちらを回してみる\n",
    "\n",
    "https://github.com/globality-corp/sklearn-hierarchical-classification/blob/develop/examples/classify_digits.py"
   ]
  },
  {
   "cell_type": "code",
   "execution_count": 1,
   "metadata": {},
   "outputs": [],
   "source": [
    "from sklearn import svm\n",
    "from sklearn.decomposition import TruncatedSVD\n",
    "from sklearn.metrics import classification_report\n",
    "from sklearn.model_selection import train_test_split\n",
    "from sklearn.pipeline import make_pipeline\n",
    "\n",
    "from sklearn_hierarchical_classification.classifier import HierarchicalClassifier\n",
    "from sklearn_hierarchical_classification.constants import ROOT\n",
    "from sklearn_hierarchical_classification.metrics import h_fbeta_score, multi_labeled\n",
    "from sklearn_hierarchical_classification.tests.fixtures import make_digits_dataset\n",
    "\n",
    "from tqdm import tqdm\n",
    "\n",
    "import matplotlib.pyplot as plt\n",
    "import seaborn as sns\n",
    "sns.set()\n",
    "%config InlineBackend.figure_formats = {'png', 'retina'}\n",
    "\n",
    "# Used for seeding random state\n",
    "RANDOM_STATE = 42"
   ]
  },
  {
   "cell_type": "code",
   "execution_count": 2,
   "metadata": {},
   "outputs": [],
   "source": [
    "\"\"\"Test that a nontrivial hierarchy leaf classification behaves as expected.\n",
    "    We build the following class hierarchy along with data from the handwritten digits dataset:\n",
    "            <ROOT>\n",
    "           /      \\\n",
    "          A        B\n",
    "         / \\       |  \\\n",
    "        1   7      C   9\n",
    "                 /   \\\n",
    "                3     8\n",
    "\"\"\"\n",
    "# define hierarchy\n",
    "class_hierarchy = {\n",
    "        ROOT: [\"A\", \"B\"],\n",
    "        \"A\": [\"1\", \"7\"],\n",
    "        \"B\": [\"C\", \"9\"],\n",
    "        \"C\": [\"3\", \"8\"],\n",
    "    }"
   ]
  },
  {
   "cell_type": "code",
   "execution_count": 3,
   "metadata": {},
   "outputs": [
    {
     "data": {
      "text/plain": [
       "((898, 64), (898,))"
      ]
     },
     "execution_count": 3,
     "metadata": {},
     "output_type": "execute_result"
    }
   ],
   "source": [
    "X, y = make_digits_dataset(\n",
    "        targets=[1, 7, 3, 8, 9],\n",
    "        as_str=False,)\n",
    "# cast the targets to strings so we have consistent typing of labels across hierarchy\n",
    "y = y.astype(str)\n",
    "X.shape,y.shape #MNIST"
   ]
  },
  {
   "cell_type": "code",
   "execution_count": 4,
   "metadata": {},
   "outputs": [],
   "source": [
    "# split for evaluation\n",
    "X_train, X_test, y_train, y_test = train_test_split(\n",
    "        X,\n",
    "        y,\n",
    "        test_size=0.2,\n",
    "        random_state=RANDOM_STATE,)"
   ]
  },
  {
   "cell_type": "code",
   "execution_count": 5,
   "metadata": {},
   "outputs": [
    {
     "name": "stdout",
     "output_type": "stream",
     "text": [
      "['7' '3' '7' '1' '1']\n"
     ]
    },
    {
     "data": {
      "image/png": "[encoded data removed]",
      "text/plain": [
       "<Figure size 720x360 with 5 Axes>"
      ]
     },
     "metadata": {
      "image/png": {
       "height": 133,
       "width": 591
      },
      "needs_background": "light"
     },
     "output_type": "display_data"
    }
   ],
   "source": [
    "plt.figure(figsize=[10,5])\n",
    "print(y_train[:5])\n",
    "for i,x in enumerate(X_train[:5]):\n",
    "    plt.subplot(1,5,i+1)\n",
    "    plt.imshow(x.reshape(8,8))"
   ]
  },
  {
   "cell_type": "code",
   "execution_count": 6,
   "metadata": {},
   "outputs": [],
   "source": [
    "base_estimator = make_pipeline(\n",
    "        TruncatedSVD(n_components=24),\n",
    "        svm.SVC(\n",
    "            gamma=0.001,\n",
    "            kernel=\"rbf\",\n",
    "            probability=True\n",
    "        ),\n",
    "    )\n",
    "clf = HierarchicalClassifier(\n",
    "    base_estimator=base_estimator,\n",
    "    class_hierarchy=class_hierarchy,\n",
    "    progress_wrapper=tqdm\n",
    ")"
   ]
  },
  {
   "cell_type": "code",
   "execution_count": 7,
   "metadata": {},
   "outputs": [
    {
     "name": "stderr",
     "output_type": "stream",
     "text": [
      "Building features: 100%|██████████| 9/9 [00:00<00:00, 54.21it/s]\n",
      "Training base classifiers: 100%|██████████| 9/9 [00:00<00:00, 23.23it/s]\n"
     ]
    },
    {
     "data": {
      "text/plain": [
       "masked_array(data=['8', '9', '8', '9', '3'],\n",
       "             mask=False,\n",
       "       fill_value='N',\n",
       "            dtype='<U1')"
      ]
     },
     "execution_count": 7,
     "metadata": {},
     "output_type": "execute_result"
    }
   ],
   "source": [
    "clf.fit(X_train, y_train)\n",
    "y_pred = clf.predict(X_test)\n",
    "y_pred[:5]"
   ]
  },
  {
   "cell_type": "code",
   "execution_count": 8,
   "metadata": {},
   "outputs": [
    {
     "name": "stdout",
     "output_type": "stream",
     "text": [
      "Classification Report:\n",
      "               precision    recall  f1-score   support\n",
      "\n",
      "           1       1.00      1.00      1.00        37\n",
      "           3       1.00      1.00      1.00        41\n",
      "           7       1.00      1.00      1.00        30\n",
      "           8       0.97      1.00      0.99        36\n",
      "           9       1.00      0.97      0.99        36\n",
      "\n",
      "    accuracy                           0.99       180\n",
      "   macro avg       0.99      0.99      0.99       180\n",
      "weighted avg       0.99      0.99      0.99       180\n",
      "\n"
     ]
    }
   ],
   "source": [
    "print(\"Classification Report:\\n\", classification_report(y_test, y_pred))"
   ]
  },
  {
   "cell_type": "code",
   "execution_count": 9,
   "metadata": {},
   "outputs": [
    {
     "name": "stdout",
     "output_type": "stream",
     "text": [
      "h_fbeta_score:  0.9965714285714286\n"
     ]
    }
   ],
   "source": [
    "# Demonstrate using our hierarchical metrics module with MLB wrapper\n",
    "with multi_labeled(y_test, y_pred, clf.graph_) as (y_test_, y_pred_, graph_):\n",
    "    h_fbeta = h_fbeta_score(\n",
    "        y_test_,\n",
    "        y_pred_,\n",
    "        graph_,\n",
    "    )\n",
    "print(\"h_fbeta_score: \", h_fbeta)"
   ]
  },
  {
   "cell_type": "code",
   "execution_count": 10,
   "metadata": {},
   "outputs": [
    {
     "data": {
      "text/plain": [
       "<contextlib._GeneratorContextManager at 0x7f7eee152b00>"
      ]
     },
     "execution_count": 10,
     "metadata": {},
     "output_type": "execute_result"
    }
   ],
   "source": [
    "multi_labeled(y_test, y_pred, clf.graph_)"
   ]
  },
  {
   "cell_type": "code",
   "execution_count": 11,
   "metadata": {},
   "outputs": [
    {
     "data": {
      "text/plain": [
       "AdjacencyView({'<ROOT>': {'A': {}, 'B': {}}, 'A': {'1': {}, '7': {}}, 'B': {'C': {}, '9': {}}, 'C': {'3': {}, '8': {}}, '1': {}, '7': {}, '9': {}, '3': {}, '8': {}})"
      ]
     },
     "execution_count": 11,
     "metadata": {},
     "output_type": "execute_result"
    }
   ],
   "source": [
    "clf.graph_.adj"
   ]
  },
  {
   "cell_type": "code",
   "execution_count": 12,
   "metadata": {},
   "outputs": [
    {
     "name": "stdout",
     "output_type": "stream",
     "text": [
      "(180, 8)\n"
     ]
    },
    {
     "data": {
      "text/plain": [
       "array([0, 0, 0, 0, 1, 0, 0, 0])"
      ]
     },
     "execution_count": 12,
     "metadata": {},
     "output_type": "execute_result"
    }
   ],
   "source": [
    "print(y_pred_.shape) # 8 means graph_ has 8 node\n",
    "y_pred_[14] # notmultilabel just one-hot"
   ]
  },
  {
   "cell_type": "code",
   "execution_count": null,
   "metadata": {},
   "outputs": [],
   "source": []
  }
 ],
 "metadata": {
  "kernelspec": {
   "display_name": "Python 3",
   "language": "python",
   "name": "python3"
  },
  "language_info": {
   "codemirror_mode": {
    "name": "ipython",
    "version": 3
   },
   "file_extension": ".py",
   "mimetype": "text/x-python",
   "name": "python",
   "nbconvert_exporter": "python",
   "pygments_lexer": "ipython3",
   "version": "3.6.6"
  }
 },
 "nbformat": 4,
 "nbformat_minor": 2
}
