{
 "cells": [
  {
   "cell_type": "code",
   "execution_count": 1,
   "metadata": {},
   "outputs": [],
   "source": [
    "import jax.numpy as jnp\n",
    "from jax import grad, jit, vmap, hessian, jvp\n",
    "from jax import random\n",
    "import numpy as np"
   ]
  },
  {
   "cell_type": "code",
   "execution_count": 2,
   "metadata": {},
   "outputs": [],
   "source": [
    "def pu_sl(y_observed: np.ndarray,\n",
    "          y_pred: np.ndarray,\n",
    "          prior: float):\n",
    "    N = y_observed.shape[0]\n",
    "    NP = (y_observed == 1).sum()\n",
    "    mask = y_observed == 1\n",
    "    # loss\n",
    "    loss = 1 / (4 * N) * (y_pred + 1)**2\n",
    "    tmp = -prior / NP * y_pred * y_observed\n",
    "    loss += tmp\n",
    "    # grad\n",
    "    grad = 1 / (2 * N) * (y_pred + 1)\n",
    "    grad -= prior / NP * y_observed\n",
    "    # hess\n",
    "    hess = 1 / (2 * N) * np.ones_like(grad)\n",
    "    return loss.sum(), grad, hess"
   ]
  },
  {
   "cell_type": "code",
   "execution_count": 3,
   "metadata": {},
   "outputs": [],
   "source": [
    "y_obs=np.array([0,1,1,0]*10000)\n",
    "y_pred=np.random.random(4*10000)*2-1\n",
    "prior=0.5"
   ]
  },
  {
   "cell_type": "code",
   "execution_count": 4,
   "metadata": {},
   "outputs": [
    {
     "data": {
      "text/plain": [
       "(0.33569573984036194,\n",
       " array([ 6.73749298e-06, -9.80903618e-06, -4.25412076e-06, ...,\n",
       "        -3.84448674e-06, -1.12459272e-05,  1.02419521e-05]),\n",
       " array([1.25e-05, 1.25e-05, 1.25e-05, ..., 1.25e-05, 1.25e-05, 1.25e-05]))"
      ]
     },
     "execution_count": 4,
     "metadata": {},
     "output_type": "execute_result"
    }
   ],
   "source": [
    "pu_sl(y_obs, y_pred, prior)"
   ]
  },
  {
   "cell_type": "code",
   "execution_count": 5,
   "metadata": {},
   "outputs": [
    {
     "name": "stdout",
     "output_type": "stream",
     "text": [
      "581 µs ± 105 µs per loop (mean ± std. dev. of 7 runs, 1000 loops each)\n"
     ]
    }
   ],
   "source": [
    "%timeit pu_sl(y_obs, y_pred, prior)"
   ]
  },
  {
   "cell_type": "code",
   "execution_count": null,
   "metadata": {},
   "outputs": [],
   "source": []
  },
  {
   "cell_type": "code",
   "execution_count": 6,
   "metadata": {},
   "outputs": [],
   "source": [
    "def sl(y:int, g:float): return 1/4*((y*g-1)**2)\n",
    "grad_sl=jit(grad(sl, argnums=1))\n",
    "hess_sl=jit(grad(grad_sl, argnums=1))\n",
    "\n",
    "sl_map=jit(vmap(sl))\n",
    "grad_sl_map=jit(vmap(grad_sl))\n",
    "hess_sl_map=jit(vmap(hess_sl))"
   ]
  },
  {
   "cell_type": "code",
   "execution_count": 7,
   "metadata": {},
   "outputs": [],
   "source": [
    "@jit\n",
    "def pu_sl(y_observed: np.ndarray, #0,1のみ\n",
    "          y_pred: np.ndarray,\n",
    "          prior: float):\n",
    "    y_observed=jnp.asarray(y_observed, dtype=jnp.int8)\n",
    "    y_pred=jnp.asarray(y_pred,dtype=jnp.float32)\n",
    "\n",
    "    N = y_observed.shape[0]\n",
    "    NP = (y_observed == 1).sum()\n",
    "    \n",
    "    # loss for y*=1\n",
    "    lossP = prior/NP * jnp.sum(sl_map(jnp.ones_like(y_pred), y_pred) * y_observed)\n",
    "    \n",
    "    # loss for y*=-1\n",
    "    lossN = jnp.mean(sl_map(-jnp.ones_like(y_pred), y_pred)) - prior/NP*jnp.sum(sl_map(-jnp.ones_like(y_pred), y_pred) * y_observed)\n",
    "    \n",
    "    loss=lossP\n",
    "    grad=prior/NP * grad_sl_map(jnp.ones_like(y_pred), y_pred) * y_observed\n",
    "    hess=prior/NP * hess_sl_map(jnp.ones_like(y_pred), y_pred) * y_observed\n",
    "  \n",
    "    is_non_negative=(lossN > 0) #jax.jit doesnt support `if` statement...\n",
    "#     if lossN > 0: #if non-negative risk for loss N\n",
    "    loss += lossN * is_non_negative\n",
    "    grad += (1/N * grad_sl_map(-jnp.ones_like(y_pred), y_pred) \\\n",
    "             - prior/NP * grad_sl_map(-jnp.ones_like(y_pred), y_pred) * y_observed) * is_non_negative\n",
    "    hess += (1/N * hess_sl_map(-jnp.ones_like(y_pred), y_pred) \\\n",
    "             - prior/NP * hess_sl_map(-jnp.ones_like(y_pred), y_pred) * y_observed) * is_non_negative\n",
    "    return loss, grad, hess"
   ]
  },
  {
   "cell_type": "code",
   "execution_count": 8,
   "metadata": {},
   "outputs": [
    {
     "name": "stderr",
     "output_type": "stream",
     "text": [
      "/Users/masaki/.pyenv/versions/3.6.9/lib/python3.6/site-packages/jax/lib/xla_bridge.py:130: UserWarning: No GPU/TPU found, falling back to CPU.\n",
      "  warnings.warn('No GPU/TPU found, falling back to CPU.')\n"
     ]
    },
    {
     "data": {
      "text/plain": [
       "(DeviceArray(0.33569568, dtype=float32),\n",
       " DeviceArray([ 6.73749264e-06, -9.80903587e-06, -4.25412145e-06, ...,\n",
       "              -3.84448776e-06, -1.12459265e-05,  1.02419526e-05],            dtype=float32),\n",
       " DeviceArray([1.25e-05, 1.25e-05, 1.25e-05, ..., 1.25e-05, 1.25e-05,\n",
       "              1.25e-05], dtype=float32))"
      ]
     },
     "execution_count": 8,
     "metadata": {},
     "output_type": "execute_result"
    }
   ],
   "source": [
    "pu_sl(y_obs, y_pred, prior)"
   ]
  },
  {
   "cell_type": "code",
   "execution_count": 9,
   "metadata": {},
   "outputs": [
    {
     "name": "stdout",
     "output_type": "stream",
     "text": [
      "505 µs ± 101 µs per loop (mean ± std. dev. of 7 runs, 1000 loops each)\n"
     ]
    }
   ],
   "source": [
    "%timeit pu_sl(y_obs, y_pred, prior)"
   ]
  },
  {
   "cell_type": "code",
   "execution_count": null,
   "metadata": {},
   "outputs": [],
   "source": []
  },
  {
   "cell_type": "code",
   "execution_count": null,
   "metadata": {},
   "outputs": [],
   "source": []
  },
  {
   "cell_type": "code",
   "execution_count": null,
   "metadata": {},
   "outputs": [],
   "source": []
  },
  {
   "cell_type": "code",
   "execution_count": null,
   "metadata": {},
   "outputs": [],
   "source": []
  },
  {
   "cell_type": "code",
   "execution_count": 62,
   "metadata": {},
   "outputs": [],
   "source": [
    "tmp=vmap(grad_sl)\n",
    "a=np.ones(4*10000)\n",
    "b=np.array([-1,0,1,2]*10000, dtype='float') "
   ]
  },
  {
   "cell_type": "code",
   "execution_count": 72,
   "metadata": {},
   "outputs": [
    {
     "name": "stdout",
     "output_type": "stream",
     "text": [
      "323 µs ± 31.1 µs per loop (mean ± std. dev. of 7 runs, 1000 loops each)\n"
     ]
    }
   ],
   "source": [
    "%timeit sl_map(a,b)"
   ]
  },
  {
   "cell_type": "code",
   "execution_count": 73,
   "metadata": {},
   "outputs": [
    {
     "name": "stdout",
     "output_type": "stream",
     "text": [
      "408 µs ± 72 µs per loop (mean ± std. dev. of 7 runs, 1000 loops each)\n"
     ]
    }
   ],
   "source": [
    "%timeit grad_sl_map(a,b)"
   ]
  },
  {
   "cell_type": "code",
   "execution_count": 74,
   "metadata": {},
   "outputs": [
    {
     "name": "stdout",
     "output_type": "stream",
     "text": [
      "331 µs ± 41.5 µs per loop (mean ± std. dev. of 7 runs, 1000 loops each)\n"
     ]
    }
   ],
   "source": [
    "%timeit hess_sl_map(a,b)"
   ]
  },
  {
   "cell_type": "code",
   "execution_count": null,
   "metadata": {},
   "outputs": [],
   "source": []
  },
  {
   "cell_type": "code",
   "execution_count": null,
   "metadata": {},
   "outputs": [],
   "source": []
  },
  {
   "cell_type": "code",
   "execution_count": null,
   "metadata": {},
   "outputs": [],
   "source": []
  },
  {
   "cell_type": "code",
   "execution_count": null,
   "metadata": {},
   "outputs": [],
   "source": []
  },
  {
   "cell_type": "code",
   "execution_count": 41,
   "metadata": {},
   "outputs": [
    {
     "data": {
      "text/plain": [
       "DeviceArray([2., 2., 2., 2.], dtype=float32)"
      ]
     },
     "execution_count": 41,
     "metadata": {},
     "output_type": "execute_result"
    }
   ],
   "source": [
    "jit(vmap(hess_sl))(np.ones(4), np.array([-1,0,1,2], dtype='float') )"
   ]
  },
  {
   "cell_type": "code",
   "execution_count": null,
   "metadata": {},
   "outputs": [],
   "source": []
  },
  {
   "cell_type": "code",
   "execution_count": 6,
   "metadata": {},
   "outputs": [],
   "source": [
    "class PU_SL:\n",
    "    def __init__(self,prior):\n",
    "        self.prior=prior\n",
    "        self._loss=jit(self._lossfunc, backend='cpu')\n",
    "        self._set_grad()\n",
    "        self._set_hess()\n",
    "\n",
    "    def __call__(self, y_observed:np.ndarray, y_pred:np.ndarray):\n",
    "        loss=self._loss(y_observed, y_pred)\n",
    "        grad=self._grad(y_observed, y_pred)\n",
    "        hess=self._hess(y_observed, y_pred)\n",
    "        return loss, grad, hess\n",
    "    \n",
    "    def _lossfunc(self,\n",
    "              y_observed: np.ndarray,\n",
    "              y_pred: np.ndarray):\n",
    "        N = y_observed.shape[0]\n",
    "        NP = (y_observed == 1).sum()\n",
    "        # loss\n",
    "        loss = 1 / (4 * N) * jnp.square((y_pred + 1))\n",
    "        tmp = -self.prior / NP * y_pred * y_observed\n",
    "        loss += tmp\n",
    "        return loss.sum()\n",
    "    \n",
    "    def _set_grad(self):\n",
    "        self._grad = jit(grad(self._loss, argnums=1), backend='cpu')\n",
    "    \n",
    "    def _set_hess(self):\n",
    "        def h(y_observed:np.ndarray,\n",
    "              y_pred:np.ndarray):\n",
    "            return self._grad(y_obs,y_pred).sum()\n",
    "        self._hess = jit(grad(h, argnums=1), backend='cpu')"
   ]
  },
  {
   "cell_type": "code",
   "execution_count": 7,
   "metadata": {},
   "outputs": [],
   "source": [
    "pu_sl = PU_SL(0.5)"
   ]
  },
  {
   "cell_type": "code",
   "execution_count": 8,
   "metadata": {},
   "outputs": [
    {
     "name": "stderr",
     "output_type": "stream",
     "text": [
      "/Users/masaki/.pyenv/versions/3.6.9/lib/python3.6/site-packages/jax/lib/xla_bridge.py:130: UserWarning: No GPU/TPU found, falling back to CPU.\n",
      "  warnings.warn('No GPU/TPU found, falling back to CPU.')\n"
     ]
    },
    {
     "name": "stdout",
     "output_type": "stream",
     "text": [
      "1.11 ms ± 82.3 µs per loop (mean ± std. dev. of 7 runs, 1 loop each)\n"
     ]
    }
   ],
   "source": [
    "%timeit pu_sl(y_obs, y_pred)"
   ]
  },
  {
   "cell_type": "code",
   "execution_count": null,
   "metadata": {},
   "outputs": [],
   "source": []
  },
  {
   "cell_type": "code",
   "execution_count": 9,
   "metadata": {},
   "outputs": [],
   "source": [
    "def pu_sl(y_observed: np.ndarray,\n",
    "          y_pred: np.ndarray,\n",
    "          prior: float):\n",
    "    N = y_observed.shape[0]\n",
    "    NP = y_observed.sum()\n",
    "\n",
    "    # loss\n",
    "    loss = 1 / (4 * N) * (y_pred + 1)**2\n",
    "    tmp = -prior / NP * y_pred * y_observed\n",
    "    loss += tmp\n",
    "\n",
    "    return loss.sum()\n",
    "\n",
    "def pu_sl_nonegative(y_observed: np.ndarray,\n",
    "                     y_pred: np.ndarray,\n",
    "                     prior: float):\n",
    "    N = y_observed.shape[0]\n",
    "    NP = y_observed.sum()\n",
    "    \n",
    "    # risk for positives\n",
    "    loss=(prior/(4*NP) * (y_pred-1)**2 * y_observed).sum()\n",
    "    \n",
    "    # non-negative risk\n",
    "    tmp=(1/(4*N)*(y_pred+1)**2 - prior/(4*NP)*(y_pred+1)**2*y_observed).sum()\n",
    "    if tmp>0:\n",
    "        loss+=tmp\n",
    "    \n",
    "    return loss"
   ]
  },
  {
   "cell_type": "code",
   "execution_count": 10,
   "metadata": {},
   "outputs": [],
   "source": [
    "class GradHess:\n",
    "    def __init__(self,\n",
    "                 lossfunc:callable,\n",
    "                 prior:float):\n",
    "        self.prior=prior\n",
    "        self._loss=jit(lossfunc, backend='cpu')\n",
    "        self._set_grad()\n",
    "        self._set_hess()\n",
    "    \n",
    "    def __call__(self, y_observed:np.ndarray, y_pred:np.ndarray):\n",
    "#         loss=self._loss(y_observed, y_pred, self.prior)\n",
    "        grad=self._grad(y_observed, y_pred, self.prior)\n",
    "        hess=self._hess(y_observed, y_pred, self.prior)\n",
    "        return grad, hess\n",
    "    \n",
    "    def _set_grad(self):\n",
    "        self._grad = jit(grad(self._loss, argnums=1), backend='cpu')\n",
    "    \n",
    "    def _set_hess(self):\n",
    "        def h(y_observed:np.ndarray,\n",
    "              y_pred:np.ndarray,\n",
    "              prior:float):\n",
    "            return self._grad(y_observed,y_pred,self.prior).sum()\n",
    "        self._hess = jit(grad(h, argnums=1), backend='cpu')\n",
    "\n",
    "        \n",
    "class GradHess:\n",
    "    def __init__(self,\n",
    "                 lossfunc:callable,\n",
    "                 prior:float):\n",
    "        self.prior=prior\n",
    "        self._loss=lossfunc\n",
    "        self._set_grad()\n",
    "        self._set_hess()\n",
    "    \n",
    "    def __call__(self, y_observed:np.ndarray, y_pred:np.ndarray):\n",
    "#         loss=self._loss(y_observed, y_pred, self.prior)\n",
    "        grad=self._grad(y_observed, y_pred, self.prior)\n",
    "        hess=self._hess(y_observed, y_pred, self.prior)\n",
    "        return grad, hess\n",
    "    \n",
    "    def _set_grad(self):\n",
    "        self._grad = grad(self._loss, argnums=1)\n",
    "    \n",
    "    def _set_hess(self):\n",
    "        def h(y_observed:np.ndarray,\n",
    "              y_pred:np.ndarray,\n",
    "              prior:float):\n",
    "            return self._grad(y_observed,y_pred,self.prior).sum()\n",
    "        self._hess = grad(h, argnums=1)"
   ]
  },
  {
   "cell_type": "code",
   "execution_count": 11,
   "metadata": {},
   "outputs": [],
   "source": [
    "pu_sl = GradHess(pu_sl_nonegative, 0.5)"
   ]
  },
  {
   "cell_type": "code",
   "execution_count": 12,
   "metadata": {},
   "outputs": [
    {
     "name": "stdout",
     "output_type": "stream",
     "text": [
      "36.2 ms ± 863 µs per loop (mean ± std. dev. of 7 runs, 1 loop each)\n"
     ]
    }
   ],
   "source": [
    "%timeit pu_sl(y_obs, y_pred)"
   ]
  },
  {
   "cell_type": "code",
   "execution_count": null,
   "metadata": {},
   "outputs": [],
   "source": []
  },
  {
   "cell_type": "code",
   "execution_count": null,
   "metadata": {},
   "outputs": [],
   "source": []
  },
  {
   "cell_type": "code",
   "execution_count": null,
   "metadata": {},
   "outputs": [],
   "source": []
  },
  {
   "cell_type": "markdown",
   "metadata": {},
   "source": [
    "pytorch 実装一番キレイだけど3,4倍遅い"
   ]
  },
  {
   "cell_type": "code",
   "execution_count": 10,
   "metadata": {},
   "outputs": [],
   "source": [
    "from torch import tensor, Tensor\n",
    "import torch"
   ]
  },
  {
   "cell_type": "code",
   "execution_count": 11,
   "metadata": {},
   "outputs": [],
   "source": [
    "def pu_sl(y_observed: np.ndarray,\n",
    "          y_pred: np.ndarray,\n",
    "          prior: float):\n",
    "    N = y_observed.shape[0]\n",
    "    NP = y_observed.sum()\n",
    "    y_observed=tensor(y_observed)\n",
    "    y_pred=tensor(y_pred, requires_grad=True)\n",
    "    \n",
    "    # loss\n",
    "    loss = 1 / (4 * N) * (y_pred + 1)**2\n",
    "    tmp = -prior / NP * y_pred * y_observed\n",
    "    loss += tmp\n",
    "    loss=loss.sum()\n",
    "    \n",
    "    loss.backward(create_graph=True) #一階微分\n",
    "    grad=y_pred.grad.clone()\n",
    "\n",
    "    y_pred.grad.sum().backward() #二階微分\n",
    "    hess=y_pred.grad - grad #蓄積した分を解消\n",
    "    return loss.detach().numpy(), grad.detach().numpy(), hess.detach().numpy()"
   ]
  },
  {
   "cell_type": "code",
   "execution_count": 12,
   "metadata": {},
   "outputs": [
    {
     "name": "stdout",
     "output_type": "stream",
     "text": [
      "2.96 ms ± 737 µs per loop (mean ± std. dev. of 7 runs, 100 loops each)\n"
     ]
    }
   ],
   "source": [
    "%timeit loss, grad, hess=pu_sl(y_obs, y_pred, prior)"
   ]
  },
  {
   "cell_type": "code",
   "execution_count": 16,
   "metadata": {},
   "outputs": [],
   "source": [
    "loss, grad, hess=pu_sl(y_obs, y_pred, prior)"
   ]
  },
  {
   "cell_type": "code",
   "execution_count": 17,
   "metadata": {},
   "outputs": [
    {
     "data": {
      "text/plain": [
       "(array(0.334929),\n",
       " array([ 1.32353755e-05, -1.01408916e-05, -4.18350929e-06, ...,\n",
       "        -1.45266920e-05, -1.91193260e-05,  1.33722051e-05]))"
      ]
     },
     "execution_count": 17,
     "metadata": {},
     "output_type": "execute_result"
    }
   ],
   "source": [
    "loss,grad"
   ]
  },
  {
   "cell_type": "code",
   "execution_count": 18,
   "metadata": {},
   "outputs": [],
   "source": [
    "def pu_sl(y_observed: np.ndarray,\n",
    "                      y_pred: np.ndarray,\n",
    "                      prior: float,\n",
    "                      non_negative_risk=True):\n",
    "    N = y_observed.shape[0]\n",
    "    NP = y_observed.sum()\n",
    "    y_observed=tensor(y_observed)\n",
    "    y_pred=tensor(y_pred, requires_grad=True)\n",
    "    \n",
    "    # risk for positives\n",
    "    loss=(prior/(4*NP) * ((y_pred-1)**2) * y_observed).sum()\n",
    "    \n",
    "    # non-negative risk\n",
    "    tmp=(1/(4*N)*((y_pred+1)**2) - prior/(4*NP)*((y_pred+1)**2)*y_observed).sum()\n",
    "#     loss+=torch.max(tmp,tensor(0.0,dtype=torch.double))\n",
    "    if non_negative_risk:\n",
    "        loss += max(tmp, 0)\n",
    "    else:\n",
    "        loss += tmp\n",
    "    loss.backward(create_graph=True) #一階微分\n",
    "    grad=y_pred.grad.clone()\n",
    " \n",
    "    y_pred.grad.sum().backward() #二階微分\n",
    "    hess=y_pred.grad - grad #蓄積した分を解消\n",
    "    return loss.detach().numpy(), grad.detach().numpy(), hess.detach().numpy()"
   ]
  },
  {
   "cell_type": "code",
   "execution_count": 19,
   "metadata": {},
   "outputs": [
    {
     "name": "stdout",
     "output_type": "stream",
     "text": [
      "3.06 ms ± 493 µs per loop (mean ± std. dev. of 7 runs, 100 loops each)\n"
     ]
    }
   ],
   "source": [
    "%timeit loss, grad, hess=pu_sl(y_obs, y_pred, prior)"
   ]
  },
  {
   "cell_type": "code",
   "execution_count": 20,
   "metadata": {},
   "outputs": [],
   "source": [
    "loss, grad, hess=pu_sl(y_obs, y_pred, prior)"
   ]
  },
  {
   "cell_type": "code",
   "execution_count": 21,
   "metadata": {},
   "outputs": [
    {
     "data": {
      "text/plain": [
       "(array(0.334929),\n",
       " array([ 1.32353755e-05, -1.01408916e-05, -4.18350929e-06, ...,\n",
       "        -1.45266920e-05, -1.91193260e-05,  1.33722051e-05]))"
      ]
     },
     "execution_count": 21,
     "metadata": {},
     "output_type": "execute_result"
    }
   ],
   "source": [
    "loss,grad"
   ]
  },
  {
   "cell_type": "code",
   "execution_count": 22,
   "metadata": {},
   "outputs": [
    {
     "data": {
      "text/plain": [
       "array([1.25e-05, 1.25e-05, 1.25e-05, ..., 1.25e-05, 1.25e-05, 1.25e-05])"
      ]
     },
     "execution_count": 22,
     "metadata": {},
     "output_type": "execute_result"
    }
   ],
   "source": [
    "hess"
   ]
  },
  {
   "cell_type": "code",
   "execution_count": null,
   "metadata": {},
   "outputs": [],
   "source": []
  },
  {
   "cell_type": "code",
   "execution_count": null,
   "metadata": {},
   "outputs": [],
   "source": []
  }
 ],
 "metadata": {
  "kernelspec": {
   "display_name": "Python 3",
   "language": "python",
   "name": "python3"
  },
  "language_info": {
   "codemirror_mode": {
    "name": "ipython",
    "version": 3
   },
   "file_extension": ".py",
   "mimetype": "text/x-python",
   "name": "python",
   "nbconvert_exporter": "python",
   "pygments_lexer": "ipython3",
   "version": "3.6.9"
  }
 },
 "nbformat": 4,
 "nbformat_minor": 4
}
