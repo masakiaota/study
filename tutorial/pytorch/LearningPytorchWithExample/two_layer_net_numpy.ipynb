{
 "cells": [
  {
   "cell_type": "code",
   "execution_count": null,
   "metadata": {
    "collapsed": false
   },
   "outputs": [],
   "source": [
    "%matplotlib inline"
   ]
  },
  {
   "cell_type": "markdown",
   "metadata": {},
   "source": [
    "\n",
    "Warm-up: numpy\n",
    "--------------\n",
    "\n",
    "A fully-connected ReLU network with one hidden layer and no biases, trained to\n",
    "predict y from x using Euclidean error.\n",
    "\n",
    "This implementation uses numpy to manually compute the forward pass, loss, and\n",
    "backward pass.\n",
    "ナンパイを使って手動で順伝搬、損失、逆伝播を計算してみる試み\n",
    "\n",
    "A numpy array is a generic n-dimensional array; it does not know anything about\n",
    "deep learning or gradients or computational graphs, and is just a way to perform\n",
    "generic numeric computations.\n",
    "\n"
   ]
  },
  {
   "cell_type": "code",
   "execution_count": null,
   "metadata": {
    "collapsed": false
   },
   "outputs": [],
   "source": [
    "import numpy as np\n",
    "\n",
    "# N is batch size; D_in is input dimension;\n",
    "# H is hidden dimension; D_out is output dimension.\n",
    "N, D_in, H, D_out = 64, 1000, 100, 10\n",
    "\n",
    "# Create random input and output data\n",
    "x = np.random.randn(N, D_in) #(batch, input)のテンソル\n",
    "y = np.random.randn(N, D_out) #(batch, out)のテンソル\n",
    "\n",
    "# Randomly initialize weights\n",
    "w1 = np.random.randn(D_in, H) #(input, 隠れ)の重み業鉄\n",
    "w2 = np.random.randn(H, D_out) #(隠れ, out)の重み行列\n",
    "\n",
    "learning_rate = 1e-6 #学習率\n",
    "for t in range(500):\n",
    "    # Forward pass: compute predicted y\n",
    "    # 三層ニューラル(ノードが三層なので、行列演算としては二層)\n",
    "    h = x.dot(w1) #(batch, 隠れ)\n",
    "    h_relu = np.maximum(h, 0) #活性化関数 #(batch, 隠れ)\n",
    "    y_pred = h_relu.dot(w2) #(batch, out)\n",
    "   \n",
    "\n",
    "    # Compute and print loss #二乗誤差\n",
    "    loss = np.square(y_pred - y).sum()\n",
    "    print(t, loss)\n",
    "\n",
    "    # Backprop to compute gradients of w1 and w2 with respect to loss\n",
    "    # 計算グラフを書いて微分してやればわかる\n",
    "    grad_y_pred = 2.0 * (y_pred - y) #(batch, out)\n",
    "    grad_w2 = h_relu.T.dot(grad_y_pred) #(隠れ, out)\n",
    "    grad_h_relu = grad_y_pred.dot(w2.T)\n",
    "    grad_h = grad_h_relu.copy()\n",
    "    grad_h[h < 0] = 0\n",
    "    grad_w1 = x.T.dot(grad_h)\n",
    "\n",
    "    # Update weights\n",
    "    w1 -= learning_rate * grad_w1\n",
    "    w2 -= learning_rate * grad_w2"
   ]
  },
  {
   "cell_type": "code",
   "execution_count": null,
   "metadata": {},
   "outputs": [],
   "source": []
  }
 ],
 "metadata": {
  "kernelspec": {
   "display_name": "Python 3",
   "language": "python",
   "name": "python3"
  },
  "language_info": {
   "codemirror_mode": {
    "name": "ipython",
    "version": 3
   },
   "file_extension": ".py",
   "mimetype": "text/x-python",
   "name": "python",
   "nbconvert_exporter": "python",
   "pygments_lexer": "ipython3",
   "version": "3.7.0"
  }
 },
 "nbformat": 4,
 "nbformat_minor": 2
}
