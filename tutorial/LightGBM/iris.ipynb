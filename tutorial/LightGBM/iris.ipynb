{
 "cells": [
  {
   "cell_type": "markdown",
   "metadata": {},
   "source": [
    "参考\n",
    "https://qiita.com/TomokIshii/items/3729c1b9c658cc48b5cb"
   ]
  },
  {
   "cell_type": "code",
   "execution_count": 1,
   "metadata": {
    "collapsed": true
   },
   "outputs": [],
   "source": [
    "import numpy as np\n",
    "import lightgbm as lgb\n",
    "from sklearn.datasets import load_iris\n",
    "from sklearn.model_selection import train_test_split\n",
    "from sklearn.metrics import accuracy_score"
   ]
  },
  {
   "cell_type": "code",
   "execution_count": 2,
   "metadata": {
    "collapsed": true
   },
   "outputs": [],
   "source": [
    "iris = load_iris()\n",
    "X = iris.data\n",
    "y = iris.target\n",
    "\n",
    "X_train, X_test, y_train, y_test = train_test_split(\n",
    "        X, y, test_size=0.2, random_state=0)"
   ]
  },
  {
   "cell_type": "code",
   "execution_count": 3,
   "metadata": {
    "collapsed": true
   },
   "outputs": [],
   "source": [
    "lgb_train = lgb.Dataset(X_train, y_train)\n",
    "lgb_eval = lgb.Dataset(X_test, y_test, reference=lgb_train)\n",
    "# lightgbmデータセット型に変換\n",
    "# evalをもとにラウンドの早期打ち切りとか決定するけど、汎化性能を見るためにはもう一つtestセットが必要では＞"
   ]
  },
  {
   "cell_type": "code",
   "execution_count": 4,
   "metadata": {
    "collapsed": true
   },
   "outputs": [],
   "source": [
    "# LightGBM parameters\n",
    "params = {\n",
    "        'task': 'train',\n",
    "        'boosting_type': 'gbdt',\n",
    "        'objective': 'multiclass',\n",
    "        'metric': {'multi_logloss'},\n",
    "        'num_class': 3,\n",
    "        'learning_rate': 0.1,\n",
    "        'num_leaves': 23,\n",
    "        'min_data_in_leaf': 1,\n",
    "        #'num_iteration': 100, #trainのときにraund数は指定できるので\n",
    "        'verbose': 0\n",
    "}"
   ]
  },
  {
   "cell_type": "code",
   "execution_count": 5,
   "metadata": {},
   "outputs": [
    {
     "name": "stdout",
     "output_type": "stream",
     "text": [
      "[1]\tvalid_0's multi_logloss: 0.954369\n",
      "Training until validation scores don't improve for 10 rounds.\n",
      "[2]\tvalid_0's multi_logloss: 0.83502\n",
      "[3]\tvalid_0's multi_logloss: 0.734525\n",
      "[4]\tvalid_0's multi_logloss: 0.648829\n",
      "[5]\tvalid_0's multi_logloss: 0.57505\n",
      "[6]\tvalid_0's multi_logloss: 0.511057\n",
      "[7]\tvalid_0's multi_logloss: 0.45522\n",
      "[8]\tvalid_0's multi_logloss: 0.407088\n",
      "[9]\tvalid_0's multi_logloss: 0.364731\n",
      "[10]\tvalid_0's multi_logloss: 0.327329\n",
      "[11]\tvalid_0's multi_logloss: 0.294204\n",
      "[12]\tvalid_0's multi_logloss: 0.264795\n",
      "[13]\tvalid_0's multi_logloss: 0.238628\n",
      "[14]\tvalid_0's multi_logloss: 0.215318\n",
      "[15]\tvalid_0's multi_logloss: 0.194491\n",
      "[16]\tvalid_0's multi_logloss: 0.175858\n",
      "[17]\tvalid_0's multi_logloss: 0.159166\n",
      "[18]\tvalid_0's multi_logloss: 0.144197\n",
      "[19]\tvalid_0's multi_logloss: 0.130761\n",
      "[20]\tvalid_0's multi_logloss: 0.118691\n",
      "[21]\tvalid_0's multi_logloss: 0.10784\n",
      "[22]\tvalid_0's multi_logloss: 0.0976998\n",
      "[23]\tvalid_0's multi_logloss: 0.0885679\n",
      "[24]\tvalid_0's multi_logloss: 0.0805959\n",
      "[25]\tvalid_0's multi_logloss: 0.073412\n",
      "[26]\tvalid_0's multi_logloss: 0.0666247\n",
      "[27]\tvalid_0's multi_logloss: 0.0607588\n",
      "[28]\tvalid_0's multi_logloss: 0.0554666\n",
      "[29]\tvalid_0's multi_logloss: 0.0506905\n",
      "[30]\tvalid_0's multi_logloss: 0.0460549\n",
      "[31]\tvalid_0's multi_logloss: 0.0418651\n",
      "[32]\tvalid_0's multi_logloss: 0.0380778\n",
      "[33]\tvalid_0's multi_logloss: 0.0346538\n",
      "[34]\tvalid_0's multi_logloss: 0.0315579\n",
      "[35]\tvalid_0's multi_logloss: 0.0287586\n",
      "[36]\tvalid_0's multi_logloss: 0.0262271\n",
      "[37]\tvalid_0's multi_logloss: 0.0240086\n",
      "[38]\tvalid_0's multi_logloss: 0.0220024\n",
      "[39]\tvalid_0's multi_logloss: 0.0201882\n",
      "[40]\tvalid_0's multi_logloss: 0.0185475\n",
      "[41]\tvalid_0's multi_logloss: 0.0170636\n",
      "[42]\tvalid_0's multi_logloss: 0.0157215\n",
      "[43]\tvalid_0's multi_logloss: 0.0145075\n",
      "[44]\tvalid_0's multi_logloss: 0.0132389\n",
      "[45]\tvalid_0's multi_logloss: 0.01209\n",
      "[46]\tvalid_0's multi_logloss: 0.0110496\n",
      "[47]\tvalid_0's multi_logloss: 0.0101074\n",
      "[48]\tvalid_0's multi_logloss: 0.00925431\n",
      "[49]\tvalid_0's multi_logloss: 0.00848187\n",
      "[50]\tvalid_0's multi_logloss: 0.00778252\n",
      "[51]\tvalid_0's multi_logloss: 0.00714936\n",
      "[52]\tvalid_0's multi_logloss: 0.00657617\n",
      "[53]\tvalid_0's multi_logloss: 0.00605729\n",
      "[54]\tvalid_0's multi_logloss: 0.00558759\n",
      "[55]\tvalid_0's multi_logloss: 0.00516242\n",
      "[56]\tvalid_0's multi_logloss: 0.00477757\n",
      "[57]\tvalid_0's multi_logloss: 0.00442924\n",
      "[58]\tvalid_0's multi_logloss: 0.00411397\n",
      "[59]\tvalid_0's multi_logloss: 0.00382862\n",
      "[60]\tvalid_0's multi_logloss: 0.00352472\n",
      "[61]\tvalid_0's multi_logloss: 0.00319086\n",
      "[62]\tvalid_0's multi_logloss: 0.00297433\n",
      "[63]\tvalid_0's multi_logloss: 0.00277835\n",
      "[64]\tvalid_0's multi_logloss: 0.00260098\n",
      "[65]\tvalid_0's multi_logloss: 0.00244046\n",
      "[66]\tvalid_0's multi_logloss: 0.00229519\n",
      "[67]\tvalid_0's multi_logloss: 0.00216373\n",
      "[68]\tvalid_0's multi_logloss: 0.00201521\n",
      "[69]\tvalid_0's multi_logloss: 0.00182639\n",
      "[70]\tvalid_0's multi_logloss: 0.00165345\n",
      "[71]\tvalid_0's multi_logloss: 0.00149859\n",
      "[72]\tvalid_0's multi_logloss: 0.00135656\n",
      "[73]\tvalid_0's multi_logloss: 0.00122961\n",
      "[74]\tvalid_0's multi_logloss: 0.00111299\n",
      "[75]\tvalid_0's multi_logloss: 0.00100895\n",
      "[76]\tvalid_0's multi_logloss: 0.000942475\n",
      "[77]\tvalid_0's multi_logloss: 0.000853762\n",
      "[78]\tvalid_0's multi_logloss: 0.000793507\n",
      "[79]\tvalid_0's multi_logloss: 0.000732303\n",
      "[80]\tvalid_0's multi_logloss: 0.000676138\n",
      "[81]\tvalid_0's multi_logloss: 0.000624574\n",
      "[82]\tvalid_0's multi_logloss: 0.000577216\n",
      "[83]\tvalid_0's multi_logloss: 0.000542511\n",
      "[84]\tvalid_0's multi_logloss: 0.000503854\n",
      "[85]\tvalid_0's multi_logloss: 0.000475449\n",
      "[86]\tvalid_0's multi_logloss: 0.000449115\n",
      "[87]\tvalid_0's multi_logloss: 0.000424802\n",
      "[88]\tvalid_0's multi_logloss: 0.000385758\n",
      "[89]\tvalid_0's multi_logloss: 0.000365769\n",
      "[90]\tvalid_0's multi_logloss: 0.000332688\n",
      "[91]\tvalid_0's multi_logloss: 0.000302686\n",
      "[92]\tvalid_0's multi_logloss: 0.000275475\n",
      "[93]\tvalid_0's multi_logloss: 0.000251713\n",
      "[94]\tvalid_0's multi_logloss: 0.00022943\n",
      "[95]\tvalid_0's multi_logloss: 0.000209305\n",
      "[96]\tvalid_0's multi_logloss: 0.000191045\n",
      "[97]\tvalid_0's multi_logloss: 0.00017449\n",
      "[98]\tvalid_0's multi_logloss: 0.000159804\n",
      "[99]\tvalid_0's multi_logloss: 0.000152224\n",
      "[100]\tvalid_0's multi_logloss: 0.000139654\n",
      "[101]\tvalid_0's multi_logloss: 0.000128845\n",
      "[102]\tvalid_0's multi_logloss: 0.0001187\n",
      "[103]\tvalid_0's multi_logloss: 0.000109688\n",
      "[104]\tvalid_0's multi_logloss: 0.00010138\n",
      "[105]\tvalid_0's multi_logloss: 9.63195e-05\n",
      "[106]\tvalid_0's multi_logloss: 8.9382e-05\n",
      "[107]\tvalid_0's multi_logloss: 8.42942e-05\n",
      "[108]\tvalid_0's multi_logloss: 7.9909e-05\n",
      "[109]\tvalid_0's multi_logloss: 7.5589e-05\n",
      "[110]\tvalid_0's multi_logloss: 7.30223e-05\n",
      "[111]\tvalid_0's multi_logloss: 7.11691e-05\n",
      "[112]\tvalid_0's multi_logloss: 6.82237e-05\n",
      "[113]\tvalid_0's multi_logloss: 6.71811e-05\n",
      "[114]\tvalid_0's multi_logloss: 6.60579e-05\n",
      "[115]\tvalid_0's multi_logloss: 6.51228e-05\n",
      "[116]\tvalid_0's multi_logloss: 6.41275e-05\n",
      "[117]\tvalid_0's multi_logloss: 6.36698e-05\n",
      "[118]\tvalid_0's multi_logloss: 6.33674e-05\n",
      "[119]\tvalid_0's multi_logloss: 6.18164e-05\n",
      "[120]\tvalid_0's multi_logloss: 6.10086e-05\n",
      "[121]\tvalid_0's multi_logloss: 6.02538e-05\n",
      "[122]\tvalid_0's multi_logloss: 5.96587e-05\n",
      "[123]\tvalid_0's multi_logloss: 5.94108e-05\n",
      "[124]\tvalid_0's multi_logloss: 5.87972e-05\n",
      "[125]\tvalid_0's multi_logloss: 5.76747e-05\n",
      "[126]\tvalid_0's multi_logloss: 5.71244e-05\n",
      "[127]\tvalid_0's multi_logloss: 5.60836e-05\n",
      "[128]\tvalid_0's multi_logloss: 5.52979e-05\n",
      "[129]\tvalid_0's multi_logloss: 5.48121e-05\n",
      "[130]\tvalid_0's multi_logloss: 5.38099e-05\n",
      "[131]\tvalid_0's multi_logloss: 5.42639e-05\n",
      "[132]\tvalid_0's multi_logloss: 5.32296e-05\n",
      "[133]\tvalid_0's multi_logloss: 5.36989e-05\n",
      "[134]\tvalid_0's multi_logloss: 5.20846e-05\n",
      "[135]\tvalid_0's multi_logloss: 5.11944e-05\n",
      "[136]\tvalid_0's multi_logloss: 5.16527e-05\n",
      "[137]\tvalid_0's multi_logloss: 5.15481e-05\n",
      "[138]\tvalid_0's multi_logloss: 5.03072e-05\n",
      "[139]\tvalid_0's multi_logloss: 5.02541e-05\n",
      "[140]\tvalid_0's multi_logloss: 4.97493e-05\n",
      "[141]\tvalid_0's multi_logloss: 4.96754e-05\n",
      "[142]\tvalid_0's multi_logloss: 4.9629e-05\n",
      "[143]\tvalid_0's multi_logloss: 4.99498e-05\n",
      "[144]\tvalid_0's multi_logloss: 4.88217e-05\n",
      "[145]\tvalid_0's multi_logloss: 4.88148e-05\n",
      "[146]\tvalid_0's multi_logloss: 4.92994e-05\n",
      "[147]\tvalid_0's multi_logloss: 4.94137e-05\n",
      "[148]\tvalid_0's multi_logloss: 4.89198e-05\n",
      "[149]\tvalid_0's multi_logloss: 4.89228e-05\n",
      "[150]\tvalid_0's multi_logloss: 4.9403e-05\n",
      "Did not meet early stopping. Best iteration is:\n",
      "[145]\tvalid_0's multi_logloss: 4.88148e-05\n"
     ]
    }
   ],
   "source": [
    "# train\n",
    "gbm = lgb.train(params,\n",
    "            lgb_train,\n",
    "            num_boost_round=150,\n",
    "            valid_sets=lgb_eval,\n",
    "            early_stopping_rounds=10)"
   ]
  },
  {
   "cell_type": "code",
   "execution_count": 6,
   "metadata": {
    "collapsed": true
   },
   "outputs": [],
   "source": [
    "y_pred = gbm.predict(X_train, num_iteration=gbm.best_iteration)"
   ]
  },
  {
   "cell_type": "code",
   "execution_count": 7,
   "metadata": {},
   "outputs": [
    {
     "data": {
      "text/plain": [
       "1.0"
      ]
     },
     "execution_count": 7,
     "metadata": {},
     "output_type": "execute_result"
    }
   ],
   "source": [
    "accuracy_score(y_train, np.argmax(y_pred, axis=1)) #正答率100%とかっていう恐ろしいスコア"
   ]
  },
  {
   "cell_type": "code",
   "execution_count": 8,
   "metadata": {
    "collapsed": true
   },
   "outputs": [],
   "source": [
    "y_pred = gbm.predict(X_test, num_iteration=gbm.best_iteration)"
   ]
  },
  {
   "cell_type": "code",
   "execution_count": 9,
   "metadata": {},
   "outputs": [
    {
     "data": {
      "text/plain": [
       "1.0"
      ]
     },
     "execution_count": 9,
     "metadata": {},
     "output_type": "execute_result"
    }
   ],
   "source": [
    "accuracy_score(y_test, np.argmax(y_pred, axis=1)) #正答率100%とかっていう恐ろしいスコア"
   ]
  },
  {
   "cell_type": "code",
   "execution_count": 10,
   "metadata": {},
   "outputs": [
    {
     "name": "stdout",
     "output_type": "stream",
     "text": [
      "Feature importances: [1432, 657, 954, 606]\n"
     ]
    }
   ],
   "source": [
    "print('Feature importances:', list(gbm.feature_importance()))"
   ]
  },
  {
   "cell_type": "markdown",
   "metadata": {},
   "source": [
    "0つ目の特徴と2つ目の特徴が重要そう"
   ]
  },
  {
   "cell_type": "code",
   "execution_count": null,
   "metadata": {
    "collapsed": true
   },
   "outputs": [],
   "source": []
  }
 ],
 "metadata": {
  "kernelspec": {
   "display_name": "Python 3",
   "language": "python",
   "name": "python3"
  },
  "language_info": {
   "codemirror_mode": {
    "name": "ipython",
    "version": 3
   },
   "file_extension": ".py",
   "mimetype": "text/x-python",
   "name": "python",
   "nbconvert_exporter": "python",
   "pygments_lexer": "ipython3",
   "version": "3.6.2"
  },
  "toc": {
   "base_numbering": 1,
   "nav_menu": {},
   "number_sections": true,
   "sideBar": true,
   "skip_h1_title": false,
   "title_cell": "Table of Contents",
   "title_sidebar": "Contents",
   "toc_cell": false,
   "toc_position": {},
   "toc_section_display": true,
   "toc_window_display": false
  },
  "varInspector": {
   "cols": {
    "lenName": 16,
    "lenType": 16,
    "lenVar": 40
   },
   "kernels_config": {
    "python": {
     "delete_cmd_postfix": "",
     "delete_cmd_prefix": "del ",
     "library": "var_list.py",
     "varRefreshCmd": "print(var_dic_list())"
    },
    "r": {
     "delete_cmd_postfix": ") ",
     "delete_cmd_prefix": "rm(",
     "library": "var_list.r",
     "varRefreshCmd": "cat(var_dic_list()) "
    }
   },
   "types_to_exclude": [
    "module",
    "function",
    "builtin_function_or_method",
    "instance",
    "_Feature"
   ],
   "window_display": false
  }
 },
 "nbformat": 4,
 "nbformat_minor": 2
}
