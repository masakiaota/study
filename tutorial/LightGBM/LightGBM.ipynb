{
 "cells": [
  {
   "cell_type": "markdown",
   "metadata": {},
   "source": [
    "githubのLightGBM/example/python-guide/に従ってチュートリアルを行ってみる。"
   ]
  },
  {
   "cell_type": "markdown",
   "metadata": {},
   "source": [
    "### Simple_example.py"
   ]
  },
  {
   "cell_type": "code",
   "execution_count": 1,
   "metadata": {
    "collapsed": true
   },
   "outputs": [],
   "source": [
    "# coding: utf-8\n",
    "# pylint: disable = invalid-name, C0111\n",
    "import json\n",
    "import lightgbm as lgb\n",
    "import pandas as pd\n",
    "from sklearn.metrics import mean_squared_error"
   ]
  },
  {
   "cell_type": "code",
   "execution_count": 5,
   "metadata": {},
   "outputs": [
    {
     "name": "stdout",
     "output_type": "stream",
     "text": [
      "Load data...\n",
      "(7000, 29) (500, 29)\n"
     ]
    }
   ],
   "source": [
    "# load or create your dataset\n",
    "print('Load data...')\n",
    "df_train = pd.read_csv('./examples/regression/regression.train', header=None, sep='\\t')\n",
    "df_test = pd.read_csv('./examples/regression/regression.test', header=None, sep='\\t')\n",
    "print(df_train.shape,df_test.shape)"
   ]
  },
  {
   "cell_type": "code",
   "execution_count": 6,
   "metadata": {},
   "outputs": [
    {
     "data": {
      "text/html": [
       "<div>\n",
       "<style>\n",
       "    .dataframe thead tr:only-child th {\n",
       "        text-align: right;\n",
       "    }\n",
       "\n",
       "    .dataframe thead th {\n",
       "        text-align: left;\n",
       "    }\n",
       "\n",
       "    .dataframe tbody tr th {\n",
       "        vertical-align: top;\n",
       "    }\n",
       "</style>\n",
       "<table border=\"1\" class=\"dataframe\">\n",
       "  <thead>\n",
       "    <tr style=\"text-align: right;\">\n",
       "      <th></th>\n",
       "      <th>0</th>\n",
       "      <th>1</th>\n",
       "      <th>2</th>\n",
       "      <th>3</th>\n",
       "      <th>4</th>\n",
       "      <th>5</th>\n",
       "      <th>6</th>\n",
       "      <th>7</th>\n",
       "      <th>8</th>\n",
       "      <th>9</th>\n",
       "      <th>...</th>\n",
       "      <th>19</th>\n",
       "      <th>20</th>\n",
       "      <th>21</th>\n",
       "      <th>22</th>\n",
       "      <th>23</th>\n",
       "      <th>24</th>\n",
       "      <th>25</th>\n",
       "      <th>26</th>\n",
       "      <th>27</th>\n",
       "      <th>28</th>\n",
       "    </tr>\n",
       "  </thead>\n",
       "  <tbody>\n",
       "    <tr>\n",
       "      <th>0</th>\n",
       "      <td>1</td>\n",
       "      <td>0.644</td>\n",
       "      <td>0.247</td>\n",
       "      <td>-0.447</td>\n",
       "      <td>0.862</td>\n",
       "      <td>0.374</td>\n",
       "      <td>0.854</td>\n",
       "      <td>-1.126</td>\n",
       "      <td>-0.790</td>\n",
       "      <td>2.173</td>\n",
       "      <td>...</td>\n",
       "      <td>-0.190</td>\n",
       "      <td>-0.744</td>\n",
       "      <td>3.102</td>\n",
       "      <td>0.958</td>\n",
       "      <td>1.061</td>\n",
       "      <td>0.980</td>\n",
       "      <td>0.875</td>\n",
       "      <td>0.581</td>\n",
       "      <td>0.905</td>\n",
       "      <td>0.796</td>\n",
       "    </tr>\n",
       "    <tr>\n",
       "      <th>1</th>\n",
       "      <td>0</td>\n",
       "      <td>0.385</td>\n",
       "      <td>1.800</td>\n",
       "      <td>1.037</td>\n",
       "      <td>1.044</td>\n",
       "      <td>0.349</td>\n",
       "      <td>1.502</td>\n",
       "      <td>-0.966</td>\n",
       "      <td>1.734</td>\n",
       "      <td>0.000</td>\n",
       "      <td>...</td>\n",
       "      <td>-0.440</td>\n",
       "      <td>0.638</td>\n",
       "      <td>3.102</td>\n",
       "      <td>0.695</td>\n",
       "      <td>0.909</td>\n",
       "      <td>0.981</td>\n",
       "      <td>0.803</td>\n",
       "      <td>0.813</td>\n",
       "      <td>1.149</td>\n",
       "      <td>1.116</td>\n",
       "    </tr>\n",
       "    <tr>\n",
       "      <th>2</th>\n",
       "      <td>0</td>\n",
       "      <td>1.214</td>\n",
       "      <td>-0.166</td>\n",
       "      <td>0.004</td>\n",
       "      <td>0.505</td>\n",
       "      <td>1.434</td>\n",
       "      <td>0.628</td>\n",
       "      <td>-1.174</td>\n",
       "      <td>-1.230</td>\n",
       "      <td>1.087</td>\n",
       "      <td>...</td>\n",
       "      <td>-1.383</td>\n",
       "      <td>1.355</td>\n",
       "      <td>0.000</td>\n",
       "      <td>0.848</td>\n",
       "      <td>0.911</td>\n",
       "      <td>1.043</td>\n",
       "      <td>0.931</td>\n",
       "      <td>1.058</td>\n",
       "      <td>0.744</td>\n",
       "      <td>0.696</td>\n",
       "    </tr>\n",
       "    <tr>\n",
       "      <th>3</th>\n",
       "      <td>1</td>\n",
       "      <td>0.420</td>\n",
       "      <td>1.111</td>\n",
       "      <td>0.137</td>\n",
       "      <td>1.516</td>\n",
       "      <td>-1.657</td>\n",
       "      <td>0.854</td>\n",
       "      <td>0.623</td>\n",
       "      <td>1.605</td>\n",
       "      <td>1.087</td>\n",
       "      <td>...</td>\n",
       "      <td>0.731</td>\n",
       "      <td>1.424</td>\n",
       "      <td>3.102</td>\n",
       "      <td>1.597</td>\n",
       "      <td>1.282</td>\n",
       "      <td>1.105</td>\n",
       "      <td>0.730</td>\n",
       "      <td>0.148</td>\n",
       "      <td>1.231</td>\n",
       "      <td>1.234</td>\n",
       "    </tr>\n",
       "    <tr>\n",
       "      <th>4</th>\n",
       "      <td>0</td>\n",
       "      <td>0.897</td>\n",
       "      <td>-1.703</td>\n",
       "      <td>-1.306</td>\n",
       "      <td>1.022</td>\n",
       "      <td>-0.729</td>\n",
       "      <td>0.836</td>\n",
       "      <td>0.859</td>\n",
       "      <td>-0.333</td>\n",
       "      <td>2.173</td>\n",
       "      <td>...</td>\n",
       "      <td>-2.019</td>\n",
       "      <td>-0.289</td>\n",
       "      <td>0.000</td>\n",
       "      <td>0.805</td>\n",
       "      <td>0.930</td>\n",
       "      <td>0.984</td>\n",
       "      <td>1.430</td>\n",
       "      <td>2.198</td>\n",
       "      <td>1.934</td>\n",
       "      <td>1.684</td>\n",
       "    </tr>\n",
       "  </tbody>\n",
       "</table>\n",
       "<p>5 rows × 29 columns</p>\n",
       "</div>"
      ],
      "text/plain": [
       "   0      1      2      3      4      5      6      7      8      9   ...    \\\n",
       "0   1  0.644  0.247 -0.447  0.862  0.374  0.854 -1.126 -0.790  2.173  ...     \n",
       "1   0  0.385  1.800  1.037  1.044  0.349  1.502 -0.966  1.734  0.000  ...     \n",
       "2   0  1.214 -0.166  0.004  0.505  1.434  0.628 -1.174 -1.230  1.087  ...     \n",
       "3   1  0.420  1.111  0.137  1.516 -1.657  0.854  0.623  1.605  1.087  ...     \n",
       "4   0  0.897 -1.703 -1.306  1.022 -0.729  0.836  0.859 -0.333  2.173  ...     \n",
       "\n",
       "      19     20     21     22     23     24     25     26     27     28  \n",
       "0 -0.190 -0.744  3.102  0.958  1.061  0.980  0.875  0.581  0.905  0.796  \n",
       "1 -0.440  0.638  3.102  0.695  0.909  0.981  0.803  0.813  1.149  1.116  \n",
       "2 -1.383  1.355  0.000  0.848  0.911  1.043  0.931  1.058  0.744  0.696  \n",
       "3  0.731  1.424  3.102  1.597  1.282  1.105  0.730  0.148  1.231  1.234  \n",
       "4 -2.019 -0.289  0.000  0.805  0.930  0.984  1.430  2.198  1.934  1.684  \n",
       "\n",
       "[5 rows x 29 columns]"
      ]
     },
     "execution_count": 6,
     "metadata": {},
     "output_type": "execute_result"
    }
   ],
   "source": [
    "df_test.head()"
   ]
  },
  {
   "cell_type": "code",
   "execution_count": 7,
   "metadata": {},
   "outputs": [
    {
     "name": "stdout",
     "output_type": "stream",
     "text": [
      "y_train (7000,)\n",
      "y_test (500,)\n",
      "x_train (7000, 28)\n",
      "x_test (500, 28)\n"
     ]
    }
   ],
   "source": [
    "y_train = df_train[0].values\n",
    "y_test = df_test[0].values\n",
    "X_train = df_train.drop(0, axis=1).values\n",
    "X_test = df_test.drop(0, axis=1).values\n",
    "print('y_train', y_train.shape)\n",
    "print('y_test', y_test.shape)\n",
    "print('x_train', X_train.shape)\n",
    "print('x_test', X_test.shape)"
   ]
  },
  {
   "cell_type": "code",
   "execution_count": 8,
   "metadata": {
    "collapsed": true
   },
   "outputs": [],
   "source": [
    "# create dataset for lightgbm\n",
    "lgb_train = lgb.Dataset(X_train, y_train)\n",
    "lgb_eval = lgb.Dataset(X_test, y_test, reference=lgb_train)"
   ]
  },
  {
   "cell_type": "code",
   "execution_count": 14,
   "metadata": {},
   "outputs": [
    {
     "data": {
      "text/plain": [
       "<lightgbm.basic.Dataset at 0x10d350080>"
      ]
     },
     "execution_count": 14,
     "metadata": {},
     "output_type": "execute_result"
    }
   ],
   "source": [
    "lgb_train\n",
    "# lgb特有のクラスがどうやら存在するらしい"
   ]
  },
  {
   "cell_type": "code",
   "execution_count": null,
   "metadata": {
    "collapsed": true
   },
   "outputs": [],
   "source": []
  }
 ],
 "metadata": {
  "kernelspec": {
   "display_name": "Python 3",
   "language": "python",
   "name": "python3"
  },
  "language_info": {
   "codemirror_mode": {
    "name": "ipython",
    "version": 3
   },
   "file_extension": ".py",
   "mimetype": "text/x-python",
   "name": "python",
   "nbconvert_exporter": "python",
   "pygments_lexer": "ipython3",
   "version": "3.6.2"
  },
  "varInspector": {
   "cols": {
    "lenName": 16,
    "lenType": 16,
    "lenVar": 40
   },
   "kernels_config": {
    "python": {
     "delete_cmd_postfix": "",
     "delete_cmd_prefix": "del ",
     "library": "var_list.py",
     "varRefreshCmd": "print(var_dic_list())"
    },
    "r": {
     "delete_cmd_postfix": ") ",
     "delete_cmd_prefix": "rm(",
     "library": "var_list.r",
     "varRefreshCmd": "cat(var_dic_list()) "
    }
   },
   "types_to_exclude": [
    "module",
    "function",
    "builtin_function_or_method",
    "instance",
    "_Feature"
   ],
   "window_display": false
  }
 },
 "nbformat": 4,
 "nbformat_minor": 2
}
