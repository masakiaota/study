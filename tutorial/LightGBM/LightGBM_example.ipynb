{
 "cells": [
  {
   "cell_type": "markdown",
   "metadata": {},
   "source": [
    "githubのLightGBM/example/python-guide/に従ってチュートリアルを行ってみる。"
   ]
  },
  {
   "cell_type": "markdown",
   "metadata": {},
   "source": [
    "### Simple_example.py"
   ]
  },
  {
   "cell_type": "code",
   "execution_count": 1,
   "metadata": {
    "collapsed": true
   },
   "outputs": [],
   "source": [
    "# coding: utf-8\n",
    "# pylint: disable = invalid-name, C0111\n",
    "import json\n",
    "import lightgbm as lgb\n",
    "import pandas as pd\n",
    "from sklearn.metrics import mean_squared_error"
   ]
  },
  {
   "cell_type": "code",
   "execution_count": 2,
   "metadata": {},
   "outputs": [
    {
     "name": "stdout",
     "output_type": "stream",
     "text": [
      "Load data...\n",
      "(7000, 29) (500, 29)\n"
     ]
    }
   ],
   "source": [
    "# load or create your dataset\n",
    "print('Load data...')\n",
    "df_train = pd.read_csv('./examples/regression/regression.train', header=None, sep='\\t')\n",
    "df_test = pd.read_csv('./examples/regression/regression.test', header=None, sep='\\t')\n",
    "print(df_train.shape,df_test.shape)"
   ]
  },
  {
   "cell_type": "code",
   "execution_count": 3,
   "metadata": {},
   "outputs": [
    {
     "data": {
      "text/html": [
       "<div>\n",
       "<style>\n",
       "    .dataframe thead tr:only-child th {\n",
       "        text-align: right;\n",
       "    }\n",
       "\n",
       "    .dataframe thead th {\n",
       "        text-align: left;\n",
       "    }\n",
       "\n",
       "    .dataframe tbody tr th {\n",
       "        vertical-align: top;\n",
       "    }\n",
       "</style>\n",
       "<table border=\"1\" class=\"dataframe\">\n",
       "  <thead>\n",
       "    <tr style=\"text-align: right;\">\n",
       "      <th></th>\n",
       "      <th>0</th>\n",
       "      <th>1</th>\n",
       "      <th>2</th>\n",
       "      <th>3</th>\n",
       "      <th>4</th>\n",
       "      <th>5</th>\n",
       "      <th>6</th>\n",
       "      <th>7</th>\n",
       "      <th>8</th>\n",
       "      <th>9</th>\n",
       "      <th>...</th>\n",
       "      <th>19</th>\n",
       "      <th>20</th>\n",
       "      <th>21</th>\n",
       "      <th>22</th>\n",
       "      <th>23</th>\n",
       "      <th>24</th>\n",
       "      <th>25</th>\n",
       "      <th>26</th>\n",
       "      <th>27</th>\n",
       "      <th>28</th>\n",
       "    </tr>\n",
       "  </thead>\n",
       "  <tbody>\n",
       "    <tr>\n",
       "      <th>0</th>\n",
       "      <td>1</td>\n",
       "      <td>0.644</td>\n",
       "      <td>0.247</td>\n",
       "      <td>-0.447</td>\n",
       "      <td>0.862</td>\n",
       "      <td>0.374</td>\n",
       "      <td>0.854</td>\n",
       "      <td>-1.126</td>\n",
       "      <td>-0.790</td>\n",
       "      <td>2.173</td>\n",
       "      <td>...</td>\n",
       "      <td>-0.190</td>\n",
       "      <td>-0.744</td>\n",
       "      <td>3.102</td>\n",
       "      <td>0.958</td>\n",
       "      <td>1.061</td>\n",
       "      <td>0.980</td>\n",
       "      <td>0.875</td>\n",
       "      <td>0.581</td>\n",
       "      <td>0.905</td>\n",
       "      <td>0.796</td>\n",
       "    </tr>\n",
       "    <tr>\n",
       "      <th>1</th>\n",
       "      <td>0</td>\n",
       "      <td>0.385</td>\n",
       "      <td>1.800</td>\n",
       "      <td>1.037</td>\n",
       "      <td>1.044</td>\n",
       "      <td>0.349</td>\n",
       "      <td>1.502</td>\n",
       "      <td>-0.966</td>\n",
       "      <td>1.734</td>\n",
       "      <td>0.000</td>\n",
       "      <td>...</td>\n",
       "      <td>-0.440</td>\n",
       "      <td>0.638</td>\n",
       "      <td>3.102</td>\n",
       "      <td>0.695</td>\n",
       "      <td>0.909</td>\n",
       "      <td>0.981</td>\n",
       "      <td>0.803</td>\n",
       "      <td>0.813</td>\n",
       "      <td>1.149</td>\n",
       "      <td>1.116</td>\n",
       "    </tr>\n",
       "    <tr>\n",
       "      <th>2</th>\n",
       "      <td>0</td>\n",
       "      <td>1.214</td>\n",
       "      <td>-0.166</td>\n",
       "      <td>0.004</td>\n",
       "      <td>0.505</td>\n",
       "      <td>1.434</td>\n",
       "      <td>0.628</td>\n",
       "      <td>-1.174</td>\n",
       "      <td>-1.230</td>\n",
       "      <td>1.087</td>\n",
       "      <td>...</td>\n",
       "      <td>-1.383</td>\n",
       "      <td>1.355</td>\n",
       "      <td>0.000</td>\n",
       "      <td>0.848</td>\n",
       "      <td>0.911</td>\n",
       "      <td>1.043</td>\n",
       "      <td>0.931</td>\n",
       "      <td>1.058</td>\n",
       "      <td>0.744</td>\n",
       "      <td>0.696</td>\n",
       "    </tr>\n",
       "    <tr>\n",
       "      <th>3</th>\n",
       "      <td>1</td>\n",
       "      <td>0.420</td>\n",
       "      <td>1.111</td>\n",
       "      <td>0.137</td>\n",
       "      <td>1.516</td>\n",
       "      <td>-1.657</td>\n",
       "      <td>0.854</td>\n",
       "      <td>0.623</td>\n",
       "      <td>1.605</td>\n",
       "      <td>1.087</td>\n",
       "      <td>...</td>\n",
       "      <td>0.731</td>\n",
       "      <td>1.424</td>\n",
       "      <td>3.102</td>\n",
       "      <td>1.597</td>\n",
       "      <td>1.282</td>\n",
       "      <td>1.105</td>\n",
       "      <td>0.730</td>\n",
       "      <td>0.148</td>\n",
       "      <td>1.231</td>\n",
       "      <td>1.234</td>\n",
       "    </tr>\n",
       "    <tr>\n",
       "      <th>4</th>\n",
       "      <td>0</td>\n",
       "      <td>0.897</td>\n",
       "      <td>-1.703</td>\n",
       "      <td>-1.306</td>\n",
       "      <td>1.022</td>\n",
       "      <td>-0.729</td>\n",
       "      <td>0.836</td>\n",
       "      <td>0.859</td>\n",
       "      <td>-0.333</td>\n",
       "      <td>2.173</td>\n",
       "      <td>...</td>\n",
       "      <td>-2.019</td>\n",
       "      <td>-0.289</td>\n",
       "      <td>0.000</td>\n",
       "      <td>0.805</td>\n",
       "      <td>0.930</td>\n",
       "      <td>0.984</td>\n",
       "      <td>1.430</td>\n",
       "      <td>2.198</td>\n",
       "      <td>1.934</td>\n",
       "      <td>1.684</td>\n",
       "    </tr>\n",
       "  </tbody>\n",
       "</table>\n",
       "<p>5 rows × 29 columns</p>\n",
       "</div>"
      ],
      "text/plain": [
       "   0      1      2      3      4      5      6      7      8      9   ...    \\\n",
       "0   1  0.644  0.247 -0.447  0.862  0.374  0.854 -1.126 -0.790  2.173  ...     \n",
       "1   0  0.385  1.800  1.037  1.044  0.349  1.502 -0.966  1.734  0.000  ...     \n",
       "2   0  1.214 -0.166  0.004  0.505  1.434  0.628 -1.174 -1.230  1.087  ...     \n",
       "3   1  0.420  1.111  0.137  1.516 -1.657  0.854  0.623  1.605  1.087  ...     \n",
       "4   0  0.897 -1.703 -1.306  1.022 -0.729  0.836  0.859 -0.333  2.173  ...     \n",
       "\n",
       "      19     20     21     22     23     24     25     26     27     28  \n",
       "0 -0.190 -0.744  3.102  0.958  1.061  0.980  0.875  0.581  0.905  0.796  \n",
       "1 -0.440  0.638  3.102  0.695  0.909  0.981  0.803  0.813  1.149  1.116  \n",
       "2 -1.383  1.355  0.000  0.848  0.911  1.043  0.931  1.058  0.744  0.696  \n",
       "3  0.731  1.424  3.102  1.597  1.282  1.105  0.730  0.148  1.231  1.234  \n",
       "4 -2.019 -0.289  0.000  0.805  0.930  0.984  1.430  2.198  1.934  1.684  \n",
       "\n",
       "[5 rows x 29 columns]"
      ]
     },
     "execution_count": 3,
     "metadata": {},
     "output_type": "execute_result"
    }
   ],
   "source": [
    "df_test.head()"
   ]
  },
  {
   "cell_type": "code",
   "execution_count": 4,
   "metadata": {},
   "outputs": [
    {
     "name": "stdout",
     "output_type": "stream",
     "text": [
      "y_train (7000,)\n",
      "y_test (500,)\n",
      "x_train (7000, 28)\n",
      "x_test (500, 28)\n"
     ]
    }
   ],
   "source": [
    "y_train = df_train[0].values\n",
    "y_test = df_test[0].values\n",
    "X_train = df_train.drop(0, axis=1).values\n",
    "X_test = df_test.drop(0, axis=1).values\n",
    "print('y_train', y_train.shape)\n",
    "print('y_test', y_test.shape)\n",
    "print('x_train', X_train.shape)\n",
    "print('x_test', X_test.shape)"
   ]
  },
  {
   "cell_type": "code",
   "execution_count": 5,
   "metadata": {
    "collapsed": true
   },
   "outputs": [],
   "source": [
    "# create dataset for lightgbm\n",
    "lgb_train = lgb.Dataset(X_train, y_train)\n",
    "lgb_eval = lgb.Dataset(X_test, y_test, reference=lgb_train)"
   ]
  },
  {
   "cell_type": "code",
   "execution_count": 6,
   "metadata": {},
   "outputs": [
    {
     "data": {
      "text/plain": [
       "<lightgbm.basic.Dataset at 0x114e5e7f0>"
      ]
     },
     "execution_count": 6,
     "metadata": {},
     "output_type": "execute_result"
    }
   ],
   "source": [
    "lgb_train\n",
    "# lgb特有のクラスがどうやら存在するらしい"
   ]
  },
  {
   "cell_type": "code",
   "execution_count": 7,
   "metadata": {
    "collapsed": true
   },
   "outputs": [],
   "source": [
    "# specify your configurations as a dict\n",
    "#　ここでパラメーターなどを設定する。あとで個々のパラメーターがなんの働きをしているのか調べよう\n",
    "params = {\n",
    "    'task': 'train', #訓練かテストかの指定も必要\n",
    "    'boosting_type': 'gbdt', # gdbt以外もあるの？\n",
    "    'objective': 'regression', #  回帰\n",
    "    'metric': {'l2', 'auc'}, # 二乗誤差はわかるけどAUCって？\n",
    "    'num_leaves': 31,\n",
    "    'learning_rate': 0.05,\n",
    "    'feature_fraction': 0.9,\n",
    "    'bagging_fraction': 0.8,\n",
    "    'bagging_freq': 5,\n",
    "    'verbose': 0\n",
    "}"
   ]
  },
  {
   "cell_type": "code",
   "execution_count": 8,
   "metadata": {},
   "outputs": [
    {
     "name": "stdout",
     "output_type": "stream",
     "text": [
      "Start training...\n",
      "[1]\tvalid_0's l2: 0.243898\tvalid_0's auc: 0.721096\n",
      "Training until validation scores don't improve for 5 rounds.\n",
      "[2]\tvalid_0's l2: 0.240605\tvalid_0's auc: 0.732932\n",
      "[3]\tvalid_0's l2: 0.236472\tvalid_0's auc: 0.773583\n",
      "[4]\tvalid_0's l2: 0.232586\tvalid_0's auc: 0.781089\n",
      "[5]\tvalid_0's l2: 0.22865\tvalid_0's auc: 0.787902\n",
      "[6]\tvalid_0's l2: 0.226187\tvalid_0's auc: 0.780565\n",
      "[7]\tvalid_0's l2: 0.223738\tvalid_0's auc: 0.786571\n",
      "[8]\tvalid_0's l2: 0.221012\tvalid_0's auc: 0.784918\n",
      "[9]\tvalid_0's l2: 0.218429\tvalid_0's auc: 0.784878\n",
      "[10]\tvalid_0's l2: 0.215505\tvalid_0's auc: 0.788917\n",
      "[11]\tvalid_0's l2: 0.213027\tvalid_0's auc: 0.791586\n",
      "[12]\tvalid_0's l2: 0.210809\tvalid_0's auc: 0.793884\n",
      "[13]\tvalid_0's l2: 0.208612\tvalid_0's auc: 0.796174\n",
      "[14]\tvalid_0's l2: 0.207468\tvalid_0's auc: 0.793731\n",
      "[15]\tvalid_0's l2: 0.206009\tvalid_0's auc: 0.794247\n",
      "[16]\tvalid_0's l2: 0.20465\tvalid_0's auc: 0.793715\n",
      "[17]\tvalid_0's l2: 0.202489\tvalid_0's auc: 0.797085\n",
      "[18]\tvalid_0's l2: 0.200668\tvalid_0's auc: 0.802615\n",
      "[19]\tvalid_0's l2: 0.19925\tvalid_0's auc: 0.802793\n",
      "[20]\tvalid_0's l2: 0.198136\tvalid_0's auc: 0.802615\n",
      "Did not meet early stopping. Best iteration is:\n",
      "[20]\tvalid_0's l2: 0.198136\tvalid_0's auc: 0.802615\n"
     ]
    }
   ],
   "source": [
    "print('Start training...')\n",
    "# train\n",
    "gbm = lgb.train(params,\n",
    "                lgb_train,\n",
    "                num_boost_round=20,\n",
    "                valid_sets=lgb_eval, # ついでに検証も個々でできるみたい？\n",
    "                early_stopping_rounds=5) #　早期打ち止めはここで設定できる"
   ]
  },
  {
   "cell_type": "code",
   "execution_count": 9,
   "metadata": {},
   "outputs": [
    {
     "name": "stdout",
     "output_type": "stream",
     "text": [
      "Save model...\n"
     ]
    }
   ],
   "source": [
    "print('Save model...')\n",
    "# save model to file\n",
    "gbm.save_model('model.txt')"
   ]
  },
  {
   "cell_type": "code",
   "execution_count": 10,
   "metadata": {},
   "outputs": [
    {
     "name": "stdout",
     "output_type": "stream",
     "text": [
      "Start predicting...\n",
      "The rmse of prediction is: 0.44512434910807497\n"
     ]
    }
   ],
   "source": [
    "print('Start predicting...')\n",
    "# predict\n",
    "y_pred = gbm.predict(X_test, num_iteration=gbm.best_iteration) #イテレーションごとの予測が出せるっぽい\n",
    "# eval\n",
    "print('The rmse of prediction is:', mean_squared_error(y_test, y_pred) ** 0.5)"
   ]
  },
  {
   "cell_type": "code",
   "execution_count": 11,
   "metadata": {},
   "outputs": [
    {
     "data": {
      "text/plain": [
       "20"
      ]
     },
     "execution_count": 11,
     "metadata": {},
     "output_type": "execute_result"
    }
   ],
   "source": [
    "gbm.best_iteration"
   ]
  },
  {
   "cell_type": "code",
   "execution_count": 12,
   "metadata": {},
   "outputs": [
    {
     "data": {
      "text/html": [
       "<div>\n",
       "<style>\n",
       "    .dataframe thead tr:only-child th {\n",
       "        text-align: right;\n",
       "    }\n",
       "\n",
       "    .dataframe thead th {\n",
       "        text-align: left;\n",
       "    }\n",
       "\n",
       "    .dataframe tbody tr th {\n",
       "        vertical-align: top;\n",
       "    }\n",
       "</style>\n",
       "<table border=\"1\" class=\"dataframe\">\n",
       "  <thead>\n",
       "    <tr style=\"text-align: right;\">\n",
       "      <th></th>\n",
       "      <th>1</th>\n",
       "      <th>2</th>\n",
       "      <th>3</th>\n",
       "      <th>4</th>\n",
       "      <th>5</th>\n",
       "      <th>6</th>\n",
       "      <th>7</th>\n",
       "      <th>8</th>\n",
       "      <th>9</th>\n",
       "      <th>10</th>\n",
       "      <th>...</th>\n",
       "      <th>19</th>\n",
       "      <th>20</th>\n",
       "      <th>21</th>\n",
       "      <th>22</th>\n",
       "      <th>23</th>\n",
       "      <th>24</th>\n",
       "      <th>25</th>\n",
       "      <th>26</th>\n",
       "      <th>27</th>\n",
       "      <th>28</th>\n",
       "    </tr>\n",
       "  </thead>\n",
       "  <tbody>\n",
       "    <tr>\n",
       "      <th>0</th>\n",
       "      <td>0.644</td>\n",
       "      <td>0.247</td>\n",
       "      <td>-0.447</td>\n",
       "      <td>0.862</td>\n",
       "      <td>0.374</td>\n",
       "      <td>0.854</td>\n",
       "      <td>-1.126</td>\n",
       "      <td>-0.790</td>\n",
       "      <td>2.173</td>\n",
       "      <td>1.015</td>\n",
       "      <td>...</td>\n",
       "      <td>-0.190</td>\n",
       "      <td>-0.744</td>\n",
       "      <td>3.102</td>\n",
       "      <td>0.958</td>\n",
       "      <td>1.061</td>\n",
       "      <td>0.980</td>\n",
       "      <td>0.875</td>\n",
       "      <td>0.581</td>\n",
       "      <td>0.905</td>\n",
       "      <td>0.796</td>\n",
       "    </tr>\n",
       "    <tr>\n",
       "      <th>1</th>\n",
       "      <td>0.385</td>\n",
       "      <td>1.800</td>\n",
       "      <td>1.037</td>\n",
       "      <td>1.044</td>\n",
       "      <td>0.349</td>\n",
       "      <td>1.502</td>\n",
       "      <td>-0.966</td>\n",
       "      <td>1.734</td>\n",
       "      <td>0.000</td>\n",
       "      <td>0.966</td>\n",
       "      <td>...</td>\n",
       "      <td>-0.440</td>\n",
       "      <td>0.638</td>\n",
       "      <td>3.102</td>\n",
       "      <td>0.695</td>\n",
       "      <td>0.909</td>\n",
       "      <td>0.981</td>\n",
       "      <td>0.803</td>\n",
       "      <td>0.813</td>\n",
       "      <td>1.149</td>\n",
       "      <td>1.116</td>\n",
       "    </tr>\n",
       "    <tr>\n",
       "      <th>2</th>\n",
       "      <td>1.214</td>\n",
       "      <td>-0.166</td>\n",
       "      <td>0.004</td>\n",
       "      <td>0.505</td>\n",
       "      <td>1.434</td>\n",
       "      <td>0.628</td>\n",
       "      <td>-1.174</td>\n",
       "      <td>-1.230</td>\n",
       "      <td>1.087</td>\n",
       "      <td>0.579</td>\n",
       "      <td>...</td>\n",
       "      <td>-1.383</td>\n",
       "      <td>1.355</td>\n",
       "      <td>0.000</td>\n",
       "      <td>0.848</td>\n",
       "      <td>0.911</td>\n",
       "      <td>1.043</td>\n",
       "      <td>0.931</td>\n",
       "      <td>1.058</td>\n",
       "      <td>0.744</td>\n",
       "      <td>0.696</td>\n",
       "    </tr>\n",
       "    <tr>\n",
       "      <th>3</th>\n",
       "      <td>0.420</td>\n",
       "      <td>1.111</td>\n",
       "      <td>0.137</td>\n",
       "      <td>1.516</td>\n",
       "      <td>-1.657</td>\n",
       "      <td>0.854</td>\n",
       "      <td>0.623</td>\n",
       "      <td>1.605</td>\n",
       "      <td>1.087</td>\n",
       "      <td>1.511</td>\n",
       "      <td>...</td>\n",
       "      <td>0.731</td>\n",
       "      <td>1.424</td>\n",
       "      <td>3.102</td>\n",
       "      <td>1.597</td>\n",
       "      <td>1.282</td>\n",
       "      <td>1.105</td>\n",
       "      <td>0.730</td>\n",
       "      <td>0.148</td>\n",
       "      <td>1.231</td>\n",
       "      <td>1.234</td>\n",
       "    </tr>\n",
       "    <tr>\n",
       "      <th>4</th>\n",
       "      <td>0.897</td>\n",
       "      <td>-1.703</td>\n",
       "      <td>-1.306</td>\n",
       "      <td>1.022</td>\n",
       "      <td>-0.729</td>\n",
       "      <td>0.836</td>\n",
       "      <td>0.859</td>\n",
       "      <td>-0.333</td>\n",
       "      <td>2.173</td>\n",
       "      <td>1.336</td>\n",
       "      <td>...</td>\n",
       "      <td>-2.019</td>\n",
       "      <td>-0.289</td>\n",
       "      <td>0.000</td>\n",
       "      <td>0.805</td>\n",
       "      <td>0.930</td>\n",
       "      <td>0.984</td>\n",
       "      <td>1.430</td>\n",
       "      <td>2.198</td>\n",
       "      <td>1.934</td>\n",
       "      <td>1.684</td>\n",
       "    </tr>\n",
       "  </tbody>\n",
       "</table>\n",
       "<p>5 rows × 28 columns</p>\n",
       "</div>"
      ],
      "text/plain": [
       "      1      2      3      4      5      6      7      8      9      10  \\\n",
       "0  0.644  0.247 -0.447  0.862  0.374  0.854 -1.126 -0.790  2.173  1.015   \n",
       "1  0.385  1.800  1.037  1.044  0.349  1.502 -0.966  1.734  0.000  0.966   \n",
       "2  1.214 -0.166  0.004  0.505  1.434  0.628 -1.174 -1.230  1.087  0.579   \n",
       "3  0.420  1.111  0.137  1.516 -1.657  0.854  0.623  1.605  1.087  1.511   \n",
       "4  0.897 -1.703 -1.306  1.022 -0.729  0.836  0.859 -0.333  2.173  1.336   \n",
       "\n",
       "   ...       19     20     21     22     23     24     25     26     27     28  \n",
       "0  ...   -0.190 -0.744  3.102  0.958  1.061  0.980  0.875  0.581  0.905  0.796  \n",
       "1  ...   -0.440  0.638  3.102  0.695  0.909  0.981  0.803  0.813  1.149  1.116  \n",
       "2  ...   -1.383  1.355  0.000  0.848  0.911  1.043  0.931  1.058  0.744  0.696  \n",
       "3  ...    0.731  1.424  3.102  1.597  1.282  1.105  0.730  0.148  1.231  1.234  \n",
       "4  ...   -2.019 -0.289  0.000  0.805  0.930  0.984  1.430  2.198  1.934  1.684  \n",
       "\n",
       "[5 rows x 28 columns]"
      ]
     },
     "execution_count": 12,
     "metadata": {},
     "output_type": "execute_result"
    }
   ],
   "source": [
    "#ちなみにdataframeを直接予測することもできる。\n",
    "df_test.iloc[:,1:].head()"
   ]
  },
  {
   "cell_type": "code",
   "execution_count": 13,
   "metadata": {},
   "outputs": [
    {
     "name": "stdout",
     "output_type": "stream",
     "text": [
      "Start predicting...\n",
      "The rmse of prediction is: 0.4938607241619976\n",
      "The rmse of prediction is: 0.4905154359341549\n",
      "The rmse of prediction is: 0.4862842453841557\n",
      "The rmse of prediction is: 0.48227163492963754\n",
      "The rmse of prediction is: 0.4781731557256002\n",
      "The rmse of prediction is: 0.4755914035480772\n",
      "The rmse of prediction is: 0.47301003808307857\n",
      "The rmse of prediction is: 0.4701187746576402\n",
      "The rmse of prediction is: 0.4673641209298133\n",
      "The rmse of prediction is: 0.4642249453292065\n",
      "The rmse of prediction is: 0.46154898941415096\n",
      "The rmse of prediction is: 0.45913944261856193\n",
      "The rmse of prediction is: 0.45674100176886023\n",
      "The rmse of prediction is: 0.45548693523578715\n",
      "The rmse of prediction is: 0.45388261448639494\n",
      "The rmse of prediction is: 0.45238204489027045\n",
      "The rmse of prediction is: 0.44998823214138367\n",
      "The rmse of prediction is: 0.4479599792791922\n",
      "The rmse of prediction is: 0.44637392507504314\n",
      "The rmse of prediction is: 0.44512434910807497\n"
     ]
    }
   ],
   "source": [
    "print('Start predicting...')\n",
    "\n",
    "for i in range(1,21):\n",
    "    # predict\n",
    "    y_pred = gbm.predict(df_test.iloc[:,1:], num_iteration=i) #イテレーションごとの予測が出せるっぽい\n",
    "    # eval\n",
    "    print('The rmse of prediction is:', mean_squared_error(y_test, y_pred) ** 0.5)\n",
    "    #上のl2と数字違うけど"
   ]
  },
  {
   "cell_type": "markdown",
   "metadata": {},
   "source": [
    "このチュートリアルをブログにまとめてる人がすでにいた\n",
    "http://marugari2.hatenablog.jp/entry/2016/12/14/235747"
   ]
  },
  {
   "cell_type": "markdown",
   "metadata": {},
   "source": [
    "### sklearn_example\n",
    "もちろんsklearn likeなインターフェイスも兼ね備えていて、sklearnと同じように使うことができる。gridsearchとかもできる。"
   ]
  },
  {
   "cell_type": "code",
   "execution_count": 14,
   "metadata": {
    "collapsed": true
   },
   "outputs": [],
   "source": [
    "# coding: utf-8\n",
    "# pylint: disable = invalid-name, C0111\n",
    "import numpy as np\n",
    "import pandas as pd\n",
    "import lightgbm as lgb\n",
    "\n",
    "from sklearn.metrics import mean_squared_error\n",
    "from sklearn.model_selection import GridSearchCV"
   ]
  },
  {
   "cell_type": "code",
   "execution_count": 15,
   "metadata": {},
   "outputs": [
    {
     "name": "stdout",
     "output_type": "stream",
     "text": [
      "Load data...\n",
      "   0      1      2      3      4      5      6      7      8      9   ...    \\\n",
      "0   1  0.644  0.247 -0.447  0.862  0.374  0.854 -1.126 -0.790  2.173  ...     \n",
      "1   0  0.385  1.800  1.037  1.044  0.349  1.502 -0.966  1.734  0.000  ...     \n",
      "2   0  1.214 -0.166  0.004  0.505  1.434  0.628 -1.174 -1.230  1.087  ...     \n",
      "3   1  0.420  1.111  0.137  1.516 -1.657  0.854  0.623  1.605  1.087  ...     \n",
      "4   0  0.897 -1.703 -1.306  1.022 -0.729  0.836  0.859 -0.333  2.173  ...     \n",
      "\n",
      "      19     20     21     22     23     24     25     26     27     28  \n",
      "0 -0.190 -0.744  3.102  0.958  1.061  0.980  0.875  0.581  0.905  0.796  \n",
      "1 -0.440  0.638  3.102  0.695  0.909  0.981  0.803  0.813  1.149  1.116  \n",
      "2 -1.383  1.355  0.000  0.848  0.911  1.043  0.931  1.058  0.744  0.696  \n",
      "3  0.731  1.424  3.102  1.597  1.282  1.105  0.730  0.148  1.231  1.234  \n",
      "4 -2.019 -0.289  0.000  0.805  0.930  0.984  1.430  2.198  1.934  1.684  \n",
      "\n",
      "[5 rows x 29 columns]\n"
     ]
    }
   ],
   "source": [
    "# load or create your dataset\n",
    "print('Load data...')\n",
    "df_train = pd.read_csv('./examples/regression/regression.train', header=None, sep='\\t')\n",
    "df_test = pd.read_csv('./examples/regression/regression.test', header=None, sep='\\t')\n",
    "print(df_test.head())\n",
    "\n",
    "y_train = df_train[0].values\n",
    "y_test = df_test[0].values\n",
    "X_train = df_train.drop(0, axis=1).values\n",
    "X_test = df_test.drop(0, axis=1).values\n",
    "\n",
    "# この方法ではgbm専用のデータフレームを制作しなくてもよい"
   ]
  },
  {
   "cell_type": "code",
   "execution_count": 16,
   "metadata": {},
   "outputs": [
    {
     "name": "stdout",
     "output_type": "stream",
     "text": [
      "Start training...\n",
      "[1]\tvalid_0's l1: 0.491735\n",
      "Training until validation scores don't improve for 5 rounds.\n",
      "[2]\tvalid_0's l1: 0.486563\n",
      "[3]\tvalid_0's l1: 0.481489\n",
      "[4]\tvalid_0's l1: 0.476848\n",
      "[5]\tvalid_0's l1: 0.47305\n",
      "[6]\tvalid_0's l1: 0.469049\n",
      "[7]\tvalid_0's l1: 0.465556\n",
      "[8]\tvalid_0's l1: 0.462208\n",
      "[9]\tvalid_0's l1: 0.458676\n",
      "[10]\tvalid_0's l1: 0.454998\n",
      "[11]\tvalid_0's l1: 0.452047\n",
      "[12]\tvalid_0's l1: 0.449158\n",
      "[13]\tvalid_0's l1: 0.44608\n",
      "[14]\tvalid_0's l1: 0.443554\n",
      "[15]\tvalid_0's l1: 0.440643\n",
      "[16]\tvalid_0's l1: 0.437687\n",
      "[17]\tvalid_0's l1: 0.435454\n",
      "[18]\tvalid_0's l1: 0.433288\n",
      "[19]\tvalid_0's l1: 0.431297\n",
      "[20]\tvalid_0's l1: 0.428946\n",
      "Did not meet early stopping. Best iteration is:\n",
      "[20]\tvalid_0's l1: 0.428946\n"
     ]
    },
    {
     "data": {
      "text/plain": [
       "LGBMRegressor(boosting_type='gbdt', class_weight=None, colsample_bytree=1.0,\n",
       "       learning_rate=0.05, max_depth=-1, min_child_samples=20,\n",
       "       min_child_weight=0.001, min_split_gain=0.0, n_estimators=20,\n",
       "       n_jobs=-1, num_leaves=31, objective='regression', random_state=None,\n",
       "       reg_alpha=0.0, reg_lambda=0.0, silent=True, subsample=1.0,\n",
       "       subsample_for_bin=200000, subsample_freq=0)"
      ]
     },
     "execution_count": 16,
     "metadata": {},
     "output_type": "execute_result"
    }
   ],
   "source": [
    "print('Start training...')\n",
    "# train\n",
    "gbm = lgb.LGBMRegressor(objective='regression',\n",
    "                        num_leaves=31,\n",
    "                        learning_rate=0.05,\n",
    "                        n_estimators=20)\n",
    "\n",
    "gbm.fit(X_train, y_train,\n",
    "        eval_set=[(X_test, y_test)], #でもsklearnとちょっと異なり、evalsetは必要みたい\n",
    "        eval_metric='l1', #さっきと変わってl1、一体どういう評価指標なんだろう\n",
    "        early_stopping_rounds=5)\n"
   ]
  },
  {
   "cell_type": "code",
   "execution_count": 17,
   "metadata": {},
   "outputs": [
    {
     "name": "stdout",
     "output_type": "stream",
     "text": [
      "Start predicting...\n",
      "The rmse of prediction is: 0.4441153344254208\n"
     ]
    }
   ],
   "source": [
    "print('Start predicting...')\n",
    "# predict\n",
    "y_pred = gbm.predict(X_test, num_iteration=gbm.best_iteration_)\n",
    "# eval\n",
    "print('The rmse of prediction is:', mean_squared_error(y_test, y_pred) ** 0.5)"
   ]
  },
  {
   "cell_type": "code",
   "execution_count": 18,
   "metadata": {},
   "outputs": [
    {
     "name": "stdout",
     "output_type": "stream",
     "text": [
      "Feature importances: [23, 7, 0, 33, 5, 56, 9, 1, 1, 21, 2, 5, 1, 19, 9, 6, 1, 10, 4, 10, 0, 31, 61, 4, 48, 102, 52, 79]\n"
     ]
    }
   ],
   "source": [
    "# 変数重要度の確認\n",
    "# feature importances\n",
    "print('Feature importances:', list(gbm.feature_importances_))"
   ]
  },
  {
   "cell_type": "markdown",
   "metadata": {},
   "source": [
    "自分で`eval_metric=`の関数を作成することもできる。以下に例を示す。"
   ]
  },
  {
   "cell_type": "code",
   "execution_count": 19,
   "metadata": {
    "collapsed": true
   },
   "outputs": [],
   "source": [
    "# 自分で定義した評価関数\n",
    "def rmsle(y_true, y_pred):\n",
    "    return 'RMSLE', np.sqrt(np.mean(np.power(np.log1p(y_pred) - np.log1p(y_true), 2))), False\n",
    "\n",
    "# ちょっと自分でも作ってみる\n",
    "def mse(y_true, y_pred):\n",
    "    return 'MSE', mean_squared_error(y_true, y_pred) ** 0.5, True\n",
    "#最後のFalseはなんだこれ←Trueにすると定義した関数を大きくするように学習が進む"
   ]
  },
  {
   "cell_type": "code",
   "execution_count": 20,
   "metadata": {},
   "outputs": [
    {
     "name": "stdout",
     "output_type": "stream",
     "text": [
      "Start training with custom eval function...\n",
      "[1]\tvalid_0's l2: 0.242763\tvalid_0's MSE: 0.49271\n",
      "Training until validation scores don't improve for 5 rounds.\n",
      "[2]\tvalid_0's l2: 0.237895\tvalid_0's MSE: 0.487745\n",
      "[3]\tvalid_0's l2: 0.233277\tvalid_0's MSE: 0.482987\n",
      "[4]\tvalid_0's l2: 0.22925\tvalid_0's MSE: 0.4788\n",
      "[5]\tvalid_0's l2: 0.226155\tvalid_0's MSE: 0.475558\n",
      "[6]\tvalid_0's l2: 0.222963\tvalid_0's MSE: 0.472189\n",
      "Early stopping, best iteration is:\n",
      "[1]\tvalid_0's l2: 0.242763\tvalid_0's MSE: 0.49271\n"
     ]
    },
    {
     "data": {
      "text/plain": [
       "LGBMRegressor(boosting_type='gbdt', class_weight=None, colsample_bytree=1.0,\n",
       "       learning_rate=0.05, max_depth=-1, min_child_samples=20,\n",
       "       min_child_weight=0.001, min_split_gain=0.0, n_estimators=20,\n",
       "       n_jobs=-1, num_leaves=31, objective='regression', random_state=None,\n",
       "       reg_alpha=0.0, reg_lambda=0.0, silent=True, subsample=1.0,\n",
       "       subsample_for_bin=200000, subsample_freq=0)"
      ]
     },
     "execution_count": 20,
     "metadata": {},
     "output_type": "execute_result"
    }
   ],
   "source": [
    "print('Start training with custom eval function...')\n",
    "# train\n",
    "gbm.fit(X_train, y_train,\n",
    "        eval_set=[(X_test, y_test)],\n",
    "        eval_metric=mse, #metricにl2入れてないのにl2が表示されてるけどどういうこっちゃ #自作関数のときだけはなるっぽい？\n",
    "        early_stopping_rounds=5)"
   ]
  },
  {
   "cell_type": "code",
   "execution_count": 21,
   "metadata": {},
   "outputs": [
    {
     "name": "stdout",
     "output_type": "stream",
     "text": [
      "Start training with custom eval function...\n",
      "[1]\tvalid_0's l2: 0.242763\tvalid_0's RMSLE: 0.344957\n",
      "Training until validation scores don't improve for 5 rounds.\n",
      "[2]\tvalid_0's l2: 0.237895\tvalid_0's RMSLE: 0.341693\n",
      "[3]\tvalid_0's l2: 0.233277\tvalid_0's RMSLE: 0.338462\n",
      "[4]\tvalid_0's l2: 0.22925\tvalid_0's RMSLE: 0.335656\n",
      "[5]\tvalid_0's l2: 0.226155\tvalid_0's RMSLE: 0.333431\n",
      "[6]\tvalid_0's l2: 0.222963\tvalid_0's RMSLE: 0.331104\n",
      "[7]\tvalid_0's l2: 0.220364\tvalid_0's RMSLE: 0.329193\n",
      "[8]\tvalid_0's l2: 0.217872\tvalid_0's RMSLE: 0.327337\n",
      "[9]\tvalid_0's l2: 0.215328\tvalid_0's RMSLE: 0.325433\n",
      "[10]\tvalid_0's l2: 0.212743\tvalid_0's RMSLE: 0.323523\n",
      "[11]\tvalid_0's l2: 0.210805\tvalid_0's RMSLE: 0.321986\n",
      "[12]\tvalid_0's l2: 0.208945\tvalid_0's RMSLE: 0.320523\n",
      "[13]\tvalid_0's l2: 0.206986\tvalid_0's RMSLE: 0.319027\n",
      "[14]\tvalid_0's l2: 0.205513\tvalid_0's RMSLE: 0.317796\n",
      "[15]\tvalid_0's l2: 0.203728\tvalid_0's RMSLE: 0.316383\n",
      "[16]\tvalid_0's l2: 0.201865\tvalid_0's RMSLE: 0.314827\n",
      "[17]\tvalid_0's l2: 0.200639\tvalid_0's RMSLE: 0.313876\n",
      "[18]\tvalid_0's l2: 0.199522\tvalid_0's RMSLE: 0.312948\n",
      "[19]\tvalid_0's l2: 0.198552\tvalid_0's RMSLE: 0.312116\n",
      "[20]\tvalid_0's l2: 0.197238\tvalid_0's RMSLE: 0.311032\n",
      "Did not meet early stopping. Best iteration is:\n",
      "[20]\tvalid_0's l2: 0.197238\tvalid_0's RMSLE: 0.311032\n"
     ]
    },
    {
     "data": {
      "text/plain": [
       "LGBMRegressor(boosting_type='gbdt', class_weight=None, colsample_bytree=1.0,\n",
       "       learning_rate=0.05, max_depth=-1, min_child_samples=20,\n",
       "       min_child_weight=0.001, min_split_gain=0.0, n_estimators=20,\n",
       "       n_jobs=-1, num_leaves=31, objective='regression', random_state=None,\n",
       "       reg_alpha=0.0, reg_lambda=0.0, silent=True, subsample=1.0,\n",
       "       subsample_for_bin=200000, subsample_freq=0)"
      ]
     },
     "execution_count": 21,
     "metadata": {},
     "output_type": "execute_result"
    }
   ],
   "source": [
    "print('Start training with custom eval function...')\n",
    "# train\n",
    "gbm.fit(X_train, y_train,\n",
    "        eval_set=[(X_test, y_test)],\n",
    "        eval_metric=rmsle, #metricにl2入れてないのにl2が表示されてる #自作関数のときだけはなるっぽい？\n",
    "        early_stopping_rounds=5)"
   ]
  },
  {
   "cell_type": "code",
   "execution_count": 22,
   "metadata": {},
   "outputs": [
    {
     "name": "stdout",
     "output_type": "stream",
     "text": [
      "Start predicting...\n",
      "The rmsle of prediction is: 0.3110323289863277\n"
     ]
    }
   ],
   "source": [
    "print('Start predicting...')\n",
    "# predict\n",
    "y_pred = gbm.predict(X_test, num_iteration=gbm.best_iteration_)\n",
    "# eval\n",
    "print('The rmsle of prediction is:', rmsle(y_test, y_pred)[1])"
   ]
  },
  {
   "cell_type": "markdown",
   "metadata": {},
   "source": [
    "sklearnのgrid searchを用いた例"
   ]
  },
  {
   "cell_type": "code",
   "execution_count": 23,
   "metadata": {},
   "outputs": [
    {
     "name": "stdout",
     "output_type": "stream",
     "text": [
      "Best parameters found by grid search are: {'learning_rate': 0.1, 'n_estimators': 40}\n"
     ]
    }
   ],
   "source": [
    "# other scikit-learn modules\n",
    "estimator = lgb.LGBMRegressor(num_leaves=31)\n",
    "\n",
    "param_grid = {\n",
    "    'learning_rate': [0.01, 0.1, 1],\n",
    "    'n_estimators': [20, 40]\n",
    "}\n",
    "\n",
    "gbm = GridSearchCV(estimator, param_grid)\n",
    "\n",
    "gbm.fit(X_train, y_train)\n",
    "\n",
    "print('Best parameters found by grid search are:', gbm.best_params_)"
   ]
  },
  {
   "cell_type": "markdown",
   "metadata": {},
   "source": [
    "### advanced_example.py\n",
    "更に詳細にできることを見ていこう。\n",
    "ここでは以下の例を示している\n",
    "- 特徴量の名前をセットする\n",
    "- one-hotにすることなくカテゴリカルな特徴を扱う\n",
    "- jsonにモデルを出力する。\n",
    "- 変数重要度を得る\n",
    "- Get feature names\n",
    "- 予測のためにモデルを読み込む\n",
    "- Dump and load model with pickle\n",
    "- Load model file to continue training\n",
    "- 学習中に学習率を変更する\n",
    "- 学習中にパラメーターを変更する\n",
    "- Self-defined objective function\n",
    "- Self-defined eval metric\n",
    "- Callback function"
   ]
  },
  {
   "cell_type": "code",
   "execution_count": 24,
   "metadata": {
    "collapsed": true
   },
   "outputs": [],
   "source": [
    "import json\n",
    "import lightgbm as lgb\n",
    "import pandas as pd\n",
    "import numpy as np\n",
    "from sklearn.metrics import mean_squared_error\n",
    "\n",
    "try:\n",
    "    #python3ではcPickleが存在しなく、代わりに_pickleが同様の役割をする\n",
    "    # ちなみにこれはc言語で実装されたpickleのことらしい\n",
    "    import _pickle as pickle\n",
    "except BaseException:\n",
    "    import pickle"
   ]
  },
  {
   "cell_type": "code",
   "execution_count": 25,
   "metadata": {},
   "outputs": [
    {
     "name": "stdout",
     "output_type": "stream",
     "text": [
      "Load data...\n"
     ]
    }
   ],
   "source": [
    "# load or create your dataset\n",
    "print('Load data...')\n",
    "df_train = pd.read_csv('./examples/binary_classification/binary.train', header=None, sep='\\t')\n",
    "df_test = pd.read_csv('./examples/binary_classification/binary.test', header=None, sep='\\t')\n",
    "W_train = pd.read_csv('./examples/binary_classification/binary.train.weight', header=None)[0]\n",
    "W_test = pd.read_csv('./examples/binary_classification/binary.test.weight', header=None)[0]"
   ]
  },
  {
   "cell_type": "code",
   "execution_count": 26,
   "metadata": {},
   "outputs": [
    {
     "name": "stdout",
     "output_type": "stream",
     "text": [
      "feature 0 :  2\n",
      "feature 1 :  1920\n",
      "feature 2 :  3295\n",
      "feature 3 :  2923\n",
      "feature 4 :  2116\n",
      "feature 5 :  3028\n",
      "feature 6 :  1721\n",
      "feature 7 :  3165\n",
      "feature 8 :  2928\n",
      "feature 9 :  3\n",
      "feature 10 :  1761\n",
      "feature 11 :  3239\n",
      "feature 12 :  2973\n",
      "feature 13 :  3\n",
      "feature 14 :  1786\n",
      "feature 15 :  3239\n",
      "feature 16 :  2963\n",
      "feature 17 :  3\n",
      "feature 18 :  1708\n",
      "feature 19 :  3222\n",
      "feature 20 :  2967\n",
      "feature 21 :  3\n",
      "feature 22 :  1633\n",
      "feature 23 :  1281\n",
      "feature 24 :  660\n",
      "feature 25 :  1436\n",
      "feature 26 :  1866\n",
      "feature 27 :  1412\n",
      "feature 28 :  1254\n"
     ]
    },
    {
     "data": {
      "text/html": [
       "<div>\n",
       "<style>\n",
       "    .dataframe thead tr:only-child th {\n",
       "        text-align: right;\n",
       "    }\n",
       "\n",
       "    .dataframe thead th {\n",
       "        text-align: left;\n",
       "    }\n",
       "\n",
       "    .dataframe tbody tr th {\n",
       "        vertical-align: top;\n",
       "    }\n",
       "</style>\n",
       "<table border=\"1\" class=\"dataframe\">\n",
       "  <thead>\n",
       "    <tr style=\"text-align: right;\">\n",
       "      <th></th>\n",
       "      <th>0</th>\n",
       "      <th>1</th>\n",
       "      <th>2</th>\n",
       "      <th>3</th>\n",
       "      <th>4</th>\n",
       "      <th>5</th>\n",
       "      <th>6</th>\n",
       "      <th>7</th>\n",
       "      <th>8</th>\n",
       "      <th>9</th>\n",
       "      <th>...</th>\n",
       "      <th>19</th>\n",
       "      <th>20</th>\n",
       "      <th>21</th>\n",
       "      <th>22</th>\n",
       "      <th>23</th>\n",
       "      <th>24</th>\n",
       "      <th>25</th>\n",
       "      <th>26</th>\n",
       "      <th>27</th>\n",
       "      <th>28</th>\n",
       "    </tr>\n",
       "  </thead>\n",
       "  <tbody>\n",
       "    <tr>\n",
       "      <th>count</th>\n",
       "      <td>500.000000</td>\n",
       "      <td>500.000000</td>\n",
       "      <td>500.000000</td>\n",
       "      <td>500.000000</td>\n",
       "      <td>500.000000</td>\n",
       "      <td>500.000000</td>\n",
       "      <td>500.000000</td>\n",
       "      <td>500.000000</td>\n",
       "      <td>500.000000</td>\n",
       "      <td>500.000000</td>\n",
       "      <td>...</td>\n",
       "      <td>500.000000</td>\n",
       "      <td>500.000000</td>\n",
       "      <td>500.000000</td>\n",
       "      <td>500.000000</td>\n",
       "      <td>500.000000</td>\n",
       "      <td>500.000000</td>\n",
       "      <td>500.000000</td>\n",
       "      <td>500.000000</td>\n",
       "      <td>500.000000</td>\n",
       "      <td>500.000000</td>\n",
       "    </tr>\n",
       "    <tr>\n",
       "      <th>mean</th>\n",
       "      <td>0.544000</td>\n",
       "      <td>1.040106</td>\n",
       "      <td>0.020148</td>\n",
       "      <td>0.021794</td>\n",
       "      <td>1.002400</td>\n",
       "      <td>0.004640</td>\n",
       "      <td>0.992614</td>\n",
       "      <td>-0.045890</td>\n",
       "      <td>-0.006802</td>\n",
       "      <td>1.062656</td>\n",
       "      <td>...</td>\n",
       "      <td>0.040108</td>\n",
       "      <td>-0.081236</td>\n",
       "      <td>1.060884</td>\n",
       "      <td>1.092470</td>\n",
       "      <td>1.046386</td>\n",
       "      <td>1.051016</td>\n",
       "      <td>1.026018</td>\n",
       "      <td>1.008524</td>\n",
       "      <td>1.062040</td>\n",
       "      <td>0.978822</td>\n",
       "    </tr>\n",
       "    <tr>\n",
       "      <th>std</th>\n",
       "      <td>0.498559</td>\n",
       "      <td>0.603834</td>\n",
       "      <td>0.982632</td>\n",
       "      <td>1.029083</td>\n",
       "      <td>0.607242</td>\n",
       "      <td>1.003319</td>\n",
       "      <td>0.487095</td>\n",
       "      <td>0.972654</td>\n",
       "      <td>1.009560</td>\n",
       "      <td>1.021128</td>\n",
       "      <td>...</td>\n",
       "      <td>1.004528</td>\n",
       "      <td>1.008870</td>\n",
       "      <td>1.423061</td>\n",
       "      <td>0.811289</td>\n",
       "      <td>0.461281</td>\n",
       "      <td>0.155523</td>\n",
       "      <td>0.402420</td>\n",
       "      <td>0.574999</td>\n",
       "      <td>0.430023</td>\n",
       "      <td>0.346463</td>\n",
       "    </tr>\n",
       "    <tr>\n",
       "      <th>min</th>\n",
       "      <td>0.000000</td>\n",
       "      <td>0.279000</td>\n",
       "      <td>-2.258000</td>\n",
       "      <td>-1.715000</td>\n",
       "      <td>0.043000</td>\n",
       "      <td>-1.735000</td>\n",
       "      <td>0.177000</td>\n",
       "      <td>-2.823000</td>\n",
       "      <td>-1.738000</td>\n",
       "      <td>0.000000</td>\n",
       "      <td>...</td>\n",
       "      <td>-2.467000</td>\n",
       "      <td>-1.738000</td>\n",
       "      <td>0.000000</td>\n",
       "      <td>0.202000</td>\n",
       "      <td>0.472000</td>\n",
       "      <td>0.850000</td>\n",
       "      <td>0.482000</td>\n",
       "      <td>0.115000</td>\n",
       "      <td>0.417000</td>\n",
       "      <td>0.445000</td>\n",
       "    </tr>\n",
       "    <tr>\n",
       "      <th>25%</th>\n",
       "      <td>0.000000</td>\n",
       "      <td>0.611500</td>\n",
       "      <td>-0.689500</td>\n",
       "      <td>-0.887000</td>\n",
       "      <td>0.552000</td>\n",
       "      <td>-0.850750</td>\n",
       "      <td>0.683750</td>\n",
       "      <td>-0.731250</td>\n",
       "      <td>-0.847000</td>\n",
       "      <td>0.000000</td>\n",
       "      <td>...</td>\n",
       "      <td>-0.651000</td>\n",
       "      <td>-0.962750</td>\n",
       "      <td>0.000000</td>\n",
       "      <td>0.804500</td>\n",
       "      <td>0.838000</td>\n",
       "      <td>0.985000</td>\n",
       "      <td>0.774250</td>\n",
       "      <td>0.684000</td>\n",
       "      <td>0.826000</td>\n",
       "      <td>0.780750</td>\n",
       "    </tr>\n",
       "    <tr>\n",
       "      <th>50%</th>\n",
       "      <td>1.000000</td>\n",
       "      <td>0.890500</td>\n",
       "      <td>0.038500</td>\n",
       "      <td>0.022500</td>\n",
       "      <td>0.888000</td>\n",
       "      <td>0.065000</td>\n",
       "      <td>0.894000</td>\n",
       "      <td>-0.034500</td>\n",
       "      <td>-0.035000</td>\n",
       "      <td>1.087000</td>\n",
       "      <td>...</td>\n",
       "      <td>-0.022500</td>\n",
       "      <td>-0.094000</td>\n",
       "      <td>0.000000</td>\n",
       "      <td>0.888500</td>\n",
       "      <td>0.946000</td>\n",
       "      <td>0.990000</td>\n",
       "      <td>0.930500</td>\n",
       "      <td>0.889500</td>\n",
       "      <td>0.963500</td>\n",
       "      <td>0.883500</td>\n",
       "    </tr>\n",
       "    <tr>\n",
       "      <th>75%</th>\n",
       "      <td>1.000000</td>\n",
       "      <td>1.317250</td>\n",
       "      <td>0.706000</td>\n",
       "      <td>0.916250</td>\n",
       "      <td>1.333500</td>\n",
       "      <td>0.892250</td>\n",
       "      <td>1.142250</td>\n",
       "      <td>0.638500</td>\n",
       "      <td>0.840750</td>\n",
       "      <td>2.173000</td>\n",
       "      <td>...</td>\n",
       "      <td>0.790500</td>\n",
       "      <td>0.726750</td>\n",
       "      <td>3.102000</td>\n",
       "      <td>1.035750</td>\n",
       "      <td>1.087000</td>\n",
       "      <td>1.022250</td>\n",
       "      <td>1.164500</td>\n",
       "      <td>1.154500</td>\n",
       "      <td>1.173500</td>\n",
       "      <td>1.079000</td>\n",
       "    </tr>\n",
       "    <tr>\n",
       "      <th>max</th>\n",
       "      <td>1.000000</td>\n",
       "      <td>4.357000</td>\n",
       "      <td>2.292000</td>\n",
       "      <td>1.743000</td>\n",
       "      <td>4.340000</td>\n",
       "      <td>1.743000</td>\n",
       "      <td>3.446000</td>\n",
       "      <td>2.890000</td>\n",
       "      <td>1.739000</td>\n",
       "      <td>2.173000</td>\n",
       "      <td>...</td>\n",
       "      <td>2.489000</td>\n",
       "      <td>1.728000</td>\n",
       "      <td>3.102000</td>\n",
       "      <td>7.531000</td>\n",
       "      <td>5.520000</td>\n",
       "      <td>2.493000</td>\n",
       "      <td>3.931000</td>\n",
       "      <td>5.590000</td>\n",
       "      <td>4.492000</td>\n",
       "      <td>3.676000</td>\n",
       "    </tr>\n",
       "  </tbody>\n",
       "</table>\n",
       "<p>8 rows × 29 columns</p>\n",
       "</div>"
      ],
      "text/plain": [
       "               0           1           2           3           4           5   \\\n",
       "count  500.000000  500.000000  500.000000  500.000000  500.000000  500.000000   \n",
       "mean     0.544000    1.040106    0.020148    0.021794    1.002400    0.004640   \n",
       "std      0.498559    0.603834    0.982632    1.029083    0.607242    1.003319   \n",
       "min      0.000000    0.279000   -2.258000   -1.715000    0.043000   -1.735000   \n",
       "25%      0.000000    0.611500   -0.689500   -0.887000    0.552000   -0.850750   \n",
       "50%      1.000000    0.890500    0.038500    0.022500    0.888000    0.065000   \n",
       "75%      1.000000    1.317250    0.706000    0.916250    1.333500    0.892250   \n",
       "max      1.000000    4.357000    2.292000    1.743000    4.340000    1.743000   \n",
       "\n",
       "               6           7           8           9      ...              19  \\\n",
       "count  500.000000  500.000000  500.000000  500.000000     ...      500.000000   \n",
       "mean     0.992614   -0.045890   -0.006802    1.062656     ...        0.040108   \n",
       "std      0.487095    0.972654    1.009560    1.021128     ...        1.004528   \n",
       "min      0.177000   -2.823000   -1.738000    0.000000     ...       -2.467000   \n",
       "25%      0.683750   -0.731250   -0.847000    0.000000     ...       -0.651000   \n",
       "50%      0.894000   -0.034500   -0.035000    1.087000     ...       -0.022500   \n",
       "75%      1.142250    0.638500    0.840750    2.173000     ...        0.790500   \n",
       "max      3.446000    2.890000    1.739000    2.173000     ...        2.489000   \n",
       "\n",
       "               20          21          22          23          24          25  \\\n",
       "count  500.000000  500.000000  500.000000  500.000000  500.000000  500.000000   \n",
       "mean    -0.081236    1.060884    1.092470    1.046386    1.051016    1.026018   \n",
       "std      1.008870    1.423061    0.811289    0.461281    0.155523    0.402420   \n",
       "min     -1.738000    0.000000    0.202000    0.472000    0.850000    0.482000   \n",
       "25%     -0.962750    0.000000    0.804500    0.838000    0.985000    0.774250   \n",
       "50%     -0.094000    0.000000    0.888500    0.946000    0.990000    0.930500   \n",
       "75%      0.726750    3.102000    1.035750    1.087000    1.022250    1.164500   \n",
       "max      1.728000    3.102000    7.531000    5.520000    2.493000    3.931000   \n",
       "\n",
       "               26          27          28  \n",
       "count  500.000000  500.000000  500.000000  \n",
       "mean     1.008524    1.062040    0.978822  \n",
       "std      0.574999    0.430023    0.346463  \n",
       "min      0.115000    0.417000    0.445000  \n",
       "25%      0.684000    0.826000    0.780750  \n",
       "50%      0.889500    0.963500    0.883500  \n",
       "75%      1.154500    1.173500    1.079000  \n",
       "max      5.590000    4.492000    3.676000  \n",
       "\n",
       "[8 rows x 29 columns]"
      ]
     },
     "execution_count": 26,
     "metadata": {},
     "output_type": "execute_result"
    }
   ],
   "source": [
    "for i in range(len(df_train.columns)):\n",
    "    print(\"feature\",i,\": \",len(pd.unique(df_train.iloc[:,i])))\n",
    "df_test.describe()\n",
    "# 9, 13,17,21,26?らへんはカテゴリカルっぽい"
   ]
  },
  {
   "cell_type": "code",
   "execution_count": 27,
   "metadata": {
    "collapsed": true
   },
   "outputs": [],
   "source": [
    "y_train = df_train[0].values\n",
    "y_test = df_test[0].values\n",
    "X_train = df_train.drop(0, axis=1).values\n",
    "X_test = df_test.drop(0, axis=1).values\n",
    "\n",
    "num_train, num_feature = X_train.shape"
   ]
  },
  {
   "cell_type": "code",
   "execution_count": 28,
   "metadata": {},
   "outputs": [
    {
     "name": "stdout",
     "output_type": "stream",
     "text": [
      "feature 0 : 1920\n",
      "feature 1 : 3295\n",
      "feature 2 : 2923\n",
      "feature 3 : 2116\n",
      "feature 4 : 3028\n",
      "feature 5 : 1721\n",
      "feature 6 : 3165\n",
      "feature 7 : 2928\n",
      "feature 8 : 3\n",
      "feature 9 : 1761\n",
      "feature 10 : 3239\n",
      "feature 11 : 2973\n",
      "feature 12 : 3\n",
      "feature 13 : 1786\n",
      "feature 14 : 3239\n",
      "feature 15 : 2963\n",
      "feature 16 : 3\n",
      "feature 17 : 1708\n",
      "feature 18 : 3222\n",
      "feature 19 : 2967\n",
      "feature 20 : 3\n",
      "feature 21 : 1633\n",
      "feature 22 : 1281\n",
      "feature 23 : 660\n",
      "feature 24 : 1436\n",
      "feature 25 : 1866\n",
      "feature 26 : 1412\n",
      "feature 27 : 1254\n"
     ]
    }
   ],
   "source": [
    "for i in range(X_train.shape[1]):\n",
    "    print(\"feature\",i,\":\",len(pd.unique(X_train[:,i])))"
   ]
  },
  {
   "cell_type": "code",
   "execution_count": 29,
   "metadata": {
    "collapsed": true
   },
   "outputs": [],
   "source": [
    "# create dataset for lightgbm\n",
    "# if you want to re-use data, remember to set free_raw_data=False\n",
    "# とのことだが再利用するとはどういうことだろう...\n",
    "lgb_train = lgb.Dataset(X_train, y_train,\n",
    "                        weight=W_train, free_raw_data=False)\n",
    "lgb_eval = lgb.Dataset(X_test, y_test, reference=lgb_train,\n",
    "                       weight=W_test, free_raw_data=False)"
   ]
  },
  {
   "cell_type": "code",
   "execution_count": 30,
   "metadata": {
    "collapsed": true
   },
   "outputs": [],
   "source": [
    "# specify your configurations as a dict\n",
    "params = {\n",
    "    'boosting_type': 'gbdt',\n",
    "    'objective': 'binary', #二値判別\n",
    "    'metric': 'binary_logloss',\n",
    "    'num_leaves': 31,\n",
    "    'learning_rate': 0.05,\n",
    "    'feature_fraction': 0.9,\n",
    "    'bagging_fraction': 0.8,\n",
    "    'bagging_freq': 5,\n",
    "    'verbose': 0\n",
    "}"
   ]
  },
  {
   "cell_type": "code",
   "execution_count": 31,
   "metadata": {},
   "outputs": [
    {
     "data": {
      "text/plain": [
       "'feature_4'"
      ]
     },
     "execution_count": 31,
     "metadata": {},
     "output_type": "execute_result"
    }
   ],
   "source": [
    "# generate a feature name\n",
    "feature_name = ['feature_' + str(col) for col in range(num_feature)]\n",
    "feature_name[4]"
   ]
  },
  {
   "cell_type": "code",
   "execution_count": 32,
   "metadata": {},
   "outputs": [
    {
     "name": "stdout",
     "output_type": "stream",
     "text": [
      "Start training...\n",
      "[1]\ttraining's binary_logloss: 0.6808\n",
      "[2]\ttraining's binary_logloss: 0.672433\n",
      "[3]\ttraining's binary_logloss: 0.664801\n",
      "[4]\ttraining's binary_logloss: 0.655987\n",
      "[5]\ttraining's binary_logloss: 0.647645\n",
      "[6]\ttraining's binary_logloss: 0.640706\n",
      "[7]\ttraining's binary_logloss: 0.634695\n",
      "[8]\ttraining's binary_logloss: 0.627758\n",
      "[9]\ttraining's binary_logloss: 0.621304\n",
      "[10]\ttraining's binary_logloss: 0.615334\n",
      "Finish first 10 rounds...\n",
      "7th feature name is: 'feature_6'\n"
     ]
    },
    {
     "name": "stderr",
     "output_type": "stream",
     "text": [
      "/Users/denkenhii/.pyenv/versions/anaconda3-5.0.0/lib/python3.6/site-packages/lightgbm/basic.py:1042: UserWarning: categorical_feature in Dataset is overridden. New categorical_feature is [20]\n",
      "  warnings.warn('categorical_feature in Dataset is overridden. New categorical_feature is {}'.format(sorted(list(categorical_feature))))\n"
     ]
    }
   ],
   "source": [
    "print('Start training...')\n",
    "# feature_name and categorical_feature\n",
    "gbm = lgb.train(params,\n",
    "                lgb_train,\n",
    "                num_boost_round=10,\n",
    "                valid_sets=lgb_train,  # eval training data #トレーニングデータで評価を行いながら学習する\n",
    "                feature_name=feature_name, #ここで特徴名を入れる\n",
    "                categorical_feature=[20]) #feature21はカテゴリカルじゃないと思うんだが...(feature20はカテゴリカル)\n",
    "#勝手に20に修正しておいた\n",
    "# check feature name\n",
    "print('Finish first 10 rounds...')\n",
    "print('7th feature name is:', repr(lgb_train.feature_name[6]))"
   ]
  },
  {
   "cell_type": "markdown",
   "metadata": {},
   "source": [
    "モデルの保存"
   ]
  },
  {
   "cell_type": "code",
   "execution_count": 33,
   "metadata": {},
   "outputs": [
    {
     "name": "stdout",
     "output_type": "stream",
     "text": [
      "Dump model to JSON...\n"
     ]
    }
   ],
   "source": [
    "# save model to file\n",
    "gbm.save_model('model.txt')\n",
    "\n",
    "# dump model to json (and save to file)\n",
    "print('Dump model to JSON...')\n",
    "model_json = gbm.dump_model()\n",
    "\n",
    "with open('model.json', 'w+') as f:\n",
    "    json.dump(model_json, f, indent=4)\n"
   ]
  },
  {
   "cell_type": "code",
   "execution_count": 34,
   "metadata": {},
   "outputs": [
    {
     "name": "stdout",
     "output_type": "stream",
     "text": [
      "Feature names: ['feature_0', 'feature_1', 'feature_2', 'feature_3', 'feature_4', 'feature_5', 'feature_6', 'feature_7', 'feature_8', 'feature_9', 'feature_10', 'feature_11', 'feature_12', 'feature_13', 'feature_14', 'feature_15', 'feature_16', 'feature_17', 'feature_18', 'feature_19', 'feature_20', 'feature_21', 'feature_22', 'feature_23', 'feature_24', 'feature_25', 'feature_26', 'feature_27']\n"
     ]
    }
   ],
   "source": [
    "# feature names\n",
    "print('Feature names:', gbm.feature_name())"
   ]
  },
  {
   "cell_type": "markdown",
   "metadata": {},
   "source": [
    "変数重要度"
   ]
  },
  {
   "cell_type": "code",
   "execution_count": 35,
   "metadata": {},
   "outputs": [
    {
     "name": "stdout",
     "output_type": "stream",
     "text": [
      "Feature importances: [16, 3, 4, 19, 1, 26, 3, 0, 2, 15, 1, 2, 0, 10, 2, 3, 0, 2, 1, 3, 0, 9, 33, 3, 36, 41, 30, 35]\n"
     ]
    }
   ],
   "source": [
    "# feature importances\n",
    "print('Feature importances:', list(gbm.feature_importance()))"
   ]
  },
  {
   "cell_type": "markdown",
   "metadata": {
    "collapsed": true
   },
   "source": [
    "学習済みのモデルを読み込んで、推論させる。"
   ]
  },
  {
   "cell_type": "code",
   "execution_count": 36,
   "metadata": {},
   "outputs": [
    {
     "name": "stdout",
     "output_type": "stream",
     "text": [
      "The rmse of loaded model's prediction is: 0.46433153299922175\n"
     ]
    }
   ],
   "source": [
    "bst = lgb.Booster(model_file='model.txt')\n",
    "# can only predict with the best iteration (or the saving iteration)\n",
    "y_pred = bst.predict(X_test)\n",
    "# eval with loaded model\n",
    "print('The rmse of loaded model\\'s prediction is:', mean_squared_error(y_test, y_pred) ** 0.5)"
   ]
  },
  {
   "cell_type": "markdown",
   "metadata": {},
   "source": [
    "もちろんpickleでもモデルを保存できるが、当たり前過ぎるので省略(他人がつくったpickleを開くのはセキュリティ的にも心配だし)"
   ]
  },
  {
   "cell_type": "markdown",
   "metadata": {},
   "source": [
    "途中まで訓練したモデルを追加で訓練する。"
   ]
  },
  {
   "cell_type": "code",
   "execution_count": 37,
   "metadata": {},
   "outputs": [
    {
     "name": "stdout",
     "output_type": "stream",
     "text": [
      "[11]\tvalid_0's binary_logloss: 0.618069\n",
      "[12]\tvalid_0's binary_logloss: 0.614416\n",
      "[13]\tvalid_0's binary_logloss: 0.610315\n",
      "[14]\tvalid_0's binary_logloss: 0.607474\n",
      "[15]\tvalid_0's binary_logloss: 0.603242\n",
      "[16]\tvalid_0's binary_logloss: 0.599735\n",
      "[17]\tvalid_0's binary_logloss: 0.596481\n",
      "[18]\tvalid_0's binary_logloss: 0.593245\n",
      "[19]\tvalid_0's binary_logloss: 0.59029\n",
      "[20]\tvalid_0's binary_logloss: 0.587607\n",
      "Finish 10 - 20 rounds with model file...\n"
     ]
    },
    {
     "name": "stderr",
     "output_type": "stream",
     "text": [
      "/Users/denkenhii/.pyenv/versions/anaconda3-5.0.0/lib/python3.6/site-packages/lightgbm/basic.py:1040: UserWarning: Using categorical_feature in Dataset.\n",
      "  warnings.warn('Using categorical_feature in Dataset.')\n",
      "/Users/denkenhii/.pyenv/versions/anaconda3-5.0.0/lib/python3.6/site-packages/lightgbm/basic.py:1042: UserWarning: categorical_feature in Dataset is overridden. New categorical_feature is [20]\n",
      "  warnings.warn('categorical_feature in Dataset is overridden. New categorical_feature is {}'.format(sorted(list(categorical_feature))))\n",
      "/Users/denkenhii/.pyenv/versions/anaconda3-5.0.0/lib/python3.6/site-packages/lightgbm/basic.py:685: UserWarning: categorical_feature in param dict is overridden.\n",
      "  warnings.warn('categorical_feature in param dict is overridden.')\n"
     ]
    }
   ],
   "source": [
    "gbm = lgb.train(params,\n",
    "                lgb_train,\n",
    "                num_boost_round=10,\n",
    "                init_model='model.txt',#init_modelを指定してあげればok\n",
    "                valid_sets=lgb_eval)\n",
    "print('Finish 10 - 20 rounds with model file...')"
   ]
  },
  {
   "cell_type": "markdown",
   "metadata": {},
   "source": [
    "学習率を小さくする"
   ]
  },
  {
   "cell_type": "code",
   "execution_count": 38,
   "metadata": {},
   "outputs": [
    {
     "name": "stderr",
     "output_type": "stream",
     "text": [
      "/Users/denkenhii/.pyenv/versions/anaconda3-5.0.0/lib/python3.6/site-packages/lightgbm/basic.py:1040: UserWarning: Using categorical_feature in Dataset.\n",
      "  warnings.warn('Using categorical_feature in Dataset.')\n",
      "/Users/denkenhii/.pyenv/versions/anaconda3-5.0.0/lib/python3.6/site-packages/lightgbm/basic.py:685: UserWarning: categorical_feature in param dict is overridden.\n",
      "  warnings.warn('categorical_feature in param dict is overridden.')\n",
      "/Users/denkenhii/.pyenv/versions/anaconda3-5.0.0/lib/python3.6/site-packages/lightgbm/basic.py:733: UserWarning: The prediction of init_model will be overridden by init_score.\n",
      "  warnings.warn(\"The prediction of init_model will be overridden by init_score.\")\n"
     ]
    },
    {
     "name": "stdout",
     "output_type": "stream",
     "text": [
      "[21]\tvalid_0's binary_logloss: 0.618069\n",
      "[22]\tvalid_0's binary_logloss: 0.614451\n",
      "[23]\tvalid_0's binary_logloss: 0.610428\n",
      "[24]\tvalid_0's binary_logloss: 0.607663\n",
      "[25]\tvalid_0's binary_logloss: 0.603582\n",
      "[26]\tvalid_0's binary_logloss: 0.600224\n",
      "[27]\tvalid_0's binary_logloss: 0.597179\n",
      "[28]\tvalid_0's binary_logloss: 0.594054\n",
      "[29]\tvalid_0's binary_logloss: 0.591174\n",
      "[30]\tvalid_0's binary_logloss: 0.58866\n",
      "Finish 20 - 30 rounds with decay learning rates...\n"
     ]
    }
   ],
   "source": [
    "# decay learning rates\n",
    "# learning_rates accepts:\n",
    "# 1. list/tuple with length = num_boost_round\n",
    "# 2. function(curr_iter)\n",
    "# 学習率をラムダ式（じゃなくてもいいはずだよね）で書くことで学習率をどんどん減衰させて行くことができる。\n",
    "gbm = lgb.train(params,\n",
    "                lgb_train,\n",
    "                num_boost_round=10,\n",
    "                init_model=gbm,\n",
    "                learning_rates=lambda iter: 0.05 * (0.99 ** iter),\n",
    "                valid_sets=lgb_eval)\n",
    "\n",
    "print('Finish 20 - 30 rounds with decay learning rates...')"
   ]
  },
  {
   "cell_type": "code",
   "execution_count": 39,
   "metadata": {},
   "outputs": [
    {
     "name": "stderr",
     "output_type": "stream",
     "text": [
      "/Users/denkenhii/.pyenv/versions/anaconda3-5.0.0/lib/python3.6/site-packages/lightgbm/basic.py:1040: UserWarning: Using categorical_feature in Dataset.\n",
      "  warnings.warn('Using categorical_feature in Dataset.')\n",
      "/Users/denkenhii/.pyenv/versions/anaconda3-5.0.0/lib/python3.6/site-packages/lightgbm/basic.py:685: UserWarning: categorical_feature in param dict is overridden.\n",
      "  warnings.warn('categorical_feature in param dict is overridden.')\n",
      "/Users/denkenhii/.pyenv/versions/anaconda3-5.0.0/lib/python3.6/site-packages/lightgbm/basic.py:733: UserWarning: The prediction of init_model will be overridden by init_score.\n",
      "  warnings.warn(\"The prediction of init_model will be overridden by init_score.\")\n"
     ]
    },
    {
     "name": "stdout",
     "output_type": "stream",
     "text": [
      "[31]\tvalid_0's binary_logloss: 0.618616\n",
      "[32]\tvalid_0's binary_logloss: 0.615173\n",
      "[33]\tvalid_0's binary_logloss: 0.611609\n",
      "[34]\tvalid_0's binary_logloss: 0.607951\n",
      "[35]\tvalid_0's binary_logloss: 0.60503\n",
      "[36]\tvalid_0's binary_logloss: 0.602717\n",
      "[37]\tvalid_0's binary_logloss: 0.599952\n",
      "[38]\tvalid_0's binary_logloss: 0.596947\n",
      "[39]\tvalid_0's binary_logloss: 0.594915\n",
      "[40]\tvalid_0's binary_logloss: 0.592395\n",
      "Finish 30 - 40 rounds with changing bagging_fraction...\n"
     ]
    }
   ],
   "source": [
    "# change other parameters during training\n",
    "gbm = lgb.train(params,\n",
    "                lgb_train,\n",
    "                num_boost_round=10,\n",
    "                init_model=gbm,\n",
    "                valid_sets=lgb_eval,\n",
    "                callbacks=[lgb.reset_parameter(bagging_fraction=[0.7] * 5 + [0.6] * 5)])\n",
    "\n",
    "print('Finish 30 - 40 rounds with changing bagging_fraction...')\n",
    "#bagging_fractionを30ラウンドから変更しているっぽいが...ありがたみがよくわからんね"
   ]
  },
  {
   "cell_type": "markdown",
   "metadata": {},
   "source": [
    "自分で定義した目的関数を用いて学習させる"
   ]
  },
  {
   "cell_type": "code",
   "execution_count": 40,
   "metadata": {
    "collapsed": true
   },
   "outputs": [],
   "source": [
    "# 目的関数\n",
    "# self-defined objective function\n",
    "# f(preds: array, train_data: Dataset) -> grad: array, hess: array\n",
    "# log likelihood loss\n",
    "def loglikelood(preds, train_data):\n",
    "    labels = train_data.get_label()\n",
    "    preds = 1. / (1. + np.exp(-preds))\n",
    "    grad = preds - labels\n",
    "    hess = preds * (1. - preds)\n",
    "    return grad, hess\n",
    "#勾配も返さないといけないっぽい？\n",
    "\n",
    "# 評価関数\n",
    "# self-defined eval metric\n",
    "# f(preds: array, train_data: Dataset) -> name: string, eval_result: float, is_higher_better: bool\n",
    "# binary error\n",
    "def binary_error(preds, train_data):\n",
    "    labels = train_data.get_label()\n",
    "    return 'error', np.mean(labels != (preds > 0.5)), False"
   ]
  },
  {
   "cell_type": "code",
   "execution_count": 41,
   "metadata": {},
   "outputs": [
    {
     "name": "stderr",
     "output_type": "stream",
     "text": [
      "/Users/denkenhii/.pyenv/versions/anaconda3-5.0.0/lib/python3.6/site-packages/lightgbm/basic.py:1040: UserWarning: Using categorical_feature in Dataset.\n",
      "  warnings.warn('Using categorical_feature in Dataset.')\n",
      "/Users/denkenhii/.pyenv/versions/anaconda3-5.0.0/lib/python3.6/site-packages/lightgbm/basic.py:685: UserWarning: categorical_feature in param dict is overridden.\n",
      "  warnings.warn('categorical_feature in param dict is overridden.')\n"
     ]
    },
    {
     "name": "stdout",
     "output_type": "stream",
     "text": [
      "[41]\tvalid_0's binary_logloss: 4.789\tvalid_0's error: 0.408\n",
      "[42]\tvalid_0's binary_logloss: 4.83297\tvalid_0's error: 0.398\n",
      "[43]\tvalid_0's binary_logloss: 4.76209\tvalid_0's error: 0.39\n",
      "[44]\tvalid_0's binary_logloss: 4.7494\tvalid_0's error: 0.376\n",
      "[45]\tvalid_0's binary_logloss: 4.84787\tvalid_0's error: 0.376\n",
      "[46]\tvalid_0's binary_logloss: 5.03903\tvalid_0's error: 0.376\n",
      "[47]\tvalid_0's binary_logloss: 4.77534\tvalid_0's error: 0.37\n",
      "[48]\tvalid_0's binary_logloss: 5.12551\tvalid_0's error: 0.362\n",
      "[49]\tvalid_0's binary_logloss: 5.06038\tvalid_0's error: 0.368\n",
      "[50]\tvalid_0's binary_logloss: 5.04804\tvalid_0's error: 0.364\n",
      "Finish 40 - 50 rounds with self-defined objective function and eval metric...\n"
     ]
    },
    {
     "name": "stderr",
     "output_type": "stream",
     "text": [
      "/Users/denkenhii/.pyenv/versions/anaconda3-5.0.0/lib/python3.6/site-packages/lightgbm/basic.py:733: UserWarning: The prediction of init_model will be overridden by init_score.\n",
      "  warnings.warn(\"The prediction of init_model will be overridden by init_score.\")\n"
     ]
    }
   ],
   "source": [
    "gbm = lgb.train(params,\n",
    "                lgb_train,\n",
    "                num_boost_round=10,\n",
    "                init_model=gbm, #前のモデルから10ラウンド分回す\n",
    "                fobj=loglikelood, #目的関数をセット\n",
    "                feval=binary_error, #評価関数をセット\n",
    "                valid_sets=lgb_eval)\n",
    "\n",
    "print('Finish 40 - 50 rounds with self-defined objective function and eval metric...')"
   ]
  },
  {
   "cell_type": "markdown",
   "metadata": {},
   "source": [
    "つぎで何やってるかまじでわからんぞ\n",
    "\n",
    "途中で、valid dataも考慮するようにしているっぽい"
   ]
  },
  {
   "cell_type": "code",
   "execution_count": 42,
   "metadata": {},
   "outputs": [
    {
     "name": "stderr",
     "output_type": "stream",
     "text": [
      "/Users/denkenhii/.pyenv/versions/anaconda3-5.0.0/lib/python3.6/site-packages/lightgbm/basic.py:1040: UserWarning: Using categorical_feature in Dataset.\n",
      "  warnings.warn('Using categorical_feature in Dataset.')\n",
      "/Users/denkenhii/.pyenv/versions/anaconda3-5.0.0/lib/python3.6/site-packages/lightgbm/basic.py:685: UserWarning: categorical_feature in param dict is overridden.\n",
      "  warnings.warn('categorical_feature in param dict is overridden.')\n"
     ]
    },
    {
     "name": "stdout",
     "output_type": "stream",
     "text": [
      "Start a new training job...\n",
      "[1]\ttraining's binary_logloss: 0.610155\n",
      "[2]\ttraining's binary_logloss: 0.605968\n",
      "[3]\ttraining's binary_logloss: 0.601972\n",
      "[4]\ttraining's binary_logloss: 0.59773\n",
      "[5]\ttraining's binary_logloss: 0.593409\n",
      "Add a new valid dataset at iteration 5...\n",
      "[6]\ttraining's binary_logloss: 0.589581\tnew valid's binary_logloss: 0.663248\n",
      "[7]\ttraining's binary_logloss: 0.586011\tnew valid's binary_logloss: 0.659375\n",
      "[8]\ttraining's binary_logloss: 0.582538\tnew valid's binary_logloss: 0.655759\n",
      "[9]\ttraining's binary_logloss: 0.578805\tnew valid's binary_logloss: 0.652358\n",
      "[10]\ttraining's binary_logloss: 0.575115\tnew valid's binary_logloss: 0.64847\n",
      "Finish first 10 rounds with callback function...\n"
     ]
    }
   ],
   "source": [
    "print('Start a new training job...')\n",
    "\n",
    "\n",
    "# callback\n",
    "def reset_metrics():\n",
    "    def callback(env): #クラスっぽい書き方だけど…envから継承してるみたいな...\n",
    "        lgb_eval_new = lgb.Dataset(X_test, y_test, reference=lgb_train)\n",
    "        if env.iteration - env.begin_iteration == 5:\n",
    "            print('Add a new valid dataset at iteration 5...')\n",
    "            env.model.add_valid(lgb_eval_new, 'new valid')\n",
    "    callback.before_iteration = True # 宣言した関数.attributeに代入するとそれを扱うことができるらしい\n",
    "    callback.order = 0\n",
    "    return callback\n",
    "\n",
    "\n",
    "gbm = lgb.train(params,\n",
    "                lgb_train,\n",
    "                num_boost_round=10,\n",
    "                valid_sets=lgb_train,\n",
    "                callbacks=[reset_metrics()])\n",
    "\n",
    "print('Finish first 10 rounds with callback function...')"
   ]
  },
  {
   "cell_type": "code",
   "execution_count": 43,
   "metadata": {},
   "outputs": [],
   "source": [
    "reset_metrics.hoge=12"
   ]
  },
  {
   "cell_type": "code",
   "execution_count": 44,
   "metadata": {},
   "outputs": [
    {
     "data": {
      "text/plain": [
       "12"
      ]
     },
     "execution_count": 44,
     "metadata": {},
     "output_type": "execute_result"
    }
   ],
   "source": [
    "reset_metrics.hoge\n",
    "#こんなことできたのかpython"
   ]
  },
  {
   "cell_type": "code",
   "execution_count": null,
   "metadata": {
    "collapsed": true
   },
   "outputs": [],
   "source": []
  }
 ],
 "metadata": {
  "kernelspec": {
   "display_name": "Python 3",
   "language": "python",
   "name": "python3"
  },
  "language_info": {
   "codemirror_mode": {
    "name": "ipython",
    "version": 3
   },
   "file_extension": ".py",
   "mimetype": "text/x-python",
   "name": "python",
   "nbconvert_exporter": "python",
   "pygments_lexer": "ipython3",
   "version": "3.6.2"
  },
  "toc": {
   "base_numbering": 1,
   "nav_menu": {},
   "number_sections": true,
   "sideBar": true,
   "skip_h1_title": false,
   "title_cell": "Table of Contents",
   "title_sidebar": "Contents",
   "toc_cell": false,
   "toc_position": {},
   "toc_section_display": true,
   "toc_window_display": false
  },
  "varInspector": {
   "cols": {
    "lenName": 16,
    "lenType": 16,
    "lenVar": 40
   },
   "kernels_config": {
    "python": {
     "delete_cmd_postfix": "",
     "delete_cmd_prefix": "del ",
     "library": "var_list.py",
     "varRefreshCmd": "print(var_dic_list())"
    },
    "r": {
     "delete_cmd_postfix": ") ",
     "delete_cmd_prefix": "rm(",
     "library": "var_list.r",
     "varRefreshCmd": "cat(var_dic_list()) "
    }
   },
   "oldHeight": 122.4,
   "position": {
    "height": "40px",
    "left": "419px",
    "right": "20px",
    "top": "-4px",
    "width": "350px"
   },
   "types_to_exclude": [
    "module",
    "function",
    "builtin_function_or_method",
    "instance",
    "_Feature"
   ],
   "varInspector_section_display": "none",
   "window_display": true
  }
 },
 "nbformat": 4,
 "nbformat_minor": 2
}
