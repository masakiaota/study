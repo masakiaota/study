{
 "cells": [
  {
   "cell_type": "markdown",
   "metadata": {},
   "source": [
    "## First Optimization\n",
    "### Quadratic Function Example\n",
    "https://optuna.readthedocs.io/en/stable/tutorial/first.html"
   ]
  },
  {
   "cell_type": "code",
   "execution_count": 1,
   "metadata": {},
   "outputs": [],
   "source": [
    "import optuna"
   ]
  },
  {
   "cell_type": "code",
   "execution_count": 2,
   "metadata": {},
   "outputs": [],
   "source": [
    "def objective(trial):\n",
    "    # (x-2)^2を最小化するxを見つけたい\n",
    "    # trialってのが鍵\n",
    "    x = trial.suggest_uniform('x', -10, 10)\n",
    "    return (x - 2) ** 2"
   ]
  },
  {
   "cell_type": "code",
   "execution_count": 3,
   "metadata": {},
   "outputs": [
    {
     "name": "stderr",
     "output_type": "stream",
     "text": [
      "[I 2018-12-25 22:12:46,355] Finished a trial resulted in value: 132.65130344073157. Current best value is 132.65130344073157 with parameters: {'x': -9.517434759560462}.\n",
      "[I 2018-12-25 22:12:46,366] Finished a trial resulted in value: 8.866938909423599. Current best value is 8.866938909423599 with parameters: {'x': 4.9777405712089156}.\n",
      "[I 2018-12-25 22:12:46,373] Finished a trial resulted in value: 0.06522124032361255. Current best value is 0.06522124032361255 with parameters: {'x': 2.255384495072846}.\n",
      "[I 2018-12-25 22:12:46,382] Finished a trial resulted in value: 48.6901007487619. Current best value is 0.06522124032361255 with parameters: {'x': 2.255384495072846}.\n",
      "[I 2018-12-25 22:12:46,389] Finished a trial resulted in value: 0.3390955911628619. Current best value is 0.06522124032361255 with parameters: {'x': 2.255384495072846}.\n",
      "[I 2018-12-25 22:12:46,402] Finished a trial resulted in value: 1.5342612804614586. Current best value is 0.06522124032361255 with parameters: {'x': 2.255384495072846}.\n",
      "[I 2018-12-25 22:12:46,409] Finished a trial resulted in value: 3.3223746282964104. Current best value is 0.06522124032361255 with parameters: {'x': 2.255384495072846}.\n",
      "[I 2018-12-25 22:12:46,424] Finished a trial resulted in value: 0.018793323171698528. Current best value is 0.018793323171698528 with parameters: {'x': 1.8629112580417395}.\n",
      "[I 2018-12-25 22:12:46,434] Finished a trial resulted in value: 0.06789639025069306. Current best value is 0.018793323171698528 with parameters: {'x': 1.8629112580417395}.\n",
      "[I 2018-12-25 22:12:46,446] Finished a trial resulted in value: 6.469977707572174. Current best value is 0.018793323171698528 with parameters: {'x': 1.8629112580417395}.\n",
      "[I 2018-12-25 22:12:46,457] Finished a trial resulted in value: 38.39523069257516. Current best value is 0.018793323171698528 with parameters: {'x': 1.8629112580417395}.\n",
      "[I 2018-12-25 22:12:46,469] Finished a trial resulted in value: 51.0403184896936. Current best value is 0.018793323171698528 with parameters: {'x': 1.8629112580417395}.\n",
      "[I 2018-12-25 22:12:46,482] Finished a trial resulted in value: 45.992185328381616. Current best value is 0.018793323171698528 with parameters: {'x': 1.8629112580417395}.\n",
      "[I 2018-12-25 22:12:46,491] Finished a trial resulted in value: 24.81898670613036. Current best value is 0.018793323171698528 with parameters: {'x': 1.8629112580417395}.\n",
      "[I 2018-12-25 22:12:46,507] Finished a trial resulted in value: 17.463175408477213. Current best value is 0.018793323171698528 with parameters: {'x': 1.8629112580417395}.\n",
      "[I 2018-12-25 22:12:46,518] Finished a trial resulted in value: 106.504520784831. Current best value is 0.018793323171698528 with parameters: {'x': 1.8629112580417395}.\n",
      "[I 2018-12-25 22:12:46,531] Finished a trial resulted in value: 62.29995872206941. Current best value is 0.018793323171698528 with parameters: {'x': 1.8629112580417395}.\n",
      "[I 2018-12-25 22:12:46,541] Finished a trial resulted in value: 4.9353376164612355. Current best value is 0.018793323171698528 with parameters: {'x': 1.8629112580417395}.\n",
      "[I 2018-12-25 22:12:46,555] Finished a trial resulted in value: 8.675591549383464. Current best value is 0.018793323171698528 with parameters: {'x': 1.8629112580417395}.\n",
      "[I 2018-12-25 22:12:46,567] Finished a trial resulted in value: 0.45545134584238645. Current best value is 0.018793323171698528 with parameters: {'x': 1.8629112580417395}.\n",
      "[I 2018-12-25 22:12:46,580] Finished a trial resulted in value: 23.555209321643922. Current best value is 0.018793323171698528 with parameters: {'x': 1.8629112580417395}.\n",
      "[I 2018-12-25 22:12:46,595] Finished a trial resulted in value: 13.403210900113194. Current best value is 0.018793323171698528 with parameters: {'x': 1.8629112580417395}.\n",
      "[I 2018-12-25 22:12:46,607] Finished a trial resulted in value: 24.46058232412239. Current best value is 0.018793323171698528 with parameters: {'x': 1.8629112580417395}.\n",
      "[I 2018-12-25 22:12:46,621] Finished a trial resulted in value: 23.956572749984492. Current best value is 0.018793323171698528 with parameters: {'x': 1.8629112580417395}.\n",
      "[I 2018-12-25 22:12:46,634] Finished a trial resulted in value: 2.90006772587847. Current best value is 0.018793323171698528 with parameters: {'x': 1.8629112580417395}.\n",
      "[I 2018-12-25 22:12:46,648] Finished a trial resulted in value: 75.08460001018803. Current best value is 0.018793323171698528 with parameters: {'x': 1.8629112580417395}.\n",
      "[I 2018-12-25 22:12:46,661] Finished a trial resulted in value: 6.6462363684614125. Current best value is 0.018793323171698528 with parameters: {'x': 1.8629112580417395}.\n",
      "[I 2018-12-25 22:12:46,674] Finished a trial resulted in value: 35.137275650628794. Current best value is 0.018793323171698528 with parameters: {'x': 1.8629112580417395}.\n",
      "[I 2018-12-25 22:12:46,689] Finished a trial resulted in value: 14.160542277607444. Current best value is 0.018793323171698528 with parameters: {'x': 1.8629112580417395}.\n",
      "[I 2018-12-25 22:12:46,703] Finished a trial resulted in value: 0.6898311088890278. Current best value is 0.018793323171698528 with parameters: {'x': 1.8629112580417395}.\n",
      "[I 2018-12-25 22:12:46,718] Finished a trial resulted in value: 0.3378156231590125. Current best value is 0.018793323171698528 with parameters: {'x': 1.8629112580417395}.\n",
      "[I 2018-12-25 22:12:46,731] Finished a trial resulted in value: 45.61440432325554. Current best value is 0.018793323171698528 with parameters: {'x': 1.8629112580417395}.\n",
      "[I 2018-12-25 22:12:46,748] Finished a trial resulted in value: 21.309148225404666. Current best value is 0.018793323171698528 with parameters: {'x': 1.8629112580417395}.\n",
      "[I 2018-12-25 22:12:46,760] Finished a trial resulted in value: 0.6094431243265834. Current best value is 0.018793323171698528 with parameters: {'x': 1.8629112580417395}.\n",
      "[I 2018-12-25 22:12:46,780] Finished a trial resulted in value: 137.6662512808213. Current best value is 0.018793323171698528 with parameters: {'x': 1.8629112580417395}.\n",
      "[I 2018-12-25 22:12:46,793] Finished a trial resulted in value: 13.197478893425709. Current best value is 0.018793323171698528 with parameters: {'x': 1.8629112580417395}.\n",
      "[I 2018-12-25 22:12:46,805] Finished a trial resulted in value: 2.5140021954907157. Current best value is 0.018793323171698528 with parameters: {'x': 1.8629112580417395}.\n",
      "[I 2018-12-25 22:12:46,823] Finished a trial resulted in value: 2.2482072192950655. Current best value is 0.018793323171698528 with parameters: {'x': 1.8629112580417395}.\n",
      "[I 2018-12-25 22:12:46,836] Finished a trial resulted in value: 32.36922829090829. Current best value is 0.018793323171698528 with parameters: {'x': 1.8629112580417395}.\n",
      "[I 2018-12-25 22:12:46,852] Finished a trial resulted in value: 0.0002566225755445389. Current best value is 0.0002566225755445389 with parameters: {'x': 1.9839805563284945}.\n",
      "[I 2018-12-25 22:12:46,867] Finished a trial resulted in value: 65.79808311504948. Current best value is 0.0002566225755445389 with parameters: {'x': 1.9839805563284945}.\n",
      "[I 2018-12-25 22:12:46,881] Finished a trial resulted in value: 12.093249577431608. Current best value is 0.0002566225755445389 with parameters: {'x': 1.9839805563284945}.\n",
      "[I 2018-12-25 22:12:46,898] Finished a trial resulted in value: 9.354755210674444. Current best value is 0.0002566225755445389 with parameters: {'x': 1.9839805563284945}.\n",
      "[I 2018-12-25 22:12:46,911] Finished a trial resulted in value: 3.6865007406551857. Current best value is 0.0002566225755445389 with parameters: {'x': 1.9839805563284945}.\n",
      "[I 2018-12-25 22:12:46,929] Finished a trial resulted in value: 0.0516269485029858. Current best value is 0.0002566225755445389 with parameters: {'x': 1.9839805563284945}.\n",
      "[I 2018-12-25 22:12:46,943] Finished a trial resulted in value: 82.99441480124777. Current best value is 0.0002566225755445389 with parameters: {'x': 1.9839805563284945}.\n",
      "[I 2018-12-25 22:12:46,962] Finished a trial resulted in value: 1.5316540740712243. Current best value is 0.0002566225755445389 with parameters: {'x': 1.9839805563284945}.\n",
      "[I 2018-12-25 22:12:46,976] Finished a trial resulted in value: 7.937625220676834. Current best value is 0.0002566225755445389 with parameters: {'x': 1.9839805563284945}.\n",
      "[I 2018-12-25 22:12:46,991] Finished a trial resulted in value: 51.342492037841986. Current best value is 0.0002566225755445389 with parameters: {'x': 1.9839805563284945}.\n",
      "[I 2018-12-25 22:12:47,011] Finished a trial resulted in value: 32.53964910944224. Current best value is 0.0002566225755445389 with parameters: {'x': 1.9839805563284945}.\n",
      "[I 2018-12-25 22:12:47,032] Finished a trial resulted in value: 29.8117013433272. Current best value is 0.0002566225755445389 with parameters: {'x': 1.9839805563284945}.\n",
      "[I 2018-12-25 22:12:47,048] Finished a trial resulted in value: 51.633834640731685. Current best value is 0.0002566225755445389 with parameters: {'x': 1.9839805563284945}.\n",
      "[I 2018-12-25 22:12:47,072] Finished a trial resulted in value: 99.7055038167399. Current best value is 0.0002566225755445389 with parameters: {'x': 1.9839805563284945}.\n",
      "[I 2018-12-25 22:12:47,092] Finished a trial resulted in value: 15.07343070914848. Current best value is 0.0002566225755445389 with parameters: {'x': 1.9839805563284945}.\n",
      "[I 2018-12-25 22:12:47,116] Finished a trial resulted in value: 0.00421535227436792. Current best value is 0.0002566225755445389 with parameters: {'x': 1.9839805563284945}.\n",
      "[I 2018-12-25 22:12:47,135] Finished a trial resulted in value: 4.602384620209026. Current best value is 0.0002566225755445389 with parameters: {'x': 1.9839805563284945}.\n",
      "[I 2018-12-25 22:12:47,157] Finished a trial resulted in value: 0.07336350281139689. Current best value is 0.0002566225755445389 with parameters: {'x': 1.9839805563284945}.\n",
      "[I 2018-12-25 22:12:47,178] Finished a trial resulted in value: 0.516638400851262. Current best value is 0.0002566225755445389 with parameters: {'x': 1.9839805563284945}.\n",
      "[I 2018-12-25 22:12:47,195] Finished a trial resulted in value: 22.74133988427036. Current best value is 0.0002566225755445389 with parameters: {'x': 1.9839805563284945}.\n",
      "[I 2018-12-25 22:12:47,216] Finished a trial resulted in value: 7.712269060991612. Current best value is 0.0002566225755445389 with parameters: {'x': 1.9839805563284945}.\n",
      "[I 2018-12-25 22:12:47,231] Finished a trial resulted in value: 16.578260208222556. Current best value is 0.0002566225755445389 with parameters: {'x': 1.9839805563284945}.\n",
      "[I 2018-12-25 22:12:47,248] Finished a trial resulted in value: 11.477296472354448. Current best value is 0.0002566225755445389 with parameters: {'x': 1.9839805563284945}.\n",
      "[I 2018-12-25 22:12:47,268] Finished a trial resulted in value: 5.018833467959155. Current best value is 0.0002566225755445389 with parameters: {'x': 1.9839805563284945}.\n",
      "[I 2018-12-25 22:12:47,283] Finished a trial resulted in value: 1.827661302019251. Current best value is 0.0002566225755445389 with parameters: {'x': 1.9839805563284945}.\n",
      "[I 2018-12-25 22:12:47,299] Finished a trial resulted in value: 44.154457097159614. Current best value is 0.0002566225755445389 with parameters: {'x': 1.9839805563284945}.\n",
      "[I 2018-12-25 22:12:47,321] Finished a trial resulted in value: 5.250539667753946e-06. Current best value is 5.250539667753946e-06 with parameters: {'x': 2.0022914056096104}.\n",
      "[I 2018-12-25 22:12:47,336] Finished a trial resulted in value: 3.977261919343437. Current best value is 5.250539667753946e-06 with parameters: {'x': 2.0022914056096104}.\n",
      "[I 2018-12-25 22:12:47,353] Finished a trial resulted in value: 0.6420193762051808. Current best value is 5.250539667753946e-06 with parameters: {'x': 2.0022914056096104}.\n",
      "[I 2018-12-25 22:12:47,374] Finished a trial resulted in value: 8.724491764347926. Current best value is 5.250539667753946e-06 with parameters: {'x': 2.0022914056096104}.\n",
      "[I 2018-12-25 22:12:47,389] Finished a trial resulted in value: 0.0010696524506896823. Current best value is 5.250539667753946e-06 with parameters: {'x': 2.0022914056096104}.\n",
      "[I 2018-12-25 22:12:47,410] Finished a trial resulted in value: 18.235808727639466. Current best value is 5.250539667753946e-06 with parameters: {'x': 2.0022914056096104}.\n",
      "[I 2018-12-25 22:12:47,428] Finished a trial resulted in value: 1.1145920248437449. Current best value is 5.250539667753946e-06 with parameters: {'x': 2.0022914056096104}.\n",
      "[I 2018-12-25 22:12:47,444] Finished a trial resulted in value: 19.614620484133813. Current best value is 5.250539667753946e-06 with parameters: {'x': 2.0022914056096104}.\n",
      "[I 2018-12-25 22:12:47,465] Finished a trial resulted in value: 26.86603628217446. Current best value is 5.250539667753946e-06 with parameters: {'x': 2.0022914056096104}.\n",
      "[I 2018-12-25 22:12:47,483] Finished a trial resulted in value: 39.89466600911822. Current best value is 5.250539667753946e-06 with parameters: {'x': 2.0022914056096104}.\n",
      "[I 2018-12-25 22:12:47,499] Finished a trial resulted in value: 29.368330131588518. Current best value is 5.250539667753946e-06 with parameters: {'x': 2.0022914056096104}.\n",
      "[I 2018-12-25 22:12:47,521] Finished a trial resulted in value: 61.74253061579685. Current best value is 5.250539667753946e-06 with parameters: {'x': 2.0022914056096104}.\n",
      "[I 2018-12-25 22:12:47,539] Finished a trial resulted in value: 6.239764118458583. Current best value is 5.250539667753946e-06 with parameters: {'x': 2.0022914056096104}.\n",
      "[I 2018-12-25 22:12:47,556] Finished a trial resulted in value: 5.30037752705009. Current best value is 5.250539667753946e-06 with parameters: {'x': 2.0022914056096104}.\n",
      "[I 2018-12-25 22:12:47,578] Finished a trial resulted in value: 0.9381216081528744. Current best value is 5.250539667753946e-06 with parameters: {'x': 2.0022914056096104}.\n",
      "[I 2018-12-25 22:12:47,595] Finished a trial resulted in value: 39.263230346532914. Current best value is 5.250539667753946e-06 with parameters: {'x': 2.0022914056096104}.\n",
      "[I 2018-12-25 22:12:47,613] Finished a trial resulted in value: 143.7913582896906. Current best value is 5.250539667753946e-06 with parameters: {'x': 2.0022914056096104}.\n",
      "[I 2018-12-25 22:12:47,637] Finished a trial resulted in value: 11.409810567991334. Current best value is 5.250539667753946e-06 with parameters: {'x': 2.0022914056096104}.\n",
      "[I 2018-12-25 22:12:47,659] Finished a trial resulted in value: 57.8518443671891. Current best value is 5.250539667753946e-06 with parameters: {'x': 2.0022914056096104}.\n",
      "[I 2018-12-25 22:12:47,680] Finished a trial resulted in value: 119.25077435793719. Current best value is 5.250539667753946e-06 with parameters: {'x': 2.0022914056096104}.\n",
      "[I 2018-12-25 22:12:47,700] Finished a trial resulted in value: 0.06166156780077602. Current best value is 5.250539667753946e-06 with parameters: {'x': 2.0022914056096104}.\n",
      "[I 2018-12-25 22:12:47,719] Finished a trial resulted in value: 2.777658229427664. Current best value is 5.250539667753946e-06 with parameters: {'x': 2.0022914056096104}.\n",
      "[I 2018-12-25 22:12:47,739] Finished a trial resulted in value: 3.3361502020555402. Current best value is 5.250539667753946e-06 with parameters: {'x': 2.0022914056096104}.\n",
      "[I 2018-12-25 22:12:47,760] Finished a trial resulted in value: 0.24391261368068157. Current best value is 5.250539667753946e-06 with parameters: {'x': 2.0022914056096104}.\n",
      "[I 2018-12-25 22:12:47,777] Finished a trial resulted in value: 19.23129773470781. Current best value is 5.250539667753946e-06 with parameters: {'x': 2.0022914056096104}.\n",
      "[I 2018-12-25 22:12:47,801] Finished a trial resulted in value: 12.5447079455886. Current best value is 5.250539667753946e-06 with parameters: {'x': 2.0022914056096104}.\n",
      "[I 2018-12-25 22:12:47,826] Finished a trial resulted in value: 1.8778948779027556. Current best value is 5.250539667753946e-06 with parameters: {'x': 2.0022914056096104}.\n",
      "[I 2018-12-25 22:12:47,845] Finished a trial resulted in value: 22.840954340148897. Current best value is 5.250539667753946e-06 with parameters: {'x': 2.0022914056096104}.\n",
      "[I 2018-12-25 22:12:47,864] Finished a trial resulted in value: 10.089608087356927. Current best value is 5.250539667753946e-06 with parameters: {'x': 2.0022914056096104}.\n",
      "[I 2018-12-25 22:12:47,887] Finished a trial resulted in value: 54.21962367309741. Current best value is 5.250539667753946e-06 with parameters: {'x': 2.0022914056096104}.\n",
      "[I 2018-12-25 22:12:47,908] Finished a trial resulted in value: 6.360750314255618. Current best value is 5.250539667753946e-06 with parameters: {'x': 2.0022914056096104}.\n",
      "[I 2018-12-25 22:12:47,927] Finished a trial resulted in value: 0.35198943687681866. Current best value is 5.250539667753946e-06 with parameters: {'x': 2.0022914056096104}.\n",
      "[I 2018-12-25 22:12:47,952] Finished a trial resulted in value: 1.8110469854461169. Current best value is 5.250539667753946e-06 with parameters: {'x': 2.0022914056096104}.\n",
      "[I 2018-12-25 22:12:47,973] Finished a trial resulted in value: 0.024630844099398905. Current best value is 5.250539667753946e-06 with parameters: {'x': 2.0022914056096104}.\n",
      "[I 2018-12-25 22:12:47,992] Finished a trial resulted in value: 16.47625659184242. Current best value is 5.250539667753946e-06 with parameters: {'x': 2.0022914056096104}.\n"
     ]
    }
   ],
   "source": [
    "study = optuna.create_study() #おまじない\n",
    "study.optimize(objective, n_trials=100, n_jobs=1)"
   ]
  },
  {
   "cell_type": "code",
   "execution_count": 4,
   "metadata": {},
   "outputs": [
    {
     "data": {
      "text/plain": [
       "{'x': 2.0022914056096104}"
      ]
     },
     "execution_count": 4,
     "metadata": {},
     "output_type": "execute_result"
    }
   ],
   "source": [
    "# 結果\n",
    "study.best_params"
   ]
  },
  {
   "cell_type": "code",
   "execution_count": 5,
   "metadata": {},
   "outputs": [
    {
     "data": {
      "text/plain": [
       "5.250539667753946e-06"
      ]
     },
     "execution_count": 5,
     "metadata": {},
     "output_type": "execute_result"
    }
   ],
   "source": [
    "study.best_value"
   ]
  },
  {
   "cell_type": "code",
   "execution_count": 6,
   "metadata": {},
   "outputs": [
    {
     "data": {
      "text/plain": [
       "FrozenTrial(trial_id=65, state=<TrialState.COMPLETE: 1>, value=5.250539667753946e-06, datetime_start=datetime.datetime(2018, 12, 25, 22, 12, 47, 310262), datetime_complete=datetime.datetime(2018, 12, 25, 22, 12, 47, 314403), params={'x': 2.0022914056096104}, user_attrs={}, system_attrs={}, intermediate_values={}, params_in_internal_repr={'x': 2.0022914056096104})"
      ]
     },
     "execution_count": 6,
     "metadata": {},
     "output_type": "execute_result"
    }
   ],
   "source": [
    "study.best_trial"
   ]
  },
  {
   "cell_type": "code",
   "execution_count": 7,
   "metadata": {},
   "outputs": [
    {
     "name": "stdout",
     "output_type": "stream",
     "text": [
      "FrozenTrial(trial_id=99, state=<TrialState.COMPLETE: 1>, value=16.47625659184242, datetime_start=datetime.datetime(2018, 12, 25, 22, 12, 47, 979174), datetime_complete=datetime.datetime(2018, 12, 25, 22, 12, 47, 985954), params={'x': 6.059095538644344}, user_attrs={}, system_attrs={}, intermediate_values={}, params_in_internal_repr={'x': 6.059095538644344})\n"
     ]
    },
    {
     "data": {
      "text/plain": [
       "100"
      ]
     },
     "execution_count": 7,
     "metadata": {},
     "output_type": "execute_result"
    }
   ],
   "source": [
    "print(study.trials[99])\n",
    "len(study.trials)"
   ]
  },
  {
   "cell_type": "markdown",
   "metadata": {},
   "source": [
    "さらに続けて学習を行うことも可能"
   ]
  },
  {
   "cell_type": "code",
   "execution_count": 8,
   "metadata": {},
   "outputs": [
    {
     "name": "stderr",
     "output_type": "stream",
     "text": [
      "[I 2018-12-25 22:12:50,837] Finished a trial resulted in value: 33.06498742230397. Current best value is 5.250539667753946e-06 with parameters: {'x': 2.0022914056096104}.\n",
      "[I 2018-12-25 22:12:50,858] Finished a trial resulted in value: 6.508646049876874. Current best value is 5.250539667753946e-06 with parameters: {'x': 2.0022914056096104}.\n",
      "[I 2018-12-25 22:12:50,884] Finished a trial resulted in value: 15.955732593974155. Current best value is 5.250539667753946e-06 with parameters: {'x': 2.0022914056096104}.\n",
      "[I 2018-12-25 22:12:50,906] Finished a trial resulted in value: 9.859326110701508. Current best value is 5.250539667753946e-06 with parameters: {'x': 2.0022914056096104}.\n",
      "[I 2018-12-25 22:12:50,929] Finished a trial resulted in value: 91.9751168488851. Current best value is 5.250539667753946e-06 with parameters: {'x': 2.0022914056096104}.\n",
      "[I 2018-12-25 22:12:50,953] Finished a trial resulted in value: 42.285560158748325. Current best value is 5.250539667753946e-06 with parameters: {'x': 2.0022914056096104}.\n",
      "[I 2018-12-25 22:12:50,977] Finished a trial resulted in value: 0.9967378494817964. Current best value is 5.250539667753946e-06 with parameters: {'x': 2.0022914056096104}.\n",
      "[I 2018-12-25 22:12:51,000] Finished a trial resulted in value: 1.3252436669708294. Current best value is 5.250539667753946e-06 with parameters: {'x': 2.0022914056096104}.\n",
      "[I 2018-12-25 22:12:51,026] Finished a trial resulted in value: 3.302841758560915. Current best value is 5.250539667753946e-06 with parameters: {'x': 2.0022914056096104}.\n",
      "[I 2018-12-25 22:12:51,052] Finished a trial resulted in value: 76.31828926518222. Current best value is 5.250539667753946e-06 with parameters: {'x': 2.0022914056096104}.\n",
      "[I 2018-12-25 22:12:51,080] Finished a trial resulted in value: 2.665553926018852. Current best value is 5.250539667753946e-06 with parameters: {'x': 2.0022914056096104}.\n",
      "[I 2018-12-25 22:12:51,106] Finished a trial resulted in value: 0.29637045555252883. Current best value is 5.250539667753946e-06 with parameters: {'x': 2.0022914056096104}.\n",
      "[I 2018-12-25 22:12:51,133] Finished a trial resulted in value: 0.1380336630774559. Current best value is 5.250539667753946e-06 with parameters: {'x': 2.0022914056096104}.\n",
      "[I 2018-12-25 22:12:51,162] Finished a trial resulted in value: 30.003337680260362. Current best value is 5.250539667753946e-06 with parameters: {'x': 2.0022914056096104}.\n",
      "[I 2018-12-25 22:12:51,187] Finished a trial resulted in value: 25.75259823490559. Current best value is 5.250539667753946e-06 with parameters: {'x': 2.0022914056096104}.\n",
      "[I 2018-12-25 22:12:51,213] Finished a trial resulted in value: 18.38255292847101. Current best value is 5.250539667753946e-06 with parameters: {'x': 2.0022914056096104}.\n",
      "[I 2018-12-25 22:12:51,235] Finished a trial resulted in value: 8.367824762526356. Current best value is 5.250539667753946e-06 with parameters: {'x': 2.0022914056096104}.\n",
      "[I 2018-12-25 22:12:51,263] Finished a trial resulted in value: 37.11736133817532. Current best value is 5.250539667753946e-06 with parameters: {'x': 2.0022914056096104}.\n",
      "[I 2018-12-25 22:12:51,288] Finished a trial resulted in value: 61.26679198681337. Current best value is 5.250539667753946e-06 with parameters: {'x': 2.0022914056096104}.\n",
      "[I 2018-12-25 22:12:51,315] Finished a trial resulted in value: 5.760559999352178. Current best value is 5.250539667753946e-06 with parameters: {'x': 2.0022914056096104}.\n",
      "[I 2018-12-25 22:12:51,344] Finished a trial resulted in value: 62.149462361799266. Current best value is 5.250539667753946e-06 with parameters: {'x': 2.0022914056096104}.\n",
      "[I 2018-12-25 22:12:51,370] Finished a trial resulted in value: 4.4671449351552965. Current best value is 5.250539667753946e-06 with parameters: {'x': 2.0022914056096104}.\n",
      "[I 2018-12-25 22:12:51,401] Finished a trial resulted in value: 13.917128909075707. Current best value is 5.250539667753946e-06 with parameters: {'x': 2.0022914056096104}.\n",
      "[I 2018-12-25 22:12:51,428] Finished a trial resulted in value: 49.59655347624066. Current best value is 5.250539667753946e-06 with parameters: {'x': 2.0022914056096104}.\n",
      "[I 2018-12-25 22:12:51,453] Finished a trial resulted in value: 123.32740827352576. Current best value is 5.250539667753946e-06 with parameters: {'x': 2.0022914056096104}.\n",
      "[I 2018-12-25 22:12:51,480] Finished a trial resulted in value: 14.262003255088723. Current best value is 5.250539667753946e-06 with parameters: {'x': 2.0022914056096104}.\n",
      "[I 2018-12-25 22:12:51,509] Finished a trial resulted in value: 26.710420707730982. Current best value is 5.250539667753946e-06 with parameters: {'x': 2.0022914056096104}.\n",
      "[I 2018-12-25 22:12:51,537] Finished a trial resulted in value: 0.6137015152395192. Current best value is 5.250539667753946e-06 with parameters: {'x': 2.0022914056096104}.\n",
      "[I 2018-12-25 22:12:51,564] Finished a trial resulted in value: 36.48724970278809. Current best value is 5.250539667753946e-06 with parameters: {'x': 2.0022914056096104}.\n",
      "[I 2018-12-25 22:12:51,590] Finished a trial resulted in value: 8.561744850744253. Current best value is 5.250539667753946e-06 with parameters: {'x': 2.0022914056096104}.\n",
      "[I 2018-12-25 22:12:51,622] Finished a trial resulted in value: 0.11584684255183121. Current best value is 5.250539667753946e-06 with parameters: {'x': 2.0022914056096104}.\n",
      "[I 2018-12-25 22:12:51,648] Finished a trial resulted in value: 0.0003061717538231927. Current best value is 5.250539667753946e-06 with parameters: {'x': 2.0022914056096104}.\n",
      "[I 2018-12-25 22:12:51,677] Finished a trial resulted in value: 3.866722759712773. Current best value is 5.250539667753946e-06 with parameters: {'x': 2.0022914056096104}.\n",
      "[I 2018-12-25 22:12:51,705] Finished a trial resulted in value: 6.789067536920842. Current best value is 5.250539667753946e-06 with parameters: {'x': 2.0022914056096104}.\n",
      "[I 2018-12-25 22:12:51,785] Finished a trial resulted in value: 1.5793506414139724. Current best value is 5.250539667753946e-06 with parameters: {'x': 2.0022914056096104}.\n",
      "[I 2018-12-25 22:12:51,808] Finished a trial resulted in value: 1.7932118898273333. Current best value is 5.250539667753946e-06 with parameters: {'x': 2.0022914056096104}.\n",
      "[I 2018-12-25 22:12:51,835] Finished a trial resulted in value: 11.519887053998625. Current best value is 5.250539667753946e-06 with parameters: {'x': 2.0022914056096104}.\n",
      "[I 2018-12-25 22:12:51,863] Finished a trial resulted in value: 44.05882149805248. Current best value is 5.250539667753946e-06 with parameters: {'x': 2.0022914056096104}.\n",
      "[I 2018-12-25 22:12:51,889] Finished a trial resulted in value: 22.98291364620788. Current best value is 5.250539667753946e-06 with parameters: {'x': 2.0022914056096104}.\n",
      "[I 2018-12-25 22:12:51,918] Finished a trial resulted in value: 3.2464069181290025. Current best value is 5.250539667753946e-06 with parameters: {'x': 2.0022914056096104}.\n",
      "[I 2018-12-25 22:12:51,947] Finished a trial resulted in value: 11.877119825312423. Current best value is 5.250539667753946e-06 with parameters: {'x': 2.0022914056096104}.\n",
      "[I 2018-12-25 22:12:51,973] Finished a trial resulted in value: 49.25231991568176. Current best value is 5.250539667753946e-06 with parameters: {'x': 2.0022914056096104}.\n",
      "[I 2018-12-25 22:12:52,005] Finished a trial resulted in value: 0.0023303227132670918. Current best value is 5.250539667753946e-06 with parameters: {'x': 2.0022914056096104}.\n",
      "[I 2018-12-25 22:12:52,034] Finished a trial resulted in value: 0.7978106836842993. Current best value is 5.250539667753946e-06 with parameters: {'x': 2.0022914056096104}.\n",
      "[I 2018-12-25 22:12:52,063] Finished a trial resulted in value: 71.26718298887607. Current best value is 5.250539667753946e-06 with parameters: {'x': 2.0022914056096104}.\n",
      "[I 2018-12-25 22:12:52,092] Finished a trial resulted in value: 0.19909424772989665. Current best value is 5.250539667753946e-06 with parameters: {'x': 2.0022914056096104}.\n",
      "[I 2018-12-25 22:12:52,121] Finished a trial resulted in value: 2.7526978583452006. Current best value is 5.250539667753946e-06 with parameters: {'x': 2.0022914056096104}.\n",
      "[I 2018-12-25 22:12:52,150] Finished a trial resulted in value: 0.8111814663251745. Current best value is 5.250539667753946e-06 with parameters: {'x': 2.0022914056096104}.\n",
      "[I 2018-12-25 22:12:52,176] Finished a trial resulted in value: 21.92160469372336. Current best value is 5.250539667753946e-06 with parameters: {'x': 2.0022914056096104}.\n",
      "[I 2018-12-25 22:12:52,207] Finished a trial resulted in value: 6.969090353934438. Current best value is 5.250539667753946e-06 with parameters: {'x': 2.0022914056096104}.\n",
      "[I 2018-12-25 22:12:52,238] Finished a trial resulted in value: 0.010123670774493044. Current best value is 5.250539667753946e-06 with parameters: {'x': 2.0022914056096104}.\n",
      "[I 2018-12-25 22:12:52,271] Finished a trial resulted in value: 4.856142393397583. Current best value is 5.250539667753946e-06 with parameters: {'x': 2.0022914056096104}.\n",
      "[I 2018-12-25 22:12:52,306] Finished a trial resulted in value: 4.915155604487473. Current best value is 5.250539667753946e-06 with parameters: {'x': 2.0022914056096104}.\n",
      "[I 2018-12-25 22:12:52,342] Finished a trial resulted in value: 9.519705594075159. Current best value is 5.250539667753946e-06 with parameters: {'x': 2.0022914056096104}.\n",
      "[I 2018-12-25 22:12:52,371] Finished a trial resulted in value: 2.258537880920767. Current best value is 5.250539667753946e-06 with parameters: {'x': 2.0022914056096104}.\n",
      "[I 2018-12-25 22:12:52,399] Finished a trial resulted in value: 0.35989988508930526. Current best value is 5.250539667753946e-06 with parameters: {'x': 2.0022914056096104}.\n",
      "[I 2018-12-25 22:12:52,427] Finished a trial resulted in value: 18.746630957186998. Current best value is 5.250539667753946e-06 with parameters: {'x': 2.0022914056096104}.\n",
      "[I 2018-12-25 22:12:52,459] Finished a trial resulted in value: 10.26320431069187. Current best value is 5.250539667753946e-06 with parameters: {'x': 2.0022914056096104}.\n",
      "[I 2018-12-25 22:12:52,493] Finished a trial resulted in value: 1.1497641322435215. Current best value is 5.250539667753946e-06 with parameters: {'x': 2.0022914056096104}.\n",
      "[I 2018-12-25 22:12:52,527] Finished a trial resulted in value: 6.408544554521833. Current best value is 5.250539667753946e-06 with parameters: {'x': 2.0022914056096104}.\n",
      "[I 2018-12-25 22:12:52,557] Finished a trial resulted in value: 0.22676107664941586. Current best value is 5.250539667753946e-06 with parameters: {'x': 2.0022914056096104}.\n",
      "[I 2018-12-25 22:12:52,601] Finished a trial resulted in value: 2.361130874403691. Current best value is 5.250539667753946e-06 with parameters: {'x': 2.0022914056096104}.\n",
      "[I 2018-12-25 22:12:52,637] Finished a trial resulted in value: 16.21053515600954. Current best value is 5.250539667753946e-06 with parameters: {'x': 2.0022914056096104}.\n",
      "[I 2018-12-25 22:12:52,672] Finished a trial resulted in value: 16.065412795029914. Current best value is 5.250539667753946e-06 with parameters: {'x': 2.0022914056096104}.\n",
      "[I 2018-12-25 22:12:52,713] Finished a trial resulted in value: 1.1854113113043832. Current best value is 5.250539667753946e-06 with parameters: {'x': 2.0022914056096104}.\n",
      "[I 2018-12-25 22:12:52,747] Finished a trial resulted in value: 19.680222128698077. Current best value is 5.250539667753946e-06 with parameters: {'x': 2.0022914056096104}.\n",
      "[I 2018-12-25 22:12:52,779] Finished a trial resulted in value: 4.273559678901454. Current best value is 5.250539667753946e-06 with parameters: {'x': 2.0022914056096104}.\n",
      "[I 2018-12-25 22:12:52,810] Finished a trial resulted in value: 3.6837221585706796. Current best value is 5.250539667753946e-06 with parameters: {'x': 2.0022914056096104}.\n",
      "[I 2018-12-25 22:12:52,839] Finished a trial resulted in value: 28.441959806729457. Current best value is 5.250539667753946e-06 with parameters: {'x': 2.0022914056096104}.\n",
      "[I 2018-12-25 22:12:52,880] Finished a trial resulted in value: 0.002652395107596356. Current best value is 5.250539667753946e-06 with parameters: {'x': 2.0022914056096104}.\n",
      "[I 2018-12-25 22:12:52,910] Finished a trial resulted in value: 0.8459284014532534. Current best value is 5.250539667753946e-06 with parameters: {'x': 2.0022914056096104}.\n",
      "[I 2018-12-25 22:12:52,944] Finished a trial resulted in value: 30.23226463283537. Current best value is 5.250539667753946e-06 with parameters: {'x': 2.0022914056096104}.\n",
      "[I 2018-12-25 22:12:52,977] Finished a trial resulted in value: 7.990514908261296. Current best value is 5.250539667753946e-06 with parameters: {'x': 2.0022914056096104}.\n",
      "[I 2018-12-25 22:12:53,009] Finished a trial resulted in value: 0.16834768185993576. Current best value is 5.250539667753946e-06 with parameters: {'x': 2.0022914056096104}.\n",
      "[I 2018-12-25 22:12:53,044] Finished a trial resulted in value: 12.674954152258007. Current best value is 5.250539667753946e-06 with parameters: {'x': 2.0022914056096104}.\n",
      "[I 2018-12-25 22:12:53,081] Finished a trial resulted in value: 33.94790281554837. Current best value is 5.250539667753946e-06 with parameters: {'x': 2.0022914056096104}.\n",
      "[I 2018-12-25 22:12:53,120] Finished a trial resulted in value: 1.8919622931087001. Current best value is 5.250539667753946e-06 with parameters: {'x': 2.0022914056096104}.\n",
      "[I 2018-12-25 22:12:53,153] Finished a trial resulted in value: 13.409711170325581. Current best value is 5.250539667753946e-06 with parameters: {'x': 2.0022914056096104}.\n",
      "[I 2018-12-25 22:12:53,186] Finished a trial resulted in value: 1.7308632554263013. Current best value is 5.250539667753946e-06 with parameters: {'x': 2.0022914056096104}.\n",
      "[I 2018-12-25 22:12:53,219] Finished a trial resulted in value: 0.19754657239305232. Current best value is 5.250539667753946e-06 with parameters: {'x': 2.0022914056096104}.\n",
      "[I 2018-12-25 22:12:53,249] Finished a trial resulted in value: 0.6275105982827084. Current best value is 5.250539667753946e-06 with parameters: {'x': 2.0022914056096104}.\n",
      "[I 2018-12-25 22:12:53,280] Finished a trial resulted in value: 55.472452496920575. Current best value is 5.250539667753946e-06 with parameters: {'x': 2.0022914056096104}.\n",
      "[I 2018-12-25 22:12:53,315] Finished a trial resulted in value: 4.4544738056421. Current best value is 5.250539667753946e-06 with parameters: {'x': 2.0022914056096104}.\n",
      "[I 2018-12-25 22:12:53,344] Finished a trial resulted in value: 9.059715826665439. Current best value is 5.250539667753946e-06 with parameters: {'x': 2.0022914056096104}.\n",
      "[I 2018-12-25 22:12:53,376] Finished a trial resulted in value: 37.188061745551146. Current best value is 5.250539667753946e-06 with parameters: {'x': 2.0022914056096104}.\n",
      "[I 2018-12-25 22:12:53,408] Finished a trial resulted in value: 3.4741591078941023. Current best value is 5.250539667753946e-06 with parameters: {'x': 2.0022914056096104}.\n",
      "[I 2018-12-25 22:12:53,440] Finished a trial resulted in value: 5.9194152085771155. Current best value is 5.250539667753946e-06 with parameters: {'x': 2.0022914056096104}.\n",
      "[I 2018-12-25 22:12:53,473] Finished a trial resulted in value: 25.28519067125863. Current best value is 5.250539667753946e-06 with parameters: {'x': 2.0022914056096104}.\n",
      "[I 2018-12-25 22:12:53,503] Finished a trial resulted in value: 2.6943526779428377. Current best value is 5.250539667753946e-06 with parameters: {'x': 2.0022914056096104}.\n",
      "[I 2018-12-25 22:12:53,537] Finished a trial resulted in value: 54.440986412965984. Current best value is 5.250539667753946e-06 with parameters: {'x': 2.0022914056096104}.\n",
      "[I 2018-12-25 22:12:53,569] Finished a trial resulted in value: 5.834152594274588. Current best value is 5.250539667753946e-06 with parameters: {'x': 2.0022914056096104}.\n",
      "[I 2018-12-25 22:12:53,599] Finished a trial resulted in value: 96.89105325294372. Current best value is 5.250539667753946e-06 with parameters: {'x': 2.0022914056096104}.\n",
      "[I 2018-12-25 22:12:53,634] Finished a trial resulted in value: 0.0015164452754829296. Current best value is 5.250539667753946e-06 with parameters: {'x': 2.0022914056096104}.\n",
      "[I 2018-12-25 22:12:53,663] Finished a trial resulted in value: 0.4565686002827134. Current best value is 5.250539667753946e-06 with parameters: {'x': 2.0022914056096104}.\n",
      "[I 2018-12-25 22:12:53,699] Finished a trial resulted in value: 112.16848291735067. Current best value is 5.250539667753946e-06 with parameters: {'x': 2.0022914056096104}.\n",
      "[I 2018-12-25 22:12:53,732] Finished a trial resulted in value: 19.765494497051662. Current best value is 5.250539667753946e-06 with parameters: {'x': 2.0022914056096104}.\n",
      "[I 2018-12-25 22:12:53,764] Finished a trial resulted in value: 22.054455385179125. Current best value is 5.250539667753946e-06 with parameters: {'x': 2.0022914056096104}.\n",
      "[I 2018-12-25 22:12:53,797] Finished a trial resulted in value: 40.030611978873495. Current best value is 5.250539667753946e-06 with parameters: {'x': 2.0022914056096104}.\n",
      "[I 2018-12-25 22:12:53,828] Finished a trial resulted in value: 10.29017839067665. Current best value is 5.250539667753946e-06 with parameters: {'x': 2.0022914056096104}.\n",
      "[I 2018-12-25 22:12:53,863] Finished a trial resulted in value: 0.04144476482086603. Current best value is 5.250539667753946e-06 with parameters: {'x': 2.0022914056096104}.\n"
     ]
    },
    {
     "data": {
      "text/plain": [
       "200"
      ]
     },
     "execution_count": 8,
     "metadata": {},
     "output_type": "execute_result"
    }
   ],
   "source": [
    "study.optimize(objective, n_trials=100, n_jobs=1)\n",
    "len(study.trials)"
   ]
  },
  {
   "cell_type": "code",
   "execution_count": 9,
   "metadata": {},
   "outputs": [
    {
     "data": {
      "text/plain": [
       "{'x': 2.0022914056096104}"
      ]
     },
     "execution_count": 9,
     "metadata": {},
     "output_type": "execute_result"
    }
   ],
   "source": [
    "study.best_params"
   ]
  },
  {
   "cell_type": "markdown",
   "metadata": {},
   "source": [
    "## Advanced Configurations\n",
    "https://optuna.readthedocs.io/en/stable/tutorial/configurations.html#defining-parameter-spaces\n",
    "### Defining Parameter Spaces\n",
    "5種のハイパーパラメーターをサポートしている"
   ]
  },
  {
   "cell_type": "code",
   "execution_count": 10,
   "metadata": {},
   "outputs": [],
   "source": [
    "def objective(trial):\n",
    "    # Categorical parameter\n",
    "    # 最適化手法やそもそものアルゴリズム選択にも使えそう\n",
    "    optimizer = trial.suggest_categorical('optimizer', ['MomentumSGD', 'Adam'])\n",
    "\n",
    "    # Int parameter\n",
    "    # 離散的なパラメーター\n",
    "    num_layers = trial.suggest_int('num_layers', 1, 3)\n",
    "\n",
    "    # Uniform parameter\n",
    "    dropout_rate = trial.suggest_uniform('dropout_rate', 0.0, 1.0)\n",
    "\n",
    "    # Loguniform parameter\n",
    "    # 指数的に変わるのでこっちの方がハイパーパラメータを探すときは使いそう\n",
    "    learning_rate = trial.suggest_loguniform('learning_rate', 1e-5, 1e-2)\n",
    "\n",
    "    # Discrete-uniform parameter\n",
    "    # どういうときに使うのかよくわからん\n",
    "    drop_path_rate = trial.suggest_discrete_uniform('drop_path_rate', 0.0, 1.0, 0.1)\n",
    "\n",
    "    ..."
   ]
  },
  {
   "cell_type": "markdown",
   "metadata": {},
   "source": [
    "### Branches and Loops\n",
    "条件分岐や繰り返しをハイパーパラメータにする例"
   ]
  },
  {
   "cell_type": "code",
   "execution_count": 11,
   "metadata": {},
   "outputs": [],
   "source": [
    "def objective(trial):\n",
    "    # そもそも何のクラシファイアーを使うのかも最適化する\n",
    "    classifier_name = trial.suggest_categorical('classifier', ['SVC', 'RandomForest'])\n",
    "    if classifier_name == 'SVC':\n",
    "        # 注目すべきは、分岐したあとにもtrialでハイパーパラメータをサーチできることだ\n",
    "        svc_c = trial.suggest_loguniform('svc_c', 1e-10, 1e10)\n",
    "        classifier_obj = sklearn.svm.SVC(C=svc_c)\n",
    "    else:\n",
    "        # ここもそう。動的にサーチするパラメーターを決めることができるって点でdefine by run\n",
    "        rf_max_depth = int(trial.suggest_loguniform('rf_max_depth', 2, 32))\n",
    "        classifier_obj = sklearn.ensemble.RandomForestClassifier(max_depth=rf_max_depth)\n",
    "\n",
    "    ..."
   ]
  },
  {
   "cell_type": "code",
   "execution_count": 12,
   "metadata": {},
   "outputs": [],
   "source": [
    "def create_model(trial):\n",
    "    # ここでレイヤーの数を決めておいて\n",
    "    n_layers = trial.suggest_int('n_layers', 1, 3)\n",
    "\n",
    "    layers = []\n",
    "    for i in range(n_layers):\n",
    "        # ここでノードの数も決められる！\n",
    "        n_units = int(trial.suggest_loguniform('n_units_l{}'.format(i), 4, 128))\n",
    "        layers.append(L.Linear(None, n_units))\n",
    "        layers.append(F.relu)\n",
    "    layers.append(L.Linear(None, 10))\n",
    "    #めっっちゃ動的に最適な構造を探せる!!!\n",
    "    return chainer.Sequential(*layers)"
   ]
  },
  {
   "cell_type": "markdown",
   "metadata": {},
   "source": [
    "### パラメータの数について\n",
    "最適化の難易度はハイパーパラメータの数に対して、指数的に難しくなる。\n",
    "そのためtrialの数も指数的に増やしていかなければならない。\n",
    "重要じゃないパラメーラー入れないことをおすすめする。\n",
    "\n",
    "### study.optimize()の引数について\n",
    "`n_trials`と`timeout`を指定することができる。\n",
    "ちなみに何も入れないとctrl-Cで終了するまで最適化を続ける。"
   ]
  },
  {
   "cell_type": "markdown",
   "metadata": {},
   "source": [
    "## RDBを用いた保存や分散処理等\n",
    "https://optuna.readthedocs.io/en/stable/tutorial/rdb.html\n",
    "RDBの知識がないので一回スキップ(勉強しなきゃね)"
   ]
  },
  {
   "cell_type": "markdown",
   "metadata": {},
   "source": [
    "## Pruning Unpromising Trials(見込みのない試行の枝刈り\n",
    "https://optuna.readthedocs.io/en/stable/tutorial/pruning.html\n",
    "\n",
    "### Activating Pruners\n"
   ]
  },
  {
   "cell_type": "code",
   "execution_count": null,
   "metadata": {},
   "outputs": [],
   "source": []
  }
 ],
 "metadata": {
  "kernelspec": {
   "display_name": "Python 3",
   "language": "python",
   "name": "python3"
  },
  "language_info": {
   "codemirror_mode": {
    "name": "ipython",
    "version": 3
   },
   "file_extension": ".py",
   "mimetype": "text/x-python",
   "name": "python",
   "nbconvert_exporter": "python",
   "pygments_lexer": "ipython3",
   "version": "3.6.2"
  }
 },
 "nbformat": 4,
 "nbformat_minor": 2
}
