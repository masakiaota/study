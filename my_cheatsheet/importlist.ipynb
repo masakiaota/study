{
 "cells": [
  {
   "cell_type": "markdown",
   "metadata": {},
   "source": [
    "## importするものたち"
   ]
  },
  {
   "cell_type": "markdown",
   "metadata": {},
   "source": [
    "### basic import"
   ]
  },
  {
   "cell_type": "code",
   "execution_count": null,
   "metadata": {},
   "outputs": [],
   "source": [
    "from IPython.core.interactiveshell import InteractiveShell\n",
    "InteractiveShell.ast_node_interactivity = \"all\"\n",
    "\n",
    "import numpy as np\n",
    "import pandas as pd\n",
    "import joblib\n",
    "from pathlib import Path\n",
    "\n",
    "\n",
    "PATH = Path(\"input path to directory\")\n",
    "COILS=list(PATH.glob(\"*.pkl\")) #拡張子を指定して読み出すファイルのリストを指定可能"
   ]
  },
  {
   "cell_type": "markdown",
   "metadata": {},
   "source": [
    "### parallel process"
   ]
  },
  {
   "cell_type": "code",
   "execution_count": null,
   "metadata": {},
   "outputs": [],
   "source": [
    "from multiprocessing import Pool\n",
    "import multiprocessing as multi\n",
    "\n",
    "p = Pool(int(multi.cpu_count()/2))\n",
    "p.map(function, listofargs)\n",
    "p.close()\n",
    "\n",
    "#以下でforで並列処理もできる\n",
    "p = Pool(int(multi.cpu_count()))\n",
    "for i, l in enumerate(p.imap(関数, リスト)):\n",
    "    if i%50==0:\n",
    "        print(i,\"/\",len(リスト))\n",
    "p.close()"
   ]
  },
  {
   "cell_type": "markdown",
   "metadata": {},
   "source": [
    "### matplotlib and seaborn"
   ]
  },
  {
   "cell_type": "code",
   "execution_count": null,
   "metadata": {},
   "outputs": [],
   "source": [
    "import matplotlib.pyplot as plt\n",
    "import seaborn as sns\n",
    "sns.set()\n",
    "\n",
    "%config InlineBackend.figure_formats = {'png', 'retina'}\n",
    "import japanize_matplotlib"
   ]
  },
  {
   "cell_type": "markdown",
   "metadata": {},
   "source": [
    "### keras [WIP]"
   ]
  },
  {
   "cell_type": "code",
   "execution_count": null,
   "metadata": {},
   "outputs": [],
   "source": [
    "from keras.models import Model, Sequential\n",
    "from keras.callbacks import TensorBoard, EarlyStopping\n",
    "from keras.optimizers import adam, Nadam\n",
    "from keras import backend as K\n",
    "from keras.models import load_model\n",
    "from keras.layers import Input, InputLayer, Dense, RepeatVector, Lambda, TimeDistributed, Flatten, Reshape, Conv1D, MaxPool1D, Conv2DTranspose, Activation"
   ]
  },
  {
   "cell_type": "markdown",
   "metadata": {},
   "source": [
    "### Parameter Search"
   ]
  },
  {
   "cell_type": "code",
   "execution_count": null,
   "metadata": {},
   "outputs": [],
   "source": [
    "from sklearn.model_selection import ParameterGrid\n",
    "def examfunc(para1,para2):\n",
    "    \"\"\"\n",
    "    ここをよしなに学習機を含んだ関数を作ったり、クラスを定義してやればいいっていうことっすな\n",
    "    \"\"\"\n",
    "    print(para1,para2)\n",
    "\n",
    "params={\n",
    "    \"para1\":[1,2,3],\n",
    "    \"para2\":[100,500]\n",
    "}\n",
    "for para in ParameterGrid(params):\n",
    "    examfunc(**para) #**で辞書内の引数を展開"
   ]
  },
  {
   "cell_type": "code",
   "execution_count": null,
   "metadata": {},
   "outputs": [],
   "source": []
  },
  {
   "cell_type": "code",
   "execution_count": null,
   "metadata": {},
   "outputs": [],
   "source": []
  },
  {
   "cell_type": "code",
   "execution_count": null,
   "metadata": {},
   "outputs": [],
   "source": []
  }
 ],
 "metadata": {
  "kernelspec": {
   "display_name": "Python 3",
   "language": "python",
   "name": "python3"
  },
  "language_info": {
   "codemirror_mode": {
    "name": "ipython",
    "version": 3
   },
   "file_extension": ".py",
   "mimetype": "text/x-python",
   "name": "python",
   "nbconvert_exporter": "python",
   "pygments_lexer": "ipython3",
   "version": "3.6.2"
  }
 },
 "nbformat": 4,
 "nbformat_minor": 2
}
