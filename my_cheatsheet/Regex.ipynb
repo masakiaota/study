{
 "cells": [
  {
   "cell_type": "markdown",
   "metadata": {},
   "source": [
    "## 正規表現\n",
    "\n",
    "### 基本的なマッチング\n",
    "ここではPythonのreを用いてやってみる。Pandasを使うことがほとんどだろうが正規表現はこれで学ぶことにする。\n",
    "reにおける正規表現マッチの基本的な流れは以下の通り。\n",
    "\n",
    "1. import re\n",
    "2. Regexオブジェクト=re.compile()を生成(raw文字列を使うと楽)\n",
    "3. Matchオブジェクト=Regaxオブジェクト.search()を生成\n",
    "4. Matchオブジェクト.group()でマッチした文字列を取得\n"
   ]
  },
  {
   "cell_type": "code",
   "execution_count": 1,
   "metadata": {},
   "outputs": [],
   "source": [
    "import re"
   ]
  },
  {
   "cell_type": "code",
   "execution_count": 2,
   "metadata": {},
   "outputs": [],
   "source": [
    "text='my phone number is 415-555-4242.' #テスト用の文章"
   ]
  },
  {
   "cell_type": "code",
   "execution_count": 3,
   "metadata": {},
   "outputs": [],
   "source": [
    "regex=re.compile(r'\\d\\d\\d-\\d\\d\\d-\\d\\d\\d\\d') #raw文字列に正規表現を渡す"
   ]
  },
  {
   "cell_type": "code",
   "execution_count": 4,
   "metadata": {},
   "outputs": [
    {
     "data": {
      "text/plain": [
       "'415-555-4242'"
      ]
     },
     "execution_count": 4,
     "metadata": {},
     "output_type": "execute_result"
    }
   ],
   "source": [
    "mo = regex.search(text)\n",
    "mo.group()"
   ]
  },
  {
   "cell_type": "markdown",
   "metadata": {},
   "source": [
    "#### グルーピング\n",
    "丸かっこを用いるとグルーピングできる。"
   ]
  },
  {
   "cell_type": "code",
   "execution_count": 5,
   "metadata": {},
   "outputs": [
    {
     "data": {
      "text/plain": [
       "'415-555-4242'"
      ]
     },
     "execution_count": 5,
     "metadata": {},
     "output_type": "execute_result"
    }
   ],
   "source": [
    "regex=re.compile(r'(\\d\\d\\d)-(\\d\\d\\d-\\d\\d\\d\\d)') #raw文字列に正規表現を渡す\n",
    "\n",
    "mo = regex.search(text)\n",
    "mo.group() #こちらの結果は変わらないが"
   ]
  },
  {
   "cell_type": "code",
   "execution_count": 6,
   "metadata": {},
   "outputs": [
    {
     "data": {
      "text/plain": [
       "('415', '555-4242')"
      ]
     },
     "execution_count": 6,
     "metadata": {},
     "output_type": "execute_result"
    }
   ],
   "source": [
    "mo.groups() #タプルで取得できるようになる"
   ]
  },
  {
   "cell_type": "code",
   "execution_count": 7,
   "metadata": {},
   "outputs": [
    {
     "data": {
      "text/plain": [
       "'415'"
      ]
     },
     "execution_count": 7,
     "metadata": {},
     "output_type": "execute_result"
    }
   ],
   "source": [
    "mo.group(1) #こうすることで1番目のグループだけ抜き出せる"
   ]
  },
  {
   "cell_type": "markdown",
   "metadata": {},
   "source": [
    "#### orなマッチング\n",
    "|を使う"
   ]
  },
  {
   "cell_type": "code",
   "execution_count": 8,
   "metadata": {},
   "outputs": [],
   "source": [
    "regex=re.compile(r'Batman|Tina Fey') #こう指定すると、BatmanかTina Feyを検索することができる\n",
    "# NOTE ただし両方が含まれている場合には先に出現したほうが優先される。"
   ]
  },
  {
   "cell_type": "markdown",
   "metadata": {},
   "source": [
    "#### 任意のマッチ\n",
    "マッチしてもしなくてもいいときは?を使う。(ある意味で上記に似てる)"
   ]
  },
  {
   "cell_type": "code",
   "execution_count": 9,
   "metadata": {},
   "outputs": [],
   "source": [
    "regex=re.compile(r'Bat(wo)?man') #BatmanにもBatwomanにもヒットする"
   ]
  },
  {
   "cell_type": "markdown",
   "metadata": {},
   "source": [
    "#### 0回以上のマッチ\n",
    "*を使う"
   ]
  },
  {
   "cell_type": "code",
   "execution_count": 10,
   "metadata": {},
   "outputs": [
    {
     "data": {
      "text/plain": [
       "'飲んでなくない？'"
      ]
     },
     "execution_count": 10,
     "metadata": {},
     "output_type": "execute_result"
    }
   ],
   "source": [
    "regex=re.compile(r'飲んでなくない？(wow)*') #wowがなくても何回あってもok\n",
    "regex.search('飲んでなくない？').group()"
   ]
  },
  {
   "cell_type": "code",
   "execution_count": 11,
   "metadata": {},
   "outputs": [
    {
     "data": {
      "text/plain": [
       "'飲んでなくない？wowwow'"
      ]
     },
     "execution_count": 11,
     "metadata": {},
     "output_type": "execute_result"
    }
   ],
   "source": [
    "regex.search('飲んでなくない？wowwow').group()"
   ]
  },
  {
   "cell_type": "markdown",
   "metadata": {},
   "source": [
    "#### 1回以上のマッチ\n",
    "+を使う"
   ]
  },
  {
   "cell_type": "code",
   "execution_count": 12,
   "metadata": {},
   "outputs": [
    {
     "data": {
      "text/plain": [
       "'いたたたたたた'"
      ]
     },
     "execution_count": 12,
     "metadata": {},
     "output_type": "execute_result"
    }
   ],
   "source": [
    "regex=re.compile(r'い(た)+') #いたたたたにマッチする\n",
    "regex.search('いたたたたたた').group()"
   ]
  },
  {
   "cell_type": "markdown",
   "metadata": {},
   "source": [
    "#### 文字集合\n",
    "いままで\\dを何気なく使ってきたがこれは文字集合という概念である。\n",
    "\n",
    "| 短縮形 | 意味 |\n",
    "|:-----------:|:----------------:|\n",
    "|\\d    |   0-9の数字    |\n",
    "|\\D  | 0~9の数字以外|\n",
    "|\\w  | 文字数字アンダーバー|\n",
    "|\\W  |\\d以外 |\n",
    "|\\s  | スペース、タブ、改行|\n",
    "|\\S  | \\s以外|\n",
    "\n",
    "例、`\\d+\\s\\w+`は数字が1文字以上で一旦空白があって文字列が続くときの文字列を検索することになる。\n",
    "\n",
    "文字集合は自分でも定義することができる"
   ]
  },
  {
   "cell_type": "code",
   "execution_count": 13,
   "metadata": {},
   "outputs": [
    {
     "data": {
      "text/plain": [
       "['12345', '54321']"
      ]
     },
     "execution_count": 13,
     "metadata": {},
     "output_type": "execute_result"
    }
   ],
   "source": [
    "regex=re.compile(r'[1-5]+') #1から5のいずれか\n",
    "regex.findall('12345678987654321')"
   ]
  },
  {
   "cell_type": "code",
   "execution_count": 14,
   "metadata": {},
   "outputs": [
    {
     "data": {
      "text/plain": [
       "['a', 'e', 'o', 'o', 'a']"
      ]
     },
     "execution_count": 14,
     "metadata": {},
     "output_type": "execute_result"
    }
   ],
   "source": [
    "regex=re.compile(r'[aiueoAIUEO]') #母音\n",
    "regex.findall('''Take control.   Brainpower,   Let the bass kick!\n",
    "O-oooooooooo AAAAE-A-A-I-A-U- JO-oooooooooooo AAE-O-A-A-U-U-A- E-eee-ee-eee AAAAE-A-E-I-E-A- JO-ooo-oo-oo-oo EEEEO-A-AAA-AAAA''')[:5]"
   ]
  },
  {
   "cell_type": "code",
   "execution_count": 15,
   "metadata": {},
   "outputs": [
    {
     "data": {
      "text/plain": [
       "['T', 'k', ' ', 'c', 'n']"
      ]
     },
     "execution_count": 15,
     "metadata": {},
     "output_type": "execute_result"
    }
   ],
   "source": [
    "regex=re.compile(r'[^aiueoAIUEO]') #母音の補集合\n",
    "regex.findall('''Take control.   Brainpower,   Let the bass kick!\n",
    "O-oooooooooo AAAAE-A-A-I-A-U- JO-oooooooooooo AAE-O-A-A-U-U-A- E-eee-ee-eee AAAAE-A-E-I-E-A- JO-ooo-oo-oo-oo EEEEO-A-AAA-AAAA''')[:5]"
   ]
  },
  {
   "cell_type": "markdown",
   "metadata": {},
   "source": [
    "#### 先頭と末尾のマッチング\n",
    "\\^と\\$をつかう(先程のとは別物ということに注意)\n",
    "\n",
    "組み合わせて使うことも可能。\n",
    "例えば、\\^\\d+\\$は1文字以上の数字である文字列とマッチングする。"
   ]
  },
  {
   "cell_type": "code",
   "execution_count": 16,
   "metadata": {},
   "outputs": [
    {
     "data": {
      "text/plain": [
       "'Hello'"
      ]
     },
     "execution_count": 16,
     "metadata": {},
     "output_type": "execute_result"
    }
   ],
   "source": [
    "regex=re.compile(r'^Hello') #Helloから始まる\n",
    "regex.search('Hello world').group()"
   ]
  },
  {
   "cell_type": "code",
   "execution_count": 17,
   "metadata": {},
   "outputs": [
    {
     "name": "stdout",
     "output_type": "stream",
     "text": [
      "No match\n"
     ]
    }
   ],
   "source": [
    "if regex.search('He said Hello') is None:\n",
    "    print('No match')"
   ]
  },
  {
   "cell_type": "code",
   "execution_count": 18,
   "metadata": {},
   "outputs": [
    {
     "data": {
      "text/plain": [
       "'Hello'"
      ]
     },
     "execution_count": 18,
     "metadata": {},
     "output_type": "execute_result"
    }
   ],
   "source": [
    "regex=re.compile(r'Hello$') #Helloで終わる\n",
    "regex.search('He said Hello').group()"
   ]
  },
  {
   "cell_type": "markdown",
   "metadata": {},
   "source": [
    "#### ワイルドカード\n",
    ".は任意の一文字を表す"
   ]
  },
  {
   "cell_type": "code",
   "execution_count": 19,
   "metadata": {},
   "outputs": [
    {
     "data": {
      "text/plain": [
       "['cat', 'hat', 'sat', 'lat', 'mat']"
      ]
     },
     "execution_count": 19,
     "metadata": {},
     "output_type": "execute_result"
    }
   ],
   "source": [
    "regex=re.compile(r'.at') #.は任意の文字列となる\n",
    "regex.findall('The cat in the hat sat on the flat mat') #そのためflatだけはlatとなってしまう。"
   ]
  },
  {
   "cell_type": "code",
   "execution_count": 20,
   "metadata": {},
   "outputs": [
    {
     "data": {
      "text/plain": [
       "['The cat in the hat sat on the flat mat']"
      ]
     },
     "execution_count": 20,
     "metadata": {},
     "output_type": "execute_result"
    }
   ],
   "source": [
    "regex=re.compile(r'.*at') #*と組み合わせることで任意の回数以上繰り返すことが可能\n",
    "regex.findall('The cat in the hat sat on the flat mat') #そのためflatだけはlatとなってしまう。"
   ]
  },
  {
   "cell_type": "code",
   "execution_count": 21,
   "metadata": {},
   "outputs": [
    {
     "data": {
      "text/plain": [
       "['The cat', ' in the hat', ' sat', ' on the flat', ' mat']"
      ]
     },
     "execution_count": 21,
     "metadata": {},
     "output_type": "execute_result"
    }
   ],
   "source": [
    "regex=re.compile(r'.*?at') #ただし、貪欲モードでは条件を満たす一番長い文字列とマッチするため、？をつけて非貪欲にするといいい感じになる\n",
    "regex.findall('The cat in the hat sat on the flat mat') #そのためflatだけはlatとなってしまう。"
   ]
  },
  {
   "cell_type": "markdown",
   "metadata": {},
   "source": [
    "### 条件に合うものすべてを探す\n",
    "search()では最初に見つかったものを返す。しかしfindall()を用いれば見つかったすべての文字列を取得することができる。"
   ]
  },
  {
   "cell_type": "code",
   "execution_count": 22,
   "metadata": {},
   "outputs": [
    {
     "data": {
      "text/plain": [
       "['415-555-9999', '212-555-0000']"
      ]
     },
     "execution_count": 22,
     "metadata": {},
     "output_type": "execute_result"
    }
   ],
   "source": [
    "regex=re.compile(r'\\d\\d\\d-\\d\\d\\d-\\d\\d\\d\\d') #raw文字列に正規表現を渡す\n",
    "regex.findall('Cell: 415-555-9999, Work: 212-555-0000')"
   ]
  },
  {
   "cell_type": "code",
   "execution_count": 23,
   "metadata": {},
   "outputs": [
    {
     "data": {
      "text/plain": [
       "[('415', '555-9999'), ('212', '555-0000')]"
      ]
     },
     "execution_count": 23,
     "metadata": {},
     "output_type": "execute_result"
    }
   ],
   "source": [
    "regex=re.compile(r'(\\d\\d\\d)-(\\d\\d\\d-\\d\\d\\d\\d)') #raw文字列に正規表現を渡す\n",
    "regex.findall('Cell: 415-555-9999, Work: 212-555-0000')"
   ]
  },
  {
   "cell_type": "code",
   "execution_count": null,
   "metadata": {},
   "outputs": [],
   "source": []
  }
 ],
 "metadata": {
  "kernelspec": {
   "display_name": "Python 3",
   "language": "python",
   "name": "python3"
  },
  "language_info": {
   "codemirror_mode": {
    "name": "ipython",
    "version": 3
   },
   "file_extension": ".py",
   "mimetype": "text/x-python",
   "name": "python",
   "nbconvert_exporter": "python",
   "pygments_lexer": "ipython3",
   "version": "3.6.7"
  }
 },
 "nbformat": 4,
 "nbformat_minor": 2
}
