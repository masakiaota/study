{
 "cells": [
  {
   "cell_type": "markdown",
   "metadata": {},
   "source": [
    "## 2章 Open Bandit Datasetを用いた意思決定モデルの学習/評価の実装\n",
    "\n",
    "この実装例は主に次の3つのステップで構成される。\n",
    "\n",
    "1. データの前処理: Open Bandit DatasetのうちBernoulliTSモデルで収集されたデータを読み込んで前処理を施す。\n",
    "2. 意思決定モデルの学習: トレーニングデータを用いてIPWLearnerに基づいた意思決定モデルを学習し、バリデーションデータに対して行動を選択する。\n",
    "3. 意思決定モデルの性能評価: 学習された意思決定モデルの性能をバリデーションデータを用いて評価する。\n",
    "\n",
    "このような分析手順を経ることにより「**ZOZOTOWNのファッションアイテム推薦枠において、データ収集時に使われていたBernoulliTSモデルをこれからも使い続けるべきなのか、はたまたOPLで新たに学習したIPWLearnerに基づく意思決定モデルへの切り替えを検討すべきなのか**」という問いに答えることを目指す。"
   ]
  },
  {
   "cell_type": "code",
   "execution_count": 1,
   "metadata": {},
   "outputs": [],
   "source": [
    "# 必要なパッケージをインポート\n",
    "from pathlib import Path\n",
    "\n",
    "import numpy as np\n",
    "\n",
    "from sklearn.ensemble import RandomForestClassifier\n",
    "from sklearn.linear_model import LogisticRegression\n",
    "\n",
    "import obp\n",
    "from obp.dataset import OpenBanditDataset\n",
    "from obp.policy import IPWLearner\n",
    "from obp.ope import (\n",
    "    OffPolicyEvaluation, \n",
    "    RegressionModel,\n",
    "    InverseProbabilityWeighting as IPS,\n",
    "    DoublyRobust as DR\n",
    ")"
   ]
  },
  {
   "cell_type": "code",
   "execution_count": null,
   "metadata": {},
   "outputs": [],
   "source": []
  },
  {
   "cell_type": "markdown",
   "metadata": {},
   "source": [
    "## (1) Data Loading and Preprocessing\n",
    "\n",
    "[Open Bandit Dataset（約11GB）](https://research.zozo.com/data.html)をダウンロードし、\"./open_bandit_dataset\"におく。"
   ]
  },
  {
   "cell_type": "code",
   "execution_count": 2,
   "metadata": {},
   "outputs": [
    {
     "name": "stderr",
     "output_type": "stream",
     "text": [
      "/opt/conda/lib/python3.9/site-packages/numpy/lib/arraysetops.py:583: FutureWarning: elementwise comparison failed; returning scalar instead, but in the future will perform elementwise comparison\n",
      "  mask |= (ar1 == a)\n"
     ]
    }
   ],
   "source": [
    "# ZOZOTOWNのトップページ推薦枠でBernoulli Thompson Sampling (bts)が収集したデータをダウンロードする\n",
    "# `data_path=None`とすると、スモールサイズのお試しデータセットを用いることができる\n",
    "dataset = OpenBanditDataset(\n",
    "    behavior_policy=\"bts\", # データ収集に用いられた意思決定モデル\n",
    "    campaign=\"men\", # キャンペーン. \"men\", \"women\", or \"all\" (\"all\"はデータ数がとても多いので注意)\n",
    "    data_path=Path(\"./open_bandit_dataset\"), # データセットのパス\n",
    "#     data_path=None #MBAではメモリが足りなかった\n",
    ")"
   ]
  },
  {
   "cell_type": "code",
   "execution_count": 3,
   "metadata": {},
   "outputs": [
    {
     "data": {
      "text/plain": [
       "dict_keys(['n_rounds', 'n_actions', 'action', 'position', 'reward', 'pscore', 'context', 'action_context'])"
      ]
     },
     "execution_count": 3,
     "metadata": {},
     "output_type": "execute_result"
    }
   ],
   "source": [
    "# デフォルトの前処理を施したデータを取得する\n",
    "# タイムスタンプの前半70%をトレーニングデータ、後半30%をバリデーションデータとする\n",
    "training_data, validation_data = dataset.obtain_batch_bandit_feedback(\n",
    "    test_size=0.3,\n",
    "    is_timeseries_split=True\n",
    ")\n",
    "\n",
    "# 軽量化のためデータを1/10にする\n",
    "n_rounds=training_data['n_rounds']//10\n",
    "idxs=np.random.choice(training_data['n_rounds'], size=n_rounds, replace=False)\n",
    "for k in ['context','action','position','reward','pscore']:\n",
    "    training_data[k]=training_data[k][idxs]\n",
    "training_data['n_rounds']=n_rounds\n",
    "\n",
    "n_rounds=validation_data['n_rounds']//10\n",
    "idxs=np.random.choice(validation_data['n_rounds'], size=n_rounds, replace=False)\n",
    "for k in ['context','action','position','reward','pscore']:\n",
    "    validation_data[k]=validation_data[k][idxs]\n",
    "validation_data['n_rounds']=n_rounds\n",
    "\n",
    "# training_dataの中身を確認\n",
    "training_data.keys()"
   ]
  },
  {
   "cell_type": "code",
   "execution_count": 4,
   "metadata": {},
   "outputs": [
    {
     "data": {
      "text/plain": [
       "(285440, 27)"
      ]
     },
     "execution_count": 4,
     "metadata": {},
     "output_type": "execute_result"
    }
   ],
   "source": [
    "training_data['context'].shape"
   ]
  },
  {
   "cell_type": "code",
   "execution_count": 5,
   "metadata": {},
   "outputs": [
    {
     "data": {
      "text/plain": [
       "34"
      ]
     },
     "execution_count": 5,
     "metadata": {},
     "output_type": "execute_result"
    }
   ],
   "source": [
    "# 行動（ファッションアイテム）の数\n",
    "dataset.n_actions"
   ]
  },
  {
   "cell_type": "code",
   "execution_count": 6,
   "metadata": {},
   "outputs": [
    {
     "data": {
      "text/plain": [
       "4077727"
      ]
     },
     "execution_count": 6,
     "metadata": {},
     "output_type": "execute_result"
    }
   ],
   "source": [
    "# データ数\n",
    "dataset.n_rounds"
   ]
  },
  {
   "cell_type": "code",
   "execution_count": 7,
   "metadata": {},
   "outputs": [
    {
     "data": {
      "text/plain": [
       "27"
      ]
     },
     "execution_count": 7,
     "metadata": {},
     "output_type": "execute_result"
    }
   ],
   "source": [
    "# デフォルトの前処理による特徴量の次元数 #01っぽい one hot かな\n",
    "dataset.dim_context"
   ]
  },
  {
   "cell_type": "code",
   "execution_count": 8,
   "metadata": {},
   "outputs": [
    {
     "data": {
      "text/plain": [
       "3"
      ]
     },
     "execution_count": 8,
     "metadata": {},
     "output_type": "execute_result"
    }
   ],
   "source": [
    "# 推薦枠におけるポジションの数\n",
    "dataset.len_list"
   ]
  },
  {
   "cell_type": "code",
   "execution_count": 9,
   "metadata": {},
   "outputs": [
    {
     "name": "stdout",
     "output_type": "stream",
     "text": [
      "n_rounds 285440\n",
      "n_actions 34\n",
      "action [23 31  0 23 19]\n",
      "position [0 2 2 2 1]\n",
      "reward [0 0 0 0 0]\n",
      "pscore [0.123675 0.0528   0.04965  0.239    0.011095]\n",
      "context [[0 0 1 0 0 0 0 0 0 0 0 0 0 0 0 0 0 0 0 0 0 0 0 0 0 0 1]\n",
      " [0 1 0 0 0 0 1 0 0 0 0 0 0 0 0 0 0 1 0 0 0 1 0 0 0 0 0]\n",
      " [0 1 0 0 0 0 1 0 0 0 0 0 0 0 0 0 0 1 0 0 0 1 0 0 0 0 0]\n",
      " [0 0 1 0 0 0 0 0 0 0 0 0 0 0 0 0 0 0 0 0 0 0 0 1 0 0 0]\n",
      " [0 0 1 0 0 0 0 0 0 0 0 0 0 0 0 1 0 0 0 0 0 0 0 0 0 0 0]]\n",
      "action_context [[ 0.          3.          9.          1.         -0.67718311]\n",
      " [ 1.          6.          9.          1.         -0.72029964]\n",
      " [ 2.          6.         11.          0.          0.74566231]\n",
      " [ 3.          2.          1.          2.         -0.69874138]\n",
      " [ 4.          0.          2.          0.          1.65110939]]\n"
     ]
    }
   ],
   "source": [
    "for k,v in training_data.items():\n",
    "    if isinstance(v,int) or isinstance(v,float):\n",
    "        print(k,v)\n",
    "    else:\n",
    "        print(k,v[:5])\n",
    "# action_contextってなんだろう..."
   ]
  },
  {
   "cell_type": "markdown",
   "metadata": {},
   "source": [
    "P100より、以下の意味らしい\n",
    "\n",
    "* `n_rounds` ... データ数 (N)\n",
    "* `n_actions` ... 意思決定モデルがとり得る行動の数(K) (どの商品をおすすめするか？)\n",
    "* `context` ... ユーザー属性の特徴量ベクトル(X)\n",
    "* `action_context` ... ユーザーの行動に関する特徴量(X)\n",
    "* `action` ... 実際に決定された行動(A)\n",
    "* `reward` ... 目的変数 クリックの発生有無 (Y(A))\n",
    "* `pscore` ... 古い意思決定モデル$\\pi_b$による行動選択確率 ($\\pi_b(A|X)$)"
   ]
  },
  {
   "cell_type": "code",
   "execution_count": null,
   "metadata": {},
   "outputs": [],
   "source": []
  },
  {
   "cell_type": "code",
   "execution_count": null,
   "metadata": {},
   "outputs": [],
   "source": []
  },
  {
   "cell_type": "markdown",
   "metadata": {},
   "source": [
    "### 意思決定モデルの学習\n",
    "\n",
    "トレーニングデータを用いてIPWLearnerとランダムフォレストの組み合わせに基づく意思決定モデルを学習し、バリデーションデータに対して行動を選択する。"
   ]
  },
  {
   "cell_type": "code",
   "execution_count": 10,
   "metadata": {},
   "outputs": [
    {
     "name": "stderr",
     "output_type": "stream",
     "text": [
      "[Parallel(n_jobs=-1)]: Using backend ThreadingBackend with 6 concurrent workers.\n",
      "[Parallel(n_jobs=-1)]: Done  38 tasks      | elapsed:    1.0s\n",
      "[Parallel(n_jobs=-1)]: Done  50 out of  50 | elapsed:    1.3s finished\n",
      "[Parallel(n_jobs=-1)]: Using backend ThreadingBackend with 6 concurrent workers.\n",
      "[Parallel(n_jobs=-1)]: Done  38 tasks      | elapsed:    1.0s\n",
      "[Parallel(n_jobs=-1)]: Done  50 out of  50 | elapsed:    1.3s finished\n",
      "[Parallel(n_jobs=-1)]: Using backend ThreadingBackend with 6 concurrent workers.\n",
      "[Parallel(n_jobs=-1)]: Done  38 tasks      | elapsed:    1.0s\n",
      "[Parallel(n_jobs=-1)]: Done  50 out of  50 | elapsed:    1.2s finished\n",
      "[Parallel(n_jobs=6)]: Using backend ThreadingBackend with 6 concurrent workers.\n",
      "[Parallel(n_jobs=6)]: Done  38 tasks      | elapsed:    1.5s\n",
      "[Parallel(n_jobs=6)]: Done  50 out of  50 | elapsed:    1.8s finished\n",
      "[Parallel(n_jobs=6)]: Using backend ThreadingBackend with 6 concurrent workers.\n",
      "[Parallel(n_jobs=6)]: Done  38 tasks      | elapsed:    1.3s\n",
      "[Parallel(n_jobs=6)]: Done  50 out of  50 | elapsed:    1.6s finished\n",
      "[Parallel(n_jobs=6)]: Using backend ThreadingBackend with 6 concurrent workers.\n",
      "[Parallel(n_jobs=6)]: Done  38 tasks      | elapsed:    1.3s\n"
     ]
    },
    {
     "name": "stdout",
     "output_type": "stream",
     "text": [
      "CPU times: user 45.1 s, sys: 433 ms, total: 45.5 s\n",
      "Wall time: 10.1 s\n"
     ]
    },
    {
     "name": "stderr",
     "output_type": "stream",
     "text": [
      "[Parallel(n_jobs=6)]: Done  50 out of  50 | elapsed:    1.6s finished\n"
     ]
    }
   ],
   "source": [
    "%%time\n",
    "# 内部で用いる分類器としてランダムフォレストを指定したIPWLearnerを定義する\n",
    "new_decision_making_model = IPWLearner(\n",
    "    n_actions=dataset.n_actions, # 行動の数 #これは34\n",
    "    len_list=dataset.len_list, # 推薦枠の数 #つまりポジションの数これは3\n",
    "    base_classifier=RandomForestClassifier(\n",
    "        n_estimators=50, max_depth=10, min_samples_leaf=5, #MBAのスペックが足りないのでestimatorを減らして学習させる\n",
    "        random_state=12345, n_jobs=-1, verbose=1\n",
    "    ),\n",
    ")\n",
    "\n",
    "# トレーニングデータを用いて、意思決定意思決定モデルを学習する\n",
    "new_decision_making_model.fit(\n",
    "    context=training_data[\"context\"], # 特徴量（X_i） #とりあえずaction contextは使わないということかな\n",
    "    action=training_data[\"action\"], # 過去の意思決定モデルによる行動選択\n",
    "    reward=training_data[\"reward\"], # 観測される目的変数\n",
    "    position=training_data[\"position\"], # 行動が提示された推薦位置（ポジション） #それぞれの位置ごとに別々に問題を解いている\n",
    "    pscore=training_data[\"pscore\"], # 過去の意思決定モデルによる行動選択確率(傾向スコア)\n",
    ")\n",
    "\n",
    "# バリデーションデータに対して行動を選択する\n",
    "action_dist = new_decision_making_model.predict(\n",
    "    context=validation_data[\"context\"],\n",
    ")"
   ]
  },
  {
   "cell_type": "code",
   "execution_count": null,
   "metadata": {},
   "outputs": [],
   "source": []
  },
  {
   "cell_type": "code",
   "execution_count": null,
   "metadata": {},
   "outputs": [],
   "source": []
  },
  {
   "cell_type": "markdown",
   "metadata": {},
   "source": [
    "### 意思決定モデルの性能評価\n",
    "学習した新たな意思決定モデル(IPWLearner)の性能を、バリデーションデータとIPWおよびDR推定量により評価する。"
   ]
  },
  {
   "cell_type": "code",
   "execution_count": 11,
   "metadata": {},
   "outputs": [
    {
     "name": "stderr",
     "output_type": "stream",
     "text": [
      "[Parallel(n_jobs=1)]: Using backend SequentialBackend with 1 concurrent workers.\n",
      "[Parallel(n_jobs=1)]: Done   1 out of   1 | elapsed:   13.1s finished\n",
      "[Parallel(n_jobs=1)]: Using backend SequentialBackend with 1 concurrent workers.\n",
      "[Parallel(n_jobs=1)]: Done   1 out of   1 | elapsed:   12.9s finished\n",
      "[Parallel(n_jobs=1)]: Using backend SequentialBackend with 1 concurrent workers.\n",
      "[Parallel(n_jobs=1)]: Done   1 out of   1 | elapsed:   11.5s finished\n"
     ]
    },
    {
     "name": "stdout",
     "output_type": "stream",
     "text": [
      "CPU times: user 3min 46s, sys: 2min 48s, total: 6min 35s\n",
      "Wall time: 1min 12s\n"
     ]
    }
   ],
   "source": [
    "%%time\n",
    "# DR推定量を用いるのに必要な目的変数予測モデルを得る\n",
    "# opeモジュールに実装されている`RegressionModel`に好みの機械学習手法を与えば良い\n",
    "regression_model = RegressionModel( #これがfってやつかな #でもこれがうまく推定できるならそもそも意思決定モデルなんて学習しなくていいと思うんだけどそういうものでもない？\n",
    "    n_actions=dataset.n_actions, # 行動の数\n",
    "    len_list=dataset.len_list, # 推薦枠内のポジションの数\n",
    "    base_model=LogisticRegression(C=10, max_iter=200,\n",
    "                                  random_state=12345, verbose=1), # ロジスティック回帰を使用\n",
    ")\n",
    "\n",
    "# `fit_predict`メソッドにより、バリデーションデータにおける期待報酬を推定\n",
    "estimated_rewards_by_reg_model = regression_model.fit_predict(\n",
    "    context=validation_data[\"context\"], # 特徴量（X_i）\n",
    "    action=validation_data[\"action\"], # 過去の意思決定モデルによる行動選択\n",
    "    reward=validation_data[\"reward\"], # 観測される目的変数\n",
    "    position=validation_data[\"position\"], # 行動が提示された推薦位置（ポジション）\n",
    "    random_state=12345\n",
    ")"
   ]
  },
  {
   "cell_type": "code",
   "execution_count": null,
   "metadata": {},
   "outputs": [],
   "source": []
  },
  {
   "cell_type": "code",
   "execution_count": null,
   "metadata": {},
   "outputs": [],
   "source": []
  },
  {
   "cell_type": "code",
   "execution_count": 12,
   "metadata": {},
   "outputs": [],
   "source": [
    "# 意思決定モデルの性能評価を一気通貫で行うための`OffPolicyEvaluation`を定義する\n",
    "ope = OffPolicyEvaluation(\n",
    "    bandit_feedback=validation_data, # バリデーションデータ\n",
    "    ope_estimators=[IPS(), DR()] # 使用する推定量\n",
    ")"
   ]
  },
  {
   "cell_type": "code",
   "execution_count": 13,
   "metadata": {},
   "outputs": [
    {
     "name": "stderr",
     "output_type": "stream",
     "text": [
      "INFO:numexpr.utils:NumExpr defaulting to 6 threads.\n"
     ]
    },
    {
     "data": {
      "image/png": "[encoded data removed]",
      "text/plain": [
       "<Figure size 576x432 with 1 Axes>"
      ]
     },
     "metadata": {},
     "output_type": "display_data"
    }
   ],
   "source": [
    "# 内部で用いる分類器としてロジスティック回帰を指定したIPWLearnerの性能をOPEにより評価\n",
    "ope.visualize_off_policy_estimates(\n",
    "    action_dist=action_dist, # evaluation_policy_aによるバリデーションデータに対する行動選択\n",
    "    estimated_rewards_by_reg_model=estimated_rewards_by_reg_model,\n",
    "    is_relative=True, # 過去の意思決定モデルの性能に対する相対的な改善率を出力\n",
    "    random_state=12345,\n",
    ")\n"
   ]
  },
  {
   "cell_type": "code",
   "execution_count": 14,
   "metadata": {},
   "outputs": [
    {
     "data": {
      "text/plain": [
       "{'ipw': 0.004371942330345665, 'dr': 0.004465710699782839}"
      ]
     },
     "execution_count": 14,
     "metadata": {},
     "output_type": "execute_result"
    }
   ],
   "source": [
    "ope.estimate_policy_values(action_dist=action_dist,\n",
    "                           estimated_rewards_by_reg_model=estimated_rewards_by_reg_model,\n",
    "\n",
    "                           )\n",
    "# データが少ないと再現できない再現できない"
   ]
  },
  {
   "cell_type": "code",
   "execution_count": 15,
   "metadata": {},
   "outputs": [
    {
     "data": {
      "text/plain": [
       "0.0066459033278563895"
      ]
     },
     "execution_count": 15,
     "metadata": {},
     "output_type": "execute_result"
    }
   ],
   "source": [
    "validation_data['reward'].mean()\n",
    "# 今までのクリック率の期待値と比べると良くなってると言えるってこと？"
   ]
  },
  {
   "cell_type": "code",
   "execution_count": 16,
   "metadata": {},
   "outputs": [
    {
     "data": {
      "text/plain": [
       "1.2947167477817891"
      ]
     },
     "execution_count": 16,
     "metadata": {},
     "output_type": "execute_result"
    }
   ],
   "source": [
    "0.008604562342714395/validation_data['reward'].mean()"
   ]
  },
  {
   "cell_type": "code",
   "execution_count": null,
   "metadata": {},
   "outputs": [],
   "source": []
  },
  {
   "cell_type": "markdown",
   "metadata": {},
   "source": [
    "ここで得られた意思決定モデルの性能評価の結果から、データ収集時に用いられていたBernoulliTSモデルからIPWLearnerによる特徴量の情報を活用した個別化推薦に切り替えることで、クリック確率（意思決定モデルの性能）を30%程度向上させられる可能性が示唆された。IPWLearnerの性能について推定された95%信頼区間の下限も、1.0付近（ベースラインであるBernoulliTSモデルの性能と同程度）であるため、大きな失敗はしなさそうである。この性能評価の結果に基づき、IPWLearnerを実環境にいきなり導入したり、IPWLearnerが有望な意思決定モデルであることに対して自信を持った上で、安全にA/Bテストに進んだりできる。"
   ]
  },
  {
   "cell_type": "code",
   "execution_count": null,
   "metadata": {},
   "outputs": [],
   "source": []
  },
  {
   "cell_type": "markdown",
   "metadata": {},
   "source": [
    "これじゃ結局どうやってDRで学習するのかわからないけど？"
   ]
  },
  {
   "cell_type": "code",
   "execution_count": null,
   "metadata": {},
   "outputs": [],
   "source": []
  }
 ],
 "metadata": {
  "interpreter": {
   "hash": "a588998c237fcc28dc215a10a422972d26151263dec0bff02e1a95f6e2b22b77"
  },
  "kernelspec": {
   "display_name": "Python 3 (ipykernel)",
   "language": "python",
   "name": "python3"
  },
  "language_info": {
   "codemirror_mode": {
    "name": "ipython",
    "version": 3
   },
   "file_extension": ".py",
   "mimetype": "text/x-python",
   "name": "python",
   "nbconvert_exporter": "python",
   "pygments_lexer": "ipython3",
   "version": "3.9.6"
  },
  "metadata": {
   "interpreter": {
    "hash": "a588998c237fcc28dc215a10a422972d26151263dec0bff02e1a95f6e2b22b77"
   }
  }
 },
 "nbformat": 4,
 "nbformat_minor": 4
}
