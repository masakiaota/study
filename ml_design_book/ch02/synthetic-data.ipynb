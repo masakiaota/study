{
 "cells": [
  {
   "cell_type": "markdown",
   "metadata": {},
   "source": [
    "## 2章: Open Bandit Pipelineを用いた意思決定モデルの学習/性能評価の実装\n",
    "\n",
    "P86\n",
    "\n",
    "この実装例は主に次のステップで構成される。\n",
    "\n",
    "1. ある古い意思決定モデル$\\pi_b$が稼働することで収集されたログデータを模した工データを生成する\n",
    "2. トレーニングデータを用いて意思決定モデルを学習し、バリデーションデータに対して行動を選択する\n",
    "3. 学習した意思決定モデルの性能を、バリデーションデータを用いて推定する"
   ]
  },
  {
   "cell_type": "code",
   "execution_count": 1,
   "metadata": {},
   "outputs": [],
   "source": [
    "# 必要なパッケージやモジュールをインポート\n",
    "from sklearn.linear_model import LogisticRegression\n",
    "from sklearn.ensemble import RandomForestClassifier\n",
    "\n",
    "from obp.dataset import (\n",
    "    SyntheticBanditDataset, # データセット生成クラス\n",
    "    logistic_reward_function, # ロジスティクス回帰のようにY(a)(の確率？)を決める。例えば商品ごとのクリック確率など。\n",
    "    linear_behavior_policy # いままでの意思決定モデル\n",
    ")\n",
    "from obp.policy import IPWLearner, Random #学習モデル\n",
    "\n",
    "from obp.ope import ( #評価関数等\n",
    "    OffPolicyEvaluation,  #評価用クラス\n",
    "    RegressionModel, #DRに必要なやつ。P75でいうf?\n",
    "    InverseProbabilityWeighting as IPS,\n",
    "    DoublyRobust as DR\n",
    ")"
   ]
  },
  {
   "cell_type": "markdown",
   "metadata": {},
   "source": [
    "### 1. 人工データの生成"
   ]
  },
  {
   "cell_type": "code",
   "execution_count": 2,
   "metadata": {},
   "outputs": [
    {
     "data": {
      "text/plain": [
       "{'n_rounds': 10000,\n",
       " 'n_actions': 3,\n",
       " 'context': array([[-0.20470766,  0.47894334, -0.51943872],\n",
       "        [-0.5557303 ,  1.96578057,  1.39340583],\n",
       "        [ 0.09290788,  0.28174615,  0.76902257],\n",
       "        ...,\n",
       "        [ 0.42468038,  0.48214752, -0.57647866],\n",
       "        [-0.51595888, -1.58196174, -1.39237837],\n",
       "        [-0.74213546, -0.93858948,  0.03919589]]),\n",
       " 'action_context': array([[1, 0, 0],\n",
       "        [0, 1, 0],\n",
       "        [0, 0, 1]]),\n",
       " 'action': array([0, 1, 0, ..., 0, 0, 2]),\n",
       " 'position': None,\n",
       " 'reward': array([0, 1, 1, ..., 0, 0, 0]),\n",
       " 'expected_reward': array([[0.62697512, 0.66114455, 0.66545218],\n",
       "        [0.73402729, 0.92955625, 0.94007301],\n",
       "        [0.72522191, 0.79973865, 0.85946747],\n",
       "        ...,\n",
       "        [0.74929842, 0.68243742, 0.77801157],\n",
       "        [0.3583225 , 0.25252838, 0.16625489],\n",
       "        [0.41919738, 0.52158296, 0.41624562]]),\n",
       " 'pscore': array([0.25534252, 0.36715004, 0.25534252, ..., 0.25534252, 0.25534252,\n",
       "        0.37750744])}"
      ]
     },
     "execution_count": 2,
     "metadata": {},
     "output_type": "execute_result"
    }
   ],
   "source": [
    "# `SyntheticBanditDataset`を用いて人工データを生成する\n",
    "dataset = SyntheticBanditDataset(\n",
    "    n_actions=3, # 人工データにおける行動の数\n",
    "    dim_context=3, # 人工データにおける特徴量の次元数\n",
    "    reward_function=logistic_reward_function, # 目的変数を生成する関数\n",
    "    behavior_policy_function=linear_behavior_policy, # 過去の意思決定モデル\\pi_bによる行動選択確率を生成する関数\n",
    "    random_state=12345,\n",
    ")\n",
    "\n",
    "# トレーニングデータとバリデーションデータを生成する\n",
    "training_data = dataset.obtain_batch_bandit_feedback(n_rounds=10000)\n",
    "validation_data = dataset.obtain_batch_bandit_feedback(n_rounds=10000)\n",
    "\n",
    "# `training_data`の中身を確認する\n",
    "training_data"
   ]
  },
  {
   "cell_type": "code",
   "execution_count": null,
   "metadata": {},
   "outputs": [],
   "source": []
  },
  {
   "cell_type": "markdown",
   "metadata": {},
   "source": [
    "### 2. 意思決定モデルの学習（Off-Policy Learning; OPL）\n",
    "\n",
    "トレーニングデータを用いて次の2つの意思決定意思決定モデルを学習し、バリデーションデータに対して目的変数を最大化する行動を選択する。\n",
    "\n",
    "1. IPWLearner+ロジスティック回帰\n",
    "2. ランダム意思決定モデル"
   ]
  },
  {
   "cell_type": "code",
   "execution_count": 3,
   "metadata": {},
   "outputs": [
    {
     "name": "stdout",
     "output_type": "stream",
     "text": [
      "CPU times: user 595 ms, sys: 427 ms, total: 1.02 s\n",
      "Wall time: 290 ms\n"
     ]
    }
   ],
   "source": [
    "%%time\n",
    "# 「IPWLearner+ロジスティック回帰」を定義\n",
    "ipw_learner = IPWLearner(\n",
    "    n_actions=dataset.n_actions,\n",
    "    base_classifier=LogisticRegression(C=100, random_state=12345)\n",
    "#     base_classifier=RandomForestClassifier(random_state=12345) #下でもそんなに悪くなかった\n",
    ")\n",
    "\n",
    "# トレーニングデータを用いて、意思決定意思決定モデルを学習\n",
    "ipw_learner.fit(\n",
    "    context=training_data[\"context\"], # 特徴量 X\n",
    "    reward=training_data[\"reward\"], # 観測される目的変数 Y(A)\n",
    "    action=training_data[\"action\"], # 過去の意思決定モデル\\pi_bによる行動選択 #A\n",
    "    pscore=training_data[\"pscore\"], # 過去の意思決定モデル\\pi_bによる行動選択確率(傾向スコア) #\\pi_b(A|X) #ラスト2つが重み付けに重要\n",
    ")\n",
    "\n",
    "# バリデーションデータに対して行動を選択する\n",
    "action_choice_by_ipw_learner = ipw_learner.predict(\n",
    "    context=validation_data[\"context\"],\n",
    ")"
   ]
  },
  {
   "cell_type": "code",
   "execution_count": 4,
   "metadata": {},
   "outputs": [
    {
     "data": {
      "text/plain": [
       "array([[[1.],\n",
       "        [0.],\n",
       "        [0.]],\n",
       "\n",
       "       [[0.],\n",
       "        [0.],\n",
       "        [1.]],\n",
       "\n",
       "       [[0.],\n",
       "        [1.],\n",
       "        [0.]]])"
      ]
     },
     "execution_count": 4,
     "metadata": {},
     "output_type": "execute_result"
    }
   ],
   "source": [
    "action_choice_by_ipw_learner[:3] #これが予測"
   ]
  },
  {
   "cell_type": "code",
   "execution_count": 5,
   "metadata": {},
   "outputs": [
    {
     "name": "stdout",
     "output_type": "stream",
     "text": [
      "CPU times: user 190 µs, sys: 892 µs, total: 1.08 ms\n",
      "Wall time: 959 µs\n"
     ]
    }
   ],
   "source": [
    "%%time\n",
    "# ランダム意思決定モデルを定義\n",
    "random = Random(n_actions=dataset.n_actions)\n",
    "\n",
    "# バリデーションデータに対する行動選択確率を計算する\n",
    "action_choice_by_random = random.compute_batch_action_dist(\n",
    "    n_rounds=validation_data[\"n_rounds\"]\n",
    ")"
   ]
  },
  {
   "cell_type": "code",
   "execution_count": null,
   "metadata": {},
   "outputs": [],
   "source": []
  },
  {
   "cell_type": "markdown",
   "metadata": {},
   "source": [
    "### 3. 意思決定モデルの性能評価（Off-Policy Evaluation; OPE）\n",
    "\n",
    "2つの意思決定意思決定モデルの性能を、バリデーションデータを用いて評価する。オフライン評価には、IPS推定量とDR推定量を用いる。"
   ]
  },
  {
   "cell_type": "code",
   "execution_count": 6,
   "metadata": {},
   "outputs": [
    {
     "name": "stdout",
     "output_type": "stream",
     "text": [
      "CPU times: user 665 ms, sys: 559 ms, total: 1.22 s\n",
      "Wall time: 231 ms\n"
     ]
    }
   ],
   "source": [
    "%%time\n",
    "# DR推定量に必要な目的変数予測モデルを得る\n",
    "# opeモジュールに実装されている`RegressionModel`に好みの機械学習手法を与えば良い\n",
    "regression_model = RegressionModel( #fのことかな？\n",
    "    n_actions=dataset.n_actions, # 行動の数\n",
    "    base_model=LogisticRegression(C=100, random_state=12345), # ロジスティック回帰を使用\n",
    ")\n",
    "\n",
    "# `fit_predict`メソッドにより、バリデーションデータにおける期待報酬を推定\n",
    "estimated_rewards_by_reg_model = regression_model.fit_predict(\n",
    "    context=validation_data[\"context\"], # 特徴量\n",
    "    action=validation_data[\"action\"], # 過去の意思決定モデル\\pi_bによる行動選択\n",
    "    reward=validation_data[\"reward\"], # 観測される目的変数\n",
    "    random_state=12345,\n",
    ")"
   ]
  },
  {
   "cell_type": "code",
   "execution_count": 7,
   "metadata": {},
   "outputs": [
    {
     "data": {
      "text/plain": [
       "array([[[0.78070166],\n",
       "        [0.79809745],\n",
       "        [0.81750524]],\n",
       "\n",
       "       [[0.76063769],\n",
       "        [0.77917486],\n",
       "        [0.79994563]],\n",
       "\n",
       "       [[0.7554116 ],\n",
       "        [0.77423337],\n",
       "        [0.79534686]]])"
      ]
     },
     "execution_count": 7,
     "metadata": {},
     "output_type": "execute_result"
    }
   ],
   "source": [
    "regression_model.predict(validation_data['action_context']) #各行動のクリック確率的な関数だな"
   ]
  },
  {
   "cell_type": "code",
   "execution_count": null,
   "metadata": {},
   "outputs": [],
   "source": []
  },
  {
   "cell_type": "code",
   "execution_count": 8,
   "metadata": {},
   "outputs": [],
   "source": [
    "# 意思決定モデルの性能評価を一気通貫で行うための`OffPolicyEvaluation`を定義する\n",
    "ope = OffPolicyEvaluation(\n",
    "    bandit_feedback=validation_data, # バリデーションデータ\n",
    "    ope_estimators=[IPS(estimator_name=\"IPS\"), DR()] # 使用する推定量\n",
    ")"
   ]
  },
  {
   "cell_type": "code",
   "execution_count": 9,
   "metadata": {},
   "outputs": [
    {
     "data": {
      "image/png": "[encoded data removed]",
      "text/plain": [
       "<Figure size 576x892.8 with 2 Axes>"
      ]
     },
     "metadata": {},
     "output_type": "display_data"
    }
   ],
   "source": [
    "# IPWLearner+ロジスティック回帰の性能をIPS推定量とDR推定量で評価\n",
    "ope.visualize_off_policy_estimates_of_multiple_policies(\n",
    "    policy_name_list=[\"IPWLearner\", \"Random\"],\n",
    "    action_dist_list=[\n",
    "        action_choice_by_ipw_learner, # IPWLearnerによるバリデーションデータに対する行動選択\n",
    "        action_choice_by_random, # ランダム意思決定モデルによるバリデーションデータに対する行動選択\n",
    "    ],\n",
    "    estimated_rewards_by_reg_model=estimated_rewards_by_reg_model, # DR推定量に必要な期待報酬推定値\n",
    "    random_state=12345,\n",
    ")"
   ]
  },
  {
   "cell_type": "markdown",
   "metadata": {},
   "source": [
    "### どの推定量を信じたとしても、IPWLearner(new_decision_making_model)がランダム意思決定モデル(random)の性能を上回るという結果が得られた"
   ]
  },
  {
   "cell_type": "markdown",
   "metadata": {},
   "source": [
    "### 4. 最後に2つの意思決定モデルの真の性能を確認する"
   ]
  },
  {
   "cell_type": "code",
   "execution_count": 10,
   "metadata": {},
   "outputs": [
    {
     "name": "stdout",
     "output_type": "stream",
     "text": [
      "IPWLearner+ロジスティック回帰の性能: 0.725425479831354\n",
      "ランダム意思決定モデルの性能: 0.6525795707041967\n"
     ]
    }
   ],
   "source": [
    "# ipw_learnerとrandomの真の性能を計算する\n",
    "# これは、`SyntheticBanditDataset`の`cal_ground_truth_policy_value`メソッドを呼び出すことで計算できる\n",
    "performance_of_ipw_learner = dataset.calc_ground_truth_policy_value(\n",
    "    expected_reward=validation_data['expected_reward'], # バリデーションデータにおける期待報酬\n",
    "    action_dist=action_choice_by_ipw_learner, # 評価対象の意思決定モデルによる行動選択確率\n",
    ")\n",
    "performance_of_random = dataset.calc_ground_truth_policy_value(\n",
    "    expected_reward=validation_data['expected_reward'], # バリデーションデータにおける期待報酬\n",
    "    action_dist=action_choice_by_random, # 評価対象の意思決定モデルによる行動選択確率\n",
    ")\n",
    "\n",
    "print(f'IPWLearner+ロジスティック回帰の性能: {performance_of_ipw_learner}')\n",
    "print(f'ランダム意思決定モデルの性能: {performance_of_random}')"
   ]
  },
  {
   "cell_type": "code",
   "execution_count": null,
   "metadata": {},
   "outputs": [],
   "source": []
  }
 ],
 "metadata": {
  "interpreter": {
   "hash": "0179470337d0da01265aacbae97f9e7b0116efe29a7e88412a61b2f5e9549d1a"
  },
  "kernelspec": {
   "display_name": "Python 3 (ipykernel)",
   "language": "python",
   "name": "python3"
  },
  "language_info": {
   "codemirror_mode": {
    "name": "ipython",
    "version": 3
   },
   "file_extension": ".py",
   "mimetype": "text/x-python",
   "name": "python",
   "nbconvert_exporter": "python",
   "pygments_lexer": "ipython3",
   "version": "3.9.6"
  },
  "metadata": {
   "interpreter": {
    "hash": "a588998c237fcc28dc215a10a422972d26151263dec0bff02e1a95f6e2b22b77"
   }
  }
 },
 "nbformat": 4,
 "nbformat_minor": 4
}
