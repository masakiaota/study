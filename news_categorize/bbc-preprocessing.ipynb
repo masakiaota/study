{
 "cells": [
  {
   "cell_type": "markdown",
   "metadata": {},
   "source": [
    "BBCの文章をpretained-bertに入力して、[CLF]のところの特徴量を抽出してデータフレームにするという前処理をするファイル"
   ]
  },
  {
   "cell_type": "code",
   "execution_count": 1,
   "metadata": {},
   "outputs": [],
   "source": [
    "import numpy as np\n",
    "import pandas as pd\n",
    "\n",
    "from IPython.core.interactiveshell import InteractiveShell\n",
    "InteractiveShell.ast_node_interactivity = \"all\"\n",
    "\n",
    "import joblib\n",
    "\n",
    "import matplotlib.pyplot as plt\n",
    "import seaborn as sns\n",
    "sns.set()\n",
    "%config InlineBackend.figure_formats = {'png', 'retina'}\n",
    "\n",
    "from tqdm import trange"
   ]
  },
  {
   "cell_type": "code",
   "execution_count": 2,
   "metadata": {},
   "outputs": [
    {
     "data": {
      "text/plain": [
       "(2225, 2)"
      ]
     },
     "execution_count": 2,
     "metadata": {},
     "output_type": "execute_result"
    },
    {
     "data": {
      "text/html": [
       "<div>\n",
       "<style scoped>\n",
       "    .dataframe tbody tr th:only-of-type {\n",
       "        vertical-align: middle;\n",
       "    }\n",
       "\n",
       "    .dataframe tbody tr th {\n",
       "        vertical-align: top;\n",
       "    }\n",
       "\n",
       "    .dataframe thead th {\n",
       "        text-align: right;\n",
       "    }\n",
       "</style>\n",
       "<table border=\"1\" class=\"dataframe\">\n",
       "  <thead>\n",
       "    <tr style=\"text-align: right;\">\n",
       "      <th></th>\n",
       "      <th>category</th>\n",
       "      <th>text</th>\n",
       "    </tr>\n",
       "  </thead>\n",
       "  <tbody>\n",
       "    <tr>\n",
       "      <th>0</th>\n",
       "      <td>tech</td>\n",
       "      <td>tv future in the hands of viewers with home th...</td>\n",
       "    </tr>\n",
       "    <tr>\n",
       "      <th>1</th>\n",
       "      <td>business</td>\n",
       "      <td>worldcom boss  left books alone  former worldc...</td>\n",
       "    </tr>\n",
       "    <tr>\n",
       "      <th>2</th>\n",
       "      <td>sport</td>\n",
       "      <td>tigers wary of farrell  gamble  leicester say ...</td>\n",
       "    </tr>\n",
       "    <tr>\n",
       "      <th>3</th>\n",
       "      <td>sport</td>\n",
       "      <td>yeading face newcastle in fa cup premiership s...</td>\n",
       "    </tr>\n",
       "    <tr>\n",
       "      <th>4</th>\n",
       "      <td>entertainment</td>\n",
       "      <td>ocean s twelve raids box office ocean s twelve...</td>\n",
       "    </tr>\n",
       "  </tbody>\n",
       "</table>\n",
       "</div>"
      ],
      "text/plain": [
       "        category                                               text\n",
       "0           tech  tv future in the hands of viewers with home th...\n",
       "1       business  worldcom boss  left books alone  former worldc...\n",
       "2          sport  tigers wary of farrell  gamble  leicester say ...\n",
       "3          sport  yeading face newcastle in fa cup premiership s...\n",
       "4  entertainment  ocean s twelve raids box office ocean s twelve..."
      ]
     },
     "execution_count": 2,
     "metadata": {},
     "output_type": "execute_result"
    }
   ],
   "source": [
    "df=pd.read_csv('data/bbc-text.csv')\n",
    "df.shape\n",
    "df.head()"
   ]
  },
  {
   "cell_type": "markdown",
   "metadata": {},
   "source": [
    "### ラベル情報の統計"
   ]
  },
  {
   "cell_type": "code",
   "execution_count": 3,
   "metadata": {},
   "outputs": [
    {
     "data": {
      "text/plain": [
       "<matplotlib.axes._subplots.AxesSubplot at 0x10e836518>"
      ]
     },
     "execution_count": 3,
     "metadata": {},
     "output_type": "execute_result"
    },
    {
     "data": {
      "image/png": "[encoded data removed]",
      "text/plain": [
       "<Figure size 432x288 with 1 Axes>"
      ]
     },
     "metadata": {
      "image/png": {
       "height": 308,
       "width": 376
      },
      "needs_background": "light"
     },
     "output_type": "display_data"
    }
   ],
   "source": [
    "df['category'].value_counts().plot.bar()"
   ]
  },
  {
   "cell_type": "markdown",
   "metadata": {},
   "source": [
    "### テキストの書き出し"
   ]
  },
  {
   "cell_type": "code",
   "execution_count": 4,
   "metadata": {},
   "outputs": [
    {
     "data": {
      "text/plain": [
       "'tv future in the hands of viewers with home theatre systems  plasma high-definition tvs  and digital video recorders moving into the living room  the way people watch tv will be radically different in five years  time.  that is according to an expert panel which gathered at the annual consumer electronics show in las vegas to discuss how these new technologies will impact one of our favourite pastimes. with the us leading the trend  programmes and other content will be delivered to viewers via home networks  through cable  satellite  telecoms companies  and broadband service providers to front rooms and portable devices.  one of the most talked-about technologies of ces has been digital and personal video recorders (dvr and pvr). these set-top boxes  like the us s tivo and the uk s sky+ system  allow people to record  store  play  pause and forward wind tv programmes when they want.  essentially  the technology allows for much more personalised tv. they are also being built-in to high-definition tv sets  which are big business in japan and the us  but slower to take off in europe because of the lack of high-definition programming. not only can people forward wind through adverts  they can also forget about abiding by network and channel schedules  putting together their own a-la-carte entertainment. but some us networks and cable and satellite companies are worried about what it means for them in terms of advertising revenues as well as  brand identity  and viewer loyalty to channels. although the us leads in this technology at the moment  it is also a concern that is being raised in europe  particularly with the growing uptake of services like sky+.  what happens here today  we will see in nine months to a years  time in the uk   adam hume  the bbc broadcast s futurologist told the bbc news website. for the likes of the bbc  there are no issues of lost advertising revenue yet. it is a more pressing issue at the moment for commercial uk broadcasters  but brand loyalty is important for everyone.  we will be talking more about content brands rather than network brands   said tim hanlon  from brand communications firm starcom mediavest.  the reality is that with broadband connections  anybody can be the producer of content.  he added:  the challenge now is that it is hard to promote a programme with so much choice.   what this means  said stacey jolna  senior vice president of tv guide tv group  is that the way people find the content they want to watch has to be simplified for tv viewers. it means that networks  in us terms  or channels could take a leaf out of google s book and be the search engine of the future  instead of the scheduler to help people find what they want to watch. this kind of channel model might work for the younger ipod generation which is used to taking control of their gadgets and what they play on them. but it might not suit everyone  the panel recognised. older generations are more comfortable with familiar schedules and channel brands because they know what they are getting. they perhaps do not want so much of the choice put into their hands  mr hanlon suggested.  on the other end  you have the kids just out of diapers who are pushing buttons already - everything is possible and available to them   said mr hanlon.  ultimately  the consumer will tell the market they want.   of the 50 000 new gadgets and technologies being showcased at ces  many of them are about enhancing the tv-watching experience. high-definition tv sets are everywhere and many new models of lcd (liquid crystal display) tvs have been launched with dvr capability built into them  instead of being external boxes. one such example launched at the show is humax s 26-inch lcd tv with an 80-hour tivo dvr and dvd recorder. one of the us s biggest satellite tv companies  directtv  has even launched its own branded dvr at the show with 100-hours of recording capability  instant replay  and a search function. the set can pause and rewind tv for up to 90 hours. and microsoft chief bill gates announced in his pre-show keynote speech a partnership with tivo  called tivotogo  which means people can play recorded programmes on windows pcs and mobile devices. all these reflect the increasing trend of freeing up multimedia so that people can watch what they want  when they want.'"
      ]
     },
     "execution_count": 4,
     "metadata": {},
     "output_type": "execute_result"
    }
   ],
   "source": [
    "centences=df['text']\n",
    "centences[0]\n",
    "#見ての通り一文にはなっていない"
   ]
  },
  {
   "cell_type": "raw",
   "metadata": {},
   "source": [
    "#BERTだとなんか容量食いすぎて一度に処理できないので、50文ずつ分けて処理を行う\n",
    "for i in range(0,len(centences),50):\n",
    "    if i+50>=len(centences):\n",
    "        centences[i:].to_csv('data/bbc_text_{}.txt'.format(i),index=False)\n",
    "    centences[i:i+50].to_csv('data/bbc_text_{}.txt'.format(i),index=False)"
   ]
  },
  {
   "cell_type": "markdown",
   "metadata": {},
   "source": [
    "### pretrain-bertを特徴抽出器として用いる"
   ]
  },
  {
   "cell_type": "raw",
   "metadata": {},
   "source": [
    "for i in range(0,len(centences),50):\n",
    "    command='python examples/extract_features.py --no_cuda --layers -1 --input_file data/bbc_text_{}.txt  --output_file data/bbc_features_{}.json --bert_model bert-base-uncased'\\\n",
    "    .format(i,i)\n",
    "    ! {command}"
   ]
  },
  {
   "cell_type": "markdown",
   "metadata": {},
   "source": [
    "### classificationのためのデータセットの作成"
   ]
  },
  {
   "cell_type": "code",
   "execution_count": 5,
   "metadata": {},
   "outputs": [],
   "source": [
    "def extract_clf_features(cell):\n",
    "    return pd.Series(cell[0]['layers'][0]['values'])"
   ]
  },
  {
   "cell_type": "code",
   "execution_count": 8,
   "metadata": {},
   "outputs": [],
   "source": [
    "def features_json_loader():\n",
    "    dfs=[]\n",
    "    for i in trange(0,len(centences),50):\n",
    "        df_tmp=pd.read_json('./data/bbc_features_{}.json'.format(i) ,lines=True)\n",
    "        s_tmp=df_tmp.loc[:,'features']\n",
    "        df_tmp=pd.DataFrame(s_tmp.apply(extract_clf_features))\n",
    "        df_tmp.index=range(i,i+len(s_tmp))\n",
    "        dfs.append(df_tmp)\n",
    "    return pd.concat(dfs)"
   ]
  },
  {
   "cell_type": "code",
   "execution_count": 9,
   "metadata": {},
   "outputs": [
    {
     "name": "stderr",
     "output_type": "stream",
     "text": [
      "100%|██████████| 45/45 [00:30<00:00,  1.74it/s]\n"
     ]
    }
   ],
   "source": [
    "feature_df=features_json_loader()"
   ]
  },
  {
   "cell_type": "code",
   "execution_count": 13,
   "metadata": {},
   "outputs": [
    {
     "data": {
      "text/html": [
       "<div>\n",
       "<style scoped>\n",
       "    .dataframe tbody tr th:only-of-type {\n",
       "        vertical-align: middle;\n",
       "    }\n",
       "\n",
       "    .dataframe tbody tr th {\n",
       "        vertical-align: top;\n",
       "    }\n",
       "\n",
       "    .dataframe thead th {\n",
       "        text-align: right;\n",
       "    }\n",
       "</style>\n",
       "<table border=\"1\" class=\"dataframe\">\n",
       "  <thead>\n",
       "    <tr style=\"text-align: right;\">\n",
       "      <th></th>\n",
       "      <th>0</th>\n",
       "      <th>1</th>\n",
       "      <th>2</th>\n",
       "      <th>3</th>\n",
       "      <th>4</th>\n",
       "      <th>5</th>\n",
       "      <th>6</th>\n",
       "      <th>7</th>\n",
       "      <th>8</th>\n",
       "      <th>9</th>\n",
       "      <th>...</th>\n",
       "      <th>758</th>\n",
       "      <th>759</th>\n",
       "      <th>760</th>\n",
       "      <th>761</th>\n",
       "      <th>762</th>\n",
       "      <th>763</th>\n",
       "      <th>764</th>\n",
       "      <th>765</th>\n",
       "      <th>766</th>\n",
       "      <th>767</th>\n",
       "    </tr>\n",
       "  </thead>\n",
       "  <tbody>\n",
       "    <tr>\n",
       "      <th>0</th>\n",
       "      <td>-0.273399</td>\n",
       "      <td>-0.080405</td>\n",
       "      <td>0.525637</td>\n",
       "      <td>-0.069822</td>\n",
       "      <td>-0.065952</td>\n",
       "      <td>-0.362005</td>\n",
       "      <td>-0.252148</td>\n",
       "      <td>0.907441</td>\n",
       "      <td>-0.175653</td>\n",
       "      <td>-0.556349</td>\n",
       "      <td>...</td>\n",
       "      <td>0.202796</td>\n",
       "      <td>-0.342327</td>\n",
       "      <td>0.156985</td>\n",
       "      <td>-0.538675</td>\n",
       "      <td>0.222728</td>\n",
       "      <td>0.366792</td>\n",
       "      <td>-0.314745</td>\n",
       "      <td>-0.492801</td>\n",
       "      <td>0.488872</td>\n",
       "      <td>0.257185</td>\n",
       "    </tr>\n",
       "    <tr>\n",
       "      <th>1</th>\n",
       "      <td>-0.225062</td>\n",
       "      <td>0.230627</td>\n",
       "      <td>-0.014016</td>\n",
       "      <td>-0.351334</td>\n",
       "      <td>0.583346</td>\n",
       "      <td>0.130343</td>\n",
       "      <td>-0.205661</td>\n",
       "      <td>0.058135</td>\n",
       "      <td>-0.066915</td>\n",
       "      <td>0.191623</td>\n",
       "      <td>...</td>\n",
       "      <td>0.493448</td>\n",
       "      <td>-0.531517</td>\n",
       "      <td>0.002541</td>\n",
       "      <td>-0.579783</td>\n",
       "      <td>-0.195158</td>\n",
       "      <td>0.285872</td>\n",
       "      <td>-0.190588</td>\n",
       "      <td>0.293731</td>\n",
       "      <td>0.692671</td>\n",
       "      <td>0.257362</td>\n",
       "    </tr>\n",
       "    <tr>\n",
       "      <th>2</th>\n",
       "      <td>-0.223140</td>\n",
       "      <td>-0.182229</td>\n",
       "      <td>0.198964</td>\n",
       "      <td>-0.587038</td>\n",
       "      <td>0.116019</td>\n",
       "      <td>-0.355480</td>\n",
       "      <td>0.262283</td>\n",
       "      <td>0.356748</td>\n",
       "      <td>-0.127987</td>\n",
       "      <td>-0.393936</td>\n",
       "      <td>...</td>\n",
       "      <td>0.822272</td>\n",
       "      <td>0.017393</td>\n",
       "      <td>0.444674</td>\n",
       "      <td>-0.586118</td>\n",
       "      <td>-0.224009</td>\n",
       "      <td>0.283355</td>\n",
       "      <td>0.007049</td>\n",
       "      <td>0.238280</td>\n",
       "      <td>0.607918</td>\n",
       "      <td>0.583781</td>\n",
       "    </tr>\n",
       "    <tr>\n",
       "      <th>3</th>\n",
       "      <td>-1.227587</td>\n",
       "      <td>-0.311005</td>\n",
       "      <td>0.324756</td>\n",
       "      <td>-0.160096</td>\n",
       "      <td>0.181778</td>\n",
       "      <td>-0.603752</td>\n",
       "      <td>-0.114064</td>\n",
       "      <td>0.098340</td>\n",
       "      <td>-0.080799</td>\n",
       "      <td>-0.143739</td>\n",
       "      <td>...</td>\n",
       "      <td>0.627725</td>\n",
       "      <td>-0.105906</td>\n",
       "      <td>0.331748</td>\n",
       "      <td>-0.793930</td>\n",
       "      <td>0.545979</td>\n",
       "      <td>0.334995</td>\n",
       "      <td>-0.424954</td>\n",
       "      <td>-0.544916</td>\n",
       "      <td>0.642600</td>\n",
       "      <td>0.270558</td>\n",
       "    </tr>\n",
       "    <tr>\n",
       "      <th>4</th>\n",
       "      <td>-0.120004</td>\n",
       "      <td>-0.082054</td>\n",
       "      <td>0.300280</td>\n",
       "      <td>-0.222195</td>\n",
       "      <td>-0.244158</td>\n",
       "      <td>-0.212468</td>\n",
       "      <td>-0.102699</td>\n",
       "      <td>0.087957</td>\n",
       "      <td>-0.012975</td>\n",
       "      <td>0.055390</td>\n",
       "      <td>...</td>\n",
       "      <td>0.196845</td>\n",
       "      <td>-0.051777</td>\n",
       "      <td>0.364250</td>\n",
       "      <td>-0.179219</td>\n",
       "      <td>0.360928</td>\n",
       "      <td>0.586258</td>\n",
       "      <td>-0.214748</td>\n",
       "      <td>-0.392782</td>\n",
       "      <td>0.688578</td>\n",
       "      <td>0.205861</td>\n",
       "    </tr>\n",
       "  </tbody>\n",
       "</table>\n",
       "<p>5 rows × 768 columns</p>\n",
       "</div>"
      ],
      "text/plain": [
       "        0         1         2         3         4         5         6    \\\n",
       "0 -0.273399 -0.080405  0.525637 -0.069822 -0.065952 -0.362005 -0.252148   \n",
       "1 -0.225062  0.230627 -0.014016 -0.351334  0.583346  0.130343 -0.205661   \n",
       "2 -0.223140 -0.182229  0.198964 -0.587038  0.116019 -0.355480  0.262283   \n",
       "3 -1.227587 -0.311005  0.324756 -0.160096  0.181778 -0.603752 -0.114064   \n",
       "4 -0.120004 -0.082054  0.300280 -0.222195 -0.244158 -0.212468 -0.102699   \n",
       "\n",
       "        7         8         9    ...       758       759       760       761  \\\n",
       "0  0.907441 -0.175653 -0.556349  ...  0.202796 -0.342327  0.156985 -0.538675   \n",
       "1  0.058135 -0.066915  0.191623  ...  0.493448 -0.531517  0.002541 -0.579783   \n",
       "2  0.356748 -0.127987 -0.393936  ...  0.822272  0.017393  0.444674 -0.586118   \n",
       "3  0.098340 -0.080799 -0.143739  ...  0.627725 -0.105906  0.331748 -0.793930   \n",
       "4  0.087957 -0.012975  0.055390  ...  0.196845 -0.051777  0.364250 -0.179219   \n",
       "\n",
       "        762       763       764       765       766       767  \n",
       "0  0.222728  0.366792 -0.314745 -0.492801  0.488872  0.257185  \n",
       "1 -0.195158  0.285872 -0.190588  0.293731  0.692671  0.257362  \n",
       "2 -0.224009  0.283355  0.007049  0.238280  0.607918  0.583781  \n",
       "3  0.545979  0.334995 -0.424954 -0.544916  0.642600  0.270558  \n",
       "4  0.360928  0.586258 -0.214748 -0.392782  0.688578  0.205861  \n",
       "\n",
       "[5 rows x 768 columns]"
      ]
     },
     "execution_count": 13,
     "metadata": {},
     "output_type": "execute_result"
    }
   ],
   "source": [
    "feature_df.head()"
   ]
  },
  {
   "cell_type": "code",
   "execution_count": 15,
   "metadata": {},
   "outputs": [
    {
     "data": {
      "text/html": [
       "<div>\n",
       "<style scoped>\n",
       "    .dataframe tbody tr th:only-of-type {\n",
       "        vertical-align: middle;\n",
       "    }\n",
       "\n",
       "    .dataframe tbody tr th {\n",
       "        vertical-align: top;\n",
       "    }\n",
       "\n",
       "    .dataframe thead th {\n",
       "        text-align: right;\n",
       "    }\n",
       "</style>\n",
       "<table border=\"1\" class=\"dataframe\">\n",
       "  <thead>\n",
       "    <tr style=\"text-align: right;\">\n",
       "      <th></th>\n",
       "      <th>0</th>\n",
       "      <th>1</th>\n",
       "      <th>2</th>\n",
       "      <th>3</th>\n",
       "      <th>4</th>\n",
       "      <th>5</th>\n",
       "      <th>6</th>\n",
       "      <th>7</th>\n",
       "      <th>8</th>\n",
       "      <th>9</th>\n",
       "      <th>...</th>\n",
       "      <th>759</th>\n",
       "      <th>760</th>\n",
       "      <th>761</th>\n",
       "      <th>762</th>\n",
       "      <th>763</th>\n",
       "      <th>764</th>\n",
       "      <th>765</th>\n",
       "      <th>766</th>\n",
       "      <th>767</th>\n",
       "      <th>category</th>\n",
       "    </tr>\n",
       "  </thead>\n",
       "  <tbody>\n",
       "    <tr>\n",
       "      <th>0</th>\n",
       "      <td>-0.273399</td>\n",
       "      <td>-0.080405</td>\n",
       "      <td>0.525637</td>\n",
       "      <td>-0.069822</td>\n",
       "      <td>-0.065952</td>\n",
       "      <td>-0.362005</td>\n",
       "      <td>-0.252148</td>\n",
       "      <td>0.907441</td>\n",
       "      <td>-0.175653</td>\n",
       "      <td>-0.556349</td>\n",
       "      <td>...</td>\n",
       "      <td>-0.342327</td>\n",
       "      <td>0.156985</td>\n",
       "      <td>-0.538675</td>\n",
       "      <td>0.222728</td>\n",
       "      <td>0.366792</td>\n",
       "      <td>-0.314745</td>\n",
       "      <td>-0.492801</td>\n",
       "      <td>0.488872</td>\n",
       "      <td>0.257185</td>\n",
       "      <td>tech</td>\n",
       "    </tr>\n",
       "    <tr>\n",
       "      <th>1</th>\n",
       "      <td>-0.225062</td>\n",
       "      <td>0.230627</td>\n",
       "      <td>-0.014016</td>\n",
       "      <td>-0.351334</td>\n",
       "      <td>0.583346</td>\n",
       "      <td>0.130343</td>\n",
       "      <td>-0.205661</td>\n",
       "      <td>0.058135</td>\n",
       "      <td>-0.066915</td>\n",
       "      <td>0.191623</td>\n",
       "      <td>...</td>\n",
       "      <td>-0.531517</td>\n",
       "      <td>0.002541</td>\n",
       "      <td>-0.579783</td>\n",
       "      <td>-0.195158</td>\n",
       "      <td>0.285872</td>\n",
       "      <td>-0.190588</td>\n",
       "      <td>0.293731</td>\n",
       "      <td>0.692671</td>\n",
       "      <td>0.257362</td>\n",
       "      <td>business</td>\n",
       "    </tr>\n",
       "    <tr>\n",
       "      <th>2</th>\n",
       "      <td>-0.223140</td>\n",
       "      <td>-0.182229</td>\n",
       "      <td>0.198964</td>\n",
       "      <td>-0.587038</td>\n",
       "      <td>0.116019</td>\n",
       "      <td>-0.355480</td>\n",
       "      <td>0.262283</td>\n",
       "      <td>0.356748</td>\n",
       "      <td>-0.127987</td>\n",
       "      <td>-0.393936</td>\n",
       "      <td>...</td>\n",
       "      <td>0.017393</td>\n",
       "      <td>0.444674</td>\n",
       "      <td>-0.586118</td>\n",
       "      <td>-0.224009</td>\n",
       "      <td>0.283355</td>\n",
       "      <td>0.007049</td>\n",
       "      <td>0.238280</td>\n",
       "      <td>0.607918</td>\n",
       "      <td>0.583781</td>\n",
       "      <td>sport</td>\n",
       "    </tr>\n",
       "    <tr>\n",
       "      <th>3</th>\n",
       "      <td>-1.227587</td>\n",
       "      <td>-0.311005</td>\n",
       "      <td>0.324756</td>\n",
       "      <td>-0.160096</td>\n",
       "      <td>0.181778</td>\n",
       "      <td>-0.603752</td>\n",
       "      <td>-0.114064</td>\n",
       "      <td>0.098340</td>\n",
       "      <td>-0.080799</td>\n",
       "      <td>-0.143739</td>\n",
       "      <td>...</td>\n",
       "      <td>-0.105906</td>\n",
       "      <td>0.331748</td>\n",
       "      <td>-0.793930</td>\n",
       "      <td>0.545979</td>\n",
       "      <td>0.334995</td>\n",
       "      <td>-0.424954</td>\n",
       "      <td>-0.544916</td>\n",
       "      <td>0.642600</td>\n",
       "      <td>0.270558</td>\n",
       "      <td>sport</td>\n",
       "    </tr>\n",
       "    <tr>\n",
       "      <th>4</th>\n",
       "      <td>-0.120004</td>\n",
       "      <td>-0.082054</td>\n",
       "      <td>0.300280</td>\n",
       "      <td>-0.222195</td>\n",
       "      <td>-0.244158</td>\n",
       "      <td>-0.212468</td>\n",
       "      <td>-0.102699</td>\n",
       "      <td>0.087957</td>\n",
       "      <td>-0.012975</td>\n",
       "      <td>0.055390</td>\n",
       "      <td>...</td>\n",
       "      <td>-0.051777</td>\n",
       "      <td>0.364250</td>\n",
       "      <td>-0.179219</td>\n",
       "      <td>0.360928</td>\n",
       "      <td>0.586258</td>\n",
       "      <td>-0.214748</td>\n",
       "      <td>-0.392782</td>\n",
       "      <td>0.688578</td>\n",
       "      <td>0.205861</td>\n",
       "      <td>entertainment</td>\n",
       "    </tr>\n",
       "  </tbody>\n",
       "</table>\n",
       "<p>5 rows × 769 columns</p>\n",
       "</div>"
      ],
      "text/plain": [
       "          0         1         2         3         4         5         6  \\\n",
       "0 -0.273399 -0.080405  0.525637 -0.069822 -0.065952 -0.362005 -0.252148   \n",
       "1 -0.225062  0.230627 -0.014016 -0.351334  0.583346  0.130343 -0.205661   \n",
       "2 -0.223140 -0.182229  0.198964 -0.587038  0.116019 -0.355480  0.262283   \n",
       "3 -1.227587 -0.311005  0.324756 -0.160096  0.181778 -0.603752 -0.114064   \n",
       "4 -0.120004 -0.082054  0.300280 -0.222195 -0.244158 -0.212468 -0.102699   \n",
       "\n",
       "          7         8         9  ...       759       760       761       762  \\\n",
       "0  0.907441 -0.175653 -0.556349  ... -0.342327  0.156985 -0.538675  0.222728   \n",
       "1  0.058135 -0.066915  0.191623  ... -0.531517  0.002541 -0.579783 -0.195158   \n",
       "2  0.356748 -0.127987 -0.393936  ...  0.017393  0.444674 -0.586118 -0.224009   \n",
       "3  0.098340 -0.080799 -0.143739  ... -0.105906  0.331748 -0.793930  0.545979   \n",
       "4  0.087957 -0.012975  0.055390  ... -0.051777  0.364250 -0.179219  0.360928   \n",
       "\n",
       "        763       764       765       766       767       category  \n",
       "0  0.366792 -0.314745 -0.492801  0.488872  0.257185           tech  \n",
       "1  0.285872 -0.190588  0.293731  0.692671  0.257362       business  \n",
       "2  0.283355  0.007049  0.238280  0.607918  0.583781          sport  \n",
       "3  0.334995 -0.424954 -0.544916  0.642600  0.270558          sport  \n",
       "4  0.586258 -0.214748 -0.392782  0.688578  0.205861  entertainment  \n",
       "\n",
       "[5 rows x 769 columns]"
      ]
     },
     "execution_count": 15,
     "metadata": {},
     "output_type": "execute_result"
    }
   ],
   "source": [
    "feature_df['category']=df['category']\n",
    "feature_df.head()"
   ]
  },
  {
   "cell_type": "code",
   "execution_count": 16,
   "metadata": {},
   "outputs": [],
   "source": [
    "#保存\n",
    "# feature_df.to_csv('./data/feature_dataframe.csv')"
   ]
  },
  {
   "cell_type": "code",
   "execution_count": null,
   "metadata": {},
   "outputs": [],
   "source": []
  }
 ],
 "metadata": {
  "kernelspec": {
   "display_name": "Python 3",
   "language": "python",
   "name": "python3"
  },
  "language_info": {
   "codemirror_mode": {
    "name": "ipython",
    "version": 3
   },
   "file_extension": ".py",
   "mimetype": "text/x-python",
   "name": "python",
   "nbconvert_exporter": "python",
   "pygments_lexer": "ipython3",
   "version": "3.6.2"
  }
 },
 "nbformat": 4,
 "nbformat_minor": 2
}
