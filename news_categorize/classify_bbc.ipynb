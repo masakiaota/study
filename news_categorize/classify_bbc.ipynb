{
 "cells": [
  {
   "cell_type": "code",
   "execution_count": 1,
   "metadata": {},
   "outputs": [],
   "source": [
    "from IPython.core.interactiveshell import InteractiveShell\n",
    "InteractiveShell.ast_node_interactivity = \"all\"\n",
    "\n",
    "import numpy as np\n",
    "import pandas as pd\n",
    "import joblib"
   ]
  },
  {
   "cell_type": "code",
   "execution_count": 2,
   "metadata": {},
   "outputs": [
    {
     "data": {
      "text/html": [
       "<div>\n",
       "<style scoped>\n",
       "    .dataframe tbody tr th:only-of-type {\n",
       "        vertical-align: middle;\n",
       "    }\n",
       "\n",
       "    .dataframe tbody tr th {\n",
       "        vertical-align: top;\n",
       "    }\n",
       "\n",
       "    .dataframe thead th {\n",
       "        text-align: right;\n",
       "    }\n",
       "</style>\n",
       "<table border=\"1\" class=\"dataframe\">\n",
       "  <thead>\n",
       "    <tr style=\"text-align: right;\">\n",
       "      <th></th>\n",
       "      <th>0</th>\n",
       "      <th>1</th>\n",
       "      <th>2</th>\n",
       "      <th>3</th>\n",
       "      <th>4</th>\n",
       "      <th>5</th>\n",
       "      <th>6</th>\n",
       "      <th>7</th>\n",
       "      <th>8</th>\n",
       "      <th>9</th>\n",
       "      <th>...</th>\n",
       "      <th>759</th>\n",
       "      <th>760</th>\n",
       "      <th>761</th>\n",
       "      <th>762</th>\n",
       "      <th>763</th>\n",
       "      <th>764</th>\n",
       "      <th>765</th>\n",
       "      <th>766</th>\n",
       "      <th>767</th>\n",
       "      <th>category</th>\n",
       "    </tr>\n",
       "  </thead>\n",
       "  <tbody>\n",
       "    <tr>\n",
       "      <th>0</th>\n",
       "      <td>-0.273399</td>\n",
       "      <td>-0.080405</td>\n",
       "      <td>0.525637</td>\n",
       "      <td>-0.069822</td>\n",
       "      <td>-0.065952</td>\n",
       "      <td>-0.362005</td>\n",
       "      <td>-0.252148</td>\n",
       "      <td>0.907441</td>\n",
       "      <td>-0.175653</td>\n",
       "      <td>-0.556349</td>\n",
       "      <td>...</td>\n",
       "      <td>-0.342327</td>\n",
       "      <td>0.156985</td>\n",
       "      <td>-0.538675</td>\n",
       "      <td>0.222728</td>\n",
       "      <td>0.366792</td>\n",
       "      <td>-0.314745</td>\n",
       "      <td>-0.492801</td>\n",
       "      <td>0.488872</td>\n",
       "      <td>0.257185</td>\n",
       "      <td>tech</td>\n",
       "    </tr>\n",
       "    <tr>\n",
       "      <th>1</th>\n",
       "      <td>-0.225062</td>\n",
       "      <td>0.230627</td>\n",
       "      <td>-0.014016</td>\n",
       "      <td>-0.351334</td>\n",
       "      <td>0.583346</td>\n",
       "      <td>0.130343</td>\n",
       "      <td>-0.205661</td>\n",
       "      <td>0.058135</td>\n",
       "      <td>-0.066915</td>\n",
       "      <td>0.191623</td>\n",
       "      <td>...</td>\n",
       "      <td>-0.531517</td>\n",
       "      <td>0.002541</td>\n",
       "      <td>-0.579783</td>\n",
       "      <td>-0.195158</td>\n",
       "      <td>0.285872</td>\n",
       "      <td>-0.190588</td>\n",
       "      <td>0.293731</td>\n",
       "      <td>0.692671</td>\n",
       "      <td>0.257362</td>\n",
       "      <td>business</td>\n",
       "    </tr>\n",
       "    <tr>\n",
       "      <th>2</th>\n",
       "      <td>-0.223140</td>\n",
       "      <td>-0.182229</td>\n",
       "      <td>0.198964</td>\n",
       "      <td>-0.587038</td>\n",
       "      <td>0.116019</td>\n",
       "      <td>-0.355480</td>\n",
       "      <td>0.262283</td>\n",
       "      <td>0.356748</td>\n",
       "      <td>-0.127987</td>\n",
       "      <td>-0.393936</td>\n",
       "      <td>...</td>\n",
       "      <td>0.017393</td>\n",
       "      <td>0.444674</td>\n",
       "      <td>-0.586118</td>\n",
       "      <td>-0.224009</td>\n",
       "      <td>0.283355</td>\n",
       "      <td>0.007049</td>\n",
       "      <td>0.238280</td>\n",
       "      <td>0.607918</td>\n",
       "      <td>0.583781</td>\n",
       "      <td>sport</td>\n",
       "    </tr>\n",
       "    <tr>\n",
       "      <th>3</th>\n",
       "      <td>-1.227587</td>\n",
       "      <td>-0.311005</td>\n",
       "      <td>0.324756</td>\n",
       "      <td>-0.160096</td>\n",
       "      <td>0.181778</td>\n",
       "      <td>-0.603752</td>\n",
       "      <td>-0.114064</td>\n",
       "      <td>0.098340</td>\n",
       "      <td>-0.080799</td>\n",
       "      <td>-0.143739</td>\n",
       "      <td>...</td>\n",
       "      <td>-0.105906</td>\n",
       "      <td>0.331748</td>\n",
       "      <td>-0.793930</td>\n",
       "      <td>0.545979</td>\n",
       "      <td>0.334995</td>\n",
       "      <td>-0.424954</td>\n",
       "      <td>-0.544916</td>\n",
       "      <td>0.642600</td>\n",
       "      <td>0.270558</td>\n",
       "      <td>sport</td>\n",
       "    </tr>\n",
       "    <tr>\n",
       "      <th>4</th>\n",
       "      <td>-0.120004</td>\n",
       "      <td>-0.082054</td>\n",
       "      <td>0.300280</td>\n",
       "      <td>-0.222195</td>\n",
       "      <td>-0.244158</td>\n",
       "      <td>-0.212468</td>\n",
       "      <td>-0.102699</td>\n",
       "      <td>0.087957</td>\n",
       "      <td>-0.012975</td>\n",
       "      <td>0.055390</td>\n",
       "      <td>...</td>\n",
       "      <td>-0.051777</td>\n",
       "      <td>0.364250</td>\n",
       "      <td>-0.179219</td>\n",
       "      <td>0.360928</td>\n",
       "      <td>0.586258</td>\n",
       "      <td>-0.214748</td>\n",
       "      <td>-0.392782</td>\n",
       "      <td>0.688578</td>\n",
       "      <td>0.205861</td>\n",
       "      <td>entertainment</td>\n",
       "    </tr>\n",
       "  </tbody>\n",
       "</table>\n",
       "<p>5 rows × 769 columns</p>\n",
       "</div>"
      ],
      "text/plain": [
       "          0         1         2         3         4         5         6  \\\n",
       "0 -0.273399 -0.080405  0.525637 -0.069822 -0.065952 -0.362005 -0.252148   \n",
       "1 -0.225062  0.230627 -0.014016 -0.351334  0.583346  0.130343 -0.205661   \n",
       "2 -0.223140 -0.182229  0.198964 -0.587038  0.116019 -0.355480  0.262283   \n",
       "3 -1.227587 -0.311005  0.324756 -0.160096  0.181778 -0.603752 -0.114064   \n",
       "4 -0.120004 -0.082054  0.300280 -0.222195 -0.244158 -0.212468 -0.102699   \n",
       "\n",
       "          7         8         9  ...       759       760       761       762  \\\n",
       "0  0.907441 -0.175653 -0.556349  ... -0.342327  0.156985 -0.538675  0.222728   \n",
       "1  0.058135 -0.066915  0.191623  ... -0.531517  0.002541 -0.579783 -0.195158   \n",
       "2  0.356748 -0.127987 -0.393936  ...  0.017393  0.444674 -0.586118 -0.224009   \n",
       "3  0.098340 -0.080799 -0.143739  ... -0.105906  0.331748 -0.793930  0.545979   \n",
       "4  0.087957 -0.012975  0.055390  ... -0.051777  0.364250 -0.179219  0.360928   \n",
       "\n",
       "        763       764       765       766       767       category  \n",
       "0  0.366792 -0.314745 -0.492801  0.488872  0.257185           tech  \n",
       "1  0.285872 -0.190588  0.293731  0.692671  0.257362       business  \n",
       "2  0.283355  0.007049  0.238280  0.607918  0.583781          sport  \n",
       "3  0.334995 -0.424954 -0.544916  0.642600  0.270558          sport  \n",
       "4  0.586258 -0.214748 -0.392782  0.688578  0.205861  entertainment  \n",
       "\n",
       "[5 rows x 769 columns]"
      ]
     },
     "execution_count": 2,
     "metadata": {},
     "output_type": "execute_result"
    }
   ],
   "source": [
    "df=pd.read_csv('./data/feature_dataframe.csv',index_col=0)\n",
    "df.head()"
   ]
  },
  {
   "cell_type": "code",
   "execution_count": 3,
   "metadata": {},
   "outputs": [],
   "source": [
    "target=df['category'].values\n",
    "data=df.drop('category',axis=1).values"
   ]
  },
  {
   "cell_type": "code",
   "execution_count": 4,
   "metadata": {},
   "outputs": [],
   "source": [
    "from sklearn.model_selection import StratifiedKFold, cross_val_score\n",
    "from sklearn.ensemble import RandomForestClassifier\n",
    "from sklearn.linear_model import LogisticRegression\n",
    "from sklearn.ensemble import ExtraTreesClassifier"
   ]
  },
  {
   "cell_type": "code",
   "execution_count": 5,
   "metadata": {},
   "outputs": [],
   "source": [
    "cv=StratifiedKFold(n_splits=5,shuffle=True,random_state=2019)"
   ]
  },
  {
   "cell_type": "code",
   "execution_count": 6,
   "metadata": {},
   "outputs": [
    {
     "name": "stderr",
     "output_type": "stream",
     "text": [
      "[Parallel(n_jobs=1)]: Using backend SequentialBackend with 1 concurrent workers.\n"
     ]
    },
    {
     "name": "stdout",
     "output_type": "stream",
     "text": [
      "[CV]  ................................................................\n",
      "[CV] ................................................. , total=  18.7s\n",
      "[CV]  ................................................................\n"
     ]
    },
    {
     "name": "stderr",
     "output_type": "stream",
     "text": [
      "[Parallel(n_jobs=1)]: Done   1 out of   1 | elapsed:   18.8s remaining:    0.0s\n"
     ]
    },
    {
     "name": "stdout",
     "output_type": "stream",
     "text": [
      "[CV] ................................................. , total=  16.9s\n",
      "[CV]  ................................................................\n",
      "[CV] ................................................. , total=  18.9s\n",
      "[CV]  ................................................................\n",
      "[CV] ................................................. , total=  18.1s\n",
      "[CV]  ................................................................\n",
      "[CV] ................................................. , total=  17.2s\n",
      "[0.93526786 0.95730337 0.95720721 0.95720721 0.95945946] 0.9532890203606496\n"
     ]
    },
    {
     "name": "stderr",
     "output_type": "stream",
     "text": [
      "[Parallel(n_jobs=1)]: Done   5 out of   5 | elapsed:  1.5min finished\n"
     ]
    }
   ],
   "source": [
    "clf=RandomForestClassifier(n_estimators=1000,n_jobs=2,random_state=1)\n",
    "result=cross_val_score(clf,data,target,cv=cv,n_jobs=1,verbose=2)\n",
    "print(result,result.mean())"
   ]
  },
  {
   "cell_type": "code",
   "execution_count": 7,
   "metadata": {},
   "outputs": [
    {
     "name": "stdout",
     "output_type": "stream",
     "text": [
      "[CV]  ................................................................\n"
     ]
    },
    {
     "name": "stderr",
     "output_type": "stream",
     "text": [
      "[Parallel(n_jobs=1)]: Using backend SequentialBackend with 1 concurrent workers.\n"
     ]
    },
    {
     "name": "stdout",
     "output_type": "stream",
     "text": [
      "[CV] ................................................. , total=   1.5s\n",
      "[CV]  ................................................................\n"
     ]
    },
    {
     "name": "stderr",
     "output_type": "stream",
     "text": [
      "[Parallel(n_jobs=1)]: Done   1 out of   1 | elapsed:    1.6s remaining:    0.0s\n"
     ]
    },
    {
     "name": "stdout",
     "output_type": "stream",
     "text": [
      "[CV] ................................................. , total=   2.1s\n",
      "[CV]  ................................................................\n",
      "[CV] ................................................. , total=   1.9s\n",
      "[CV]  ................................................................\n",
      "[CV] ................................................. , total=   2.1s\n",
      "[CV]  ................................................................\n",
      "[CV] ................................................. , total=   1.7s\n",
      "[0.95535714 0.98426966 0.95945946 0.96846847 0.97297297] 0.9681055413358785\n"
     ]
    },
    {
     "name": "stderr",
     "output_type": "stream",
     "text": [
      "[Parallel(n_jobs=1)]: Done   5 out of   5 | elapsed:    9.3s finished\n"
     ]
    }
   ],
   "source": [
    "clf=LogisticRegression(solver='newton-cg',multi_class='multinomial',random_state=1)\n",
    "result=cross_val_score(clf,data,target,cv=cv,n_jobs=1,verbose=2)\n",
    "print(result,result.mean())"
   ]
  },
  {
   "cell_type": "code",
   "execution_count": 8,
   "metadata": {},
   "outputs": [
    {
     "name": "stdout",
     "output_type": "stream",
     "text": [
      "[CV]  ................................................................\n"
     ]
    },
    {
     "name": "stderr",
     "output_type": "stream",
     "text": [
      "[Parallel(n_jobs=1)]: Using backend SequentialBackend with 1 concurrent workers.\n"
     ]
    },
    {
     "name": "stdout",
     "output_type": "stream",
     "text": [
      "[CV] ................................................. , total=   7.0s\n",
      "[CV]  ................................................................\n"
     ]
    },
    {
     "name": "stderr",
     "output_type": "stream",
     "text": [
      "[Parallel(n_jobs=1)]: Done   1 out of   1 | elapsed:    7.0s remaining:    0.0s\n"
     ]
    },
    {
     "name": "stdout",
     "output_type": "stream",
     "text": [
      "[CV] ................................................. , total=   6.8s\n",
      "[CV]  ................................................................\n",
      "[CV] ................................................. , total=   6.3s\n",
      "[CV]  ................................................................\n",
      "[CV] ................................................. , total=   6.3s\n",
      "[CV]  ................................................................\n",
      "[CV] ................................................. , total=   6.5s\n",
      "[0.94419643 0.95730337 0.95945946 0.95945946 0.96171171] 0.9564260859977154\n"
     ]
    },
    {
     "name": "stderr",
     "output_type": "stream",
     "text": [
      "[Parallel(n_jobs=1)]: Done   5 out of   5 | elapsed:   33.1s finished\n"
     ]
    }
   ],
   "source": [
    "clf=ExtraTreesClassifier(n_estimators=1000,n_jobs=2,random_state=2)\n",
    "result=cross_val_score(clf,data,target,cv=cv,verbose=2)\n",
    "print(result,result.mean())"
   ]
  },
  {
   "cell_type": "markdown",
   "metadata": {},
   "source": [
    "一応今回のロジスティック回帰の結果は、判別を試みていたkaggleのカーネルの中では一番精度がよい\n",
    "https://www.kaggle.com/yufengdev/bbc-fulltext-and-category"
   ]
  },
  {
   "cell_type": "code",
   "execution_count": null,
   "metadata": {},
   "outputs": [],
   "source": []
  }
 ],
 "metadata": {
  "kernelspec": {
   "display_name": "Python 3",
   "language": "python",
   "name": "python3"
  },
  "language_info": {
   "codemirror_mode": {
    "name": "ipython",
    "version": 3
   },
   "file_extension": ".py",
   "mimetype": "text/x-python",
   "name": "python",
   "nbconvert_exporter": "python",
   "pygments_lexer": "ipython3",
   "version": "3.6.2"
  }
 },
 "nbformat": 4,
 "nbformat_minor": 2
}
