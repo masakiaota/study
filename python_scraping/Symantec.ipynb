{
 "cells": [
  {
   "cell_type": "markdown",
   "metadata": {},
   "source": [
    "### Symantecのattack signatureページを読み込んで見る"
   ]
  },
  {
   "cell_type": "code",
   "execution_count": 1,
   "metadata": {},
   "outputs": [],
   "source": [
    "from urllib.request import urlopen\n",
    "from bs4 import BeautifulSoup \n",
    "import re\n",
    "\n",
    "html = urlopen('https://www.symantec.com/security_response/attacksignatures/')\n",
    "bs = BeautifulSoup(html, 'html.parser')"
   ]
  },
  {
   "cell_type": "code",
   "execution_count": 2,
   "metadata": {},
   "outputs": [
    {
     "data": {
      "text/plain": [
       "6459"
      ]
     },
     "execution_count": 2,
     "metadata": {},
     "output_type": "execute_result"
    }
   ],
   "source": [
    "#URLのリストを作成する\n",
    "def makeURL(link):\n",
    "    return 'https://www.symantec.com'+link\n",
    "\n",
    "links = bs.find('div', {'class': 'bckPadLG bckSolidWht unit'}).findAll('a',href=re.compile('^(/security_response/)'))\n",
    "URLs=[makeURL(l.attrs['href']) for l in links]\n",
    "len(URLs)"
   ]
  },
  {
   "cell_type": "code",
   "execution_count": null,
   "metadata": {},
   "outputs": [],
   "source": [
    "def get_attack_details(link):\n",
    "    '''\n",
    "    return title and bs object\n",
    "    '''\n",
    "    html = urlopen(link)\n",
    "    bs= BeautifulSoup(html, 'html.parser') \n",
    "    return {'name':bs.h1,\n",
    "            'contents':bs.find('div', {'class':'bckPadLG bckSolidWht unit'})}\n",
    "\n",
    "# get_attack_details(URLs[0])\n",
    "contents=[get_attack_details(l) for l in URLs]"
   ]
  },
  {
   "cell_type": "markdown",
   "metadata": {},
   "source": [
    "しかしここで、問題が発生した。exploit dateが見当たらないことである。論文中では活用されていたのになぜ..."
   ]
  },
  {
   "cell_type": "markdown",
   "metadata": {},
   "source": [
    "### Symantecの[security-center](https://www.symantec.com/security-center/a-z/E)からURLを取得してスクレーピングする\n",
    "URLの一覧はhttps://www.symantec.com/security-center/srlistingRssFeedXml/E.rss.feed から取得した方が楽そう"
   ]
  },
  {
   "cell_type": "code",
   "execution_count": 8,
   "metadata": {},
   "outputs": [],
   "source": [
    "from urllib.request import urlopen\n",
    "from bs4 import BeautifulSoup \n",
    "import re\n",
    "import lxml\n",
    "\n",
    "html = urlopen('https://www.symantec.com/security-center/srlistingRssFeedXml/E.rss.feed')\n",
    "bs = BeautifulSoup(html, 'xml')"
   ]
  },
  {
   "cell_type": "code",
   "execution_count": 25,
   "metadata": {},
   "outputs": [],
   "source": [
    "links=list(map(lambda x:x.get_text(),bs.find_all('link')))"
   ]
  },
  {
   "cell_type": "code",
   "execution_count": 28,
   "metadata": {},
   "outputs": [],
   "source": [
    "html = urlopen(links[100])\n",
    "bs = BeautifulSoup(html, 'html.parser')"
   ]
  },
  {
   "cell_type": "code",
   "execution_count": 90,
   "metadata": {},
   "outputs": [],
   "source": [
    "title = bs.h1.get_text()\n",
    "cve_ie=title[4:]\n",
    "exp_date = bs.find('section', {'class':\"content-band\"}).find(text=re.compile(r'.* \\d{2}, \\d{4}'))"
   ]
  },
  {
   "cell_type": "code",
   "execution_count": 92,
   "metadata": {},
   "outputs": [
    {
     "data": {
      "text/plain": [
       "('Exp.CVE-2015-0338', 'CVE-2015-0338', 'August 03, 2015')"
      ]
     },
     "execution_count": 92,
     "metadata": {},
     "output_type": "execute_result"
    }
   ],
   "source": [
    "title,cve_ie,exp_date"
   ]
  },
  {
   "cell_type": "markdown",
   "metadata": {},
   "source": [
    "他に収集すべき情報は？(教師データなので、CVE-IDと評価時に必要な日付情報だけあれば良い気もするが)"
   ]
  },
  {
   "cell_type": "code",
   "execution_count": null,
   "metadata": {},
   "outputs": [],
   "source": [
    "bs."
   ]
  },
  {
   "cell_type": "code",
   "execution_count": 30,
   "metadata": {},
   "outputs": [
    {
     "data": {
      "text/plain": [
       "'http://www.symantec.com/security_response/writeup.jsp?docid=2015-080322-5112-99&om_rssid=sr-'"
      ]
     },
     "execution_count": 30,
     "metadata": {},
     "output_type": "execute_result"
    }
   ],
   "source": [
    "links[100]"
   ]
  },
  {
   "cell_type": "code",
   "execution_count": null,
   "metadata": {},
   "outputs": [],
   "source": []
  }
 ],
 "metadata": {
  "kernelspec": {
   "display_name": "Python 3",
   "language": "python",
   "name": "python3"
  },
  "language_info": {
   "codemirror_mode": {
    "name": "ipython",
    "version": 3
   },
   "file_extension": ".py",
   "mimetype": "text/x-python",
   "name": "python",
   "nbconvert_exporter": "python",
   "pygments_lexer": "ipython3",
   "version": "3.6.7"
  }
 },
 "nbformat": 4,
 "nbformat_minor": 2
}
