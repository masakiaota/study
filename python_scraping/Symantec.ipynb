{
 "cells": [
  {
   "cell_type": "markdown",
   "metadata": {},
   "source": [
    "### Symantecのattack signatureページを読み込んで見る"
   ]
  },
  {
   "cell_type": "code",
   "execution_count": null,
   "metadata": {},
   "outputs": [],
   "source": [
    "from urllib.request import urlopen\n",
    "from bs4 import BeautifulSoup \n",
    "import re\n",
    "\n",
    "html = urlopen('https://www.symantec.com/security_response/attacksignatures/')\n",
    "bs = BeautifulSoup(html, 'html.parser')"
   ]
  },
  {
   "cell_type": "code",
   "execution_count": null,
   "metadata": {},
   "outputs": [],
   "source": [
    "#URLのリストを作成する\n",
    "def makeURL(link):\n",
    "    return 'https://www.symantec.com'+link\n",
    "\n",
    "links = bs.find('div', {'class': 'bckPadLG bckSolidWht unit'}).findAll('a',href=re.compile('^(/security_response/)'))\n",
    "URLs=[makeURL(l.attrs['href']) for l in links]\n",
    "len(URLs)"
   ]
  },
  {
   "cell_type": "code",
   "execution_count": null,
   "metadata": {},
   "outputs": [],
   "source": [
    "def get_attack_details(link):\n",
    "    '''\n",
    "    return title and bs object\n",
    "    '''\n",
    "    html = urlopen(link)\n",
    "    bs= BeautifulSoup(html, 'html.parser') \n",
    "    return {'name':bs.h1,\n",
    "            'contents':bs.find('div', {'class':'bckPadLG bckSolidWht unit'})}\n",
    "\n",
    "# get_attack_details(URLs[0])\n",
    "contents=[get_attack_details(l) for l in URLs]"
   ]
  },
  {
   "cell_type": "markdown",
   "metadata": {},
   "source": [
    "しかしここで、問題が発生した。exploit dateが見当たらないことである。論文中では活用されていたのになぜ..."
   ]
  },
  {
   "cell_type": "code",
   "execution_count": null,
   "metadata": {},
   "outputs": [],
   "source": []
  }
 ],
 "metadata": {
  "kernelspec": {
   "display_name": "Python 3",
   "language": "python",
   "name": "python3"
  },
  "language_info": {
   "codemirror_mode": {
    "name": "ipython",
    "version": 3
   },
   "file_extension": ".py",
   "mimetype": "text/x-python",
   "name": "python",
   "nbconvert_exporter": "python",
   "pygments_lexer": "ipython3",
   "version": "3.6.7"
  }
 },
 "nbformat": 4,
 "nbformat_minor": 2
}
